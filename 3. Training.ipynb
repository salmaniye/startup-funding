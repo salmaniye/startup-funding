{
 "cells": [
  {
   "cell_type": "code",
   "metadata": {
    "tags": [],
    "cell_id": "aa5ea3af-cb0b-4bac-bd3f-2a7270f0bbff",
    "deepnote_to_be_reexecuted": false,
    "source_hash": "f96550c6",
    "execution_start": 1651606437789,
    "execution_millis": 1184,
    "deepnote_cell_type": "code",
    "deepnote_cell_height": 315
   },
   "source": "import pandas as pd\nimport numpy as np\nimport ast\nimport json\nimport pickle\n\nfrom sklearn.linear_model import LinearRegression as LR\nfrom sklearn.naive_bayes import CategoricalNB as CatNB\nfrom sklearn.svm import SVR\nfrom sklearn.tree import DecisionTreeRegressor as DTR\n\nfrom sklearn.model_selection import GridSearchCV\n\nfrom sklearn.metrics import r2_score, mean_squared_error",
   "outputs": [],
   "execution_count": null
  },
  {
   "cell_type": "markdown",
   "source": "## Loading training data",
   "metadata": {
    "cell_id": "375197e4d8af45429965cf049f8adeae",
    "tags": [],
    "is_collapsed": false,
    "deepnote_cell_type": "text-cell-h2"
   }
  },
  {
   "cell_type": "code",
   "metadata": {
    "cell_id": "b344d53b007846b19b07996153931017",
    "tags": [],
    "deepnote_to_be_reexecuted": false,
    "source_hash": "f461aae5",
    "execution_start": 1651606438981,
    "execution_millis": 55,
    "deepnote_cell_type": "code",
    "deepnote_cell_height": 693
   },
   "source": "# reads string and evaluates str(string), if true then it will return back the string\ndef parse_tuple(string):\n    try:\n        s = ast.literal_eval(str(string))\n        if type(s) == tuple:\n            return s\n        return\n    except:\n        return\n\n\n# reads json files, for features, from outputs of other notebooks\n# name update dictionaries \nwith open('params/investor_country_name_grouping.json') as json_file:\n    investor_country_name_dict = json.load(json_file)\n\nwith open('params/startup_country_name_grouping.json') as json_file:\n    startup_country_name_dict = json.load(json_file)\n\nwith open('params/investor_name_grouping.json') as json_file:\n    investor_name_dict = json.load(json_file)\n\n\n# index dictionaries\nwith open('params/rounds_index.json') as json_file:\n    rounds_index = json.load(json_file)\n\nwith open('params/investor_country_round_index.json') as json_file:\n    investor_country_round_index = json.load(json_file)\n\nwith open('params/startup_country_round_index.json') as json_file:\n    startup_country_round_index = json.load(json_file)\n\nwith open('params/investors_rounds.json') as json_file:\n    investors_rounds_index = json.load(json_file)",
   "outputs": [],
   "execution_count": null
  },
  {
   "cell_type": "code",
   "metadata": {
    "cell_id": "731d5739d4e142c5b2324d9ababe0251",
    "tags": [],
    "deepnote_to_be_reexecuted": false,
    "source_hash": "172a986d",
    "execution_start": 1651606439043,
    "execution_millis": 1258,
    "deepnote_cell_type": "code",
    "deepnote_cell_height": 99
   },
   "source": "data = pd.read_csv('splitted data/rounds_training.csv') # dataframe from the training dataset of the rounds csv\ninvestment = pd.read_csv('splitted data/investments_training.csv') # investment dataset dataframe",
   "outputs": [],
   "execution_count": null
  },
  {
   "cell_type": "code",
   "metadata": {
    "cell_id": "173b802ce35a42079c83b008089f994f",
    "tags": [],
    "deepnote_to_be_reexecuted": false,
    "source_hash": "4dcd1d0d",
    "execution_start": 1651606440309,
    "execution_millis": 72,
    "deepnote_cell_type": "code",
    "deepnote_cell_height": 154,
    "deepnote_output_heights": [
     21
    ]
   },
   "source": "data = data[data['raised_amount_usd'].notnull()].copy() # removing nulls\ndata = data[data['raised_amount_usd'] >= 50000].copy() # arbitrary threshold for the funding\ndata.shape",
   "outputs": [
    {
     "output_type": "execute_result",
     "execution_count": 4,
     "data": {
      "text/plain": "(69616, 13)"
     },
     "metadata": {}
    }
   ],
   "execution_count": null
  },
  {
   "cell_type": "code",
   "metadata": {
    "cell_id": "c8eca59302444967950bdd9ee4b41729",
    "tags": [],
    "deepnote_to_be_reexecuted": false,
    "source_hash": "5db26cd",
    "execution_start": 1651606440388,
    "execution_millis": 183,
    "deepnote_cell_type": "code",
    "deepnote_cell_height": 464
   },
   "source": "# merge the investment dataframe with rounds dataframe\ndata_merged = data.merge(investment[['investor_name', 'investor_country_code', 'funding_round_permalink']]\n                ,how = 'inner', on = 'funding_round_permalink')\ndata_merged.head()",
   "outputs": [
    {
     "output_type": "execute_result",
     "execution_count": 5,
     "data": {
      "application/vnd.deepnote.dataframe.v3+json": {
       "column_count": 15,
       "row_count": 5,
       "columns": [
        {
         "name": "company_permalink",
         "dtype": "object",
         "stats": {
          "unique_count": 3,
          "nan_count": 0,
          "categories": [
           {
            "name": "/organization/1000-markets",
            "count": 3
           },
           {
            "name": "/organization/0-6-com",
            "count": 1
           },
           {
            "name": "/organization/1-mainstream",
            "count": 1
           }
          ]
         }
        },
        {
         "name": "company_name",
         "dtype": "object",
         "stats": {
          "unique_count": 3,
          "nan_count": 0,
          "categories": [
           {
            "name": "1000 Markets",
            "count": 3
           },
           {
            "name": "0-6.com",
            "count": 1
           },
           {
            "name": "1 Mainstream",
            "count": 1
           }
          ]
         }
        },
        {
         "name": "company_category_list",
         "dtype": "object",
         "stats": {
          "unique_count": 3,
          "nan_count": 0,
          "categories": [
           {
            "name": "Art|E-Commerce|Marketplaces",
            "count": 3
           },
           {
            "name": "Curated Web",
            "count": 1
           },
           {
            "name": "Apps|Cable|Distribution|Software",
            "count": 1
           }
          ]
         }
        },
        {
         "name": "company_country_code",
         "dtype": "object",
         "stats": {
          "unique_count": 2,
          "nan_count": 0,
          "categories": [
           {
            "name": "USA",
            "count": 4
           },
           {
            "name": "CHN",
            "count": 1
           }
          ]
         }
        },
        {
         "name": "company_state_code",
         "dtype": "object",
         "stats": {
          "unique_count": 3,
          "nan_count": 0,
          "categories": [
           {
            "name": "WA",
            "count": 3
           },
           {
            "name": "22",
            "count": 1
           },
           {
            "name": "CA",
            "count": 1
           }
          ]
         }
        },
        {
         "name": "company_region",
         "dtype": "object",
         "stats": {
          "unique_count": 3,
          "nan_count": 0,
          "categories": [
           {
            "name": "Seattle",
            "count": 3
           },
           {
            "name": "Beijing",
            "count": 1
           },
           {
            "name": "SF Bay Area",
            "count": 1
           }
          ]
         }
        },
        {
         "name": "company_city",
         "dtype": "object",
         "stats": {
          "unique_count": 3,
          "nan_count": 0,
          "categories": [
           {
            "name": "Seattle",
            "count": 3
           },
           {
            "name": "Beijing",
            "count": 1
           },
           {
            "name": "Cupertino",
            "count": 1
           }
          ]
         }
        },
        {
         "name": "funding_round_permalink",
         "dtype": "object",
         "stats": {
          "unique_count": 3,
          "nan_count": 0,
          "categories": [
           {
            "name": "/funding-round/ce6749b6441f52ccaf38b6d5578779fd",
            "count": 3
           },
           {
            "name": "/funding-round/5727accaeaa57461bd22a9bdd945382d",
            "count": 1
           },
           {
            "name": "/funding-round/b952cbaf401f310927430c97b68162ea",
            "count": 1
           }
          ]
         }
        },
        {
         "name": "funding_round_type",
         "dtype": "object",
         "stats": {
          "unique_count": 2,
          "nan_count": 0,
          "categories": [
           {
            "name": "seed",
            "count": 3
           },
           {
            "name": "venture",
            "count": 2
           }
          ]
         }
        },
        {
         "name": "funding_round_code",
         "dtype": "object",
         "stats": {
          "unique_count": 1,
          "nan_count": 4,
          "categories": [
           {
            "name": "A",
            "count": 1
           },
           {
            "name": "Missing",
            "count": 4
           }
          ]
         }
        },
        {
         "name": "funded_at",
         "dtype": "object",
         "stats": {
          "unique_count": 3,
          "nan_count": 0,
          "categories": [
           {
            "name": "2009-05-15",
            "count": 3
           },
           {
            "name": "2008-03-19",
            "count": 1
           },
           {
            "name": "2015-03-17",
            "count": 1
           }
          ]
         }
        },
        {
         "name": "raised_amount_usd",
         "dtype": "float64",
         "stats": {
          "unique_count": 3,
          "nan_count": 0,
          "min": "500000.0",
          "max": "5000000.0",
          "histogram": [
           {
            "bin_start": 500000,
            "bin_end": 950000,
            "count": 3
           },
           {
            "bin_start": 950000,
            "bin_end": 1400000,
            "count": 0
           },
           {
            "bin_start": 1400000,
            "bin_end": 1850000,
            "count": 0
           },
           {
            "bin_start": 1850000,
            "bin_end": 2300000,
            "count": 1
           },
           {
            "bin_start": 2300000,
            "bin_end": 2750000,
            "count": 0
           },
           {
            "bin_start": 2750000,
            "bin_end": 3200000,
            "count": 0
           },
           {
            "bin_start": 3200000,
            "bin_end": 3650000,
            "count": 0
           },
           {
            "bin_start": 3650000,
            "bin_end": 4100000,
            "count": 0
           },
           {
            "bin_start": 4100000,
            "bin_end": 4550000,
            "count": 0
           },
           {
            "bin_start": 4550000,
            "bin_end": 5000000,
            "count": 1
           }
          ]
         }
        },
        {
         "name": "funding_round",
         "dtype": "object",
         "stats": {
          "unique_count": 3,
          "nan_count": 0,
          "categories": [
           {
            "name": "seed",
            "count": 3
           },
           {
            "name": "venture A",
            "count": 1
           },
           {
            "name": "venture",
            "count": 1
           }
          ]
         }
        },
        {
         "name": "investor_name",
         "dtype": "object",
         "stats": {
          "unique_count": 5,
          "nan_count": 0,
          "categories": [
           {
            "name": "DT Capital Partners",
            "count": 1
           },
           {
            "name": "Sky",
            "count": 1
           },
           {
            "name": "3 others",
            "count": 3
           }
          ]
         }
        },
        {
         "name": "investor_country_code",
         "dtype": "object",
         "stats": {
          "unique_count": 2,
          "nan_count": 1,
          "categories": [
           {
            "name": "USA",
            "count": 3
           },
           {
            "name": "CHN",
            "count": 1
           },
           {
            "name": "Missing",
            "count": 1
           }
          ]
         }
        },
        {
         "name": "_deepnote_index_column",
         "dtype": "int64"
        }
       ],
       "rows": [
        {
         "company_permalink": "/organization/0-6-com",
         "company_name": "0-6.com",
         "company_category_list": "Curated Web",
         "company_country_code": "CHN",
         "company_state_code": "22",
         "company_region": "Beijing",
         "company_city": "Beijing",
         "funding_round_permalink": "/funding-round/5727accaeaa57461bd22a9bdd945382d",
         "funding_round_type": "venture",
         "funding_round_code": "A",
         "funded_at": "2008-03-19",
         "raised_amount_usd": 2000000,
         "funding_round": "venture A",
         "investor_name": "DT Capital Partners",
         "investor_country_code": "CHN",
         "_deepnote_index_column": 0
        },
        {
         "company_permalink": "/organization/1-mainstream",
         "company_name": "1 Mainstream",
         "company_category_list": "Apps|Cable|Distribution|Software",
         "company_country_code": "USA",
         "company_state_code": "CA",
         "company_region": "SF Bay Area",
         "company_city": "Cupertino",
         "funding_round_permalink": "/funding-round/b952cbaf401f310927430c97b68162ea",
         "funding_round_type": "venture",
         "funding_round_code": "nan",
         "funded_at": "2015-03-17",
         "raised_amount_usd": 5000000,
         "funding_round": "venture",
         "investor_name": "Sky",
         "investor_country_code": "nan",
         "_deepnote_index_column": 1
        },
        {
         "company_permalink": "/organization/1000-markets",
         "company_name": "1000 Markets",
         "company_category_list": "Art|E-Commerce|Marketplaces",
         "company_country_code": "USA",
         "company_state_code": "WA",
         "company_region": "Seattle",
         "company_city": "Seattle",
         "funding_round_permalink": "/funding-round/ce6749b6441f52ccaf38b6d5578779fd",
         "funding_round_type": "seed",
         "funding_round_code": "nan",
         "funded_at": "2009-05-15",
         "raised_amount_usd": 500000,
         "funding_round": "seed",
         "investor_name": "FF Angel LLC",
         "investor_country_code": "USA",
         "_deepnote_index_column": 2
        },
        {
         "company_permalink": "/organization/1000-markets",
         "company_name": "1000 Markets",
         "company_category_list": "Art|E-Commerce|Marketplaces",
         "company_country_code": "USA",
         "company_state_code": "WA",
         "company_region": "Seattle",
         "company_city": "Seattle",
         "funding_round_permalink": "/funding-round/ce6749b6441f52ccaf38b6d5578779fd",
         "funding_round_type": "seed",
         "funding_round_code": "nan",
         "funded_at": "2009-05-15",
         "raised_amount_usd": 500000,
         "funding_round": "seed",
         "investor_name": "True Ventures",
         "investor_country_code": "USA",
         "_deepnote_index_column": 3
        },
        {
         "company_permalink": "/organization/1000-markets",
         "company_name": "1000 Markets",
         "company_category_list": "Art|E-Commerce|Marketplaces",
         "company_country_code": "USA",
         "company_state_code": "WA",
         "company_region": "Seattle",
         "company_city": "Seattle",
         "funding_round_permalink": "/funding-round/ce6749b6441f52ccaf38b6d5578779fd",
         "funding_round_type": "seed",
         "funding_round_code": "nan",
         "funded_at": "2009-05-15",
         "raised_amount_usd": 500000,
         "funding_round": "seed",
         "investor_name": "Jon Callaghan",
         "investor_country_code": "USA",
         "_deepnote_index_column": 4
        }
       ]
      },
      "text/plain": "            company_permalink  company_name             company_category_list  \\\n0       /organization/0-6-com       0-6.com                       Curated Web   \n1  /organization/1-mainstream  1 Mainstream  Apps|Cable|Distribution|Software   \n2  /organization/1000-markets  1000 Markets       Art|E-Commerce|Marketplaces   \n3  /organization/1000-markets  1000 Markets       Art|E-Commerce|Marketplaces   \n4  /organization/1000-markets  1000 Markets       Art|E-Commerce|Marketplaces   \n\n  company_country_code company_state_code company_region company_city  \\\n0                  CHN                 22        Beijing      Beijing   \n1                  USA                 CA    SF Bay Area    Cupertino   \n2                  USA                 WA        Seattle      Seattle   \n3                  USA                 WA        Seattle      Seattle   \n4                  USA                 WA        Seattle      Seattle   \n\n                           funding_round_permalink funding_round_type  \\\n0  /funding-round/5727accaeaa57461bd22a9bdd945382d            venture   \n1  /funding-round/b952cbaf401f310927430c97b68162ea            venture   \n2  /funding-round/ce6749b6441f52ccaf38b6d5578779fd               seed   \n3  /funding-round/ce6749b6441f52ccaf38b6d5578779fd               seed   \n4  /funding-round/ce6749b6441f52ccaf38b6d5578779fd               seed   \n\n  funding_round_code   funded_at  raised_amount_usd funding_round  \\\n0                  A  2008-03-19          2000000.0     venture A   \n1                NaN  2015-03-17          5000000.0       venture   \n2                NaN  2009-05-15           500000.0          seed   \n3                NaN  2009-05-15           500000.0          seed   \n4                NaN  2009-05-15           500000.0          seed   \n\n         investor_name investor_country_code  \n0  DT Capital Partners                   CHN  \n1                  Sky                   NaN  \n2         FF Angel LLC                   USA  \n3        True Ventures                   USA  \n4        Jon Callaghan                   USA  ",
      "text/html": "<div>\n<style scoped>\n    .dataframe tbody tr th:only-of-type {\n        vertical-align: middle;\n    }\n\n    .dataframe tbody tr th {\n        vertical-align: top;\n    }\n\n    .dataframe thead th {\n        text-align: right;\n    }\n</style>\n<table border=\"1\" class=\"dataframe\">\n  <thead>\n    <tr style=\"text-align: right;\">\n      <th></th>\n      <th>company_permalink</th>\n      <th>company_name</th>\n      <th>company_category_list</th>\n      <th>company_country_code</th>\n      <th>company_state_code</th>\n      <th>company_region</th>\n      <th>company_city</th>\n      <th>funding_round_permalink</th>\n      <th>funding_round_type</th>\n      <th>funding_round_code</th>\n      <th>funded_at</th>\n      <th>raised_amount_usd</th>\n      <th>funding_round</th>\n      <th>investor_name</th>\n      <th>investor_country_code</th>\n    </tr>\n  </thead>\n  <tbody>\n    <tr>\n      <th>0</th>\n      <td>/organization/0-6-com</td>\n      <td>0-6.com</td>\n      <td>Curated Web</td>\n      <td>CHN</td>\n      <td>22</td>\n      <td>Beijing</td>\n      <td>Beijing</td>\n      <td>/funding-round/5727accaeaa57461bd22a9bdd945382d</td>\n      <td>venture</td>\n      <td>A</td>\n      <td>2008-03-19</td>\n      <td>2000000.0</td>\n      <td>venture A</td>\n      <td>DT Capital Partners</td>\n      <td>CHN</td>\n    </tr>\n    <tr>\n      <th>1</th>\n      <td>/organization/1-mainstream</td>\n      <td>1 Mainstream</td>\n      <td>Apps|Cable|Distribution|Software</td>\n      <td>USA</td>\n      <td>CA</td>\n      <td>SF Bay Area</td>\n      <td>Cupertino</td>\n      <td>/funding-round/b952cbaf401f310927430c97b68162ea</td>\n      <td>venture</td>\n      <td>NaN</td>\n      <td>2015-03-17</td>\n      <td>5000000.0</td>\n      <td>venture</td>\n      <td>Sky</td>\n      <td>NaN</td>\n    </tr>\n    <tr>\n      <th>2</th>\n      <td>/organization/1000-markets</td>\n      <td>1000 Markets</td>\n      <td>Art|E-Commerce|Marketplaces</td>\n      <td>USA</td>\n      <td>WA</td>\n      <td>Seattle</td>\n      <td>Seattle</td>\n      <td>/funding-round/ce6749b6441f52ccaf38b6d5578779fd</td>\n      <td>seed</td>\n      <td>NaN</td>\n      <td>2009-05-15</td>\n      <td>500000.0</td>\n      <td>seed</td>\n      <td>FF Angel LLC</td>\n      <td>USA</td>\n    </tr>\n    <tr>\n      <th>3</th>\n      <td>/organization/1000-markets</td>\n      <td>1000 Markets</td>\n      <td>Art|E-Commerce|Marketplaces</td>\n      <td>USA</td>\n      <td>WA</td>\n      <td>Seattle</td>\n      <td>Seattle</td>\n      <td>/funding-round/ce6749b6441f52ccaf38b6d5578779fd</td>\n      <td>seed</td>\n      <td>NaN</td>\n      <td>2009-05-15</td>\n      <td>500000.0</td>\n      <td>seed</td>\n      <td>True Ventures</td>\n      <td>USA</td>\n    </tr>\n    <tr>\n      <th>4</th>\n      <td>/organization/1000-markets</td>\n      <td>1000 Markets</td>\n      <td>Art|E-Commerce|Marketplaces</td>\n      <td>USA</td>\n      <td>WA</td>\n      <td>Seattle</td>\n      <td>Seattle</td>\n      <td>/funding-round/ce6749b6441f52ccaf38b6d5578779fd</td>\n      <td>seed</td>\n      <td>NaN</td>\n      <td>2009-05-15</td>\n      <td>500000.0</td>\n      <td>seed</td>\n      <td>Jon Callaghan</td>\n      <td>USA</td>\n    </tr>\n  </tbody>\n</table>\n</div>"
     },
     "metadata": {}
    }
   ],
   "execution_count": null
  },
  {
   "cell_type": "code",
   "metadata": {
    "cell_id": "102fab33592b4e5db98d0dbe405a7216",
    "tags": [],
    "deepnote_to_be_reexecuted": false,
    "source_hash": "b6eadd15",
    "execution_start": 1651606440574,
    "execution_millis": 59,
    "deepnote_cell_type": "code",
    "deepnote_cell_height": 136,
    "deepnote_output_heights": [
     21
    ]
   },
   "source": "data_merged = data_merged[data_merged['investor_country_code'].notnull()] # removes nulls\ndata_merged.shape",
   "outputs": [
    {
     "output_type": "execute_result",
     "execution_count": 6,
     "data": {
      "text/plain": "(92231, 15)"
     },
     "metadata": {}
    }
   ],
   "execution_count": null
  },
  {
   "cell_type": "markdown",
   "source": "## 1.1. Applying Investor Country Name grouping",
   "metadata": {
    "cell_id": "ba34622a941240abaa0848da5d1d9aee",
    "tags": [],
    "deepnote_cell_type": "markdown",
    "deepnote_cell_height": 70
   }
  },
  {
   "cell_type": "code",
   "metadata": {
    "cell_id": "af759bead1ca49ccb39f328f27f15a4c",
    "tags": [],
    "deepnote_to_be_reexecuted": false,
    "source_hash": "3687c6e0",
    "execution_start": 1651606440652,
    "execution_millis": 47,
    "deepnote_cell_type": "code",
    "deepnote_cell_height": 446
   },
   "source": "# merge investor_country_code with the dictionary from the json files, which will replace countries to \"OTHER\"\ndata_merged.loc[:,'investor_country_code'] = data_merged['investor_country_code'].apply(lambda x: investor_country_name_dict['investor_country_name_new'][x])\ndata_merged.head()",
   "outputs": [
    {
     "output_type": "execute_result",
     "execution_count": 7,
     "data": {
      "application/vnd.deepnote.dataframe.v3+json": {
       "column_count": 15,
       "row_count": 5,
       "columns": [
        {
         "name": "company_permalink",
         "dtype": "object",
         "stats": {
          "unique_count": 3,
          "nan_count": 0,
          "categories": [
           {
            "name": "/organization/1000-markets",
            "count": 3
           },
           {
            "name": "/organization/0-6-com",
            "count": 1
           },
           {
            "name": "/organization/1000chi",
            "count": 1
           }
          ]
         }
        },
        {
         "name": "company_name",
         "dtype": "object",
         "stats": {
          "unique_count": 3,
          "nan_count": 0,
          "categories": [
           {
            "name": "1000 Markets",
            "count": 3
           },
           {
            "name": "0-6.com",
            "count": 1
           },
           {
            "name": "Beijing 1000CHI Software Technology",
            "count": 1
           }
          ]
         }
        },
        {
         "name": "company_category_list",
         "dtype": "object",
         "stats": {
          "unique_count": 3,
          "nan_count": 0,
          "categories": [
           {
            "name": "Art|E-Commerce|Marketplaces",
            "count": 3
           },
           {
            "name": "Curated Web",
            "count": 1
           },
           {
            "name": "Mobile",
            "count": 1
           }
          ]
         }
        },
        {
         "name": "company_country_code",
         "dtype": "object",
         "stats": {
          "unique_count": 2,
          "nan_count": 1,
          "categories": [
           {
            "name": "USA",
            "count": 3
           },
           {
            "name": "CHN",
            "count": 1
           },
           {
            "name": "Missing",
            "count": 1
           }
          ]
         }
        },
        {
         "name": "company_state_code",
         "dtype": "object",
         "stats": {
          "unique_count": 2,
          "nan_count": 1,
          "categories": [
           {
            "name": "WA",
            "count": 3
           },
           {
            "name": "22",
            "count": 1
           },
           {
            "name": "Missing",
            "count": 1
           }
          ]
         }
        },
        {
         "name": "company_region",
         "dtype": "object",
         "stats": {
          "unique_count": 2,
          "nan_count": 1,
          "categories": [
           {
            "name": "Seattle",
            "count": 3
           },
           {
            "name": "Beijing",
            "count": 1
           },
           {
            "name": "Missing",
            "count": 1
           }
          ]
         }
        },
        {
         "name": "company_city",
         "dtype": "object",
         "stats": {
          "unique_count": 2,
          "nan_count": 1,
          "categories": [
           {
            "name": "Seattle",
            "count": 3
           },
           {
            "name": "Beijing",
            "count": 1
           },
           {
            "name": "Missing",
            "count": 1
           }
          ]
         }
        },
        {
         "name": "funding_round_permalink",
         "dtype": "object",
         "stats": {
          "unique_count": 3,
          "nan_count": 0,
          "categories": [
           {
            "name": "/funding-round/ce6749b6441f52ccaf38b6d5578779fd",
            "count": 3
           },
           {
            "name": "/funding-round/5727accaeaa57461bd22a9bdd945382d",
            "count": 1
           },
           {
            "name": "/funding-round/854fae13c5b26b2ea6b32b06c2e5890c",
            "count": 1
           }
          ]
         }
        },
        {
         "name": "funding_round_type",
         "dtype": "object",
         "stats": {
          "unique_count": 3,
          "nan_count": 0,
          "categories": [
           {
            "name": "seed",
            "count": 3
           },
           {
            "name": "venture",
            "count": 1
           },
           {
            "name": "angel",
            "count": 1
           }
          ]
         }
        },
        {
         "name": "funding_round_code",
         "dtype": "object",
         "stats": {
          "unique_count": 1,
          "nan_count": 4,
          "categories": [
           {
            "name": "A",
            "count": 1
           },
           {
            "name": "Missing",
            "count": 4
           }
          ]
         }
        },
        {
         "name": "funded_at",
         "dtype": "object",
         "stats": {
          "unique_count": 3,
          "nan_count": 0,
          "categories": [
           {
            "name": "2009-05-15",
            "count": 3
           },
           {
            "name": "2008-03-19",
            "count": 1
           },
           {
            "name": "2010-04-01",
            "count": 1
           }
          ]
         }
        },
        {
         "name": "raised_amount_usd",
         "dtype": "float64",
         "stats": {
          "unique_count": 3,
          "nan_count": 0,
          "min": "500000.0",
          "max": "43923865.0",
          "histogram": [
           {
            "bin_start": 500000,
            "bin_end": 4842386.5,
            "count": 4
           },
           {
            "bin_start": 4842386.5,
            "bin_end": 9184773,
            "count": 0
           },
           {
            "bin_start": 9184773,
            "bin_end": 13527159.5,
            "count": 0
           },
           {
            "bin_start": 13527159.5,
            "bin_end": 17869546,
            "count": 0
           },
           {
            "bin_start": 17869546,
            "bin_end": 22211932.5,
            "count": 0
           },
           {
            "bin_start": 22211932.5,
            "bin_end": 26554319,
            "count": 0
           },
           {
            "bin_start": 26554319,
            "bin_end": 30896705.5,
            "count": 0
           },
           {
            "bin_start": 30896705.5,
            "bin_end": 35239092,
            "count": 0
           },
           {
            "bin_start": 35239092,
            "bin_end": 39581478.5,
            "count": 0
           },
           {
            "bin_start": 39581478.5,
            "bin_end": 43923865,
            "count": 1
           }
          ]
         }
        },
        {
         "name": "funding_round",
         "dtype": "object",
         "stats": {
          "unique_count": 3,
          "nan_count": 0,
          "categories": [
           {
            "name": "seed",
            "count": 3
           },
           {
            "name": "venture A",
            "count": 1
           },
           {
            "name": "angel",
            "count": 1
           }
          ]
         }
        },
        {
         "name": "investor_name",
         "dtype": "object",
         "stats": {
          "unique_count": 5,
          "nan_count": 0,
          "categories": [
           {
            "name": "DT Capital Partners",
            "count": 1
           },
           {
            "name": "FF Angel LLC",
            "count": 1
           },
           {
            "name": "3 others",
            "count": 3
           }
          ]
         }
        },
        {
         "name": "investor_country_code",
         "dtype": "object",
         "stats": {
          "unique_count": 2,
          "nan_count": 0,
          "categories": [
           {
            "name": "USA",
            "count": 3
           },
           {
            "name": "CHN",
            "count": 2
           }
          ]
         }
        },
        {
         "name": "_deepnote_index_column",
         "dtype": "int64"
        }
       ],
       "rows": [
        {
         "company_permalink": "/organization/0-6-com",
         "company_name": "0-6.com",
         "company_category_list": "Curated Web",
         "company_country_code": "CHN",
         "company_state_code": "22",
         "company_region": "Beijing",
         "company_city": "Beijing",
         "funding_round_permalink": "/funding-round/5727accaeaa57461bd22a9bdd945382d",
         "funding_round_type": "venture",
         "funding_round_code": "A",
         "funded_at": "2008-03-19",
         "raised_amount_usd": 2000000,
         "funding_round": "venture A",
         "investor_name": "DT Capital Partners",
         "investor_country_code": "CHN",
         "_deepnote_index_column": 0
        },
        {
         "company_permalink": "/organization/1000-markets",
         "company_name": "1000 Markets",
         "company_category_list": "Art|E-Commerce|Marketplaces",
         "company_country_code": "USA",
         "company_state_code": "WA",
         "company_region": "Seattle",
         "company_city": "Seattle",
         "funding_round_permalink": "/funding-round/ce6749b6441f52ccaf38b6d5578779fd",
         "funding_round_type": "seed",
         "funding_round_code": "nan",
         "funded_at": "2009-05-15",
         "raised_amount_usd": 500000,
         "funding_round": "seed",
         "investor_name": "FF Angel LLC",
         "investor_country_code": "USA",
         "_deepnote_index_column": 2
        },
        {
         "company_permalink": "/organization/1000-markets",
         "company_name": "1000 Markets",
         "company_category_list": "Art|E-Commerce|Marketplaces",
         "company_country_code": "USA",
         "company_state_code": "WA",
         "company_region": "Seattle",
         "company_city": "Seattle",
         "funding_round_permalink": "/funding-round/ce6749b6441f52ccaf38b6d5578779fd",
         "funding_round_type": "seed",
         "funding_round_code": "nan",
         "funded_at": "2009-05-15",
         "raised_amount_usd": 500000,
         "funding_round": "seed",
         "investor_name": "True Ventures",
         "investor_country_code": "USA",
         "_deepnote_index_column": 3
        },
        {
         "company_permalink": "/organization/1000-markets",
         "company_name": "1000 Markets",
         "company_category_list": "Art|E-Commerce|Marketplaces",
         "company_country_code": "USA",
         "company_state_code": "WA",
         "company_region": "Seattle",
         "company_city": "Seattle",
         "funding_round_permalink": "/funding-round/ce6749b6441f52ccaf38b6d5578779fd",
         "funding_round_type": "seed",
         "funding_round_code": "nan",
         "funded_at": "2009-05-15",
         "raised_amount_usd": 500000,
         "funding_round": "seed",
         "investor_name": "Jon Callaghan",
         "investor_country_code": "USA",
         "_deepnote_index_column": 4
        },
        {
         "company_permalink": "/organization/1000chi",
         "company_name": "Beijing 1000CHI Software Technology",
         "company_category_list": "Mobile",
         "company_country_code": "nan",
         "company_state_code": "nan",
         "company_region": "nan",
         "company_city": "nan",
         "funding_round_permalink": "/funding-round/854fae13c5b26b2ea6b32b06c2e5890c",
         "funding_round_type": "angel",
         "funding_round_code": "nan",
         "funded_at": "2010-04-01",
         "raised_amount_usd": 43923865,
         "funding_round": "angel",
         "investor_name": "Sina Weibo",
         "investor_country_code": "CHN",
         "_deepnote_index_column": 5
        }
       ]
      },
      "text/plain": "            company_permalink                         company_name  \\\n0       /organization/0-6-com                              0-6.com   \n2  /organization/1000-markets                         1000 Markets   \n3  /organization/1000-markets                         1000 Markets   \n4  /organization/1000-markets                         1000 Markets   \n5       /organization/1000chi  Beijing 1000CHI Software Technology   \n\n         company_category_list company_country_code company_state_code  \\\n0                  Curated Web                  CHN                 22   \n2  Art|E-Commerce|Marketplaces                  USA                 WA   \n3  Art|E-Commerce|Marketplaces                  USA                 WA   \n4  Art|E-Commerce|Marketplaces                  USA                 WA   \n5                       Mobile                  NaN                NaN   \n\n  company_region company_city  \\\n0        Beijing      Beijing   \n2        Seattle      Seattle   \n3        Seattle      Seattle   \n4        Seattle      Seattle   \n5            NaN          NaN   \n\n                           funding_round_permalink funding_round_type  \\\n0  /funding-round/5727accaeaa57461bd22a9bdd945382d            venture   \n2  /funding-round/ce6749b6441f52ccaf38b6d5578779fd               seed   \n3  /funding-round/ce6749b6441f52ccaf38b6d5578779fd               seed   \n4  /funding-round/ce6749b6441f52ccaf38b6d5578779fd               seed   \n5  /funding-round/854fae13c5b26b2ea6b32b06c2e5890c              angel   \n\n  funding_round_code   funded_at  raised_amount_usd funding_round  \\\n0                  A  2008-03-19          2000000.0     venture A   \n2                NaN  2009-05-15           500000.0          seed   \n3                NaN  2009-05-15           500000.0          seed   \n4                NaN  2009-05-15           500000.0          seed   \n5                NaN  2010-04-01         43923865.0         angel   \n\n         investor_name investor_country_code  \n0  DT Capital Partners                   CHN  \n2         FF Angel LLC                   USA  \n3        True Ventures                   USA  \n4        Jon Callaghan                   USA  \n5           Sina Weibo                   CHN  ",
      "text/html": "<div>\n<style scoped>\n    .dataframe tbody tr th:only-of-type {\n        vertical-align: middle;\n    }\n\n    .dataframe tbody tr th {\n        vertical-align: top;\n    }\n\n    .dataframe thead th {\n        text-align: right;\n    }\n</style>\n<table border=\"1\" class=\"dataframe\">\n  <thead>\n    <tr style=\"text-align: right;\">\n      <th></th>\n      <th>company_permalink</th>\n      <th>company_name</th>\n      <th>company_category_list</th>\n      <th>company_country_code</th>\n      <th>company_state_code</th>\n      <th>company_region</th>\n      <th>company_city</th>\n      <th>funding_round_permalink</th>\n      <th>funding_round_type</th>\n      <th>funding_round_code</th>\n      <th>funded_at</th>\n      <th>raised_amount_usd</th>\n      <th>funding_round</th>\n      <th>investor_name</th>\n      <th>investor_country_code</th>\n    </tr>\n  </thead>\n  <tbody>\n    <tr>\n      <th>0</th>\n      <td>/organization/0-6-com</td>\n      <td>0-6.com</td>\n      <td>Curated Web</td>\n      <td>CHN</td>\n      <td>22</td>\n      <td>Beijing</td>\n      <td>Beijing</td>\n      <td>/funding-round/5727accaeaa57461bd22a9bdd945382d</td>\n      <td>venture</td>\n      <td>A</td>\n      <td>2008-03-19</td>\n      <td>2000000.0</td>\n      <td>venture A</td>\n      <td>DT Capital Partners</td>\n      <td>CHN</td>\n    </tr>\n    <tr>\n      <th>2</th>\n      <td>/organization/1000-markets</td>\n      <td>1000 Markets</td>\n      <td>Art|E-Commerce|Marketplaces</td>\n      <td>USA</td>\n      <td>WA</td>\n      <td>Seattle</td>\n      <td>Seattle</td>\n      <td>/funding-round/ce6749b6441f52ccaf38b6d5578779fd</td>\n      <td>seed</td>\n      <td>NaN</td>\n      <td>2009-05-15</td>\n      <td>500000.0</td>\n      <td>seed</td>\n      <td>FF Angel LLC</td>\n      <td>USA</td>\n    </tr>\n    <tr>\n      <th>3</th>\n      <td>/organization/1000-markets</td>\n      <td>1000 Markets</td>\n      <td>Art|E-Commerce|Marketplaces</td>\n      <td>USA</td>\n      <td>WA</td>\n      <td>Seattle</td>\n      <td>Seattle</td>\n      <td>/funding-round/ce6749b6441f52ccaf38b6d5578779fd</td>\n      <td>seed</td>\n      <td>NaN</td>\n      <td>2009-05-15</td>\n      <td>500000.0</td>\n      <td>seed</td>\n      <td>True Ventures</td>\n      <td>USA</td>\n    </tr>\n    <tr>\n      <th>4</th>\n      <td>/organization/1000-markets</td>\n      <td>1000 Markets</td>\n      <td>Art|E-Commerce|Marketplaces</td>\n      <td>USA</td>\n      <td>WA</td>\n      <td>Seattle</td>\n      <td>Seattle</td>\n      <td>/funding-round/ce6749b6441f52ccaf38b6d5578779fd</td>\n      <td>seed</td>\n      <td>NaN</td>\n      <td>2009-05-15</td>\n      <td>500000.0</td>\n      <td>seed</td>\n      <td>Jon Callaghan</td>\n      <td>USA</td>\n    </tr>\n    <tr>\n      <th>5</th>\n      <td>/organization/1000chi</td>\n      <td>Beijing 1000CHI Software Technology</td>\n      <td>Mobile</td>\n      <td>NaN</td>\n      <td>NaN</td>\n      <td>NaN</td>\n      <td>NaN</td>\n      <td>/funding-round/854fae13c5b26b2ea6b32b06c2e5890c</td>\n      <td>angel</td>\n      <td>NaN</td>\n      <td>2010-04-01</td>\n      <td>43923865.0</td>\n      <td>angel</td>\n      <td>Sina Weibo</td>\n      <td>CHN</td>\n    </tr>\n  </tbody>\n</table>\n</div>"
     },
     "metadata": {}
    }
   ],
   "execution_count": null
  },
  {
   "cell_type": "code",
   "metadata": {
    "cell_id": "b1e252379ee1418b912ed0f9d82d132a",
    "tags": [],
    "deepnote_to_be_reexecuted": false,
    "source_hash": "57b095b9",
    "execution_start": 1651606440706,
    "execution_millis": 17,
    "deepnote_cell_type": "code",
    "deepnote_cell_height": 99
   },
   "source": "# Dropping OTHERs from the investor country code\ndata_merged = data_merged[data_merged[\"investor_country_code\"]!=\"OTHER\"]",
   "outputs": [],
   "execution_count": null
  },
  {
   "cell_type": "markdown",
   "source": "## 1.2. Applying Investor Name grouping",
   "metadata": {
    "cell_id": "3330452383834671a5f64a49b5f22ffc",
    "tags": [],
    "deepnote_cell_type": "markdown",
    "deepnote_cell_height": 70
   }
  },
  {
   "cell_type": "code",
   "metadata": {
    "cell_id": "17b7bd30b2394a618cc05d00dbac8f77",
    "tags": [],
    "deepnote_to_be_reexecuted": false,
    "source_hash": "ac91be4f",
    "execution_start": 1651606440787,
    "execution_millis": 26,
    "deepnote_cell_type": "code",
    "deepnote_cell_height": 446
   },
   "source": "# update some investor names as 'Other'\ndata_merged.loc[:,'investor_name'] = data_merged['investor_name'].apply(lambda x: investor_name_dict[x])\ndata_merged.head()",
   "outputs": [
    {
     "output_type": "execute_result",
     "execution_count": 9,
     "data": {
      "application/vnd.deepnote.dataframe.v3+json": {
       "column_count": 15,
       "row_count": 5,
       "columns": [
        {
         "name": "company_permalink",
         "dtype": "object",
         "stats": {
          "unique_count": 3,
          "nan_count": 0,
          "categories": [
           {
            "name": "/organization/1000-markets",
            "count": 3
           },
           {
            "name": "/organization/0-6-com",
            "count": 1
           },
           {
            "name": "/organization/1000chi",
            "count": 1
           }
          ]
         }
        },
        {
         "name": "company_name",
         "dtype": "object",
         "stats": {
          "unique_count": 3,
          "nan_count": 0,
          "categories": [
           {
            "name": "1000 Markets",
            "count": 3
           },
           {
            "name": "0-6.com",
            "count": 1
           },
           {
            "name": "Beijing 1000CHI Software Technology",
            "count": 1
           }
          ]
         }
        },
        {
         "name": "company_category_list",
         "dtype": "object",
         "stats": {
          "unique_count": 3,
          "nan_count": 0,
          "categories": [
           {
            "name": "Art|E-Commerce|Marketplaces",
            "count": 3
           },
           {
            "name": "Curated Web",
            "count": 1
           },
           {
            "name": "Mobile",
            "count": 1
           }
          ]
         }
        },
        {
         "name": "company_country_code",
         "dtype": "object",
         "stats": {
          "unique_count": 2,
          "nan_count": 1,
          "categories": [
           {
            "name": "USA",
            "count": 3
           },
           {
            "name": "CHN",
            "count": 1
           },
           {
            "name": "Missing",
            "count": 1
           }
          ]
         }
        },
        {
         "name": "company_state_code",
         "dtype": "object",
         "stats": {
          "unique_count": 2,
          "nan_count": 1,
          "categories": [
           {
            "name": "WA",
            "count": 3
           },
           {
            "name": "22",
            "count": 1
           },
           {
            "name": "Missing",
            "count": 1
           }
          ]
         }
        },
        {
         "name": "company_region",
         "dtype": "object",
         "stats": {
          "unique_count": 2,
          "nan_count": 1,
          "categories": [
           {
            "name": "Seattle",
            "count": 3
           },
           {
            "name": "Beijing",
            "count": 1
           },
           {
            "name": "Missing",
            "count": 1
           }
          ]
         }
        },
        {
         "name": "company_city",
         "dtype": "object",
         "stats": {
          "unique_count": 2,
          "nan_count": 1,
          "categories": [
           {
            "name": "Seattle",
            "count": 3
           },
           {
            "name": "Beijing",
            "count": 1
           },
           {
            "name": "Missing",
            "count": 1
           }
          ]
         }
        },
        {
         "name": "funding_round_permalink",
         "dtype": "object",
         "stats": {
          "unique_count": 3,
          "nan_count": 0,
          "categories": [
           {
            "name": "/funding-round/ce6749b6441f52ccaf38b6d5578779fd",
            "count": 3
           },
           {
            "name": "/funding-round/5727accaeaa57461bd22a9bdd945382d",
            "count": 1
           },
           {
            "name": "/funding-round/854fae13c5b26b2ea6b32b06c2e5890c",
            "count": 1
           }
          ]
         }
        },
        {
         "name": "funding_round_type",
         "dtype": "object",
         "stats": {
          "unique_count": 3,
          "nan_count": 0,
          "categories": [
           {
            "name": "seed",
            "count": 3
           },
           {
            "name": "venture",
            "count": 1
           },
           {
            "name": "angel",
            "count": 1
           }
          ]
         }
        },
        {
         "name": "funding_round_code",
         "dtype": "object",
         "stats": {
          "unique_count": 1,
          "nan_count": 4,
          "categories": [
           {
            "name": "A",
            "count": 1
           },
           {
            "name": "Missing",
            "count": 4
           }
          ]
         }
        },
        {
         "name": "funded_at",
         "dtype": "object",
         "stats": {
          "unique_count": 3,
          "nan_count": 0,
          "categories": [
           {
            "name": "2009-05-15",
            "count": 3
           },
           {
            "name": "2008-03-19",
            "count": 1
           },
           {
            "name": "2010-04-01",
            "count": 1
           }
          ]
         }
        },
        {
         "name": "raised_amount_usd",
         "dtype": "float64",
         "stats": {
          "unique_count": 3,
          "nan_count": 0,
          "min": "500000.0",
          "max": "43923865.0",
          "histogram": [
           {
            "bin_start": 500000,
            "bin_end": 4842386.5,
            "count": 4
           },
           {
            "bin_start": 4842386.5,
            "bin_end": 9184773,
            "count": 0
           },
           {
            "bin_start": 9184773,
            "bin_end": 13527159.5,
            "count": 0
           },
           {
            "bin_start": 13527159.5,
            "bin_end": 17869546,
            "count": 0
           },
           {
            "bin_start": 17869546,
            "bin_end": 22211932.5,
            "count": 0
           },
           {
            "bin_start": 22211932.5,
            "bin_end": 26554319,
            "count": 0
           },
           {
            "bin_start": 26554319,
            "bin_end": 30896705.5,
            "count": 0
           },
           {
            "bin_start": 30896705.5,
            "bin_end": 35239092,
            "count": 0
           },
           {
            "bin_start": 35239092,
            "bin_end": 39581478.5,
            "count": 0
           },
           {
            "bin_start": 39581478.5,
            "bin_end": 43923865,
            "count": 1
           }
          ]
         }
        },
        {
         "name": "funding_round",
         "dtype": "object",
         "stats": {
          "unique_count": 3,
          "nan_count": 0,
          "categories": [
           {
            "name": "seed",
            "count": 3
           },
           {
            "name": "venture A",
            "count": 1
           },
           {
            "name": "angel",
            "count": 1
           }
          ]
         }
        },
        {
         "name": "investor_name",
         "dtype": "object",
         "stats": {
          "unique_count": 5,
          "nan_count": 0,
          "categories": [
           {
            "name": "DT Capital Partners",
            "count": 1
           },
           {
            "name": "FF Angel LLC",
            "count": 1
           },
           {
            "name": "3 others",
            "count": 3
           }
          ]
         }
        },
        {
         "name": "investor_country_code",
         "dtype": "object",
         "stats": {
          "unique_count": 2,
          "nan_count": 0,
          "categories": [
           {
            "name": "USA",
            "count": 3
           },
           {
            "name": "CHN",
            "count": 2
           }
          ]
         }
        },
        {
         "name": "_deepnote_index_column",
         "dtype": "int64"
        }
       ],
       "rows": [
        {
         "company_permalink": "/organization/0-6-com",
         "company_name": "0-6.com",
         "company_category_list": "Curated Web",
         "company_country_code": "CHN",
         "company_state_code": "22",
         "company_region": "Beijing",
         "company_city": "Beijing",
         "funding_round_permalink": "/funding-round/5727accaeaa57461bd22a9bdd945382d",
         "funding_round_type": "venture",
         "funding_round_code": "A",
         "funded_at": "2008-03-19",
         "raised_amount_usd": 2000000,
         "funding_round": "venture A",
         "investor_name": "DT Capital Partners",
         "investor_country_code": "CHN",
         "_deepnote_index_column": 0
        },
        {
         "company_permalink": "/organization/1000-markets",
         "company_name": "1000 Markets",
         "company_category_list": "Art|E-Commerce|Marketplaces",
         "company_country_code": "USA",
         "company_state_code": "WA",
         "company_region": "Seattle",
         "company_city": "Seattle",
         "funding_round_permalink": "/funding-round/ce6749b6441f52ccaf38b6d5578779fd",
         "funding_round_type": "seed",
         "funding_round_code": "nan",
         "funded_at": "2009-05-15",
         "raised_amount_usd": 500000,
         "funding_round": "seed",
         "investor_name": "FF Angel LLC",
         "investor_country_code": "USA",
         "_deepnote_index_column": 2
        },
        {
         "company_permalink": "/organization/1000-markets",
         "company_name": "1000 Markets",
         "company_category_list": "Art|E-Commerce|Marketplaces",
         "company_country_code": "USA",
         "company_state_code": "WA",
         "company_region": "Seattle",
         "company_city": "Seattle",
         "funding_round_permalink": "/funding-round/ce6749b6441f52ccaf38b6d5578779fd",
         "funding_round_type": "seed",
         "funding_round_code": "nan",
         "funded_at": "2009-05-15",
         "raised_amount_usd": 500000,
         "funding_round": "seed",
         "investor_name": "True Ventures",
         "investor_country_code": "USA",
         "_deepnote_index_column": 3
        },
        {
         "company_permalink": "/organization/1000-markets",
         "company_name": "1000 Markets",
         "company_category_list": "Art|E-Commerce|Marketplaces",
         "company_country_code": "USA",
         "company_state_code": "WA",
         "company_region": "Seattle",
         "company_city": "Seattle",
         "funding_round_permalink": "/funding-round/ce6749b6441f52ccaf38b6d5578779fd",
         "funding_round_type": "seed",
         "funding_round_code": "nan",
         "funded_at": "2009-05-15",
         "raised_amount_usd": 500000,
         "funding_round": "seed",
         "investor_name": "Jon Callaghan",
         "investor_country_code": "USA",
         "_deepnote_index_column": 4
        },
        {
         "company_permalink": "/organization/1000chi",
         "company_name": "Beijing 1000CHI Software Technology",
         "company_category_list": "Mobile",
         "company_country_code": "nan",
         "company_state_code": "nan",
         "company_region": "nan",
         "company_city": "nan",
         "funding_round_permalink": "/funding-round/854fae13c5b26b2ea6b32b06c2e5890c",
         "funding_round_type": "angel",
         "funding_round_code": "nan",
         "funded_at": "2010-04-01",
         "raised_amount_usd": 43923865,
         "funding_round": "angel",
         "investor_name": "Other",
         "investor_country_code": "CHN",
         "_deepnote_index_column": 5
        }
       ]
      },
      "text/plain": "            company_permalink                         company_name  \\\n0       /organization/0-6-com                              0-6.com   \n2  /organization/1000-markets                         1000 Markets   \n3  /organization/1000-markets                         1000 Markets   \n4  /organization/1000-markets                         1000 Markets   \n5       /organization/1000chi  Beijing 1000CHI Software Technology   \n\n         company_category_list company_country_code company_state_code  \\\n0                  Curated Web                  CHN                 22   \n2  Art|E-Commerce|Marketplaces                  USA                 WA   \n3  Art|E-Commerce|Marketplaces                  USA                 WA   \n4  Art|E-Commerce|Marketplaces                  USA                 WA   \n5                       Mobile                  NaN                NaN   \n\n  company_region company_city  \\\n0        Beijing      Beijing   \n2        Seattle      Seattle   \n3        Seattle      Seattle   \n4        Seattle      Seattle   \n5            NaN          NaN   \n\n                           funding_round_permalink funding_round_type  \\\n0  /funding-round/5727accaeaa57461bd22a9bdd945382d            venture   \n2  /funding-round/ce6749b6441f52ccaf38b6d5578779fd               seed   \n3  /funding-round/ce6749b6441f52ccaf38b6d5578779fd               seed   \n4  /funding-round/ce6749b6441f52ccaf38b6d5578779fd               seed   \n5  /funding-round/854fae13c5b26b2ea6b32b06c2e5890c              angel   \n\n  funding_round_code   funded_at  raised_amount_usd funding_round  \\\n0                  A  2008-03-19          2000000.0     venture A   \n2                NaN  2009-05-15           500000.0          seed   \n3                NaN  2009-05-15           500000.0          seed   \n4                NaN  2009-05-15           500000.0          seed   \n5                NaN  2010-04-01         43923865.0         angel   \n\n         investor_name investor_country_code  \n0  DT Capital Partners                   CHN  \n2         FF Angel LLC                   USA  \n3        True Ventures                   USA  \n4        Jon Callaghan                   USA  \n5                Other                   CHN  ",
      "text/html": "<div>\n<style scoped>\n    .dataframe tbody tr th:only-of-type {\n        vertical-align: middle;\n    }\n\n    .dataframe tbody tr th {\n        vertical-align: top;\n    }\n\n    .dataframe thead th {\n        text-align: right;\n    }\n</style>\n<table border=\"1\" class=\"dataframe\">\n  <thead>\n    <tr style=\"text-align: right;\">\n      <th></th>\n      <th>company_permalink</th>\n      <th>company_name</th>\n      <th>company_category_list</th>\n      <th>company_country_code</th>\n      <th>company_state_code</th>\n      <th>company_region</th>\n      <th>company_city</th>\n      <th>funding_round_permalink</th>\n      <th>funding_round_type</th>\n      <th>funding_round_code</th>\n      <th>funded_at</th>\n      <th>raised_amount_usd</th>\n      <th>funding_round</th>\n      <th>investor_name</th>\n      <th>investor_country_code</th>\n    </tr>\n  </thead>\n  <tbody>\n    <tr>\n      <th>0</th>\n      <td>/organization/0-6-com</td>\n      <td>0-6.com</td>\n      <td>Curated Web</td>\n      <td>CHN</td>\n      <td>22</td>\n      <td>Beijing</td>\n      <td>Beijing</td>\n      <td>/funding-round/5727accaeaa57461bd22a9bdd945382d</td>\n      <td>venture</td>\n      <td>A</td>\n      <td>2008-03-19</td>\n      <td>2000000.0</td>\n      <td>venture A</td>\n      <td>DT Capital Partners</td>\n      <td>CHN</td>\n    </tr>\n    <tr>\n      <th>2</th>\n      <td>/organization/1000-markets</td>\n      <td>1000 Markets</td>\n      <td>Art|E-Commerce|Marketplaces</td>\n      <td>USA</td>\n      <td>WA</td>\n      <td>Seattle</td>\n      <td>Seattle</td>\n      <td>/funding-round/ce6749b6441f52ccaf38b6d5578779fd</td>\n      <td>seed</td>\n      <td>NaN</td>\n      <td>2009-05-15</td>\n      <td>500000.0</td>\n      <td>seed</td>\n      <td>FF Angel LLC</td>\n      <td>USA</td>\n    </tr>\n    <tr>\n      <th>3</th>\n      <td>/organization/1000-markets</td>\n      <td>1000 Markets</td>\n      <td>Art|E-Commerce|Marketplaces</td>\n      <td>USA</td>\n      <td>WA</td>\n      <td>Seattle</td>\n      <td>Seattle</td>\n      <td>/funding-round/ce6749b6441f52ccaf38b6d5578779fd</td>\n      <td>seed</td>\n      <td>NaN</td>\n      <td>2009-05-15</td>\n      <td>500000.0</td>\n      <td>seed</td>\n      <td>True Ventures</td>\n      <td>USA</td>\n    </tr>\n    <tr>\n      <th>4</th>\n      <td>/organization/1000-markets</td>\n      <td>1000 Markets</td>\n      <td>Art|E-Commerce|Marketplaces</td>\n      <td>USA</td>\n      <td>WA</td>\n      <td>Seattle</td>\n      <td>Seattle</td>\n      <td>/funding-round/ce6749b6441f52ccaf38b6d5578779fd</td>\n      <td>seed</td>\n      <td>NaN</td>\n      <td>2009-05-15</td>\n      <td>500000.0</td>\n      <td>seed</td>\n      <td>Jon Callaghan</td>\n      <td>USA</td>\n    </tr>\n    <tr>\n      <th>5</th>\n      <td>/organization/1000chi</td>\n      <td>Beijing 1000CHI Software Technology</td>\n      <td>Mobile</td>\n      <td>NaN</td>\n      <td>NaN</td>\n      <td>NaN</td>\n      <td>NaN</td>\n      <td>/funding-round/854fae13c5b26b2ea6b32b06c2e5890c</td>\n      <td>angel</td>\n      <td>NaN</td>\n      <td>2010-04-01</td>\n      <td>43923865.0</td>\n      <td>angel</td>\n      <td>Other</td>\n      <td>CHN</td>\n    </tr>\n  </tbody>\n</table>\n</div>"
     },
     "metadata": {}
    }
   ],
   "execution_count": null
  },
  {
   "cell_type": "code",
   "metadata": {
    "cell_id": "f5ee817e4d4c49c9b608186a50c88c01",
    "tags": [],
    "deepnote_to_be_reexecuted": false,
    "source_hash": "74de5778",
    "execution_start": 1651606440864,
    "execution_millis": 1,
    "deepnote_cell_type": "code",
    "deepnote_cell_height": 99
   },
   "source": "# Dropping Other from the investor name\ndata_merged = data_merged[data_merged[\"investor_name\"]!=\"Other\"]",
   "outputs": [],
   "execution_count": null
  },
  {
   "cell_type": "markdown",
   "source": "## 2.1. Creating Investor Country & Round Index feature",
   "metadata": {
    "cell_id": "aef245884c544d318bc91c6ac0a472e1",
    "tags": [],
    "deepnote_cell_type": "markdown",
    "deepnote_cell_height": 70
   }
  },
  {
   "cell_type": "code",
   "metadata": {
    "cell_id": "39f3ecedc3cd4802a08df5795cc60597",
    "tags": [],
    "deepnote_to_be_reexecuted": false,
    "source_hash": "e3048d0b",
    "execution_start": 1651606440866,
    "execution_millis": 5,
    "deepnote_cell_type": "code",
    "deepnote_cell_height": 549.5
   },
   "source": "# creates the index data frame from the dictionary from the json file\ninvestor_country_round_index = pd.DataFrame.from_dict(investor_country_round_index, orient='index')\n\n# calls the previously defined \"parse_tuple\" function to parse through \ninvestor_country_round_index.index = [parse_tuple(item) for item in list(investor_country_round_index.index)]\n\n\ninvestor_country_round_index.index = pd.MultiIndex.from_tuples(investor_country_round_index.index)\ninvestor_country_round_index.index.names = ['country', 'round']\nprint(investor_country_round_index)",
   "outputs": [
    {
     "name": "stdout",
     "text": "                              0\ncountry round                  \nARG     angel                 1\n        convertible_note      1\n        product_crowdfunding  3\n        seed                  1\n        undisclosed           2\n...                          ..\nUSA     venture D             8\n        venture E             8\n        venture F             9\n        venture G             9\n        venture H             9\n\n[521 rows x 1 columns]\n",
     "output_type": "stream"
    }
   ],
   "execution_count": null
  },
  {
   "cell_type": "code",
   "metadata": {
    "cell_id": "d659cc294a2442edae8444e9176e7fd1",
    "tags": [],
    "deepnote_to_be_reexecuted": false,
    "source_hash": "98b1eb0",
    "execution_start": 1651606440947,
    "execution_millis": 1193,
    "deepnote_cell_type": "code",
    "deepnote_cell_height": 716
   },
   "source": "#since searching in dictionary objects are way faster, index df is converted to dict\ninvestor_country_round_index_dict = investor_country_round_index.to_dict()[0]\n\n# udf to be applied to df's rows\ndef inv_country_rnd_idx(row):\n    country = row['investor_country_code']\n    round_ = row['funding_round']\n\n    search_key = tuple((country, round_))\n    \n    value = investor_country_round_index_dict[search_key]\n    \n    return int(value)\n    #return int(a.values[0])\n    \n\ndata_merged['investor_country_round_index'] = data_merged.apply(inv_country_rnd_idx, axis = 1)\ndata_merged.head()",
   "outputs": [
    {
     "output_type": "execute_result",
     "execution_count": 12,
     "data": {
      "application/vnd.deepnote.dataframe.v3+json": {
       "column_count": 16,
       "row_count": 5,
       "columns": [
        {
         "name": "company_permalink",
         "dtype": "object",
         "stats": {
          "unique_count": 3,
          "nan_count": 0,
          "categories": [
           {
            "name": "/organization/1000-markets",
            "count": 3
           },
           {
            "name": "/organization/0-6-com",
            "count": 1
           },
           {
            "name": "/organization/1000museums-com",
            "count": 1
           }
          ]
         }
        },
        {
         "name": "company_name",
         "dtype": "object",
         "stats": {
          "unique_count": 3,
          "nan_count": 0,
          "categories": [
           {
            "name": "1000 Markets",
            "count": 3
           },
           {
            "name": "0-6.com",
            "count": 1
           },
           {
            "name": "1000museums.com",
            "count": 1
           }
          ]
         }
        },
        {
         "name": "company_category_list",
         "dtype": "object",
         "stats": {
          "unique_count": 2,
          "nan_count": 0,
          "categories": [
           {
            "name": "Art|E-Commerce|Marketplaces",
            "count": 3
           },
           {
            "name": "Curated Web",
            "count": 2
           }
          ]
         }
        },
        {
         "name": "company_country_code",
         "dtype": "object",
         "stats": {
          "unique_count": 2,
          "nan_count": 0,
          "categories": [
           {
            "name": "USA",
            "count": 4
           },
           {
            "name": "CHN",
            "count": 1
           }
          ]
         }
        },
        {
         "name": "company_state_code",
         "dtype": "object",
         "stats": {
          "unique_count": 3,
          "nan_count": 0,
          "categories": [
           {
            "name": "WA",
            "count": 3
           },
           {
            "name": "22",
            "count": 1
           },
           {
            "name": "MA",
            "count": 1
           }
          ]
         }
        },
        {
         "name": "company_region",
         "dtype": "object",
         "stats": {
          "unique_count": 3,
          "nan_count": 0,
          "categories": [
           {
            "name": "Seattle",
            "count": 3
           },
           {
            "name": "Beijing",
            "count": 1
           },
           {
            "name": "MA - Other",
            "count": 1
           }
          ]
         }
        },
        {
         "name": "company_city",
         "dtype": "object",
         "stats": {
          "unique_count": 3,
          "nan_count": 0,
          "categories": [
           {
            "name": "Seattle",
            "count": 3
           },
           {
            "name": "Beijing",
            "count": 1
           },
           {
            "name": "Lenox",
            "count": 1
           }
          ]
         }
        },
        {
         "name": "funding_round_permalink",
         "dtype": "object",
         "stats": {
          "unique_count": 3,
          "nan_count": 0,
          "categories": [
           {
            "name": "/funding-round/ce6749b6441f52ccaf38b6d5578779fd",
            "count": 3
           },
           {
            "name": "/funding-round/5727accaeaa57461bd22a9bdd945382d",
            "count": 1
           },
           {
            "name": "/funding-round/01c1aa44619ae45a16e3098fc73facfa",
            "count": 1
           }
          ]
         }
        },
        {
         "name": "funding_round_type",
         "dtype": "object",
         "stats": {
          "unique_count": 3,
          "nan_count": 0,
          "categories": [
           {
            "name": "seed",
            "count": 3
           },
           {
            "name": "venture",
            "count": 1
           },
           {
            "name": "debt_financing",
            "count": 1
           }
          ]
         }
        },
        {
         "name": "funding_round_code",
         "dtype": "object",
         "stats": {
          "unique_count": 1,
          "nan_count": 4,
          "categories": [
           {
            "name": "A",
            "count": 1
           },
           {
            "name": "Missing",
            "count": 4
           }
          ]
         }
        },
        {
         "name": "funded_at",
         "dtype": "object",
         "stats": {
          "unique_count": 3,
          "nan_count": 0,
          "categories": [
           {
            "name": "2009-05-15",
            "count": 3
           },
           {
            "name": "2008-03-19",
            "count": 1
           },
           {
            "name": "2013-04-08",
            "count": 1
           }
          ]
         }
        },
        {
         "name": "raised_amount_usd",
         "dtype": "float64",
         "stats": {
          "unique_count": 3,
          "nan_count": 0,
          "min": "500000.0",
          "max": "2000000.0",
          "histogram": [
           {
            "bin_start": 500000,
            "bin_end": 650000,
            "count": 4
           },
           {
            "bin_start": 650000,
            "bin_end": 800000,
            "count": 0
           },
           {
            "bin_start": 800000,
            "bin_end": 950000,
            "count": 0
           },
           {
            "bin_start": 950000,
            "bin_end": 1100000,
            "count": 0
           },
           {
            "bin_start": 1100000,
            "bin_end": 1250000,
            "count": 0
           },
           {
            "bin_start": 1250000,
            "bin_end": 1400000,
            "count": 0
           },
           {
            "bin_start": 1400000,
            "bin_end": 1550000,
            "count": 0
           },
           {
            "bin_start": 1550000,
            "bin_end": 1700000,
            "count": 0
           },
           {
            "bin_start": 1700000,
            "bin_end": 1850000,
            "count": 0
           },
           {
            "bin_start": 1850000,
            "bin_end": 2000000,
            "count": 1
           }
          ]
         }
        },
        {
         "name": "funding_round",
         "dtype": "object",
         "stats": {
          "unique_count": 3,
          "nan_count": 0,
          "categories": [
           {
            "name": "seed",
            "count": 3
           },
           {
            "name": "venture A",
            "count": 1
           },
           {
            "name": "debt_financing",
            "count": 1
           }
          ]
         }
        },
        {
         "name": "investor_name",
         "dtype": "object",
         "stats": {
          "unique_count": 5,
          "nan_count": 0,
          "categories": [
           {
            "name": "DT Capital Partners",
            "count": 1
           },
           {
            "name": "FF Angel LLC",
            "count": 1
           },
           {
            "name": "3 others",
            "count": 3
           }
          ]
         }
        },
        {
         "name": "investor_country_code",
         "dtype": "object",
         "stats": {
          "unique_count": 2,
          "nan_count": 0,
          "categories": [
           {
            "name": "USA",
            "count": 4
           },
           {
            "name": "CHN",
            "count": 1
           }
          ]
         }
        },
        {
         "name": "investor_country_round_index",
         "dtype": "int64",
         "stats": {
          "unique_count": 3,
          "nan_count": 0,
          "min": "2",
          "max": "9",
          "histogram": [
           {
            "bin_start": 2,
            "bin_end": 2.7,
            "count": 3
           },
           {
            "bin_start": 2.7,
            "bin_end": 3.4,
            "count": 0
           },
           {
            "bin_start": 3.4,
            "bin_end": 4.1,
            "count": 0
           },
           {
            "bin_start": 4.1,
            "bin_end": 4.8,
            "count": 0
           },
           {
            "bin_start": 4.8,
            "bin_end": 5.5,
            "count": 0
           },
           {
            "bin_start": 5.5,
            "bin_end": 6.199999999999999,
            "count": 0
           },
           {
            "bin_start": 6.199999999999999,
            "bin_end": 6.8999999999999995,
            "count": 0
           },
           {
            "bin_start": 6.8999999999999995,
            "bin_end": 7.6,
            "count": 1
           },
           {
            "bin_start": 7.6,
            "bin_end": 8.3,
            "count": 0
           },
           {
            "bin_start": 8.3,
            "bin_end": 9,
            "count": 1
           }
          ]
         }
        },
        {
         "name": "_deepnote_index_column",
         "dtype": "int64"
        }
       ],
       "rows": [
        {
         "company_permalink": "/organization/0-6-com",
         "company_name": "0-6.com",
         "company_category_list": "Curated Web",
         "company_country_code": "CHN",
         "company_state_code": "22",
         "company_region": "Beijing",
         "company_city": "Beijing",
         "funding_round_permalink": "/funding-round/5727accaeaa57461bd22a9bdd945382d",
         "funding_round_type": "venture",
         "funding_round_code": "A",
         "funded_at": "2008-03-19",
         "raised_amount_usd": 2000000,
         "funding_round": "venture A",
         "investor_name": "DT Capital Partners",
         "investor_country_code": "CHN",
         "investor_country_round_index": 7,
         "_deepnote_index_column": 0
        },
        {
         "company_permalink": "/organization/1000-markets",
         "company_name": "1000 Markets",
         "company_category_list": "Art|E-Commerce|Marketplaces",
         "company_country_code": "USA",
         "company_state_code": "WA",
         "company_region": "Seattle",
         "company_city": "Seattle",
         "funding_round_permalink": "/funding-round/ce6749b6441f52ccaf38b6d5578779fd",
         "funding_round_type": "seed",
         "funding_round_code": "nan",
         "funded_at": "2009-05-15",
         "raised_amount_usd": 500000,
         "funding_round": "seed",
         "investor_name": "FF Angel LLC",
         "investor_country_code": "USA",
         "investor_country_round_index": 2,
         "_deepnote_index_column": 2
        },
        {
         "company_permalink": "/organization/1000-markets",
         "company_name": "1000 Markets",
         "company_category_list": "Art|E-Commerce|Marketplaces",
         "company_country_code": "USA",
         "company_state_code": "WA",
         "company_region": "Seattle",
         "company_city": "Seattle",
         "funding_round_permalink": "/funding-round/ce6749b6441f52ccaf38b6d5578779fd",
         "funding_round_type": "seed",
         "funding_round_code": "nan",
         "funded_at": "2009-05-15",
         "raised_amount_usd": 500000,
         "funding_round": "seed",
         "investor_name": "True Ventures",
         "investor_country_code": "USA",
         "investor_country_round_index": 2,
         "_deepnote_index_column": 3
        },
        {
         "company_permalink": "/organization/1000-markets",
         "company_name": "1000 Markets",
         "company_category_list": "Art|E-Commerce|Marketplaces",
         "company_country_code": "USA",
         "company_state_code": "WA",
         "company_region": "Seattle",
         "company_city": "Seattle",
         "funding_round_permalink": "/funding-round/ce6749b6441f52ccaf38b6d5578779fd",
         "funding_round_type": "seed",
         "funding_round_code": "nan",
         "funded_at": "2009-05-15",
         "raised_amount_usd": 500000,
         "funding_round": "seed",
         "investor_name": "Jon Callaghan",
         "investor_country_code": "USA",
         "investor_country_round_index": 2,
         "_deepnote_index_column": 4
        },
        {
         "company_permalink": "/organization/1000museums-com",
         "company_name": "1000museums.com",
         "company_category_list": "Curated Web",
         "company_country_code": "USA",
         "company_state_code": "MA",
         "company_region": "MA - Other",
         "company_city": "Lenox",
         "funding_round_permalink": "/funding-round/01c1aa44619ae45a16e3098fc73facfa",
         "funding_round_type": "debt_financing",
         "funding_round_code": "nan",
         "funded_at": "2013-04-08",
         "raised_amount_usd": 647879,
         "funding_round": "debt_financing",
         "investor_name": "Alliance of Angels",
         "investor_country_code": "USA",
         "investor_country_round_index": 9,
         "_deepnote_index_column": 6
        }
       ]
      },
      "text/plain": "               company_permalink     company_name  \\\n0          /organization/0-6-com          0-6.com   \n2     /organization/1000-markets     1000 Markets   \n3     /organization/1000-markets     1000 Markets   \n4     /organization/1000-markets     1000 Markets   \n6  /organization/1000museums-com  1000museums.com   \n\n         company_category_list company_country_code company_state_code  \\\n0                  Curated Web                  CHN                 22   \n2  Art|E-Commerce|Marketplaces                  USA                 WA   \n3  Art|E-Commerce|Marketplaces                  USA                 WA   \n4  Art|E-Commerce|Marketplaces                  USA                 WA   \n6                  Curated Web                  USA                 MA   \n\n  company_region company_city  \\\n0        Beijing      Beijing   \n2        Seattle      Seattle   \n3        Seattle      Seattle   \n4        Seattle      Seattle   \n6     MA - Other        Lenox   \n\n                           funding_round_permalink funding_round_type  \\\n0  /funding-round/5727accaeaa57461bd22a9bdd945382d            venture   \n2  /funding-round/ce6749b6441f52ccaf38b6d5578779fd               seed   \n3  /funding-round/ce6749b6441f52ccaf38b6d5578779fd               seed   \n4  /funding-round/ce6749b6441f52ccaf38b6d5578779fd               seed   \n6  /funding-round/01c1aa44619ae45a16e3098fc73facfa     debt_financing   \n\n  funding_round_code   funded_at  raised_amount_usd   funding_round  \\\n0                  A  2008-03-19          2000000.0       venture A   \n2                NaN  2009-05-15           500000.0            seed   \n3                NaN  2009-05-15           500000.0            seed   \n4                NaN  2009-05-15           500000.0            seed   \n6                NaN  2013-04-08           647879.0  debt_financing   \n\n         investor_name investor_country_code  investor_country_round_index  \n0  DT Capital Partners                   CHN                             7  \n2         FF Angel LLC                   USA                             2  \n3        True Ventures                   USA                             2  \n4        Jon Callaghan                   USA                             2  \n6   Alliance of Angels                   USA                             9  ",
      "text/html": "<div>\n<style scoped>\n    .dataframe tbody tr th:only-of-type {\n        vertical-align: middle;\n    }\n\n    .dataframe tbody tr th {\n        vertical-align: top;\n    }\n\n    .dataframe thead th {\n        text-align: right;\n    }\n</style>\n<table border=\"1\" class=\"dataframe\">\n  <thead>\n    <tr style=\"text-align: right;\">\n      <th></th>\n      <th>company_permalink</th>\n      <th>company_name</th>\n      <th>company_category_list</th>\n      <th>company_country_code</th>\n      <th>company_state_code</th>\n      <th>company_region</th>\n      <th>company_city</th>\n      <th>funding_round_permalink</th>\n      <th>funding_round_type</th>\n      <th>funding_round_code</th>\n      <th>funded_at</th>\n      <th>raised_amount_usd</th>\n      <th>funding_round</th>\n      <th>investor_name</th>\n      <th>investor_country_code</th>\n      <th>investor_country_round_index</th>\n    </tr>\n  </thead>\n  <tbody>\n    <tr>\n      <th>0</th>\n      <td>/organization/0-6-com</td>\n      <td>0-6.com</td>\n      <td>Curated Web</td>\n      <td>CHN</td>\n      <td>22</td>\n      <td>Beijing</td>\n      <td>Beijing</td>\n      <td>/funding-round/5727accaeaa57461bd22a9bdd945382d</td>\n      <td>venture</td>\n      <td>A</td>\n      <td>2008-03-19</td>\n      <td>2000000.0</td>\n      <td>venture A</td>\n      <td>DT Capital Partners</td>\n      <td>CHN</td>\n      <td>7</td>\n    </tr>\n    <tr>\n      <th>2</th>\n      <td>/organization/1000-markets</td>\n      <td>1000 Markets</td>\n      <td>Art|E-Commerce|Marketplaces</td>\n      <td>USA</td>\n      <td>WA</td>\n      <td>Seattle</td>\n      <td>Seattle</td>\n      <td>/funding-round/ce6749b6441f52ccaf38b6d5578779fd</td>\n      <td>seed</td>\n      <td>NaN</td>\n      <td>2009-05-15</td>\n      <td>500000.0</td>\n      <td>seed</td>\n      <td>FF Angel LLC</td>\n      <td>USA</td>\n      <td>2</td>\n    </tr>\n    <tr>\n      <th>3</th>\n      <td>/organization/1000-markets</td>\n      <td>1000 Markets</td>\n      <td>Art|E-Commerce|Marketplaces</td>\n      <td>USA</td>\n      <td>WA</td>\n      <td>Seattle</td>\n      <td>Seattle</td>\n      <td>/funding-round/ce6749b6441f52ccaf38b6d5578779fd</td>\n      <td>seed</td>\n      <td>NaN</td>\n      <td>2009-05-15</td>\n      <td>500000.0</td>\n      <td>seed</td>\n      <td>True Ventures</td>\n      <td>USA</td>\n      <td>2</td>\n    </tr>\n    <tr>\n      <th>4</th>\n      <td>/organization/1000-markets</td>\n      <td>1000 Markets</td>\n      <td>Art|E-Commerce|Marketplaces</td>\n      <td>USA</td>\n      <td>WA</td>\n      <td>Seattle</td>\n      <td>Seattle</td>\n      <td>/funding-round/ce6749b6441f52ccaf38b6d5578779fd</td>\n      <td>seed</td>\n      <td>NaN</td>\n      <td>2009-05-15</td>\n      <td>500000.0</td>\n      <td>seed</td>\n      <td>Jon Callaghan</td>\n      <td>USA</td>\n      <td>2</td>\n    </tr>\n    <tr>\n      <th>6</th>\n      <td>/organization/1000museums-com</td>\n      <td>1000museums.com</td>\n      <td>Curated Web</td>\n      <td>USA</td>\n      <td>MA</td>\n      <td>MA - Other</td>\n      <td>Lenox</td>\n      <td>/funding-round/01c1aa44619ae45a16e3098fc73facfa</td>\n      <td>debt_financing</td>\n      <td>NaN</td>\n      <td>2013-04-08</td>\n      <td>647879.0</td>\n      <td>debt_financing</td>\n      <td>Alliance of Angels</td>\n      <td>USA</td>\n      <td>9</td>\n    </tr>\n  </tbody>\n</table>\n</div>"
     },
     "metadata": {}
    }
   ],
   "execution_count": null
  },
  {
   "cell_type": "markdown",
   "source": "## 2.2. Creating Investor & Round Index feature",
   "metadata": {
    "cell_id": "6808d37865a340a5a1a2410dd1364fc5",
    "tags": [],
    "deepnote_cell_type": "markdown",
    "deepnote_cell_height": 70
   }
  },
  {
   "cell_type": "code",
   "metadata": {
    "cell_id": "a4a61360e0e34dde8cd47786b6826499",
    "tags": [],
    "deepnote_to_be_reexecuted": false,
    "source_hash": "92e778e7",
    "execution_start": 1651606442219,
    "execution_millis": 1475,
    "deepnote_cell_type": "code",
    "deepnote_cell_height": 957
   },
   "source": "investors_rounds_index = pd.DataFrame.from_dict(investors_rounds_index, orient='index')\ninvestors_rounds_index.index = [parse_tuple(item) for item in list(investors_rounds_index.index)]\ninvestors_rounds_index.index = pd.MultiIndex.from_tuples(investors_rounds_index.index)\ninvestors_rounds_index.index.names = ['investor', 'round']\ninvestors_rounds_index\n\ninvestors_rounds_index_dict = investors_rounds_index.to_dict()[0]\n\n# udf to be applied to df's rows\ndef inv_rnd_idx(row):\n    investor = row['investor_name']\n    round_ = row['funding_round']\n    \n    search_key = tuple((investor, round_))\n\n    value = investors_rounds_index_dict[search_key]\n    return int(value)  \n\ndata_merged['investors_round_index'] = data_merged.apply(inv_rnd_idx, axis = 1)\ndata_merged.head(50)",
   "outputs": [
    {
     "output_type": "execute_result",
     "execution_count": 13,
     "data": {
      "application/vnd.deepnote.dataframe.v3+json": {
       "column_count": 17,
       "row_count": 50,
       "columns": [
        {
         "name": "company_permalink",
         "dtype": "object",
         "stats": {
          "unique_count": 20,
          "nan_count": 0,
          "categories": [
           {
            "name": "/organization/1366-technologies",
            "count": 10
           },
           {
            "name": "/organization/1001-menus",
            "count": 6
           },
           {
            "name": "18 others",
            "count": 34
           }
          ]
         }
        },
        {
         "name": "company_name",
         "dtype": "object",
         "stats": {
          "unique_count": 20,
          "nan_count": 0,
          "categories": [
           {
            "name": "1366 Technologies",
            "count": 10
           },
           {
            "name": "ZenChef",
            "count": 6
           },
           {
            "name": "18 others",
            "count": 34
           }
          ]
         }
        },
        {
         "name": "company_category_list",
         "dtype": "object",
         "stats": {
          "unique_count": 18,
          "nan_count": 2,
          "categories": [
           {
            "name": "Manufacturing",
            "count": 10
           },
           {
            "name": "17 others",
            "count": 38
           },
           {
            "name": "Missing",
            "count": 2
           }
          ]
         }
        },
        {
         "name": "company_country_code",
         "dtype": "object",
         "stats": {
          "unique_count": 4,
          "nan_count": 2,
          "categories": [
           {
            "name": "USA",
            "count": 32
           },
           {
            "name": "3 others",
            "count": 16
           },
           {
            "name": "Missing",
            "count": 2
           }
          ]
         }
        },
        {
         "name": "company_state_code",
         "dtype": "object",
         "stats": {
          "unique_count": 11,
          "nan_count": 2,
          "categories": [
           {
            "name": "MA",
            "count": 15
           },
           {
            "name": "10 others",
            "count": 33
           },
           {
            "name": "Missing",
            "count": 2
           }
          ]
         }
        },
        {
         "name": "company_region",
         "dtype": "object",
         "stats": {
          "unique_count": 12,
          "nan_count": 2,
          "categories": [
           {
            "name": "Boston",
            "count": 10
           },
           {
            "name": "11 others",
            "count": 38
           },
           {
            "name": "Missing",
            "count": 2
           }
          ]
         }
        },
        {
         "name": "company_city",
         "dtype": "object",
         "stats": {
          "unique_count": 14,
          "nan_count": 2,
          "categories": [
           {
            "name": "Bedford",
            "count": 10
           },
           {
            "name": "13 others",
            "count": 38
           },
           {
            "name": "Missing",
            "count": 2
           }
          ]
         }
        },
        {
         "name": "funding_round_permalink",
         "dtype": "object",
         "stats": {
          "unique_count": 32,
          "nan_count": 0,
          "categories": [
           {
            "name": "/funding-round/ce6749b6441f52ccaf38b6d5578779fd",
            "count": 3
           },
           {
            "name": "/funding-round/645b4cd895450b8e0268027cd7813047",
            "count": 3
           },
           {
            "name": "30 others",
            "count": 44
           }
          ]
         }
        },
        {
         "name": "funding_round_type",
         "dtype": "object",
         "stats": {
          "unique_count": 4,
          "nan_count": 0,
          "categories": [
           {
            "name": "venture",
            "count": 34
           },
           {
            "name": "seed",
            "count": 13
           },
           {
            "name": "2 others",
            "count": 3
           }
          ]
         }
        },
        {
         "name": "funding_round_code",
         "dtype": "object",
         "stats": {
          "unique_count": 3,
          "nan_count": 23,
          "categories": [
           {
            "name": "A",
            "count": 13
           },
           {
            "name": "2 others",
            "count": 14
           },
           {
            "name": "Missing",
            "count": 23
           }
          ]
         }
        },
        {
         "name": "funded_at",
         "dtype": "object",
         "stats": {
          "unique_count": 31,
          "nan_count": 0,
          "categories": [
           {
            "name": "2009-05-15",
            "count": 3
           },
           {
            "name": "2015-11-04",
            "count": 3
           },
           {
            "name": "29 others",
            "count": 44
           }
          ]
         }
        },
        {
         "name": "raised_amount_usd",
         "dtype": "float64",
         "stats": {
          "unique_count": 31,
          "nan_count": 0,
          "min": "100000.0",
          "max": "55000000.0",
          "histogram": [
           {
            "bin_start": 100000,
            "bin_end": 5590000,
            "count": 30
           },
           {
            "bin_start": 5590000,
            "bin_end": 11080000,
            "count": 8
           },
           {
            "bin_start": 11080000,
            "bin_end": 16570000,
            "count": 7
           },
           {
            "bin_start": 16570000,
            "bin_end": 22060000,
            "count": 1
           },
           {
            "bin_start": 22060000,
            "bin_end": 27550000,
            "count": 0
           },
           {
            "bin_start": 27550000,
            "bin_end": 33040000,
            "count": 0
           },
           {
            "bin_start": 33040000,
            "bin_end": 38530000,
            "count": 1
           },
           {
            "bin_start": 38530000,
            "bin_end": 44020000,
            "count": 0
           },
           {
            "bin_start": 44020000,
            "bin_end": 49510000,
            "count": 0
           },
           {
            "bin_start": 49510000,
            "bin_end": 55000000,
            "count": 3
           }
          ]
         }
        },
        {
         "name": "funding_round",
         "dtype": "object",
         "stats": {
          "unique_count": 7,
          "nan_count": 0,
          "categories": [
           {
            "name": "venture A",
            "count": 13
           },
           {
            "name": "seed",
            "count": 13
           },
           {
            "name": "5 others",
            "count": 24
           }
          ]
         }
        },
        {
         "name": "investor_name",
         "dtype": "object",
         "stats": {
          "unique_count": 36,
          "nan_count": 0,
          "categories": [
           {
            "name": "North Bridge Venture Partners & Growth Equity",
            "count": 5
           },
           {
            "name": "Polaris Partners",
            "count": 4
           },
           {
            "name": "34 others",
            "count": 41
           }
          ]
         }
        },
        {
         "name": "investor_country_code",
         "dtype": "object",
         "stats": {
          "unique_count": 5,
          "nan_count": 0,
          "categories": [
           {
            "name": "USA",
            "count": 35
           },
           {
            "name": "FRA",
            "count": 8
           },
           {
            "name": "3 others",
            "count": 7
           }
          ]
         }
        },
        {
         "name": "investor_country_round_index",
         "dtype": "int64",
         "stats": {
          "unique_count": 8,
          "nan_count": 0,
          "min": "2",
          "max": "9",
          "histogram": [
           {
            "bin_start": 2,
            "bin_end": 2.7,
            "count": 12
           },
           {
            "bin_start": 2.7,
            "bin_end": 3.4,
            "count": 1
           },
           {
            "bin_start": 3.4,
            "bin_end": 4.1,
            "count": 1
           },
           {
            "bin_start": 4.1,
            "bin_end": 4.8,
            "count": 0
           },
           {
            "bin_start": 4.8,
            "bin_end": 5.5,
            "count": 14
           },
           {
            "bin_start": 5.5,
            "bin_end": 6.199999999999999,
            "count": 1
           },
           {
            "bin_start": 6.199999999999999,
            "bin_end": 6.8999999999999995,
            "count": 0
           },
           {
            "bin_start": 6.8999999999999995,
            "bin_end": 7.6,
            "count": 11
           },
           {
            "bin_start": 7.6,
            "bin_end": 8.3,
            "count": 8
           },
           {
            "bin_start": 8.3,
            "bin_end": 9,
            "count": 2
           }
          ]
         }
        },
        {
         "name": "investors_round_index",
         "dtype": "int64",
         "stats": {
          "unique_count": 10,
          "nan_count": 0,
          "min": "1",
          "max": "10",
          "histogram": [
           {
            "bin_start": 1,
            "bin_end": 1.9,
            "count": 4
           },
           {
            "bin_start": 1.9,
            "bin_end": 2.8,
            "count": 7
           },
           {
            "bin_start": 2.8,
            "bin_end": 3.7,
            "count": 5
           },
           {
            "bin_start": 3.7,
            "bin_end": 4.6,
            "count": 2
           },
           {
            "bin_start": 4.6,
            "bin_end": 5.5,
            "count": 7
           },
           {
            "bin_start": 5.5,
            "bin_end": 6.4,
            "count": 4
           },
           {
            "bin_start": 6.4,
            "bin_end": 7.3,
            "count": 2
           },
           {
            "bin_start": 7.3,
            "bin_end": 8.2,
            "count": 10
           },
           {
            "bin_start": 8.2,
            "bin_end": 9.1,
            "count": 8
           },
           {
            "bin_start": 9.1,
            "bin_end": 10,
            "count": 1
           }
          ]
         }
        },
        {
         "name": "_deepnote_index_column",
         "dtype": "int64"
        }
       ],
       "rows": [
        {
         "company_permalink": "/organization/0-6-com",
         "company_name": "0-6.com",
         "company_category_list": "Curated Web",
         "company_country_code": "CHN",
         "company_state_code": "22",
         "company_region": "Beijing",
         "company_city": "Beijing",
         "funding_round_permalink": "/funding-round/5727accaeaa57461bd22a9bdd945382d",
         "funding_round_type": "venture",
         "funding_round_code": "A",
         "funded_at": "2008-03-19",
         "raised_amount_usd": 2000000,
         "funding_round": "venture A",
         "investor_name": "DT Capital Partners",
         "investor_country_code": "CHN",
         "investor_country_round_index": 7,
         "investors_round_index": 8,
         "_deepnote_index_column": 0
        },
        {
         "company_permalink": "/organization/1000-markets",
         "company_name": "1000 Markets",
         "company_category_list": "Art|E-Commerce|Marketplaces",
         "company_country_code": "USA",
         "company_state_code": "WA",
         "company_region": "Seattle",
         "company_city": "Seattle",
         "funding_round_permalink": "/funding-round/ce6749b6441f52ccaf38b6d5578779fd",
         "funding_round_type": "seed",
         "funding_round_code": "nan",
         "funded_at": "2009-05-15",
         "raised_amount_usd": 500000,
         "funding_round": "seed",
         "investor_name": "FF Angel LLC",
         "investor_country_code": "USA",
         "investor_country_round_index": 2,
         "investors_round_index": 1,
         "_deepnote_index_column": 2
        },
        {
         "company_permalink": "/organization/1000-markets",
         "company_name": "1000 Markets",
         "company_category_list": "Art|E-Commerce|Marketplaces",
         "company_country_code": "USA",
         "company_state_code": "WA",
         "company_region": "Seattle",
         "company_city": "Seattle",
         "funding_round_permalink": "/funding-round/ce6749b6441f52ccaf38b6d5578779fd",
         "funding_round_type": "seed",
         "funding_round_code": "nan",
         "funded_at": "2009-05-15",
         "raised_amount_usd": 500000,
         "funding_round": "seed",
         "investor_name": "True Ventures",
         "investor_country_code": "USA",
         "investor_country_round_index": 2,
         "investors_round_index": 3,
         "_deepnote_index_column": 3
        },
        {
         "company_permalink": "/organization/1000-markets",
         "company_name": "1000 Markets",
         "company_category_list": "Art|E-Commerce|Marketplaces",
         "company_country_code": "USA",
         "company_state_code": "WA",
         "company_region": "Seattle",
         "company_city": "Seattle",
         "funding_round_permalink": "/funding-round/ce6749b6441f52ccaf38b6d5578779fd",
         "funding_round_type": "seed",
         "funding_round_code": "nan",
         "funded_at": "2009-05-15",
         "raised_amount_usd": 500000,
         "funding_round": "seed",
         "investor_name": "Jon Callaghan",
         "investor_country_code": "USA",
         "investor_country_round_index": 2,
         "investors_round_index": 2,
         "_deepnote_index_column": 4
        },
        {
         "company_permalink": "/organization/1000museums-com",
         "company_name": "1000museums.com",
         "company_category_list": "Curated Web",
         "company_country_code": "USA",
         "company_state_code": "MA",
         "company_region": "MA - Other",
         "company_city": "Lenox",
         "funding_round_permalink": "/funding-round/01c1aa44619ae45a16e3098fc73facfa",
         "funding_round_type": "debt_financing",
         "funding_round_code": "nan",
         "funded_at": "2013-04-08",
         "raised_amount_usd": 647879,
         "funding_round": "debt_financing",
         "investor_name": "Alliance of Angels",
         "investor_country_code": "USA",
         "investor_country_round_index": 9,
         "investors_round_index": 2,
         "_deepnote_index_column": 6
        },
        {
         "company_permalink": "/organization/1000museums-com",
         "company_name": "1000museums.com",
         "company_category_list": "Curated Web",
         "company_country_code": "USA",
         "company_state_code": "MA",
         "company_region": "MA - Other",
         "company_city": "Lenox",
         "funding_round_permalink": "/funding-round/01c1aa44619ae45a16e3098fc73facfa",
         "funding_round_type": "debt_financing",
         "funding_round_code": "nan",
         "funded_at": "2013-04-08",
         "raised_amount_usd": 647879,
         "funding_round": "debt_financing",
         "investor_name": "Scout Ventures",
         "investor_country_code": "USA",
         "investor_country_round_index": 9,
         "investors_round_index": 1,
         "_deepnote_index_column": 8
        },
        {
         "company_permalink": "/organization/1000museums-com",
         "company_name": "1000museums.com",
         "company_category_list": "Curated Web",
         "company_country_code": "USA",
         "company_state_code": "MA",
         "company_region": "MA - Other",
         "company_city": "Lenox",
         "funding_round_permalink": "/funding-round/6aeb32ab3fc05db2b606d7a2466e8c09",
         "funding_round_type": "venture",
         "funding_round_code": "nan",
         "funded_at": "2014-01-15",
         "raised_amount_usd": 2906832,
         "funding_round": "venture",
         "investor_name": "Converge Venture Partners",
         "investor_country_code": "USA",
         "investor_country_round_index": 8,
         "investors_round_index": 5,
         "_deepnote_index_column": 12
        },
        {
         "company_permalink": "/organization/1000museums-com",
         "company_name": "1000museums.com",
         "company_category_list": "Curated Web",
         "company_country_code": "USA",
         "company_state_code": "MA",
         "company_region": "MA - Other",
         "company_city": "Lenox",
         "funding_round_permalink": "/funding-round/89317984885b44f02e4befb9dc2e588c",
         "funding_round_type": "venture",
         "funding_round_code": "nan",
         "funded_at": "2014-08-01",
         "raised_amount_usd": 1500000,
         "funding_round": "venture",
         "investor_name": "Converge Venture Partners",
         "investor_country_code": "USA",
         "investor_country_round_index": 8,
         "investors_round_index": 5,
         "_deepnote_index_column": 13
        },
        {
         "company_permalink": "/organization/1000museums-com",
         "company_name": "1000museums.com",
         "company_category_list": "Curated Web",
         "company_country_code": "USA",
         "company_state_code": "MA",
         "company_region": "MA - Other",
         "company_city": "Lenox",
         "funding_round_permalink": "/funding-round/fd1b3064232ba9b3cfb5653a619e82e8",
         "funding_round_type": "venture",
         "funding_round_code": "nan",
         "funded_at": "2011-04-05",
         "raised_amount_usd": 642000,
         "funding_round": "venture",
         "investor_name": "Alliance of Angels",
         "investor_country_code": "USA",
         "investor_country_round_index": 8,
         "investors_round_index": 4,
         "_deepnote_index_column": 14
        },
        {
         "company_permalink": "/organization/1001-menus",
         "company_name": "ZenChef",
         "company_category_list": "Local Businesses|Restaurants",
         "company_country_code": "FRA",
         "company_state_code": "A8",
         "company_region": "Paris",
         "company_city": "Paris",
         "funding_round_permalink": "/funding-round/645b4cd895450b8e0268027cd7813047",
         "funding_round_type": "venture",
         "funding_round_code": "B",
         "funded_at": "2015-11-04",
         "raised_amount_usd": 6602694,
         "funding_round": "venture B",
         "investor_name": "Elaia Partners",
         "investor_country_code": "FRA",
         "investor_country_round_index": 5,
         "investors_round_index": 6,
         "_deepnote_index_column": 23
        }
       ]
      },
      "text/plain": "                   company_permalink        company_name  \\\n0              /organization/0-6-com             0-6.com   \n2         /organization/1000-markets        1000 Markets   \n3         /organization/1000-markets        1000 Markets   \n4         /organization/1000-markets        1000 Markets   \n6      /organization/1000museums-com     1000museums.com   \n8      /organization/1000museums-com     1000museums.com   \n12     /organization/1000museums-com     1000museums.com   \n13     /organization/1000museums-com     1000museums.com   \n14     /organization/1000museums-com     1000museums.com   \n23          /organization/1001-menus             ZenChef   \n24          /organization/1001-menus             ZenChef   \n25          /organization/1001-menus             ZenChef   \n26          /organization/1001-menus             ZenChef   \n27          /organization/1001-menus             ZenChef   \n28          /organization/1001-menus             ZenChef   \n33  /organization/1001pharmacies-com  1001pharmacies.com   \n38             /organization/1006-tv             1006.tv   \n39             /organization/1006-tv             1006.tv   \n41            /organization/100e-com            100e.com   \n42            /organization/100e-com            100e.com   \n43           /organization/100health               Redox   \n46           /organization/100health               Redox   \n47           /organization/100health               Redox   \n49             /organization/100plus             100Plus   \n50             /organization/100plus             100Plus   \n51             /organization/100plus             100Plus   \n53            /organization/1010data            1010data   \n54               /organization/10k-2        Beans Around   \n55               /organization/10sec               10sec   \n56        /organization/10x-genomics        10X Genomics   \n57        /organization/10x-genomics        10X Genomics   \n58        /organization/10x-genomics        10X Genomics   \n59             /organization/12-labs             12 Labs   \n62             /organization/12-labs             12 Labs   \n64            /organization/121nexus            121nexus   \n68         /organization/123feng-com         123Feng.Com   \n69         /organization/123feng-com         123Feng.Com   \n70        /organization/123greetings        123Greetings   \n72               /organization/12bis               12Bis   \n73                /organization/12cm                12cm   \n76   /organization/1366-technologies   1366 Technologies   \n77   /organization/1366-technologies   1366 Technologies   \n79   /organization/1366-technologies   1366 Technologies   \n81   /organization/1366-technologies   1366 Technologies   \n82   /organization/1366-technologies   1366 Technologies   \n83   /organization/1366-technologies   1366 Technologies   \n84   /organization/1366-technologies   1366 Technologies   \n85   /organization/1366-technologies   1366 Technologies   \n86   /organization/1366-technologies   1366 Technologies   \n89   /organization/1366-technologies   1366 Technologies   \n\n                                company_category_list company_country_code  \\\n0                                         Curated Web                  CHN   \n2                         Art|E-Commerce|Marketplaces                  USA   \n3                         Art|E-Commerce|Marketplaces                  USA   \n4                         Art|E-Commerce|Marketplaces                  USA   \n6                                         Curated Web                  USA   \n8                                         Curated Web                  USA   \n12                                        Curated Web                  USA   \n13                                        Curated Web                  USA   \n14                                        Curated Web                  USA   \n23                       Local Businesses|Restaurants                  FRA   \n24                       Local Businesses|Restaurants                  FRA   \n25                       Local Businesses|Restaurants                  FRA   \n26                       Local Businesses|Restaurants                  FRA   \n27                       Local Businesses|Restaurants                  FRA   \n28                       Local Businesses|Restaurants                  FRA   \n33                             Cosmetics|Marketplaces                  FRA   \n38                                        Games|Media                  CHN   \n39                                        Games|Media                  CHN   \n41                                          Education                  CHN   \n42                                          Education                  CHN   \n43  Health Care|Health Care Information Technology...                  USA   \n46  Health Care|Health Care Information Technology...                  USA   \n47  Health Care|Health Care Information Technology...                  USA   \n49                                          Analytics                  USA   \n50                                          Analytics                  USA   \n51                                          Analytics                  USA   \n53                                           Software                  USA   \n54               Coffee|Delivery|Subscription Service                  NaN   \n55         E-Commerce|Mobile Commerce|Social Commerce                  USA   \n56                           Biotechnology|Technology                  USA   \n57                           Biotechnology|Technology                  USA   \n58                           Biotechnology|Technology                  USA   \n59                Health and Wellness|Personal Health                  USA   \n62                Health and Wellness|Personal Health                  USA   \n64  Health Diagnostics|Medical Devices|Personaliza...                  USA   \n68                                                NaN                  CHN   \n69                                                NaN                  CHN   \n70                                           Internet                  NaN   \n72                                Publishing|Services                  FRA   \n73                  Mobile|Service Providers|Software                  KOR   \n76                                      Manufacturing                  USA   \n77                                      Manufacturing                  USA   \n79                                      Manufacturing                  USA   \n81                                      Manufacturing                  USA   \n82                                      Manufacturing                  USA   \n83                                      Manufacturing                  USA   \n84                                      Manufacturing                  USA   \n85                                      Manufacturing                  USA   \n86                                      Manufacturing                  USA   \n89                                      Manufacturing                  USA   \n\n   company_state_code company_region   company_city  \\\n0                  22        Beijing        Beijing   \n2                  WA        Seattle        Seattle   \n3                  WA        Seattle        Seattle   \n4                  WA        Seattle        Seattle   \n6                  MA     MA - Other          Lenox   \n8                  MA     MA - Other          Lenox   \n12                 MA     MA - Other          Lenox   \n13                 MA     MA - Other          Lenox   \n14                 MA     MA - Other          Lenox   \n23                 A8          Paris          Paris   \n24                 A8          Paris          Paris   \n25                 A8          Paris          Paris   \n26                 A8          Paris          Paris   \n27                 A8          Paris          Paris   \n28                 A8          Paris          Paris   \n33                 A9    Montpellier    Montpellier   \n38                 22        Beijing        Beijing   \n39                 22        Beijing        Beijing   \n41                 22        Beijing        Beijing   \n42                 22        Beijing        Beijing   \n43                 WI        Madison        Madison   \n46                 WI        Madison        Madison   \n47                 WI        Madison        Madison   \n49                 CA    SF Bay Area  San Francisco   \n50                 CA    SF Bay Area  San Francisco   \n51                 CA    SF Bay Area  San Francisco   \n53                 NY  New York City       New York   \n54                NaN            NaN            NaN   \n55                 CA    SF Bay Area  San Francisco   \n56                 CA    SF Bay Area     Pleasanton   \n57                 CA    SF Bay Area     Pleasanton   \n58                 CA    SF Bay Area     Pleasanton   \n59                 CA    SF Bay Area      Palo Alto   \n62                 CA    SF Bay Area      Palo Alto   \n64                 RI     Providence     Providence   \n68                  2       Hangzhou       Hangzhou   \n69                  2       Hangzhou       Hangzhou   \n70                NaN            NaN            NaN   \n72                 A8          Paris          Paris   \n73                 13    Bundangdong    Bundangdong   \n76                 MA         Boston        Bedford   \n77                 MA         Boston        Bedford   \n79                 MA         Boston        Bedford   \n81                 MA         Boston        Bedford   \n82                 MA         Boston        Bedford   \n83                 MA         Boston        Bedford   \n84                 MA         Boston        Bedford   \n85                 MA         Boston        Bedford   \n86                 MA         Boston        Bedford   \n89                 MA         Boston        Bedford   \n\n                            funding_round_permalink funding_round_type  \\\n0   /funding-round/5727accaeaa57461bd22a9bdd945382d            venture   \n2   /funding-round/ce6749b6441f52ccaf38b6d5578779fd               seed   \n3   /funding-round/ce6749b6441f52ccaf38b6d5578779fd               seed   \n4   /funding-round/ce6749b6441f52ccaf38b6d5578779fd               seed   \n6   /funding-round/01c1aa44619ae45a16e3098fc73facfa     debt_financing   \n8   /funding-round/01c1aa44619ae45a16e3098fc73facfa     debt_financing   \n12  /funding-round/6aeb32ab3fc05db2b606d7a2466e8c09            venture   \n13  /funding-round/89317984885b44f02e4befb9dc2e588c            venture   \n14  /funding-round/fd1b3064232ba9b3cfb5653a619e82e8            venture   \n23  /funding-round/645b4cd895450b8e0268027cd7813047            venture   \n24  /funding-round/645b4cd895450b8e0268027cd7813047            venture   \n25  /funding-round/645b4cd895450b8e0268027cd7813047            venture   \n26  /funding-round/8025123b90c1ab687f9857ffe18bfd3b            venture   \n27  /funding-round/9d6619bf66478dd8bf19bfc8dc237770               seed   \n28  /funding-round/b6c28ea4ebe32db7083052cf87e7c368            venture   \n33  /funding-round/a21fc4d20200f43e3a25fd9cfc7c1482            venture   \n38  /funding-round/b6aeb7401ec6993f92a16cbca153b600            venture   \n39  /funding-round/b6aeb7401ec6993f92a16cbca153b600            venture   \n41  /funding-round/22a86670d1055d7bafce665b27e91871            venture   \n42  /funding-round/a136f7eb873dfb13cec839fef7d7f51e            venture   \n43  /funding-round/441cefff29e87a7b0bcd644b7dbe59c1               seed   \n46  /funding-round/502f558bee350299fd1ae503e5b9a124            venture   \n47  /funding-round/502f558bee350299fd1ae503e5b9a124            venture   \n49  /funding-round/57ce16d039aa0c61d966397f6db00b02               seed   \n50  /funding-round/57ce16d039aa0c61d966397f6db00b02               seed   \n51  /funding-round/57ce16d039aa0c61d966397f6db00b02               seed   \n53  /funding-round/482fbf992b48f5c47d0080ab7ec0cb54            venture   \n54  /funding-round/95401c8e8336892bf375ad94efd6c725               seed   \n55  /funding-round/3f842b5ec5236ed37e375b73e945ab7f               seed   \n56  /funding-round/563923487783bdeb5d0b7872f3d6b99a            venture   \n57  /funding-round/563923487783bdeb5d0b7872f3d6b99a            venture   \n58  /funding-round/563923487783bdeb5d0b7872f3d6b99a            venture   \n59  /funding-round/958803df0c565d11afba52347f7efcde               seed   \n62  /funding-round/958803df0c565d11afba52347f7efcde               seed   \n64  /funding-round/7cdbef123afa3f9a41d080147158edc0              grant   \n68  /funding-round/9d83084d87dc63a309c9a6fe9bf59d1b            venture   \n69  /funding-round/9d83084d87dc63a309c9a6fe9bf59d1b            venture   \n70  /funding-round/5dd1821a92088ff96b467eb16431731a            venture   \n72  /funding-round/19c048bab9708ca7aa465043160f59d1               seed   \n73  /funding-round/51db8370127fb51822a3e291971ef195            venture   \n76  /funding-round/424129ce1235cfab2655ee81305f7c2b            venture   \n77  /funding-round/424129ce1235cfab2655ee81305f7c2b            venture   \n79  /funding-round/424129ce1235cfab2655ee81305f7c2b            venture   \n81  /funding-round/786f61aa9866f4471151285f5c56be36            venture   \n82  /funding-round/786f61aa9866f4471151285f5c56be36            venture   \n83  /funding-round/82ace97530965cd2be8f262836b43ff5            venture   \n84  /funding-round/82ace97530965cd2be8f262836b43ff5            venture   \n85  /funding-round/ab99fc5a53717b1b53fd6aa5687c5fa9            venture   \n86  /funding-round/ab99fc5a53717b1b53fd6aa5687c5fa9            venture   \n89  /funding-round/b09fa4a4c5c5f5f19305c39c94b7d673            venture   \n\n   funding_round_code   funded_at  raised_amount_usd   funding_round  \\\n0                   A  2008-03-19          2000000.0       venture A   \n2                 NaN  2009-05-15           500000.0            seed   \n3                 NaN  2009-05-15           500000.0            seed   \n4                 NaN  2009-05-15           500000.0            seed   \n6                 NaN  2013-04-08           647879.0  debt_financing   \n8                 NaN  2013-04-08           647879.0  debt_financing   \n12                NaN  2014-01-15          2906832.0         venture   \n13                NaN  2014-08-01          1500000.0         venture   \n14                NaN  2011-04-05           642000.0         venture   \n23                  B  2015-11-04          6602694.0       venture B   \n24                  B  2015-11-04          6602694.0       venture B   \n25                  B  2015-11-04          6602694.0       venture B   \n26                  A  2013-11-13          1736910.0       venture A   \n27                NaN  2012-12-27           132169.0            seed   \n28                  A  2013-10-25          1800000.0       venture A   \n33                  A  2015-07-09          8900000.0       venture A   \n38                  B  2014-07-31         10000000.0       venture B   \n39                  B  2014-07-31         10000000.0       venture B   \n41                NaN  2006-01-01          3000000.0         venture   \n42                NaN  2006-09-01          1500000.0         venture   \n43                NaN  2014-11-26           470000.0            seed   \n46                  A  2015-10-20          3530000.0       venture A   \n47                  A  2015-10-20          3530000.0       venture A   \n49                NaN  2011-11-30           750000.0            seed   \n50                NaN  2011-11-30           750000.0            seed   \n51                NaN  2011-11-30           750000.0            seed   \n53                NaN  2010-03-08         35000000.0         venture   \n54                NaN  2015-09-04           100000.0            seed   \n55                NaN  2014-05-08          1600000.0            seed   \n56                  B  2015-01-12         55000000.0       venture B   \n57                  B  2015-01-12         55000000.0       venture B   \n58                  B  2015-01-12         55000000.0       venture B   \n59                NaN  2014-11-26           935000.0            seed   \n62                NaN  2014-11-26           935000.0            seed   \n64                NaN  2013-07-01           150000.0           grant   \n68                  A  2015-10-27         13000000.0       venture A   \n69                  A  2015-10-27         13000000.0       venture A   \n70                NaN  2015-07-23          5400000.0         venture   \n72                NaN  2012-03-15           130636.0            seed   \n73                  A  2014-12-11          1809056.0       venture A   \n76                  C  2013-10-15         15000000.0       venture C   \n77                  C  2013-10-15         15000000.0       venture C   \n79                  C  2013-10-15         15000000.0       venture C   \n81                  A  2010-02-03          5150000.0       venture A   \n82                  A  2010-02-03          5150000.0       venture A   \n83                  A  2008-03-27         12400000.0       venture A   \n84                  A  2008-03-27         12400000.0       venture A   \n85                  B  2010-12-16          6000000.0       venture B   \n86                  B  2010-12-16          6000000.0       venture B   \n89                  B  2010-10-19         20000000.0       venture B   \n\n                                    investor_name investor_country_code  \\\n0                             DT Capital Partners                   CHN   \n2                                    FF Angel LLC                   USA   \n3                                   True Ventures                   USA   \n4                                   Jon Callaghan                   USA   \n6                              Alliance of Angels                   USA   \n8                                  Scout Ventures                   USA   \n12                      Converge Venture Partners                   USA   \n13                      Converge Venture Partners                   USA   \n14                             Alliance of Angels                   USA   \n23                                 Elaia Partners                   FRA   \n24                                  Kima Ventures                   FRA   \n25                           XAnge Private Equity                   FRA   \n26                                 Elaia Partners                   FRA   \n27                                  Kima Ventures                   FRA   \n28                                 Elaia Partners                   FRA   \n33                           CM-CIC Capital Prive                   FRA   \n38                              ClearVue Partners                   CHN   \n39                                Sequoia Capital                   USA   \n41                                iD TechVentures                   CHN   \n42                                iD TechVentures                   CHN   \n43                               DreamIt Ventures                   USA   \n46                                  .406 Ventures                   USA   \n47                     Flybridge Capital Partners                   USA   \n49                                 Band of Angels                   USA   \n50                               Felicis Ventures                   USA   \n51                              Greylock Partners                   USA   \n53                 Norwest Venture Partners - NVP                   USA   \n54                                    Marvelstone                   KOR   \n55                            CyberAgent Ventures                   JPN   \n56                               Foresite Capital                   USA   \n57                          Paladin Capital Group                   USA   \n58                                        Venrock                   USA   \n59                                 Serra Ventures                   USA   \n62                                   Marc Benioff                   USA   \n64                    National Science Foundation                   USA   \n68                    Lightspeed Venture Partners                   USA   \n69                                Matrix Partners                   USA   \n70                                  Intel Capital                   USA   \n72                                  Kima Ventures                   FRA   \n73                        Capstone Partners Korea                   KOR   \n76  North Bridge Venture Partners & Growth Equity                   USA   \n77                               Polaris Partners                   USA   \n79                  VantagePoint Capital Partners                   USA   \n81  North Bridge Venture Partners & Growth Equity                   USA   \n82                               Polaris Partners                   USA   \n83  North Bridge Venture Partners & Growth Equity                   USA   \n84                               Polaris Partners                   USA   \n85  North Bridge Venture Partners & Growth Equity                   USA   \n86                               Polaris Partners                   USA   \n89  North Bridge Venture Partners & Growth Equity                   USA   \n\n    investor_country_round_index  investors_round_index  \n0                              7                      8  \n2                              2                      1  \n3                              2                      3  \n4                              2                      2  \n6                              9                      2  \n8                              9                      1  \n12                             8                      5  \n13                             8                      5  \n14                             8                      4  \n23                             5                      6  \n24                             5                      6  \n25                             5                      6  \n26                             5                      5  \n27                             2                      2  \n28                             5                      5  \n33                             5                      5  \n38                             8                      9  \n39                             7                      9  \n41                             8                      5  \n42                             8                      5  \n43                             2                      1  \n46                             5                      6  \n47                             5                      7  \n49                             2                      3  \n50                             2                      2  \n51                             2                      2  \n53                             8                      9  \n54                             3                      1  \n55                             2                      3  \n56                             7                      9  \n57                             7                      9  \n58                             7                     10  \n59                             2                      2  \n62                             2                      3  \n64                             6                      4  \n68                             5                      7  \n69                             5                      8  \n70                             8                      9  \n72                             2                      2  \n73                             4                      3  \n76                             7                      8  \n77                             7                      9  \n79                             7                      9  \n81                             5                      8  \n82                             5                      8  \n83                             5                      8  \n84                             5                      8  \n85                             7                      8  \n86                             7                      8  \n89                             7                      8  ",
      "text/html": "<div>\n<style scoped>\n    .dataframe tbody tr th:only-of-type {\n        vertical-align: middle;\n    }\n\n    .dataframe tbody tr th {\n        vertical-align: top;\n    }\n\n    .dataframe thead th {\n        text-align: right;\n    }\n</style>\n<table border=\"1\" class=\"dataframe\">\n  <thead>\n    <tr style=\"text-align: right;\">\n      <th></th>\n      <th>company_permalink</th>\n      <th>company_name</th>\n      <th>company_category_list</th>\n      <th>company_country_code</th>\n      <th>company_state_code</th>\n      <th>company_region</th>\n      <th>company_city</th>\n      <th>funding_round_permalink</th>\n      <th>funding_round_type</th>\n      <th>funding_round_code</th>\n      <th>funded_at</th>\n      <th>raised_amount_usd</th>\n      <th>funding_round</th>\n      <th>investor_name</th>\n      <th>investor_country_code</th>\n      <th>investor_country_round_index</th>\n      <th>investors_round_index</th>\n    </tr>\n  </thead>\n  <tbody>\n    <tr>\n      <th>0</th>\n      <td>/organization/0-6-com</td>\n      <td>0-6.com</td>\n      <td>Curated Web</td>\n      <td>CHN</td>\n      <td>22</td>\n      <td>Beijing</td>\n      <td>Beijing</td>\n      <td>/funding-round/5727accaeaa57461bd22a9bdd945382d</td>\n      <td>venture</td>\n      <td>A</td>\n      <td>2008-03-19</td>\n      <td>2000000.0</td>\n      <td>venture A</td>\n      <td>DT Capital Partners</td>\n      <td>CHN</td>\n      <td>7</td>\n      <td>8</td>\n    </tr>\n    <tr>\n      <th>2</th>\n      <td>/organization/1000-markets</td>\n      <td>1000 Markets</td>\n      <td>Art|E-Commerce|Marketplaces</td>\n      <td>USA</td>\n      <td>WA</td>\n      <td>Seattle</td>\n      <td>Seattle</td>\n      <td>/funding-round/ce6749b6441f52ccaf38b6d5578779fd</td>\n      <td>seed</td>\n      <td>NaN</td>\n      <td>2009-05-15</td>\n      <td>500000.0</td>\n      <td>seed</td>\n      <td>FF Angel LLC</td>\n      <td>USA</td>\n      <td>2</td>\n      <td>1</td>\n    </tr>\n    <tr>\n      <th>3</th>\n      <td>/organization/1000-markets</td>\n      <td>1000 Markets</td>\n      <td>Art|E-Commerce|Marketplaces</td>\n      <td>USA</td>\n      <td>WA</td>\n      <td>Seattle</td>\n      <td>Seattle</td>\n      <td>/funding-round/ce6749b6441f52ccaf38b6d5578779fd</td>\n      <td>seed</td>\n      <td>NaN</td>\n      <td>2009-05-15</td>\n      <td>500000.0</td>\n      <td>seed</td>\n      <td>True Ventures</td>\n      <td>USA</td>\n      <td>2</td>\n      <td>3</td>\n    </tr>\n    <tr>\n      <th>4</th>\n      <td>/organization/1000-markets</td>\n      <td>1000 Markets</td>\n      <td>Art|E-Commerce|Marketplaces</td>\n      <td>USA</td>\n      <td>WA</td>\n      <td>Seattle</td>\n      <td>Seattle</td>\n      <td>/funding-round/ce6749b6441f52ccaf38b6d5578779fd</td>\n      <td>seed</td>\n      <td>NaN</td>\n      <td>2009-05-15</td>\n      <td>500000.0</td>\n      <td>seed</td>\n      <td>Jon Callaghan</td>\n      <td>USA</td>\n      <td>2</td>\n      <td>2</td>\n    </tr>\n    <tr>\n      <th>6</th>\n      <td>/organization/1000museums-com</td>\n      <td>1000museums.com</td>\n      <td>Curated Web</td>\n      <td>USA</td>\n      <td>MA</td>\n      <td>MA - Other</td>\n      <td>Lenox</td>\n      <td>/funding-round/01c1aa44619ae45a16e3098fc73facfa</td>\n      <td>debt_financing</td>\n      <td>NaN</td>\n      <td>2013-04-08</td>\n      <td>647879.0</td>\n      <td>debt_financing</td>\n      <td>Alliance of Angels</td>\n      <td>USA</td>\n      <td>9</td>\n      <td>2</td>\n    </tr>\n    <tr>\n      <th>8</th>\n      <td>/organization/1000museums-com</td>\n      <td>1000museums.com</td>\n      <td>Curated Web</td>\n      <td>USA</td>\n      <td>MA</td>\n      <td>MA - Other</td>\n      <td>Lenox</td>\n      <td>/funding-round/01c1aa44619ae45a16e3098fc73facfa</td>\n      <td>debt_financing</td>\n      <td>NaN</td>\n      <td>2013-04-08</td>\n      <td>647879.0</td>\n      <td>debt_financing</td>\n      <td>Scout Ventures</td>\n      <td>USA</td>\n      <td>9</td>\n      <td>1</td>\n    </tr>\n    <tr>\n      <th>12</th>\n      <td>/organization/1000museums-com</td>\n      <td>1000museums.com</td>\n      <td>Curated Web</td>\n      <td>USA</td>\n      <td>MA</td>\n      <td>MA - Other</td>\n      <td>Lenox</td>\n      <td>/funding-round/6aeb32ab3fc05db2b606d7a2466e8c09</td>\n      <td>venture</td>\n      <td>NaN</td>\n      <td>2014-01-15</td>\n      <td>2906832.0</td>\n      <td>venture</td>\n      <td>Converge Venture Partners</td>\n      <td>USA</td>\n      <td>8</td>\n      <td>5</td>\n    </tr>\n    <tr>\n      <th>13</th>\n      <td>/organization/1000museums-com</td>\n      <td>1000museums.com</td>\n      <td>Curated Web</td>\n      <td>USA</td>\n      <td>MA</td>\n      <td>MA - Other</td>\n      <td>Lenox</td>\n      <td>/funding-round/89317984885b44f02e4befb9dc2e588c</td>\n      <td>venture</td>\n      <td>NaN</td>\n      <td>2014-08-01</td>\n      <td>1500000.0</td>\n      <td>venture</td>\n      <td>Converge Venture Partners</td>\n      <td>USA</td>\n      <td>8</td>\n      <td>5</td>\n    </tr>\n    <tr>\n      <th>14</th>\n      <td>/organization/1000museums-com</td>\n      <td>1000museums.com</td>\n      <td>Curated Web</td>\n      <td>USA</td>\n      <td>MA</td>\n      <td>MA - Other</td>\n      <td>Lenox</td>\n      <td>/funding-round/fd1b3064232ba9b3cfb5653a619e82e8</td>\n      <td>venture</td>\n      <td>NaN</td>\n      <td>2011-04-05</td>\n      <td>642000.0</td>\n      <td>venture</td>\n      <td>Alliance of Angels</td>\n      <td>USA</td>\n      <td>8</td>\n      <td>4</td>\n    </tr>\n    <tr>\n      <th>23</th>\n      <td>/organization/1001-menus</td>\n      <td>ZenChef</td>\n      <td>Local Businesses|Restaurants</td>\n      <td>FRA</td>\n      <td>A8</td>\n      <td>Paris</td>\n      <td>Paris</td>\n      <td>/funding-round/645b4cd895450b8e0268027cd7813047</td>\n      <td>venture</td>\n      <td>B</td>\n      <td>2015-11-04</td>\n      <td>6602694.0</td>\n      <td>venture B</td>\n      <td>Elaia Partners</td>\n      <td>FRA</td>\n      <td>5</td>\n      <td>6</td>\n    </tr>\n    <tr>\n      <th>24</th>\n      <td>/organization/1001-menus</td>\n      <td>ZenChef</td>\n      <td>Local Businesses|Restaurants</td>\n      <td>FRA</td>\n      <td>A8</td>\n      <td>Paris</td>\n      <td>Paris</td>\n      <td>/funding-round/645b4cd895450b8e0268027cd7813047</td>\n      <td>venture</td>\n      <td>B</td>\n      <td>2015-11-04</td>\n      <td>6602694.0</td>\n      <td>venture B</td>\n      <td>Kima Ventures</td>\n      <td>FRA</td>\n      <td>5</td>\n      <td>6</td>\n    </tr>\n    <tr>\n      <th>25</th>\n      <td>/organization/1001-menus</td>\n      <td>ZenChef</td>\n      <td>Local Businesses|Restaurants</td>\n      <td>FRA</td>\n      <td>A8</td>\n      <td>Paris</td>\n      <td>Paris</td>\n      <td>/funding-round/645b4cd895450b8e0268027cd7813047</td>\n      <td>venture</td>\n      <td>B</td>\n      <td>2015-11-04</td>\n      <td>6602694.0</td>\n      <td>venture B</td>\n      <td>XAnge Private Equity</td>\n      <td>FRA</td>\n      <td>5</td>\n      <td>6</td>\n    </tr>\n    <tr>\n      <th>26</th>\n      <td>/organization/1001-menus</td>\n      <td>ZenChef</td>\n      <td>Local Businesses|Restaurants</td>\n      <td>FRA</td>\n      <td>A8</td>\n      <td>Paris</td>\n      <td>Paris</td>\n      <td>/funding-round/8025123b90c1ab687f9857ffe18bfd3b</td>\n      <td>venture</td>\n      <td>A</td>\n      <td>2013-11-13</td>\n      <td>1736910.0</td>\n      <td>venture A</td>\n      <td>Elaia Partners</td>\n      <td>FRA</td>\n      <td>5</td>\n      <td>5</td>\n    </tr>\n    <tr>\n      <th>27</th>\n      <td>/organization/1001-menus</td>\n      <td>ZenChef</td>\n      <td>Local Businesses|Restaurants</td>\n      <td>FRA</td>\n      <td>A8</td>\n      <td>Paris</td>\n      <td>Paris</td>\n      <td>/funding-round/9d6619bf66478dd8bf19bfc8dc237770</td>\n      <td>seed</td>\n      <td>NaN</td>\n      <td>2012-12-27</td>\n      <td>132169.0</td>\n      <td>seed</td>\n      <td>Kima Ventures</td>\n      <td>FRA</td>\n      <td>2</td>\n      <td>2</td>\n    </tr>\n    <tr>\n      <th>28</th>\n      <td>/organization/1001-menus</td>\n      <td>ZenChef</td>\n      <td>Local Businesses|Restaurants</td>\n      <td>FRA</td>\n      <td>A8</td>\n      <td>Paris</td>\n      <td>Paris</td>\n      <td>/funding-round/b6c28ea4ebe32db7083052cf87e7c368</td>\n      <td>venture</td>\n      <td>A</td>\n      <td>2013-10-25</td>\n      <td>1800000.0</td>\n      <td>venture A</td>\n      <td>Elaia Partners</td>\n      <td>FRA</td>\n      <td>5</td>\n      <td>5</td>\n    </tr>\n    <tr>\n      <th>33</th>\n      <td>/organization/1001pharmacies-com</td>\n      <td>1001pharmacies.com</td>\n      <td>Cosmetics|Marketplaces</td>\n      <td>FRA</td>\n      <td>A9</td>\n      <td>Montpellier</td>\n      <td>Montpellier</td>\n      <td>/funding-round/a21fc4d20200f43e3a25fd9cfc7c1482</td>\n      <td>venture</td>\n      <td>A</td>\n      <td>2015-07-09</td>\n      <td>8900000.0</td>\n      <td>venture A</td>\n      <td>CM-CIC Capital Prive</td>\n      <td>FRA</td>\n      <td>5</td>\n      <td>5</td>\n    </tr>\n    <tr>\n      <th>38</th>\n      <td>/organization/1006-tv</td>\n      <td>1006.tv</td>\n      <td>Games|Media</td>\n      <td>CHN</td>\n      <td>22</td>\n      <td>Beijing</td>\n      <td>Beijing</td>\n      <td>/funding-round/b6aeb7401ec6993f92a16cbca153b600</td>\n      <td>venture</td>\n      <td>B</td>\n      <td>2014-07-31</td>\n      <td>10000000.0</td>\n      <td>venture B</td>\n      <td>ClearVue Partners</td>\n      <td>CHN</td>\n      <td>8</td>\n      <td>9</td>\n    </tr>\n    <tr>\n      <th>39</th>\n      <td>/organization/1006-tv</td>\n      <td>1006.tv</td>\n      <td>Games|Media</td>\n      <td>CHN</td>\n      <td>22</td>\n      <td>Beijing</td>\n      <td>Beijing</td>\n      <td>/funding-round/b6aeb7401ec6993f92a16cbca153b600</td>\n      <td>venture</td>\n      <td>B</td>\n      <td>2014-07-31</td>\n      <td>10000000.0</td>\n      <td>venture B</td>\n      <td>Sequoia Capital</td>\n      <td>USA</td>\n      <td>7</td>\n      <td>9</td>\n    </tr>\n    <tr>\n      <th>41</th>\n      <td>/organization/100e-com</td>\n      <td>100e.com</td>\n      <td>Education</td>\n      <td>CHN</td>\n      <td>22</td>\n      <td>Beijing</td>\n      <td>Beijing</td>\n      <td>/funding-round/22a86670d1055d7bafce665b27e91871</td>\n      <td>venture</td>\n      <td>NaN</td>\n      <td>2006-01-01</td>\n      <td>3000000.0</td>\n      <td>venture</td>\n      <td>iD TechVentures</td>\n      <td>CHN</td>\n      <td>8</td>\n      <td>5</td>\n    </tr>\n    <tr>\n      <th>42</th>\n      <td>/organization/100e-com</td>\n      <td>100e.com</td>\n      <td>Education</td>\n      <td>CHN</td>\n      <td>22</td>\n      <td>Beijing</td>\n      <td>Beijing</td>\n      <td>/funding-round/a136f7eb873dfb13cec839fef7d7f51e</td>\n      <td>venture</td>\n      <td>NaN</td>\n      <td>2006-09-01</td>\n      <td>1500000.0</td>\n      <td>venture</td>\n      <td>iD TechVentures</td>\n      <td>CHN</td>\n      <td>8</td>\n      <td>5</td>\n    </tr>\n    <tr>\n      <th>43</th>\n      <td>/organization/100health</td>\n      <td>Redox</td>\n      <td>Health Care|Health Care Information Technology...</td>\n      <td>USA</td>\n      <td>WI</td>\n      <td>Madison</td>\n      <td>Madison</td>\n      <td>/funding-round/441cefff29e87a7b0bcd644b7dbe59c1</td>\n      <td>seed</td>\n      <td>NaN</td>\n      <td>2014-11-26</td>\n      <td>470000.0</td>\n      <td>seed</td>\n      <td>DreamIt Ventures</td>\n      <td>USA</td>\n      <td>2</td>\n      <td>1</td>\n    </tr>\n    <tr>\n      <th>46</th>\n      <td>/organization/100health</td>\n      <td>Redox</td>\n      <td>Health Care|Health Care Information Technology...</td>\n      <td>USA</td>\n      <td>WI</td>\n      <td>Madison</td>\n      <td>Madison</td>\n      <td>/funding-round/502f558bee350299fd1ae503e5b9a124</td>\n      <td>venture</td>\n      <td>A</td>\n      <td>2015-10-20</td>\n      <td>3530000.0</td>\n      <td>venture A</td>\n      <td>.406 Ventures</td>\n      <td>USA</td>\n      <td>5</td>\n      <td>6</td>\n    </tr>\n    <tr>\n      <th>47</th>\n      <td>/organization/100health</td>\n      <td>Redox</td>\n      <td>Health Care|Health Care Information Technology...</td>\n      <td>USA</td>\n      <td>WI</td>\n      <td>Madison</td>\n      <td>Madison</td>\n      <td>/funding-round/502f558bee350299fd1ae503e5b9a124</td>\n      <td>venture</td>\n      <td>A</td>\n      <td>2015-10-20</td>\n      <td>3530000.0</td>\n      <td>venture A</td>\n      <td>Flybridge Capital Partners</td>\n      <td>USA</td>\n      <td>5</td>\n      <td>7</td>\n    </tr>\n    <tr>\n      <th>49</th>\n      <td>/organization/100plus</td>\n      <td>100Plus</td>\n      <td>Analytics</td>\n      <td>USA</td>\n      <td>CA</td>\n      <td>SF Bay Area</td>\n      <td>San Francisco</td>\n      <td>/funding-round/57ce16d039aa0c61d966397f6db00b02</td>\n      <td>seed</td>\n      <td>NaN</td>\n      <td>2011-11-30</td>\n      <td>750000.0</td>\n      <td>seed</td>\n      <td>Band of Angels</td>\n      <td>USA</td>\n      <td>2</td>\n      <td>3</td>\n    </tr>\n    <tr>\n      <th>50</th>\n      <td>/organization/100plus</td>\n      <td>100Plus</td>\n      <td>Analytics</td>\n      <td>USA</td>\n      <td>CA</td>\n      <td>SF Bay Area</td>\n      <td>San Francisco</td>\n      <td>/funding-round/57ce16d039aa0c61d966397f6db00b02</td>\n      <td>seed</td>\n      <td>NaN</td>\n      <td>2011-11-30</td>\n      <td>750000.0</td>\n      <td>seed</td>\n      <td>Felicis Ventures</td>\n      <td>USA</td>\n      <td>2</td>\n      <td>2</td>\n    </tr>\n    <tr>\n      <th>51</th>\n      <td>/organization/100plus</td>\n      <td>100Plus</td>\n      <td>Analytics</td>\n      <td>USA</td>\n      <td>CA</td>\n      <td>SF Bay Area</td>\n      <td>San Francisco</td>\n      <td>/funding-round/57ce16d039aa0c61d966397f6db00b02</td>\n      <td>seed</td>\n      <td>NaN</td>\n      <td>2011-11-30</td>\n      <td>750000.0</td>\n      <td>seed</td>\n      <td>Greylock Partners</td>\n      <td>USA</td>\n      <td>2</td>\n      <td>2</td>\n    </tr>\n    <tr>\n      <th>53</th>\n      <td>/organization/1010data</td>\n      <td>1010data</td>\n      <td>Software</td>\n      <td>USA</td>\n      <td>NY</td>\n      <td>New York City</td>\n      <td>New York</td>\n      <td>/funding-round/482fbf992b48f5c47d0080ab7ec0cb54</td>\n      <td>venture</td>\n      <td>NaN</td>\n      <td>2010-03-08</td>\n      <td>35000000.0</td>\n      <td>venture</td>\n      <td>Norwest Venture Partners - NVP</td>\n      <td>USA</td>\n      <td>8</td>\n      <td>9</td>\n    </tr>\n    <tr>\n      <th>54</th>\n      <td>/organization/10k-2</td>\n      <td>Beans Around</td>\n      <td>Coffee|Delivery|Subscription Service</td>\n      <td>NaN</td>\n      <td>NaN</td>\n      <td>NaN</td>\n      <td>NaN</td>\n      <td>/funding-round/95401c8e8336892bf375ad94efd6c725</td>\n      <td>seed</td>\n      <td>NaN</td>\n      <td>2015-09-04</td>\n      <td>100000.0</td>\n      <td>seed</td>\n      <td>Marvelstone</td>\n      <td>KOR</td>\n      <td>3</td>\n      <td>1</td>\n    </tr>\n    <tr>\n      <th>55</th>\n      <td>/organization/10sec</td>\n      <td>10sec</td>\n      <td>E-Commerce|Mobile Commerce|Social Commerce</td>\n      <td>USA</td>\n      <td>CA</td>\n      <td>SF Bay Area</td>\n      <td>San Francisco</td>\n      <td>/funding-round/3f842b5ec5236ed37e375b73e945ab7f</td>\n      <td>seed</td>\n      <td>NaN</td>\n      <td>2014-05-08</td>\n      <td>1600000.0</td>\n      <td>seed</td>\n      <td>CyberAgent Ventures</td>\n      <td>JPN</td>\n      <td>2</td>\n      <td>3</td>\n    </tr>\n    <tr>\n      <th>56</th>\n      <td>/organization/10x-genomics</td>\n      <td>10X Genomics</td>\n      <td>Biotechnology|Technology</td>\n      <td>USA</td>\n      <td>CA</td>\n      <td>SF Bay Area</td>\n      <td>Pleasanton</td>\n      <td>/funding-round/563923487783bdeb5d0b7872f3d6b99a</td>\n      <td>venture</td>\n      <td>B</td>\n      <td>2015-01-12</td>\n      <td>55000000.0</td>\n      <td>venture B</td>\n      <td>Foresite Capital</td>\n      <td>USA</td>\n      <td>7</td>\n      <td>9</td>\n    </tr>\n    <tr>\n      <th>57</th>\n      <td>/organization/10x-genomics</td>\n      <td>10X Genomics</td>\n      <td>Biotechnology|Technology</td>\n      <td>USA</td>\n      <td>CA</td>\n      <td>SF Bay Area</td>\n      <td>Pleasanton</td>\n      <td>/funding-round/563923487783bdeb5d0b7872f3d6b99a</td>\n      <td>venture</td>\n      <td>B</td>\n      <td>2015-01-12</td>\n      <td>55000000.0</td>\n      <td>venture B</td>\n      <td>Paladin Capital Group</td>\n      <td>USA</td>\n      <td>7</td>\n      <td>9</td>\n    </tr>\n    <tr>\n      <th>58</th>\n      <td>/organization/10x-genomics</td>\n      <td>10X Genomics</td>\n      <td>Biotechnology|Technology</td>\n      <td>USA</td>\n      <td>CA</td>\n      <td>SF Bay Area</td>\n      <td>Pleasanton</td>\n      <td>/funding-round/563923487783bdeb5d0b7872f3d6b99a</td>\n      <td>venture</td>\n      <td>B</td>\n      <td>2015-01-12</td>\n      <td>55000000.0</td>\n      <td>venture B</td>\n      <td>Venrock</td>\n      <td>USA</td>\n      <td>7</td>\n      <td>10</td>\n    </tr>\n    <tr>\n      <th>59</th>\n      <td>/organization/12-labs</td>\n      <td>12 Labs</td>\n      <td>Health and Wellness|Personal Health</td>\n      <td>USA</td>\n      <td>CA</td>\n      <td>SF Bay Area</td>\n      <td>Palo Alto</td>\n      <td>/funding-round/958803df0c565d11afba52347f7efcde</td>\n      <td>seed</td>\n      <td>NaN</td>\n      <td>2014-11-26</td>\n      <td>935000.0</td>\n      <td>seed</td>\n      <td>Serra Ventures</td>\n      <td>USA</td>\n      <td>2</td>\n      <td>2</td>\n    </tr>\n    <tr>\n      <th>62</th>\n      <td>/organization/12-labs</td>\n      <td>12 Labs</td>\n      <td>Health and Wellness|Personal Health</td>\n      <td>USA</td>\n      <td>CA</td>\n      <td>SF Bay Area</td>\n      <td>Palo Alto</td>\n      <td>/funding-round/958803df0c565d11afba52347f7efcde</td>\n      <td>seed</td>\n      <td>NaN</td>\n      <td>2014-11-26</td>\n      <td>935000.0</td>\n      <td>seed</td>\n      <td>Marc Benioff</td>\n      <td>USA</td>\n      <td>2</td>\n      <td>3</td>\n    </tr>\n    <tr>\n      <th>64</th>\n      <td>/organization/121nexus</td>\n      <td>121nexus</td>\n      <td>Health Diagnostics|Medical Devices|Personaliza...</td>\n      <td>USA</td>\n      <td>RI</td>\n      <td>Providence</td>\n      <td>Providence</td>\n      <td>/funding-round/7cdbef123afa3f9a41d080147158edc0</td>\n      <td>grant</td>\n      <td>NaN</td>\n      <td>2013-07-01</td>\n      <td>150000.0</td>\n      <td>grant</td>\n      <td>National Science Foundation</td>\n      <td>USA</td>\n      <td>6</td>\n      <td>4</td>\n    </tr>\n    <tr>\n      <th>68</th>\n      <td>/organization/123feng-com</td>\n      <td>123Feng.Com</td>\n      <td>NaN</td>\n      <td>CHN</td>\n      <td>2</td>\n      <td>Hangzhou</td>\n      <td>Hangzhou</td>\n      <td>/funding-round/9d83084d87dc63a309c9a6fe9bf59d1b</td>\n      <td>venture</td>\n      <td>A</td>\n      <td>2015-10-27</td>\n      <td>13000000.0</td>\n      <td>venture A</td>\n      <td>Lightspeed Venture Partners</td>\n      <td>USA</td>\n      <td>5</td>\n      <td>7</td>\n    </tr>\n    <tr>\n      <th>69</th>\n      <td>/organization/123feng-com</td>\n      <td>123Feng.Com</td>\n      <td>NaN</td>\n      <td>CHN</td>\n      <td>2</td>\n      <td>Hangzhou</td>\n      <td>Hangzhou</td>\n      <td>/funding-round/9d83084d87dc63a309c9a6fe9bf59d1b</td>\n      <td>venture</td>\n      <td>A</td>\n      <td>2015-10-27</td>\n      <td>13000000.0</td>\n      <td>venture A</td>\n      <td>Matrix Partners</td>\n      <td>USA</td>\n      <td>5</td>\n      <td>8</td>\n    </tr>\n    <tr>\n      <th>70</th>\n      <td>/organization/123greetings</td>\n      <td>123Greetings</td>\n      <td>Internet</td>\n      <td>NaN</td>\n      <td>NaN</td>\n      <td>NaN</td>\n      <td>NaN</td>\n      <td>/funding-round/5dd1821a92088ff96b467eb16431731a</td>\n      <td>venture</td>\n      <td>NaN</td>\n      <td>2015-07-23</td>\n      <td>5400000.0</td>\n      <td>venture</td>\n      <td>Intel Capital</td>\n      <td>USA</td>\n      <td>8</td>\n      <td>9</td>\n    </tr>\n    <tr>\n      <th>72</th>\n      <td>/organization/12bis</td>\n      <td>12Bis</td>\n      <td>Publishing|Services</td>\n      <td>FRA</td>\n      <td>A8</td>\n      <td>Paris</td>\n      <td>Paris</td>\n      <td>/funding-round/19c048bab9708ca7aa465043160f59d1</td>\n      <td>seed</td>\n      <td>NaN</td>\n      <td>2012-03-15</td>\n      <td>130636.0</td>\n      <td>seed</td>\n      <td>Kima Ventures</td>\n      <td>FRA</td>\n      <td>2</td>\n      <td>2</td>\n    </tr>\n    <tr>\n      <th>73</th>\n      <td>/organization/12cm</td>\n      <td>12cm</td>\n      <td>Mobile|Service Providers|Software</td>\n      <td>KOR</td>\n      <td>13</td>\n      <td>Bundangdong</td>\n      <td>Bundangdong</td>\n      <td>/funding-round/51db8370127fb51822a3e291971ef195</td>\n      <td>venture</td>\n      <td>A</td>\n      <td>2014-12-11</td>\n      <td>1809056.0</td>\n      <td>venture A</td>\n      <td>Capstone Partners Korea</td>\n      <td>KOR</td>\n      <td>4</td>\n      <td>3</td>\n    </tr>\n    <tr>\n      <th>76</th>\n      <td>/organization/1366-technologies</td>\n      <td>1366 Technologies</td>\n      <td>Manufacturing</td>\n      <td>USA</td>\n      <td>MA</td>\n      <td>Boston</td>\n      <td>Bedford</td>\n      <td>/funding-round/424129ce1235cfab2655ee81305f7c2b</td>\n      <td>venture</td>\n      <td>C</td>\n      <td>2013-10-15</td>\n      <td>15000000.0</td>\n      <td>venture C</td>\n      <td>North Bridge Venture Partners &amp; Growth Equity</td>\n      <td>USA</td>\n      <td>7</td>\n      <td>8</td>\n    </tr>\n    <tr>\n      <th>77</th>\n      <td>/organization/1366-technologies</td>\n      <td>1366 Technologies</td>\n      <td>Manufacturing</td>\n      <td>USA</td>\n      <td>MA</td>\n      <td>Boston</td>\n      <td>Bedford</td>\n      <td>/funding-round/424129ce1235cfab2655ee81305f7c2b</td>\n      <td>venture</td>\n      <td>C</td>\n      <td>2013-10-15</td>\n      <td>15000000.0</td>\n      <td>venture C</td>\n      <td>Polaris Partners</td>\n      <td>USA</td>\n      <td>7</td>\n      <td>9</td>\n    </tr>\n    <tr>\n      <th>79</th>\n      <td>/organization/1366-technologies</td>\n      <td>1366 Technologies</td>\n      <td>Manufacturing</td>\n      <td>USA</td>\n      <td>MA</td>\n      <td>Boston</td>\n      <td>Bedford</td>\n      <td>/funding-round/424129ce1235cfab2655ee81305f7c2b</td>\n      <td>venture</td>\n      <td>C</td>\n      <td>2013-10-15</td>\n      <td>15000000.0</td>\n      <td>venture C</td>\n      <td>VantagePoint Capital Partners</td>\n      <td>USA</td>\n      <td>7</td>\n      <td>9</td>\n    </tr>\n    <tr>\n      <th>81</th>\n      <td>/organization/1366-technologies</td>\n      <td>1366 Technologies</td>\n      <td>Manufacturing</td>\n      <td>USA</td>\n      <td>MA</td>\n      <td>Boston</td>\n      <td>Bedford</td>\n      <td>/funding-round/786f61aa9866f4471151285f5c56be36</td>\n      <td>venture</td>\n      <td>A</td>\n      <td>2010-02-03</td>\n      <td>5150000.0</td>\n      <td>venture A</td>\n      <td>North Bridge Venture Partners &amp; Growth Equity</td>\n      <td>USA</td>\n      <td>5</td>\n      <td>8</td>\n    </tr>\n    <tr>\n      <th>82</th>\n      <td>/organization/1366-technologies</td>\n      <td>1366 Technologies</td>\n      <td>Manufacturing</td>\n      <td>USA</td>\n      <td>MA</td>\n      <td>Boston</td>\n      <td>Bedford</td>\n      <td>/funding-round/786f61aa9866f4471151285f5c56be36</td>\n      <td>venture</td>\n      <td>A</td>\n      <td>2010-02-03</td>\n      <td>5150000.0</td>\n      <td>venture A</td>\n      <td>Polaris Partners</td>\n      <td>USA</td>\n      <td>5</td>\n      <td>8</td>\n    </tr>\n    <tr>\n      <th>83</th>\n      <td>/organization/1366-technologies</td>\n      <td>1366 Technologies</td>\n      <td>Manufacturing</td>\n      <td>USA</td>\n      <td>MA</td>\n      <td>Boston</td>\n      <td>Bedford</td>\n      <td>/funding-round/82ace97530965cd2be8f262836b43ff5</td>\n      <td>venture</td>\n      <td>A</td>\n      <td>2008-03-27</td>\n      <td>12400000.0</td>\n      <td>venture A</td>\n      <td>North Bridge Venture Partners &amp; Growth Equity</td>\n      <td>USA</td>\n      <td>5</td>\n      <td>8</td>\n    </tr>\n    <tr>\n      <th>84</th>\n      <td>/organization/1366-technologies</td>\n      <td>1366 Technologies</td>\n      <td>Manufacturing</td>\n      <td>USA</td>\n      <td>MA</td>\n      <td>Boston</td>\n      <td>Bedford</td>\n      <td>/funding-round/82ace97530965cd2be8f262836b43ff5</td>\n      <td>venture</td>\n      <td>A</td>\n      <td>2008-03-27</td>\n      <td>12400000.0</td>\n      <td>venture A</td>\n      <td>Polaris Partners</td>\n      <td>USA</td>\n      <td>5</td>\n      <td>8</td>\n    </tr>\n    <tr>\n      <th>85</th>\n      <td>/organization/1366-technologies</td>\n      <td>1366 Technologies</td>\n      <td>Manufacturing</td>\n      <td>USA</td>\n      <td>MA</td>\n      <td>Boston</td>\n      <td>Bedford</td>\n      <td>/funding-round/ab99fc5a53717b1b53fd6aa5687c5fa9</td>\n      <td>venture</td>\n      <td>B</td>\n      <td>2010-12-16</td>\n      <td>6000000.0</td>\n      <td>venture B</td>\n      <td>North Bridge Venture Partners &amp; Growth Equity</td>\n      <td>USA</td>\n      <td>7</td>\n      <td>8</td>\n    </tr>\n    <tr>\n      <th>86</th>\n      <td>/organization/1366-technologies</td>\n      <td>1366 Technologies</td>\n      <td>Manufacturing</td>\n      <td>USA</td>\n      <td>MA</td>\n      <td>Boston</td>\n      <td>Bedford</td>\n      <td>/funding-round/ab99fc5a53717b1b53fd6aa5687c5fa9</td>\n      <td>venture</td>\n      <td>B</td>\n      <td>2010-12-16</td>\n      <td>6000000.0</td>\n      <td>venture B</td>\n      <td>Polaris Partners</td>\n      <td>USA</td>\n      <td>7</td>\n      <td>8</td>\n    </tr>\n    <tr>\n      <th>89</th>\n      <td>/organization/1366-technologies</td>\n      <td>1366 Technologies</td>\n      <td>Manufacturing</td>\n      <td>USA</td>\n      <td>MA</td>\n      <td>Boston</td>\n      <td>Bedford</td>\n      <td>/funding-round/b09fa4a4c5c5f5f19305c39c94b7d673</td>\n      <td>venture</td>\n      <td>B</td>\n      <td>2010-10-19</td>\n      <td>20000000.0</td>\n      <td>venture B</td>\n      <td>North Bridge Venture Partners &amp; Growth Equity</td>\n      <td>USA</td>\n      <td>7</td>\n      <td>8</td>\n    </tr>\n  </tbody>\n</table>\n</div>"
     },
     "metadata": {}
    }
   ],
   "execution_count": null
  },
  {
   "cell_type": "markdown",
   "source": "## 3. Updating indexes with non unique values for each startup and round pair\nIn one investment round, there might be more than one investor companies. This means for each startup company and round pair, investor country round index and investor round index might not be unique. To represent these indexes, an aggragation is applied as grouping each startup company and round pair, updating these index features with mean index value.",
   "metadata": {
    "cell_id": "68a140b575834dc880f989aa131558a5",
    "tags": [],
    "deepnote_cell_type": "markdown",
    "deepnote_cell_height": 193.1999969482422
   }
  },
  {
   "cell_type": "code",
   "metadata": {
    "cell_id": "4a5c1ebb2aa24e76b00d955cf3b4554c",
    "tags": [],
    "deepnote_to_be_reexecuted": false,
    "source_hash": "b65e14e5",
    "execution_start": 1651606443696,
    "execution_millis": 205,
    "deepnote_cell_type": "code",
    "deepnote_cell_height": 741
   },
   "source": "data_merged_grouped = data_merged.groupby(['funding_round_permalink'])\\\n                    .agg({'investor_country_round_index': 'mean',\n                          'investors_round_index': 'mean'}).round()\ndel data_merged['investor_country_round_index'], data_merged['investors_round_index']\ndata_merged = data_merged.merge(data_merged_grouped, how = 'left', left_on = 'funding_round_permalink', right_index=True)\ndata_merged['investor_country_round_index'] = data_merged['investor_country_round_index'].astype(int)\ndata_merged['investors_round_index'] = data_merged['investors_round_index'].astype(int)\ndata_merged.tail(50)",
   "outputs": [
    {
     "output_type": "execute_result",
     "execution_count": 14,
     "data": {
      "application/vnd.deepnote.dataframe.v3+json": {
       "column_count": 17,
       "row_count": 50,
       "columns": [
        {
         "name": "company_permalink",
         "dtype": "object",
         "stats": {
          "unique_count": 12,
          "nan_count": 0,
          "categories": [
           {
            "name": "/organization/zynga",
            "count": 27
           },
           {
            "name": "/organization/zystor",
            "count": 6
           },
           {
            "name": "10 others",
            "count": 17
           }
          ]
         }
        },
        {
         "name": "company_name",
         "dtype": "object",
         "stats": {
          "unique_count": 12,
          "nan_count": 0,
          "categories": [
           {
            "name": "Zynga",
            "count": 27
           },
           {
            "name": "Zystor",
            "count": 6
           },
           {
            "name": "10 others",
            "count": 17
           }
          ]
         }
        },
        {
         "name": "company_category_list",
         "dtype": "object",
         "stats": {
          "unique_count": 8,
          "nan_count": 0,
          "categories": [
           {
            "name": "Facebook Applications|Games|Networking|Technology",
            "count": 27
           },
           {
            "name": "Biotechnology",
            "count": 11
           },
           {
            "name": "6 others",
            "count": 12
           }
          ]
         }
        },
        {
         "name": "company_country_code",
         "dtype": "object",
         "stats": {
          "unique_count": 6,
          "nan_count": 0,
          "categories": [
           {
            "name": "USA",
            "count": 39
           },
           {
            "name": "GBR",
            "count": 4
           },
           {
            "name": "4 others",
            "count": 7
           }
          ]
         }
        },
        {
         "name": "company_state_code",
         "dtype": "object",
         "stats": {
          "unique_count": 12,
          "nan_count": 0,
          "categories": [
           {
            "name": "CA",
            "count": 27
           },
           {
            "name": "WI",
            "count": 6
           },
           {
            "name": "10 others",
            "count": 17
           }
          ]
         }
        },
        {
         "name": "company_region",
         "dtype": "object",
         "stats": {
          "unique_count": 12,
          "nan_count": 0,
          "categories": [
           {
            "name": "SF Bay Area",
            "count": 27
           },
           {
            "name": "Milwaukee",
            "count": 6
           },
           {
            "name": "10 others",
            "count": 17
           }
          ]
         }
        },
        {
         "name": "company_city",
         "dtype": "object",
         "stats": {
          "unique_count": 12,
          "nan_count": 0,
          "categories": [
           {
            "name": "San Francisco",
            "count": 27
           },
           {
            "name": "Milwaukee",
            "count": 6
           },
           {
            "name": "10 others",
            "count": 17
           }
          ]
         }
        },
        {
         "name": "funding_round_permalink",
         "dtype": "object",
         "stats": {
          "unique_count": 21,
          "nan_count": 0,
          "categories": [
           {
            "name": "/funding-round/66d64809546fe2031d3479161e3c88f9",
            "count": 8
           },
           {
            "name": "/funding-round/7ea37c0ff4132b084832039a9380d34e",
            "count": 6
           },
           {
            "name": "19 others",
            "count": 36
           }
          ]
         }
        },
        {
         "name": "funding_round_type",
         "dtype": "object",
         "stats": {
          "unique_count": 2,
          "nan_count": 0,
          "categories": [
           {
            "name": "venture",
            "count": 46
           },
           {
            "name": "seed",
            "count": 4
           }
          ]
         }
        },
        {
         "name": "funding_round_code",
         "dtype": "object",
         "stats": {
          "unique_count": 3,
          "nan_count": 5,
          "categories": [
           {
            "name": "A",
            "count": 22
           },
           {
            "name": "2 others",
            "count": 23
           },
           {
            "name": "Missing",
            "count": 5
           }
          ]
         }
        },
        {
         "name": "funded_at",
         "dtype": "object",
         "stats": {
          "unique_count": 21,
          "nan_count": 0,
          "categories": [
           {
            "name": "2008-01-01",
            "count": 8
           },
           {
            "name": "2004-12-16",
            "count": 6
           },
           {
            "name": "19 others",
            "count": 36
           }
          ]
         }
        },
        {
         "name": "raised_amount_usd",
         "dtype": "float64",
         "stats": {
          "unique_count": 20,
          "nan_count": 0,
          "min": "50000.0",
          "max": "490000000.0",
          "histogram": [
           {
            "bin_start": 50000,
            "bin_end": 49045000,
            "count": 44
           },
           {
            "bin_start": 49045000,
            "bin_end": 98040000,
            "count": 0
           },
           {
            "bin_start": 98040000,
            "bin_end": 147035000,
            "count": 0
           },
           {
            "bin_start": 147035000,
            "bin_end": 196030000,
            "count": 0
           },
           {
            "bin_start": 196030000,
            "bin_end": 245025000,
            "count": 0
           },
           {
            "bin_start": 245025000,
            "bin_end": 294020000,
            "count": 0
           },
           {
            "bin_start": 294020000,
            "bin_end": 343015000,
            "count": 2
           },
           {
            "bin_start": 343015000,
            "bin_end": 392010000,
            "count": 0
           },
           {
            "bin_start": 392010000,
            "bin_end": 441005000,
            "count": 0
           },
           {
            "bin_start": 441005000,
            "bin_end": 490000000,
            "count": 4
           }
          ]
         }
        },
        {
         "name": "funding_round",
         "dtype": "object",
         "stats": {
          "unique_count": 5,
          "nan_count": 0,
          "categories": [
           {
            "name": "venture A",
            "count": 22
           },
           {
            "name": "venture B",
            "count": 18
           },
           {
            "name": "3 others",
            "count": 10
           }
          ]
         }
        },
        {
         "name": "investor_name",
         "dtype": "object",
         "stats": {
          "unique_count": 39,
          "nan_count": 0,
          "categories": [
           {
            "name": "Avalon Ventures",
            "count": 3
           },
           {
            "name": "Foundry Group",
            "count": 3
           },
           {
            "name": "37 others",
            "count": 44
           }
          ]
         }
        },
        {
         "name": "investor_country_code",
         "dtype": "object",
         "stats": {
          "unique_count": 5,
          "nan_count": 0,
          "categories": [
           {
            "name": "USA",
            "count": 40
           },
           {
            "name": "ESP",
            "count": 6
           },
           {
            "name": "3 others",
            "count": 4
           }
          ]
         }
        },
        {
         "name": "investor_country_round_index",
         "dtype": "int64",
         "stats": {
          "unique_count": 4,
          "nan_count": 0,
          "min": "2",
          "max": "7",
          "histogram": [
           {
            "bin_start": 2,
            "bin_end": 2.5,
            "count": 4
           },
           {
            "bin_start": 2.5,
            "bin_end": 3,
            "count": 0
           },
           {
            "bin_start": 3,
            "bin_end": 3.5,
            "count": 0
           },
           {
            "bin_start": 3.5,
            "bin_end": 4,
            "count": 0
           },
           {
            "bin_start": 4,
            "bin_end": 4.5,
            "count": 2
           },
           {
            "bin_start": 4.5,
            "bin_end": 5,
            "count": 0
           },
           {
            "bin_start": 5,
            "bin_end": 5.5,
            "count": 24
           },
           {
            "bin_start": 5.5,
            "bin_end": 6,
            "count": 0
           },
           {
            "bin_start": 6,
            "bin_end": 6.5,
            "count": 0
           },
           {
            "bin_start": 6.5,
            "bin_end": 7,
            "count": 20
           }
          ]
         }
        },
        {
         "name": "investors_round_index",
         "dtype": "int64",
         "stats": {
          "unique_count": 9,
          "nan_count": 0,
          "min": "1",
          "max": "10",
          "histogram": [
           {
            "bin_start": 1,
            "bin_end": 1.9,
            "count": 3
           },
           {
            "bin_start": 1.9,
            "bin_end": 2.8,
            "count": 0
           },
           {
            "bin_start": 2.8,
            "bin_end": 3.7,
            "count": 2
           },
           {
            "bin_start": 3.7,
            "bin_end": 4.6,
            "count": 9
           },
           {
            "bin_start": 4.6,
            "bin_end": 5.5,
            "count": 12
           },
           {
            "bin_start": 5.5,
            "bin_end": 6.4,
            "count": 2
           },
           {
            "bin_start": 6.4,
            "bin_end": 7.3,
            "count": 2
           },
           {
            "bin_start": 7.3,
            "bin_end": 8.2,
            "count": 7
           },
           {
            "bin_start": 8.2,
            "bin_end": 9.1,
            "count": 7
           },
           {
            "bin_start": 9.1,
            "bin_end": 10,
            "count": 6
           }
          ]
         }
        },
        {
         "name": "_deepnote_index_column",
         "dtype": "int64"
        }
       ],
       "rows": [
        {
         "company_permalink": "/organization/zymeworks",
         "company_name": "Zymeworks",
         "company_category_list": "Biotechnology",
         "company_country_code": "CAN",
         "company_state_code": "BC",
         "company_region": "Vancouver",
         "company_city": "Vancouver",
         "funding_round_permalink": "/funding-round/fff65853a50d907bdf362b572076f1d1",
         "funding_round_type": "venture",
         "funding_round_code": "C",
         "funded_at": "2009-06-26",
         "raised_amount_usd": 3500000,
         "funding_round": "venture C",
         "investor_name": "CTI Capital",
         "investor_country_code": "CAN",
         "investor_country_round_index": 7,
         "investors_round_index": 9,
         "_deepnote_index_column": 113174
        },
        {
         "company_permalink": "/organization/zyncd",
         "company_name": "Zyncd",
         "company_category_list": "Crowdsourcing|Knowledge Management",
         "company_country_code": "GBR",
         "company_state_code": "H9",
         "company_region": "London",
         "company_city": "London",
         "funding_round_permalink": "/funding-round/3549f5a481f83610044a4226926acf5a",
         "funding_round_type": "venture",
         "funding_round_code": "nan",
         "funded_at": "2014-09-01",
         "raised_amount_usd": 144451,
         "funding_round": "venture",
         "investor_name": "Wayra",
         "investor_country_code": "ESP",
         "investor_country_round_index": 4,
         "investors_round_index": 1,
         "_deepnote_index_column": 113176
        },
        {
         "company_permalink": "/organization/zyncd",
         "company_name": "Zyncd",
         "company_category_list": "Crowdsourcing|Knowledge Management",
         "company_country_code": "GBR",
         "company_state_code": "H9",
         "company_region": "London",
         "company_city": "London",
         "funding_round_permalink": "/funding-round/5a0d321abcfef61a8bae383176ac46e7",
         "funding_round_type": "seed",
         "funding_round_code": "nan",
         "funded_at": "2014-02-01",
         "raised_amount_usd": 54042,
         "funding_round": "seed",
         "investor_name": "Wayra",
         "investor_country_code": "ESP",
         "investor_country_round_index": 2,
         "investors_round_index": 1,
         "_deepnote_index_column": 113177
        },
        {
         "company_permalink": "/organization/zyncro",
         "company_name": "Zyncro",
         "company_category_list": "Cloud Computing|Enterprise 2.0|Enterprise Software|MicroBlogging|Social Business",
         "company_country_code": "ESP",
         "company_state_code": "56",
         "company_region": "Barcelona",
         "company_city": "Barcelona",
         "funding_round_permalink": "/funding-round/35310bcb0945d9d4b5ffa5482e5c87f3",
         "funding_round_type": "venture",
         "funding_round_code": "B",
         "funded_at": "2012-02-03",
         "raised_amount_usd": 2105600,
         "funding_round": "venture B",
         "investor_name": "Active Venture Partners",
         "investor_country_code": "ESP",
         "investor_country_round_index": 5,
         "investors_round_index": 5,
         "_deepnote_index_column": 113178
        },
        {
         "company_permalink": "/organization/zyncro",
         "company_name": "Zyncro",
         "company_category_list": "Cloud Computing|Enterprise 2.0|Enterprise Software|MicroBlogging|Social Business",
         "company_country_code": "ESP",
         "company_state_code": "56",
         "company_region": "Barcelona",
         "company_city": "Barcelona",
         "funding_round_permalink": "/funding-round/35310bcb0945d9d4b5ffa5482e5c87f3",
         "funding_round_type": "venture",
         "funding_round_code": "B",
         "funded_at": "2012-02-03",
         "raised_amount_usd": 2105600,
         "funding_round": "venture B",
         "investor_name": "Cabiedes & Partners",
         "investor_country_code": "ESP",
         "investor_country_round_index": 5,
         "investors_round_index": 5,
         "_deepnote_index_column": 113179
        },
        {
         "company_permalink": "/organization/zyncro",
         "company_name": "Zyncro",
         "company_category_list": "Cloud Computing|Enterprise 2.0|Enterprise Software|MicroBlogging|Social Business",
         "company_country_code": "ESP",
         "company_state_code": "56",
         "company_region": "Barcelona",
         "company_city": "Barcelona",
         "funding_round_permalink": "/funding-round/35310bcb0945d9d4b5ffa5482e5c87f3",
         "funding_round_type": "venture",
         "funding_round_code": "B",
         "funded_at": "2012-02-03",
         "raised_amount_usd": 2105600,
         "funding_round": "venture B",
         "investor_name": "Caixa Capital Risc",
         "investor_country_code": "ESP",
         "investor_country_round_index": 5,
         "investors_round_index": 5,
         "_deepnote_index_column": 113180
        },
        {
         "company_permalink": "/organization/zyncro",
         "company_name": "Zyncro",
         "company_category_list": "Cloud Computing|Enterprise 2.0|Enterprise Software|MicroBlogging|Social Business",
         "company_country_code": "ESP",
         "company_state_code": "56",
         "company_region": "Barcelona",
         "company_city": "Barcelona",
         "funding_round_permalink": "/funding-round/c8dd9ae33cc5d5a1d972b470a5955373",
         "funding_round_type": "venture",
         "funding_round_code": "A",
         "funded_at": "2011-04-05",
         "raised_amount_usd": 1699920,
         "funding_round": "venture A",
         "investor_name": "Cabiedes & Partners",
         "investor_country_code": "ESP",
         "investor_country_round_index": 4,
         "investors_round_index": 4,
         "_deepnote_index_column": 113181
        },
        {
         "company_permalink": "/organization/zynga",
         "company_name": "Zynga",
         "company_category_list": "Facebook Applications|Games|Networking|Technology",
         "company_country_code": "USA",
         "company_state_code": "CA",
         "company_region": "SF Bay Area",
         "company_city": "San Francisco",
         "funding_round_permalink": "/funding-round/1bc4f7b3a778e5abfbd7131f595f5011",
         "funding_round_type": "venture",
         "funding_round_code": "B",
         "funded_at": "2009-11-04",
         "raised_amount_usd": 15187000,
         "funding_round": "venture B",
         "investor_name": "Andreessen Horowitz",
         "investor_country_code": "USA",
         "investor_country_round_index": 7,
         "investors_round_index": 9,
         "_deepnote_index_column": 113182
        },
        {
         "company_permalink": "/organization/zynga",
         "company_name": "Zynga",
         "company_category_list": "Facebook Applications|Games|Networking|Technology",
         "company_country_code": "USA",
         "company_state_code": "CA",
         "company_region": "SF Bay Area",
         "company_city": "San Francisco",
         "funding_round_permalink": "/funding-round/1bc4f7b3a778e5abfbd7131f595f5011",
         "funding_round_type": "venture",
         "funding_round_code": "B",
         "funded_at": "2009-11-04",
         "raised_amount_usd": 15187000,
         "funding_round": "venture B",
         "investor_name": "DST Global",
         "investor_country_code": "RUS",
         "investor_country_round_index": 7,
         "investors_round_index": 9,
         "_deepnote_index_column": 113183
        },
        {
         "company_permalink": "/organization/zynga",
         "company_name": "Zynga",
         "company_category_list": "Facebook Applications|Games|Networking|Technology",
         "company_country_code": "USA",
         "company_state_code": "CA",
         "company_region": "SF Bay Area",
         "company_city": "San Francisco",
         "funding_round_permalink": "/funding-round/1bc4f7b3a778e5abfbd7131f595f5011",
         "funding_round_type": "venture",
         "funding_round_code": "B",
         "funded_at": "2009-11-04",
         "raised_amount_usd": 15187000,
         "funding_round": "venture B",
         "investor_name": "IVP",
         "investor_country_code": "USA",
         "investor_country_round_index": 7,
         "investors_round_index": 9,
         "_deepnote_index_column": 113184
        }
       ]
      },
      "text/plain": "                                        company_permalink  \\\n113174                            /organization/zymeworks   \n113176                                /organization/zyncd   \n113177                                /organization/zyncd   \n113178                               /organization/zyncro   \n113179                               /organization/zyncro   \n113180                               /organization/zyncro   \n113181                               /organization/zyncro   \n113182                                /organization/zynga   \n113183                                /organization/zynga   \n113184                                /organization/zynga   \n113185                                /organization/zynga   \n113186                                /organization/zynga   \n113187                                /organization/zynga   \n113189                                /organization/zynga   \n113190                                /organization/zynga   \n113191                                /organization/zynga   \n113192                                /organization/zynga   \n113195                                /organization/zynga   \n113196                                /organization/zynga   \n113197                                /organization/zynga   \n113198                                /organization/zynga   \n113199                                /organization/zynga   \n113200                                /organization/zynga   \n113201                                /organization/zynga   \n113202                                /organization/zynga   \n113203                                /organization/zynga   \n113204                                /organization/zynga   \n113205                                /organization/zynga   \n113206                                /organization/zynga   \n113207                                /organization/zynga   \n113208                                /organization/zynga   \n113209                                /organization/zynga   \n113210                                /organization/zynga   \n113211                                /organization/zynga   \n113212                             /organization/zyngenia   \n113213                              /organization/zynstra   \n113217                              /organization/zynstra   \n113219                           /organization/zyomyx-inc   \n113221                           /organization/zyomyx-inc   \n113222                               /organization/zypsee   \n113227                                /organization/zyrra   \n113228                                /organization/zyrra   \n113230                               /organization/zystor   \n113231                               /organization/zystor   \n113232                               /organization/zystor   \n113233                               /organization/zystor   \n113234                               /organization/zystor   \n113235                               /organization/zystor   \n113236                           /organization/zytoprotec   \n113237  /organization/zznode-science-and-technology-co...   \n\n                         company_name  \\\n113174                      Zymeworks   \n113176                          Zyncd   \n113177                          Zyncd   \n113178                         Zyncro   \n113179                         Zyncro   \n113180                         Zyncro   \n113181                         Zyncro   \n113182                          Zynga   \n113183                          Zynga   \n113184                          Zynga   \n113185                          Zynga   \n113186                          Zynga   \n113187                          Zynga   \n113189                          Zynga   \n113190                          Zynga   \n113191                          Zynga   \n113192                          Zynga   \n113195                          Zynga   \n113196                          Zynga   \n113197                          Zynga   \n113198                          Zynga   \n113199                          Zynga   \n113200                          Zynga   \n113201                          Zynga   \n113202                          Zynga   \n113203                          Zynga   \n113204                          Zynga   \n113205                          Zynga   \n113206                          Zynga   \n113207                          Zynga   \n113208                          Zynga   \n113209                          Zynga   \n113210                          Zynga   \n113211                          Zynga   \n113212                       Zyngenia   \n113213                        Zynstra   \n113217                        Zynstra   \n113219                         ZYOMYX   \n113221                         ZYOMYX   \n113222        Whisk (formerly Zypsee)   \n113227                          Zyrra   \n113228                          Zyrra   \n113230                         Zystor   \n113231                         Zystor   \n113232                         Zystor   \n113233                         Zystor   \n113234                         Zystor   \n113235                         Zystor   \n113236                     Zytoprotec   \n113237  ZZNode Science and Technology   \n\n                                    company_category_list  \\\n113174                                      Biotechnology   \n113176                 Crowdsourcing|Knowledge Management   \n113177                 Crowdsourcing|Knowledge Management   \n113178  Cloud Computing|Enterprise 2.0|Enterprise Soft...   \n113179  Cloud Computing|Enterprise 2.0|Enterprise Soft...   \n113180  Cloud Computing|Enterprise 2.0|Enterprise Soft...   \n113181  Cloud Computing|Enterprise 2.0|Enterprise Soft...   \n113182  Facebook Applications|Games|Networking|Technology   \n113183  Facebook Applications|Games|Networking|Technology   \n113184  Facebook Applications|Games|Networking|Technology   \n113185  Facebook Applications|Games|Networking|Technology   \n113186  Facebook Applications|Games|Networking|Technology   \n113187  Facebook Applications|Games|Networking|Technology   \n113189  Facebook Applications|Games|Networking|Technology   \n113190  Facebook Applications|Games|Networking|Technology   \n113191  Facebook Applications|Games|Networking|Technology   \n113192  Facebook Applications|Games|Networking|Technology   \n113195  Facebook Applications|Games|Networking|Technology   \n113196  Facebook Applications|Games|Networking|Technology   \n113197  Facebook Applications|Games|Networking|Technology   \n113198  Facebook Applications|Games|Networking|Technology   \n113199  Facebook Applications|Games|Networking|Technology   \n113200  Facebook Applications|Games|Networking|Technology   \n113201  Facebook Applications|Games|Networking|Technology   \n113202  Facebook Applications|Games|Networking|Technology   \n113203  Facebook Applications|Games|Networking|Technology   \n113204  Facebook Applications|Games|Networking|Technology   \n113205  Facebook Applications|Games|Networking|Technology   \n113206  Facebook Applications|Games|Networking|Technology   \n113207  Facebook Applications|Games|Networking|Technology   \n113208  Facebook Applications|Games|Networking|Technology   \n113209  Facebook Applications|Games|Networking|Technology   \n113210  Facebook Applications|Games|Networking|Technology   \n113211  Facebook Applications|Games|Networking|Technology   \n113212                                      Biotechnology   \n113213                                           Software   \n113217                                           Software   \n113219                                      Biotechnology   \n113221                                      Biotechnology   \n113222                              Public Transportation   \n113227                                         E-Commerce   \n113228                                         E-Commerce   \n113230                                      Biotechnology   \n113231                                      Biotechnology   \n113232                                      Biotechnology   \n113233                                      Biotechnology   \n113234                                      Biotechnology   \n113235                                      Biotechnology   \n113236                                      Biotechnology   \n113237                                Enterprise Software   \n\n       company_country_code company_state_code    company_region  \\\n113174                  CAN                 BC         Vancouver   \n113176                  GBR                 H9            London   \n113177                  GBR                 H9            London   \n113178                  ESP                 56         Barcelona   \n113179                  ESP                 56         Barcelona   \n113180                  ESP                 56         Barcelona   \n113181                  ESP                 56         Barcelona   \n113182                  USA                 CA       SF Bay Area   \n113183                  USA                 CA       SF Bay Area   \n113184                  USA                 CA       SF Bay Area   \n113185                  USA                 CA       SF Bay Area   \n113186                  USA                 CA       SF Bay Area   \n113187                  USA                 CA       SF Bay Area   \n113189                  USA                 CA       SF Bay Area   \n113190                  USA                 CA       SF Bay Area   \n113191                  USA                 CA       SF Bay Area   \n113192                  USA                 CA       SF Bay Area   \n113195                  USA                 CA       SF Bay Area   \n113196                  USA                 CA       SF Bay Area   \n113197                  USA                 CA       SF Bay Area   \n113198                  USA                 CA       SF Bay Area   \n113199                  USA                 CA       SF Bay Area   \n113200                  USA                 CA       SF Bay Area   \n113201                  USA                 CA       SF Bay Area   \n113202                  USA                 CA       SF Bay Area   \n113203                  USA                 CA       SF Bay Area   \n113204                  USA                 CA       SF Bay Area   \n113205                  USA                 CA       SF Bay Area   \n113206                  USA                 CA       SF Bay Area   \n113207                  USA                 CA       SF Bay Area   \n113208                  USA                 CA       SF Bay Area   \n113209                  USA                 CA       SF Bay Area   \n113210                  USA                 CA       SF Bay Area   \n113211                  USA                 CA       SF Bay Area   \n113212                  USA                 MD  Washington, D.C.   \n113213                  GBR                 A4              Bath   \n113217                  GBR                 A4              Bath   \n113219                  USA                 MO        MO - Other   \n113221                  USA                 MO        MO - Other   \n113222                  USA                 NY     New York City   \n113227                  USA                 MA            Boston   \n113228                  USA                 MA            Boston   \n113230                  USA                 WI         Milwaukee   \n113231                  USA                 WI         Milwaukee   \n113232                  USA                 WI         Milwaukee   \n113233                  USA                 WI         Milwaukee   \n113234                  USA                 WI         Milwaukee   \n113235                  USA                 WI         Milwaukee   \n113236                  AUT                  3            Vienna   \n113237                  CHN                 22           Beijing   \n\n              company_city                          funding_round_permalink  \\\n113174           Vancouver  /funding-round/fff65853a50d907bdf362b572076f1d1   \n113176              London  /funding-round/3549f5a481f83610044a4226926acf5a   \n113177              London  /funding-round/5a0d321abcfef61a8bae383176ac46e7   \n113178           Barcelona  /funding-round/35310bcb0945d9d4b5ffa5482e5c87f3   \n113179           Barcelona  /funding-round/35310bcb0945d9d4b5ffa5482e5c87f3   \n113180           Barcelona  /funding-round/35310bcb0945d9d4b5ffa5482e5c87f3   \n113181           Barcelona  /funding-round/c8dd9ae33cc5d5a1d972b470a5955373   \n113182       San Francisco  /funding-round/1bc4f7b3a778e5abfbd7131f595f5011   \n113183       San Francisco  /funding-round/1bc4f7b3a778e5abfbd7131f595f5011   \n113184       San Francisco  /funding-round/1bc4f7b3a778e5abfbd7131f595f5011   \n113185       San Francisco  /funding-round/1bc4f7b3a778e5abfbd7131f595f5011   \n113186       San Francisco  /funding-round/1bc4f7b3a778e5abfbd7131f595f5011   \n113187       San Francisco  /funding-round/66d64809546fe2031d3479161e3c88f9   \n113189       San Francisco  /funding-round/66d64809546fe2031d3479161e3c88f9   \n113190       San Francisco  /funding-round/66d64809546fe2031d3479161e3c88f9   \n113191       San Francisco  /funding-round/66d64809546fe2031d3479161e3c88f9   \n113192       San Francisco  /funding-round/66d64809546fe2031d3479161e3c88f9   \n113195       San Francisco  /funding-round/66d64809546fe2031d3479161e3c88f9   \n113196       San Francisco  /funding-round/66d64809546fe2031d3479161e3c88f9   \n113197       San Francisco  /funding-round/66d64809546fe2031d3479161e3c88f9   \n113198       San Francisco  /funding-round/72e4fdf2cfb0cdc0750f90e486722068   \n113199       San Francisco  /funding-round/72e4fdf2cfb0cdc0750f90e486722068   \n113200       San Francisco  /funding-round/72e4fdf2cfb0cdc0750f90e486722068   \n113201       San Francisco  /funding-round/72e4fdf2cfb0cdc0750f90e486722068   \n113202       San Francisco  /funding-round/72e4fdf2cfb0cdc0750f90e486722068   \n113203       San Francisco  /funding-round/a6ebc53cf3c0c97d1cdd075f6bbf31fa   \n113204       San Francisco  /funding-round/a6ebc53cf3c0c97d1cdd075f6bbf31fa   \n113205       San Francisco  /funding-round/a6ebc53cf3c0c97d1cdd075f6bbf31fa   \n113206       San Francisco  /funding-round/a6ebc53cf3c0c97d1cdd075f6bbf31fa   \n113207       San Francisco  /funding-round/cf8299f657f7fd4cf01054ee1934109c   \n113208       San Francisco  /funding-round/cf8299f657f7fd4cf01054ee1934109c   \n113209       San Francisco  /funding-round/eb198261da812bc8d3bf475ccec44000   \n113210       San Francisco  /funding-round/eb198261da812bc8d3bf475ccec44000   \n113211       San Francisco  /funding-round/eb198261da812bc8d3bf475ccec44000   \n113212        Gaithersburg  /funding-round/55ec03b6fa2e812a2b4a9da5a4555752   \n113213                Bath  /funding-round/05f43b37c270f5919578281ce803de8f   \n113217                Bath  /funding-round/129127802dd48be42d6cd45f65895245   \n113219             Fremont  /funding-round/4191cb5258d3863b0212d1083881da64   \n113221             Fremont  /funding-round/4191cb5258d3863b0212d1083881da64   \n113222            New York  /funding-round/472c6f7940522552fcca465b8cd3deef   \n113227           Cambridge  /funding-round/2a13fa52848ace2760b224a350a76b40   \n113228           Cambridge  /funding-round/39baf35e59eb3efc5409cd4c5eaa50e1   \n113230           Milwaukee  /funding-round/7ea37c0ff4132b084832039a9380d34e   \n113231           Milwaukee  /funding-round/7ea37c0ff4132b084832039a9380d34e   \n113232           Milwaukee  /funding-round/7ea37c0ff4132b084832039a9380d34e   \n113233           Milwaukee  /funding-round/7ea37c0ff4132b084832039a9380d34e   \n113234           Milwaukee  /funding-round/7ea37c0ff4132b084832039a9380d34e   \n113235           Milwaukee  /funding-round/7ea37c0ff4132b084832039a9380d34e   \n113236  Gerasdorf Bei Wien  /funding-round/0c43e717298296d2fb334fb236300f6e   \n113237             Beijing  /funding-round/171693e1e07e0230defd8fddb6de4515   \n\n       funding_round_type funding_round_code   funded_at  raised_amount_usd  \\\n113174            venture                  C  2009-06-26          3500000.0   \n113176            venture                NaN  2014-09-01           144451.0   \n113177               seed                NaN  2014-02-01            54042.0   \n113178            venture                  B  2012-02-03          2105600.0   \n113179            venture                  B  2012-02-03          2105600.0   \n113180            venture                  B  2012-02-03          2105600.0   \n113181            venture                  A  2011-04-05          1699920.0   \n113182            venture                  B  2009-11-04         15187000.0   \n113183            venture                  B  2009-11-04         15187000.0   \n113184            venture                  B  2009-11-04         15187000.0   \n113185            venture                  B  2009-11-04         15187000.0   \n113186            venture                  B  2009-11-04         15187000.0   \n113187            venture                  A  2008-01-01         10000000.0   \n113189            venture                  A  2008-01-01         10000000.0   \n113190            venture                  A  2008-01-01         10000000.0   \n113191            venture                  A  2008-01-01         10000000.0   \n113192            venture                  A  2008-01-01         10000000.0   \n113195            venture                  A  2008-01-01         10000000.0   \n113196            venture                  A  2008-01-01         10000000.0   \n113197            venture                  A  2008-01-01         10000000.0   \n113198            venture                  B  2008-07-18         25000000.0   \n113199            venture                  B  2008-07-18         25000000.0   \n113200            venture                  B  2008-07-18         25000000.0   \n113201            venture                  B  2008-07-18         25000000.0   \n113202            venture                  B  2008-07-18         25000000.0   \n113203            venture                  C  2011-02-18        490000000.0   \n113204            venture                  C  2011-02-18        490000000.0   \n113205            venture                  C  2011-02-18        490000000.0   \n113206            venture                  C  2011-02-18        490000000.0   \n113207            venture                  B  2010-06-14        300000000.0   \n113208            venture                  B  2010-06-14        300000000.0   \n113209            venture                  A  2008-02-12          5026000.0   \n113210            venture                  A  2008-02-12          5026000.0   \n113211            venture                  A  2008-02-12          5026000.0   \n113212            venture                  A  2010-09-09         25000000.0   \n113213            venture                  B  2014-07-09          8400000.0   \n113217            venture                  A  2013-09-12          3800000.0   \n113219            venture                  B  2013-06-30         12000000.0   \n113221            venture                  B  2013-06-30         12000000.0   \n113222               seed                NaN  2013-09-25          2150000.0   \n113227               seed                NaN  2010-11-15           445000.0   \n113228               seed                NaN  2010-10-21            50000.0   \n113230            venture                  A  2004-12-16          8500000.0   \n113231            venture                  A  2004-12-16          8500000.0   \n113232            venture                  A  2004-12-16          8500000.0   \n113233            venture                  A  2004-12-16          8500000.0   \n113234            venture                  A  2004-12-16          8500000.0   \n113235            venture                  A  2004-12-16          8500000.0   \n113236            venture                  A  2013-01-29          2686600.0   \n113237            venture                  A  2012-04-01          1587301.0   \n\n       funding_round                        investor_name  \\\n113174     venture C                          CTI Capital   \n113176       venture                                Wayra   \n113177          seed                                Wayra   \n113178     venture B              Active Venture Partners   \n113179     venture B                  Cabiedes & Partners   \n113180     venture B                   Caixa Capital Risc   \n113181     venture A                  Cabiedes & Partners   \n113182     venture B                  Andreessen Horowitz   \n113183     venture B                           DST Global   \n113184     venture B                                  IVP   \n113185     venture B              Tiger Global Management   \n113186     venture B                           Kevin Rose   \n113187     venture A                      Avalon Ventures   \n113189     venture A                        Foundry Group   \n113190     venture A                          Pilot Group   \n113191     venture A                             SV Angel   \n113192     venture A                Union Square Ventures   \n113195     venture A                            Brad Feld   \n113196     venture A                          Peter Thiel   \n113197     venture A                         Reid Hoffman   \n113198     venture B                      Avalon Ventures   \n113199     venture B                        Foundry Group   \n113200     venture B                                  IVP   \n113201     venture B     Kleiner Perkins Caufield & Byers   \n113202     venture B                Union Square Ventures   \n113203     venture C                 Fidelity Investments   \n113204     venture C     Kleiner Perkins Caufield & Byers   \n113205     venture C                       Morgan Stanley   \n113206     venture C                        T. Rowe Price   \n113207     venture B                               Google   \n113208     venture B                     SoftBank Capital   \n113209     venture A                      Avalon Ventures   \n113210     venture A                        Foundry Group   \n113211     venture A                Union Square Ventures   \n113212     venture A            New Enterprise Associates   \n113213     venture B                     Octopus Ventures   \n113217     venture A                     Octopus Ventures   \n113219     venture B      Bill & Melinda Gates Foundation   \n113221     venture B                          Jenny Rooke   \n113222          seed                   ff Venture Capital   \n113227          seed              LaunchPad Venture Group   \n113228          seed                        MassChallenge   \n113230     venture A                  Hexagon Investments   \n113231     venture A          Mason Wells Biomediacl Fund   \n113232     venture A                      Prolog Ventures   \n113233     venture A  State of Wisconsin Investment Board   \n113234     venture A                   Stonehenge Capital   \n113235     venture A                    Venture Investors   \n113236     venture A                 Baxter International   \n113237     venture A                        Intel Capital   \n\n       investor_country_code  investor_country_round_index  \\\n113174                   CAN                             7   \n113176                   ESP                             4   \n113177                   ESP                             2   \n113178                   ESP                             5   \n113179                   ESP                             5   \n113180                   ESP                             5   \n113181                   ESP                             4   \n113182                   USA                             7   \n113183                   RUS                             7   \n113184                   USA                             7   \n113185                   USA                             7   \n113186                   USA                             7   \n113187                   USA                             5   \n113189                   USA                             5   \n113190                   USA                             5   \n113191                   USA                             5   \n113192                   USA                             5   \n113195                   USA                             5   \n113196                   USA                             5   \n113197                   USA                             5   \n113198                   USA                             7   \n113199                   USA                             7   \n113200                   USA                             7   \n113201                   USA                             7   \n113202                   USA                             7   \n113203                   USA                             7   \n113204                   USA                             7   \n113205                   USA                             7   \n113206                   USA                             7   \n113207                   USA                             7   \n113208                   USA                             7   \n113209                   USA                             5   \n113210                   USA                             5   \n113211                   USA                             5   \n113212                   USA                             5   \n113213                   GBR                             7   \n113217                   GBR                             5   \n113219                   USA                             7   \n113221                   USA                             7   \n113222                   USA                             2   \n113227                   USA                             2   \n113228                   USA                             2   \n113230                   USA                             5   \n113231                   USA                             5   \n113232                   USA                             5   \n113233                   USA                             5   \n113234                   USA                             5   \n113235                   USA                             5   \n113236                   USA                             5   \n113237                   USA                             5   \n\n        investors_round_index  \n113174                      9  \n113176                      1  \n113177                      1  \n113178                      5  \n113179                      5  \n113180                      5  \n113181                      4  \n113182                      9  \n113183                      9  \n113184                      9  \n113185                      9  \n113186                      9  \n113187                      4  \n113189                      4  \n113190                      4  \n113191                      4  \n113192                      4  \n113195                      4  \n113196                      4  \n113197                      4  \n113198                      8  \n113199                      8  \n113200                      8  \n113201                      8  \n113202                      8  \n113203                     10  \n113204                     10  \n113205                     10  \n113206                     10  \n113207                     10  \n113208                     10  \n113209                      5  \n113210                      5  \n113211                      5  \n113212                      9  \n113213                      7  \n113217                      6  \n113219                      8  \n113221                      8  \n113222                      3  \n113227                      3  \n113228                      1  \n113230                      5  \n113231                      5  \n113232                      5  \n113233                      5  \n113234                      5  \n113235                      5  \n113236                      6  \n113237                      7  ",
      "text/html": "<div>\n<style scoped>\n    .dataframe tbody tr th:only-of-type {\n        vertical-align: middle;\n    }\n\n    .dataframe tbody tr th {\n        vertical-align: top;\n    }\n\n    .dataframe thead th {\n        text-align: right;\n    }\n</style>\n<table border=\"1\" class=\"dataframe\">\n  <thead>\n    <tr style=\"text-align: right;\">\n      <th></th>\n      <th>company_permalink</th>\n      <th>company_name</th>\n      <th>company_category_list</th>\n      <th>company_country_code</th>\n      <th>company_state_code</th>\n      <th>company_region</th>\n      <th>company_city</th>\n      <th>funding_round_permalink</th>\n      <th>funding_round_type</th>\n      <th>funding_round_code</th>\n      <th>funded_at</th>\n      <th>raised_amount_usd</th>\n      <th>funding_round</th>\n      <th>investor_name</th>\n      <th>investor_country_code</th>\n      <th>investor_country_round_index</th>\n      <th>investors_round_index</th>\n    </tr>\n  </thead>\n  <tbody>\n    <tr>\n      <th>113174</th>\n      <td>/organization/zymeworks</td>\n      <td>Zymeworks</td>\n      <td>Biotechnology</td>\n      <td>CAN</td>\n      <td>BC</td>\n      <td>Vancouver</td>\n      <td>Vancouver</td>\n      <td>/funding-round/fff65853a50d907bdf362b572076f1d1</td>\n      <td>venture</td>\n      <td>C</td>\n      <td>2009-06-26</td>\n      <td>3500000.0</td>\n      <td>venture C</td>\n      <td>CTI Capital</td>\n      <td>CAN</td>\n      <td>7</td>\n      <td>9</td>\n    </tr>\n    <tr>\n      <th>113176</th>\n      <td>/organization/zyncd</td>\n      <td>Zyncd</td>\n      <td>Crowdsourcing|Knowledge Management</td>\n      <td>GBR</td>\n      <td>H9</td>\n      <td>London</td>\n      <td>London</td>\n      <td>/funding-round/3549f5a481f83610044a4226926acf5a</td>\n      <td>venture</td>\n      <td>NaN</td>\n      <td>2014-09-01</td>\n      <td>144451.0</td>\n      <td>venture</td>\n      <td>Wayra</td>\n      <td>ESP</td>\n      <td>4</td>\n      <td>1</td>\n    </tr>\n    <tr>\n      <th>113177</th>\n      <td>/organization/zyncd</td>\n      <td>Zyncd</td>\n      <td>Crowdsourcing|Knowledge Management</td>\n      <td>GBR</td>\n      <td>H9</td>\n      <td>London</td>\n      <td>London</td>\n      <td>/funding-round/5a0d321abcfef61a8bae383176ac46e7</td>\n      <td>seed</td>\n      <td>NaN</td>\n      <td>2014-02-01</td>\n      <td>54042.0</td>\n      <td>seed</td>\n      <td>Wayra</td>\n      <td>ESP</td>\n      <td>2</td>\n      <td>1</td>\n    </tr>\n    <tr>\n      <th>113178</th>\n      <td>/organization/zyncro</td>\n      <td>Zyncro</td>\n      <td>Cloud Computing|Enterprise 2.0|Enterprise Soft...</td>\n      <td>ESP</td>\n      <td>56</td>\n      <td>Barcelona</td>\n      <td>Barcelona</td>\n      <td>/funding-round/35310bcb0945d9d4b5ffa5482e5c87f3</td>\n      <td>venture</td>\n      <td>B</td>\n      <td>2012-02-03</td>\n      <td>2105600.0</td>\n      <td>venture B</td>\n      <td>Active Venture Partners</td>\n      <td>ESP</td>\n      <td>5</td>\n      <td>5</td>\n    </tr>\n    <tr>\n      <th>113179</th>\n      <td>/organization/zyncro</td>\n      <td>Zyncro</td>\n      <td>Cloud Computing|Enterprise 2.0|Enterprise Soft...</td>\n      <td>ESP</td>\n      <td>56</td>\n      <td>Barcelona</td>\n      <td>Barcelona</td>\n      <td>/funding-round/35310bcb0945d9d4b5ffa5482e5c87f3</td>\n      <td>venture</td>\n      <td>B</td>\n      <td>2012-02-03</td>\n      <td>2105600.0</td>\n      <td>venture B</td>\n      <td>Cabiedes &amp; Partners</td>\n      <td>ESP</td>\n      <td>5</td>\n      <td>5</td>\n    </tr>\n    <tr>\n      <th>113180</th>\n      <td>/organization/zyncro</td>\n      <td>Zyncro</td>\n      <td>Cloud Computing|Enterprise 2.0|Enterprise Soft...</td>\n      <td>ESP</td>\n      <td>56</td>\n      <td>Barcelona</td>\n      <td>Barcelona</td>\n      <td>/funding-round/35310bcb0945d9d4b5ffa5482e5c87f3</td>\n      <td>venture</td>\n      <td>B</td>\n      <td>2012-02-03</td>\n      <td>2105600.0</td>\n      <td>venture B</td>\n      <td>Caixa Capital Risc</td>\n      <td>ESP</td>\n      <td>5</td>\n      <td>5</td>\n    </tr>\n    <tr>\n      <th>113181</th>\n      <td>/organization/zyncro</td>\n      <td>Zyncro</td>\n      <td>Cloud Computing|Enterprise 2.0|Enterprise Soft...</td>\n      <td>ESP</td>\n      <td>56</td>\n      <td>Barcelona</td>\n      <td>Barcelona</td>\n      <td>/funding-round/c8dd9ae33cc5d5a1d972b470a5955373</td>\n      <td>venture</td>\n      <td>A</td>\n      <td>2011-04-05</td>\n      <td>1699920.0</td>\n      <td>venture A</td>\n      <td>Cabiedes &amp; Partners</td>\n      <td>ESP</td>\n      <td>4</td>\n      <td>4</td>\n    </tr>\n    <tr>\n      <th>113182</th>\n      <td>/organization/zynga</td>\n      <td>Zynga</td>\n      <td>Facebook Applications|Games|Networking|Technology</td>\n      <td>USA</td>\n      <td>CA</td>\n      <td>SF Bay Area</td>\n      <td>San Francisco</td>\n      <td>/funding-round/1bc4f7b3a778e5abfbd7131f595f5011</td>\n      <td>venture</td>\n      <td>B</td>\n      <td>2009-11-04</td>\n      <td>15187000.0</td>\n      <td>venture B</td>\n      <td>Andreessen Horowitz</td>\n      <td>USA</td>\n      <td>7</td>\n      <td>9</td>\n    </tr>\n    <tr>\n      <th>113183</th>\n      <td>/organization/zynga</td>\n      <td>Zynga</td>\n      <td>Facebook Applications|Games|Networking|Technology</td>\n      <td>USA</td>\n      <td>CA</td>\n      <td>SF Bay Area</td>\n      <td>San Francisco</td>\n      <td>/funding-round/1bc4f7b3a778e5abfbd7131f595f5011</td>\n      <td>venture</td>\n      <td>B</td>\n      <td>2009-11-04</td>\n      <td>15187000.0</td>\n      <td>venture B</td>\n      <td>DST Global</td>\n      <td>RUS</td>\n      <td>7</td>\n      <td>9</td>\n    </tr>\n    <tr>\n      <th>113184</th>\n      <td>/organization/zynga</td>\n      <td>Zynga</td>\n      <td>Facebook Applications|Games|Networking|Technology</td>\n      <td>USA</td>\n      <td>CA</td>\n      <td>SF Bay Area</td>\n      <td>San Francisco</td>\n      <td>/funding-round/1bc4f7b3a778e5abfbd7131f595f5011</td>\n      <td>venture</td>\n      <td>B</td>\n      <td>2009-11-04</td>\n      <td>15187000.0</td>\n      <td>venture B</td>\n      <td>IVP</td>\n      <td>USA</td>\n      <td>7</td>\n      <td>9</td>\n    </tr>\n    <tr>\n      <th>113185</th>\n      <td>/organization/zynga</td>\n      <td>Zynga</td>\n      <td>Facebook Applications|Games|Networking|Technology</td>\n      <td>USA</td>\n      <td>CA</td>\n      <td>SF Bay Area</td>\n      <td>San Francisco</td>\n      <td>/funding-round/1bc4f7b3a778e5abfbd7131f595f5011</td>\n      <td>venture</td>\n      <td>B</td>\n      <td>2009-11-04</td>\n      <td>15187000.0</td>\n      <td>venture B</td>\n      <td>Tiger Global Management</td>\n      <td>USA</td>\n      <td>7</td>\n      <td>9</td>\n    </tr>\n    <tr>\n      <th>113186</th>\n      <td>/organization/zynga</td>\n      <td>Zynga</td>\n      <td>Facebook Applications|Games|Networking|Technology</td>\n      <td>USA</td>\n      <td>CA</td>\n      <td>SF Bay Area</td>\n      <td>San Francisco</td>\n      <td>/funding-round/1bc4f7b3a778e5abfbd7131f595f5011</td>\n      <td>venture</td>\n      <td>B</td>\n      <td>2009-11-04</td>\n      <td>15187000.0</td>\n      <td>venture B</td>\n      <td>Kevin Rose</td>\n      <td>USA</td>\n      <td>7</td>\n      <td>9</td>\n    </tr>\n    <tr>\n      <th>113187</th>\n      <td>/organization/zynga</td>\n      <td>Zynga</td>\n      <td>Facebook Applications|Games|Networking|Technology</td>\n      <td>USA</td>\n      <td>CA</td>\n      <td>SF Bay Area</td>\n      <td>San Francisco</td>\n      <td>/funding-round/66d64809546fe2031d3479161e3c88f9</td>\n      <td>venture</td>\n      <td>A</td>\n      <td>2008-01-01</td>\n      <td>10000000.0</td>\n      <td>venture A</td>\n      <td>Avalon Ventures</td>\n      <td>USA</td>\n      <td>5</td>\n      <td>4</td>\n    </tr>\n    <tr>\n      <th>113189</th>\n      <td>/organization/zynga</td>\n      <td>Zynga</td>\n      <td>Facebook Applications|Games|Networking|Technology</td>\n      <td>USA</td>\n      <td>CA</td>\n      <td>SF Bay Area</td>\n      <td>San Francisco</td>\n      <td>/funding-round/66d64809546fe2031d3479161e3c88f9</td>\n      <td>venture</td>\n      <td>A</td>\n      <td>2008-01-01</td>\n      <td>10000000.0</td>\n      <td>venture A</td>\n      <td>Foundry Group</td>\n      <td>USA</td>\n      <td>5</td>\n      <td>4</td>\n    </tr>\n    <tr>\n      <th>113190</th>\n      <td>/organization/zynga</td>\n      <td>Zynga</td>\n      <td>Facebook Applications|Games|Networking|Technology</td>\n      <td>USA</td>\n      <td>CA</td>\n      <td>SF Bay Area</td>\n      <td>San Francisco</td>\n      <td>/funding-round/66d64809546fe2031d3479161e3c88f9</td>\n      <td>venture</td>\n      <td>A</td>\n      <td>2008-01-01</td>\n      <td>10000000.0</td>\n      <td>venture A</td>\n      <td>Pilot Group</td>\n      <td>USA</td>\n      <td>5</td>\n      <td>4</td>\n    </tr>\n    <tr>\n      <th>113191</th>\n      <td>/organization/zynga</td>\n      <td>Zynga</td>\n      <td>Facebook Applications|Games|Networking|Technology</td>\n      <td>USA</td>\n      <td>CA</td>\n      <td>SF Bay Area</td>\n      <td>San Francisco</td>\n      <td>/funding-round/66d64809546fe2031d3479161e3c88f9</td>\n      <td>venture</td>\n      <td>A</td>\n      <td>2008-01-01</td>\n      <td>10000000.0</td>\n      <td>venture A</td>\n      <td>SV Angel</td>\n      <td>USA</td>\n      <td>5</td>\n      <td>4</td>\n    </tr>\n    <tr>\n      <th>113192</th>\n      <td>/organization/zynga</td>\n      <td>Zynga</td>\n      <td>Facebook Applications|Games|Networking|Technology</td>\n      <td>USA</td>\n      <td>CA</td>\n      <td>SF Bay Area</td>\n      <td>San Francisco</td>\n      <td>/funding-round/66d64809546fe2031d3479161e3c88f9</td>\n      <td>venture</td>\n      <td>A</td>\n      <td>2008-01-01</td>\n      <td>10000000.0</td>\n      <td>venture A</td>\n      <td>Union Square Ventures</td>\n      <td>USA</td>\n      <td>5</td>\n      <td>4</td>\n    </tr>\n    <tr>\n      <th>113195</th>\n      <td>/organization/zynga</td>\n      <td>Zynga</td>\n      <td>Facebook Applications|Games|Networking|Technology</td>\n      <td>USA</td>\n      <td>CA</td>\n      <td>SF Bay Area</td>\n      <td>San Francisco</td>\n      <td>/funding-round/66d64809546fe2031d3479161e3c88f9</td>\n      <td>venture</td>\n      <td>A</td>\n      <td>2008-01-01</td>\n      <td>10000000.0</td>\n      <td>venture A</td>\n      <td>Brad Feld</td>\n      <td>USA</td>\n      <td>5</td>\n      <td>4</td>\n    </tr>\n    <tr>\n      <th>113196</th>\n      <td>/organization/zynga</td>\n      <td>Zynga</td>\n      <td>Facebook Applications|Games|Networking|Technology</td>\n      <td>USA</td>\n      <td>CA</td>\n      <td>SF Bay Area</td>\n      <td>San Francisco</td>\n      <td>/funding-round/66d64809546fe2031d3479161e3c88f9</td>\n      <td>venture</td>\n      <td>A</td>\n      <td>2008-01-01</td>\n      <td>10000000.0</td>\n      <td>venture A</td>\n      <td>Peter Thiel</td>\n      <td>USA</td>\n      <td>5</td>\n      <td>4</td>\n    </tr>\n    <tr>\n      <th>113197</th>\n      <td>/organization/zynga</td>\n      <td>Zynga</td>\n      <td>Facebook Applications|Games|Networking|Technology</td>\n      <td>USA</td>\n      <td>CA</td>\n      <td>SF Bay Area</td>\n      <td>San Francisco</td>\n      <td>/funding-round/66d64809546fe2031d3479161e3c88f9</td>\n      <td>venture</td>\n      <td>A</td>\n      <td>2008-01-01</td>\n      <td>10000000.0</td>\n      <td>venture A</td>\n      <td>Reid Hoffman</td>\n      <td>USA</td>\n      <td>5</td>\n      <td>4</td>\n    </tr>\n    <tr>\n      <th>113198</th>\n      <td>/organization/zynga</td>\n      <td>Zynga</td>\n      <td>Facebook Applications|Games|Networking|Technology</td>\n      <td>USA</td>\n      <td>CA</td>\n      <td>SF Bay Area</td>\n      <td>San Francisco</td>\n      <td>/funding-round/72e4fdf2cfb0cdc0750f90e486722068</td>\n      <td>venture</td>\n      <td>B</td>\n      <td>2008-07-18</td>\n      <td>25000000.0</td>\n      <td>venture B</td>\n      <td>Avalon Ventures</td>\n      <td>USA</td>\n      <td>7</td>\n      <td>8</td>\n    </tr>\n    <tr>\n      <th>113199</th>\n      <td>/organization/zynga</td>\n      <td>Zynga</td>\n      <td>Facebook Applications|Games|Networking|Technology</td>\n      <td>USA</td>\n      <td>CA</td>\n      <td>SF Bay Area</td>\n      <td>San Francisco</td>\n      <td>/funding-round/72e4fdf2cfb0cdc0750f90e486722068</td>\n      <td>venture</td>\n      <td>B</td>\n      <td>2008-07-18</td>\n      <td>25000000.0</td>\n      <td>venture B</td>\n      <td>Foundry Group</td>\n      <td>USA</td>\n      <td>7</td>\n      <td>8</td>\n    </tr>\n    <tr>\n      <th>113200</th>\n      <td>/organization/zynga</td>\n      <td>Zynga</td>\n      <td>Facebook Applications|Games|Networking|Technology</td>\n      <td>USA</td>\n      <td>CA</td>\n      <td>SF Bay Area</td>\n      <td>San Francisco</td>\n      <td>/funding-round/72e4fdf2cfb0cdc0750f90e486722068</td>\n      <td>venture</td>\n      <td>B</td>\n      <td>2008-07-18</td>\n      <td>25000000.0</td>\n      <td>venture B</td>\n      <td>IVP</td>\n      <td>USA</td>\n      <td>7</td>\n      <td>8</td>\n    </tr>\n    <tr>\n      <th>113201</th>\n      <td>/organization/zynga</td>\n      <td>Zynga</td>\n      <td>Facebook Applications|Games|Networking|Technology</td>\n      <td>USA</td>\n      <td>CA</td>\n      <td>SF Bay Area</td>\n      <td>San Francisco</td>\n      <td>/funding-round/72e4fdf2cfb0cdc0750f90e486722068</td>\n      <td>venture</td>\n      <td>B</td>\n      <td>2008-07-18</td>\n      <td>25000000.0</td>\n      <td>venture B</td>\n      <td>Kleiner Perkins Caufield &amp; Byers</td>\n      <td>USA</td>\n      <td>7</td>\n      <td>8</td>\n    </tr>\n    <tr>\n      <th>113202</th>\n      <td>/organization/zynga</td>\n      <td>Zynga</td>\n      <td>Facebook Applications|Games|Networking|Technology</td>\n      <td>USA</td>\n      <td>CA</td>\n      <td>SF Bay Area</td>\n      <td>San Francisco</td>\n      <td>/funding-round/72e4fdf2cfb0cdc0750f90e486722068</td>\n      <td>venture</td>\n      <td>B</td>\n      <td>2008-07-18</td>\n      <td>25000000.0</td>\n      <td>venture B</td>\n      <td>Union Square Ventures</td>\n      <td>USA</td>\n      <td>7</td>\n      <td>8</td>\n    </tr>\n    <tr>\n      <th>113203</th>\n      <td>/organization/zynga</td>\n      <td>Zynga</td>\n      <td>Facebook Applications|Games|Networking|Technology</td>\n      <td>USA</td>\n      <td>CA</td>\n      <td>SF Bay Area</td>\n      <td>San Francisco</td>\n      <td>/funding-round/a6ebc53cf3c0c97d1cdd075f6bbf31fa</td>\n      <td>venture</td>\n      <td>C</td>\n      <td>2011-02-18</td>\n      <td>490000000.0</td>\n      <td>venture C</td>\n      <td>Fidelity Investments</td>\n      <td>USA</td>\n      <td>7</td>\n      <td>10</td>\n    </tr>\n    <tr>\n      <th>113204</th>\n      <td>/organization/zynga</td>\n      <td>Zynga</td>\n      <td>Facebook Applications|Games|Networking|Technology</td>\n      <td>USA</td>\n      <td>CA</td>\n      <td>SF Bay Area</td>\n      <td>San Francisco</td>\n      <td>/funding-round/a6ebc53cf3c0c97d1cdd075f6bbf31fa</td>\n      <td>venture</td>\n      <td>C</td>\n      <td>2011-02-18</td>\n      <td>490000000.0</td>\n      <td>venture C</td>\n      <td>Kleiner Perkins Caufield &amp; Byers</td>\n      <td>USA</td>\n      <td>7</td>\n      <td>10</td>\n    </tr>\n    <tr>\n      <th>113205</th>\n      <td>/organization/zynga</td>\n      <td>Zynga</td>\n      <td>Facebook Applications|Games|Networking|Technology</td>\n      <td>USA</td>\n      <td>CA</td>\n      <td>SF Bay Area</td>\n      <td>San Francisco</td>\n      <td>/funding-round/a6ebc53cf3c0c97d1cdd075f6bbf31fa</td>\n      <td>venture</td>\n      <td>C</td>\n      <td>2011-02-18</td>\n      <td>490000000.0</td>\n      <td>venture C</td>\n      <td>Morgan Stanley</td>\n      <td>USA</td>\n      <td>7</td>\n      <td>10</td>\n    </tr>\n    <tr>\n      <th>113206</th>\n      <td>/organization/zynga</td>\n      <td>Zynga</td>\n      <td>Facebook Applications|Games|Networking|Technology</td>\n      <td>USA</td>\n      <td>CA</td>\n      <td>SF Bay Area</td>\n      <td>San Francisco</td>\n      <td>/funding-round/a6ebc53cf3c0c97d1cdd075f6bbf31fa</td>\n      <td>venture</td>\n      <td>C</td>\n      <td>2011-02-18</td>\n      <td>490000000.0</td>\n      <td>venture C</td>\n      <td>T. Rowe Price</td>\n      <td>USA</td>\n      <td>7</td>\n      <td>10</td>\n    </tr>\n    <tr>\n      <th>113207</th>\n      <td>/organization/zynga</td>\n      <td>Zynga</td>\n      <td>Facebook Applications|Games|Networking|Technology</td>\n      <td>USA</td>\n      <td>CA</td>\n      <td>SF Bay Area</td>\n      <td>San Francisco</td>\n      <td>/funding-round/cf8299f657f7fd4cf01054ee1934109c</td>\n      <td>venture</td>\n      <td>B</td>\n      <td>2010-06-14</td>\n      <td>300000000.0</td>\n      <td>venture B</td>\n      <td>Google</td>\n      <td>USA</td>\n      <td>7</td>\n      <td>10</td>\n    </tr>\n    <tr>\n      <th>113208</th>\n      <td>/organization/zynga</td>\n      <td>Zynga</td>\n      <td>Facebook Applications|Games|Networking|Technology</td>\n      <td>USA</td>\n      <td>CA</td>\n      <td>SF Bay Area</td>\n      <td>San Francisco</td>\n      <td>/funding-round/cf8299f657f7fd4cf01054ee1934109c</td>\n      <td>venture</td>\n      <td>B</td>\n      <td>2010-06-14</td>\n      <td>300000000.0</td>\n      <td>venture B</td>\n      <td>SoftBank Capital</td>\n      <td>USA</td>\n      <td>7</td>\n      <td>10</td>\n    </tr>\n    <tr>\n      <th>113209</th>\n      <td>/organization/zynga</td>\n      <td>Zynga</td>\n      <td>Facebook Applications|Games|Networking|Technology</td>\n      <td>USA</td>\n      <td>CA</td>\n      <td>SF Bay Area</td>\n      <td>San Francisco</td>\n      <td>/funding-round/eb198261da812bc8d3bf475ccec44000</td>\n      <td>venture</td>\n      <td>A</td>\n      <td>2008-02-12</td>\n      <td>5026000.0</td>\n      <td>venture A</td>\n      <td>Avalon Ventures</td>\n      <td>USA</td>\n      <td>5</td>\n      <td>5</td>\n    </tr>\n    <tr>\n      <th>113210</th>\n      <td>/organization/zynga</td>\n      <td>Zynga</td>\n      <td>Facebook Applications|Games|Networking|Technology</td>\n      <td>USA</td>\n      <td>CA</td>\n      <td>SF Bay Area</td>\n      <td>San Francisco</td>\n      <td>/funding-round/eb198261da812bc8d3bf475ccec44000</td>\n      <td>venture</td>\n      <td>A</td>\n      <td>2008-02-12</td>\n      <td>5026000.0</td>\n      <td>venture A</td>\n      <td>Foundry Group</td>\n      <td>USA</td>\n      <td>5</td>\n      <td>5</td>\n    </tr>\n    <tr>\n      <th>113211</th>\n      <td>/organization/zynga</td>\n      <td>Zynga</td>\n      <td>Facebook Applications|Games|Networking|Technology</td>\n      <td>USA</td>\n      <td>CA</td>\n      <td>SF Bay Area</td>\n      <td>San Francisco</td>\n      <td>/funding-round/eb198261da812bc8d3bf475ccec44000</td>\n      <td>venture</td>\n      <td>A</td>\n      <td>2008-02-12</td>\n      <td>5026000.0</td>\n      <td>venture A</td>\n      <td>Union Square Ventures</td>\n      <td>USA</td>\n      <td>5</td>\n      <td>5</td>\n    </tr>\n    <tr>\n      <th>113212</th>\n      <td>/organization/zyngenia</td>\n      <td>Zyngenia</td>\n      <td>Biotechnology</td>\n      <td>USA</td>\n      <td>MD</td>\n      <td>Washington, D.C.</td>\n      <td>Gaithersburg</td>\n      <td>/funding-round/55ec03b6fa2e812a2b4a9da5a4555752</td>\n      <td>venture</td>\n      <td>A</td>\n      <td>2010-09-09</td>\n      <td>25000000.0</td>\n      <td>venture A</td>\n      <td>New Enterprise Associates</td>\n      <td>USA</td>\n      <td>5</td>\n      <td>9</td>\n    </tr>\n    <tr>\n      <th>113213</th>\n      <td>/organization/zynstra</td>\n      <td>Zynstra</td>\n      <td>Software</td>\n      <td>GBR</td>\n      <td>A4</td>\n      <td>Bath</td>\n      <td>Bath</td>\n      <td>/funding-round/05f43b37c270f5919578281ce803de8f</td>\n      <td>venture</td>\n      <td>B</td>\n      <td>2014-07-09</td>\n      <td>8400000.0</td>\n      <td>venture B</td>\n      <td>Octopus Ventures</td>\n      <td>GBR</td>\n      <td>7</td>\n      <td>7</td>\n    </tr>\n    <tr>\n      <th>113217</th>\n      <td>/organization/zynstra</td>\n      <td>Zynstra</td>\n      <td>Software</td>\n      <td>GBR</td>\n      <td>A4</td>\n      <td>Bath</td>\n      <td>Bath</td>\n      <td>/funding-round/129127802dd48be42d6cd45f65895245</td>\n      <td>venture</td>\n      <td>A</td>\n      <td>2013-09-12</td>\n      <td>3800000.0</td>\n      <td>venture A</td>\n      <td>Octopus Ventures</td>\n      <td>GBR</td>\n      <td>5</td>\n      <td>6</td>\n    </tr>\n    <tr>\n      <th>113219</th>\n      <td>/organization/zyomyx-inc</td>\n      <td>ZYOMYX</td>\n      <td>Biotechnology</td>\n      <td>USA</td>\n      <td>MO</td>\n      <td>MO - Other</td>\n      <td>Fremont</td>\n      <td>/funding-round/4191cb5258d3863b0212d1083881da64</td>\n      <td>venture</td>\n      <td>B</td>\n      <td>2013-06-30</td>\n      <td>12000000.0</td>\n      <td>venture B</td>\n      <td>Bill &amp; Melinda Gates Foundation</td>\n      <td>USA</td>\n      <td>7</td>\n      <td>8</td>\n    </tr>\n    <tr>\n      <th>113221</th>\n      <td>/organization/zyomyx-inc</td>\n      <td>ZYOMYX</td>\n      <td>Biotechnology</td>\n      <td>USA</td>\n      <td>MO</td>\n      <td>MO - Other</td>\n      <td>Fremont</td>\n      <td>/funding-round/4191cb5258d3863b0212d1083881da64</td>\n      <td>venture</td>\n      <td>B</td>\n      <td>2013-06-30</td>\n      <td>12000000.0</td>\n      <td>venture B</td>\n      <td>Jenny Rooke</td>\n      <td>USA</td>\n      <td>7</td>\n      <td>8</td>\n    </tr>\n    <tr>\n      <th>113222</th>\n      <td>/organization/zypsee</td>\n      <td>Whisk (formerly Zypsee)</td>\n      <td>Public Transportation</td>\n      <td>USA</td>\n      <td>NY</td>\n      <td>New York City</td>\n      <td>New York</td>\n      <td>/funding-round/472c6f7940522552fcca465b8cd3deef</td>\n      <td>seed</td>\n      <td>NaN</td>\n      <td>2013-09-25</td>\n      <td>2150000.0</td>\n      <td>seed</td>\n      <td>ff Venture Capital</td>\n      <td>USA</td>\n      <td>2</td>\n      <td>3</td>\n    </tr>\n    <tr>\n      <th>113227</th>\n      <td>/organization/zyrra</td>\n      <td>Zyrra</td>\n      <td>E-Commerce</td>\n      <td>USA</td>\n      <td>MA</td>\n      <td>Boston</td>\n      <td>Cambridge</td>\n      <td>/funding-round/2a13fa52848ace2760b224a350a76b40</td>\n      <td>seed</td>\n      <td>NaN</td>\n      <td>2010-11-15</td>\n      <td>445000.0</td>\n      <td>seed</td>\n      <td>LaunchPad Venture Group</td>\n      <td>USA</td>\n      <td>2</td>\n      <td>3</td>\n    </tr>\n    <tr>\n      <th>113228</th>\n      <td>/organization/zyrra</td>\n      <td>Zyrra</td>\n      <td>E-Commerce</td>\n      <td>USA</td>\n      <td>MA</td>\n      <td>Boston</td>\n      <td>Cambridge</td>\n      <td>/funding-round/39baf35e59eb3efc5409cd4c5eaa50e1</td>\n      <td>seed</td>\n      <td>NaN</td>\n      <td>2010-10-21</td>\n      <td>50000.0</td>\n      <td>seed</td>\n      <td>MassChallenge</td>\n      <td>USA</td>\n      <td>2</td>\n      <td>1</td>\n    </tr>\n    <tr>\n      <th>113230</th>\n      <td>/organization/zystor</td>\n      <td>Zystor</td>\n      <td>Biotechnology</td>\n      <td>USA</td>\n      <td>WI</td>\n      <td>Milwaukee</td>\n      <td>Milwaukee</td>\n      <td>/funding-round/7ea37c0ff4132b084832039a9380d34e</td>\n      <td>venture</td>\n      <td>A</td>\n      <td>2004-12-16</td>\n      <td>8500000.0</td>\n      <td>venture A</td>\n      <td>Hexagon Investments</td>\n      <td>USA</td>\n      <td>5</td>\n      <td>5</td>\n    </tr>\n    <tr>\n      <th>113231</th>\n      <td>/organization/zystor</td>\n      <td>Zystor</td>\n      <td>Biotechnology</td>\n      <td>USA</td>\n      <td>WI</td>\n      <td>Milwaukee</td>\n      <td>Milwaukee</td>\n      <td>/funding-round/7ea37c0ff4132b084832039a9380d34e</td>\n      <td>venture</td>\n      <td>A</td>\n      <td>2004-12-16</td>\n      <td>8500000.0</td>\n      <td>venture A</td>\n      <td>Mason Wells Biomediacl Fund</td>\n      <td>USA</td>\n      <td>5</td>\n      <td>5</td>\n    </tr>\n    <tr>\n      <th>113232</th>\n      <td>/organization/zystor</td>\n      <td>Zystor</td>\n      <td>Biotechnology</td>\n      <td>USA</td>\n      <td>WI</td>\n      <td>Milwaukee</td>\n      <td>Milwaukee</td>\n      <td>/funding-round/7ea37c0ff4132b084832039a9380d34e</td>\n      <td>venture</td>\n      <td>A</td>\n      <td>2004-12-16</td>\n      <td>8500000.0</td>\n      <td>venture A</td>\n      <td>Prolog Ventures</td>\n      <td>USA</td>\n      <td>5</td>\n      <td>5</td>\n    </tr>\n    <tr>\n      <th>113233</th>\n      <td>/organization/zystor</td>\n      <td>Zystor</td>\n      <td>Biotechnology</td>\n      <td>USA</td>\n      <td>WI</td>\n      <td>Milwaukee</td>\n      <td>Milwaukee</td>\n      <td>/funding-round/7ea37c0ff4132b084832039a9380d34e</td>\n      <td>venture</td>\n      <td>A</td>\n      <td>2004-12-16</td>\n      <td>8500000.0</td>\n      <td>venture A</td>\n      <td>State of Wisconsin Investment Board</td>\n      <td>USA</td>\n      <td>5</td>\n      <td>5</td>\n    </tr>\n    <tr>\n      <th>113234</th>\n      <td>/organization/zystor</td>\n      <td>Zystor</td>\n      <td>Biotechnology</td>\n      <td>USA</td>\n      <td>WI</td>\n      <td>Milwaukee</td>\n      <td>Milwaukee</td>\n      <td>/funding-round/7ea37c0ff4132b084832039a9380d34e</td>\n      <td>venture</td>\n      <td>A</td>\n      <td>2004-12-16</td>\n      <td>8500000.0</td>\n      <td>venture A</td>\n      <td>Stonehenge Capital</td>\n      <td>USA</td>\n      <td>5</td>\n      <td>5</td>\n    </tr>\n    <tr>\n      <th>113235</th>\n      <td>/organization/zystor</td>\n      <td>Zystor</td>\n      <td>Biotechnology</td>\n      <td>USA</td>\n      <td>WI</td>\n      <td>Milwaukee</td>\n      <td>Milwaukee</td>\n      <td>/funding-round/7ea37c0ff4132b084832039a9380d34e</td>\n      <td>venture</td>\n      <td>A</td>\n      <td>2004-12-16</td>\n      <td>8500000.0</td>\n      <td>venture A</td>\n      <td>Venture Investors</td>\n      <td>USA</td>\n      <td>5</td>\n      <td>5</td>\n    </tr>\n    <tr>\n      <th>113236</th>\n      <td>/organization/zytoprotec</td>\n      <td>Zytoprotec</td>\n      <td>Biotechnology</td>\n      <td>AUT</td>\n      <td>3</td>\n      <td>Vienna</td>\n      <td>Gerasdorf Bei Wien</td>\n      <td>/funding-round/0c43e717298296d2fb334fb236300f6e</td>\n      <td>venture</td>\n      <td>A</td>\n      <td>2013-01-29</td>\n      <td>2686600.0</td>\n      <td>venture A</td>\n      <td>Baxter International</td>\n      <td>USA</td>\n      <td>5</td>\n      <td>6</td>\n    </tr>\n    <tr>\n      <th>113237</th>\n      <td>/organization/zznode-science-and-technology-co...</td>\n      <td>ZZNode Science and Technology</td>\n      <td>Enterprise Software</td>\n      <td>CHN</td>\n      <td>22</td>\n      <td>Beijing</td>\n      <td>Beijing</td>\n      <td>/funding-round/171693e1e07e0230defd8fddb6de4515</td>\n      <td>venture</td>\n      <td>A</td>\n      <td>2012-04-01</td>\n      <td>1587301.0</td>\n      <td>venture A</td>\n      <td>Intel Capital</td>\n      <td>USA</td>\n      <td>5</td>\n      <td>7</td>\n    </tr>\n  </tbody>\n</table>\n</div>"
     },
     "metadata": {}
    }
   ],
   "execution_count": null
  },
  {
   "cell_type": "code",
   "metadata": {
    "cell_id": "ffa99415901f437dafc512ecff5c2880",
    "tags": [],
    "deepnote_to_be_reexecuted": false,
    "source_hash": "2195f706",
    "execution_start": 1651606443902,
    "execution_millis": 1908,
    "deepnote_cell_type": "code",
    "deepnote_cell_height": 420,
    "deepnote_output_heights": [
     21,
     253
    ]
   },
   "source": "# displays the distribution\ndata_merged['investor_country_round_index'].value_counts().sort_index().plot.bar()",
   "outputs": [
    {
     "output_type": "execute_result",
     "execution_count": 15,
     "data": {
      "text/plain": "<AxesSubplot:>"
     },
     "metadata": {}
    },
    {
     "data": {
      "text/plain": "<Figure size 432x288 with 1 Axes>",
      "image/png": "[encoded data removed]"
     },
     "metadata": {
      "needs_background": "light",
      "image/png": {
       "width": 387,
       "height": 251
      }
     },
     "output_type": "display_data"
    }
   ],
   "execution_count": null
  },
  {
   "cell_type": "code",
   "metadata": {
    "cell_id": "4085b9b27698471fbd85f05836f5fb6b",
    "tags": [],
    "deepnote_to_be_reexecuted": false,
    "source_hash": "19b32f93",
    "execution_start": 1651606445812,
    "execution_millis": 254,
    "deepnote_cell_type": "code",
    "deepnote_cell_height": 420,
    "deepnote_output_heights": [
     21,
     253
    ]
   },
   "source": "# displays the distribution\ndata_merged['investors_round_index'].value_counts().sort_index().plot.bar()",
   "outputs": [
    {
     "output_type": "execute_result",
     "execution_count": 16,
     "data": {
      "text/plain": "<AxesSubplot:>"
     },
     "metadata": {}
    },
    {
     "data": {
      "text/plain": "<Figure size 432x288 with 1 Axes>",
      "image/png": "[encoded data removed]"
     },
     "metadata": {
      "needs_background": "light",
      "image/png": {
       "width": 387,
       "height": 251
      }
     },
     "output_type": "display_data"
    }
   ],
   "execution_count": null
  },
  {
   "cell_type": "code",
   "metadata": {
    "cell_id": "a3c48df3d26b45158a2ed8303a685165",
    "tags": [],
    "deepnote_to_be_reexecuted": false,
    "source_hash": "15fbd898",
    "execution_start": 1651606446069,
    "execution_millis": 4,
    "deepnote_cell_type": "code",
    "deepnote_cell_height": 99
   },
   "source": "# drops these columns because they are now indices\ndel data_merged['investor_name'], data_merged['investor_country_code']",
   "outputs": [],
   "execution_count": null
  },
  {
   "cell_type": "code",
   "metadata": {
    "cell_id": "3fc88147745d43bdad55e7e435e58950",
    "tags": [],
    "deepnote_to_be_reexecuted": false,
    "source_hash": "723f2845",
    "execution_start": 1651606446082,
    "execution_millis": 121,
    "deepnote_cell_type": "code",
    "deepnote_cell_height": 154,
    "deepnote_output_heights": [
     21
    ]
   },
   "source": "# drop duplicates\ndata_merged.drop_duplicates(inplace=True)\ndata_merged.shape",
   "outputs": [
    {
     "output_type": "execute_result",
     "execution_count": 18,
     "data": {
      "text/plain": "(34297, 15)"
     },
     "metadata": {}
    }
   ],
   "execution_count": null
  },
  {
   "cell_type": "markdown",
   "source": "## 4. Aggragating raised amount and index features by startup company and funding round\nThere might be more than one same round for a startup company (e.g. two seed rounds on different dates). An additional aggregation is required for raised amount and index features.",
   "metadata": {
    "cell_id": "32da32da68e7459ea5d494b1e880cfad",
    "tags": [],
    "deepnote_cell_type": "markdown",
    "deepnote_cell_height": 170.8000030517578
   }
  },
  {
   "cell_type": "code",
   "metadata": {
    "cell_id": "6b037ae083de41b9a10ce25920e2f1a4",
    "tags": [],
    "deepnote_to_be_reexecuted": false,
    "source_hash": "d7f6995",
    "execution_start": 1651606446208,
    "execution_millis": 5,
    "deepnote_cell_type": "code",
    "deepnote_cell_height": 211,
    "deepnote_output_heights": [
     60
    ]
   },
   "source": "# groupsby company_permalink and funding_round_type\nagg_fields = ['raised_amount_usd', 'investors_round_index', 'investor_country_round_index']\nagg_dict = { key: 'mean' for key in agg_fields}\nagg_dict",
   "outputs": [
    {
     "output_type": "execute_result",
     "execution_count": 19,
     "data": {
      "text/plain": "{'raised_amount_usd': 'mean',\n 'investors_round_index': 'mean',\n 'investor_country_round_index': 'mean'}"
     },
     "metadata": {}
    }
   ],
   "execution_count": null
  },
  {
   "cell_type": "code",
   "metadata": {
    "cell_id": "e49721a6b7c64197a2ee7a5be17042cf",
    "tags": [],
    "deepnote_to_be_reexecuted": false,
    "source_hash": "33103408",
    "execution_start": 1651606446227,
    "execution_millis": 176,
    "deepnote_cell_type": "code",
    "deepnote_cell_height": 885
   },
   "source": "data_merged_grouped = (\n    data_merged.groupby([\"company_permalink\", \"funding_round\"]).agg(agg_dict).round()\n)\ndata_merged.drop(agg_fields, axis=1, inplace=True)\n\n# merges back to the original dataframe\ndata_merged = data_merged.merge(\n    data_merged_grouped,\n    how=\"left\",\n    left_on=[\"company_permalink\", \"funding_round\"],\n    right_index=True,\n)\nfor column in agg_fields:\n    data_merged[column] = data_merged[column].astype(int)\ndata_merged.head(50)\n",
   "outputs": [
    {
     "output_type": "execute_result",
     "execution_count": 20,
     "data": {
      "application/vnd.deepnote.dataframe.v3+json": {
       "column_count": 15,
       "row_count": 50,
       "columns": [
        {
         "name": "company_permalink",
         "dtype": "object",
         "stats": {
          "unique_count": 31,
          "nan_count": 0,
          "categories": [
           {
            "name": "/organization/1366-technologies",
            "count": 6
           },
           {
            "name": "/organization/1000museums-com",
            "count": 4
           },
           {
            "name": "29 others",
            "count": 40
           }
          ]
         }
        },
        {
         "name": "company_name",
         "dtype": "object",
         "stats": {
          "unique_count": 31,
          "nan_count": 0,
          "categories": [
           {
            "name": "1366 Technologies",
            "count": 6
           },
           {
            "name": "1000museums.com",
            "count": 4
           },
           {
            "name": "29 others",
            "count": 40
           }
          ]
         }
        },
        {
         "name": "company_category_list",
         "dtype": "object",
         "stats": {
          "unique_count": 26,
          "nan_count": 1,
          "categories": [
           {
            "name": "Manufacturing",
            "count": 6
           },
           {
            "name": "25 others",
            "count": 43
           },
           {
            "name": "Missing",
            "count": 1
           }
          ]
         }
        },
        {
         "name": "company_country_code",
         "dtype": "object",
         "stats": {
          "unique_count": 6,
          "nan_count": 3,
          "categories": [
           {
            "name": "USA",
            "count": 30
           },
           {
            "name": "5 others",
            "count": 17
           },
           {
            "name": "Missing",
            "count": 3
           }
          ]
         }
        },
        {
         "name": "company_state_code",
         "dtype": "object",
         "stats": {
          "unique_count": 15,
          "nan_count": 3,
          "categories": [
           {
            "name": "MA",
            "count": 11
           },
           {
            "name": "14 others",
            "count": 36
           },
           {
            "name": "Missing",
            "count": 3
           }
          ]
         }
        },
        {
         "name": "company_region",
         "dtype": "object",
         "stats": {
          "unique_count": 17,
          "nan_count": 3,
          "categories": [
           {
            "name": "SF Bay Area",
            "count": 7
           },
           {
            "name": "16 others",
            "count": 40
           },
           {
            "name": "Missing",
            "count": 3
           }
          ]
         }
        },
        {
         "name": "company_city",
         "dtype": "object",
         "stats": {
          "unique_count": 19,
          "nan_count": 3,
          "categories": [
           {
            "name": "Bedford",
            "count": 7
           },
           {
            "name": "18 others",
            "count": 40
           },
           {
            "name": "Missing",
            "count": 3
           }
          ]
         }
        },
        {
         "name": "funding_round_permalink",
         "dtype": "object",
         "stats": {
          "unique_count": 50,
          "nan_count": 0,
          "categories": [
           {
            "name": "/funding-round/5727accaeaa57461bd22a9bdd945382d",
            "count": 1
           },
           {
            "name": "/funding-round/ce6749b6441f52ccaf38b6d5578779fd",
            "count": 1
           },
           {
            "name": "48 others",
            "count": 48
           }
          ]
         }
        },
        {
         "name": "funding_round_type",
         "dtype": "object",
         "stats": {
          "unique_count": 6,
          "nan_count": 0,
          "categories": [
           {
            "name": "venture",
            "count": 33
           },
           {
            "name": "seed",
            "count": 12
           },
           {
            "name": "4 others",
            "count": 5
           }
          ]
         }
        },
        {
         "name": "funding_round_code",
         "dtype": "object",
         "stats": {
          "unique_count": 4,
          "nan_count": 24,
          "categories": [
           {
            "name": "A",
            "count": 15
           },
           {
            "name": "3 others",
            "count": 11
           },
           {
            "name": "Missing",
            "count": 24
           }
          ]
         }
        },
        {
         "name": "funded_at",
         "dtype": "object",
         "stats": {
          "unique_count": 49,
          "nan_count": 0,
          "categories": [
           {
            "name": "2014-11-26",
            "count": 2
           },
           {
            "name": "2008-03-19",
            "count": 1
           },
           {
            "name": "47 others",
            "count": 47
           }
          ]
         }
        },
        {
         "name": "funding_round",
         "dtype": "object",
         "stats": {
          "unique_count": 10,
          "nan_count": 0,
          "categories": [
           {
            "name": "venture A",
            "count": 15
           },
           {
            "name": "seed",
            "count": 12
           },
           {
            "name": "8 others",
            "count": 23
           }
          ]
         }
        },
        {
         "name": "raised_amount_usd",
         "dtype": "int64",
         "stats": {
          "unique_count": 40,
          "nan_count": 0,
          "min": "100000",
          "max": "200000000",
          "histogram": [
           {
            "bin_start": 100000,
            "bin_end": 20090000,
            "count": 45
           },
           {
            "bin_start": 20090000,
            "bin_end": 40080000,
            "count": 1
           },
           {
            "bin_start": 40080000,
            "bin_end": 60070000,
            "count": 1
           },
           {
            "bin_start": 60070000,
            "bin_end": 80060000,
            "count": 0
           },
           {
            "bin_start": 80060000,
            "bin_end": 100050000,
            "count": 2
           },
           {
            "bin_start": 100050000,
            "bin_end": 120040000,
            "count": 0
           },
           {
            "bin_start": 120040000,
            "bin_end": 140030000,
            "count": 0
           },
           {
            "bin_start": 140030000,
            "bin_end": 160020000,
            "count": 0
           },
           {
            "bin_start": 160020000,
            "bin_end": 180010000,
            "count": 0
           },
           {
            "bin_start": 180010000,
            "bin_end": 200000000,
            "count": 1
           }
          ]
         }
        },
        {
         "name": "investors_round_index",
         "dtype": "int64",
         "stats": {
          "unique_count": 9,
          "nan_count": 0,
          "min": "1",
          "max": "10",
          "histogram": [
           {
            "bin_start": 1,
            "bin_end": 1.9,
            "count": 3
           },
           {
            "bin_start": 1.9,
            "bin_end": 2.8,
            "count": 9
           },
           {
            "bin_start": 2.8,
            "bin_end": 3.7,
            "count": 3
           },
           {
            "bin_start": 3.7,
            "bin_end": 4.6,
            "count": 3
           },
           {
            "bin_start": 4.6,
            "bin_end": 5.5,
            "count": 8
           },
           {
            "bin_start": 5.5,
            "bin_end": 6.4,
            "count": 4
           },
           {
            "bin_start": 6.4,
            "bin_end": 7.3,
            "count": 0
           },
           {
            "bin_start": 7.3,
            "bin_end": 8.2,
            "count": 9
           },
           {
            "bin_start": 8.2,
            "bin_end": 9.1,
            "count": 6
           },
           {
            "bin_start": 9.1,
            "bin_end": 10,
            "count": 5
           }
          ]
         }
        },
        {
         "name": "investor_country_round_index",
         "dtype": "int64",
         "stats": {
          "unique_count": 9,
          "nan_count": 0,
          "min": "2",
          "max": "10",
          "histogram": [
           {
            "bin_start": 2,
            "bin_end": 2.8,
            "count": 11
           },
           {
            "bin_start": 2.8,
            "bin_end": 3.6,
            "count": 2
           },
           {
            "bin_start": 3.6,
            "bin_end": 4.4,
            "count": 1
           },
           {
            "bin_start": 4.4,
            "bin_end": 5.2,
            "count": 11
           },
           {
            "bin_start": 5.2,
            "bin_end": 6,
            "count": 0
           },
           {
            "bin_start": 6,
            "bin_end": 6.800000000000001,
            "count": 2
           },
           {
            "bin_start": 6.800000000000001,
            "bin_end": 7.6000000000000005,
            "count": 9
           },
           {
            "bin_start": 7.6000000000000005,
            "bin_end": 8.4,
            "count": 10
           },
           {
            "bin_start": 8.4,
            "bin_end": 9.2,
            "count": 3
           },
           {
            "bin_start": 9.2,
            "bin_end": 10,
            "count": 1
           }
          ]
         }
        },
        {
         "name": "_deepnote_index_column",
         "dtype": "int64"
        }
       ],
       "rows": [
        {
         "company_permalink": "/organization/0-6-com",
         "company_name": "0-6.com",
         "company_category_list": "Curated Web",
         "company_country_code": "CHN",
         "company_state_code": "22",
         "company_region": "Beijing",
         "company_city": "Beijing",
         "funding_round_permalink": "/funding-round/5727accaeaa57461bd22a9bdd945382d",
         "funding_round_type": "venture",
         "funding_round_code": "A",
         "funded_at": "2008-03-19",
         "funding_round": "venture A",
         "raised_amount_usd": 2000000,
         "investors_round_index": 8,
         "investor_country_round_index": 7,
         "_deepnote_index_column": 0
        },
        {
         "company_permalink": "/organization/1000-markets",
         "company_name": "1000 Markets",
         "company_category_list": "Art|E-Commerce|Marketplaces",
         "company_country_code": "USA",
         "company_state_code": "WA",
         "company_region": "Seattle",
         "company_city": "Seattle",
         "funding_round_permalink": "/funding-round/ce6749b6441f52ccaf38b6d5578779fd",
         "funding_round_type": "seed",
         "funding_round_code": "nan",
         "funded_at": "2009-05-15",
         "funding_round": "seed",
         "raised_amount_usd": 500000,
         "investors_round_index": 2,
         "investor_country_round_index": 2,
         "_deepnote_index_column": 2
        },
        {
         "company_permalink": "/organization/1000museums-com",
         "company_name": "1000museums.com",
         "company_category_list": "Curated Web",
         "company_country_code": "USA",
         "company_state_code": "MA",
         "company_region": "MA - Other",
         "company_city": "Lenox",
         "funding_round_permalink": "/funding-round/01c1aa44619ae45a16e3098fc73facfa",
         "funding_round_type": "debt_financing",
         "funding_round_code": "nan",
         "funded_at": "2013-04-08",
         "funding_round": "debt_financing",
         "raised_amount_usd": 647879,
         "investors_round_index": 2,
         "investor_country_round_index": 9,
         "_deepnote_index_column": 6
        },
        {
         "company_permalink": "/organization/1000museums-com",
         "company_name": "1000museums.com",
         "company_category_list": "Curated Web",
         "company_country_code": "USA",
         "company_state_code": "MA",
         "company_region": "MA - Other",
         "company_city": "Lenox",
         "funding_round_permalink": "/funding-round/6aeb32ab3fc05db2b606d7a2466e8c09",
         "funding_round_type": "venture",
         "funding_round_code": "nan",
         "funded_at": "2014-01-15",
         "funding_round": "venture",
         "raised_amount_usd": 1682944,
         "investors_round_index": 5,
         "investor_country_round_index": 8,
         "_deepnote_index_column": 12
        },
        {
         "company_permalink": "/organization/1000museums-com",
         "company_name": "1000museums.com",
         "company_category_list": "Curated Web",
         "company_country_code": "USA",
         "company_state_code": "MA",
         "company_region": "MA - Other",
         "company_city": "Lenox",
         "funding_round_permalink": "/funding-round/89317984885b44f02e4befb9dc2e588c",
         "funding_round_type": "venture",
         "funding_round_code": "nan",
         "funded_at": "2014-08-01",
         "funding_round": "venture",
         "raised_amount_usd": 1682944,
         "investors_round_index": 5,
         "investor_country_round_index": 8,
         "_deepnote_index_column": 13
        },
        {
         "company_permalink": "/organization/1000museums-com",
         "company_name": "1000museums.com",
         "company_category_list": "Curated Web",
         "company_country_code": "USA",
         "company_state_code": "MA",
         "company_region": "MA - Other",
         "company_city": "Lenox",
         "funding_round_permalink": "/funding-round/fd1b3064232ba9b3cfb5653a619e82e8",
         "funding_round_type": "venture",
         "funding_round_code": "nan",
         "funded_at": "2011-04-05",
         "funding_round": "venture",
         "raised_amount_usd": 1682944,
         "investors_round_index": 5,
         "investor_country_round_index": 8,
         "_deepnote_index_column": 14
        },
        {
         "company_permalink": "/organization/1001-menus",
         "company_name": "ZenChef",
         "company_category_list": "Local Businesses|Restaurants",
         "company_country_code": "FRA",
         "company_state_code": "A8",
         "company_region": "Paris",
         "company_city": "Paris",
         "funding_round_permalink": "/funding-round/645b4cd895450b8e0268027cd7813047",
         "funding_round_type": "venture",
         "funding_round_code": "B",
         "funded_at": "2015-11-04",
         "funding_round": "venture B",
         "raised_amount_usd": 6602694,
         "investors_round_index": 6,
         "investor_country_round_index": 5,
         "_deepnote_index_column": 23
        },
        {
         "company_permalink": "/organization/1001-menus",
         "company_name": "ZenChef",
         "company_category_list": "Local Businesses|Restaurants",
         "company_country_code": "FRA",
         "company_state_code": "A8",
         "company_region": "Paris",
         "company_city": "Paris",
         "funding_round_permalink": "/funding-round/8025123b90c1ab687f9857ffe18bfd3b",
         "funding_round_type": "venture",
         "funding_round_code": "A",
         "funded_at": "2013-11-13",
         "funding_round": "venture A",
         "raised_amount_usd": 1768455,
         "investors_round_index": 5,
         "investor_country_round_index": 5,
         "_deepnote_index_column": 26
        },
        {
         "company_permalink": "/organization/1001-menus",
         "company_name": "ZenChef",
         "company_category_list": "Local Businesses|Restaurants",
         "company_country_code": "FRA",
         "company_state_code": "A8",
         "company_region": "Paris",
         "company_city": "Paris",
         "funding_round_permalink": "/funding-round/9d6619bf66478dd8bf19bfc8dc237770",
         "funding_round_type": "seed",
         "funding_round_code": "nan",
         "funded_at": "2012-12-27",
         "funding_round": "seed",
         "raised_amount_usd": 132169,
         "investors_round_index": 2,
         "investor_country_round_index": 2,
         "_deepnote_index_column": 27
        },
        {
         "company_permalink": "/organization/1001-menus",
         "company_name": "ZenChef",
         "company_category_list": "Local Businesses|Restaurants",
         "company_country_code": "FRA",
         "company_state_code": "A8",
         "company_region": "Paris",
         "company_city": "Paris",
         "funding_round_permalink": "/funding-round/b6c28ea4ebe32db7083052cf87e7c368",
         "funding_round_type": "venture",
         "funding_round_code": "A",
         "funded_at": "2013-10-25",
         "funding_round": "venture A",
         "raised_amount_usd": 1768455,
         "investors_round_index": 5,
         "investor_country_round_index": 5,
         "_deepnote_index_column": 28
        }
       ]
      },
      "text/plain": "                    company_permalink                   company_name  \\\n0               /organization/0-6-com                        0-6.com   \n2          /organization/1000-markets                   1000 Markets   \n6       /organization/1000museums-com                1000museums.com   \n12      /organization/1000museums-com                1000museums.com   \n13      /organization/1000museums-com                1000museums.com   \n14      /organization/1000museums-com                1000museums.com   \n23           /organization/1001-menus                        ZenChef   \n26           /organization/1001-menus                        ZenChef   \n27           /organization/1001-menus                        ZenChef   \n28           /organization/1001-menus                        ZenChef   \n33   /organization/1001pharmacies-com             1001pharmacies.com   \n38              /organization/1006-tv                        1006.tv   \n41             /organization/100e-com                       100e.com   \n42             /organization/100e-com                       100e.com   \n43            /organization/100health                          Redox   \n46            /organization/100health                          Redox   \n49              /organization/100plus                        100Plus   \n53             /organization/1010data                       1010data   \n54                /organization/10k-2                   Beans Around   \n55                /organization/10sec                          10sec   \n56         /organization/10x-genomics                   10X Genomics   \n59              /organization/12-labs                        12 Labs   \n64             /organization/121nexus                       121nexus   \n68          /organization/123feng-com                    123Feng.Com   \n70         /organization/123greetings                   123Greetings   \n72                /organization/12bis                          12Bis   \n73                 /organization/12cm                           12cm   \n76    /organization/1366-technologies              1366 Technologies   \n81    /organization/1366-technologies              1366 Technologies   \n83    /organization/1366-technologies              1366 Technologies   \n85    /organization/1366-technologies              1366 Technologies   \n89    /organization/1366-technologies              1366 Technologies   \n92    /organization/1366-technologies              1366 Technologies   \n93             /organization/13th-lab                       13th Lab   \n94               /organization/15five                         15Five   \n98               /organization/15five                         15Five   \n108         /organization/170-systems                    170 Systems   \n109              /organization/17hats                         17hats   \n110              /organization/17hats                         17hats   \n112              /organization/17u-cn                         17u.cn   \n114              /organization/17u-cn                         17u.cn   \n116             /organization/17zuoye                        17zuoye   \n117             /organization/17zuoye                        17zuoye   \n120             /organization/17zuoye                        17zuoye   \n125             /organization/17zuoye                        17zuoye   \n128         /organization/1800diapers                    1800Diapers   \n130                /organization/1bog  One Block Off the Grid (1BOG)   \n131          /organization/1c-company                     1C Company   \n132             /organization/1docway                        1DocWay   \n145             /organization/1jiajie                        1jiajie   \n\n                                 company_category_list company_country_code  \\\n0                                          Curated Web                  CHN   \n2                          Art|E-Commerce|Marketplaces                  USA   \n6                                          Curated Web                  USA   \n12                                         Curated Web                  USA   \n13                                         Curated Web                  USA   \n14                                         Curated Web                  USA   \n23                        Local Businesses|Restaurants                  FRA   \n26                        Local Businesses|Restaurants                  FRA   \n27                        Local Businesses|Restaurants                  FRA   \n28                        Local Businesses|Restaurants                  FRA   \n33                              Cosmetics|Marketplaces                  FRA   \n38                                         Games|Media                  CHN   \n41                                           Education                  CHN   \n42                                           Education                  CHN   \n43   Health Care|Health Care Information Technology...                  USA   \n46   Health Care|Health Care Information Technology...                  USA   \n49                                           Analytics                  USA   \n53                                            Software                  USA   \n54                Coffee|Delivery|Subscription Service                  NaN   \n55          E-Commerce|Mobile Commerce|Social Commerce                  USA   \n56                            Biotechnology|Technology                  USA   \n59                 Health and Wellness|Personal Health                  USA   \n64   Health Diagnostics|Medical Devices|Personaliza...                  USA   \n68                                                 NaN                  CHN   \n70                                            Internet                  NaN   \n72                                 Publishing|Services                  FRA   \n73                   Mobile|Service Providers|Software                  KOR   \n76                                       Manufacturing                  USA   \n81                                       Manufacturing                  USA   \n83                                       Manufacturing                  USA   \n85                                       Manufacturing                  USA   \n89                                       Manufacturing                  USA   \n92                                       Manufacturing                  USA   \n93   Augmented Reality|Computer Vision|Games|iPad|M...                  SWE   \n94                                            Software                  USA   \n98                                            Software                  USA   \n108                                           Software                  USA   \n109                                           Internet                  USA   \n110                                           Internet                  USA   \n112                                             Travel                  CHN   \n114                                             Travel                  CHN   \n116                        Education|Language Learning                  USA   \n117                        Education|Language Learning                  USA   \n120                        Education|Language Learning                  USA   \n125                        Education|Language Learning                  USA   \n128                              Baby Accessories|Kids                  NaN   \n130                 Clean Technology|Residential Solar                  USA   \n131                         Games|Software|Video Games                  RUS   \n132  Doctors|Health Care|Health Care Information Te...                  USA   \n145                                         E-Commerce                  CHN   \n\n    company_state_code company_region   company_city  \\\n0                   22        Beijing        Beijing   \n2                   WA        Seattle        Seattle   \n6                   MA     MA - Other          Lenox   \n12                  MA     MA - Other          Lenox   \n13                  MA     MA - Other          Lenox   \n14                  MA     MA - Other          Lenox   \n23                  A8          Paris          Paris   \n26                  A8          Paris          Paris   \n27                  A8          Paris          Paris   \n28                  A8          Paris          Paris   \n33                  A9    Montpellier    Montpellier   \n38                  22        Beijing        Beijing   \n41                  22        Beijing        Beijing   \n42                  22        Beijing        Beijing   \n43                  WI        Madison        Madison   \n46                  WI        Madison        Madison   \n49                  CA    SF Bay Area  San Francisco   \n53                  NY  New York City       New York   \n54                 NaN            NaN            NaN   \n55                  CA    SF Bay Area  San Francisco   \n56                  CA    SF Bay Area     Pleasanton   \n59                  CA    SF Bay Area      Palo Alto   \n64                  RI     Providence     Providence   \n68                   2       Hangzhou       Hangzhou   \n70                 NaN            NaN            NaN   \n72                  A8          Paris          Paris   \n73                  13    Bundangdong    Bundangdong   \n76                  MA         Boston        Bedford   \n81                  MA         Boston        Bedford   \n83                  MA         Boston        Bedford   \n85                  MA         Boston        Bedford   \n89                  MA         Boston        Bedford   \n92                  MA         Boston        Bedford   \n93                  26      Stockholm      Stockholm   \n94                  CA    SF Bay Area  San Francisco   \n98                  CA    SF Bay Area  San Francisco   \n108                 MA         Boston        Bedford   \n109                 CA    Los Angeles    Los Angeles   \n110                 CA    Los Angeles    Los Angeles   \n112                  4       Shanghai         Suzhou   \n114                  4       Shanghai         Suzhou   \n116                 VA     VA - Other       Shanghai   \n117                 VA     VA - Other       Shanghai   \n120                 VA     VA - Other       Shanghai   \n125                 VA     VA - Other       Shanghai   \n128                NaN            NaN            NaN   \n130                 CA    SF Bay Area  San Francisco   \n131                 48         Moscow         Moscow   \n132                 NY  New York City       New York   \n145                 22        Beijing        Beijing   \n\n                             funding_round_permalink funding_round_type  \\\n0    /funding-round/5727accaeaa57461bd22a9bdd945382d            venture   \n2    /funding-round/ce6749b6441f52ccaf38b6d5578779fd               seed   \n6    /funding-round/01c1aa44619ae45a16e3098fc73facfa     debt_financing   \n12   /funding-round/6aeb32ab3fc05db2b606d7a2466e8c09            venture   \n13   /funding-round/89317984885b44f02e4befb9dc2e588c            venture   \n14   /funding-round/fd1b3064232ba9b3cfb5653a619e82e8            venture   \n23   /funding-round/645b4cd895450b8e0268027cd7813047            venture   \n26   /funding-round/8025123b90c1ab687f9857ffe18bfd3b            venture   \n27   /funding-round/9d6619bf66478dd8bf19bfc8dc237770               seed   \n28   /funding-round/b6c28ea4ebe32db7083052cf87e7c368            venture   \n33   /funding-round/a21fc4d20200f43e3a25fd9cfc7c1482            venture   \n38   /funding-round/b6aeb7401ec6993f92a16cbca153b600            venture   \n41   /funding-round/22a86670d1055d7bafce665b27e91871            venture   \n42   /funding-round/a136f7eb873dfb13cec839fef7d7f51e            venture   \n43   /funding-round/441cefff29e87a7b0bcd644b7dbe59c1               seed   \n46   /funding-round/502f558bee350299fd1ae503e5b9a124            venture   \n49   /funding-round/57ce16d039aa0c61d966397f6db00b02               seed   \n53   /funding-round/482fbf992b48f5c47d0080ab7ec0cb54            venture   \n54   /funding-round/95401c8e8336892bf375ad94efd6c725               seed   \n55   /funding-round/3f842b5ec5236ed37e375b73e945ab7f               seed   \n56   /funding-round/563923487783bdeb5d0b7872f3d6b99a            venture   \n59   /funding-round/958803df0c565d11afba52347f7efcde               seed   \n64   /funding-round/7cdbef123afa3f9a41d080147158edc0              grant   \n68   /funding-round/9d83084d87dc63a309c9a6fe9bf59d1b            venture   \n70   /funding-round/5dd1821a92088ff96b467eb16431731a            venture   \n72   /funding-round/19c048bab9708ca7aa465043160f59d1               seed   \n73   /funding-round/51db8370127fb51822a3e291971ef195            venture   \n76   /funding-round/424129ce1235cfab2655ee81305f7c2b            venture   \n81   /funding-round/786f61aa9866f4471151285f5c56be36            venture   \n83   /funding-round/82ace97530965cd2be8f262836b43ff5            venture   \n85   /funding-round/ab99fc5a53717b1b53fd6aa5687c5fa9            venture   \n89   /funding-round/b09fa4a4c5c5f5f19305c39c94b7d673            venture   \n92   /funding-round/b8f5fdb21cbee96c15e4c51ed1e5198f              grant   \n93   /funding-round/34beaeea2a19cc3291f849905ded0927               seed   \n94   /funding-round/510827fe635f2c65dffb69884763dfc6               seed   \n98   /funding-round/6c390df9112bb5ee560d419450536bd7              angel   \n108  /funding-round/b84bb882ca873f5fb96535671981196d            venture   \n109  /funding-round/56195451074439e1f61fb0165d50eea1            venture   \n110  /funding-round/d583fa6d0a08104e0b6d3b26b51fba07               seed   \n112  /funding-round/275f67ca70ae24053ee00310a1472019            venture   \n114  /funding-round/678295f15d5661577896c23dbf029fad            venture   \n116  /funding-round/69690484f51e15bc27ff52bfe472cd96            venture   \n117  /funding-round/8d87f771e938e0f31641bd600abbafca            venture   \n120  /funding-round/8e27c236a535a50c02a17450ed82a980            venture   \n125  /funding-round/c7d697c15073671f014468332f13fc9f            venture   \n128  /funding-round/5e2b8cd8ad0dcdff961fd09dee78d487            venture   \n130  /funding-round/3d2463c9b97f32b3be8747fbd629961f            venture   \n131  /funding-round/679ae989d9dd8195e989dda21eff44b7     private_equity   \n132  /funding-round/dbdef8e0f6193926f26ca2b87bf4765a               seed   \n145  /funding-round/8f6baef2e6c54477fe0e91a2936d0f0f            venture   \n\n    funding_round_code   funded_at   funding_round  raised_amount_usd  \\\n0                    A  2008-03-19       venture A            2000000   \n2                  NaN  2009-05-15            seed             500000   \n6                  NaN  2013-04-08  debt_financing             647879   \n12                 NaN  2014-01-15         venture            1682944   \n13                 NaN  2014-08-01         venture            1682944   \n14                 NaN  2011-04-05         venture            1682944   \n23                   B  2015-11-04       venture B            6602694   \n26                   A  2013-11-13       venture A            1768455   \n27                 NaN  2012-12-27            seed             132169   \n28                   A  2013-10-25       venture A            1768455   \n33                   A  2015-07-09       venture A            8900000   \n38                   B  2014-07-31       venture B           10000000   \n41                 NaN  2006-01-01         venture            2250000   \n42                 NaN  2006-09-01         venture            2250000   \n43                 NaN  2014-11-26            seed             470000   \n46                   A  2015-10-20       venture A            3530000   \n49                 NaN  2011-11-30            seed             750000   \n53                 NaN  2010-03-08         venture           35000000   \n54                 NaN  2015-09-04            seed             100000   \n55                 NaN  2014-05-08            seed            1600000   \n56                   B  2015-01-12       venture B           55000000   \n59                 NaN  2014-11-26            seed             935000   \n64                 NaN  2013-07-01           grant             150000   \n68                   A  2015-10-27       venture A           13000000   \n70                 NaN  2015-07-23         venture            5400000   \n72                 NaN  2012-03-15            seed             130636   \n73                   A  2014-12-11       venture A            1809056   \n76                   C  2013-10-15       venture C           15000000   \n81                   A  2010-02-03       venture A            8775000   \n83                   A  2008-03-27       venture A            8775000   \n85                   B  2010-12-16       venture B           13000000   \n89                   B  2010-10-19       venture B           13000000   \n92                 NaN  2011-02-07           grant            3000000   \n93                 NaN  2012-06-15            seed             700000   \n94                 NaN  2014-10-02            seed            2200000   \n98                 NaN  2013-01-15           angel            1000000   \n108                  A  2002-04-16       venture A           14000000   \n109                  A  2015-10-15       venture A            4000000   \n110                NaN  2015-02-18            seed            1250000   \n112                  A  2008-01-01       venture A             479014   \n114                  C  2014-02-17       venture C           82372322   \n116                  A  2011-01-01       venture A            5000000   \n117                  B  2013-09-01       venture B           10000000   \n120                  C  2014-02-24       venture C           20000000   \n125                  D  2015-02-19       venture D          100000000   \n128                  B  2007-12-04       venture B            7000000   \n130                  A  2010-02-11       venture A            5000000   \n131                NaN  2011-10-03  private_equity          200000000   \n132                NaN  2015-07-21            seed            1700000   \n145                  A  2014-09-16       venture A            4000000   \n\n     investors_round_index  investor_country_round_index  \n0                        8                             7  \n2                        2                             2  \n6                        2                             9  \n12                       5                             8  \n13                       5                             8  \n14                       5                             8  \n23                       6                             5  \n26                       5                             5  \n27                       2                             2  \n28                       5                             5  \n33                       5                             5  \n38                       9                             8  \n41                       5                             8  \n42                       5                             8  \n43                       1                             2  \n46                       6                             5  \n49                       2                             2  \n53                       9                             8  \n54                       1                             3  \n55                       3                             2  \n56                       9                             7  \n59                       2                             2  \n64                       4                             6  \n68                       8                             5  \n70                       9                             8  \n72                       2                             2  \n73                       3                             4  \n76                       9                             7  \n81                       8                             5  \n83                       8                             5  \n85                       8                             7  \n89                       8                             7  \n92                      10                             6  \n93                       3                             3  \n94                       2                             2  \n98                       1                             2  \n108                      8                             5  \n109                      4                             5  \n110                      2                             2  \n112                      4                             7  \n114                     10                             9  \n116                      6                             7  \n117                      8                             8  \n120                     10                             8  \n125                     10                             9  \n128                      8                             7  \n130                      9                             5  \n131                     10                            10  \n132                      2                             2  \n145                      6                             7  ",
      "text/html": "<div>\n<style scoped>\n    .dataframe tbody tr th:only-of-type {\n        vertical-align: middle;\n    }\n\n    .dataframe tbody tr th {\n        vertical-align: top;\n    }\n\n    .dataframe thead th {\n        text-align: right;\n    }\n</style>\n<table border=\"1\" class=\"dataframe\">\n  <thead>\n    <tr style=\"text-align: right;\">\n      <th></th>\n      <th>company_permalink</th>\n      <th>company_name</th>\n      <th>company_category_list</th>\n      <th>company_country_code</th>\n      <th>company_state_code</th>\n      <th>company_region</th>\n      <th>company_city</th>\n      <th>funding_round_permalink</th>\n      <th>funding_round_type</th>\n      <th>funding_round_code</th>\n      <th>funded_at</th>\n      <th>funding_round</th>\n      <th>raised_amount_usd</th>\n      <th>investors_round_index</th>\n      <th>investor_country_round_index</th>\n    </tr>\n  </thead>\n  <tbody>\n    <tr>\n      <th>0</th>\n      <td>/organization/0-6-com</td>\n      <td>0-6.com</td>\n      <td>Curated Web</td>\n      <td>CHN</td>\n      <td>22</td>\n      <td>Beijing</td>\n      <td>Beijing</td>\n      <td>/funding-round/5727accaeaa57461bd22a9bdd945382d</td>\n      <td>venture</td>\n      <td>A</td>\n      <td>2008-03-19</td>\n      <td>venture A</td>\n      <td>2000000</td>\n      <td>8</td>\n      <td>7</td>\n    </tr>\n    <tr>\n      <th>2</th>\n      <td>/organization/1000-markets</td>\n      <td>1000 Markets</td>\n      <td>Art|E-Commerce|Marketplaces</td>\n      <td>USA</td>\n      <td>WA</td>\n      <td>Seattle</td>\n      <td>Seattle</td>\n      <td>/funding-round/ce6749b6441f52ccaf38b6d5578779fd</td>\n      <td>seed</td>\n      <td>NaN</td>\n      <td>2009-05-15</td>\n      <td>seed</td>\n      <td>500000</td>\n      <td>2</td>\n      <td>2</td>\n    </tr>\n    <tr>\n      <th>6</th>\n      <td>/organization/1000museums-com</td>\n      <td>1000museums.com</td>\n      <td>Curated Web</td>\n      <td>USA</td>\n      <td>MA</td>\n      <td>MA - Other</td>\n      <td>Lenox</td>\n      <td>/funding-round/01c1aa44619ae45a16e3098fc73facfa</td>\n      <td>debt_financing</td>\n      <td>NaN</td>\n      <td>2013-04-08</td>\n      <td>debt_financing</td>\n      <td>647879</td>\n      <td>2</td>\n      <td>9</td>\n    </tr>\n    <tr>\n      <th>12</th>\n      <td>/organization/1000museums-com</td>\n      <td>1000museums.com</td>\n      <td>Curated Web</td>\n      <td>USA</td>\n      <td>MA</td>\n      <td>MA - Other</td>\n      <td>Lenox</td>\n      <td>/funding-round/6aeb32ab3fc05db2b606d7a2466e8c09</td>\n      <td>venture</td>\n      <td>NaN</td>\n      <td>2014-01-15</td>\n      <td>venture</td>\n      <td>1682944</td>\n      <td>5</td>\n      <td>8</td>\n    </tr>\n    <tr>\n      <th>13</th>\n      <td>/organization/1000museums-com</td>\n      <td>1000museums.com</td>\n      <td>Curated Web</td>\n      <td>USA</td>\n      <td>MA</td>\n      <td>MA - Other</td>\n      <td>Lenox</td>\n      <td>/funding-round/89317984885b44f02e4befb9dc2e588c</td>\n      <td>venture</td>\n      <td>NaN</td>\n      <td>2014-08-01</td>\n      <td>venture</td>\n      <td>1682944</td>\n      <td>5</td>\n      <td>8</td>\n    </tr>\n    <tr>\n      <th>14</th>\n      <td>/organization/1000museums-com</td>\n      <td>1000museums.com</td>\n      <td>Curated Web</td>\n      <td>USA</td>\n      <td>MA</td>\n      <td>MA - Other</td>\n      <td>Lenox</td>\n      <td>/funding-round/fd1b3064232ba9b3cfb5653a619e82e8</td>\n      <td>venture</td>\n      <td>NaN</td>\n      <td>2011-04-05</td>\n      <td>venture</td>\n      <td>1682944</td>\n      <td>5</td>\n      <td>8</td>\n    </tr>\n    <tr>\n      <th>23</th>\n      <td>/organization/1001-menus</td>\n      <td>ZenChef</td>\n      <td>Local Businesses|Restaurants</td>\n      <td>FRA</td>\n      <td>A8</td>\n      <td>Paris</td>\n      <td>Paris</td>\n      <td>/funding-round/645b4cd895450b8e0268027cd7813047</td>\n      <td>venture</td>\n      <td>B</td>\n      <td>2015-11-04</td>\n      <td>venture B</td>\n      <td>6602694</td>\n      <td>6</td>\n      <td>5</td>\n    </tr>\n    <tr>\n      <th>26</th>\n      <td>/organization/1001-menus</td>\n      <td>ZenChef</td>\n      <td>Local Businesses|Restaurants</td>\n      <td>FRA</td>\n      <td>A8</td>\n      <td>Paris</td>\n      <td>Paris</td>\n      <td>/funding-round/8025123b90c1ab687f9857ffe18bfd3b</td>\n      <td>venture</td>\n      <td>A</td>\n      <td>2013-11-13</td>\n      <td>venture A</td>\n      <td>1768455</td>\n      <td>5</td>\n      <td>5</td>\n    </tr>\n    <tr>\n      <th>27</th>\n      <td>/organization/1001-menus</td>\n      <td>ZenChef</td>\n      <td>Local Businesses|Restaurants</td>\n      <td>FRA</td>\n      <td>A8</td>\n      <td>Paris</td>\n      <td>Paris</td>\n      <td>/funding-round/9d6619bf66478dd8bf19bfc8dc237770</td>\n      <td>seed</td>\n      <td>NaN</td>\n      <td>2012-12-27</td>\n      <td>seed</td>\n      <td>132169</td>\n      <td>2</td>\n      <td>2</td>\n    </tr>\n    <tr>\n      <th>28</th>\n      <td>/organization/1001-menus</td>\n      <td>ZenChef</td>\n      <td>Local Businesses|Restaurants</td>\n      <td>FRA</td>\n      <td>A8</td>\n      <td>Paris</td>\n      <td>Paris</td>\n      <td>/funding-round/b6c28ea4ebe32db7083052cf87e7c368</td>\n      <td>venture</td>\n      <td>A</td>\n      <td>2013-10-25</td>\n      <td>venture A</td>\n      <td>1768455</td>\n      <td>5</td>\n      <td>5</td>\n    </tr>\n    <tr>\n      <th>33</th>\n      <td>/organization/1001pharmacies-com</td>\n      <td>1001pharmacies.com</td>\n      <td>Cosmetics|Marketplaces</td>\n      <td>FRA</td>\n      <td>A9</td>\n      <td>Montpellier</td>\n      <td>Montpellier</td>\n      <td>/funding-round/a21fc4d20200f43e3a25fd9cfc7c1482</td>\n      <td>venture</td>\n      <td>A</td>\n      <td>2015-07-09</td>\n      <td>venture A</td>\n      <td>8900000</td>\n      <td>5</td>\n      <td>5</td>\n    </tr>\n    <tr>\n      <th>38</th>\n      <td>/organization/1006-tv</td>\n      <td>1006.tv</td>\n      <td>Games|Media</td>\n      <td>CHN</td>\n      <td>22</td>\n      <td>Beijing</td>\n      <td>Beijing</td>\n      <td>/funding-round/b6aeb7401ec6993f92a16cbca153b600</td>\n      <td>venture</td>\n      <td>B</td>\n      <td>2014-07-31</td>\n      <td>venture B</td>\n      <td>10000000</td>\n      <td>9</td>\n      <td>8</td>\n    </tr>\n    <tr>\n      <th>41</th>\n      <td>/organization/100e-com</td>\n      <td>100e.com</td>\n      <td>Education</td>\n      <td>CHN</td>\n      <td>22</td>\n      <td>Beijing</td>\n      <td>Beijing</td>\n      <td>/funding-round/22a86670d1055d7bafce665b27e91871</td>\n      <td>venture</td>\n      <td>NaN</td>\n      <td>2006-01-01</td>\n      <td>venture</td>\n      <td>2250000</td>\n      <td>5</td>\n      <td>8</td>\n    </tr>\n    <tr>\n      <th>42</th>\n      <td>/organization/100e-com</td>\n      <td>100e.com</td>\n      <td>Education</td>\n      <td>CHN</td>\n      <td>22</td>\n      <td>Beijing</td>\n      <td>Beijing</td>\n      <td>/funding-round/a136f7eb873dfb13cec839fef7d7f51e</td>\n      <td>venture</td>\n      <td>NaN</td>\n      <td>2006-09-01</td>\n      <td>venture</td>\n      <td>2250000</td>\n      <td>5</td>\n      <td>8</td>\n    </tr>\n    <tr>\n      <th>43</th>\n      <td>/organization/100health</td>\n      <td>Redox</td>\n      <td>Health Care|Health Care Information Technology...</td>\n      <td>USA</td>\n      <td>WI</td>\n      <td>Madison</td>\n      <td>Madison</td>\n      <td>/funding-round/441cefff29e87a7b0bcd644b7dbe59c1</td>\n      <td>seed</td>\n      <td>NaN</td>\n      <td>2014-11-26</td>\n      <td>seed</td>\n      <td>470000</td>\n      <td>1</td>\n      <td>2</td>\n    </tr>\n    <tr>\n      <th>46</th>\n      <td>/organization/100health</td>\n      <td>Redox</td>\n      <td>Health Care|Health Care Information Technology...</td>\n      <td>USA</td>\n      <td>WI</td>\n      <td>Madison</td>\n      <td>Madison</td>\n      <td>/funding-round/502f558bee350299fd1ae503e5b9a124</td>\n      <td>venture</td>\n      <td>A</td>\n      <td>2015-10-20</td>\n      <td>venture A</td>\n      <td>3530000</td>\n      <td>6</td>\n      <td>5</td>\n    </tr>\n    <tr>\n      <th>49</th>\n      <td>/organization/100plus</td>\n      <td>100Plus</td>\n      <td>Analytics</td>\n      <td>USA</td>\n      <td>CA</td>\n      <td>SF Bay Area</td>\n      <td>San Francisco</td>\n      <td>/funding-round/57ce16d039aa0c61d966397f6db00b02</td>\n      <td>seed</td>\n      <td>NaN</td>\n      <td>2011-11-30</td>\n      <td>seed</td>\n      <td>750000</td>\n      <td>2</td>\n      <td>2</td>\n    </tr>\n    <tr>\n      <th>53</th>\n      <td>/organization/1010data</td>\n      <td>1010data</td>\n      <td>Software</td>\n      <td>USA</td>\n      <td>NY</td>\n      <td>New York City</td>\n      <td>New York</td>\n      <td>/funding-round/482fbf992b48f5c47d0080ab7ec0cb54</td>\n      <td>venture</td>\n      <td>NaN</td>\n      <td>2010-03-08</td>\n      <td>venture</td>\n      <td>35000000</td>\n      <td>9</td>\n      <td>8</td>\n    </tr>\n    <tr>\n      <th>54</th>\n      <td>/organization/10k-2</td>\n      <td>Beans Around</td>\n      <td>Coffee|Delivery|Subscription Service</td>\n      <td>NaN</td>\n      <td>NaN</td>\n      <td>NaN</td>\n      <td>NaN</td>\n      <td>/funding-round/95401c8e8336892bf375ad94efd6c725</td>\n      <td>seed</td>\n      <td>NaN</td>\n      <td>2015-09-04</td>\n      <td>seed</td>\n      <td>100000</td>\n      <td>1</td>\n      <td>3</td>\n    </tr>\n    <tr>\n      <th>55</th>\n      <td>/organization/10sec</td>\n      <td>10sec</td>\n      <td>E-Commerce|Mobile Commerce|Social Commerce</td>\n      <td>USA</td>\n      <td>CA</td>\n      <td>SF Bay Area</td>\n      <td>San Francisco</td>\n      <td>/funding-round/3f842b5ec5236ed37e375b73e945ab7f</td>\n      <td>seed</td>\n      <td>NaN</td>\n      <td>2014-05-08</td>\n      <td>seed</td>\n      <td>1600000</td>\n      <td>3</td>\n      <td>2</td>\n    </tr>\n    <tr>\n      <th>56</th>\n      <td>/organization/10x-genomics</td>\n      <td>10X Genomics</td>\n      <td>Biotechnology|Technology</td>\n      <td>USA</td>\n      <td>CA</td>\n      <td>SF Bay Area</td>\n      <td>Pleasanton</td>\n      <td>/funding-round/563923487783bdeb5d0b7872f3d6b99a</td>\n      <td>venture</td>\n      <td>B</td>\n      <td>2015-01-12</td>\n      <td>venture B</td>\n      <td>55000000</td>\n      <td>9</td>\n      <td>7</td>\n    </tr>\n    <tr>\n      <th>59</th>\n      <td>/organization/12-labs</td>\n      <td>12 Labs</td>\n      <td>Health and Wellness|Personal Health</td>\n      <td>USA</td>\n      <td>CA</td>\n      <td>SF Bay Area</td>\n      <td>Palo Alto</td>\n      <td>/funding-round/958803df0c565d11afba52347f7efcde</td>\n      <td>seed</td>\n      <td>NaN</td>\n      <td>2014-11-26</td>\n      <td>seed</td>\n      <td>935000</td>\n      <td>2</td>\n      <td>2</td>\n    </tr>\n    <tr>\n      <th>64</th>\n      <td>/organization/121nexus</td>\n      <td>121nexus</td>\n      <td>Health Diagnostics|Medical Devices|Personaliza...</td>\n      <td>USA</td>\n      <td>RI</td>\n      <td>Providence</td>\n      <td>Providence</td>\n      <td>/funding-round/7cdbef123afa3f9a41d080147158edc0</td>\n      <td>grant</td>\n      <td>NaN</td>\n      <td>2013-07-01</td>\n      <td>grant</td>\n      <td>150000</td>\n      <td>4</td>\n      <td>6</td>\n    </tr>\n    <tr>\n      <th>68</th>\n      <td>/organization/123feng-com</td>\n      <td>123Feng.Com</td>\n      <td>NaN</td>\n      <td>CHN</td>\n      <td>2</td>\n      <td>Hangzhou</td>\n      <td>Hangzhou</td>\n      <td>/funding-round/9d83084d87dc63a309c9a6fe9bf59d1b</td>\n      <td>venture</td>\n      <td>A</td>\n      <td>2015-10-27</td>\n      <td>venture A</td>\n      <td>13000000</td>\n      <td>8</td>\n      <td>5</td>\n    </tr>\n    <tr>\n      <th>70</th>\n      <td>/organization/123greetings</td>\n      <td>123Greetings</td>\n      <td>Internet</td>\n      <td>NaN</td>\n      <td>NaN</td>\n      <td>NaN</td>\n      <td>NaN</td>\n      <td>/funding-round/5dd1821a92088ff96b467eb16431731a</td>\n      <td>venture</td>\n      <td>NaN</td>\n      <td>2015-07-23</td>\n      <td>venture</td>\n      <td>5400000</td>\n      <td>9</td>\n      <td>8</td>\n    </tr>\n    <tr>\n      <th>72</th>\n      <td>/organization/12bis</td>\n      <td>12Bis</td>\n      <td>Publishing|Services</td>\n      <td>FRA</td>\n      <td>A8</td>\n      <td>Paris</td>\n      <td>Paris</td>\n      <td>/funding-round/19c048bab9708ca7aa465043160f59d1</td>\n      <td>seed</td>\n      <td>NaN</td>\n      <td>2012-03-15</td>\n      <td>seed</td>\n      <td>130636</td>\n      <td>2</td>\n      <td>2</td>\n    </tr>\n    <tr>\n      <th>73</th>\n      <td>/organization/12cm</td>\n      <td>12cm</td>\n      <td>Mobile|Service Providers|Software</td>\n      <td>KOR</td>\n      <td>13</td>\n      <td>Bundangdong</td>\n      <td>Bundangdong</td>\n      <td>/funding-round/51db8370127fb51822a3e291971ef195</td>\n      <td>venture</td>\n      <td>A</td>\n      <td>2014-12-11</td>\n      <td>venture A</td>\n      <td>1809056</td>\n      <td>3</td>\n      <td>4</td>\n    </tr>\n    <tr>\n      <th>76</th>\n      <td>/organization/1366-technologies</td>\n      <td>1366 Technologies</td>\n      <td>Manufacturing</td>\n      <td>USA</td>\n      <td>MA</td>\n      <td>Boston</td>\n      <td>Bedford</td>\n      <td>/funding-round/424129ce1235cfab2655ee81305f7c2b</td>\n      <td>venture</td>\n      <td>C</td>\n      <td>2013-10-15</td>\n      <td>venture C</td>\n      <td>15000000</td>\n      <td>9</td>\n      <td>7</td>\n    </tr>\n    <tr>\n      <th>81</th>\n      <td>/organization/1366-technologies</td>\n      <td>1366 Technologies</td>\n      <td>Manufacturing</td>\n      <td>USA</td>\n      <td>MA</td>\n      <td>Boston</td>\n      <td>Bedford</td>\n      <td>/funding-round/786f61aa9866f4471151285f5c56be36</td>\n      <td>venture</td>\n      <td>A</td>\n      <td>2010-02-03</td>\n      <td>venture A</td>\n      <td>8775000</td>\n      <td>8</td>\n      <td>5</td>\n    </tr>\n    <tr>\n      <th>83</th>\n      <td>/organization/1366-technologies</td>\n      <td>1366 Technologies</td>\n      <td>Manufacturing</td>\n      <td>USA</td>\n      <td>MA</td>\n      <td>Boston</td>\n      <td>Bedford</td>\n      <td>/funding-round/82ace97530965cd2be8f262836b43ff5</td>\n      <td>venture</td>\n      <td>A</td>\n      <td>2008-03-27</td>\n      <td>venture A</td>\n      <td>8775000</td>\n      <td>8</td>\n      <td>5</td>\n    </tr>\n    <tr>\n      <th>85</th>\n      <td>/organization/1366-technologies</td>\n      <td>1366 Technologies</td>\n      <td>Manufacturing</td>\n      <td>USA</td>\n      <td>MA</td>\n      <td>Boston</td>\n      <td>Bedford</td>\n      <td>/funding-round/ab99fc5a53717b1b53fd6aa5687c5fa9</td>\n      <td>venture</td>\n      <td>B</td>\n      <td>2010-12-16</td>\n      <td>venture B</td>\n      <td>13000000</td>\n      <td>8</td>\n      <td>7</td>\n    </tr>\n    <tr>\n      <th>89</th>\n      <td>/organization/1366-technologies</td>\n      <td>1366 Technologies</td>\n      <td>Manufacturing</td>\n      <td>USA</td>\n      <td>MA</td>\n      <td>Boston</td>\n      <td>Bedford</td>\n      <td>/funding-round/b09fa4a4c5c5f5f19305c39c94b7d673</td>\n      <td>venture</td>\n      <td>B</td>\n      <td>2010-10-19</td>\n      <td>venture B</td>\n      <td>13000000</td>\n      <td>8</td>\n      <td>7</td>\n    </tr>\n    <tr>\n      <th>92</th>\n      <td>/organization/1366-technologies</td>\n      <td>1366 Technologies</td>\n      <td>Manufacturing</td>\n      <td>USA</td>\n      <td>MA</td>\n      <td>Boston</td>\n      <td>Bedford</td>\n      <td>/funding-round/b8f5fdb21cbee96c15e4c51ed1e5198f</td>\n      <td>grant</td>\n      <td>NaN</td>\n      <td>2011-02-07</td>\n      <td>grant</td>\n      <td>3000000</td>\n      <td>10</td>\n      <td>6</td>\n    </tr>\n    <tr>\n      <th>93</th>\n      <td>/organization/13th-lab</td>\n      <td>13th Lab</td>\n      <td>Augmented Reality|Computer Vision|Games|iPad|M...</td>\n      <td>SWE</td>\n      <td>26</td>\n      <td>Stockholm</td>\n      <td>Stockholm</td>\n      <td>/funding-round/34beaeea2a19cc3291f849905ded0927</td>\n      <td>seed</td>\n      <td>NaN</td>\n      <td>2012-06-15</td>\n      <td>seed</td>\n      <td>700000</td>\n      <td>3</td>\n      <td>3</td>\n    </tr>\n    <tr>\n      <th>94</th>\n      <td>/organization/15five</td>\n      <td>15Five</td>\n      <td>Software</td>\n      <td>USA</td>\n      <td>CA</td>\n      <td>SF Bay Area</td>\n      <td>San Francisco</td>\n      <td>/funding-round/510827fe635f2c65dffb69884763dfc6</td>\n      <td>seed</td>\n      <td>NaN</td>\n      <td>2014-10-02</td>\n      <td>seed</td>\n      <td>2200000</td>\n      <td>2</td>\n      <td>2</td>\n    </tr>\n    <tr>\n      <th>98</th>\n      <td>/organization/15five</td>\n      <td>15Five</td>\n      <td>Software</td>\n      <td>USA</td>\n      <td>CA</td>\n      <td>SF Bay Area</td>\n      <td>San Francisco</td>\n      <td>/funding-round/6c390df9112bb5ee560d419450536bd7</td>\n      <td>angel</td>\n      <td>NaN</td>\n      <td>2013-01-15</td>\n      <td>angel</td>\n      <td>1000000</td>\n      <td>1</td>\n      <td>2</td>\n    </tr>\n    <tr>\n      <th>108</th>\n      <td>/organization/170-systems</td>\n      <td>170 Systems</td>\n      <td>Software</td>\n      <td>USA</td>\n      <td>MA</td>\n      <td>Boston</td>\n      <td>Bedford</td>\n      <td>/funding-round/b84bb882ca873f5fb96535671981196d</td>\n      <td>venture</td>\n      <td>A</td>\n      <td>2002-04-16</td>\n      <td>venture A</td>\n      <td>14000000</td>\n      <td>8</td>\n      <td>5</td>\n    </tr>\n    <tr>\n      <th>109</th>\n      <td>/organization/17hats</td>\n      <td>17hats</td>\n      <td>Internet</td>\n      <td>USA</td>\n      <td>CA</td>\n      <td>Los Angeles</td>\n      <td>Los Angeles</td>\n      <td>/funding-round/56195451074439e1f61fb0165d50eea1</td>\n      <td>venture</td>\n      <td>A</td>\n      <td>2015-10-15</td>\n      <td>venture A</td>\n      <td>4000000</td>\n      <td>4</td>\n      <td>5</td>\n    </tr>\n    <tr>\n      <th>110</th>\n      <td>/organization/17hats</td>\n      <td>17hats</td>\n      <td>Internet</td>\n      <td>USA</td>\n      <td>CA</td>\n      <td>Los Angeles</td>\n      <td>Los Angeles</td>\n      <td>/funding-round/d583fa6d0a08104e0b6d3b26b51fba07</td>\n      <td>seed</td>\n      <td>NaN</td>\n      <td>2015-02-18</td>\n      <td>seed</td>\n      <td>1250000</td>\n      <td>2</td>\n      <td>2</td>\n    </tr>\n    <tr>\n      <th>112</th>\n      <td>/organization/17u-cn</td>\n      <td>17u.cn</td>\n      <td>Travel</td>\n      <td>CHN</td>\n      <td>4</td>\n      <td>Shanghai</td>\n      <td>Suzhou</td>\n      <td>/funding-round/275f67ca70ae24053ee00310a1472019</td>\n      <td>venture</td>\n      <td>A</td>\n      <td>2008-01-01</td>\n      <td>venture A</td>\n      <td>479014</td>\n      <td>4</td>\n      <td>7</td>\n    </tr>\n    <tr>\n      <th>114</th>\n      <td>/organization/17u-cn</td>\n      <td>17u.cn</td>\n      <td>Travel</td>\n      <td>CHN</td>\n      <td>4</td>\n      <td>Shanghai</td>\n      <td>Suzhou</td>\n      <td>/funding-round/678295f15d5661577896c23dbf029fad</td>\n      <td>venture</td>\n      <td>C</td>\n      <td>2014-02-17</td>\n      <td>venture C</td>\n      <td>82372322</td>\n      <td>10</td>\n      <td>9</td>\n    </tr>\n    <tr>\n      <th>116</th>\n      <td>/organization/17zuoye</td>\n      <td>17zuoye</td>\n      <td>Education|Language Learning</td>\n      <td>USA</td>\n      <td>VA</td>\n      <td>VA - Other</td>\n      <td>Shanghai</td>\n      <td>/funding-round/69690484f51e15bc27ff52bfe472cd96</td>\n      <td>venture</td>\n      <td>A</td>\n      <td>2011-01-01</td>\n      <td>venture A</td>\n      <td>5000000</td>\n      <td>6</td>\n      <td>7</td>\n    </tr>\n    <tr>\n      <th>117</th>\n      <td>/organization/17zuoye</td>\n      <td>17zuoye</td>\n      <td>Education|Language Learning</td>\n      <td>USA</td>\n      <td>VA</td>\n      <td>VA - Other</td>\n      <td>Shanghai</td>\n      <td>/funding-round/8d87f771e938e0f31641bd600abbafca</td>\n      <td>venture</td>\n      <td>B</td>\n      <td>2013-09-01</td>\n      <td>venture B</td>\n      <td>10000000</td>\n      <td>8</td>\n      <td>8</td>\n    </tr>\n    <tr>\n      <th>120</th>\n      <td>/organization/17zuoye</td>\n      <td>17zuoye</td>\n      <td>Education|Language Learning</td>\n      <td>USA</td>\n      <td>VA</td>\n      <td>VA - Other</td>\n      <td>Shanghai</td>\n      <td>/funding-round/8e27c236a535a50c02a17450ed82a980</td>\n      <td>venture</td>\n      <td>C</td>\n      <td>2014-02-24</td>\n      <td>venture C</td>\n      <td>20000000</td>\n      <td>10</td>\n      <td>8</td>\n    </tr>\n    <tr>\n      <th>125</th>\n      <td>/organization/17zuoye</td>\n      <td>17zuoye</td>\n      <td>Education|Language Learning</td>\n      <td>USA</td>\n      <td>VA</td>\n      <td>VA - Other</td>\n      <td>Shanghai</td>\n      <td>/funding-round/c7d697c15073671f014468332f13fc9f</td>\n      <td>venture</td>\n      <td>D</td>\n      <td>2015-02-19</td>\n      <td>venture D</td>\n      <td>100000000</td>\n      <td>10</td>\n      <td>9</td>\n    </tr>\n    <tr>\n      <th>128</th>\n      <td>/organization/1800diapers</td>\n      <td>1800Diapers</td>\n      <td>Baby Accessories|Kids</td>\n      <td>NaN</td>\n      <td>NaN</td>\n      <td>NaN</td>\n      <td>NaN</td>\n      <td>/funding-round/5e2b8cd8ad0dcdff961fd09dee78d487</td>\n      <td>venture</td>\n      <td>B</td>\n      <td>2007-12-04</td>\n      <td>venture B</td>\n      <td>7000000</td>\n      <td>8</td>\n      <td>7</td>\n    </tr>\n    <tr>\n      <th>130</th>\n      <td>/organization/1bog</td>\n      <td>One Block Off the Grid (1BOG)</td>\n      <td>Clean Technology|Residential Solar</td>\n      <td>USA</td>\n      <td>CA</td>\n      <td>SF Bay Area</td>\n      <td>San Francisco</td>\n      <td>/funding-round/3d2463c9b97f32b3be8747fbd629961f</td>\n      <td>venture</td>\n      <td>A</td>\n      <td>2010-02-11</td>\n      <td>venture A</td>\n      <td>5000000</td>\n      <td>9</td>\n      <td>5</td>\n    </tr>\n    <tr>\n      <th>131</th>\n      <td>/organization/1c-company</td>\n      <td>1C Company</td>\n      <td>Games|Software|Video Games</td>\n      <td>RUS</td>\n      <td>48</td>\n      <td>Moscow</td>\n      <td>Moscow</td>\n      <td>/funding-round/679ae989d9dd8195e989dda21eff44b7</td>\n      <td>private_equity</td>\n      <td>NaN</td>\n      <td>2011-10-03</td>\n      <td>private_equity</td>\n      <td>200000000</td>\n      <td>10</td>\n      <td>10</td>\n    </tr>\n    <tr>\n      <th>132</th>\n      <td>/organization/1docway</td>\n      <td>1DocWay</td>\n      <td>Doctors|Health Care|Health Care Information Te...</td>\n      <td>USA</td>\n      <td>NY</td>\n      <td>New York City</td>\n      <td>New York</td>\n      <td>/funding-round/dbdef8e0f6193926f26ca2b87bf4765a</td>\n      <td>seed</td>\n      <td>NaN</td>\n      <td>2015-07-21</td>\n      <td>seed</td>\n      <td>1700000</td>\n      <td>2</td>\n      <td>2</td>\n    </tr>\n    <tr>\n      <th>145</th>\n      <td>/organization/1jiajie</td>\n      <td>1jiajie</td>\n      <td>E-Commerce</td>\n      <td>CHN</td>\n      <td>22</td>\n      <td>Beijing</td>\n      <td>Beijing</td>\n      <td>/funding-round/8f6baef2e6c54477fe0e91a2936d0f0f</td>\n      <td>venture</td>\n      <td>A</td>\n      <td>2014-09-16</td>\n      <td>venture A</td>\n      <td>4000000</td>\n      <td>6</td>\n      <td>7</td>\n    </tr>\n  </tbody>\n</table>\n</div>"
     },
     "metadata": {}
    }
   ],
   "execution_count": null
  },
  {
   "cell_type": "code",
   "metadata": {
    "cell_id": "99ef00e816a44533a2bc33740d195441",
    "tags": [],
    "deepnote_to_be_reexecuted": false,
    "source_hash": "488fa72a",
    "execution_start": 1651606446409,
    "execution_millis": 9,
    "deepnote_cell_type": "code",
    "deepnote_cell_height": 135
   },
   "source": "# Dropping undisclosed and venture from funding_round\n\ndata_merged = data_merged[data_merged[\"funding_round\"]!=\"undisclosed\"]\ndata_merged = data_merged[data_merged[\"funding_round\"]!=\"venture\"]",
   "outputs": [],
   "execution_count": null
  },
  {
   "cell_type": "code",
   "metadata": {
    "cell_id": "01410d693a14416b8f61b30196d696f6",
    "tags": [],
    "deepnote_to_be_reexecuted": false,
    "source_hash": "6ec981bf",
    "execution_start": 1651606446423,
    "execution_millis": 6,
    "deepnote_cell_type": "code",
    "deepnote_cell_height": 171
   },
   "source": "# delete unnecessary columns\ndata_merged.drop(\n    ['funding_round_type' , 'funding_round_code'],\n    axis = 1,\n    inplace = True\n)",
   "outputs": [],
   "execution_count": null
  },
  {
   "cell_type": "code",
   "metadata": {
    "cell_id": "d34584bc911448fc96b9e6d6124c35b5",
    "tags": [],
    "deepnote_to_be_reexecuted": false,
    "source_hash": "a2840ac0",
    "execution_start": 1651606446437,
    "execution_millis": 45,
    "deepnote_cell_type": "code",
    "deepnote_cell_height": 81
   },
   "source": "data_merged.drop_duplicates(inplace=True)",
   "outputs": [],
   "execution_count": null
  },
  {
   "cell_type": "code",
   "metadata": {
    "cell_id": "d1693f2b58d243499a8707d56f486f7f",
    "tags": [],
    "deepnote_to_be_reexecuted": false,
    "source_hash": "7010b925",
    "execution_start": 1651606446517,
    "execution_millis": 4,
    "deepnote_cell_type": "code",
    "deepnote_cell_height": 118,
    "deepnote_output_heights": [
     21
    ]
   },
   "source": "data_merged.shape",
   "outputs": [
    {
     "output_type": "execute_result",
     "execution_count": 24,
     "data": {
      "text/plain": "(27639, 13)"
     },
     "metadata": {}
    }
   ],
   "execution_count": null
  },
  {
   "cell_type": "markdown",
   "source": "## 5. Discretizing raised amount usd column in to buckets of 10",
   "metadata": {
    "cell_id": "ada554df51f141d9897d654941c4f752",
    "tags": [],
    "deepnote_cell_type": "markdown",
    "deepnote_cell_height": 110
   }
  },
  {
   "cell_type": "code",
   "metadata": {
    "cell_id": "36e9ad435b52489391e61bbc74a37908",
    "tags": [],
    "deepnote_to_be_reexecuted": false,
    "source_hash": "c5542a5a",
    "execution_start": 1651606446519,
    "execution_millis": 13,
    "deepnote_cell_type": "code",
    "deepnote_cell_height": 690
   },
   "source": "funding_disc = pd.read_csv('params/funding_amount_discretization.csv')\nfunding_disc['1'] = funding_disc.shift(-1)\nfunding_disc = funding_disc.reset_index()\nfunding_disc['index'] = funding_disc['index'] + 1\nfunding_disc.loc[0,'0'] = 50000\nfunding_disc",
   "outputs": [
    {
     "output_type": "execute_result",
     "execution_count": 25,
     "data": {
      "application/vnd.deepnote.dataframe.v3+json": {
       "column_count": 3,
       "row_count": 11,
       "columns": [
        {
         "name": "index",
         "dtype": "int64",
         "stats": {
          "unique_count": 11,
          "nan_count": 0,
          "min": "1",
          "max": "11",
          "histogram": [
           {
            "bin_start": 1,
            "bin_end": 2,
            "count": 1
           },
           {
            "bin_start": 2,
            "bin_end": 3,
            "count": 1
           },
           {
            "bin_start": 3,
            "bin_end": 4,
            "count": 1
           },
           {
            "bin_start": 4,
            "bin_end": 5,
            "count": 1
           },
           {
            "bin_start": 5,
            "bin_end": 6,
            "count": 1
           },
           {
            "bin_start": 6,
            "bin_end": 7,
            "count": 1
           },
           {
            "bin_start": 7,
            "bin_end": 8,
            "count": 1
           },
           {
            "bin_start": 8,
            "bin_end": 9,
            "count": 1
           },
           {
            "bin_start": 9,
            "bin_end": 10,
            "count": 1
           },
           {
            "bin_start": 10,
            "bin_end": 11,
            "count": 2
           }
          ]
         }
        },
        {
         "name": "0",
         "dtype": "float64",
         "stats": {
          "unique_count": 11,
          "nan_count": 0,
          "min": "50000.0",
          "max": "21271935000.0",
          "histogram": [
           {
            "bin_start": 50000,
            "bin_end": 2127238500,
            "count": 10
           },
           {
            "bin_start": 2127238500,
            "bin_end": 4254427000,
            "count": 0
           },
           {
            "bin_start": 4254427000,
            "bin_end": 6381615500,
            "count": 0
           },
           {
            "bin_start": 6381615500,
            "bin_end": 8508804000,
            "count": 0
           },
           {
            "bin_start": 8508804000,
            "bin_end": 10635992500,
            "count": 0
           },
           {
            "bin_start": 10635992500,
            "bin_end": 12763181000,
            "count": 0
           },
           {
            "bin_start": 12763181000,
            "bin_end": 14890369500,
            "count": 0
           },
           {
            "bin_start": 14890369500,
            "bin_end": 17017558000,
            "count": 0
           },
           {
            "bin_start": 17017558000,
            "bin_end": 19144746500,
            "count": 0
           },
           {
            "bin_start": 19144746500,
            "bin_end": 21271935000,
            "count": 1
           }
          ]
         }
        },
        {
         "name": "1",
         "dtype": "float64",
         "stats": {
          "unique_count": 10,
          "nan_count": 1,
          "min": "184000.0",
          "max": "21271935000.0",
          "histogram": [
           {
            "bin_start": 184000,
            "bin_end": 2127359100,
            "count": 9
           },
           {
            "bin_start": 2127359100,
            "bin_end": 4254534200,
            "count": 0
           },
           {
            "bin_start": 4254534200,
            "bin_end": 6381709300,
            "count": 0
           },
           {
            "bin_start": 6381709300,
            "bin_end": 8508884400,
            "count": 0
           },
           {
            "bin_start": 8508884400,
            "bin_end": 10636059500,
            "count": 0
           },
           {
            "bin_start": 10636059500,
            "bin_end": 12763234600,
            "count": 0
           },
           {
            "bin_start": 12763234600,
            "bin_end": 14890409700,
            "count": 0
           },
           {
            "bin_start": 14890409700,
            "bin_end": 17017584800,
            "count": 0
           },
           {
            "bin_start": 17017584800,
            "bin_end": 19144759900,
            "count": 0
           },
           {
            "bin_start": 19144759900,
            "bin_end": 21271935000,
            "count": 1
           }
          ]
         }
        },
        {
         "name": "_deepnote_index_column",
         "dtype": "int64"
        }
       ],
       "rows": [
        {
         "0": 50000,
         "1": 184000,
         "index": 1,
         "_deepnote_index_column": 0
        },
        {
         "0": 184000,
         "1": 414704.6,
         "index": 2,
         "_deepnote_index_column": 1
        },
        {
         "0": 414704.6,
         "1": 791646.9000000003,
         "index": 3,
         "_deepnote_index_column": 2
        },
        {
         "0": 791646.9000000003,
         "1": 1300000,
         "index": 4,
         "_deepnote_index_column": 3
        },
        {
         "0": 1300000,
         "1": 2100000,
         "index": 5,
         "_deepnote_index_column": 4
        },
        {
         "0": 2100000,
         "1": 3791804.4,
         "index": 6,
         "_deepnote_index_column": 5
        },
        {
         "0": 3791804.4,
         "1": 6000000,
         "index": 7,
         "_deepnote_index_column": 6
        },
        {
         "0": 6000000,
         "1": 10000000,
         "index": 8,
         "_deepnote_index_column": 7
        },
        {
         "0": 10000000,
         "1": 20000000,
         "index": 9,
         "_deepnote_index_column": 8
        },
        {
         "0": 20000000,
         "1": 21271935000,
         "index": 10,
         "_deepnote_index_column": 9
        }
       ]
      },
      "text/plain": "    index             0             1\n0       1  5.000000e+04  1.840000e+05\n1       2  1.840000e+05  4.147046e+05\n2       3  4.147046e+05  7.916469e+05\n3       4  7.916469e+05  1.300000e+06\n4       5  1.300000e+06  2.100000e+06\n5       6  2.100000e+06  3.791804e+06\n6       7  3.791804e+06  6.000000e+06\n7       8  6.000000e+06  1.000000e+07\n8       9  1.000000e+07  2.000000e+07\n9      10  2.000000e+07  2.127194e+10\n10     11  2.127194e+10           NaN",
      "text/html": "<div>\n<style scoped>\n    .dataframe tbody tr th:only-of-type {\n        vertical-align: middle;\n    }\n\n    .dataframe tbody tr th {\n        vertical-align: top;\n    }\n\n    .dataframe thead th {\n        text-align: right;\n    }\n</style>\n<table border=\"1\" class=\"dataframe\">\n  <thead>\n    <tr style=\"text-align: right;\">\n      <th></th>\n      <th>index</th>\n      <th>0</th>\n      <th>1</th>\n    </tr>\n  </thead>\n  <tbody>\n    <tr>\n      <th>0</th>\n      <td>1</td>\n      <td>5.000000e+04</td>\n      <td>1.840000e+05</td>\n    </tr>\n    <tr>\n      <th>1</th>\n      <td>2</td>\n      <td>1.840000e+05</td>\n      <td>4.147046e+05</td>\n    </tr>\n    <tr>\n      <th>2</th>\n      <td>3</td>\n      <td>4.147046e+05</td>\n      <td>7.916469e+05</td>\n    </tr>\n    <tr>\n      <th>3</th>\n      <td>4</td>\n      <td>7.916469e+05</td>\n      <td>1.300000e+06</td>\n    </tr>\n    <tr>\n      <th>4</th>\n      <td>5</td>\n      <td>1.300000e+06</td>\n      <td>2.100000e+06</td>\n    </tr>\n    <tr>\n      <th>5</th>\n      <td>6</td>\n      <td>2.100000e+06</td>\n      <td>3.791804e+06</td>\n    </tr>\n    <tr>\n      <th>6</th>\n      <td>7</td>\n      <td>3.791804e+06</td>\n      <td>6.000000e+06</td>\n    </tr>\n    <tr>\n      <th>7</th>\n      <td>8</td>\n      <td>6.000000e+06</td>\n      <td>1.000000e+07</td>\n    </tr>\n    <tr>\n      <th>8</th>\n      <td>9</td>\n      <td>1.000000e+07</td>\n      <td>2.000000e+07</td>\n    </tr>\n    <tr>\n      <th>9</th>\n      <td>10</td>\n      <td>2.000000e+07</td>\n      <td>2.127194e+10</td>\n    </tr>\n    <tr>\n      <th>10</th>\n      <td>11</td>\n      <td>2.127194e+10</td>\n      <td>NaN</td>\n    </tr>\n  </tbody>\n</table>\n</div>"
     },
     "metadata": {}
    }
   ],
   "execution_count": null
  },
  {
   "cell_type": "code",
   "metadata": {
    "cell_id": "2800a76a0bea4bb6a4af2b6d446d12e1",
    "tags": [],
    "deepnote_to_be_reexecuted": false,
    "source_hash": "f87806c7",
    "execution_start": 1651606446525,
    "execution_millis": 22123,
    "deepnote_cell_type": "code",
    "deepnote_cell_height": 171
   },
   "source": "# udf to be applied to df's rows\ndef disc(value):\n    bucket = funding_disc[(value >= funding_disc['0']) & (value < funding_disc['1'])]['index'].values[0]\n    return bucket\n\ndata_merged['raised_amount_buckets'] = data_merged['raised_amount_usd'].apply(disc)",
   "outputs": [],
   "execution_count": null
  },
  {
   "cell_type": "markdown",
   "source": "## 6. Creating Rounds index feature",
   "metadata": {
    "cell_id": "9606c342b04d4307a4c2eef2570e4823",
    "tags": [],
    "deepnote_cell_type": "markdown",
    "deepnote_cell_height": 70
   }
  },
  {
   "cell_type": "code",
   "metadata": {
    "cell_id": "496929daaa22420db1f6383b10c3d251",
    "tags": [],
    "deepnote_to_be_reexecuted": false,
    "source_hash": "484d4044",
    "execution_start": 1651606468648,
    "execution_millis": 0,
    "deepnote_cell_type": "code",
    "deepnote_cell_height": 81
   },
   "source": "data_merged['rounds_index'] = data_merged['funding_round'].apply(lambda x: rounds_index[x])",
   "outputs": [],
   "execution_count": null
  },
  {
   "cell_type": "markdown",
   "source": "## 7. Creating Startup Company Country & Round index feature",
   "metadata": {
    "cell_id": "b3140450ec754de383997ab774e0dcba",
    "tags": [],
    "deepnote_cell_type": "markdown",
    "deepnote_cell_height": 110
   }
  },
  {
   "cell_type": "code",
   "metadata": {
    "cell_id": "2c3b43f6eec04d349c7f114231f61734",
    "tags": [],
    "deepnote_to_be_reexecuted": false,
    "source_hash": "9099a1d4",
    "execution_start": 1651606468649,
    "execution_millis": 2,
    "deepnote_cell_type": "code",
    "deepnote_cell_height": 257.3999938964844
   },
   "source": "# There are null values in company_country_code column. To create the index feature\n# first a temp df is created by removing the rows including null values. Then, index\n# is created.\n\ndata_tmp = data_merged[['company_permalink', 'company_country_code', 'funding_round_permalink','funding_round']].copy()\nprint(data_tmp.shape)\ndata_tmp.dropna(subset= ['company_country_code'], inplace = True)\nprint(data_tmp.shape)",
   "outputs": [
    {
     "name": "stdout",
     "text": "(27639, 4)\n(26160, 4)\n",
     "output_type": "stream"
    }
   ],
   "execution_count": null
  },
  {
   "cell_type": "code",
   "metadata": {
    "cell_id": "bf428bd58a61468b85f11ad65de06a90",
    "tags": [],
    "deepnote_to_be_reexecuted": false,
    "source_hash": "c1767387",
    "execution_start": 1651606468649,
    "execution_millis": 23,
    "deepnote_cell_type": "code",
    "deepnote_cell_height": 431
   },
   "source": "# merge company_country_code with the dictionary from the json files, which will replace countries to \"OTHER\"\ndata_tmp.loc[:,'company_country_code'] = data_tmp['company_country_code'].apply(lambda x: startup_country_name_dict['company_country_name_new'][x])\ndata_tmp.head()",
   "outputs": [
    {
     "output_type": "execute_result",
     "execution_count": 29,
     "data": {
      "application/vnd.deepnote.dataframe.v3+json": {
       "column_count": 4,
       "row_count": 5,
       "columns": [
        {
         "name": "company_permalink",
         "dtype": "object",
         "stats": {
          "unique_count": 4,
          "nan_count": 0,
          "categories": [
           {
            "name": "/organization/1001-menus",
            "count": 2
           },
           {
            "name": "/organization/0-6-com",
            "count": 1
           },
           {
            "name": "2 others",
            "count": 2
           }
          ]
         }
        },
        {
         "name": "company_country_code",
         "dtype": "object",
         "stats": {
          "unique_count": 3,
          "nan_count": 0,
          "categories": [
           {
            "name": "USA",
            "count": 2
           },
           {
            "name": "FRA",
            "count": 2
           },
           {
            "name": "CHN",
            "count": 1
           }
          ]
         }
        },
        {
         "name": "funding_round_permalink",
         "dtype": "object",
         "stats": {
          "unique_count": 5,
          "nan_count": 0,
          "categories": [
           {
            "name": "/funding-round/5727accaeaa57461bd22a9bdd945382d",
            "count": 1
           },
           {
            "name": "/funding-round/ce6749b6441f52ccaf38b6d5578779fd",
            "count": 1
           },
           {
            "name": "3 others",
            "count": 3
           }
          ]
         }
        },
        {
         "name": "funding_round",
         "dtype": "object",
         "stats": {
          "unique_count": 4,
          "nan_count": 0,
          "categories": [
           {
            "name": "venture A",
            "count": 2
           },
           {
            "name": "seed",
            "count": 1
           },
           {
            "name": "2 others",
            "count": 2
           }
          ]
         }
        },
        {
         "name": "_deepnote_index_column",
         "dtype": "int64"
        }
       ],
       "rows": [
        {
         "company_permalink": "/organization/0-6-com",
         "company_country_code": "CHN",
         "funding_round_permalink": "/funding-round/5727accaeaa57461bd22a9bdd945382d",
         "funding_round": "venture A",
         "_deepnote_index_column": 0
        },
        {
         "company_permalink": "/organization/1000-markets",
         "company_country_code": "USA",
         "funding_round_permalink": "/funding-round/ce6749b6441f52ccaf38b6d5578779fd",
         "funding_round": "seed",
         "_deepnote_index_column": 2
        },
        {
         "company_permalink": "/organization/1000museums-com",
         "company_country_code": "USA",
         "funding_round_permalink": "/funding-round/01c1aa44619ae45a16e3098fc73facfa",
         "funding_round": "debt_financing",
         "_deepnote_index_column": 6
        },
        {
         "company_permalink": "/organization/1001-menus",
         "company_country_code": "FRA",
         "funding_round_permalink": "/funding-round/645b4cd895450b8e0268027cd7813047",
         "funding_round": "venture B",
         "_deepnote_index_column": 23
        },
        {
         "company_permalink": "/organization/1001-menus",
         "company_country_code": "FRA",
         "funding_round_permalink": "/funding-round/8025123b90c1ab687f9857ffe18bfd3b",
         "funding_round": "venture A",
         "_deepnote_index_column": 26
        }
       ]
      },
      "text/plain": "                company_permalink company_country_code  \\\n0           /organization/0-6-com                  CHN   \n2      /organization/1000-markets                  USA   \n6   /organization/1000museums-com                  USA   \n23       /organization/1001-menus                  FRA   \n26       /organization/1001-menus                  FRA   \n\n                            funding_round_permalink   funding_round  \n0   /funding-round/5727accaeaa57461bd22a9bdd945382d       venture A  \n2   /funding-round/ce6749b6441f52ccaf38b6d5578779fd            seed  \n6   /funding-round/01c1aa44619ae45a16e3098fc73facfa  debt_financing  \n23  /funding-round/645b4cd895450b8e0268027cd7813047       venture B  \n26  /funding-round/8025123b90c1ab687f9857ffe18bfd3b       venture A  ",
      "text/html": "<div>\n<style scoped>\n    .dataframe tbody tr th:only-of-type {\n        vertical-align: middle;\n    }\n\n    .dataframe tbody tr th {\n        vertical-align: top;\n    }\n\n    .dataframe thead th {\n        text-align: right;\n    }\n</style>\n<table border=\"1\" class=\"dataframe\">\n  <thead>\n    <tr style=\"text-align: right;\">\n      <th></th>\n      <th>company_permalink</th>\n      <th>company_country_code</th>\n      <th>funding_round_permalink</th>\n      <th>funding_round</th>\n    </tr>\n  </thead>\n  <tbody>\n    <tr>\n      <th>0</th>\n      <td>/organization/0-6-com</td>\n      <td>CHN</td>\n      <td>/funding-round/5727accaeaa57461bd22a9bdd945382d</td>\n      <td>venture A</td>\n    </tr>\n    <tr>\n      <th>2</th>\n      <td>/organization/1000-markets</td>\n      <td>USA</td>\n      <td>/funding-round/ce6749b6441f52ccaf38b6d5578779fd</td>\n      <td>seed</td>\n    </tr>\n    <tr>\n      <th>6</th>\n      <td>/organization/1000museums-com</td>\n      <td>USA</td>\n      <td>/funding-round/01c1aa44619ae45a16e3098fc73facfa</td>\n      <td>debt_financing</td>\n    </tr>\n    <tr>\n      <th>23</th>\n      <td>/organization/1001-menus</td>\n      <td>FRA</td>\n      <td>/funding-round/645b4cd895450b8e0268027cd7813047</td>\n      <td>venture B</td>\n    </tr>\n    <tr>\n      <th>26</th>\n      <td>/organization/1001-menus</td>\n      <td>FRA</td>\n      <td>/funding-round/8025123b90c1ab687f9857ffe18bfd3b</td>\n      <td>venture A</td>\n    </tr>\n  </tbody>\n</table>\n</div>"
     },
     "metadata": {}
    }
   ],
   "execution_count": null
  },
  {
   "cell_type": "code",
   "metadata": {
    "cell_id": "336bc04f3b3445a1a1032427fb8d3779",
    "tags": [],
    "deepnote_to_be_reexecuted": false,
    "source_hash": "add269e7",
    "execution_start": 1651606468675,
    "execution_millis": 0,
    "deepnote_cell_type": "code",
    "deepnote_cell_height": 99
   },
   "source": "# Drop OTHER from company country code\ndata_tmp = data_tmp[data_tmp[\"company_country_code\"]!=\"OTHER\"]",
   "outputs": [],
   "execution_count": null
  },
  {
   "cell_type": "code",
   "metadata": {
    "cell_id": "5b9808a7fa364de48f06dedf2b0a3096",
    "tags": [],
    "deepnote_to_be_reexecuted": false,
    "source_hash": "a931a0d7",
    "execution_start": 1651606468682,
    "execution_millis": 82,
    "deepnote_table_state": {
     "pageSize": 10,
     "pageIndex": 21,
     "filters": [],
     "sortBy": []
    },
    "deepnote_table_loading": false,
    "deepnote_cell_type": "code",
    "deepnote_cell_height": 600
   },
   "source": "data_tmp",
   "outputs": [
    {
     "output_type": "execute_result",
     "execution_count": 31,
     "data": {
      "application/vnd.deepnote.dataframe.v3+json": {
       "column_count": 4,
       "row_count": 25932,
       "columns": [
        {
         "name": "company_permalink",
         "dtype": "object",
         "stats": {
          "unique_count": 15828,
          "nan_count": 0,
          "categories": [
           {
            "name": "/organization/uber",
            "count": 12
           },
           {
            "name": "/organization/box",
            "count": 11
           },
           {
            "name": "15826 others",
            "count": 25909
           }
          ]
         }
        },
        {
         "name": "company_country_code",
         "dtype": "object",
         "stats": {
          "unique_count": 38,
          "nan_count": 0,
          "categories": [
           {
            "name": "USA",
            "count": 18514
           },
           {
            "name": "GBR",
            "count": 1486
           },
           {
            "name": "36 others",
            "count": 5932
           }
          ]
         }
        },
        {
         "name": "funding_round_permalink",
         "dtype": "object",
         "stats": {
          "unique_count": 25932,
          "nan_count": 0,
          "categories": [
           {
            "name": "/funding-round/5727accaeaa57461bd22a9bdd945382d",
            "count": 1
           },
           {
            "name": "/funding-round/ce6749b6441f52ccaf38b6d5578779fd",
            "count": 1
           },
           {
            "name": "25930 others",
            "count": 25930
           }
          ]
         }
        },
        {
         "name": "funding_round",
         "dtype": "object"
        },
        {
         "name": "_deepnote_index_column",
         "dtype": "int64"
        }
       ],
       "rows": [
        {
         "company_permalink": "/organization/8villages",
         "company_country_code": "SGP",
         "funding_round_permalink": "/funding-round/3861454643be7c2ec2bbdfd937943dbd",
         "funding_round": "convertible_note",
         "_deepnote_index_column": 771
        },
        {
         "company_permalink": "/organization/908-devices",
         "company_country_code": "USA",
         "funding_round_permalink": "/funding-round/6cf034e663f0c22047d4a82a499a685b",
         "funding_round": "venture B",
         "_deepnote_index_column": 773
        },
        {
         "company_permalink": "/organization/908-devices",
         "company_country_code": "USA",
         "funding_round_permalink": "/funding-round/d0b6f0eb32eb1b13e776213580bccd7a",
         "funding_round": "venture C",
         "_deepnote_index_column": 777
        },
        {
         "company_permalink": "/organization/908-devices",
         "company_country_code": "USA",
         "funding_round_permalink": "/funding-round/f8645685b5da5847400cb677e700cbb8",
         "funding_round": "venture A",
         "_deepnote_index_column": 782
        },
        {
         "company_permalink": "/organization/91-wireless",
         "company_country_code": "CHN",
         "funding_round_permalink": "/funding-round/514659db59fde5256737c0d20591e9de",
         "funding_round": "angel",
         "_deepnote_index_column": 799
        },
        {
         "company_permalink": "/organization/955-dreams",
         "company_country_code": "USA",
         "funding_round_permalink": "/funding-round/64a99c6a291ddc21f200a48af79cb78a",
         "funding_round": "seed",
         "_deepnote_index_column": 802
        },
        {
         "company_permalink": "/organization/955-dreams",
         "company_country_code": "USA",
         "funding_round_permalink": "/funding-round/d6d2b38777cd16cc7d81485aa76befcf",
         "funding_round": "venture A",
         "_deepnote_index_column": 809
        },
        {
         "company_permalink": "/organization/99-co",
         "company_country_code": "SGP",
         "funding_round_permalink": "/funding-round/64002054d4a04a3e070c156456e97110",
         "funding_round": "seed",
         "_deepnote_index_column": 816
        },
        {
         "company_permalink": "/organization/99-co",
         "company_country_code": "SGP",
         "funding_round_permalink": "/funding-round/b4ec3d11ab89210b52071623e88c1b5c",
         "funding_round": "seed",
         "_deepnote_index_column": 818
        },
        {
         "company_permalink": "/organization/99degrees-custom",
         "company_country_code": "USA",
         "funding_round_permalink": "/funding-round/21974527c952d58d7edf659987c90c63",
         "funding_round": "grant",
         "_deepnote_index_column": 823
        }
       ]
      },
      "text/plain": "                                        company_permalink  \\\n0                                   /organization/0-6-com   \n2                              /organization/1000-markets   \n6                           /organization/1000museums-com   \n23                               /organization/1001-menus   \n26                               /organization/1001-menus   \n...                                                   ...   \n113227                                /organization/zyrra   \n113228                                /organization/zyrra   \n113230                               /organization/zystor   \n113236                           /organization/zytoprotec   \n113237  /organization/zznode-science-and-technology-co...   \n\n       company_country_code                          funding_round_permalink  \\\n0                       CHN  /funding-round/5727accaeaa57461bd22a9bdd945382d   \n2                       USA  /funding-round/ce6749b6441f52ccaf38b6d5578779fd   \n6                       USA  /funding-round/01c1aa44619ae45a16e3098fc73facfa   \n23                      FRA  /funding-round/645b4cd895450b8e0268027cd7813047   \n26                      FRA  /funding-round/8025123b90c1ab687f9857ffe18bfd3b   \n...                     ...                                              ...   \n113227                  USA  /funding-round/2a13fa52848ace2760b224a350a76b40   \n113228                  USA  /funding-round/39baf35e59eb3efc5409cd4c5eaa50e1   \n113230                  USA  /funding-round/7ea37c0ff4132b084832039a9380d34e   \n113236                  AUT  /funding-round/0c43e717298296d2fb334fb236300f6e   \n113237                  CHN  /funding-round/171693e1e07e0230defd8fddb6de4515   \n\n         funding_round  \n0            venture A  \n2                 seed  \n6       debt_financing  \n23           venture B  \n26           venture A  \n...                ...  \n113227            seed  \n113228            seed  \n113230       venture A  \n113236       venture A  \n113237       venture A  \n\n[25932 rows x 4 columns]",
      "text/html": "<div>\n<style scoped>\n    .dataframe tbody tr th:only-of-type {\n        vertical-align: middle;\n    }\n\n    .dataframe tbody tr th {\n        vertical-align: top;\n    }\n\n    .dataframe thead th {\n        text-align: right;\n    }\n</style>\n<table border=\"1\" class=\"dataframe\">\n  <thead>\n    <tr style=\"text-align: right;\">\n      <th></th>\n      <th>company_permalink</th>\n      <th>company_country_code</th>\n      <th>funding_round_permalink</th>\n      <th>funding_round</th>\n    </tr>\n  </thead>\n  <tbody>\n    <tr>\n      <th>0</th>\n      <td>/organization/0-6-com</td>\n      <td>CHN</td>\n      <td>/funding-round/5727accaeaa57461bd22a9bdd945382d</td>\n      <td>venture A</td>\n    </tr>\n    <tr>\n      <th>2</th>\n      <td>/organization/1000-markets</td>\n      <td>USA</td>\n      <td>/funding-round/ce6749b6441f52ccaf38b6d5578779fd</td>\n      <td>seed</td>\n    </tr>\n    <tr>\n      <th>6</th>\n      <td>/organization/1000museums-com</td>\n      <td>USA</td>\n      <td>/funding-round/01c1aa44619ae45a16e3098fc73facfa</td>\n      <td>debt_financing</td>\n    </tr>\n    <tr>\n      <th>23</th>\n      <td>/organization/1001-menus</td>\n      <td>FRA</td>\n      <td>/funding-round/645b4cd895450b8e0268027cd7813047</td>\n      <td>venture B</td>\n    </tr>\n    <tr>\n      <th>26</th>\n      <td>/organization/1001-menus</td>\n      <td>FRA</td>\n      <td>/funding-round/8025123b90c1ab687f9857ffe18bfd3b</td>\n      <td>venture A</td>\n    </tr>\n    <tr>\n      <th>...</th>\n      <td>...</td>\n      <td>...</td>\n      <td>...</td>\n      <td>...</td>\n    </tr>\n    <tr>\n      <th>113227</th>\n      <td>/organization/zyrra</td>\n      <td>USA</td>\n      <td>/funding-round/2a13fa52848ace2760b224a350a76b40</td>\n      <td>seed</td>\n    </tr>\n    <tr>\n      <th>113228</th>\n      <td>/organization/zyrra</td>\n      <td>USA</td>\n      <td>/funding-round/39baf35e59eb3efc5409cd4c5eaa50e1</td>\n      <td>seed</td>\n    </tr>\n    <tr>\n      <th>113230</th>\n      <td>/organization/zystor</td>\n      <td>USA</td>\n      <td>/funding-round/7ea37c0ff4132b084832039a9380d34e</td>\n      <td>venture A</td>\n    </tr>\n    <tr>\n      <th>113236</th>\n      <td>/organization/zytoprotec</td>\n      <td>AUT</td>\n      <td>/funding-round/0c43e717298296d2fb334fb236300f6e</td>\n      <td>venture A</td>\n    </tr>\n    <tr>\n      <th>113237</th>\n      <td>/organization/zznode-science-and-technology-co...</td>\n      <td>CHN</td>\n      <td>/funding-round/171693e1e07e0230defd8fddb6de4515</td>\n      <td>venture A</td>\n    </tr>\n  </tbody>\n</table>\n<p>25932 rows × 4 columns</p>\n</div>"
     },
     "metadata": {}
    }
   ],
   "execution_count": null
  },
  {
   "cell_type": "code",
   "metadata": {
    "cell_id": "4df18e37648943f48fd39c8965e0a07c",
    "tags": [],
    "deepnote_to_be_reexecuted": false,
    "source_hash": "44e06561",
    "execution_start": 1651606468770,
    "execution_millis": 3,
    "deepnote_cell_type": "code",
    "deepnote_cell_height": 231,
    "deepnote_output_heights": [
     98
    ]
   },
   "source": "# first N items in dict\nN = 5\n{k: startup_country_round_index[k] for k in list(startup_country_round_index)[:N]}",
   "outputs": [
    {
     "output_type": "execute_result",
     "execution_count": 32,
     "data": {
      "text/plain": "{\"('ARE', 'angel')\": '1',\n \"('ARE', 'convertible_note')\": '1',\n \"('ARE', 'grant')\": '8',\n \"('ARE', 'private_equity')\": '10',\n \"('ARE', 'seed')\": '2'}"
     },
     "metadata": {}
    }
   ],
   "execution_count": null
  },
  {
   "cell_type": "code",
   "metadata": {
    "cell_id": "66a53b6761594fb5a6f3fcd104f2c9a6",
    "tags": [],
    "deepnote_to_be_reexecuted": false,
    "source_hash": "5e8eda53",
    "execution_start": 1651606468788,
    "execution_millis": 0,
    "deepnote_cell_type": "code",
    "deepnote_cell_height": 549.5
   },
   "source": "# creates the index data frame from the dictionary from the json file\nstartup_country_round_index = pd.DataFrame.from_dict(startup_country_round_index, orient='index')\n\n# calls the previously defined \"parse_tuple\" function to parse through \nstartup_country_round_index.index = [parse_tuple(item) for item in list(startup_country_round_index.index)]\n\n\nstartup_country_round_index.index = pd.MultiIndex.from_tuples(startup_country_round_index.index)\nstartup_country_round_index.index.names = ['country', 'round']\nprint(startup_country_round_index)",
   "outputs": [
    {
     "name": "stdout",
     "text": "                           0\ncountry round               \nARE     angel              1\n        convertible_note   1\n        grant              8\n        private_equity    10\n        seed               2\n...                       ..\nUSA     venture D          8\n        venture E          9\n        venture F          9\n        venture G          9\n        venture H          8\n\n[475 rows x 1 columns]\n",
     "output_type": "stream"
    }
   ],
   "execution_count": null
  },
  {
   "cell_type": "code",
   "metadata": {
    "cell_id": "59b60c5eacb34a58ae2d79ff308a82ae",
    "tags": [],
    "deepnote_to_be_reexecuted": false,
    "source_hash": "273e4e54",
    "execution_start": 1651606468798,
    "execution_millis": 798383964,
    "deepnote_cell_type": "code",
    "deepnote_cell_height": 99
   },
   "source": "#since searching in dictionary objects are way faster, index df is converted to dict\nstartup_country_round_index_dict = startup_country_round_index.to_dict()[0]",
   "outputs": [],
   "execution_count": null
  },
  {
   "cell_type": "code",
   "metadata": {
    "cell_id": "46d73f48199047109f88084149d00c04",
    "tags": [],
    "deepnote_to_be_reexecuted": false,
    "source_hash": "90d3f0cb",
    "execution_start": 1651606468799,
    "execution_millis": 392,
    "deepnote_cell_type": "code",
    "deepnote_cell_height": 834
   },
   "source": "# udf to be applied to df's rows\ndef startup_country_rnd_idx(row):\n    country = row['company_country_code']\n    round_ = row['funding_round']\n\n    search_key = tuple((country, round_))\n    \n    value = startup_country_round_index_dict[search_key]\n\n    return int(value)\n    \ndata_tmp['company_country_round_index'] = data_tmp.apply(startup_country_rnd_idx, axis = 1)\ndata_tmp['company_country_round_index'] = data_tmp['company_country_round_index'].astype(int)\ndata_tmp",
   "outputs": [
    {
     "output_type": "execute_result",
     "execution_count": 35,
     "data": {
      "application/vnd.deepnote.dataframe.v3+json": {
       "column_count": 5,
       "row_count": 25932,
       "columns": [
        {
         "name": "company_permalink",
         "dtype": "object",
         "stats": {
          "unique_count": 15828,
          "nan_count": 0,
          "categories": [
           {
            "name": "/organization/uber",
            "count": 12
           },
           {
            "name": "/organization/box",
            "count": 11
           },
           {
            "name": "15826 others",
            "count": 25909
           }
          ]
         }
        },
        {
         "name": "company_country_code",
         "dtype": "object",
         "stats": {
          "unique_count": 38,
          "nan_count": 0,
          "categories": [
           {
            "name": "USA",
            "count": 18514
           },
           {
            "name": "GBR",
            "count": 1486
           },
           {
            "name": "36 others",
            "count": 5932
           }
          ]
         }
        },
        {
         "name": "funding_round_permalink",
         "dtype": "object",
         "stats": {
          "unique_count": 25932,
          "nan_count": 0,
          "categories": [
           {
            "name": "/funding-round/5727accaeaa57461bd22a9bdd945382d",
            "count": 1
           },
           {
            "name": "/funding-round/ce6749b6441f52ccaf38b6d5578779fd",
            "count": 1
           },
           {
            "name": "25930 others",
            "count": 25930
           }
          ]
         }
        },
        {
         "name": "funding_round",
         "dtype": "object"
        },
        {
         "name": "company_country_round_index",
         "dtype": "int64"
        },
        {
         "name": "_deepnote_index_column",
         "dtype": "int64"
        }
       ],
       "rows": [
        {
         "company_permalink": "/organization/0-6-com",
         "company_country_code": "CHN",
         "funding_round_permalink": "/funding-round/5727accaeaa57461bd22a9bdd945382d",
         "funding_round": "venture A",
         "company_country_round_index": 8,
         "_deepnote_index_column": 0
        },
        {
         "company_permalink": "/organization/1000-markets",
         "company_country_code": "USA",
         "funding_round_permalink": "/funding-round/ce6749b6441f52ccaf38b6d5578779fd",
         "funding_round": "seed",
         "company_country_round_index": 3,
         "_deepnote_index_column": 2
        },
        {
         "company_permalink": "/organization/1000museums-com",
         "company_country_code": "USA",
         "funding_round_permalink": "/funding-round/01c1aa44619ae45a16e3098fc73facfa",
         "funding_round": "debt_financing",
         "company_country_round_index": 9,
         "_deepnote_index_column": 6
        },
        {
         "company_permalink": "/organization/1001-menus",
         "company_country_code": "FRA",
         "funding_round_permalink": "/funding-round/645b4cd895450b8e0268027cd7813047",
         "funding_round": "venture B",
         "company_country_round_index": 6,
         "_deepnote_index_column": 23
        },
        {
         "company_permalink": "/organization/1001-menus",
         "company_country_code": "FRA",
         "funding_round_permalink": "/funding-round/8025123b90c1ab687f9857ffe18bfd3b",
         "funding_round": "venture A",
         "company_country_round_index": 5,
         "_deepnote_index_column": 26
        },
        {
         "company_permalink": "/organization/1001-menus",
         "company_country_code": "FRA",
         "funding_round_permalink": "/funding-round/9d6619bf66478dd8bf19bfc8dc237770",
         "funding_round": "seed",
         "company_country_round_index": 4,
         "_deepnote_index_column": 27
        },
        {
         "company_permalink": "/organization/1001-menus",
         "company_country_code": "FRA",
         "funding_round_permalink": "/funding-round/b6c28ea4ebe32db7083052cf87e7c368",
         "funding_round": "venture A",
         "company_country_round_index": 5,
         "_deepnote_index_column": 28
        },
        {
         "company_permalink": "/organization/1001pharmacies-com",
         "company_country_code": "FRA",
         "funding_round_permalink": "/funding-round/a21fc4d20200f43e3a25fd9cfc7c1482",
         "funding_round": "venture A",
         "company_country_round_index": 5,
         "_deepnote_index_column": 33
        },
        {
         "company_permalink": "/organization/1006-tv",
         "company_country_code": "CHN",
         "funding_round_permalink": "/funding-round/b6aeb7401ec6993f92a16cbca153b600",
         "funding_round": "venture B",
         "company_country_round_index": 8,
         "_deepnote_index_column": 38
        },
        {
         "company_permalink": "/organization/100health",
         "company_country_code": "USA",
         "funding_round_permalink": "/funding-round/441cefff29e87a7b0bcd644b7dbe59c1",
         "funding_round": "seed",
         "company_country_round_index": 3,
         "_deepnote_index_column": 43
        }
       ]
      },
      "text/plain": "                                        company_permalink  \\\n0                                   /organization/0-6-com   \n2                              /organization/1000-markets   \n6                           /organization/1000museums-com   \n23                               /organization/1001-menus   \n26                               /organization/1001-menus   \n...                                                   ...   \n113227                                /organization/zyrra   \n113228                                /organization/zyrra   \n113230                               /organization/zystor   \n113236                           /organization/zytoprotec   \n113237  /organization/zznode-science-and-technology-co...   \n\n       company_country_code                          funding_round_permalink  \\\n0                       CHN  /funding-round/5727accaeaa57461bd22a9bdd945382d   \n2                       USA  /funding-round/ce6749b6441f52ccaf38b6d5578779fd   \n6                       USA  /funding-round/01c1aa44619ae45a16e3098fc73facfa   \n23                      FRA  /funding-round/645b4cd895450b8e0268027cd7813047   \n26                      FRA  /funding-round/8025123b90c1ab687f9857ffe18bfd3b   \n...                     ...                                              ...   \n113227                  USA  /funding-round/2a13fa52848ace2760b224a350a76b40   \n113228                  USA  /funding-round/39baf35e59eb3efc5409cd4c5eaa50e1   \n113230                  USA  /funding-round/7ea37c0ff4132b084832039a9380d34e   \n113236                  AUT  /funding-round/0c43e717298296d2fb334fb236300f6e   \n113237                  CHN  /funding-round/171693e1e07e0230defd8fddb6de4515   \n\n         funding_round  company_country_round_index  \n0            venture A                            8  \n2                 seed                            3  \n6       debt_financing                            9  \n23           venture B                            6  \n26           venture A                            5  \n...                ...                          ...  \n113227            seed                            3  \n113228            seed                            3  \n113230       venture A                            5  \n113236       venture A                            6  \n113237       venture A                            8  \n\n[25932 rows x 5 columns]",
      "text/html": "<div>\n<style scoped>\n    .dataframe tbody tr th:only-of-type {\n        vertical-align: middle;\n    }\n\n    .dataframe tbody tr th {\n        vertical-align: top;\n    }\n\n    .dataframe thead th {\n        text-align: right;\n    }\n</style>\n<table border=\"1\" class=\"dataframe\">\n  <thead>\n    <tr style=\"text-align: right;\">\n      <th></th>\n      <th>company_permalink</th>\n      <th>company_country_code</th>\n      <th>funding_round_permalink</th>\n      <th>funding_round</th>\n      <th>company_country_round_index</th>\n    </tr>\n  </thead>\n  <tbody>\n    <tr>\n      <th>0</th>\n      <td>/organization/0-6-com</td>\n      <td>CHN</td>\n      <td>/funding-round/5727accaeaa57461bd22a9bdd945382d</td>\n      <td>venture A</td>\n      <td>8</td>\n    </tr>\n    <tr>\n      <th>2</th>\n      <td>/organization/1000-markets</td>\n      <td>USA</td>\n      <td>/funding-round/ce6749b6441f52ccaf38b6d5578779fd</td>\n      <td>seed</td>\n      <td>3</td>\n    </tr>\n    <tr>\n      <th>6</th>\n      <td>/organization/1000museums-com</td>\n      <td>USA</td>\n      <td>/funding-round/01c1aa44619ae45a16e3098fc73facfa</td>\n      <td>debt_financing</td>\n      <td>9</td>\n    </tr>\n    <tr>\n      <th>23</th>\n      <td>/organization/1001-menus</td>\n      <td>FRA</td>\n      <td>/funding-round/645b4cd895450b8e0268027cd7813047</td>\n      <td>venture B</td>\n      <td>6</td>\n    </tr>\n    <tr>\n      <th>26</th>\n      <td>/organization/1001-menus</td>\n      <td>FRA</td>\n      <td>/funding-round/8025123b90c1ab687f9857ffe18bfd3b</td>\n      <td>venture A</td>\n      <td>5</td>\n    </tr>\n    <tr>\n      <th>...</th>\n      <td>...</td>\n      <td>...</td>\n      <td>...</td>\n      <td>...</td>\n      <td>...</td>\n    </tr>\n    <tr>\n      <th>113227</th>\n      <td>/organization/zyrra</td>\n      <td>USA</td>\n      <td>/funding-round/2a13fa52848ace2760b224a350a76b40</td>\n      <td>seed</td>\n      <td>3</td>\n    </tr>\n    <tr>\n      <th>113228</th>\n      <td>/organization/zyrra</td>\n      <td>USA</td>\n      <td>/funding-round/39baf35e59eb3efc5409cd4c5eaa50e1</td>\n      <td>seed</td>\n      <td>3</td>\n    </tr>\n    <tr>\n      <th>113230</th>\n      <td>/organization/zystor</td>\n      <td>USA</td>\n      <td>/funding-round/7ea37c0ff4132b084832039a9380d34e</td>\n      <td>venture A</td>\n      <td>5</td>\n    </tr>\n    <tr>\n      <th>113236</th>\n      <td>/organization/zytoprotec</td>\n      <td>AUT</td>\n      <td>/funding-round/0c43e717298296d2fb334fb236300f6e</td>\n      <td>venture A</td>\n      <td>6</td>\n    </tr>\n    <tr>\n      <th>113237</th>\n      <td>/organization/zznode-science-and-technology-co...</td>\n      <td>CHN</td>\n      <td>/funding-round/171693e1e07e0230defd8fddb6de4515</td>\n      <td>venture A</td>\n      <td>8</td>\n    </tr>\n  </tbody>\n</table>\n<p>25932 rows × 5 columns</p>\n</div>"
     },
     "metadata": {}
    }
   ],
   "execution_count": null
  },
  {
   "cell_type": "code",
   "metadata": {
    "cell_id": "30f57435d474433b91fed1b910fc75dd",
    "tags": [],
    "deepnote_to_be_reexecuted": false,
    "source_hash": "254ff19",
    "execution_start": 1651606469199,
    "execution_millis": 15,
    "deepnote_cell_type": "code",
    "deepnote_cell_height": 485
   },
   "source": "data_tmp.drop(\n    ['company_permalink', 'company_country_code', 'funding_round'],\n    axis = 1,\n    inplace = True\n)\ndata_tmp.head()",
   "outputs": [
    {
     "output_type": "execute_result",
     "execution_count": 36,
     "data": {
      "application/vnd.deepnote.dataframe.v3+json": {
       "column_count": 2,
       "row_count": 5,
       "columns": [
        {
         "name": "funding_round_permalink",
         "dtype": "object",
         "stats": {
          "unique_count": 5,
          "nan_count": 0,
          "categories": [
           {
            "name": "/funding-round/5727accaeaa57461bd22a9bdd945382d",
            "count": 1
           },
           {
            "name": "/funding-round/ce6749b6441f52ccaf38b6d5578779fd",
            "count": 1
           },
           {
            "name": "3 others",
            "count": 3
           }
          ]
         }
        },
        {
         "name": "company_country_round_index",
         "dtype": "int64",
         "stats": {
          "unique_count": 5,
          "nan_count": 0,
          "min": "3",
          "max": "9",
          "histogram": [
           {
            "bin_start": 3,
            "bin_end": 3.6,
            "count": 1
           },
           {
            "bin_start": 3.6,
            "bin_end": 4.2,
            "count": 0
           },
           {
            "bin_start": 4.2,
            "bin_end": 4.8,
            "count": 0
           },
           {
            "bin_start": 4.8,
            "bin_end": 5.4,
            "count": 1
           },
           {
            "bin_start": 5.4,
            "bin_end": 6,
            "count": 0
           },
           {
            "bin_start": 6,
            "bin_end": 6.6,
            "count": 1
           },
           {
            "bin_start": 6.6,
            "bin_end": 7.2,
            "count": 0
           },
           {
            "bin_start": 7.2,
            "bin_end": 7.8,
            "count": 0
           },
           {
            "bin_start": 7.8,
            "bin_end": 8.399999999999999,
            "count": 1
           },
           {
            "bin_start": 8.399999999999999,
            "bin_end": 9,
            "count": 1
           }
          ]
         }
        },
        {
         "name": "_deepnote_index_column",
         "dtype": "int64"
        }
       ],
       "rows": [
        {
         "funding_round_permalink": "/funding-round/5727accaeaa57461bd22a9bdd945382d",
         "company_country_round_index": 8,
         "_deepnote_index_column": 0
        },
        {
         "funding_round_permalink": "/funding-round/ce6749b6441f52ccaf38b6d5578779fd",
         "company_country_round_index": 3,
         "_deepnote_index_column": 2
        },
        {
         "funding_round_permalink": "/funding-round/01c1aa44619ae45a16e3098fc73facfa",
         "company_country_round_index": 9,
         "_deepnote_index_column": 6
        },
        {
         "funding_round_permalink": "/funding-round/645b4cd895450b8e0268027cd7813047",
         "company_country_round_index": 6,
         "_deepnote_index_column": 23
        },
        {
         "funding_round_permalink": "/funding-round/8025123b90c1ab687f9857ffe18bfd3b",
         "company_country_round_index": 5,
         "_deepnote_index_column": 26
        }
       ]
      },
      "text/plain": "                            funding_round_permalink  \\\n0   /funding-round/5727accaeaa57461bd22a9bdd945382d   \n2   /funding-round/ce6749b6441f52ccaf38b6d5578779fd   \n6   /funding-round/01c1aa44619ae45a16e3098fc73facfa   \n23  /funding-round/645b4cd895450b8e0268027cd7813047   \n26  /funding-round/8025123b90c1ab687f9857ffe18bfd3b   \n\n    company_country_round_index  \n0                             8  \n2                             3  \n6                             9  \n23                            6  \n26                            5  ",
      "text/html": "<div>\n<style scoped>\n    .dataframe tbody tr th:only-of-type {\n        vertical-align: middle;\n    }\n\n    .dataframe tbody tr th {\n        vertical-align: top;\n    }\n\n    .dataframe thead th {\n        text-align: right;\n    }\n</style>\n<table border=\"1\" class=\"dataframe\">\n  <thead>\n    <tr style=\"text-align: right;\">\n      <th></th>\n      <th>funding_round_permalink</th>\n      <th>company_country_round_index</th>\n    </tr>\n  </thead>\n  <tbody>\n    <tr>\n      <th>0</th>\n      <td>/funding-round/5727accaeaa57461bd22a9bdd945382d</td>\n      <td>8</td>\n    </tr>\n    <tr>\n      <th>2</th>\n      <td>/funding-round/ce6749b6441f52ccaf38b6d5578779fd</td>\n      <td>3</td>\n    </tr>\n    <tr>\n      <th>6</th>\n      <td>/funding-round/01c1aa44619ae45a16e3098fc73facfa</td>\n      <td>9</td>\n    </tr>\n    <tr>\n      <th>23</th>\n      <td>/funding-round/645b4cd895450b8e0268027cd7813047</td>\n      <td>6</td>\n    </tr>\n    <tr>\n      <th>26</th>\n      <td>/funding-round/8025123b90c1ab687f9857ffe18bfd3b</td>\n      <td>5</td>\n    </tr>\n  </tbody>\n</table>\n</div>"
     },
     "metadata": {}
    }
   ],
   "execution_count": null
  },
  {
   "cell_type": "code",
   "metadata": {
    "cell_id": "3d66ff42dd5e46b09476ff89df51bfb6",
    "tags": [],
    "deepnote_to_be_reexecuted": false,
    "source_hash": "1194b4a4",
    "execution_start": 1651606469219,
    "execution_millis": 85,
    "deepnote_cell_type": "code",
    "deepnote_cell_height": 500
   },
   "source": "data_merged = data_merged.merge(\n    data_tmp,\n    how = 'left',\n    on = 'funding_round_permalink'\n)\ndata_merged.head()",
   "outputs": [
    {
     "output_type": "execute_result",
     "execution_count": 37,
     "data": {
      "application/vnd.deepnote.dataframe.v3+json": {
       "column_count": 16,
       "row_count": 5,
       "columns": [
        {
         "name": "company_permalink",
         "dtype": "object",
         "stats": {
          "unique_count": 4,
          "nan_count": 0,
          "categories": [
           {
            "name": "/organization/1001-menus",
            "count": 2
           },
           {
            "name": "/organization/0-6-com",
            "count": 1
           },
           {
            "name": "2 others",
            "count": 2
           }
          ]
         }
        },
        {
         "name": "company_name",
         "dtype": "object",
         "stats": {
          "unique_count": 4,
          "nan_count": 0,
          "categories": [
           {
            "name": "ZenChef",
            "count": 2
           },
           {
            "name": "0-6.com",
            "count": 1
           },
           {
            "name": "2 others",
            "count": 2
           }
          ]
         }
        },
        {
         "name": "company_category_list",
         "dtype": "object",
         "stats": {
          "unique_count": 3,
          "nan_count": 0,
          "categories": [
           {
            "name": "Curated Web",
            "count": 2
           },
           {
            "name": "Local Businesses|Restaurants",
            "count": 2
           },
           {
            "name": "Art|E-Commerce|Marketplaces",
            "count": 1
           }
          ]
         }
        },
        {
         "name": "company_country_code",
         "dtype": "object",
         "stats": {
          "unique_count": 3,
          "nan_count": 0,
          "categories": [
           {
            "name": "USA",
            "count": 2
           },
           {
            "name": "FRA",
            "count": 2
           },
           {
            "name": "CHN",
            "count": 1
           }
          ]
         }
        },
        {
         "name": "company_state_code",
         "dtype": "object",
         "stats": {
          "unique_count": 4,
          "nan_count": 0,
          "categories": [
           {
            "name": "A8",
            "count": 2
           },
           {
            "name": "22",
            "count": 1
           },
           {
            "name": "2 others",
            "count": 2
           }
          ]
         }
        },
        {
         "name": "company_region",
         "dtype": "object",
         "stats": {
          "unique_count": 4,
          "nan_count": 0,
          "categories": [
           {
            "name": "Paris",
            "count": 2
           },
           {
            "name": "Beijing",
            "count": 1
           },
           {
            "name": "2 others",
            "count": 2
           }
          ]
         }
        },
        {
         "name": "company_city",
         "dtype": "object",
         "stats": {
          "unique_count": 4,
          "nan_count": 0,
          "categories": [
           {
            "name": "Paris",
            "count": 2
           },
           {
            "name": "Beijing",
            "count": 1
           },
           {
            "name": "2 others",
            "count": 2
           }
          ]
         }
        },
        {
         "name": "funding_round_permalink",
         "dtype": "object",
         "stats": {
          "unique_count": 5,
          "nan_count": 0,
          "categories": [
           {
            "name": "/funding-round/5727accaeaa57461bd22a9bdd945382d",
            "count": 1
           },
           {
            "name": "/funding-round/ce6749b6441f52ccaf38b6d5578779fd",
            "count": 1
           },
           {
            "name": "3 others",
            "count": 3
           }
          ]
         }
        },
        {
         "name": "funded_at",
         "dtype": "object",
         "stats": {
          "unique_count": 5,
          "nan_count": 0,
          "categories": [
           {
            "name": "2008-03-19",
            "count": 1
           },
           {
            "name": "2009-05-15",
            "count": 1
           },
           {
            "name": "3 others",
            "count": 3
           }
          ]
         }
        },
        {
         "name": "funding_round",
         "dtype": "object",
         "stats": {
          "unique_count": 4,
          "nan_count": 0,
          "categories": [
           {
            "name": "venture A",
            "count": 2
           },
           {
            "name": "seed",
            "count": 1
           },
           {
            "name": "2 others",
            "count": 2
           }
          ]
         }
        },
        {
         "name": "raised_amount_usd",
         "dtype": "int64",
         "stats": {
          "unique_count": 5,
          "nan_count": 0,
          "min": "500000",
          "max": "6602694",
          "histogram": [
           {
            "bin_start": 500000,
            "bin_end": 1110269.4,
            "count": 2
           },
           {
            "bin_start": 1110269.4,
            "bin_end": 1720538.8,
            "count": 0
           },
           {
            "bin_start": 1720538.8,
            "bin_end": 2330808.2,
            "count": 2
           },
           {
            "bin_start": 2330808.2,
            "bin_end": 2941077.6,
            "count": 0
           },
           {
            "bin_start": 2941077.6,
            "bin_end": 3551347,
            "count": 0
           },
           {
            "bin_start": 3551347,
            "bin_end": 4161616.4000000004,
            "count": 0
           },
           {
            "bin_start": 4161616.4000000004,
            "bin_end": 4771885.8,
            "count": 0
           },
           {
            "bin_start": 4771885.8,
            "bin_end": 5382155.2,
            "count": 0
           },
           {
            "bin_start": 5382155.2,
            "bin_end": 5992424.600000001,
            "count": 0
           },
           {
            "bin_start": 5992424.600000001,
            "bin_end": 6602694,
            "count": 1
           }
          ]
         }
        },
        {
         "name": "investors_round_index",
         "dtype": "int64",
         "stats": {
          "unique_count": 4,
          "nan_count": 0,
          "min": "2",
          "max": "8",
          "histogram": [
           {
            "bin_start": 2,
            "bin_end": 2.6,
            "count": 2
           },
           {
            "bin_start": 2.6,
            "bin_end": 3.2,
            "count": 0
           },
           {
            "bin_start": 3.2,
            "bin_end": 3.8,
            "count": 0
           },
           {
            "bin_start": 3.8,
            "bin_end": 4.4,
            "count": 0
           },
           {
            "bin_start": 4.4,
            "bin_end": 5,
            "count": 0
           },
           {
            "bin_start": 5,
            "bin_end": 5.6,
            "count": 1
           },
           {
            "bin_start": 5.6,
            "bin_end": 6.2,
            "count": 1
           },
           {
            "bin_start": 6.2,
            "bin_end": 6.8,
            "count": 0
           },
           {
            "bin_start": 6.8,
            "bin_end": 7.3999999999999995,
            "count": 0
           },
           {
            "bin_start": 7.3999999999999995,
            "bin_end": 8,
            "count": 1
           }
          ]
         }
        },
        {
         "name": "investor_country_round_index",
         "dtype": "int64",
         "stats": {
          "unique_count": 4,
          "nan_count": 0,
          "min": "2",
          "max": "9",
          "histogram": [
           {
            "bin_start": 2,
            "bin_end": 2.7,
            "count": 1
           },
           {
            "bin_start": 2.7,
            "bin_end": 3.4,
            "count": 0
           },
           {
            "bin_start": 3.4,
            "bin_end": 4.1,
            "count": 0
           },
           {
            "bin_start": 4.1,
            "bin_end": 4.8,
            "count": 0
           },
           {
            "bin_start": 4.8,
            "bin_end": 5.5,
            "count": 2
           },
           {
            "bin_start": 5.5,
            "bin_end": 6.199999999999999,
            "count": 0
           },
           {
            "bin_start": 6.199999999999999,
            "bin_end": 6.8999999999999995,
            "count": 0
           },
           {
            "bin_start": 6.8999999999999995,
            "bin_end": 7.6,
            "count": 1
           },
           {
            "bin_start": 7.6,
            "bin_end": 8.3,
            "count": 0
           },
           {
            "bin_start": 8.3,
            "bin_end": 9,
            "count": 1
           }
          ]
         }
        },
        {
         "name": "raised_amount_buckets",
         "dtype": "int64",
         "stats": {
          "unique_count": 3,
          "nan_count": 0,
          "min": "3",
          "max": "8",
          "histogram": [
           {
            "bin_start": 3,
            "bin_end": 3.5,
            "count": 2
           },
           {
            "bin_start": 3.5,
            "bin_end": 4,
            "count": 0
           },
           {
            "bin_start": 4,
            "bin_end": 4.5,
            "count": 0
           },
           {
            "bin_start": 4.5,
            "bin_end": 5,
            "count": 0
           },
           {
            "bin_start": 5,
            "bin_end": 5.5,
            "count": 2
           },
           {
            "bin_start": 5.5,
            "bin_end": 6,
            "count": 0
           },
           {
            "bin_start": 6,
            "bin_end": 6.5,
            "count": 0
           },
           {
            "bin_start": 6.5,
            "bin_end": 7,
            "count": 0
           },
           {
            "bin_start": 7,
            "bin_end": 7.5,
            "count": 0
           },
           {
            "bin_start": 7.5,
            "bin_end": 8,
            "count": 1
           }
          ]
         }
        },
        {
         "name": "rounds_index",
         "dtype": "object",
         "stats": {
          "unique_count": 4,
          "nan_count": 0,
          "categories": [
           {
            "name": "4",
            "count": 2
           },
           {
            "name": "1",
            "count": 1
           },
           {
            "name": "2 others",
            "count": 2
           }
          ]
         }
        },
        {
         "name": "company_country_round_index",
         "dtype": "float64",
         "stats": {
          "unique_count": 5,
          "nan_count": 0,
          "min": "3.0",
          "max": "9.0",
          "histogram": [
           {
            "bin_start": 3,
            "bin_end": 3.6,
            "count": 1
           },
           {
            "bin_start": 3.6,
            "bin_end": 4.2,
            "count": 0
           },
           {
            "bin_start": 4.2,
            "bin_end": 4.8,
            "count": 0
           },
           {
            "bin_start": 4.8,
            "bin_end": 5.4,
            "count": 1
           },
           {
            "bin_start": 5.4,
            "bin_end": 6,
            "count": 0
           },
           {
            "bin_start": 6,
            "bin_end": 6.6,
            "count": 1
           },
           {
            "bin_start": 6.6,
            "bin_end": 7.2,
            "count": 0
           },
           {
            "bin_start": 7.2,
            "bin_end": 7.8,
            "count": 0
           },
           {
            "bin_start": 7.8,
            "bin_end": 8.399999999999999,
            "count": 1
           },
           {
            "bin_start": 8.399999999999999,
            "bin_end": 9,
            "count": 1
           }
          ]
         }
        },
        {
         "name": "_deepnote_index_column",
         "dtype": "int64"
        }
       ],
       "rows": [
        {
         "company_permalink": "/organization/0-6-com",
         "company_name": "0-6.com",
         "company_category_list": "Curated Web",
         "company_country_code": "CHN",
         "company_state_code": "22",
         "company_region": "Beijing",
         "company_city": "Beijing",
         "funding_round_permalink": "/funding-round/5727accaeaa57461bd22a9bdd945382d",
         "funded_at": "2008-03-19",
         "funding_round": "venture A",
         "raised_amount_usd": 2000000,
         "investors_round_index": 8,
         "investor_country_round_index": 7,
         "raised_amount_buckets": 5,
         "rounds_index": "4",
         "company_country_round_index": 8,
         "_deepnote_index_column": 0
        },
        {
         "company_permalink": "/organization/1000-markets",
         "company_name": "1000 Markets",
         "company_category_list": "Art|E-Commerce|Marketplaces",
         "company_country_code": "USA",
         "company_state_code": "WA",
         "company_region": "Seattle",
         "company_city": "Seattle",
         "funding_round_permalink": "/funding-round/ce6749b6441f52ccaf38b6d5578779fd",
         "funded_at": "2009-05-15",
         "funding_round": "seed",
         "raised_amount_usd": 500000,
         "investors_round_index": 2,
         "investor_country_round_index": 2,
         "raised_amount_buckets": 3,
         "rounds_index": "1",
         "company_country_round_index": 3,
         "_deepnote_index_column": 1
        },
        {
         "company_permalink": "/organization/1000museums-com",
         "company_name": "1000museums.com",
         "company_category_list": "Curated Web",
         "company_country_code": "USA",
         "company_state_code": "MA",
         "company_region": "MA - Other",
         "company_city": "Lenox",
         "funding_round_permalink": "/funding-round/01c1aa44619ae45a16e3098fc73facfa",
         "funded_at": "2013-04-08",
         "funding_round": "debt_financing",
         "raised_amount_usd": 647879,
         "investors_round_index": 2,
         "investor_country_round_index": 9,
         "raised_amount_buckets": 3,
         "rounds_index": "6",
         "company_country_round_index": 9,
         "_deepnote_index_column": 2
        },
        {
         "company_permalink": "/organization/1001-menus",
         "company_name": "ZenChef",
         "company_category_list": "Local Businesses|Restaurants",
         "company_country_code": "FRA",
         "company_state_code": "A8",
         "company_region": "Paris",
         "company_city": "Paris",
         "funding_round_permalink": "/funding-round/645b4cd895450b8e0268027cd7813047",
         "funded_at": "2015-11-04",
         "funding_round": "venture B",
         "raised_amount_usd": 6602694,
         "investors_round_index": 6,
         "investor_country_round_index": 5,
         "raised_amount_buckets": 8,
         "rounds_index": "5",
         "company_country_round_index": 6,
         "_deepnote_index_column": 3
        },
        {
         "company_permalink": "/organization/1001-menus",
         "company_name": "ZenChef",
         "company_category_list": "Local Businesses|Restaurants",
         "company_country_code": "FRA",
         "company_state_code": "A8",
         "company_region": "Paris",
         "company_city": "Paris",
         "funding_round_permalink": "/funding-round/8025123b90c1ab687f9857ffe18bfd3b",
         "funded_at": "2013-11-13",
         "funding_round": "venture A",
         "raised_amount_usd": 1768455,
         "investors_round_index": 5,
         "investor_country_round_index": 5,
         "raised_amount_buckets": 5,
         "rounds_index": "4",
         "company_country_round_index": 5,
         "_deepnote_index_column": 4
        }
       ]
      },
      "text/plain": "               company_permalink     company_name  \\\n0          /organization/0-6-com          0-6.com   \n1     /organization/1000-markets     1000 Markets   \n2  /organization/1000museums-com  1000museums.com   \n3       /organization/1001-menus          ZenChef   \n4       /organization/1001-menus          ZenChef   \n\n          company_category_list company_country_code company_state_code  \\\n0                   Curated Web                  CHN                 22   \n1   Art|E-Commerce|Marketplaces                  USA                 WA   \n2                   Curated Web                  USA                 MA   \n3  Local Businesses|Restaurants                  FRA                 A8   \n4  Local Businesses|Restaurants                  FRA                 A8   \n\n  company_region company_city  \\\n0        Beijing      Beijing   \n1        Seattle      Seattle   \n2     MA - Other        Lenox   \n3          Paris        Paris   \n4          Paris        Paris   \n\n                           funding_round_permalink   funded_at  \\\n0  /funding-round/5727accaeaa57461bd22a9bdd945382d  2008-03-19   \n1  /funding-round/ce6749b6441f52ccaf38b6d5578779fd  2009-05-15   \n2  /funding-round/01c1aa44619ae45a16e3098fc73facfa  2013-04-08   \n3  /funding-round/645b4cd895450b8e0268027cd7813047  2015-11-04   \n4  /funding-round/8025123b90c1ab687f9857ffe18bfd3b  2013-11-13   \n\n    funding_round  raised_amount_usd  investors_round_index  \\\n0       venture A            2000000                      8   \n1            seed             500000                      2   \n2  debt_financing             647879                      2   \n3       venture B            6602694                      6   \n4       venture A            1768455                      5   \n\n   investor_country_round_index  raised_amount_buckets rounds_index  \\\n0                             7                      5            4   \n1                             2                      3            1   \n2                             9                      3            6   \n3                             5                      8            5   \n4                             5                      5            4   \n\n   company_country_round_index  \n0                          8.0  \n1                          3.0  \n2                          9.0  \n3                          6.0  \n4                          5.0  ",
      "text/html": "<div>\n<style scoped>\n    .dataframe tbody tr th:only-of-type {\n        vertical-align: middle;\n    }\n\n    .dataframe tbody tr th {\n        vertical-align: top;\n    }\n\n    .dataframe thead th {\n        text-align: right;\n    }\n</style>\n<table border=\"1\" class=\"dataframe\">\n  <thead>\n    <tr style=\"text-align: right;\">\n      <th></th>\n      <th>company_permalink</th>\n      <th>company_name</th>\n      <th>company_category_list</th>\n      <th>company_country_code</th>\n      <th>company_state_code</th>\n      <th>company_region</th>\n      <th>company_city</th>\n      <th>funding_round_permalink</th>\n      <th>funded_at</th>\n      <th>funding_round</th>\n      <th>raised_amount_usd</th>\n      <th>investors_round_index</th>\n      <th>investor_country_round_index</th>\n      <th>raised_amount_buckets</th>\n      <th>rounds_index</th>\n      <th>company_country_round_index</th>\n    </tr>\n  </thead>\n  <tbody>\n    <tr>\n      <th>0</th>\n      <td>/organization/0-6-com</td>\n      <td>0-6.com</td>\n      <td>Curated Web</td>\n      <td>CHN</td>\n      <td>22</td>\n      <td>Beijing</td>\n      <td>Beijing</td>\n      <td>/funding-round/5727accaeaa57461bd22a9bdd945382d</td>\n      <td>2008-03-19</td>\n      <td>venture A</td>\n      <td>2000000</td>\n      <td>8</td>\n      <td>7</td>\n      <td>5</td>\n      <td>4</td>\n      <td>8.0</td>\n    </tr>\n    <tr>\n      <th>1</th>\n      <td>/organization/1000-markets</td>\n      <td>1000 Markets</td>\n      <td>Art|E-Commerce|Marketplaces</td>\n      <td>USA</td>\n      <td>WA</td>\n      <td>Seattle</td>\n      <td>Seattle</td>\n      <td>/funding-round/ce6749b6441f52ccaf38b6d5578779fd</td>\n      <td>2009-05-15</td>\n      <td>seed</td>\n      <td>500000</td>\n      <td>2</td>\n      <td>2</td>\n      <td>3</td>\n      <td>1</td>\n      <td>3.0</td>\n    </tr>\n    <tr>\n      <th>2</th>\n      <td>/organization/1000museums-com</td>\n      <td>1000museums.com</td>\n      <td>Curated Web</td>\n      <td>USA</td>\n      <td>MA</td>\n      <td>MA - Other</td>\n      <td>Lenox</td>\n      <td>/funding-round/01c1aa44619ae45a16e3098fc73facfa</td>\n      <td>2013-04-08</td>\n      <td>debt_financing</td>\n      <td>647879</td>\n      <td>2</td>\n      <td>9</td>\n      <td>3</td>\n      <td>6</td>\n      <td>9.0</td>\n    </tr>\n    <tr>\n      <th>3</th>\n      <td>/organization/1001-menus</td>\n      <td>ZenChef</td>\n      <td>Local Businesses|Restaurants</td>\n      <td>FRA</td>\n      <td>A8</td>\n      <td>Paris</td>\n      <td>Paris</td>\n      <td>/funding-round/645b4cd895450b8e0268027cd7813047</td>\n      <td>2015-11-04</td>\n      <td>venture B</td>\n      <td>6602694</td>\n      <td>6</td>\n      <td>5</td>\n      <td>8</td>\n      <td>5</td>\n      <td>6.0</td>\n    </tr>\n    <tr>\n      <th>4</th>\n      <td>/organization/1001-menus</td>\n      <td>ZenChef</td>\n      <td>Local Businesses|Restaurants</td>\n      <td>FRA</td>\n      <td>A8</td>\n      <td>Paris</td>\n      <td>Paris</td>\n      <td>/funding-round/8025123b90c1ab687f9857ffe18bfd3b</td>\n      <td>2013-11-13</td>\n      <td>venture A</td>\n      <td>1768455</td>\n      <td>5</td>\n      <td>5</td>\n      <td>5</td>\n      <td>4</td>\n      <td>5.0</td>\n    </tr>\n  </tbody>\n</table>\n</div>"
     },
     "metadata": {}
    }
   ],
   "execution_count": null
  },
  {
   "cell_type": "markdown",
   "source": "Since there are missing startup countries in the dataset, related index values would also be null.\nFollowing creates a regression model to predict missing values. Dependent variable is 'company_country_round_index', independent variables are \"investors_round_index\", \"investor_country_round_index\", \"rounds_index\".",
   "metadata": {
    "cell_id": "8f5bc71e6f6a4be8b6f84f48678a7f61",
    "tags": [],
    "deepnote_cell_type": "markdown",
    "deepnote_cell_height": 97.19999694824219
   }
  },
  {
   "cell_type": "code",
   "metadata": {
    "cell_id": "e9a27d0bde314f02a85d82e797e2edc2",
    "tags": [],
    "deepnote_to_be_reexecuted": false,
    "source_hash": "b33e348a",
    "execution_start": 1651606469298,
    "execution_millis": 35,
    "deepnote_cell_type": "code",
    "deepnote_cell_height": 225
   },
   "source": "X = data_merged[data_merged['company_country_round_index'].notnull()][\n    [\"investors_round_index\", \"investor_country_round_index\", \"rounds_index\"]\n].copy()\ny = data_merged[data_merged['company_country_round_index'].notnull()][\n    'company_country_round_index'\n]\nmis_value_reg = LR().fit(X,y)\n\npickle.dump(mis_value_reg, open('model objects/comp_country_miss_imputer_model.pkl', 'wb'))",
   "outputs": [],
   "execution_count": null
  },
  {
   "cell_type": "code",
   "metadata": {
    "cell_id": "e4995cb6da0c400c8725bd9fda06d9d9",
    "tags": [],
    "deepnote_to_be_reexecuted": false,
    "source_hash": "ba5ba6fb",
    "execution_start": 1651606469349,
    "execution_millis": 89,
    "deepnote_cell_type": "code",
    "deepnote_cell_height": 690
   },
   "source": "data_merged[\"company_country_round_index_pred\"] = mis_value_reg.predict(\n    data_merged[\n        [\"investors_round_index\", \"investor_country_round_index\", \"rounds_index\"]\n    ]\n)\ndata_merged[['company_country_round_index','company_country_round_index_pred']]",
   "outputs": [
    {
     "output_type": "execute_result",
     "execution_count": 39,
     "data": {
      "application/vnd.deepnote.dataframe.v3+json": {
       "column_count": 2,
       "row_count": 27639,
       "columns": [
        {
         "name": "company_country_round_index",
         "dtype": "float64",
         "stats": {
          "unique_count": 10,
          "nan_count": 1707,
          "min": "1.0",
          "max": "10.0",
          "histogram": [
           {
            "bin_start": 1,
            "bin_end": 1.9,
            "count": 204
           },
           {
            "bin_start": 1.9,
            "bin_end": 2.8,
            "count": 893
           },
           {
            "bin_start": 2.8,
            "bin_end": 3.7,
            "count": 5629
           },
           {
            "bin_start": 3.7,
            "bin_end": 4.6,
            "count": 630
           },
           {
            "bin_start": 4.6,
            "bin_end": 5.5,
            "count": 6125
           },
           {
            "bin_start": 5.5,
            "bin_end": 6.4,
            "count": 1108
           },
           {
            "bin_start": 6.4,
            "bin_end": 7.3,
            "count": 7019
           },
           {
            "bin_start": 7.3,
            "bin_end": 8.2,
            "count": 2083
           },
           {
            "bin_start": 8.2,
            "bin_end": 9.1,
            "count": 1535
           },
           {
            "bin_start": 9.1,
            "bin_end": 10,
            "count": 706
           }
          ]
         }
        },
        {
         "name": "company_country_round_index_pred",
         "dtype": "float64",
         "stats": {
          "unique_count": 310,
          "nan_count": 0,
          "min": "2.0099825305094177",
          "max": "9.994214774371004",
          "histogram": [
           {
            "bin_start": 2.0099825305094177,
            "bin_end": 2.8084057548955763,
            "count": 6514
           },
           {
            "bin_start": 2.8084057548955763,
            "bin_end": 3.606828979281735,
            "count": 1189
           },
           {
            "bin_start": 3.606828979281735,
            "bin_end": 4.405252203667894,
            "count": 298
           },
           {
            "bin_start": 4.405252203667894,
            "bin_end": 5.203675428054052,
            "count": 674
           },
           {
            "bin_start": 5.203675428054052,
            "bin_end": 6.0020986524402105,
            "count": 6888
           },
           {
            "bin_start": 6.0020986524402105,
            "bin_end": 6.8005218768263695,
            "count": 1510
           },
           {
            "bin_start": 6.8005218768263695,
            "bin_end": 7.598945101212528,
            "count": 6899
           },
           {
            "bin_start": 7.598945101212528,
            "bin_end": 8.397368325598688,
            "count": 1936
           },
           {
            "bin_start": 8.397368325598688,
            "bin_end": 9.195791549984847,
            "count": 1069
           },
           {
            "bin_start": 9.195791549984847,
            "bin_end": 9.994214774371004,
            "count": 662
           }
          ]
         }
        },
        {
         "name": "_deepnote_index_column",
         "dtype": "int64"
        }
       ],
       "rows": [
        {
         "company_country_round_index": 8,
         "company_country_round_index_pred": 6.960107744941357,
         "_deepnote_index_column": 0
        },
        {
         "company_country_round_index": 3,
         "company_country_round_index_pred": 2.767859207426471,
         "_deepnote_index_column": 1
        },
        {
         "company_country_round_index": 9,
         "company_country_round_index_pred": 8.613706091095253,
         "_deepnote_index_column": 2
        },
        {
         "company_country_round_index": 6,
         "company_country_round_index_pred": 5.573614630174819,
         "_deepnote_index_column": 3
        },
        {
         "company_country_round_index": 5,
         "company_country_round_index_pred": 5.429269955380333,
         "_deepnote_index_column": 4
        },
        {
         "company_country_round_index": 4,
         "company_country_round_index_pred": 2.767859207426471,
         "_deepnote_index_column": 5
        },
        {
         "company_country_round_index": 5,
         "company_country_round_index_pred": 5.429269955380333,
         "_deepnote_index_column": 6
        },
        {
         "company_country_round_index": 5,
         "company_country_round_index_pred": 5.429269955380333,
         "_deepnote_index_column": 7
        },
        {
         "company_country_round_index": 8,
         "company_country_round_index_pred": 7.847244660925978,
         "_deepnote_index_column": 8
        },
        {
         "company_country_round_index": 3,
         "company_country_round_index_pred": 2.7527747716995528,
         "_deepnote_index_column": 9
        }
       ]
      },
      "text/plain": "       company_country_round_index  company_country_round_index_pred\n0                              8.0                          6.960108\n1                              3.0                          2.767859\n2                              9.0                          8.613706\n3                              6.0                          5.573615\n4                              5.0                          5.429270\n...                            ...                               ...\n27634                          3.0                          2.767859\n27635                          3.0                          2.767859\n27636                          5.0                          5.429270\n27637                          6.0                          5.444354\n27638                          8.0                          5.459439\n\n[27639 rows x 2 columns]",
      "text/html": "<div>\n<style scoped>\n    .dataframe tbody tr th:only-of-type {\n        vertical-align: middle;\n    }\n\n    .dataframe tbody tr th {\n        vertical-align: top;\n    }\n\n    .dataframe thead th {\n        text-align: right;\n    }\n</style>\n<table border=\"1\" class=\"dataframe\">\n  <thead>\n    <tr style=\"text-align: right;\">\n      <th></th>\n      <th>company_country_round_index</th>\n      <th>company_country_round_index_pred</th>\n    </tr>\n  </thead>\n  <tbody>\n    <tr>\n      <th>0</th>\n      <td>8.0</td>\n      <td>6.960108</td>\n    </tr>\n    <tr>\n      <th>1</th>\n      <td>3.0</td>\n      <td>2.767859</td>\n    </tr>\n    <tr>\n      <th>2</th>\n      <td>9.0</td>\n      <td>8.613706</td>\n    </tr>\n    <tr>\n      <th>3</th>\n      <td>6.0</td>\n      <td>5.573615</td>\n    </tr>\n    <tr>\n      <th>4</th>\n      <td>5.0</td>\n      <td>5.429270</td>\n    </tr>\n    <tr>\n      <th>...</th>\n      <td>...</td>\n      <td>...</td>\n    </tr>\n    <tr>\n      <th>27634</th>\n      <td>3.0</td>\n      <td>2.767859</td>\n    </tr>\n    <tr>\n      <th>27635</th>\n      <td>3.0</td>\n      <td>2.767859</td>\n    </tr>\n    <tr>\n      <th>27636</th>\n      <td>5.0</td>\n      <td>5.429270</td>\n    </tr>\n    <tr>\n      <th>27637</th>\n      <td>6.0</td>\n      <td>5.444354</td>\n    </tr>\n    <tr>\n      <th>27638</th>\n      <td>8.0</td>\n      <td>5.459439</td>\n    </tr>\n  </tbody>\n</table>\n<p>27639 rows × 2 columns</p>\n</div>"
     },
     "metadata": {}
    }
   ],
   "execution_count": null
  },
  {
   "cell_type": "markdown",
   "source": "Following block fills the missing 'company_country_round_index' values. If the index value is missing, then the predicted value is used to fill. If the predicted value is below 1, then it is set as 1. If the predicted value is greater than 10, it is set as 10. Otherwise, the actual prediction is used.",
   "metadata": {
    "cell_id": "8caa2cb73ef143e0acbbc3250a32058a",
    "tags": [],
    "deepnote_cell_type": "markdown",
    "deepnote_cell_height": 97.19999694824219
   }
  },
  {
   "cell_type": "code",
   "metadata": {
    "cell_id": "43fb940e0635494d89ab1fe01f49e1e6",
    "tags": [],
    "deepnote_to_be_reexecuted": false,
    "source_hash": "62c38070",
    "execution_start": 1651606469434,
    "execution_millis": 545,
    "deepnote_cell_type": "code",
    "deepnote_cell_height": 423
   },
   "source": "def comp_cntry_rnd_idx_missing_imputer(row):\n\n    value = row[\"company_country_round_index\"]\n    value_pred = round(row[\"company_country_round_index_pred\"])\n\n    if np.isnan(value):\n        if value_pred < 1:\n            return 1\n        elif value_pred > 10:\n            return 10\n        else:\n            return value_pred\n    else:\n        return value\n\n\ndata_merged[\"company_country_round_index\"] = data_merged.apply(\n    comp_cntry_rnd_idx_missing_imputer, axis=1\n)\n",
   "outputs": [],
   "execution_count": null
  },
  {
   "cell_type": "code",
   "metadata": {
    "cell_id": "04c00b3267c54738b6f6d92a22b35bba",
    "tags": [],
    "deepnote_to_be_reexecuted": false,
    "source_hash": "80973742",
    "execution_start": 1651606469982,
    "execution_millis": 11,
    "deepnote_cell_type": "code",
    "deepnote_cell_height": 99
   },
   "source": "data_merged[\"company_country_round_index\"] = data_merged[\"company_country_round_index\"].astype(int)\ndata_merged[\"rounds_index\"] = data_merged[\"rounds_index\"].astype(int)",
   "outputs": [],
   "execution_count": null
  },
  {
   "cell_type": "markdown",
   "source": "## 8. Merge time features to the training dataset",
   "metadata": {
    "cell_id": "79a98880606c430e9348539023e46e04",
    "tags": [],
    "deepnote_cell_type": "markdown",
    "deepnote_cell_height": 70
   }
  },
  {
   "cell_type": "code",
   "metadata": {
    "cell_id": "cf82c0f602a14c8883a6a6a9374ff99f",
    "tags": [],
    "deepnote_to_be_reexecuted": false,
    "source_hash": "31e1d732",
    "execution_start": 1651606469996,
    "execution_millis": 457,
    "deepnote_cell_type": "code",
    "deepnote_cell_height": 888
   },
   "source": "company_df = pd.read_csv('splitted data/companies_training.csv')\ncompany_df = company_df[company_df['first_funding_at'].notna()]\ncompany_df = company_df[company_df['founded_at'].notna()]\n\ncompany_df['first_funding_at'] = pd.to_datetime(company_df['first_funding_at'], errors='coerce').dropna()\ncompany_df['last_funding_at'] = pd.to_datetime(company_df['last_funding_at'], errors='coerce').dropna()\ncompany_df['founded_at'] = pd.to_datetime(company_df['founded_at'], errors='coerce').dropna()\n\ncurrent_date = \"2015-12-04\"\ncompany_df['time_since_first_investment'] = (pd.to_datetime(current_date) - company_df['first_funding_at']).astype('timedelta64[D]')\ncompany_df['time_since_last_investment'] = (pd.to_datetime(current_date) - company_df['last_funding_at']).astype('timedelta64[D]')\ncompany_df['company_age'] = (pd.to_datetime(current_date) - company_df['founded_at']).astype('timedelta64[D]')\n\ninvestment_time_difference = company_df['time_since_first_investment'] - company_df['time_since_last_investment']\ncompany_df['avg_time_between_rounds'] = investment_time_difference/company_df['funding_rounds']\n\ncompany_df[['permalink','time_since_first_investment','time_since_last_investment','company_age','avg_time_between_rounds']]",
   "outputs": [
    {
     "output_type": "execute_result",
     "execution_count": 42,
     "data": {
      "application/vnd.deepnote.dataframe.v3+json": {
       "column_count": 5,
       "row_count": 40870,
       "columns": [
        {
         "name": "permalink",
         "dtype": "object",
         "stats": {
          "unique_count": 40870,
          "nan_count": 0,
          "categories": [
           {
            "name": "/organization/0-6-com",
            "count": 1
           },
           {
            "name": "/organization/004-technologies",
            "count": 1
           },
           {
            "name": "40868 others",
            "count": 40868
           }
          ]
         }
        },
        {
         "name": "time_since_first_investment",
         "dtype": "float64",
         "stats": {
          "unique_count": 4303,
          "nan_count": 2,
          "min": "-1.0",
          "max": "16408.0",
          "histogram": [
           {
            "bin_start": -1,
            "bin_end": 1639.9,
            "count": 26107
           },
           {
            "bin_start": 1639.9,
            "bin_end": 3280.8,
            "count": 10866
           },
           {
            "bin_start": 3280.8,
            "bin_end": 4921.700000000001,
            "count": 3026
           },
           {
            "bin_start": 4921.700000000001,
            "bin_end": 6562.6,
            "count": 734
           },
           {
            "bin_start": 6562.6,
            "bin_end": 8203.5,
            "count": 79
           },
           {
            "bin_start": 8203.5,
            "bin_end": 9844.400000000001,
            "count": 35
           },
           {
            "bin_start": 9844.400000000001,
            "bin_end": 11485.300000000001,
            "count": 13
           },
           {
            "bin_start": 11485.300000000001,
            "bin_end": 13126.2,
            "count": 4
           },
           {
            "bin_start": 13126.2,
            "bin_end": 14767.1,
            "count": 2
           },
           {
            "bin_start": 14767.1,
            "bin_end": 16408,
            "count": 2
           }
          ]
         }
        },
        {
         "name": "time_since_last_investment",
         "dtype": "float64"
        },
        {
         "name": "company_age",
         "dtype": "float64"
        },
        {
         "name": "avg_time_between_rounds",
         "dtype": "float64"
        },
        {
         "name": "_deepnote_index_column",
         "dtype": "int64"
        }
       ],
       "rows": [
        {
         "permalink": "/organization/0-6-com",
         "time_since_first_investment": 2816,
         "time_since_last_investment": 2816,
         "company_age": 3259,
         "avg_time_between_rounds": 0,
         "_deepnote_index_column": 2
        },
        {
         "permalink": "/organization/004-technologies",
         "time_since_first_investment": 498,
         "time_since_last_investment": 498,
         "company_age": 2163,
         "avg_time_between_rounds": 0,
         "_deepnote_index_column": 3
        },
        {
         "permalink": "/organization/1-2-3-listo",
         "time_since_first_investment": 1019,
         "time_since_last_investment": 1019,
         "company_age": 1433,
         "avg_time_between_rounds": 0,
         "_deepnote_index_column": 4
        },
        {
         "permalink": "/organization/1-618-technology",
         "time_since_first_investment": 681,
         "time_since_last_investment": 681,
         "company_age": 727,
         "avg_time_between_rounds": 0,
         "_deepnote_index_column": 6
        },
        {
         "permalink": "/organization/1-800-dentist",
         "time_since_first_investment": 1933,
         "time_since_last_investment": 1933,
         "company_age": 10929,
         "avg_time_between_rounds": 0,
         "_deepnote_index_column": 7
        },
        {
         "permalink": "/organization/1-800-doctors",
         "time_since_first_investment": 1738,
         "time_since_last_investment": 1738,
         "company_age": 11660,
         "avg_time_between_rounds": 0,
         "_deepnote_index_column": 8
        },
        {
         "permalink": "/organization/1-800-publicrelations-inc-",
         "time_since_first_investment": 306,
         "time_since_last_investment": 306,
         "company_age": 771,
         "avg_time_between_rounds": 0,
         "_deepnote_index_column": 9
        },
        {
         "permalink": "/organization/1-mainstream",
         "time_since_first_investment": 262,
         "time_since_last_investment": 262,
         "company_age": 1373,
         "avg_time_between_rounds": 0,
         "_deepnote_index_column": 10
        },
        {
         "permalink": "/organization/1-of-99",
         "time_since_first_investment": 356,
         "time_since_last_investment": 356,
         "company_age": 368,
         "avg_time_between_rounds": 0,
         "_deepnote_index_column": 11
        },
        {
         "permalink": "/organization/10-20-media",
         "time_since_first_investment": 2360,
         "time_since_last_investment": 1437,
         "company_age": 5450,
         "avg_time_between_rounds": 230.75,
         "_deepnote_index_column": 12
        }
       ]
      },
      "text/plain": "                            permalink  time_since_first_investment  \\\n2               /organization/0-6-com                       2816.0   \n3      /organization/004-technologies                        498.0   \n4           /organization/1-2-3-listo                       1019.0   \n6      /organization/1-618-technology                        681.0   \n7         /organization/1-800-dentist                       1933.0   \n...                               ...                          ...   \n53086           /organization/zynstra                       1371.0   \n53087        /organization/zyomyx-inc                       2135.0   \n53088            /organization/zypsee                        861.0   \n53089  /organization/zyraz-technology                       2894.0   \n53092        /organization/zytoprotec                       1039.0   \n\n       time_since_last_investment  company_age  avg_time_between_rounds  \n2                          2816.0       3259.0                     0.00  \n3                           498.0       2163.0                     0.00  \n4                          1019.0       1433.0                     0.00  \n6                           681.0        727.0                     0.00  \n7                          1933.0      10929.0                     0.00  \n...                           ...          ...                      ...  \n53086                       513.0       1465.0                   214.50  \n53087                       618.0       6546.0                   379.25  \n53088                       800.0       1798.0                    30.50  \n53089                      1022.0       8007.0                   468.00  \n53092                      1039.0       3259.0                     0.00  \n\n[40870 rows x 5 columns]",
      "text/html": "<div>\n<style scoped>\n    .dataframe tbody tr th:only-of-type {\n        vertical-align: middle;\n    }\n\n    .dataframe tbody tr th {\n        vertical-align: top;\n    }\n\n    .dataframe thead th {\n        text-align: right;\n    }\n</style>\n<table border=\"1\" class=\"dataframe\">\n  <thead>\n    <tr style=\"text-align: right;\">\n      <th></th>\n      <th>permalink</th>\n      <th>time_since_first_investment</th>\n      <th>time_since_last_investment</th>\n      <th>company_age</th>\n      <th>avg_time_between_rounds</th>\n    </tr>\n  </thead>\n  <tbody>\n    <tr>\n      <th>2</th>\n      <td>/organization/0-6-com</td>\n      <td>2816.0</td>\n      <td>2816.0</td>\n      <td>3259.0</td>\n      <td>0.00</td>\n    </tr>\n    <tr>\n      <th>3</th>\n      <td>/organization/004-technologies</td>\n      <td>498.0</td>\n      <td>498.0</td>\n      <td>2163.0</td>\n      <td>0.00</td>\n    </tr>\n    <tr>\n      <th>4</th>\n      <td>/organization/1-2-3-listo</td>\n      <td>1019.0</td>\n      <td>1019.0</td>\n      <td>1433.0</td>\n      <td>0.00</td>\n    </tr>\n    <tr>\n      <th>6</th>\n      <td>/organization/1-618-technology</td>\n      <td>681.0</td>\n      <td>681.0</td>\n      <td>727.0</td>\n      <td>0.00</td>\n    </tr>\n    <tr>\n      <th>7</th>\n      <td>/organization/1-800-dentist</td>\n      <td>1933.0</td>\n      <td>1933.0</td>\n      <td>10929.0</td>\n      <td>0.00</td>\n    </tr>\n    <tr>\n      <th>...</th>\n      <td>...</td>\n      <td>...</td>\n      <td>...</td>\n      <td>...</td>\n      <td>...</td>\n    </tr>\n    <tr>\n      <th>53086</th>\n      <td>/organization/zynstra</td>\n      <td>1371.0</td>\n      <td>513.0</td>\n      <td>1465.0</td>\n      <td>214.50</td>\n    </tr>\n    <tr>\n      <th>53087</th>\n      <td>/organization/zyomyx-inc</td>\n      <td>2135.0</td>\n      <td>618.0</td>\n      <td>6546.0</td>\n      <td>379.25</td>\n    </tr>\n    <tr>\n      <th>53088</th>\n      <td>/organization/zypsee</td>\n      <td>861.0</td>\n      <td>800.0</td>\n      <td>1798.0</td>\n      <td>30.50</td>\n    </tr>\n    <tr>\n      <th>53089</th>\n      <td>/organization/zyraz-technology</td>\n      <td>2894.0</td>\n      <td>1022.0</td>\n      <td>8007.0</td>\n      <td>468.00</td>\n    </tr>\n    <tr>\n      <th>53092</th>\n      <td>/organization/zytoprotec</td>\n      <td>1039.0</td>\n      <td>1039.0</td>\n      <td>3259.0</td>\n      <td>0.00</td>\n    </tr>\n  </tbody>\n</table>\n<p>40870 rows × 5 columns</p>\n</div>"
     },
     "metadata": {}
    }
   ],
   "execution_count": null
  },
  {
   "cell_type": "code",
   "metadata": {
    "cell_id": "cd69f96c4a2c49c3bfe1ab718aabace5",
    "tags": [],
    "deepnote_to_be_reexecuted": false,
    "source_hash": "de85eca0",
    "execution_start": 1651606470459,
    "execution_millis": 19,
    "deepnote_cell_type": "code",
    "deepnote_cell_height": 315
   },
   "source": "time_feat_min_max = pd.DataFrame(columns=['feat', 'min', 'max'])\n\ncolumns = ['time_since_first_investment','time_since_last_investment','company_age','avg_time_between_rounds']\nfor column in columns:\n    min_val = company_df[column].min()\n    max_val = company_df[column].max()\n    d = {'feat' : column,\n         'min'  : min_val,\n         'max'  : max_val\n    }\n    time_feat_min_max = time_feat_min_max.append(d, ignore_index = True)\n\ntime_feat_min_max.set_index('feat', inplace = True)\ntime_feat_min_max.to_csv('params/time_feat_min_max.csv')",
   "outputs": [],
   "execution_count": null
  },
  {
   "cell_type": "code",
   "metadata": {
    "cell_id": "5a7fb8728fb74ac796647a1644ecae5a",
    "tags": [],
    "deepnote_to_be_reexecuted": false,
    "source_hash": "aadcc253",
    "execution_start": 1651606470494,
    "execution_millis": 15,
    "deepnote_cell_type": "code",
    "deepnote_cell_height": 117
   },
   "source": "data_merged = data_merged.merge(\n    company_df, how=\"inner\", left_on=\"company_permalink\", right_on=\"permalink\"\n)",
   "outputs": [],
   "execution_count": null
  },
  {
   "cell_type": "code",
   "metadata": {
    "cell_id": "5a23b349b66b47b8a84e3a3ab7d2f4ed",
    "tags": [],
    "deepnote_to_be_reexecuted": false,
    "source_hash": "daa7dce9",
    "execution_start": 1651606470514,
    "execution_millis": 6,
    "deepnote_cell_type": "code",
    "deepnote_cell_height": 457,
    "deepnote_output_heights": [
     36
    ]
   },
   "source": "\"\"\"\ndata_merged = data_merged[\n    [\n        \"company_permalink\",\n        \"funding_round\",\n        \"investors_round_index\",\n        \"investor_country_round_index\",\n        \"rounds_index\",\n        \"company_country_round_index\",\n        \"time_since_first_investment\",\n        \"time_since_last_investment\",\n        \"company_age\",\n        \"avg_time_between_rounds\",\n        \"raised_amount_buckets\",\n    ]\n].copy()\ndata_merged.drop_duplicates(inplace=True)\n\"\"\"\n",
   "outputs": [
    {
     "output_type": "execute_result",
     "execution_count": 45,
     "data": {
      "text/plain": "'\\ndata_merged = data_merged[\\n    [\\n        \"company_permalink\",\\n        \"funding_round\",\\n        \"investors_round_index\",\\n        \"investor_country_round_index\",\\n        \"rounds_index\",\\n        \"company_country_round_index\",\\n        \"time_since_first_investment\",\\n        \"time_since_last_investment\",\\n        \"company_age\",\\n        \"avg_time_between_rounds\",\\n        \"raised_amount_buckets\",\\n    ]\\n].copy()\\ndata_merged.drop_duplicates(inplace=True)\\n'"
     },
     "metadata": {}
    }
   ],
   "execution_count": null
  },
  {
   "cell_type": "code",
   "metadata": {
    "cell_id": "816e72a2a3b4409fbe362f7a22349542",
    "tags": [],
    "deepnote_to_be_reexecuted": false,
    "source_hash": "a02ad3b2",
    "execution_start": 1651606470521,
    "execution_millis": 2,
    "deepnote_cell_type": "code",
    "deepnote_cell_height": 81
   },
   "source": "#data_merged['time_since_first_investment'].hist(bins=200)",
   "outputs": [],
   "execution_count": null
  },
  {
   "cell_type": "code",
   "metadata": {
    "cell_id": "f57fa88eb3ac4c8693adc0db4308a368",
    "tags": [],
    "deepnote_to_be_reexecuted": false,
    "source_hash": "4b7f1a0",
    "execution_start": 1651606470531,
    "execution_millis": 127,
    "deepnote_cell_type": "code",
    "deepnote_cell_height": 623
   },
   "source": "columns = ['time_since_first_investment','time_since_last_investment','company_age','avg_time_between_rounds']\nfor column in columns:\n    data_merged[column] = data_merged[column].apply(lambda x: 0 if x < 0 else x)\n\ntime_feat_min_max = pd.read_csv('params/time_feat_min_max.csv')\ndata_merged.describe()",
   "outputs": [
    {
     "output_type": "execute_result",
     "execution_count": 47,
     "data": {
      "application/vnd.deepnote.dataframe.v3+json": {
       "column_count": 12,
       "row_count": 8,
       "columns": [
        {
         "name": "raised_amount_usd",
         "dtype": "float64",
         "stats": {
          "unique_count": 8,
          "nan_count": 0,
          "min": "23429.0",
          "max": "4700000000.0",
          "histogram": [
           {
            "bin_start": 23429,
            "bin_end": 470021086.1,
            "count": 7
           },
           {
            "bin_start": 470021086.1,
            "bin_end": 940018743.2,
            "count": 0
           },
           {
            "bin_start": 940018743.2,
            "bin_end": 1410016400.3000002,
            "count": 0
           },
           {
            "bin_start": 1410016400.3000002,
            "bin_end": 1880014057.4,
            "count": 0
           },
           {
            "bin_start": 1880014057.4,
            "bin_end": 2350011714.5,
            "count": 0
           },
           {
            "bin_start": 2350011714.5,
            "bin_end": 2820009371.6000004,
            "count": 0
           },
           {
            "bin_start": 2820009371.6000004,
            "bin_end": 3290007028.7000003,
            "count": 0
           },
           {
            "bin_start": 3290007028.7000003,
            "bin_end": 3760004685.8,
            "count": 0
           },
           {
            "bin_start": 3760004685.8,
            "bin_end": 4230002342.9,
            "count": 0
           },
           {
            "bin_start": 4230002342.9,
            "bin_end": 4700000000,
            "count": 1
           }
          ]
         }
        },
        {
         "name": "investors_round_index",
         "dtype": "float64",
         "stats": {
          "unique_count": 8,
          "nan_count": 0,
          "min": "1.0",
          "max": "23429.0",
          "histogram": [
           {
            "bin_start": 1,
            "bin_end": 2343.8,
            "count": 7
           },
           {
            "bin_start": 2343.8,
            "bin_end": 4686.6,
            "count": 0
           },
           {
            "bin_start": 4686.6,
            "bin_end": 7029.400000000001,
            "count": 0
           },
           {
            "bin_start": 7029.400000000001,
            "bin_end": 9372.2,
            "count": 0
           },
           {
            "bin_start": 9372.2,
            "bin_end": 11715,
            "count": 0
           },
           {
            "bin_start": 11715,
            "bin_end": 14057.800000000001,
            "count": 0
           },
           {
            "bin_start": 14057.800000000001,
            "bin_end": 16400.600000000002,
            "count": 0
           },
           {
            "bin_start": 16400.600000000002,
            "bin_end": 18743.4,
            "count": 0
           },
           {
            "bin_start": 18743.4,
            "bin_end": 21086.2,
            "count": 0
           },
           {
            "bin_start": 21086.2,
            "bin_end": 23429,
            "count": 1
           }
          ]
         }
        },
        {
         "name": "investor_country_round_index",
         "dtype": "float64",
         "stats": {
          "unique_count": 8,
          "nan_count": 0,
          "min": "1.0",
          "max": "23429.0",
          "histogram": [
           {
            "bin_start": 1,
            "bin_end": 2343.8,
            "count": 7
           },
           {
            "bin_start": 2343.8,
            "bin_end": 4686.6,
            "count": 0
           },
           {
            "bin_start": 4686.6,
            "bin_end": 7029.400000000001,
            "count": 0
           },
           {
            "bin_start": 7029.400000000001,
            "bin_end": 9372.2,
            "count": 0
           },
           {
            "bin_start": 9372.2,
            "bin_end": 11715,
            "count": 0
           },
           {
            "bin_start": 11715,
            "bin_end": 14057.800000000001,
            "count": 0
           },
           {
            "bin_start": 14057.800000000001,
            "bin_end": 16400.600000000002,
            "count": 0
           },
           {
            "bin_start": 16400.600000000002,
            "bin_end": 18743.4,
            "count": 0
           },
           {
            "bin_start": 18743.4,
            "bin_end": 21086.2,
            "count": 0
           },
           {
            "bin_start": 21086.2,
            "bin_end": 23429,
            "count": 1
           }
          ]
         }
        },
        {
         "name": "raised_amount_buckets",
         "dtype": "float64",
         "stats": {
          "unique_count": 8,
          "nan_count": 0,
          "min": "1.0",
          "max": "23429.0",
          "histogram": [
           {
            "bin_start": 1,
            "bin_end": 2343.8,
            "count": 7
           },
           {
            "bin_start": 2343.8,
            "bin_end": 4686.6,
            "count": 0
           },
           {
            "bin_start": 4686.6,
            "bin_end": 7029.400000000001,
            "count": 0
           },
           {
            "bin_start": 7029.400000000001,
            "bin_end": 9372.2,
            "count": 0
           },
           {
            "bin_start": 9372.2,
            "bin_end": 11715,
            "count": 0
           },
           {
            "bin_start": 11715,
            "bin_end": 14057.800000000001,
            "count": 0
           },
           {
            "bin_start": 14057.800000000001,
            "bin_end": 16400.600000000002,
            "count": 0
           },
           {
            "bin_start": 16400.600000000002,
            "bin_end": 18743.4,
            "count": 0
           },
           {
            "bin_start": 18743.4,
            "bin_end": 21086.2,
            "count": 0
           },
           {
            "bin_start": 21086.2,
            "bin_end": 23429,
            "count": 1
           }
          ]
         }
        },
        {
         "name": "rounds_index",
         "dtype": "float64",
         "stats": {
          "unique_count": 8,
          "nan_count": 0,
          "min": "1.0",
          "max": "23429.0",
          "histogram": [
           {
            "bin_start": 1,
            "bin_end": 2343.8,
            "count": 7
           },
           {
            "bin_start": 2343.8,
            "bin_end": 4686.6,
            "count": 0
           },
           {
            "bin_start": 4686.6,
            "bin_end": 7029.400000000001,
            "count": 0
           },
           {
            "bin_start": 7029.400000000001,
            "bin_end": 9372.2,
            "count": 0
           },
           {
            "bin_start": 9372.2,
            "bin_end": 11715,
            "count": 0
           },
           {
            "bin_start": 11715,
            "bin_end": 14057.800000000001,
            "count": 0
           },
           {
            "bin_start": 14057.800000000001,
            "bin_end": 16400.600000000002,
            "count": 0
           },
           {
            "bin_start": 16400.600000000002,
            "bin_end": 18743.4,
            "count": 0
           },
           {
            "bin_start": 18743.4,
            "bin_end": 21086.2,
            "count": 0
           },
           {
            "bin_start": 21086.2,
            "bin_end": 23429,
            "count": 1
           }
          ]
         }
        },
        {
         "name": "company_country_round_index",
         "dtype": "float64",
         "stats": {
          "unique_count": 8,
          "nan_count": 0,
          "min": "1.0",
          "max": "23429.0",
          "histogram": [
           {
            "bin_start": 1,
            "bin_end": 2343.8,
            "count": 7
           },
           {
            "bin_start": 2343.8,
            "bin_end": 4686.6,
            "count": 0
           },
           {
            "bin_start": 4686.6,
            "bin_end": 7029.400000000001,
            "count": 0
           },
           {
            "bin_start": 7029.400000000001,
            "bin_end": 9372.2,
            "count": 0
           },
           {
            "bin_start": 9372.2,
            "bin_end": 11715,
            "count": 0
           },
           {
            "bin_start": 11715,
            "bin_end": 14057.800000000001,
            "count": 0
           },
           {
            "bin_start": 14057.800000000001,
            "bin_end": 16400.600000000002,
            "count": 0
           },
           {
            "bin_start": 16400.600000000002,
            "bin_end": 18743.4,
            "count": 0
           },
           {
            "bin_start": 18743.4,
            "bin_end": 21086.2,
            "count": 0
           },
           {
            "bin_start": 21086.2,
            "bin_end": 23429,
            "count": 1
           }
          ]
         }
        },
        {
         "name": "company_country_round_index_pred",
         "dtype": "float64",
         "stats": {
          "unique_count": 8,
          "nan_count": 0,
          "min": "2.0099825305094177",
          "max": "23429.0",
          "histogram": [
           {
            "bin_start": 2.0099825305094177,
            "bin_end": 2344.7089842774585,
            "count": 7
           },
           {
            "bin_start": 2344.7089842774585,
            "bin_end": 4687.407986024408,
            "count": 0
           },
           {
            "bin_start": 4687.407986024408,
            "bin_end": 7030.106987771358,
            "count": 0
           },
           {
            "bin_start": 7030.106987771358,
            "bin_end": 9372.805989518307,
            "count": 0
           },
           {
            "bin_start": 9372.805989518307,
            "bin_end": 11715.504991265256,
            "count": 0
           },
           {
            "bin_start": 11715.504991265256,
            "bin_end": 14058.203993012206,
            "count": 0
           },
           {
            "bin_start": 14058.203993012206,
            "bin_end": 16400.90299475915,
            "count": 0
           },
           {
            "bin_start": 16400.90299475915,
            "bin_end": 18743.601996506102,
            "count": 0
           },
           {
            "bin_start": 18743.601996506102,
            "bin_end": 21086.300998253053,
            "count": 0
           },
           {
            "bin_start": 21086.300998253053,
            "bin_end": 23429,
            "count": 1
           }
          ]
         }
        },
        {
         "name": "funding_rounds",
         "dtype": "float64",
         "stats": {
          "unique_count": 8,
          "nan_count": 0,
          "min": "1.0",
          "max": "23429.0",
          "histogram": [
           {
            "bin_start": 1,
            "bin_end": 2343.8,
            "count": 7
           },
           {
            "bin_start": 2343.8,
            "bin_end": 4686.6,
            "count": 0
           },
           {
            "bin_start": 4686.6,
            "bin_end": 7029.400000000001,
            "count": 0
           },
           {
            "bin_start": 7029.400000000001,
            "bin_end": 9372.2,
            "count": 0
           },
           {
            "bin_start": 9372.2,
            "bin_end": 11715,
            "count": 0
           },
           {
            "bin_start": 11715,
            "bin_end": 14057.800000000001,
            "count": 0
           },
           {
            "bin_start": 14057.800000000001,
            "bin_end": 16400.600000000002,
            "count": 0
           },
           {
            "bin_start": 16400.600000000002,
            "bin_end": 18743.4,
            "count": 0
           },
           {
            "bin_start": 18743.4,
            "bin_end": 21086.2,
            "count": 0
           },
           {
            "bin_start": 21086.2,
            "bin_end": 23429,
            "count": 1
           }
          ]
         }
        },
        {
         "name": "time_since_first_investment",
         "dtype": "float64",
         "stats": {
          "unique_count": 8,
          "nan_count": 0,
          "min": "0.0",
          "max": "23427.0",
          "histogram": [
           {
            "bin_start": 0,
            "bin_end": 2342.7,
            "count": 5
           },
           {
            "bin_start": 2342.7,
            "bin_end": 4685.4,
            "count": 1
           },
           {
            "bin_start": 4685.4,
            "bin_end": 7028.099999999999,
            "count": 0
           },
           {
            "bin_start": 7028.099999999999,
            "bin_end": 9370.8,
            "count": 0
           },
           {
            "bin_start": 9370.8,
            "bin_end": 11713.5,
            "count": 1
           },
           {
            "bin_start": 11713.5,
            "bin_end": 14056.199999999999,
            "count": 0
           },
           {
            "bin_start": 14056.199999999999,
            "bin_end": 16398.899999999998,
            "count": 0
           },
           {
            "bin_start": 16398.899999999998,
            "bin_end": 18741.6,
            "count": 0
           },
           {
            "bin_start": 18741.6,
            "bin_end": 21084.3,
            "count": 0
           },
           {
            "bin_start": 21084.3,
            "bin_end": 23427,
            "count": 1
           }
          ]
         }
        },
        {
         "name": "time_since_last_investment",
         "dtype": "float64",
         "stats": {
          "unique_count": 8,
          "nan_count": 0,
          "min": "0.0",
          "max": "23429.0",
          "histogram": [
           {
            "bin_start": 0,
            "bin_end": 2342.9,
            "count": 6
           },
           {
            "bin_start": 2342.9,
            "bin_end": 4685.8,
            "count": 0
           },
           {
            "bin_start": 4685.8,
            "bin_end": 7028.700000000001,
            "count": 0
           },
           {
            "bin_start": 7028.700000000001,
            "bin_end": 9371.6,
            "count": 0
           },
           {
            "bin_start": 9371.6,
            "bin_end": 11714.5,
            "count": 1
           },
           {
            "bin_start": 11714.5,
            "bin_end": 14057.400000000001,
            "count": 0
           },
           {
            "bin_start": 14057.400000000001,
            "bin_end": 16400.3,
            "count": 0
           },
           {
            "bin_start": 16400.3,
            "bin_end": 18743.2,
            "count": 0
           },
           {
            "bin_start": 18743.2,
            "bin_end": 21086.100000000002,
            "count": 0
           },
           {
            "bin_start": 21086.100000000002,
            "bin_end": 23429,
            "count": 1
           }
          ]
         }
        },
        {
         "name": "company_age",
         "dtype": "float64",
         "stats": {
          "unique_count": 8,
          "nan_count": 0,
          "min": "14.0",
          "max": "71194.0",
          "histogram": [
           {
            "bin_start": 14,
            "bin_end": 7132,
            "count": 6
           },
           {
            "bin_start": 7132,
            "bin_end": 14250,
            "count": 0
           },
           {
            "bin_start": 14250,
            "bin_end": 21368,
            "count": 0
           },
           {
            "bin_start": 21368,
            "bin_end": 28486,
            "count": 1
           },
           {
            "bin_start": 28486,
            "bin_end": 35604,
            "count": 0
           },
           {
            "bin_start": 35604,
            "bin_end": 42722,
            "count": 0
           },
           {
            "bin_start": 42722,
            "bin_end": 49840,
            "count": 0
           },
           {
            "bin_start": 49840,
            "bin_end": 56958,
            "count": 0
           },
           {
            "bin_start": 56958,
            "bin_end": 64076,
            "count": 0
           },
           {
            "bin_start": 64076,
            "bin_end": 71194,
            "count": 1
           }
          ]
         }
        },
        {
         "name": "avg_time_between_rounds",
         "dtype": "float64",
         "stats": {
          "unique_count": 8,
          "nan_count": 0,
          "min": "0.0",
          "max": "23427.0",
          "histogram": [
           {
            "bin_start": 0,
            "bin_end": 2342.7,
            "count": 6
           },
           {
            "bin_start": 2342.7,
            "bin_end": 4685.4,
            "count": 1
           },
           {
            "bin_start": 4685.4,
            "bin_end": 7028.099999999999,
            "count": 0
           },
           {
            "bin_start": 7028.099999999999,
            "bin_end": 9370.8,
            "count": 0
           },
           {
            "bin_start": 9370.8,
            "bin_end": 11713.5,
            "count": 0
           },
           {
            "bin_start": 11713.5,
            "bin_end": 14056.199999999999,
            "count": 0
           },
           {
            "bin_start": 14056.199999999999,
            "bin_end": 16398.899999999998,
            "count": 0
           },
           {
            "bin_start": 16398.899999999998,
            "bin_end": 18741.6,
            "count": 0
           },
           {
            "bin_start": 18741.6,
            "bin_end": 21084.3,
            "count": 0
           },
           {
            "bin_start": 21084.3,
            "bin_end": 23427,
            "count": 1
           }
          ]
         }
        },
        {
         "name": "_deepnote_index_column",
         "dtype": "object"
        }
       ],
       "rows": [
        {
         "raised_amount_usd": 23429,
         "investors_round_index": 23429,
         "investor_country_round_index": 23429,
         "raised_amount_buckets": 23429,
         "rounds_index": 23429,
         "company_country_round_index": 23429,
         "company_country_round_index_pred": 23429,
         "funding_rounds": 23429,
         "time_since_first_investment": 23427,
         "time_since_last_investment": 23429,
         "company_age": 23429,
         "avg_time_between_rounds": 23427,
         "_deepnote_index_column": "count"
        },
        {
         "raised_amount_usd": 14903996.546886338,
         "investors_round_index": 5.601434120107559,
         "investor_country_round_index": 5.14998506124888,
         "raised_amount_buckets": 6.602074352298434,
         "rounds_index": 4.00174996798839,
         "company_country_round_index": 5.535831661615946,
         "company_country_round_index_pred": 5.549976190779706,
         "funding_rounds": 3.478936360920227,
         "time_since_first_investment": 2114.4512314850385,
         "time_since_last_investment": 1026.1949720431944,
         "company_age": 3063.191728200094,
         "avg_time_between_rounds": 268.91017169572655,
         "_deepnote_index_column": "mean"
        },
        {
         "raised_amount_usd": 65927019.24621531,
         "investors_round_index": 2.8307516403735837,
         "investor_country_round_index": 2.3427946390570407,
         "raised_amount_buckets": 2.775545199035673,
         "rounds_index": 2.121872888680167,
         "company_country_round_index": 2.1054370913763423,
         "company_country_round_index_pred": 2.038155358060845,
         "funding_rounds": 2.3011756900960822,
         "time_since_first_investment": 1350.56141538613,
         "time_since_last_investment": 1080.4569398152496,
         "company_age": 2618.098916798324,
         "avg_time_between_rounds": 227.06673495882632,
         "_deepnote_index_column": "std"
        },
        {
         "raised_amount_usd": 50000,
         "investors_round_index": 1,
         "investor_country_round_index": 1,
         "raised_amount_buckets": 1,
         "rounds_index": 1,
         "company_country_round_index": 1,
         "company_country_round_index_pred": 2.0099825305094177,
         "funding_rounds": 1,
         "time_since_first_investment": 0,
         "time_since_last_investment": 0,
         "company_age": 14,
         "avg_time_between_rounds": 0,
         "_deepnote_index_column": "min"
        },
        {
         "raised_amount_usd": 1300000,
         "investors_round_index": 3,
         "investor_country_round_index": 2,
         "raised_amount_buckets": 5,
         "rounds_index": 2,
         "company_country_round_index": 3,
         "company_country_round_index_pred": 2.88203501076712,
         "funding_rounds": 2,
         "time_since_first_investment": 1012,
         "time_since_last_investment": 249,
         "company_age": 1433,
         "avg_time_between_rounds": 106.5,
         "_deepnote_index_column": "25%"
        },
        {
         "raised_amount_usd": 5000000,
         "investors_round_index": 6,
         "investor_country_round_index": 5,
         "raised_amount_buckets": 7,
         "rounds_index": 4,
         "company_country_round_index": 5,
         "company_country_round_index_pred": 5.474523262561087,
         "funding_rounds": 3,
         "time_since_first_investment": 1827,
         "time_since_last_investment": 610,
         "company_age": 2528,
         "avg_time_between_rounds": 248,
         "_deepnote_index_column": "50%"
        },
        {
         "raised_amount_usd": 13000000,
         "investors_round_index": 8,
         "investor_country_round_index": 7,
         "raised_amount_buckets": 9,
         "rounds_index": 5,
         "company_country_round_index": 7,
         "company_country_round_index_pred": 7.104452419735843,
         "funding_rounds": 5,
         "time_since_first_investment": 3126,
         "time_since_last_investment": 1433,
         "company_age": 3989,
         "avg_time_between_rounds": 382.6666666666667,
         "_deepnote_index_column": "75%"
        },
        {
         "raised_amount_usd": 4700000000,
         "investors_round_index": 10,
         "investor_country_round_index": 10,
         "raised_amount_buckets": 10,
         "rounds_index": 10,
         "company_country_round_index": 10,
         "company_country_round_index_pred": 9.994214774371004,
         "funding_rounds": 19,
         "time_since_first_investment": 10564,
         "time_since_last_investment": 10564,
         "company_age": 71194,
         "avg_time_between_rounds": 2583,
         "_deepnote_index_column": "max"
        }
       ]
      },
      "text/plain": "       raised_amount_usd  investors_round_index  investor_country_round_index  \\\ncount       2.342900e+04           23429.000000                  23429.000000   \nmean        1.490400e+07               5.601434                      5.149985   \nstd         6.592702e+07               2.830752                      2.342795   \nmin         5.000000e+04               1.000000                      1.000000   \n25%         1.300000e+06               3.000000                      2.000000   \n50%         5.000000e+06               6.000000                      5.000000   \n75%         1.300000e+07               8.000000                      7.000000   \nmax         4.700000e+09              10.000000                     10.000000   \n\n       raised_amount_buckets  rounds_index  company_country_round_index  \\\ncount           23429.000000  23429.000000                 23429.000000   \nmean                6.602074      4.001750                     5.535832   \nstd                 2.775545      2.121873                     2.105437   \nmin                 1.000000      1.000000                     1.000000   \n25%                 5.000000      2.000000                     3.000000   \n50%                 7.000000      4.000000                     5.000000   \n75%                 9.000000      5.000000                     7.000000   \nmax                10.000000     10.000000                    10.000000   \n\n       company_country_round_index_pred  funding_rounds  \\\ncount                      23429.000000    23429.000000   \nmean                           5.549976        3.478936   \nstd                            2.038155        2.301176   \nmin                            2.009983        1.000000   \n25%                            2.882035        2.000000   \n50%                            5.474523        3.000000   \n75%                            7.104452        5.000000   \nmax                            9.994215       19.000000   \n\n       time_since_first_investment  time_since_last_investment   company_age  \\\ncount                 23427.000000                23429.000000  23429.000000   \nmean                   2114.451231                 1026.194972   3063.191728   \nstd                    1350.561415                 1080.456940   2618.098917   \nmin                       0.000000                    0.000000     14.000000   \n25%                    1012.000000                  249.000000   1433.000000   \n50%                    1827.000000                  610.000000   2528.000000   \n75%                    3126.000000                 1433.000000   3989.000000   \nmax                   10564.000000                10564.000000  71194.000000   \n\n       avg_time_between_rounds  \ncount             23427.000000  \nmean                268.910172  \nstd                 227.066735  \nmin                   0.000000  \n25%                 106.500000  \n50%                 248.000000  \n75%                 382.666667  \nmax                2583.000000  ",
      "text/html": "<div>\n<style scoped>\n    .dataframe tbody tr th:only-of-type {\n        vertical-align: middle;\n    }\n\n    .dataframe tbody tr th {\n        vertical-align: top;\n    }\n\n    .dataframe thead th {\n        text-align: right;\n    }\n</style>\n<table border=\"1\" class=\"dataframe\">\n  <thead>\n    <tr style=\"text-align: right;\">\n      <th></th>\n      <th>raised_amount_usd</th>\n      <th>investors_round_index</th>\n      <th>investor_country_round_index</th>\n      <th>raised_amount_buckets</th>\n      <th>rounds_index</th>\n      <th>company_country_round_index</th>\n      <th>company_country_round_index_pred</th>\n      <th>funding_rounds</th>\n      <th>time_since_first_investment</th>\n      <th>time_since_last_investment</th>\n      <th>company_age</th>\n      <th>avg_time_between_rounds</th>\n    </tr>\n  </thead>\n  <tbody>\n    <tr>\n      <th>count</th>\n      <td>2.342900e+04</td>\n      <td>23429.000000</td>\n      <td>23429.000000</td>\n      <td>23429.000000</td>\n      <td>23429.000000</td>\n      <td>23429.000000</td>\n      <td>23429.000000</td>\n      <td>23429.000000</td>\n      <td>23427.000000</td>\n      <td>23429.000000</td>\n      <td>23429.000000</td>\n      <td>23427.000000</td>\n    </tr>\n    <tr>\n      <th>mean</th>\n      <td>1.490400e+07</td>\n      <td>5.601434</td>\n      <td>5.149985</td>\n      <td>6.602074</td>\n      <td>4.001750</td>\n      <td>5.535832</td>\n      <td>5.549976</td>\n      <td>3.478936</td>\n      <td>2114.451231</td>\n      <td>1026.194972</td>\n      <td>3063.191728</td>\n      <td>268.910172</td>\n    </tr>\n    <tr>\n      <th>std</th>\n      <td>6.592702e+07</td>\n      <td>2.830752</td>\n      <td>2.342795</td>\n      <td>2.775545</td>\n      <td>2.121873</td>\n      <td>2.105437</td>\n      <td>2.038155</td>\n      <td>2.301176</td>\n      <td>1350.561415</td>\n      <td>1080.456940</td>\n      <td>2618.098917</td>\n      <td>227.066735</td>\n    </tr>\n    <tr>\n      <th>min</th>\n      <td>5.000000e+04</td>\n      <td>1.000000</td>\n      <td>1.000000</td>\n      <td>1.000000</td>\n      <td>1.000000</td>\n      <td>1.000000</td>\n      <td>2.009983</td>\n      <td>1.000000</td>\n      <td>0.000000</td>\n      <td>0.000000</td>\n      <td>14.000000</td>\n      <td>0.000000</td>\n    </tr>\n    <tr>\n      <th>25%</th>\n      <td>1.300000e+06</td>\n      <td>3.000000</td>\n      <td>2.000000</td>\n      <td>5.000000</td>\n      <td>2.000000</td>\n      <td>3.000000</td>\n      <td>2.882035</td>\n      <td>2.000000</td>\n      <td>1012.000000</td>\n      <td>249.000000</td>\n      <td>1433.000000</td>\n      <td>106.500000</td>\n    </tr>\n    <tr>\n      <th>50%</th>\n      <td>5.000000e+06</td>\n      <td>6.000000</td>\n      <td>5.000000</td>\n      <td>7.000000</td>\n      <td>4.000000</td>\n      <td>5.000000</td>\n      <td>5.474523</td>\n      <td>3.000000</td>\n      <td>1827.000000</td>\n      <td>610.000000</td>\n      <td>2528.000000</td>\n      <td>248.000000</td>\n    </tr>\n    <tr>\n      <th>75%</th>\n      <td>1.300000e+07</td>\n      <td>8.000000</td>\n      <td>7.000000</td>\n      <td>9.000000</td>\n      <td>5.000000</td>\n      <td>7.000000</td>\n      <td>7.104452</td>\n      <td>5.000000</td>\n      <td>3126.000000</td>\n      <td>1433.000000</td>\n      <td>3989.000000</td>\n      <td>382.666667</td>\n    </tr>\n    <tr>\n      <th>max</th>\n      <td>4.700000e+09</td>\n      <td>10.000000</td>\n      <td>10.000000</td>\n      <td>10.000000</td>\n      <td>10.000000</td>\n      <td>10.000000</td>\n      <td>9.994215</td>\n      <td>19.000000</td>\n      <td>10564.000000</td>\n      <td>10564.000000</td>\n      <td>71194.000000</td>\n      <td>2583.000000</td>\n    </tr>\n  </tbody>\n</table>\n</div>"
     },
     "metadata": {}
    }
   ],
   "execution_count": null
  },
  {
   "cell_type": "code",
   "metadata": {
    "cell_id": "8ad8633ee95840b9a4e75c39f3fd9f6e",
    "tags": [],
    "deepnote_to_be_reexecuted": false,
    "source_hash": "39d52cd3",
    "execution_start": 1651606470658,
    "execution_millis": 7,
    "deepnote_cell_type": "code",
    "deepnote_cell_height": 225
   },
   "source": "lower = 1\nupper = 10\nfor column in columns:\n    min_val = time_feat_min_max[time_feat_min_max['feat'] == column]['min'].values[0]\n    max_val = time_feat_min_max[time_feat_min_max['feat'] == column]['max'].values[0]\n\n    data_merged[column] = round(((upper - lower) * ((data_merged[column] - min_val) / (max_val - min_val))) + lower)\n\n",
   "outputs": [],
   "execution_count": null
  },
  {
   "cell_type": "code",
   "metadata": {
    "cell_id": "94d1884511264a0d8daeb041bab83162",
    "tags": [],
    "deepnote_to_be_reexecuted": false,
    "source_hash": "781e526f",
    "execution_start": 1651606470689,
    "execution_millis": 11,
    "deepnote_cell_type": "code",
    "deepnote_cell_height": 81
   },
   "source": "data_merged.dropna(inplace=True)",
   "outputs": [],
   "execution_count": null
  },
  {
   "cell_type": "markdown",
   "source": "## 9. Creating Sector Round Index",
   "metadata": {
    "cell_id": "3740a8c535074163bf5164d485d193d3",
    "tags": [],
    "deepnote_cell_type": "markdown",
    "deepnote_cell_height": 70
   }
  },
  {
   "cell_type": "code",
   "metadata": {
    "cell_id": "9384f6fa2b634d9d870ea13c019ba61c",
    "tags": [],
    "deepnote_to_be_reexecuted": false,
    "source_hash": "31bb823",
    "execution_start": 1651606470748,
    "execution_millis": 0,
    "deepnote_cell_type": "code",
    "deepnote_cell_height": 207
   },
   "source": "def drop_dupes(x):\n    \"\"\"this function removes duplicates\"\"\"\n    return list(dict.fromkeys(x))\n\n# reads the csv from the manually edited categories to sectors\ncategories = pd.read_csv(\"params/company_categories.csv\", header=None)\n# creates the dictionary from the csv\nsectors = categories.set_index(0).to_dict()[1]",
   "outputs": [],
   "execution_count": null
  },
  {
   "cell_type": "code",
   "metadata": {
    "cell_id": "c8da57106f5d4771a3a663cf11c3dcfc",
    "tags": [],
    "deepnote_to_be_reexecuted": false,
    "source_hash": "ed706116",
    "execution_start": 1651606470749,
    "execution_millis": 336,
    "deepnote_cell_type": "code",
    "deepnote_cell_height": 81
   },
   "source": "rounds = pd.read_csv(\"splitted data/rounds_training.csv\")",
   "outputs": [],
   "execution_count": null
  },
  {
   "cell_type": "code",
   "metadata": {
    "cell_id": "905d68fbb15e4da6947a7de4643b83f1",
    "tags": [],
    "deepnote_to_be_reexecuted": false,
    "source_hash": "1d7b5cde",
    "execution_start": 1651606471091,
    "execution_millis": 39,
    "deepnote_cell_type": "code",
    "deepnote_cell_height": 171
   },
   "source": "# drops NaNs from the category list\nrounds = rounds[rounds['company_category_list'].notna()]\n# resets the index\nrounds = rounds.reset_index(drop=True)\n# new category list so it can be split\ncategory_list = rounds['company_category_list']",
   "outputs": [],
   "execution_count": null
  },
  {
   "cell_type": "code",
   "metadata": {
    "cell_id": "259ac5969d0f4b0a8a035554fcdd39b5",
    "tags": [],
    "deepnote_to_be_reexecuted": false,
    "source_hash": "5c142230",
    "execution_start": 1651606471254,
    "execution_millis": 50,
    "deepnote_cell_type": "code",
    "deepnote_cell_height": 189
   },
   "source": "categories_list = category_list.tolist()\ncategories = []\nfor i in range(len(categories_list)):\n    if \"|\" in str(categories_list[i]):\n        categories.append(categories_list[i].split('|')) # splits the categories in that row \n    else:\n        categories.append([categories_list[i]]) # makes sure that all the types are consistent, i.e. a list. ",
   "outputs": [],
   "execution_count": null
  },
  {
   "cell_type": "code",
   "metadata": {
    "cell_id": "162849a73fce462a837f74f8608b5b20",
    "tags": [],
    "deepnote_to_be_reexecuted": false,
    "source_hash": "b2fb8a56",
    "execution_start": 1651606471308,
    "execution_millis": 44,
    "deepnote_cell_type": "code",
    "deepnote_cell_height": 135
   },
   "source": "# drops the original category list\nrounds.drop(columns='company_category_list',inplace=True)\n# makes a new category list from the split one\nrounds['company_category_list'] = categories",
   "outputs": [],
   "execution_count": null
  },
  {
   "cell_type": "code",
   "metadata": {
    "cell_id": "053aaf8f3d234c49b13d117d892288af",
    "tags": [],
    "deepnote_to_be_reexecuted": false,
    "source_hash": "4062bd0a",
    "execution_start": 1651606471365,
    "execution_millis": 185,
    "deepnote_cell_type": "code",
    "deepnote_cell_height": 99
   },
   "source": "# changes categories into sectors\ncompany_sector = rounds['company_category_list'].apply(lambda x: [sectors[x[i]] for i in range(len(x))])",
   "outputs": [],
   "execution_count": null
  },
  {
   "cell_type": "code",
   "metadata": {
    "cell_id": "4a7fd32f0ea0428b93310d5f654e3dbb",
    "tags": [],
    "deepnote_to_be_reexecuted": false,
    "source_hash": "ebc12da0",
    "execution_start": 1651606471707,
    "execution_millis": 44,
    "deepnote_cell_type": "code",
    "deepnote_cell_height": 99
   },
   "source": "# removes duplicates from the sectors\nno_dupes_company_sector = company_sector.apply(lambda x: drop_dupes(x))",
   "outputs": [],
   "execution_count": null
  },
  {
   "cell_type": "code",
   "metadata": {
    "cell_id": "80f5b3dc242e4ef39a243044b58baef7",
    "tags": [],
    "deepnote_to_be_reexecuted": false,
    "source_hash": "a5246626",
    "execution_start": 1651606471752,
    "execution_millis": 0,
    "deepnote_cell_type": "code",
    "deepnote_cell_height": 99
   },
   "source": "# applies back the company sector list to the main dataframe\nrounds['company_sector'] = no_dupes_company_sector",
   "outputs": [],
   "execution_count": null
  },
  {
   "cell_type": "code",
   "metadata": {
    "cell_id": "91fb21fee693479391b491c0e473ad88",
    "tags": [],
    "deepnote_to_be_reexecuted": false,
    "source_hash": "cdea2c0a",
    "execution_start": 1651606471771,
    "execution_millis": 96,
    "deepnote_cell_type": "code",
    "deepnote_cell_height": 795
   },
   "source": "sectors_list = no_dupes_company_sector\n\nfrom sklearn.preprocessing import MultiLabelBinarizer\nmlb = MultiLabelBinarizer()\nbinarized_sectors = mlb.fit_transform(sectors_list) \nbinarized_sectors_column_names = mlb.classes_\n\npickle.dump(mlb, open('model objects/sectors_binarizer.pkl', 'wb'))\n\noverall_categories = pd.DataFrame(data=binarized_sectors,columns=binarized_sectors_column_names)\noverall_categories",
   "outputs": [
    {
     "output_type": "execute_result",
     "execution_count": 58,
     "data": {
      "application/vnd.deepnote.dataframe.v3+json": {
       "column_count": 11,
       "row_count": 88903,
       "columns": [
        {
         "name": "Communication Services",
         "dtype": "int64",
         "stats": {
          "unique_count": 2,
          "nan_count": 0,
          "min": "0",
          "max": "1",
          "histogram": [
           {
            "bin_start": 0,
            "bin_end": 0.1,
            "count": 70143
           },
           {
            "bin_start": 0.1,
            "bin_end": 0.2,
            "count": 0
           },
           {
            "bin_start": 0.2,
            "bin_end": 0.30000000000000004,
            "count": 0
           },
           {
            "bin_start": 0.30000000000000004,
            "bin_end": 0.4,
            "count": 0
           },
           {
            "bin_start": 0.4,
            "bin_end": 0.5,
            "count": 0
           },
           {
            "bin_start": 0.5,
            "bin_end": 0.6000000000000001,
            "count": 0
           },
           {
            "bin_start": 0.6000000000000001,
            "bin_end": 0.7000000000000001,
            "count": 0
           },
           {
            "bin_start": 0.7000000000000001,
            "bin_end": 0.8,
            "count": 0
           },
           {
            "bin_start": 0.8,
            "bin_end": 0.9,
            "count": 0
           },
           {
            "bin_start": 0.9,
            "bin_end": 1,
            "count": 18760
           }
          ]
         }
        },
        {
         "name": "Consumer Discretionary",
         "dtype": "int64"
        },
        {
         "name": "Consumer Staples",
         "dtype": "int64"
        },
        {
         "name": "Energy",
         "dtype": "int64"
        },
        {
         "name": "Financials",
         "dtype": "int64"
        },
        {
         "name": "Health Care",
         "dtype": "int64"
        },
        {
         "name": "Industrials",
         "dtype": "int64"
        },
        {
         "name": "Information Technology",
         "dtype": "int64"
        },
        {
         "name": "Materials",
         "dtype": "int64"
        },
        {
         "name": "Real Estate",
         "dtype": "int64"
        },
        {
         "name": "Utilities",
         "dtype": "int64"
        },
        {
         "name": "_deepnote_index_column",
         "dtype": "int64"
        }
       ],
       "rows": [
        {
         "Communication Services": 1,
         "Consumer Discretionary": 0,
         "Consumer Staples": 0,
         "Energy": 0,
         "Financials": 0,
         "Health Care": 0,
         "Industrials": 0,
         "Information Technology": 0,
         "Materials": 0,
         "Real Estate": 0,
         "Utilities": 0,
         "_deepnote_index_column": 0
        },
        {
         "Communication Services": 0,
         "Consumer Discretionary": 1,
         "Consumer Staples": 0,
         "Energy": 0,
         "Financials": 0,
         "Health Care": 0,
         "Industrials": 0,
         "Information Technology": 1,
         "Materials": 0,
         "Real Estate": 0,
         "Utilities": 0,
         "_deepnote_index_column": 1
        },
        {
         "Communication Services": 0,
         "Consumer Discretionary": 0,
         "Consumer Staples": 0,
         "Energy": 0,
         "Financials": 0,
         "Health Care": 0,
         "Industrials": 0,
         "Information Technology": 1,
         "Materials": 0,
         "Real Estate": 0,
         "Utilities": 0,
         "_deepnote_index_column": 2
        },
        {
         "Communication Services": 0,
         "Consumer Discretionary": 0,
         "Consumer Staples": 0,
         "Energy": 0,
         "Financials": 0,
         "Health Care": 0,
         "Industrials": 0,
         "Information Technology": 1,
         "Materials": 0,
         "Real Estate": 0,
         "Utilities": 0,
         "_deepnote_index_column": 3
        },
        {
         "Communication Services": 0,
         "Consumer Discretionary": 0,
         "Consumer Staples": 0,
         "Energy": 0,
         "Financials": 0,
         "Health Care": 0,
         "Industrials": 1,
         "Information Technology": 0,
         "Materials": 0,
         "Real Estate": 0,
         "Utilities": 0,
         "_deepnote_index_column": 4
        },
        {
         "Communication Services": 1,
         "Consumer Discretionary": 1,
         "Consumer Staples": 0,
         "Energy": 0,
         "Financials": 0,
         "Health Care": 0,
         "Industrials": 0,
         "Information Technology": 1,
         "Materials": 0,
         "Real Estate": 0,
         "Utilities": 0,
         "_deepnote_index_column": 5
        },
        {
         "Communication Services": 0,
         "Consumer Discretionary": 0,
         "Consumer Staples": 0,
         "Energy": 0,
         "Financials": 0,
         "Health Care": 0,
         "Industrials": 0,
         "Information Technology": 1,
         "Materials": 0,
         "Real Estate": 1,
         "Utilities": 0,
         "_deepnote_index_column": 6
        },
        {
         "Communication Services": 0,
         "Consumer Discretionary": 0,
         "Consumer Staples": 0,
         "Energy": 0,
         "Financials": 0,
         "Health Care": 1,
         "Industrials": 0,
         "Information Technology": 0,
         "Materials": 0,
         "Real Estate": 0,
         "Utilities": 0,
         "_deepnote_index_column": 7
        },
        {
         "Communication Services": 0,
         "Consumer Discretionary": 0,
         "Consumer Staples": 0,
         "Energy": 0,
         "Financials": 0,
         "Health Care": 1,
         "Industrials": 0,
         "Information Technology": 0,
         "Materials": 0,
         "Real Estate": 0,
         "Utilities": 0,
         "_deepnote_index_column": 8
        },
        {
         "Communication Services": 1,
         "Consumer Discretionary": 0,
         "Consumer Staples": 0,
         "Energy": 0,
         "Financials": 0,
         "Health Care": 0,
         "Industrials": 1,
         "Information Technology": 0,
         "Materials": 0,
         "Real Estate": 0,
         "Utilities": 0,
         "_deepnote_index_column": 9
        }
       ]
      },
      "text/plain": "       Communication Services  Consumer Discretionary  Consumer Staples  \\\n0                           1                       0                 0   \n1                           0                       1                 0   \n2                           0                       0                 0   \n3                           0                       0                 0   \n4                           0                       0                 0   \n...                       ...                     ...               ...   \n88898                       0                       0                 0   \n88899                       0                       0                 0   \n88900                       0                       0                 0   \n88901                       0                       0                 0   \n88902                       0                       0                 0   \n\n       Energy  Financials  Health Care  Industrials  Information Technology  \\\n0           0           0            0            0                       0   \n1           0           0            0            0                       1   \n2           0           0            0            0                       1   \n3           0           0            0            0                       1   \n4           0           0            0            1                       0   \n...       ...         ...          ...          ...                     ...   \n88898       0           0            0            1                       0   \n88899       0           0            0            1                       0   \n88900       0           0            1            0                       0   \n88901       0           0            1            0                       0   \n88902       0           0            0            0                       1   \n\n       Materials  Real Estate  Utilities  \n0              0            0          0  \n1              0            0          0  \n2              0            0          0  \n3              0            0          0  \n4              0            0          0  \n...          ...          ...        ...  \n88898          0            0          0  \n88899          0            0          0  \n88900          0            0          0  \n88901          0            0          0  \n88902          0            0          0  \n\n[88903 rows x 11 columns]",
      "text/html": "<div>\n<style scoped>\n    .dataframe tbody tr th:only-of-type {\n        vertical-align: middle;\n    }\n\n    .dataframe tbody tr th {\n        vertical-align: top;\n    }\n\n    .dataframe thead th {\n        text-align: right;\n    }\n</style>\n<table border=\"1\" class=\"dataframe\">\n  <thead>\n    <tr style=\"text-align: right;\">\n      <th></th>\n      <th>Communication Services</th>\n      <th>Consumer Discretionary</th>\n      <th>Consumer Staples</th>\n      <th>Energy</th>\n      <th>Financials</th>\n      <th>Health Care</th>\n      <th>Industrials</th>\n      <th>Information Technology</th>\n      <th>Materials</th>\n      <th>Real Estate</th>\n      <th>Utilities</th>\n    </tr>\n  </thead>\n  <tbody>\n    <tr>\n      <th>0</th>\n      <td>1</td>\n      <td>0</td>\n      <td>0</td>\n      <td>0</td>\n      <td>0</td>\n      <td>0</td>\n      <td>0</td>\n      <td>0</td>\n      <td>0</td>\n      <td>0</td>\n      <td>0</td>\n    </tr>\n    <tr>\n      <th>1</th>\n      <td>0</td>\n      <td>1</td>\n      <td>0</td>\n      <td>0</td>\n      <td>0</td>\n      <td>0</td>\n      <td>0</td>\n      <td>1</td>\n      <td>0</td>\n      <td>0</td>\n      <td>0</td>\n    </tr>\n    <tr>\n      <th>2</th>\n      <td>0</td>\n      <td>0</td>\n      <td>0</td>\n      <td>0</td>\n      <td>0</td>\n      <td>0</td>\n      <td>0</td>\n      <td>1</td>\n      <td>0</td>\n      <td>0</td>\n      <td>0</td>\n    </tr>\n    <tr>\n      <th>3</th>\n      <td>0</td>\n      <td>0</td>\n      <td>0</td>\n      <td>0</td>\n      <td>0</td>\n      <td>0</td>\n      <td>0</td>\n      <td>1</td>\n      <td>0</td>\n      <td>0</td>\n      <td>0</td>\n    </tr>\n    <tr>\n      <th>4</th>\n      <td>0</td>\n      <td>0</td>\n      <td>0</td>\n      <td>0</td>\n      <td>0</td>\n      <td>0</td>\n      <td>1</td>\n      <td>0</td>\n      <td>0</td>\n      <td>0</td>\n      <td>0</td>\n    </tr>\n    <tr>\n      <th>...</th>\n      <td>...</td>\n      <td>...</td>\n      <td>...</td>\n      <td>...</td>\n      <td>...</td>\n      <td>...</td>\n      <td>...</td>\n      <td>...</td>\n      <td>...</td>\n      <td>...</td>\n      <td>...</td>\n    </tr>\n    <tr>\n      <th>88898</th>\n      <td>0</td>\n      <td>0</td>\n      <td>0</td>\n      <td>0</td>\n      <td>0</td>\n      <td>0</td>\n      <td>1</td>\n      <td>0</td>\n      <td>0</td>\n      <td>0</td>\n      <td>0</td>\n    </tr>\n    <tr>\n      <th>88899</th>\n      <td>0</td>\n      <td>0</td>\n      <td>0</td>\n      <td>0</td>\n      <td>0</td>\n      <td>0</td>\n      <td>1</td>\n      <td>0</td>\n      <td>0</td>\n      <td>0</td>\n      <td>0</td>\n    </tr>\n    <tr>\n      <th>88900</th>\n      <td>0</td>\n      <td>0</td>\n      <td>0</td>\n      <td>0</td>\n      <td>0</td>\n      <td>1</td>\n      <td>0</td>\n      <td>0</td>\n      <td>0</td>\n      <td>0</td>\n      <td>0</td>\n    </tr>\n    <tr>\n      <th>88901</th>\n      <td>0</td>\n      <td>0</td>\n      <td>0</td>\n      <td>0</td>\n      <td>0</td>\n      <td>1</td>\n      <td>0</td>\n      <td>0</td>\n      <td>0</td>\n      <td>0</td>\n      <td>0</td>\n    </tr>\n    <tr>\n      <th>88902</th>\n      <td>0</td>\n      <td>0</td>\n      <td>0</td>\n      <td>0</td>\n      <td>0</td>\n      <td>0</td>\n      <td>0</td>\n      <td>1</td>\n      <td>0</td>\n      <td>0</td>\n      <td>0</td>\n    </tr>\n  </tbody>\n</table>\n<p>88903 rows × 11 columns</p>\n</div>"
     },
     "metadata": {}
    }
   ],
   "execution_count": null
  },
  {
   "cell_type": "code",
   "metadata": {
    "cell_id": "55c56fb84810425491d0f10fdbb61869",
    "tags": [],
    "deepnote_to_be_reexecuted": false,
    "source_hash": "62951cc8",
    "execution_start": 1651606471915,
    "execution_millis": 262,
    "deepnote_cell_type": "code",
    "deepnote_cell_height": 633
   },
   "source": "final = pd.concat([rounds, overall_categories], axis=1)\nfinal",
   "outputs": [
    {
     "output_type": "execute_result",
     "execution_count": 59,
     "data": {
      "application/vnd.deepnote.dataframe.v3+json": {
       "column_count": 25,
       "row_count": 88903,
       "columns": [
        {
         "name": "company_permalink",
         "dtype": "object",
         "stats": {
          "unique_count": 50550,
          "nan_count": 0,
          "categories": [
           {
            "name": "/organization/solarflare",
            "count": 19
           },
           {
            "name": "/organization/exagen-diagnostics",
            "count": 18
           },
           {
            "name": "50548 others",
            "count": 88866
           }
          ]
         }
        },
        {
         "name": "company_name",
         "dtype": "object"
        },
        {
         "name": "company_country_code",
         "dtype": "object"
        },
        {
         "name": "company_state_code",
         "dtype": "object"
        },
        {
         "name": "company_region",
         "dtype": "object"
        },
        {
         "name": "company_city",
         "dtype": "object"
        },
        {
         "name": "funding_round_permalink",
         "dtype": "object"
        },
        {
         "name": "funding_round_type",
         "dtype": "object"
        },
        {
         "name": "funding_round_code",
         "dtype": "object"
        },
        {
         "name": "funded_at",
         "dtype": "object"
        },
        {
         "name": "raised_amount_usd",
         "dtype": "float64"
        },
        {
         "name": "funding_round",
         "dtype": "object"
        },
        {
         "name": "company_category_list",
         "dtype": "object"
        },
        {
         "name": "company_sector",
         "dtype": "object"
        },
        {
         "name": "Communication Services",
         "dtype": "int64"
        },
        {
         "name": "Consumer Discretionary",
         "dtype": "int64"
        },
        {
         "name": "Consumer Staples",
         "dtype": "int64"
        },
        {
         "name": "Energy",
         "dtype": "int64"
        },
        {
         "name": "Financials",
         "dtype": "int64"
        },
        {
         "name": "Health Care",
         "dtype": "int64"
        },
        {
         "name": "Industrials",
         "dtype": "int64"
        },
        {
         "name": "Information Technology",
         "dtype": "int64"
        },
        {
         "name": "Materials",
         "dtype": "int64"
        },
        {
         "name": "Real Estate",
         "dtype": "int64"
        },
        {
         "name": "Utilities",
         "dtype": "int64"
        },
        {
         "name": "_deepnote_index_column",
         "dtype": "int64"
        }
       ],
       "rows": [
        {
         "company_permalink": "/organization/-fame",
         "company_name": "#fame",
         "company_country_code": "IND",
         "company_state_code": "16",
         "company_region": "Mumbai",
         "company_city": "Mumbai",
         "funding_round_permalink": "/funding-round/9a01d05418af9f794eebff7ace91f638",
         "funding_round_type": "venture",
         "funding_round_code": "B",
         "funded_at": "2015-01-05",
         "raised_amount_usd": 10000000,
         "funding_round": "venture B",
         "company_category_list": "['Media']",
         "company_sector": "['Communication Services']",
         "Communication Services": 1,
         "Consumer Discretionary": 0,
         "Consumer Staples": 0,
         "Energy": 0,
         "Financials": 0,
         "Health Care": 0,
         "Industrials": 0,
         "Information Technology": 0,
         "Materials": 0,
         "Real Estate": 0,
         "Utilities": 0,
         "_deepnote_index_column": 0
        },
        {
         "company_permalink": "/organization/-the-one-of-them-inc-",
         "company_name": "(THE) ONE of THEM,Inc.",
         "company_country_code": "nan",
         "company_state_code": "nan",
         "company_region": "nan",
         "company_city": "nan",
         "funding_round_permalink": "/funding-round/650b8f704416801069bb178a1418776b",
         "funding_round_type": "venture",
         "funding_round_code": "B",
         "funded_at": "2014-01-30",
         "raised_amount_usd": 3406878,
         "funding_round": "venture B",
         "company_category_list": "['Apps', 'Games', 'Mobile']",
         "company_sector": "['Information Technology', 'Consumer Discretionary']",
         "Communication Services": 0,
         "Consumer Discretionary": 1,
         "Consumer Staples": 0,
         "Energy": 0,
         "Financials": 0,
         "Health Care": 0,
         "Industrials": 0,
         "Information Technology": 1,
         "Materials": 0,
         "Real Estate": 0,
         "Utilities": 0,
         "_deepnote_index_column": 1
        },
        {
         "company_permalink": "/organization/0-6-com",
         "company_name": "0-6.com",
         "company_country_code": "CHN",
         "company_state_code": "22",
         "company_region": "Beijing",
         "company_city": "Beijing",
         "funding_round_permalink": "/funding-round/5727accaeaa57461bd22a9bdd945382d",
         "funding_round_type": "venture",
         "funding_round_code": "A",
         "funded_at": "2008-03-19",
         "raised_amount_usd": 2000000,
         "funding_round": "venture A",
         "company_category_list": "['Curated Web']",
         "company_sector": "['Information Technology']",
         "Communication Services": 0,
         "Consumer Discretionary": 0,
         "Consumer Staples": 0,
         "Energy": 0,
         "Financials": 0,
         "Health Care": 0,
         "Industrials": 0,
         "Information Technology": 1,
         "Materials": 0,
         "Real Estate": 0,
         "Utilities": 0,
         "_deepnote_index_column": 2
        },
        {
         "company_permalink": "/organization/004-technologies",
         "company_name": "004 Technologies",
         "company_country_code": "USA",
         "company_state_code": "IL",
         "company_region": "Springfield, Illinois",
         "company_city": "Champaign",
         "funding_round_permalink": "/funding-round/1278dd4e6a37fa4b7d7e06c21b3c1830",
         "funding_round_type": "venture",
         "funding_round_code": "nan",
         "funded_at": "2014-07-24",
         "raised_amount_usd": "nan",
         "funding_round": "venture",
         "company_category_list": "['Software']",
         "company_sector": "['Information Technology']",
         "Communication Services": 0,
         "Consumer Discretionary": 0,
         "Consumer Staples": 0,
         "Energy": 0,
         "Financials": 0,
         "Health Care": 0,
         "Industrials": 0,
         "Information Technology": 1,
         "Materials": 0,
         "Real Estate": 0,
         "Utilities": 0,
         "_deepnote_index_column": 3
        },
        {
         "company_permalink": "/organization/1-2-3-listo",
         "company_name": "1,2,3 Listo",
         "company_country_code": "CHL",
         "company_state_code": "12",
         "company_region": "Santiago",
         "company_city": "Las Condes",
         "funding_round_permalink": "/funding-round/6de4609e894495105bc791ed64361288",
         "funding_round_type": "seed",
         "funding_round_code": "nan",
         "funded_at": "2013-02-18",
         "raised_amount_usd": 40000,
         "funding_round": "seed",
         "company_category_list": "['E-Commerce']",
         "company_sector": "['Industrials']",
         "Communication Services": 0,
         "Consumer Discretionary": 0,
         "Consumer Staples": 0,
         "Energy": 0,
         "Financials": 0,
         "Health Care": 0,
         "Industrials": 1,
         "Information Technology": 0,
         "Materials": 0,
         "Real Estate": 0,
         "Utilities": 0,
         "_deepnote_index_column": 4
        },
        {
         "company_permalink": "/organization/1-4-all",
         "company_name": "1-4 All",
         "company_country_code": "USA",
         "company_state_code": "NC",
         "company_region": "NC - Other",
         "company_city": "Connellys Springs",
         "funding_round_permalink": "/funding-round/e97a192e13ea0ee3c4f71136b4f3ec16",
         "funding_round_type": "equity_crowdfunding",
         "funding_round_code": "nan",
         "funded_at": "2013-04-21",
         "raised_amount_usd": "nan",
         "funding_round": "equity_crowdfunding",
         "company_category_list": "['Entertainment', 'Games', 'Software']",
         "company_sector": "['Communication Services', 'Consumer Discretionary', 'Information Technology']",
         "Communication Services": 1,
         "Consumer Discretionary": 1,
         "Consumer Staples": 0,
         "Energy": 0,
         "Financials": 0,
         "Health Care": 0,
         "Industrials": 0,
         "Information Technology": 1,
         "Materials": 0,
         "Real Estate": 0,
         "Utilities": 0,
         "_deepnote_index_column": 5
        },
        {
         "company_permalink": "/organization/1-618-technology",
         "company_name": "1.618 Technology",
         "company_country_code": "USA",
         "company_state_code": "FL",
         "company_region": "Orlando",
         "company_city": "Orlando",
         "funding_round_permalink": "/funding-round/83b8f4c7d37ecef5e001a5e953bf461a",
         "funding_round_type": "equity_crowdfunding",
         "funding_round_code": "nan",
         "funded_at": "2014-01-22",
         "raised_amount_usd": "nan",
         "funding_round": "equity_crowdfunding",
         "company_category_list": "['Networking', 'Real Estate', 'Web Hosting']",
         "company_sector": "['Information Technology', 'Real Estate']",
         "Communication Services": 0,
         "Consumer Discretionary": 0,
         "Consumer Staples": 0,
         "Energy": 0,
         "Financials": 0,
         "Health Care": 0,
         "Industrials": 0,
         "Information Technology": 1,
         "Materials": 0,
         "Real Estate": 1,
         "Utilities": 0,
         "_deepnote_index_column": 6
        },
        {
         "company_permalink": "/organization/1-800-dentist",
         "company_name": "1-800-DENTIST",
         "company_country_code": "USA",
         "company_state_code": "CA",
         "company_region": "Los Angeles",
         "company_city": "Los Angeles",
         "funding_round_permalink": "/funding-round/5274aacc211163fc7c86539ce94bbacc",
         "funding_round_type": "undisclosed",
         "funding_round_code": "nan",
         "funded_at": "2010-08-19",
         "raised_amount_usd": "nan",
         "funding_round": "undisclosed",
         "company_category_list": "['Health and Wellness']",
         "company_sector": "['Health Care']",
         "Communication Services": 0,
         "Consumer Discretionary": 0,
         "Consumer Staples": 0,
         "Energy": 0,
         "Financials": 0,
         "Health Care": 1,
         "Industrials": 0,
         "Information Technology": 0,
         "Materials": 0,
         "Real Estate": 0,
         "Utilities": 0,
         "_deepnote_index_column": 7
        },
        {
         "company_permalink": "/organization/1-800-doctors",
         "company_name": "1-800-DOCTORS",
         "company_country_code": "USA",
         "company_state_code": "NJ",
         "company_region": "Newark",
         "company_city": "Iselin",
         "funding_round_permalink": "/funding-round/9eb8c7790a0c200d79e75785d1c4aa12",
         "funding_round_type": "convertible_note",
         "funding_round_code": "nan",
         "funded_at": "2011-03-02",
         "raised_amount_usd": 1750000,
         "funding_round": "convertible_note",
         "company_category_list": "['Health and Wellness']",
         "company_sector": "['Health Care']",
         "Communication Services": 0,
         "Consumer Discretionary": 0,
         "Consumer Staples": 0,
         "Energy": 0,
         "Financials": 0,
         "Health Care": 1,
         "Industrials": 0,
         "Information Technology": 0,
         "Materials": 0,
         "Real Estate": 0,
         "Utilities": 0,
         "_deepnote_index_column": 8
        },
        {
         "company_permalink": "/organization/1-800-publicrelations-inc-",
         "company_name": "1-800-PublicRelations, Inc.",
         "company_country_code": "USA",
         "company_state_code": "NY",
         "company_region": "New York City",
         "company_city": "New York",
         "funding_round_permalink": "/funding-round/11c228f58831bc7ed337ef69ecc560c2",
         "funding_round_type": "private_equity",
         "funding_round_code": "nan",
         "funded_at": "2015-02-01",
         "raised_amount_usd": 6000000,
         "funding_round": "private_equity",
         "company_category_list": "['Internet Marketing', 'Media', 'Public Relations']",
         "company_sector": "['Communication Services', 'Industrials']",
         "Communication Services": 1,
         "Consumer Discretionary": 0,
         "Consumer Staples": 0,
         "Energy": 0,
         "Financials": 0,
         "Health Care": 0,
         "Industrials": 1,
         "Information Technology": 0,
         "Materials": 0,
         "Real Estate": 0,
         "Utilities": 0,
         "_deepnote_index_column": 9
        }
       ]
      },
      "text/plain": "                                       company_permalink  \\\n0                                    /organization/-fame   \n1                    /organization/-the-one-of-them-inc-   \n2                                  /organization/0-6-com   \n3                         /organization/004-technologies   \n4                              /organization/1-2-3-listo   \n...                                                  ...   \n88898                                /organization/zyrra   \n88899                                /organization/zyrra   \n88900                               /organization/zystor   \n88901                           /organization/zytoprotec   \n88902  /organization/zznode-science-and-technology-co...   \n\n                        company_name company_country_code company_state_code  \\\n0                              #fame                  IND                 16   \n1             (THE) ONE of THEM,Inc.                  NaN                NaN   \n2                            0-6.com                  CHN                 22   \n3                   004 Technologies                  USA                 IL   \n4                        1,2,3 Listo                  CHL                 12   \n...                              ...                  ...                ...   \n88898                          Zyrra                  USA                 MA   \n88899                          Zyrra                  USA                 MA   \n88900                         Zystor                  USA                 WI   \n88901                     Zytoprotec                  AUT                  3   \n88902  ZZNode Science and Technology                  CHN                 22   \n\n              company_region        company_city  \\\n0                     Mumbai              Mumbai   \n1                        NaN                 NaN   \n2                    Beijing             Beijing   \n3      Springfield, Illinois           Champaign   \n4                   Santiago          Las Condes   \n...                      ...                 ...   \n88898                 Boston           Cambridge   \n88899                 Boston           Cambridge   \n88900              Milwaukee           Milwaukee   \n88901                 Vienna  Gerasdorf Bei Wien   \n88902                Beijing             Beijing   \n\n                               funding_round_permalink funding_round_type  \\\n0      /funding-round/9a01d05418af9f794eebff7ace91f638            venture   \n1      /funding-round/650b8f704416801069bb178a1418776b            venture   \n2      /funding-round/5727accaeaa57461bd22a9bdd945382d            venture   \n3      /funding-round/1278dd4e6a37fa4b7d7e06c21b3c1830            venture   \n4      /funding-round/6de4609e894495105bc791ed64361288               seed   \n...                                                ...                ...   \n88898  /funding-round/7a0fa791c96c9c447ee54662395beab9            venture   \n88899  /funding-round/cc8cd96a500332d5b4f4bcbddb306099              angel   \n88900  /funding-round/7ea37c0ff4132b084832039a9380d34e            venture   \n88901  /funding-round/0c43e717298296d2fb334fb236300f6e            venture   \n88902  /funding-round/171693e1e07e0230defd8fddb6de4515            venture   \n\n      funding_round_code   funded_at  ...  Consumer Discretionary  \\\n0                      B  2015-01-05  ...                       0   \n1                      B  2014-01-30  ...                       1   \n2                      A  2008-03-19  ...                       0   \n3                    NaN  2014-07-24  ...                       0   \n4                    NaN  2013-02-18  ...                       0   \n...                  ...         ...  ...                     ...   \n88898                NaN  2012-10-18  ...                       0   \n88899                NaN  2010-12-15  ...                       0   \n88900                  A  2004-12-16  ...                       0   \n88901                  A  2013-01-29  ...                       0   \n88902                  A  2012-04-01  ...                       0   \n\n      Consumer Staples Energy Financials  Health Care  Industrials  \\\n0                    0      0          0            0            0   \n1                    0      0          0            0            0   \n2                    0      0          0            0            0   \n3                    0      0          0            0            0   \n4                    0      0          0            0            1   \n...                ...    ...        ...          ...          ...   \n88898                0      0          0            0            1   \n88899                0      0          0            0            1   \n88900                0      0          0            1            0   \n88901                0      0          0            1            0   \n88902                0      0          0            0            0   \n\n       Information Technology  Materials  Real Estate  Utilities  \n0                           0          0            0          0  \n1                           1          0            0          0  \n2                           1          0            0          0  \n3                           1          0            0          0  \n4                           0          0            0          0  \n...                       ...        ...          ...        ...  \n88898                       0          0            0          0  \n88899                       0          0            0          0  \n88900                       0          0            0          0  \n88901                       0          0            0          0  \n88902                       1          0            0          0  \n\n[88903 rows x 25 columns]",
      "text/html": "<div>\n<style scoped>\n    .dataframe tbody tr th:only-of-type {\n        vertical-align: middle;\n    }\n\n    .dataframe tbody tr th {\n        vertical-align: top;\n    }\n\n    .dataframe thead th {\n        text-align: right;\n    }\n</style>\n<table border=\"1\" class=\"dataframe\">\n  <thead>\n    <tr style=\"text-align: right;\">\n      <th></th>\n      <th>company_permalink</th>\n      <th>company_name</th>\n      <th>company_country_code</th>\n      <th>company_state_code</th>\n      <th>company_region</th>\n      <th>company_city</th>\n      <th>funding_round_permalink</th>\n      <th>funding_round_type</th>\n      <th>funding_round_code</th>\n      <th>funded_at</th>\n      <th>...</th>\n      <th>Consumer Discretionary</th>\n      <th>Consumer Staples</th>\n      <th>Energy</th>\n      <th>Financials</th>\n      <th>Health Care</th>\n      <th>Industrials</th>\n      <th>Information Technology</th>\n      <th>Materials</th>\n      <th>Real Estate</th>\n      <th>Utilities</th>\n    </tr>\n  </thead>\n  <tbody>\n    <tr>\n      <th>0</th>\n      <td>/organization/-fame</td>\n      <td>#fame</td>\n      <td>IND</td>\n      <td>16</td>\n      <td>Mumbai</td>\n      <td>Mumbai</td>\n      <td>/funding-round/9a01d05418af9f794eebff7ace91f638</td>\n      <td>venture</td>\n      <td>B</td>\n      <td>2015-01-05</td>\n      <td>...</td>\n      <td>0</td>\n      <td>0</td>\n      <td>0</td>\n      <td>0</td>\n      <td>0</td>\n      <td>0</td>\n      <td>0</td>\n      <td>0</td>\n      <td>0</td>\n      <td>0</td>\n    </tr>\n    <tr>\n      <th>1</th>\n      <td>/organization/-the-one-of-them-inc-</td>\n      <td>(THE) ONE of THEM,Inc.</td>\n      <td>NaN</td>\n      <td>NaN</td>\n      <td>NaN</td>\n      <td>NaN</td>\n      <td>/funding-round/650b8f704416801069bb178a1418776b</td>\n      <td>venture</td>\n      <td>B</td>\n      <td>2014-01-30</td>\n      <td>...</td>\n      <td>1</td>\n      <td>0</td>\n      <td>0</td>\n      <td>0</td>\n      <td>0</td>\n      <td>0</td>\n      <td>1</td>\n      <td>0</td>\n      <td>0</td>\n      <td>0</td>\n    </tr>\n    <tr>\n      <th>2</th>\n      <td>/organization/0-6-com</td>\n      <td>0-6.com</td>\n      <td>CHN</td>\n      <td>22</td>\n      <td>Beijing</td>\n      <td>Beijing</td>\n      <td>/funding-round/5727accaeaa57461bd22a9bdd945382d</td>\n      <td>venture</td>\n      <td>A</td>\n      <td>2008-03-19</td>\n      <td>...</td>\n      <td>0</td>\n      <td>0</td>\n      <td>0</td>\n      <td>0</td>\n      <td>0</td>\n      <td>0</td>\n      <td>1</td>\n      <td>0</td>\n      <td>0</td>\n      <td>0</td>\n    </tr>\n    <tr>\n      <th>3</th>\n      <td>/organization/004-technologies</td>\n      <td>004 Technologies</td>\n      <td>USA</td>\n      <td>IL</td>\n      <td>Springfield, Illinois</td>\n      <td>Champaign</td>\n      <td>/funding-round/1278dd4e6a37fa4b7d7e06c21b3c1830</td>\n      <td>venture</td>\n      <td>NaN</td>\n      <td>2014-07-24</td>\n      <td>...</td>\n      <td>0</td>\n      <td>0</td>\n      <td>0</td>\n      <td>0</td>\n      <td>0</td>\n      <td>0</td>\n      <td>1</td>\n      <td>0</td>\n      <td>0</td>\n      <td>0</td>\n    </tr>\n    <tr>\n      <th>4</th>\n      <td>/organization/1-2-3-listo</td>\n      <td>1,2,3 Listo</td>\n      <td>CHL</td>\n      <td>12</td>\n      <td>Santiago</td>\n      <td>Las Condes</td>\n      <td>/funding-round/6de4609e894495105bc791ed64361288</td>\n      <td>seed</td>\n      <td>NaN</td>\n      <td>2013-02-18</td>\n      <td>...</td>\n      <td>0</td>\n      <td>0</td>\n      <td>0</td>\n      <td>0</td>\n      <td>0</td>\n      <td>1</td>\n      <td>0</td>\n      <td>0</td>\n      <td>0</td>\n      <td>0</td>\n    </tr>\n    <tr>\n      <th>...</th>\n      <td>...</td>\n      <td>...</td>\n      <td>...</td>\n      <td>...</td>\n      <td>...</td>\n      <td>...</td>\n      <td>...</td>\n      <td>...</td>\n      <td>...</td>\n      <td>...</td>\n      <td>...</td>\n      <td>...</td>\n      <td>...</td>\n      <td>...</td>\n      <td>...</td>\n      <td>...</td>\n      <td>...</td>\n      <td>...</td>\n      <td>...</td>\n      <td>...</td>\n      <td>...</td>\n    </tr>\n    <tr>\n      <th>88898</th>\n      <td>/organization/zyrra</td>\n      <td>Zyrra</td>\n      <td>USA</td>\n      <td>MA</td>\n      <td>Boston</td>\n      <td>Cambridge</td>\n      <td>/funding-round/7a0fa791c96c9c447ee54662395beab9</td>\n      <td>venture</td>\n      <td>NaN</td>\n      <td>2012-10-18</td>\n      <td>...</td>\n      <td>0</td>\n      <td>0</td>\n      <td>0</td>\n      <td>0</td>\n      <td>0</td>\n      <td>1</td>\n      <td>0</td>\n      <td>0</td>\n      <td>0</td>\n      <td>0</td>\n    </tr>\n    <tr>\n      <th>88899</th>\n      <td>/organization/zyrra</td>\n      <td>Zyrra</td>\n      <td>USA</td>\n      <td>MA</td>\n      <td>Boston</td>\n      <td>Cambridge</td>\n      <td>/funding-round/cc8cd96a500332d5b4f4bcbddb306099</td>\n      <td>angel</td>\n      <td>NaN</td>\n      <td>2010-12-15</td>\n      <td>...</td>\n      <td>0</td>\n      <td>0</td>\n      <td>0</td>\n      <td>0</td>\n      <td>0</td>\n      <td>1</td>\n      <td>0</td>\n      <td>0</td>\n      <td>0</td>\n      <td>0</td>\n    </tr>\n    <tr>\n      <th>88900</th>\n      <td>/organization/zystor</td>\n      <td>Zystor</td>\n      <td>USA</td>\n      <td>WI</td>\n      <td>Milwaukee</td>\n      <td>Milwaukee</td>\n      <td>/funding-round/7ea37c0ff4132b084832039a9380d34e</td>\n      <td>venture</td>\n      <td>A</td>\n      <td>2004-12-16</td>\n      <td>...</td>\n      <td>0</td>\n      <td>0</td>\n      <td>0</td>\n      <td>0</td>\n      <td>1</td>\n      <td>0</td>\n      <td>0</td>\n      <td>0</td>\n      <td>0</td>\n      <td>0</td>\n    </tr>\n    <tr>\n      <th>88901</th>\n      <td>/organization/zytoprotec</td>\n      <td>Zytoprotec</td>\n      <td>AUT</td>\n      <td>3</td>\n      <td>Vienna</td>\n      <td>Gerasdorf Bei Wien</td>\n      <td>/funding-round/0c43e717298296d2fb334fb236300f6e</td>\n      <td>venture</td>\n      <td>A</td>\n      <td>2013-01-29</td>\n      <td>...</td>\n      <td>0</td>\n      <td>0</td>\n      <td>0</td>\n      <td>0</td>\n      <td>1</td>\n      <td>0</td>\n      <td>0</td>\n      <td>0</td>\n      <td>0</td>\n      <td>0</td>\n    </tr>\n    <tr>\n      <th>88902</th>\n      <td>/organization/zznode-science-and-technology-co...</td>\n      <td>ZZNode Science and Technology</td>\n      <td>CHN</td>\n      <td>22</td>\n      <td>Beijing</td>\n      <td>Beijing</td>\n      <td>/funding-round/171693e1e07e0230defd8fddb6de4515</td>\n      <td>venture</td>\n      <td>A</td>\n      <td>2012-04-01</td>\n      <td>...</td>\n      <td>0</td>\n      <td>0</td>\n      <td>0</td>\n      <td>0</td>\n      <td>0</td>\n      <td>0</td>\n      <td>1</td>\n      <td>0</td>\n      <td>0</td>\n      <td>0</td>\n    </tr>\n  </tbody>\n</table>\n<p>88903 rows × 25 columns</p>\n</div>"
     },
     "metadata": {}
    }
   ],
   "execution_count": null
  },
  {
   "cell_type": "markdown",
   "source": "### 9.1. \"Communication Services\" round index",
   "metadata": {
    "cell_id": "4aed0dddaf61403498ade7be8de89829",
    "tags": [],
    "deepnote_cell_type": "markdown",
    "deepnote_cell_height": 62
   }
  },
  {
   "cell_type": "code",
   "metadata": {
    "cell_id": "1457b055cc0246ca88ccc972fce68813",
    "tags": [],
    "deepnote_to_be_reexecuted": false,
    "source_hash": "d939524c",
    "execution_start": 1651606472179,
    "execution_millis": 1262,
    "deepnote_cell_type": "code",
    "deepnote_cell_height": 477
   },
   "source": "with open('sectors json/sector_rounds_communication_services.json') as json_file:\n    sector_rounds_communication_services_dict = json.load(json_file)\n\nsector_rounds_communication_services_index = pd.DataFrame.from_dict(sector_rounds_communication_services_dict, orient='index')\nsector_rounds_communication_services_index.index = [parse_tuple(item) for item in list(sector_rounds_communication_services_index.index)]\n\nsector_rounds_communication_services_index.index = pd.MultiIndex.from_tuples(sector_rounds_communication_services_index.index)\nsector_rounds_communication_services_index.index.names = ['communication_services', 'round']\n\nsector_rounds_communication_services_index_dict = sector_rounds_communication_services_index.to_dict()[0]\n\ndef sec_rnd_communication_ix(row):\n    sector = row['Communication Services']\n    comm_round = row['funding_round']\n\n    if sector == 0:\n        return int(0)\n    else:\n        search_key = tuple((sector, comm_round))\n        value = sector_rounds_communication_services_index_dict[search_key]\n        return int(value)\n\nfinal['Communication_Services_round_index'] = final.apply(sec_rnd_communication_ix, axis=1)",
   "outputs": [],
   "execution_count": null
  },
  {
   "cell_type": "markdown",
   "source": "### 9.2. \"Consumer Discretionary\" round index",
   "metadata": {
    "cell_id": "ff20d9628d1d4c82addeef547a23bcb4",
    "tags": [],
    "deepnote_cell_type": "markdown",
    "deepnote_cell_height": 62
   }
  },
  {
   "cell_type": "code",
   "metadata": {
    "cell_id": "dbfddef61d7d4138ab2bdebeacfd1d95",
    "tags": [],
    "deepnote_to_be_reexecuted": false,
    "source_hash": "faf8c72e",
    "execution_start": 1651606473458,
    "execution_millis": 1230,
    "deepnote_cell_type": "code",
    "deepnote_cell_height": 477
   },
   "source": "with open('sectors json/sector_rounds_consumer_discretionary.json') as json_file:\n    sector_rounds_consumer_discretionary_dict = json.load(json_file)\n\nsector_rounds_consumer_discretionary_index = pd.DataFrame.from_dict(sector_rounds_consumer_discretionary_dict, orient='index')\nsector_rounds_consumer_discretionary_index.index = [parse_tuple(item) for item in list(sector_rounds_consumer_discretionary_index.index)]\n\nsector_rounds_consumer_discretionary_index.index = pd.MultiIndex.from_tuples(sector_rounds_consumer_discretionary_index.index)\nsector_rounds_consumer_discretionary_index.index.names = ['consumer_discretionary', 'round']\n\nsector_rounds_consumer_discretionary_index_dict = sector_rounds_consumer_discretionary_index.to_dict()[0]\n\ndef sec_rnd_consumer_discretionary_ix(row):\n    sector = row['Consumer Discretionary']\n    comm_round = row['funding_round']\n\n    if sector == 0:\n        return int(0)\n    else:\n        search_key = tuple((sector, comm_round))\n        value = sector_rounds_consumer_discretionary_index_dict[search_key]\n        return int(value)\n\nfinal['Consumer_Discretionary_round_index'] = final.apply(sec_rnd_consumer_discretionary_ix, axis=1)",
   "outputs": [],
   "execution_count": null
  },
  {
   "cell_type": "markdown",
   "source": "### 9.3. \"Consumer Staples\" round index",
   "metadata": {
    "cell_id": "eedcead6084f4ee2a01886cdbaebb0c1",
    "tags": [],
    "deepnote_cell_type": "markdown",
    "deepnote_cell_height": 62
   }
  },
  {
   "cell_type": "code",
   "metadata": {
    "cell_id": "d05b2cf91be34c99aeddb0885c16e3bf",
    "tags": [],
    "deepnote_to_be_reexecuted": false,
    "source_hash": "56df6fae",
    "execution_start": 1651606474699,
    "execution_millis": 1160,
    "deepnote_cell_type": "code",
    "deepnote_cell_height": 477
   },
   "source": "with open('sectors json/sector_rounds_consumer_staples.json') as json_file:\n    sector_rounds_consumer_staples_dict = json.load(json_file)\n\nsector_rounds_consumer_staples_index = pd.DataFrame.from_dict(sector_rounds_consumer_staples_dict, orient='index')\nsector_rounds_consumer_staples_index.index = [parse_tuple(item) for item in list(sector_rounds_consumer_staples_index.index)]\n\nsector_rounds_consumer_staples_index.index = pd.MultiIndex.from_tuples(sector_rounds_consumer_staples_index.index)\nsector_rounds_consumer_staples_index.index.names = ['consumer_staples', 'round']\n\nsector_rounds_consumer_staples_index_dict = sector_rounds_consumer_staples_index.to_dict()[0]\n\ndef sec_rnd_consumer_staples_ix(row):\n    sector = row['Consumer Staples']\n    comm_round = row['funding_round']\n\n    if sector == 0:\n        return int(0)\n    else:\n        search_key = tuple((sector, comm_round))\n        value = sector_rounds_consumer_staples_index_dict[search_key]\n        return int(value)\n\nfinal['Consumer_Staples_round_index'] = final.apply(sec_rnd_consumer_staples_ix, axis=1)",
   "outputs": [],
   "execution_count": null
  },
  {
   "cell_type": "markdown",
   "source": "### 9.4. \"Energy\" round index",
   "metadata": {
    "cell_id": "a005d95200c849ae9428d730dcda0295",
    "tags": [],
    "deepnote_cell_type": "markdown",
    "deepnote_cell_height": 62
   }
  },
  {
   "cell_type": "code",
   "metadata": {
    "cell_id": "6c67a08acfa94acd8a34cced91ad78b4",
    "tags": [],
    "deepnote_to_be_reexecuted": false,
    "source_hash": "a9ebfed0",
    "execution_start": 1651606475866,
    "execution_millis": 1196,
    "deepnote_cell_type": "code",
    "deepnote_cell_height": 477
   },
   "source": "with open('sectors json/sector_rounds_energy.json') as json_file:\n    sector_rounds_energy_dict = json.load(json_file)\n\nsector_rounds_energy_index = pd.DataFrame.from_dict(sector_rounds_energy_dict, orient='index')\nsector_rounds_energy_index.index = [parse_tuple(item) for item in list(sector_rounds_energy_index.index)]\n\nsector_rounds_energy_index.index = pd.MultiIndex.from_tuples(sector_rounds_energy_index.index)\nsector_rounds_energy_index.index.names = ['energy', 'round']\n\nsector_rounds_energy_index_dict = sector_rounds_energy_index.to_dict()[0]\n\ndef sec_rnd_energy_ix(row):\n    sector = row['Energy']\n    comm_round = row['funding_round']\n\n    if sector == 0:\n        return int(0)\n    else:\n        search_key = tuple((sector, comm_round))\n        value = sector_rounds_energy_index_dict[search_key]\n        return int(value)\n\nfinal['Energy_round_index'] = final.apply(sec_rnd_energy_ix, axis=1)",
   "outputs": [],
   "execution_count": null
  },
  {
   "cell_type": "markdown",
   "source": "### 9.5. \"Financials\" round index",
   "metadata": {
    "cell_id": "a3ba39a941324c6996d3f6e128c2bdbd",
    "tags": [],
    "deepnote_cell_type": "markdown",
    "deepnote_cell_height": 62
   }
  },
  {
   "cell_type": "code",
   "metadata": {
    "cell_id": "3b1453a636454e6b913f4312fa23e055",
    "tags": [],
    "deepnote_to_be_reexecuted": false,
    "source_hash": "3a1f3dbb",
    "execution_start": 1651606477066,
    "execution_millis": 1325,
    "deepnote_cell_type": "code",
    "deepnote_cell_height": 477
   },
   "source": "with open('sectors json/sector_rounds_financials.json') as json_file:\n    sector_rounds_financials_dict = json.load(json_file)\n\nsector_rounds_financials_index = pd.DataFrame.from_dict(sector_rounds_financials_dict, orient='index')\nsector_rounds_financials_index.index = [parse_tuple(item) for item in list(sector_rounds_financials_index.index)]\n\nsector_rounds_financials_index.index = pd.MultiIndex.from_tuples(sector_rounds_financials_index.index)\nsector_rounds_financials_index.index.names = ['financials', 'round']\n\nsector_rounds_financials_index_dict = sector_rounds_financials_index.to_dict()[0]\n\ndef sec_rnd_financials_ix(row):\n    sector = row['Financials']\n    comm_round = row['funding_round']\n\n    if sector == 0:\n        return int(0)\n    else:\n        search_key = tuple((sector, comm_round))\n        value = sector_rounds_financials_index_dict[search_key]\n        return int(value)\n\nfinal['Financials_round_index'] = final.apply(sec_rnd_financials_ix, axis=1)",
   "outputs": [],
   "execution_count": null
  },
  {
   "cell_type": "markdown",
   "source": "### 9.6. \"Health Care\" round index",
   "metadata": {
    "cell_id": "f7dc200498c24ff5a8a3beed9029c024",
    "tags": [],
    "deepnote_cell_type": "markdown",
    "deepnote_cell_height": 62
   }
  },
  {
   "cell_type": "code",
   "metadata": {
    "cell_id": "0d951a42d5144f3c8f08213ef8882eee",
    "tags": [],
    "deepnote_to_be_reexecuted": false,
    "source_hash": "725ac321",
    "execution_start": 1651606478397,
    "execution_millis": 1271,
    "deepnote_cell_type": "code",
    "deepnote_cell_height": 477
   },
   "source": "with open('sectors json/sector_rounds_health_care.json') as json_file:\n    sector_rounds_health_care_dict = json.load(json_file)\n\nsector_rounds_health_care_index = pd.DataFrame.from_dict(sector_rounds_health_care_dict, orient='index')\nsector_rounds_health_care_index.index = [parse_tuple(item) for item in list(sector_rounds_health_care_index.index)]\n\nsector_rounds_health_care_index.index = pd.MultiIndex.from_tuples(sector_rounds_health_care_index.index)\nsector_rounds_health_care_index.index.names = ['Health Care', 'round']\n\nsector_rounds_health_care_index_dict = sector_rounds_health_care_index.to_dict()[0]\n\ndef sec_rnd_health_care_ix(row):\n    sector = row['Health Care']\n    comm_round = row['funding_round']\n\n    if sector == 0:\n        return int(0)\n    else:\n        search_key = tuple((sector, comm_round))\n        value = sector_rounds_health_care_index_dict[search_key]\n        return int(value)\n\nfinal['Health_Care_round_index'] = final.apply(sec_rnd_health_care_ix, axis=1)",
   "outputs": [],
   "execution_count": null
  },
  {
   "cell_type": "markdown",
   "source": "### 9.7. \"Industrials\" round index",
   "metadata": {
    "cell_id": "f8facc9d0d934bd88c0e03d143af4eb2",
    "tags": [],
    "deepnote_cell_type": "markdown",
    "deepnote_cell_height": 62
   }
  },
  {
   "cell_type": "code",
   "metadata": {
    "cell_id": "5113afdc87e14c9eb16bbab627a9d999",
    "tags": [],
    "deepnote_to_be_reexecuted": false,
    "source_hash": "525c23c",
    "execution_start": 1651606479668,
    "execution_millis": 1221,
    "deepnote_cell_type": "code",
    "deepnote_cell_height": 477
   },
   "source": "with open('sectors json/sector_rounds_industrials.json') as json_file:\n    sector_rounds_industrials_dict = json.load(json_file)\n\nsector_rounds_industrials_index = pd.DataFrame.from_dict(sector_rounds_industrials_dict, orient='index')\nsector_rounds_industrials_index.index = [parse_tuple(item) for item in list(sector_rounds_industrials_index.index)]\n\nsector_rounds_industrials_index.index = pd.MultiIndex.from_tuples(sector_rounds_industrials_index.index)\nsector_rounds_industrials_index.index.names = ['Industrials', 'round']\n\nsector_rounds_industrials_index_dict = sector_rounds_industrials_index.to_dict()[0]\n\ndef sec_rnd_industrials_ix(row):\n    sector = row['Industrials']\n    comm_round = row['funding_round']\n\n    if sector == 0:\n        return int(0)\n    else:\n        search_key = tuple((sector, comm_round))\n        value = sector_rounds_industrials_index_dict[search_key]\n        return int(value)\n\nfinal['Industrials_round_index'] = final.apply(sec_rnd_industrials_ix, axis=1)",
   "outputs": [],
   "execution_count": null
  },
  {
   "cell_type": "markdown",
   "source": "### 9.8. \"Information Technology\" round index",
   "metadata": {
    "cell_id": "5dcbf2e0ce0c49588ab6560b3182dbbe",
    "tags": [],
    "deepnote_cell_type": "markdown",
    "deepnote_cell_height": 62
   }
  },
  {
   "cell_type": "code",
   "metadata": {
    "cell_id": "ab9b64a647a447e5b6ecf55e18622212",
    "tags": [],
    "deepnote_to_be_reexecuted": false,
    "source_hash": "931ad2f7",
    "execution_start": 1651606480894,
    "execution_millis": 1207,
    "deepnote_cell_type": "code",
    "deepnote_cell_height": 477
   },
   "source": "with open('sectors json/sector_rounds_information_technology.json') as json_file:\n    sector_rounds_information_technology_dict = json.load(json_file)\n\nsector_rounds_information_technology_index = pd.DataFrame.from_dict(sector_rounds_information_technology_dict, orient='index')\nsector_rounds_information_technology_index.index = [parse_tuple(item) for item in list(sector_rounds_industrials_index.index)]\n\nsector_rounds_information_technology_index.index = pd.MultiIndex.from_tuples(sector_rounds_information_technology_index.index)\nsector_rounds_information_technology_index.index.names = ['Information Technology', 'round']\n\nsector_rounds_information_technology_index_dict = sector_rounds_information_technology_index.to_dict()[0]\n\ndef sec_rnd_information_technology_ix(row):\n    sector = row['Information Technology']\n    comm_round = row['funding_round']\n\n    if sector == 0:\n        return int(0)\n    else:\n        search_key = tuple((sector, comm_round))\n        value = sector_rounds_information_technology_index_dict[search_key]\n        return int(value)\n\nfinal['Information_Technology_round_index'] = final.apply(sec_rnd_information_technology_ix, axis=1)",
   "outputs": [],
   "execution_count": null
  },
  {
   "cell_type": "markdown",
   "source": "### 9.9. \"Materials\" round index",
   "metadata": {
    "cell_id": "44b64eb16fae414e8fbea9eea410cc38",
    "tags": [],
    "deepnote_cell_type": "markdown",
    "deepnote_cell_height": 62
   }
  },
  {
   "cell_type": "code",
   "metadata": {
    "cell_id": "9b575eb68814494582097fd4ff92d0a7",
    "tags": [],
    "deepnote_to_be_reexecuted": false,
    "source_hash": "486f91a",
    "execution_start": 1651606482109,
    "execution_millis": 1167,
    "deepnote_cell_type": "code",
    "deepnote_cell_height": 477
   },
   "source": "with open('sectors json/sector_rounds_materials.json') as json_file:\n    sector_rounds_materials_dict = json.load(json_file)\n\nsector_rounds_materials_index = pd.DataFrame.from_dict(sector_rounds_materials_dict, orient='index')\nsector_rounds_materials_index.index = [parse_tuple(item) for item in list(sector_rounds_materials_index.index)]\n\nsector_rounds_materials_index.index = pd.MultiIndex.from_tuples(sector_rounds_materials_index.index)\nsector_rounds_materials_index.index.names = ['Materials', 'round']\n\nsector_rounds_materials_index_dict = sector_rounds_materials_index.to_dict()[0]\n\ndef sec_rnd_materials_ix(row):\n    sector = row['Materials']\n    comm_round = row['funding_round']\n\n    if sector == 0:\n        return int(0)\n    else:\n        search_key = tuple((sector, comm_round))\n        value = sector_rounds_materials_index_dict[search_key]\n        return int(value)\n\nfinal['Materials_round_index'] = final.apply(sec_rnd_materials_ix, axis=1)",
   "outputs": [],
   "execution_count": null
  },
  {
   "cell_type": "markdown",
   "source": "### 9.10. \"Real Estate\" round index ",
   "metadata": {
    "cell_id": "83cb3c7768a84124ad12f0349b96a3e0",
    "tags": [],
    "deepnote_cell_type": "markdown",
    "deepnote_cell_height": 62
   }
  },
  {
   "cell_type": "code",
   "metadata": {
    "cell_id": "bbf58b557cc74aa580ca9af36d86018b",
    "tags": [],
    "deepnote_to_be_reexecuted": false,
    "source_hash": "c3071412",
    "execution_start": 1651606483283,
    "execution_millis": 1201,
    "deepnote_cell_type": "code",
    "deepnote_cell_height": 477
   },
   "source": "with open('sectors json/sector_rounds_real_estate.json') as json_file:\n    sector_rounds_real_estate_dict = json.load(json_file)\n\nsector_rounds_real_estate_index = pd.DataFrame.from_dict(sector_rounds_real_estate_dict, orient='index')\nsector_rounds_real_estate_index.index = [parse_tuple(item) for item in list(sector_rounds_real_estate_index.index)]\n\nsector_rounds_real_estate_index.index = pd.MultiIndex.from_tuples(sector_rounds_real_estate_index.index)\nsector_rounds_real_estate_index.index.names = ['Real Estate', 'round']\n\nsector_rounds_real_estate_index_dict = sector_rounds_real_estate_index.to_dict()[0]\n\ndef sec_rnd_real_estate_ix(row):\n    sector = row['Real Estate']\n    comm_round = row['funding_round']\n\n    if sector == 0:\n        return int(0)\n    else:\n        search_key = tuple((sector, comm_round))\n        value = sector_rounds_real_estate_index_dict[search_key]\n        return int(value)\n\nfinal['Real_Estate_round_index'] = final.apply(sec_rnd_real_estate_ix, axis=1)",
   "outputs": [],
   "execution_count": null
  },
  {
   "cell_type": "markdown",
   "source": "### 9.11. \"Utilities\" round index",
   "metadata": {
    "cell_id": "6dd07c145a5348bea4149c03bb28a588",
    "tags": [],
    "deepnote_cell_type": "markdown",
    "deepnote_cell_height": 62
   }
  },
  {
   "cell_type": "code",
   "metadata": {
    "cell_id": "3022a32da3574cbcb56fc39d3e3a13d4",
    "tags": [],
    "deepnote_to_be_reexecuted": false,
    "source_hash": "65a7c17f",
    "execution_start": 1651606484490,
    "execution_millis": 1274,
    "deepnote_cell_type": "code",
    "deepnote_cell_height": 477
   },
   "source": "with open('sectors json/sector_rounds_utilities.json') as json_file:\n    sector_rounds_utilities_dict = json.load(json_file)\n\nsector_rounds_utilities_index = pd.DataFrame.from_dict(sector_rounds_utilities_dict, orient='index')\nsector_rounds_utilities_index.index = [parse_tuple(item) for item in list(sector_rounds_utilities_index.index)]\n\nsector_rounds_utilities_index.index = pd.MultiIndex.from_tuples(sector_rounds_utilities_index.index)\nsector_rounds_utilities_index.index.names = ['Utilities', 'round']\n\nsector_rounds_utilities_index_dict = sector_rounds_utilities_index.to_dict()[0]\n\ndef sec_rnd_utilities_ix(row):\n    sector = row['Utilities']\n    comm_round = row['funding_round']\n\n    if sector == 0:\n        return int(0)\n    else:\n        search_key = tuple((sector, comm_round))\n        value = sector_rounds_real_estate_index_dict[search_key]\n        return int(value)\n\nfinal['Utilities_round_index'] = final.apply(sec_rnd_utilities_ix, axis=1)",
   "outputs": [],
   "execution_count": null
  },
  {
   "cell_type": "code",
   "metadata": {
    "cell_id": "a59f5247c5e34ee2a7e0ffd7367cf598",
    "tags": [],
    "deepnote_to_be_reexecuted": false,
    "source_hash": "e9dd6221",
    "execution_start": 1651606485768,
    "execution_millis": 202,
    "deepnote_cell_type": "code",
    "deepnote_cell_height": 615
   },
   "source": "final",
   "outputs": [
    {
     "output_type": "execute_result",
     "execution_count": 71,
     "data": {
      "application/vnd.deepnote.dataframe.v3+json": {
       "column_count": 36,
       "row_count": 88903,
       "columns": [
        {
         "name": "company_permalink",
         "dtype": "object",
         "stats": {
          "unique_count": 50550,
          "nan_count": 0,
          "categories": [
           {
            "name": "/organization/solarflare",
            "count": 19
           },
           {
            "name": "/organization/exagen-diagnostics",
            "count": 18
           },
           {
            "name": "50548 others",
            "count": 88866
           }
          ]
         }
        },
        {
         "name": "company_name",
         "dtype": "object"
        },
        {
         "name": "company_country_code",
         "dtype": "object"
        },
        {
         "name": "company_state_code",
         "dtype": "object"
        },
        {
         "name": "company_region",
         "dtype": "object"
        },
        {
         "name": "company_city",
         "dtype": "object"
        },
        {
         "name": "funding_round_permalink",
         "dtype": "object"
        },
        {
         "name": "funding_round_type",
         "dtype": "object"
        },
        {
         "name": "funding_round_code",
         "dtype": "object"
        },
        {
         "name": "funded_at",
         "dtype": "object"
        },
        {
         "name": "raised_amount_usd",
         "dtype": "float64"
        },
        {
         "name": "funding_round",
         "dtype": "object"
        },
        {
         "name": "company_category_list",
         "dtype": "object"
        },
        {
         "name": "company_sector",
         "dtype": "object"
        },
        {
         "name": "Communication Services",
         "dtype": "int64"
        },
        {
         "name": "Consumer Discretionary",
         "dtype": "int64"
        },
        {
         "name": "Consumer Staples",
         "dtype": "int64"
        },
        {
         "name": "Energy",
         "dtype": "int64"
        },
        {
         "name": "Financials",
         "dtype": "int64"
        },
        {
         "name": "Health Care",
         "dtype": "int64"
        },
        {
         "name": "Industrials",
         "dtype": "int64"
        },
        {
         "name": "Information Technology",
         "dtype": "int64"
        },
        {
         "name": "Materials",
         "dtype": "int64"
        },
        {
         "name": "Real Estate",
         "dtype": "int64"
        },
        {
         "name": "Utilities",
         "dtype": "int64"
        },
        {
         "name": "Communication_Services_round_index",
         "dtype": "int64"
        },
        {
         "name": "Consumer_Discretionary_round_index",
         "dtype": "int64"
        },
        {
         "name": "Consumer_Staples_round_index",
         "dtype": "int64"
        },
        {
         "name": "Energy_round_index",
         "dtype": "int64"
        },
        {
         "name": "Financials_round_index",
         "dtype": "int64"
        },
        {
         "name": "Health_Care_round_index",
         "dtype": "int64"
        },
        {
         "name": "Industrials_round_index",
         "dtype": "int64"
        },
        {
         "name": "Information_Technology_round_index",
         "dtype": "int64"
        },
        {
         "name": "Materials_round_index",
         "dtype": "int64"
        },
        {
         "name": "Real_Estate_round_index",
         "dtype": "int64"
        },
        {
         "name": "Utilities_round_index",
         "dtype": "int64"
        },
        {
         "name": "_deepnote_index_column",
         "dtype": "int64"
        }
       ],
       "rows": [
        {
         "company_permalink": "/organization/-fame",
         "company_name": "#fame",
         "company_country_code": "IND",
         "company_state_code": "16",
         "company_region": "Mumbai",
         "company_city": "Mumbai",
         "funding_round_permalink": "/funding-round/9a01d05418af9f794eebff7ace91f638",
         "funding_round_type": "venture",
         "funding_round_code": "B",
         "funded_at": "2015-01-05",
         "raised_amount_usd": 10000000,
         "funding_round": "venture B",
         "company_category_list": "['Media']",
         "company_sector": "['Communication Services']",
         "Communication Services": 1,
         "Consumer Discretionary": 0,
         "Consumer Staples": 0,
         "Energy": 0,
         "Financials": 0,
         "Health Care": 0,
         "Industrials": 0,
         "Information Technology": 0,
         "Materials": 0,
         "Real Estate": 0,
         "Utilities": 0,
         "Communication_Services_round_index": 5,
         "Consumer_Discretionary_round_index": 0,
         "Consumer_Staples_round_index": 0,
         "Energy_round_index": 0,
         "Financials_round_index": 0,
         "Health_Care_round_index": 0,
         "Industrials_round_index": 0,
         "Information_Technology_round_index": 0,
         "Materials_round_index": 0,
         "Real_Estate_round_index": 0,
         "Utilities_round_index": 0,
         "_deepnote_index_column": 0
        },
        {
         "company_permalink": "/organization/-the-one-of-them-inc-",
         "company_name": "(THE) ONE of THEM,Inc.",
         "company_country_code": "nan",
         "company_state_code": "nan",
         "company_region": "nan",
         "company_city": "nan",
         "funding_round_permalink": "/funding-round/650b8f704416801069bb178a1418776b",
         "funding_round_type": "venture",
         "funding_round_code": "B",
         "funded_at": "2014-01-30",
         "raised_amount_usd": 3406878,
         "funding_round": "venture B",
         "company_category_list": "['Apps', 'Games', 'Mobile']",
         "company_sector": "['Information Technology', 'Consumer Discretionary']",
         "Communication Services": 0,
         "Consumer Discretionary": 1,
         "Consumer Staples": 0,
         "Energy": 0,
         "Financials": 0,
         "Health Care": 0,
         "Industrials": 0,
         "Information Technology": 1,
         "Materials": 0,
         "Real Estate": 0,
         "Utilities": 0,
         "Communication_Services_round_index": 0,
         "Consumer_Discretionary_round_index": 6,
         "Consumer_Staples_round_index": 0,
         "Energy_round_index": 0,
         "Financials_round_index": 0,
         "Health_Care_round_index": 0,
         "Industrials_round_index": 0,
         "Information_Technology_round_index": 5,
         "Materials_round_index": 0,
         "Real_Estate_round_index": 0,
         "Utilities_round_index": 0,
         "_deepnote_index_column": 1
        },
        {
         "company_permalink": "/organization/0-6-com",
         "company_name": "0-6.com",
         "company_country_code": "CHN",
         "company_state_code": "22",
         "company_region": "Beijing",
         "company_city": "Beijing",
         "funding_round_permalink": "/funding-round/5727accaeaa57461bd22a9bdd945382d",
         "funding_round_type": "venture",
         "funding_round_code": "A",
         "funded_at": "2008-03-19",
         "raised_amount_usd": 2000000,
         "funding_round": "venture A",
         "company_category_list": "['Curated Web']",
         "company_sector": "['Information Technology']",
         "Communication Services": 0,
         "Consumer Discretionary": 0,
         "Consumer Staples": 0,
         "Energy": 0,
         "Financials": 0,
         "Health Care": 0,
         "Industrials": 0,
         "Information Technology": 1,
         "Materials": 0,
         "Real Estate": 0,
         "Utilities": 0,
         "Communication_Services_round_index": 0,
         "Consumer_Discretionary_round_index": 0,
         "Consumer_Staples_round_index": 0,
         "Energy_round_index": 0,
         "Financials_round_index": 0,
         "Health_Care_round_index": 0,
         "Industrials_round_index": 0,
         "Information_Technology_round_index": 4,
         "Materials_round_index": 0,
         "Real_Estate_round_index": 0,
         "Utilities_round_index": 0,
         "_deepnote_index_column": 2
        },
        {
         "company_permalink": "/organization/004-technologies",
         "company_name": "004 Technologies",
         "company_country_code": "USA",
         "company_state_code": "IL",
         "company_region": "Springfield, Illinois",
         "company_city": "Champaign",
         "funding_round_permalink": "/funding-round/1278dd4e6a37fa4b7d7e06c21b3c1830",
         "funding_round_type": "venture",
         "funding_round_code": "nan",
         "funded_at": "2014-07-24",
         "raised_amount_usd": "nan",
         "funding_round": "venture",
         "company_category_list": "['Software']",
         "company_sector": "['Information Technology']",
         "Communication Services": 0,
         "Consumer Discretionary": 0,
         "Consumer Staples": 0,
         "Energy": 0,
         "Financials": 0,
         "Health Care": 0,
         "Industrials": 0,
         "Information Technology": 1,
         "Materials": 0,
         "Real Estate": 0,
         "Utilities": 0,
         "Communication_Services_round_index": 0,
         "Consumer_Discretionary_round_index": 0,
         "Consumer_Staples_round_index": 0,
         "Energy_round_index": 0,
         "Financials_round_index": 0,
         "Health_Care_round_index": 0,
         "Industrials_round_index": 0,
         "Information_Technology_round_index": 5,
         "Materials_round_index": 0,
         "Real_Estate_round_index": 0,
         "Utilities_round_index": 0,
         "_deepnote_index_column": 3
        },
        {
         "company_permalink": "/organization/1-2-3-listo",
         "company_name": "1,2,3 Listo",
         "company_country_code": "CHL",
         "company_state_code": "12",
         "company_region": "Santiago",
         "company_city": "Las Condes",
         "funding_round_permalink": "/funding-round/6de4609e894495105bc791ed64361288",
         "funding_round_type": "seed",
         "funding_round_code": "nan",
         "funded_at": "2013-02-18",
         "raised_amount_usd": 40000,
         "funding_round": "seed",
         "company_category_list": "['E-Commerce']",
         "company_sector": "['Industrials']",
         "Communication Services": 0,
         "Consumer Discretionary": 0,
         "Consumer Staples": 0,
         "Energy": 0,
         "Financials": 0,
         "Health Care": 0,
         "Industrials": 1,
         "Information Technology": 0,
         "Materials": 0,
         "Real Estate": 0,
         "Utilities": 0,
         "Communication_Services_round_index": 0,
         "Consumer_Discretionary_round_index": 0,
         "Consumer_Staples_round_index": 0,
         "Energy_round_index": 0,
         "Financials_round_index": 0,
         "Health_Care_round_index": 0,
         "Industrials_round_index": 2,
         "Information_Technology_round_index": 0,
         "Materials_round_index": 0,
         "Real_Estate_round_index": 0,
         "Utilities_round_index": 0,
         "_deepnote_index_column": 4
        },
        {
         "company_permalink": "/organization/1-4-all",
         "company_name": "1-4 All",
         "company_country_code": "USA",
         "company_state_code": "NC",
         "company_region": "NC - Other",
         "company_city": "Connellys Springs",
         "funding_round_permalink": "/funding-round/e97a192e13ea0ee3c4f71136b4f3ec16",
         "funding_round_type": "equity_crowdfunding",
         "funding_round_code": "nan",
         "funded_at": "2013-04-21",
         "raised_amount_usd": "nan",
         "funding_round": "equity_crowdfunding",
         "company_category_list": "['Entertainment', 'Games', 'Software']",
         "company_sector": "['Communication Services', 'Consumer Discretionary', 'Information Technology']",
         "Communication Services": 1,
         "Consumer Discretionary": 1,
         "Consumer Staples": 0,
         "Energy": 0,
         "Financials": 0,
         "Health Care": 0,
         "Industrials": 0,
         "Information Technology": 1,
         "Materials": 0,
         "Real Estate": 0,
         "Utilities": 0,
         "Communication_Services_round_index": 1,
         "Consumer_Discretionary_round_index": 1,
         "Consumer_Staples_round_index": 0,
         "Energy_round_index": 0,
         "Financials_round_index": 0,
         "Health_Care_round_index": 0,
         "Industrials_round_index": 0,
         "Information_Technology_round_index": 1,
         "Materials_round_index": 0,
         "Real_Estate_round_index": 0,
         "Utilities_round_index": 0,
         "_deepnote_index_column": 5
        },
        {
         "company_permalink": "/organization/1-618-technology",
         "company_name": "1.618 Technology",
         "company_country_code": "USA",
         "company_state_code": "FL",
         "company_region": "Orlando",
         "company_city": "Orlando",
         "funding_round_permalink": "/funding-round/83b8f4c7d37ecef5e001a5e953bf461a",
         "funding_round_type": "equity_crowdfunding",
         "funding_round_code": "nan",
         "funded_at": "2014-01-22",
         "raised_amount_usd": "nan",
         "funding_round": "equity_crowdfunding",
         "company_category_list": "['Networking', 'Real Estate', 'Web Hosting']",
         "company_sector": "['Information Technology', 'Real Estate']",
         "Communication Services": 0,
         "Consumer Discretionary": 0,
         "Consumer Staples": 0,
         "Energy": 0,
         "Financials": 0,
         "Health Care": 0,
         "Industrials": 0,
         "Information Technology": 1,
         "Materials": 0,
         "Real Estate": 1,
         "Utilities": 0,
         "Communication_Services_round_index": 0,
         "Consumer_Discretionary_round_index": 0,
         "Consumer_Staples_round_index": 0,
         "Energy_round_index": 0,
         "Financials_round_index": 0,
         "Health_Care_round_index": 0,
         "Industrials_round_index": 0,
         "Information_Technology_round_index": 1,
         "Materials_round_index": 0,
         "Real_Estate_round_index": 2,
         "Utilities_round_index": 0,
         "_deepnote_index_column": 6
        },
        {
         "company_permalink": "/organization/1-800-dentist",
         "company_name": "1-800-DENTIST",
         "company_country_code": "USA",
         "company_state_code": "CA",
         "company_region": "Los Angeles",
         "company_city": "Los Angeles",
         "funding_round_permalink": "/funding-round/5274aacc211163fc7c86539ce94bbacc",
         "funding_round_type": "undisclosed",
         "funding_round_code": "nan",
         "funded_at": "2010-08-19",
         "raised_amount_usd": "nan",
         "funding_round": "undisclosed",
         "company_category_list": "['Health and Wellness']",
         "company_sector": "['Health Care']",
         "Communication Services": 0,
         "Consumer Discretionary": 0,
         "Consumer Staples": 0,
         "Energy": 0,
         "Financials": 0,
         "Health Care": 1,
         "Industrials": 0,
         "Information Technology": 0,
         "Materials": 0,
         "Real Estate": 0,
         "Utilities": 0,
         "Communication_Services_round_index": 0,
         "Consumer_Discretionary_round_index": 0,
         "Consumer_Staples_round_index": 0,
         "Energy_round_index": 0,
         "Financials_round_index": 0,
         "Health_Care_round_index": 4,
         "Industrials_round_index": 0,
         "Information_Technology_round_index": 0,
         "Materials_round_index": 0,
         "Real_Estate_round_index": 0,
         "Utilities_round_index": 0,
         "_deepnote_index_column": 7
        },
        {
         "company_permalink": "/organization/1-800-doctors",
         "company_name": "1-800-DOCTORS",
         "company_country_code": "USA",
         "company_state_code": "NJ",
         "company_region": "Newark",
         "company_city": "Iselin",
         "funding_round_permalink": "/funding-round/9eb8c7790a0c200d79e75785d1c4aa12",
         "funding_round_type": "convertible_note",
         "funding_round_code": "nan",
         "funded_at": "2011-03-02",
         "raised_amount_usd": 1750000,
         "funding_round": "convertible_note",
         "company_category_list": "['Health and Wellness']",
         "company_sector": "['Health Care']",
         "Communication Services": 0,
         "Consumer Discretionary": 0,
         "Consumer Staples": 0,
         "Energy": 0,
         "Financials": 0,
         "Health Care": 1,
         "Industrials": 0,
         "Information Technology": 0,
         "Materials": 0,
         "Real Estate": 0,
         "Utilities": 0,
         "Communication_Services_round_index": 0,
         "Consumer_Discretionary_round_index": 0,
         "Consumer_Staples_round_index": 0,
         "Energy_round_index": 0,
         "Financials_round_index": 0,
         "Health_Care_round_index": 3,
         "Industrials_round_index": 0,
         "Information_Technology_round_index": 0,
         "Materials_round_index": 0,
         "Real_Estate_round_index": 0,
         "Utilities_round_index": 0,
         "_deepnote_index_column": 8
        },
        {
         "company_permalink": "/organization/1-800-publicrelations-inc-",
         "company_name": "1-800-PublicRelations, Inc.",
         "company_country_code": "USA",
         "company_state_code": "NY",
         "company_region": "New York City",
         "company_city": "New York",
         "funding_round_permalink": "/funding-round/11c228f58831bc7ed337ef69ecc560c2",
         "funding_round_type": "private_equity",
         "funding_round_code": "nan",
         "funded_at": "2015-02-01",
         "raised_amount_usd": 6000000,
         "funding_round": "private_equity",
         "company_category_list": "['Internet Marketing', 'Media', 'Public Relations']",
         "company_sector": "['Communication Services', 'Industrials']",
         "Communication Services": 1,
         "Consumer Discretionary": 0,
         "Consumer Staples": 0,
         "Energy": 0,
         "Financials": 0,
         "Health Care": 0,
         "Industrials": 1,
         "Information Technology": 0,
         "Materials": 0,
         "Real Estate": 0,
         "Utilities": 0,
         "Communication_Services_round_index": 9,
         "Consumer_Discretionary_round_index": 0,
         "Consumer_Staples_round_index": 0,
         "Energy_round_index": 0,
         "Financials_round_index": 0,
         "Health_Care_round_index": 0,
         "Industrials_round_index": 9,
         "Information_Technology_round_index": 0,
         "Materials_round_index": 0,
         "Real_Estate_round_index": 0,
         "Utilities_round_index": 0,
         "_deepnote_index_column": 9
        }
       ]
      },
      "text/plain": "                                       company_permalink  \\\n0                                    /organization/-fame   \n1                    /organization/-the-one-of-them-inc-   \n2                                  /organization/0-6-com   \n3                         /organization/004-technologies   \n4                              /organization/1-2-3-listo   \n...                                                  ...   \n88898                                /organization/zyrra   \n88899                                /organization/zyrra   \n88900                               /organization/zystor   \n88901                           /organization/zytoprotec   \n88902  /organization/zznode-science-and-technology-co...   \n\n                        company_name company_country_code company_state_code  \\\n0                              #fame                  IND                 16   \n1             (THE) ONE of THEM,Inc.                  NaN                NaN   \n2                            0-6.com                  CHN                 22   \n3                   004 Technologies                  USA                 IL   \n4                        1,2,3 Listo                  CHL                 12   \n...                              ...                  ...                ...   \n88898                          Zyrra                  USA                 MA   \n88899                          Zyrra                  USA                 MA   \n88900                         Zystor                  USA                 WI   \n88901                     Zytoprotec                  AUT                  3   \n88902  ZZNode Science and Technology                  CHN                 22   \n\n              company_region        company_city  \\\n0                     Mumbai              Mumbai   \n1                        NaN                 NaN   \n2                    Beijing             Beijing   \n3      Springfield, Illinois           Champaign   \n4                   Santiago          Las Condes   \n...                      ...                 ...   \n88898                 Boston           Cambridge   \n88899                 Boston           Cambridge   \n88900              Milwaukee           Milwaukee   \n88901                 Vienna  Gerasdorf Bei Wien   \n88902                Beijing             Beijing   \n\n                               funding_round_permalink funding_round_type  \\\n0      /funding-round/9a01d05418af9f794eebff7ace91f638            venture   \n1      /funding-round/650b8f704416801069bb178a1418776b            venture   \n2      /funding-round/5727accaeaa57461bd22a9bdd945382d            venture   \n3      /funding-round/1278dd4e6a37fa4b7d7e06c21b3c1830            venture   \n4      /funding-round/6de4609e894495105bc791ed64361288               seed   \n...                                                ...                ...   \n88898  /funding-round/7a0fa791c96c9c447ee54662395beab9            venture   \n88899  /funding-round/cc8cd96a500332d5b4f4bcbddb306099              angel   \n88900  /funding-round/7ea37c0ff4132b084832039a9380d34e            venture   \n88901  /funding-round/0c43e717298296d2fb334fb236300f6e            venture   \n88902  /funding-round/171693e1e07e0230defd8fddb6de4515            venture   \n\n      funding_round_code   funded_at  ...  Consumer_Discretionary_round_index  \\\n0                      B  2015-01-05  ...                                   0   \n1                      B  2014-01-30  ...                                   6   \n2                      A  2008-03-19  ...                                   0   \n3                    NaN  2014-07-24  ...                                   0   \n4                    NaN  2013-02-18  ...                                   0   \n...                  ...         ...  ...                                 ...   \n88898                NaN  2012-10-18  ...                                   0   \n88899                NaN  2010-12-15  ...                                   0   \n88900                  A  2004-12-16  ...                                   0   \n88901                  A  2013-01-29  ...                                   0   \n88902                  A  2012-04-01  ...                                   0   \n\n      Consumer_Staples_round_index Energy_round_index Financials_round_index  \\\n0                                0                  0                      0   \n1                                0                  0                      0   \n2                                0                  0                      0   \n3                                0                  0                      0   \n4                                0                  0                      0   \n...                            ...                ...                    ...   \n88898                            0                  0                      0   \n88899                            0                  0                      0   \n88900                            0                  0                      0   \n88901                            0                  0                      0   \n88902                            0                  0                      0   \n\n       Health_Care_round_index  Industrials_round_index  \\\n0                            0                        0   \n1                            0                        0   \n2                            0                        0   \n3                            0                        0   \n4                            0                        2   \n...                        ...                      ...   \n88898                        0                        4   \n88899                        0                        2   \n88900                        5                        0   \n88901                        5                        0   \n88902                        0                        0   \n\n       Information_Technology_round_index  Materials_round_index  \\\n0                                       0                      0   \n1                                       5                      0   \n2                                       4                      0   \n3                                       5                      0   \n4                                       0                      0   \n...                                   ...                    ...   \n88898                                   0                      0   \n88899                                   0                      0   \n88900                                   0                      0   \n88901                                   0                      0   \n88902                                   4                      0   \n\n       Real_Estate_round_index  Utilities_round_index  \n0                            0                      0  \n1                            0                      0  \n2                            0                      0  \n3                            0                      0  \n4                            0                      0  \n...                        ...                    ...  \n88898                        0                      0  \n88899                        0                      0  \n88900                        0                      0  \n88901                        0                      0  \n88902                        0                      0  \n\n[88903 rows x 36 columns]",
      "text/html": "<div>\n<style scoped>\n    .dataframe tbody tr th:only-of-type {\n        vertical-align: middle;\n    }\n\n    .dataframe tbody tr th {\n        vertical-align: top;\n    }\n\n    .dataframe thead th {\n        text-align: right;\n    }\n</style>\n<table border=\"1\" class=\"dataframe\">\n  <thead>\n    <tr style=\"text-align: right;\">\n      <th></th>\n      <th>company_permalink</th>\n      <th>company_name</th>\n      <th>company_country_code</th>\n      <th>company_state_code</th>\n      <th>company_region</th>\n      <th>company_city</th>\n      <th>funding_round_permalink</th>\n      <th>funding_round_type</th>\n      <th>funding_round_code</th>\n      <th>funded_at</th>\n      <th>...</th>\n      <th>Consumer_Discretionary_round_index</th>\n      <th>Consumer_Staples_round_index</th>\n      <th>Energy_round_index</th>\n      <th>Financials_round_index</th>\n      <th>Health_Care_round_index</th>\n      <th>Industrials_round_index</th>\n      <th>Information_Technology_round_index</th>\n      <th>Materials_round_index</th>\n      <th>Real_Estate_round_index</th>\n      <th>Utilities_round_index</th>\n    </tr>\n  </thead>\n  <tbody>\n    <tr>\n      <th>0</th>\n      <td>/organization/-fame</td>\n      <td>#fame</td>\n      <td>IND</td>\n      <td>16</td>\n      <td>Mumbai</td>\n      <td>Mumbai</td>\n      <td>/funding-round/9a01d05418af9f794eebff7ace91f638</td>\n      <td>venture</td>\n      <td>B</td>\n      <td>2015-01-05</td>\n      <td>...</td>\n      <td>0</td>\n      <td>0</td>\n      <td>0</td>\n      <td>0</td>\n      <td>0</td>\n      <td>0</td>\n      <td>0</td>\n      <td>0</td>\n      <td>0</td>\n      <td>0</td>\n    </tr>\n    <tr>\n      <th>1</th>\n      <td>/organization/-the-one-of-them-inc-</td>\n      <td>(THE) ONE of THEM,Inc.</td>\n      <td>NaN</td>\n      <td>NaN</td>\n      <td>NaN</td>\n      <td>NaN</td>\n      <td>/funding-round/650b8f704416801069bb178a1418776b</td>\n      <td>venture</td>\n      <td>B</td>\n      <td>2014-01-30</td>\n      <td>...</td>\n      <td>6</td>\n      <td>0</td>\n      <td>0</td>\n      <td>0</td>\n      <td>0</td>\n      <td>0</td>\n      <td>5</td>\n      <td>0</td>\n      <td>0</td>\n      <td>0</td>\n    </tr>\n    <tr>\n      <th>2</th>\n      <td>/organization/0-6-com</td>\n      <td>0-6.com</td>\n      <td>CHN</td>\n      <td>22</td>\n      <td>Beijing</td>\n      <td>Beijing</td>\n      <td>/funding-round/5727accaeaa57461bd22a9bdd945382d</td>\n      <td>venture</td>\n      <td>A</td>\n      <td>2008-03-19</td>\n      <td>...</td>\n      <td>0</td>\n      <td>0</td>\n      <td>0</td>\n      <td>0</td>\n      <td>0</td>\n      <td>0</td>\n      <td>4</td>\n      <td>0</td>\n      <td>0</td>\n      <td>0</td>\n    </tr>\n    <tr>\n      <th>3</th>\n      <td>/organization/004-technologies</td>\n      <td>004 Technologies</td>\n      <td>USA</td>\n      <td>IL</td>\n      <td>Springfield, Illinois</td>\n      <td>Champaign</td>\n      <td>/funding-round/1278dd4e6a37fa4b7d7e06c21b3c1830</td>\n      <td>venture</td>\n      <td>NaN</td>\n      <td>2014-07-24</td>\n      <td>...</td>\n      <td>0</td>\n      <td>0</td>\n      <td>0</td>\n      <td>0</td>\n      <td>0</td>\n      <td>0</td>\n      <td>5</td>\n      <td>0</td>\n      <td>0</td>\n      <td>0</td>\n    </tr>\n    <tr>\n      <th>4</th>\n      <td>/organization/1-2-3-listo</td>\n      <td>1,2,3 Listo</td>\n      <td>CHL</td>\n      <td>12</td>\n      <td>Santiago</td>\n      <td>Las Condes</td>\n      <td>/funding-round/6de4609e894495105bc791ed64361288</td>\n      <td>seed</td>\n      <td>NaN</td>\n      <td>2013-02-18</td>\n      <td>...</td>\n      <td>0</td>\n      <td>0</td>\n      <td>0</td>\n      <td>0</td>\n      <td>0</td>\n      <td>2</td>\n      <td>0</td>\n      <td>0</td>\n      <td>0</td>\n      <td>0</td>\n    </tr>\n    <tr>\n      <th>...</th>\n      <td>...</td>\n      <td>...</td>\n      <td>...</td>\n      <td>...</td>\n      <td>...</td>\n      <td>...</td>\n      <td>...</td>\n      <td>...</td>\n      <td>...</td>\n      <td>...</td>\n      <td>...</td>\n      <td>...</td>\n      <td>...</td>\n      <td>...</td>\n      <td>...</td>\n      <td>...</td>\n      <td>...</td>\n      <td>...</td>\n      <td>...</td>\n      <td>...</td>\n      <td>...</td>\n    </tr>\n    <tr>\n      <th>88898</th>\n      <td>/organization/zyrra</td>\n      <td>Zyrra</td>\n      <td>USA</td>\n      <td>MA</td>\n      <td>Boston</td>\n      <td>Cambridge</td>\n      <td>/funding-round/7a0fa791c96c9c447ee54662395beab9</td>\n      <td>venture</td>\n      <td>NaN</td>\n      <td>2012-10-18</td>\n      <td>...</td>\n      <td>0</td>\n      <td>0</td>\n      <td>0</td>\n      <td>0</td>\n      <td>0</td>\n      <td>4</td>\n      <td>0</td>\n      <td>0</td>\n      <td>0</td>\n      <td>0</td>\n    </tr>\n    <tr>\n      <th>88899</th>\n      <td>/organization/zyrra</td>\n      <td>Zyrra</td>\n      <td>USA</td>\n      <td>MA</td>\n      <td>Boston</td>\n      <td>Cambridge</td>\n      <td>/funding-round/cc8cd96a500332d5b4f4bcbddb306099</td>\n      <td>angel</td>\n      <td>NaN</td>\n      <td>2010-12-15</td>\n      <td>...</td>\n      <td>0</td>\n      <td>0</td>\n      <td>0</td>\n      <td>0</td>\n      <td>0</td>\n      <td>2</td>\n      <td>0</td>\n      <td>0</td>\n      <td>0</td>\n      <td>0</td>\n    </tr>\n    <tr>\n      <th>88900</th>\n      <td>/organization/zystor</td>\n      <td>Zystor</td>\n      <td>USA</td>\n      <td>WI</td>\n      <td>Milwaukee</td>\n      <td>Milwaukee</td>\n      <td>/funding-round/7ea37c0ff4132b084832039a9380d34e</td>\n      <td>venture</td>\n      <td>A</td>\n      <td>2004-12-16</td>\n      <td>...</td>\n      <td>0</td>\n      <td>0</td>\n      <td>0</td>\n      <td>0</td>\n      <td>5</td>\n      <td>0</td>\n      <td>0</td>\n      <td>0</td>\n      <td>0</td>\n      <td>0</td>\n    </tr>\n    <tr>\n      <th>88901</th>\n      <td>/organization/zytoprotec</td>\n      <td>Zytoprotec</td>\n      <td>AUT</td>\n      <td>3</td>\n      <td>Vienna</td>\n      <td>Gerasdorf Bei Wien</td>\n      <td>/funding-round/0c43e717298296d2fb334fb236300f6e</td>\n      <td>venture</td>\n      <td>A</td>\n      <td>2013-01-29</td>\n      <td>...</td>\n      <td>0</td>\n      <td>0</td>\n      <td>0</td>\n      <td>0</td>\n      <td>5</td>\n      <td>0</td>\n      <td>0</td>\n      <td>0</td>\n      <td>0</td>\n      <td>0</td>\n    </tr>\n    <tr>\n      <th>88902</th>\n      <td>/organization/zznode-science-and-technology-co...</td>\n      <td>ZZNode Science and Technology</td>\n      <td>CHN</td>\n      <td>22</td>\n      <td>Beijing</td>\n      <td>Beijing</td>\n      <td>/funding-round/171693e1e07e0230defd8fddb6de4515</td>\n      <td>venture</td>\n      <td>A</td>\n      <td>2012-04-01</td>\n      <td>...</td>\n      <td>0</td>\n      <td>0</td>\n      <td>0</td>\n      <td>0</td>\n      <td>0</td>\n      <td>0</td>\n      <td>4</td>\n      <td>0</td>\n      <td>0</td>\n      <td>0</td>\n    </tr>\n  </tbody>\n</table>\n<p>88903 rows × 36 columns</p>\n</div>"
     },
     "metadata": {}
    }
   ],
   "execution_count": null
  },
  {
   "cell_type": "code",
   "metadata": {
    "cell_id": "456f8d712cae4fa3b0351476e8dfc941",
    "tags": [],
    "deepnote_to_be_reexecuted": false,
    "source_hash": "ed5a9e25",
    "execution_start": 1651606485971,
    "execution_millis": 12,
    "deepnote_cell_type": "code",
    "deepnote_cell_height": 189
   },
   "source": "final = final.loc[:,['funding_round_permalink','Communication_Services_round_index',\n       'Consumer_Discretionary_round_index', 'Consumer_Staples_round_index',\n       'Energy_round_index', 'Financials_round_index',\n       'Health_Care_round_index', 'Industrials_round_index',\n       'Information_Technology_round_index', 'Materials_round_index',\n       'Real_Estate_round_index', 'Utilities_round_index']]\n",
   "outputs": [],
   "execution_count": null
  },
  {
   "cell_type": "code",
   "metadata": {
    "cell_id": "1a57d8ea0b6b454c850f72ce88f929c3",
    "tags": [],
    "deepnote_to_be_reexecuted": false,
    "source_hash": "d5dd6a76",
    "execution_start": 1651606485989,
    "execution_millis": 159,
    "deepnote_cell_type": "code",
    "deepnote_cell_height": 446
   },
   "source": "# Merging sectors round indexes with the main dataframe\ndata_merged_final = data_merged.merge(final, how = 'left', on = 'funding_round_permalink')\ndata_merged_final.head()",
   "outputs": [
    {
     "output_type": "execute_result",
     "execution_count": 73,
     "data": {
      "application/vnd.deepnote.dataframe.v3+json": {
       "column_count": 46,
       "row_count": 5,
       "columns": [
        {
         "name": "company_permalink",
         "dtype": "object",
         "stats": {
          "unique_count": 4,
          "nan_count": 0,
          "categories": [
           {
            "name": "/organization/1001-menus",
            "count": 2
           },
           {
            "name": "/organization/0-6-com",
            "count": 1
           },
           {
            "name": "2 others",
            "count": 2
           }
          ]
         }
        },
        {
         "name": "company_name",
         "dtype": "object",
         "stats": {
          "unique_count": 4,
          "nan_count": 0,
          "categories": [
           {
            "name": "ZenChef",
            "count": 2
           },
           {
            "name": "0-6.com",
            "count": 1
           },
           {
            "name": "2 others",
            "count": 2
           }
          ]
         }
        },
        {
         "name": "company_category_list",
         "dtype": "object",
         "stats": {
          "unique_count": 3,
          "nan_count": 0,
          "categories": [
           {
            "name": "Curated Web",
            "count": 2
           },
           {
            "name": "Local Businesses|Restaurants",
            "count": 2
           },
           {
            "name": "Art|E-Commerce|Marketplaces",
            "count": 1
           }
          ]
         }
        },
        {
         "name": "company_country_code",
         "dtype": "object",
         "stats": {
          "unique_count": 3,
          "nan_count": 0,
          "categories": [
           {
            "name": "USA",
            "count": 2
           },
           {
            "name": "FRA",
            "count": 2
           },
           {
            "name": "CHN",
            "count": 1
           }
          ]
         }
        },
        {
         "name": "company_state_code",
         "dtype": "object",
         "stats": {
          "unique_count": 4,
          "nan_count": 0,
          "categories": [
           {
            "name": "A8",
            "count": 2
           },
           {
            "name": "22",
            "count": 1
           },
           {
            "name": "2 others",
            "count": 2
           }
          ]
         }
        },
        {
         "name": "company_region",
         "dtype": "object",
         "stats": {
          "unique_count": 4,
          "nan_count": 0,
          "categories": [
           {
            "name": "Paris",
            "count": 2
           },
           {
            "name": "Beijing",
            "count": 1
           },
           {
            "name": "2 others",
            "count": 2
           }
          ]
         }
        },
        {
         "name": "company_city",
         "dtype": "object",
         "stats": {
          "unique_count": 4,
          "nan_count": 0,
          "categories": [
           {
            "name": "Paris",
            "count": 2
           },
           {
            "name": "Beijing",
            "count": 1
           },
           {
            "name": "2 others",
            "count": 2
           }
          ]
         }
        },
        {
         "name": "funding_round_permalink",
         "dtype": "object",
         "stats": {
          "unique_count": 5,
          "nan_count": 0,
          "categories": [
           {
            "name": "/funding-round/5727accaeaa57461bd22a9bdd945382d",
            "count": 1
           },
           {
            "name": "/funding-round/ce6749b6441f52ccaf38b6d5578779fd",
            "count": 1
           },
           {
            "name": "3 others",
            "count": 3
           }
          ]
         }
        },
        {
         "name": "funded_at",
         "dtype": "object",
         "stats": {
          "unique_count": 5,
          "nan_count": 0,
          "categories": [
           {
            "name": "2008-03-19",
            "count": 1
           },
           {
            "name": "2009-05-15",
            "count": 1
           },
           {
            "name": "3 others",
            "count": 3
           }
          ]
         }
        },
        {
         "name": "funding_round",
         "dtype": "object",
         "stats": {
          "unique_count": 4,
          "nan_count": 0,
          "categories": [
           {
            "name": "venture A",
            "count": 2
           },
           {
            "name": "seed",
            "count": 1
           },
           {
            "name": "2 others",
            "count": 2
           }
          ]
         }
        },
        {
         "name": "raised_amount_usd",
         "dtype": "int64",
         "stats": {
          "unique_count": 5,
          "nan_count": 0,
          "min": "500000",
          "max": "6602694",
          "histogram": [
           {
            "bin_start": 500000,
            "bin_end": 1110269.4,
            "count": 2
           },
           {
            "bin_start": 1110269.4,
            "bin_end": 1720538.8,
            "count": 0
           },
           {
            "bin_start": 1720538.8,
            "bin_end": 2330808.2,
            "count": 2
           },
           {
            "bin_start": 2330808.2,
            "bin_end": 2941077.6,
            "count": 0
           },
           {
            "bin_start": 2941077.6,
            "bin_end": 3551347,
            "count": 0
           },
           {
            "bin_start": 3551347,
            "bin_end": 4161616.4000000004,
            "count": 0
           },
           {
            "bin_start": 4161616.4000000004,
            "bin_end": 4771885.8,
            "count": 0
           },
           {
            "bin_start": 4771885.8,
            "bin_end": 5382155.2,
            "count": 0
           },
           {
            "bin_start": 5382155.2,
            "bin_end": 5992424.600000001,
            "count": 0
           },
           {
            "bin_start": 5992424.600000001,
            "bin_end": 6602694,
            "count": 1
           }
          ]
         }
        },
        {
         "name": "investors_round_index",
         "dtype": "int64",
         "stats": {
          "unique_count": 4,
          "nan_count": 0,
          "min": "2",
          "max": "8",
          "histogram": [
           {
            "bin_start": 2,
            "bin_end": 2.6,
            "count": 2
           },
           {
            "bin_start": 2.6,
            "bin_end": 3.2,
            "count": 0
           },
           {
            "bin_start": 3.2,
            "bin_end": 3.8,
            "count": 0
           },
           {
            "bin_start": 3.8,
            "bin_end": 4.4,
            "count": 0
           },
           {
            "bin_start": 4.4,
            "bin_end": 5,
            "count": 0
           },
           {
            "bin_start": 5,
            "bin_end": 5.6,
            "count": 1
           },
           {
            "bin_start": 5.6,
            "bin_end": 6.2,
            "count": 1
           },
           {
            "bin_start": 6.2,
            "bin_end": 6.8,
            "count": 0
           },
           {
            "bin_start": 6.8,
            "bin_end": 7.3999999999999995,
            "count": 0
           },
           {
            "bin_start": 7.3999999999999995,
            "bin_end": 8,
            "count": 1
           }
          ]
         }
        },
        {
         "name": "investor_country_round_index",
         "dtype": "int64",
         "stats": {
          "unique_count": 4,
          "nan_count": 0,
          "min": "2",
          "max": "9",
          "histogram": [
           {
            "bin_start": 2,
            "bin_end": 2.7,
            "count": 1
           },
           {
            "bin_start": 2.7,
            "bin_end": 3.4,
            "count": 0
           },
           {
            "bin_start": 3.4,
            "bin_end": 4.1,
            "count": 0
           },
           {
            "bin_start": 4.1,
            "bin_end": 4.8,
            "count": 0
           },
           {
            "bin_start": 4.8,
            "bin_end": 5.5,
            "count": 2
           },
           {
            "bin_start": 5.5,
            "bin_end": 6.199999999999999,
            "count": 0
           },
           {
            "bin_start": 6.199999999999999,
            "bin_end": 6.8999999999999995,
            "count": 0
           },
           {
            "bin_start": 6.8999999999999995,
            "bin_end": 7.6,
            "count": 1
           },
           {
            "bin_start": 7.6,
            "bin_end": 8.3,
            "count": 0
           },
           {
            "bin_start": 8.3,
            "bin_end": 9,
            "count": 1
           }
          ]
         }
        },
        {
         "name": "raised_amount_buckets",
         "dtype": "int64",
         "stats": {
          "unique_count": 3,
          "nan_count": 0,
          "min": "3",
          "max": "8",
          "histogram": [
           {
            "bin_start": 3,
            "bin_end": 3.5,
            "count": 2
           },
           {
            "bin_start": 3.5,
            "bin_end": 4,
            "count": 0
           },
           {
            "bin_start": 4,
            "bin_end": 4.5,
            "count": 0
           },
           {
            "bin_start": 4.5,
            "bin_end": 5,
            "count": 0
           },
           {
            "bin_start": 5,
            "bin_end": 5.5,
            "count": 2
           },
           {
            "bin_start": 5.5,
            "bin_end": 6,
            "count": 0
           },
           {
            "bin_start": 6,
            "bin_end": 6.5,
            "count": 0
           },
           {
            "bin_start": 6.5,
            "bin_end": 7,
            "count": 0
           },
           {
            "bin_start": 7,
            "bin_end": 7.5,
            "count": 0
           },
           {
            "bin_start": 7.5,
            "bin_end": 8,
            "count": 1
           }
          ]
         }
        },
        {
         "name": "rounds_index",
         "dtype": "int64",
         "stats": {
          "unique_count": 4,
          "nan_count": 0,
          "min": "1",
          "max": "6",
          "histogram": [
           {
            "bin_start": 1,
            "bin_end": 1.5,
            "count": 1
           },
           {
            "bin_start": 1.5,
            "bin_end": 2,
            "count": 0
           },
           {
            "bin_start": 2,
            "bin_end": 2.5,
            "count": 0
           },
           {
            "bin_start": 2.5,
            "bin_end": 3,
            "count": 0
           },
           {
            "bin_start": 3,
            "bin_end": 3.5,
            "count": 0
           },
           {
            "bin_start": 3.5,
            "bin_end": 4,
            "count": 0
           },
           {
            "bin_start": 4,
            "bin_end": 4.5,
            "count": 2
           },
           {
            "bin_start": 4.5,
            "bin_end": 5,
            "count": 0
           },
           {
            "bin_start": 5,
            "bin_end": 5.5,
            "count": 1
           },
           {
            "bin_start": 5.5,
            "bin_end": 6,
            "count": 1
           }
          ]
         }
        },
        {
         "name": "company_country_round_index",
         "dtype": "int64",
         "stats": {
          "unique_count": 5,
          "nan_count": 0,
          "min": "3",
          "max": "9",
          "histogram": [
           {
            "bin_start": 3,
            "bin_end": 3.6,
            "count": 1
           },
           {
            "bin_start": 3.6,
            "bin_end": 4.2,
            "count": 0
           },
           {
            "bin_start": 4.2,
            "bin_end": 4.8,
            "count": 0
           },
           {
            "bin_start": 4.8,
            "bin_end": 5.4,
            "count": 1
           },
           {
            "bin_start": 5.4,
            "bin_end": 6,
            "count": 0
           },
           {
            "bin_start": 6,
            "bin_end": 6.6,
            "count": 1
           },
           {
            "bin_start": 6.6,
            "bin_end": 7.2,
            "count": 0
           },
           {
            "bin_start": 7.2,
            "bin_end": 7.8,
            "count": 0
           },
           {
            "bin_start": 7.8,
            "bin_end": 8.399999999999999,
            "count": 1
           },
           {
            "bin_start": 8.399999999999999,
            "bin_end": 9,
            "count": 1
           }
          ]
         }
        },
        {
         "name": "company_country_round_index_pred",
         "dtype": "float64",
         "stats": {
          "unique_count": 5,
          "nan_count": 0,
          "min": "2.767859207426471",
          "max": "8.613706091095253",
          "histogram": [
           {
            "bin_start": 2.767859207426471,
            "bin_end": 3.3524438957933493,
            "count": 1
           },
           {
            "bin_start": 3.3524438957933493,
            "bin_end": 3.9370285841602275,
            "count": 0
           },
           {
            "bin_start": 3.9370285841602275,
            "bin_end": 4.521613272527105,
            "count": 0
           },
           {
            "bin_start": 4.521613272527105,
            "bin_end": 5.106197960893984,
            "count": 0
           },
           {
            "bin_start": 5.106197960893984,
            "bin_end": 5.690782649260862,
            "count": 2
           },
           {
            "bin_start": 5.690782649260862,
            "bin_end": 6.27536733762774,
            "count": 0
           },
           {
            "bin_start": 6.27536733762774,
            "bin_end": 6.859952025994619,
            "count": 0
           },
           {
            "bin_start": 6.859952025994619,
            "bin_end": 7.444536714361496,
            "count": 1
           },
           {
            "bin_start": 7.444536714361496,
            "bin_end": 8.029121402728375,
            "count": 0
           },
           {
            "bin_start": 8.029121402728375,
            "bin_end": 8.613706091095253,
            "count": 1
           }
          ]
         }
        },
        {
         "name": "permalink",
         "dtype": "object",
         "stats": {
          "unique_count": 4,
          "nan_count": 0,
          "categories": [
           {
            "name": "/organization/1001-menus",
            "count": 2
           },
           {
            "name": "/organization/0-6-com",
            "count": 1
           },
           {
            "name": "2 others",
            "count": 2
           }
          ]
         }
        },
        {
         "name": "name",
         "dtype": "object",
         "stats": {
          "unique_count": 4,
          "nan_count": 0,
          "categories": [
           {
            "name": "ZenChef",
            "count": 2
           },
           {
            "name": "0-6.com",
            "count": 1
           },
           {
            "name": "2 others",
            "count": 2
           }
          ]
         }
        },
        {
         "name": "homepage_url",
         "dtype": "object",
         "stats": {
          "unique_count": 4,
          "nan_count": 0,
          "categories": [
           {
            "name": "http://zenchef.com/en/",
            "count": 2
           },
           {
            "name": "http://www.0-6.com",
            "count": 1
           },
           {
            "name": "2 others",
            "count": 2
           }
          ]
         }
        },
        {
         "name": "category_list",
         "dtype": "object",
         "stats": {
          "unique_count": 3,
          "nan_count": 0,
          "categories": [
           {
            "name": "Curated Web",
            "count": 2
           },
           {
            "name": "Local Businesses|Restaurants",
            "count": 2
           },
           {
            "name": "Art|E-Commerce|Marketplaces",
            "count": 1
           }
          ]
         }
        },
        {
         "name": "funding_total_usd",
         "dtype": "object",
         "stats": {
          "unique_count": 4,
          "nan_count": 0,
          "categories": [
           {
            "name": "10661772.8991108",
            "count": 2
           },
           {
            "name": "2000000",
            "count": 1
           },
           {
            "name": "2 others",
            "count": 2
           }
          ]
         }
        },
        {
         "name": "status",
         "dtype": "object",
         "stats": {
          "unique_count": 2,
          "nan_count": 0,
          "categories": [
           {
            "name": "operating",
            "count": 4
           },
           {
            "name": "acquired",
            "count": 1
           }
          ]
         }
        },
        {
         "name": "country_code",
         "dtype": "object",
         "stats": {
          "unique_count": 3,
          "nan_count": 0,
          "categories": [
           {
            "name": "USA",
            "count": 2
           },
           {
            "name": "FRA",
            "count": 2
           },
           {
            "name": "CHN",
            "count": 1
           }
          ]
         }
        },
        {
         "name": "state_code",
         "dtype": "object",
         "stats": {
          "unique_count": 4,
          "nan_count": 0,
          "categories": [
           {
            "name": "A8",
            "count": 2
           },
           {
            "name": "22",
            "count": 1
           },
           {
            "name": "2 others",
            "count": 2
           }
          ]
         }
        },
        {
         "name": "region",
         "dtype": "object",
         "stats": {
          "unique_count": 4,
          "nan_count": 0,
          "categories": [
           {
            "name": "Paris",
            "count": 2
           },
           {
            "name": "Beijing",
            "count": 1
           },
           {
            "name": "2 others",
            "count": 2
           }
          ]
         }
        },
        {
         "name": "city",
         "dtype": "object",
         "stats": {
          "unique_count": 4,
          "nan_count": 0,
          "categories": [
           {
            "name": "Paris",
            "count": 2
           },
           {
            "name": "Beijing",
            "count": 1
           },
           {
            "name": "2 others",
            "count": 2
           }
          ]
         }
        },
        {
         "name": "funding_rounds",
         "dtype": "int64",
         "stats": {
          "unique_count": 3,
          "nan_count": 0,
          "min": "1",
          "max": "9",
          "histogram": [
           {
            "bin_start": 1,
            "bin_end": 1.8,
            "count": 2
           },
           {
            "bin_start": 1.8,
            "bin_end": 2.6,
            "count": 0
           },
           {
            "bin_start": 2.6,
            "bin_end": 3.4000000000000004,
            "count": 0
           },
           {
            "bin_start": 3.4000000000000004,
            "bin_end": 4.2,
            "count": 0
           },
           {
            "bin_start": 4.2,
            "bin_end": 5,
            "count": 0
           },
           {
            "bin_start": 5,
            "bin_end": 5.800000000000001,
            "count": 2
           },
           {
            "bin_start": 5.800000000000001,
            "bin_end": 6.6000000000000005,
            "count": 0
           },
           {
            "bin_start": 6.6000000000000005,
            "bin_end": 7.4,
            "count": 0
           },
           {
            "bin_start": 7.4,
            "bin_end": 8.2,
            "count": 0
           },
           {
            "bin_start": 8.2,
            "bin_end": 9,
            "count": 1
           }
          ]
         }
        },
        {
         "name": "founded_at",
         "dtype": "datetime64[ns]",
         "stats": {
          "unique_count": 4,
          "nan_count": 0,
          "min": "2007-01-01 00:00:00",
          "max": "2010-11-20 00:00:00",
          "histogram": [
           {
            "bin_start": 1167609600000000000,
            "bin_end": 1179869760000000000,
            "count": 1
           },
           {
            "bin_start": 1179869760000000000,
            "bin_end": 1192129920000000000,
            "count": 0
           },
           {
            "bin_start": 1192129920000000000,
            "bin_end": 1204390080000000000,
            "count": 1
           },
           {
            "bin_start": 1204390080000000000,
            "bin_end": 1216650240000000000,
            "count": 0
           },
           {
            "bin_start": 1216650240000000000,
            "bin_end": 1228910400000000000,
            "count": 0
           },
           {
            "bin_start": 1228910400000000000,
            "bin_end": 1241170560000000000,
            "count": 1
           },
           {
            "bin_start": 1241170560000000000,
            "bin_end": 1253430720000000000,
            "count": 0
           },
           {
            "bin_start": 1253430720000000000,
            "bin_end": 1265690880000000000,
            "count": 0
           },
           {
            "bin_start": 1265690880000000000,
            "bin_end": 1277951040000000000,
            "count": 0
           },
           {
            "bin_start": 1277951040000000000,
            "bin_end": 1290211200000000000,
            "count": 2
           }
          ]
         }
        },
        {
         "name": "first_funding_at",
         "dtype": "datetime64[ns]",
         "stats": {
          "unique_count": 4,
          "nan_count": 0,
          "min": "2008-03-19 00:00:00",
          "max": "2012-12-15 00:00:00",
          "histogram": [
           {
            "bin_start": 1205884800000000000,
            "bin_end": 1220849280000000000,
            "count": 1
           },
           {
            "bin_start": 1220849280000000000,
            "bin_end": 1235813760000000000,
            "count": 0
           },
           {
            "bin_start": 1235813760000000000,
            "bin_end": 1250778240000000000,
            "count": 1
           },
           {
            "bin_start": 1250778240000000000,
            "bin_end": 1265742720000000000,
            "count": 1
           },
           {
            "bin_start": 1265742720000000000,
            "bin_end": 1280707200000000000,
            "count": 0
           },
           {
            "bin_start": 1280707200000000000,
            "bin_end": 1295671680000000000,
            "count": 0
           },
           {
            "bin_start": 1295671680000000000,
            "bin_end": 1310636160000000000,
            "count": 0
           },
           {
            "bin_start": 1310636160000000000,
            "bin_end": 1325600640000000000,
            "count": 0
           },
           {
            "bin_start": 1325600640000000000,
            "bin_end": 1340565120000000000,
            "count": 0
           },
           {
            "bin_start": 1340565120000000000,
            "bin_end": 1355529600000000000,
            "count": 2
           }
          ]
         }
        },
        {
         "name": "last_funding_at",
         "dtype": "datetime64[ns]",
         "stats": {
          "unique_count": 4,
          "nan_count": 0,
          "min": "2008-03-19 00:00:00",
          "max": "2015-11-13 00:00:00",
          "histogram": [
           {
            "bin_start": 1205884800000000000,
            "bin_end": 1230033600000000000,
            "count": 1
           },
           {
            "bin_start": 1230033600000000000,
            "bin_end": 1254182400000000000,
            "count": 1
           },
           {
            "bin_start": 1254182400000000000,
            "bin_end": 1278331200000000000,
            "count": 0
           },
           {
            "bin_start": 1278331200000000000,
            "bin_end": 1302480000000000000,
            "count": 0
           },
           {
            "bin_start": 1302480000000000000,
            "bin_end": 1326628800000000000,
            "count": 0
           },
           {
            "bin_start": 1326628800000000000,
            "bin_end": 1350777600000000000,
            "count": 0
           },
           {
            "bin_start": 1350777600000000000,
            "bin_end": 1374926400000000000,
            "count": 0
           },
           {
            "bin_start": 1374926400000000000,
            "bin_end": 1399075200000000000,
            "count": 0
           },
           {
            "bin_start": 1399075200000000000,
            "bin_end": 1423224000000000000,
            "count": 0
           },
           {
            "bin_start": 1423224000000000000,
            "bin_end": 1447372800000000000,
            "count": 3
           }
          ]
         }
        },
        {
         "name": "time_since_first_investment",
         "dtype": "float64",
         "stats": {
          "unique_count": 2,
          "nan_count": 0,
          "min": "2.0",
          "max": "3.0",
          "histogram": [
           {
            "bin_start": 2,
            "bin_end": 2.1,
            "count": 4
           },
           {
            "bin_start": 2.1,
            "bin_end": 2.2,
            "count": 0
           },
           {
            "bin_start": 2.2,
            "bin_end": 2.3,
            "count": 0
           },
           {
            "bin_start": 2.3,
            "bin_end": 2.4,
            "count": 0
           },
           {
            "bin_start": 2.4,
            "bin_end": 2.5,
            "count": 0
           },
           {
            "bin_start": 2.5,
            "bin_end": 2.6,
            "count": 0
           },
           {
            "bin_start": 2.6,
            "bin_end": 2.7,
            "count": 0
           },
           {
            "bin_start": 2.7,
            "bin_end": 2.8,
            "count": 0
           },
           {
            "bin_start": 2.8,
            "bin_end": 2.9,
            "count": 0
           },
           {
            "bin_start": 2.9,
            "bin_end": 3,
            "count": 1
           }
          ]
         }
        },
        {
         "name": "time_since_last_investment",
         "dtype": "float64",
         "stats": {
          "unique_count": 2,
          "nan_count": 0,
          "min": "7.0",
          "max": "8.0",
          "histogram": [
           {
            "bin_start": 7,
            "bin_end": 7.1,
            "count": 4
           },
           {
            "bin_start": 7.1,
            "bin_end": 7.2,
            "count": 0
           },
           {
            "bin_start": 7.2,
            "bin_end": 7.3,
            "count": 0
           },
           {
            "bin_start": 7.3,
            "bin_end": 7.4,
            "count": 0
           },
           {
            "bin_start": 7.4,
            "bin_end": 7.5,
            "count": 0
           },
           {
            "bin_start": 7.5,
            "bin_end": 7.6,
            "count": 0
           },
           {
            "bin_start": 7.6,
            "bin_end": 7.7,
            "count": 0
           },
           {
            "bin_start": 7.7,
            "bin_end": 7.8,
            "count": 0
           },
           {
            "bin_start": 7.8,
            "bin_end": 7.9,
            "count": 0
           },
           {
            "bin_start": 7.9,
            "bin_end": 8,
            "count": 1
           }
          ]
         }
        },
        {
         "name": "company_age",
         "dtype": "float64",
         "stats": {
          "unique_count": 1,
          "nan_count": 0,
          "min": "3.0",
          "max": "3.0",
          "histogram": [
           {
            "bin_start": 2.5,
            "bin_end": 2.6,
            "count": 0
           },
           {
            "bin_start": 2.6,
            "bin_end": 2.7,
            "count": 0
           },
           {
            "bin_start": 2.7,
            "bin_end": 2.8,
            "count": 0
           },
           {
            "bin_start": 2.8,
            "bin_end": 2.9,
            "count": 0
           },
           {
            "bin_start": 2.9,
            "bin_end": 3,
            "count": 0
           },
           {
            "bin_start": 3,
            "bin_end": 3.1,
            "count": 5
           },
           {
            "bin_start": 3.1,
            "bin_end": 3.2,
            "count": 0
           },
           {
            "bin_start": 3.2,
            "bin_end": 3.3,
            "count": 0
           },
           {
            "bin_start": 3.3,
            "bin_end": 3.4,
            "count": 0
           },
           {
            "bin_start": 3.4,
            "bin_end": 3.5,
            "count": 0
           }
          ]
         }
        },
        {
         "name": "avg_time_between_rounds",
         "dtype": "float64",
         "stats": {
          "unique_count": 1,
          "nan_count": 0,
          "min": "1.0",
          "max": "1.0",
          "histogram": [
           {
            "bin_start": 0.5,
            "bin_end": 0.6,
            "count": 0
           },
           {
            "bin_start": 0.6,
            "bin_end": 0.7,
            "count": 0
           },
           {
            "bin_start": 0.7,
            "bin_end": 0.8,
            "count": 0
           },
           {
            "bin_start": 0.8,
            "bin_end": 0.9,
            "count": 0
           },
           {
            "bin_start": 0.9,
            "bin_end": 1,
            "count": 0
           },
           {
            "bin_start": 1,
            "bin_end": 1.1,
            "count": 5
           },
           {
            "bin_start": 1.1,
            "bin_end": 1.2000000000000002,
            "count": 0
           },
           {
            "bin_start": 1.2000000000000002,
            "bin_end": 1.3,
            "count": 0
           },
           {
            "bin_start": 1.3,
            "bin_end": 1.4,
            "count": 0
           },
           {
            "bin_start": 1.4,
            "bin_end": 1.5,
            "count": 0
           }
          ]
         }
        },
        {
         "name": "Communication_Services_round_index",
         "dtype": "int64",
         "stats": {
          "unique_count": 1,
          "nan_count": 0,
          "min": "0",
          "max": "0",
          "histogram": [
           {
            "bin_start": -0.5,
            "bin_end": -0.4,
            "count": 0
           },
           {
            "bin_start": -0.4,
            "bin_end": -0.3,
            "count": 0
           },
           {
            "bin_start": -0.3,
            "bin_end": -0.19999999999999996,
            "count": 0
           },
           {
            "bin_start": -0.19999999999999996,
            "bin_end": -0.09999999999999998,
            "count": 0
           },
           {
            "bin_start": -0.09999999999999998,
            "bin_end": 0,
            "count": 0
           },
           {
            "bin_start": 0,
            "bin_end": 0.10000000000000009,
            "count": 5
           },
           {
            "bin_start": 0.10000000000000009,
            "bin_end": 0.20000000000000007,
            "count": 0
           },
           {
            "bin_start": 0.20000000000000007,
            "bin_end": 0.30000000000000004,
            "count": 0
           },
           {
            "bin_start": 0.30000000000000004,
            "bin_end": 0.4,
            "count": 0
           },
           {
            "bin_start": 0.4,
            "bin_end": 0.5,
            "count": 0
           }
          ]
         }
        },
        {
         "name": "Consumer_Discretionary_round_index",
         "dtype": "int64",
         "stats": {
          "unique_count": 4,
          "nan_count": 0,
          "min": "0",
          "max": "6",
          "histogram": [
           {
            "bin_start": 0,
            "bin_end": 0.6,
            "count": 2
           },
           {
            "bin_start": 0.6,
            "bin_end": 1.2,
            "count": 1
           },
           {
            "bin_start": 1.2,
            "bin_end": 1.7999999999999998,
            "count": 0
           },
           {
            "bin_start": 1.7999999999999998,
            "bin_end": 2.4,
            "count": 0
           },
           {
            "bin_start": 2.4,
            "bin_end": 3,
            "count": 0
           },
           {
            "bin_start": 3,
            "bin_end": 3.5999999999999996,
            "count": 0
           },
           {
            "bin_start": 3.5999999999999996,
            "bin_end": 4.2,
            "count": 1
           },
           {
            "bin_start": 4.2,
            "bin_end": 4.8,
            "count": 0
           },
           {
            "bin_start": 4.8,
            "bin_end": 5.3999999999999995,
            "count": 0
           },
           {
            "bin_start": 5.3999999999999995,
            "bin_end": 6,
            "count": 1
           }
          ]
         }
        },
        {
         "name": "Consumer_Staples_round_index",
         "dtype": "int64",
         "stats": {
          "unique_count": 1,
          "nan_count": 0,
          "min": "0",
          "max": "0",
          "histogram": [
           {
            "bin_start": -0.5,
            "bin_end": -0.4,
            "count": 0
           },
           {
            "bin_start": -0.4,
            "bin_end": -0.3,
            "count": 0
           },
           {
            "bin_start": -0.3,
            "bin_end": -0.19999999999999996,
            "count": 0
           },
           {
            "bin_start": -0.19999999999999996,
            "bin_end": -0.09999999999999998,
            "count": 0
           },
           {
            "bin_start": -0.09999999999999998,
            "bin_end": 0,
            "count": 0
           },
           {
            "bin_start": 0,
            "bin_end": 0.10000000000000009,
            "count": 5
           },
           {
            "bin_start": 0.10000000000000009,
            "bin_end": 0.20000000000000007,
            "count": 0
           },
           {
            "bin_start": 0.20000000000000007,
            "bin_end": 0.30000000000000004,
            "count": 0
           },
           {
            "bin_start": 0.30000000000000004,
            "bin_end": 0.4,
            "count": 0
           },
           {
            "bin_start": 0.4,
            "bin_end": 0.5,
            "count": 0
           }
          ]
         }
        },
        {
         "name": "Energy_round_index",
         "dtype": "int64",
         "stats": {
          "unique_count": 1,
          "nan_count": 0,
          "min": "0",
          "max": "0",
          "histogram": [
           {
            "bin_start": -0.5,
            "bin_end": -0.4,
            "count": 0
           },
           {
            "bin_start": -0.4,
            "bin_end": -0.3,
            "count": 0
           },
           {
            "bin_start": -0.3,
            "bin_end": -0.19999999999999996,
            "count": 0
           },
           {
            "bin_start": -0.19999999999999996,
            "bin_end": -0.09999999999999998,
            "count": 0
           },
           {
            "bin_start": -0.09999999999999998,
            "bin_end": 0,
            "count": 0
           },
           {
            "bin_start": 0,
            "bin_end": 0.10000000000000009,
            "count": 5
           },
           {
            "bin_start": 0.10000000000000009,
            "bin_end": 0.20000000000000007,
            "count": 0
           },
           {
            "bin_start": 0.20000000000000007,
            "bin_end": 0.30000000000000004,
            "count": 0
           },
           {
            "bin_start": 0.30000000000000004,
            "bin_end": 0.4,
            "count": 0
           },
           {
            "bin_start": 0.4,
            "bin_end": 0.5,
            "count": 0
           }
          ]
         }
        },
        {
         "name": "Financials_round_index",
         "dtype": "int64",
         "stats": {
          "unique_count": 3,
          "nan_count": 0,
          "min": "0",
          "max": "5",
          "histogram": [
           {
            "bin_start": 0,
            "bin_end": 0.5,
            "count": 3
           },
           {
            "bin_start": 0.5,
            "bin_end": 1,
            "count": 0
           },
           {
            "bin_start": 1,
            "bin_end": 1.5,
            "count": 0
           },
           {
            "bin_start": 1.5,
            "bin_end": 2,
            "count": 0
           },
           {
            "bin_start": 2,
            "bin_end": 2.5,
            "count": 0
           },
           {
            "bin_start": 2.5,
            "bin_end": 3,
            "count": 0
           },
           {
            "bin_start": 3,
            "bin_end": 3.5,
            "count": 0
           },
           {
            "bin_start": 3.5,
            "bin_end": 4,
            "count": 0
           },
           {
            "bin_start": 4,
            "bin_end": 4.5,
            "count": 1
           },
           {
            "bin_start": 4.5,
            "bin_end": 5,
            "count": 1
           }
          ]
         }
        },
        {
         "name": "Health_Care_round_index",
         "dtype": "int64",
         "stats": {
          "unique_count": 1,
          "nan_count": 0,
          "min": "0",
          "max": "0",
          "histogram": [
           {
            "bin_start": -0.5,
            "bin_end": -0.4,
            "count": 0
           },
           {
            "bin_start": -0.4,
            "bin_end": -0.3,
            "count": 0
           },
           {
            "bin_start": -0.3,
            "bin_end": -0.19999999999999996,
            "count": 0
           },
           {
            "bin_start": -0.19999999999999996,
            "bin_end": -0.09999999999999998,
            "count": 0
           },
           {
            "bin_start": -0.09999999999999998,
            "bin_end": 0,
            "count": 0
           },
           {
            "bin_start": 0,
            "bin_end": 0.10000000000000009,
            "count": 5
           },
           {
            "bin_start": 0.10000000000000009,
            "bin_end": 0.20000000000000007,
            "count": 0
           },
           {
            "bin_start": 0.20000000000000007,
            "bin_end": 0.30000000000000004,
            "count": 0
           },
           {
            "bin_start": 0.30000000000000004,
            "bin_end": 0.4,
            "count": 0
           },
           {
            "bin_start": 0.4,
            "bin_end": 0.5,
            "count": 0
           }
          ]
         }
        },
        {
         "name": "Industrials_round_index",
         "dtype": "int64",
         "stats": {
          "unique_count": 2,
          "nan_count": 0,
          "min": "0",
          "max": "2",
          "histogram": [
           {
            "bin_start": 0,
            "bin_end": 0.2,
            "count": 4
           },
           {
            "bin_start": 0.2,
            "bin_end": 0.4,
            "count": 0
           },
           {
            "bin_start": 0.4,
            "bin_end": 0.6000000000000001,
            "count": 0
           },
           {
            "bin_start": 0.6000000000000001,
            "bin_end": 0.8,
            "count": 0
           },
           {
            "bin_start": 0.8,
            "bin_end": 1,
            "count": 0
           },
           {
            "bin_start": 1,
            "bin_end": 1.2000000000000002,
            "count": 0
           },
           {
            "bin_start": 1.2000000000000002,
            "bin_end": 1.4000000000000001,
            "count": 0
           },
           {
            "bin_start": 1.4000000000000001,
            "bin_end": 1.6,
            "count": 0
           },
           {
            "bin_start": 1.6,
            "bin_end": 1.8,
            "count": 0
           },
           {
            "bin_start": 1.8,
            "bin_end": 2,
            "count": 1
           }
          ]
         }
        },
        {
         "name": "Information_Technology_round_index",
         "dtype": "int64",
         "stats": {
          "unique_count": 3,
          "nan_count": 0,
          "min": "0",
          "max": "6",
          "histogram": [
           {
            "bin_start": 0,
            "bin_end": 0.6,
            "count": 3
           },
           {
            "bin_start": 0.6,
            "bin_end": 1.2,
            "count": 0
           },
           {
            "bin_start": 1.2,
            "bin_end": 1.7999999999999998,
            "count": 0
           },
           {
            "bin_start": 1.7999999999999998,
            "bin_end": 2.4,
            "count": 0
           },
           {
            "bin_start": 2.4,
            "bin_end": 3,
            "count": 0
           },
           {
            "bin_start": 3,
            "bin_end": 3.5999999999999996,
            "count": 0
           },
           {
            "bin_start": 3.5999999999999996,
            "bin_end": 4.2,
            "count": 1
           },
           {
            "bin_start": 4.2,
            "bin_end": 4.8,
            "count": 0
           },
           {
            "bin_start": 4.8,
            "bin_end": 5.3999999999999995,
            "count": 0
           },
           {
            "bin_start": 5.3999999999999995,
            "bin_end": 6,
            "count": 1
           }
          ]
         }
        },
        {
         "name": "Materials_round_index",
         "dtype": "int64",
         "stats": {
          "unique_count": 1,
          "nan_count": 0,
          "min": "0",
          "max": "0",
          "histogram": [
           {
            "bin_start": -0.5,
            "bin_end": -0.4,
            "count": 0
           },
           {
            "bin_start": -0.4,
            "bin_end": -0.3,
            "count": 0
           },
           {
            "bin_start": -0.3,
            "bin_end": -0.19999999999999996,
            "count": 0
           },
           {
            "bin_start": -0.19999999999999996,
            "bin_end": -0.09999999999999998,
            "count": 0
           },
           {
            "bin_start": -0.09999999999999998,
            "bin_end": 0,
            "count": 0
           },
           {
            "bin_start": 0,
            "bin_end": 0.10000000000000009,
            "count": 5
           },
           {
            "bin_start": 0.10000000000000009,
            "bin_end": 0.20000000000000007,
            "count": 0
           },
           {
            "bin_start": 0.20000000000000007,
            "bin_end": 0.30000000000000004,
            "count": 0
           },
           {
            "bin_start": 0.30000000000000004,
            "bin_end": 0.4,
            "count": 0
           },
           {
            "bin_start": 0.4,
            "bin_end": 0.5,
            "count": 0
           }
          ]
         }
        },
        {
         "name": "Real_Estate_round_index",
         "dtype": "int64",
         "stats": {
          "unique_count": 1,
          "nan_count": 0,
          "min": "0",
          "max": "0",
          "histogram": [
           {
            "bin_start": -0.5,
            "bin_end": -0.4,
            "count": 0
           },
           {
            "bin_start": -0.4,
            "bin_end": -0.3,
            "count": 0
           },
           {
            "bin_start": -0.3,
            "bin_end": -0.19999999999999996,
            "count": 0
           },
           {
            "bin_start": -0.19999999999999996,
            "bin_end": -0.09999999999999998,
            "count": 0
           },
           {
            "bin_start": -0.09999999999999998,
            "bin_end": 0,
            "count": 0
           },
           {
            "bin_start": 0,
            "bin_end": 0.10000000000000009,
            "count": 5
           },
           {
            "bin_start": 0.10000000000000009,
            "bin_end": 0.20000000000000007,
            "count": 0
           },
           {
            "bin_start": 0.20000000000000007,
            "bin_end": 0.30000000000000004,
            "count": 0
           },
           {
            "bin_start": 0.30000000000000004,
            "bin_end": 0.4,
            "count": 0
           },
           {
            "bin_start": 0.4,
            "bin_end": 0.5,
            "count": 0
           }
          ]
         }
        },
        {
         "name": "Utilities_round_index",
         "dtype": "int64",
         "stats": {
          "unique_count": 1,
          "nan_count": 0,
          "min": "0",
          "max": "0",
          "histogram": [
           {
            "bin_start": -0.5,
            "bin_end": -0.4,
            "count": 0
           },
           {
            "bin_start": -0.4,
            "bin_end": -0.3,
            "count": 0
           },
           {
            "bin_start": -0.3,
            "bin_end": -0.19999999999999996,
            "count": 0
           },
           {
            "bin_start": -0.19999999999999996,
            "bin_end": -0.09999999999999998,
            "count": 0
           },
           {
            "bin_start": -0.09999999999999998,
            "bin_end": 0,
            "count": 0
           },
           {
            "bin_start": 0,
            "bin_end": 0.10000000000000009,
            "count": 5
           },
           {
            "bin_start": 0.10000000000000009,
            "bin_end": 0.20000000000000007,
            "count": 0
           },
           {
            "bin_start": 0.20000000000000007,
            "bin_end": 0.30000000000000004,
            "count": 0
           },
           {
            "bin_start": 0.30000000000000004,
            "bin_end": 0.4,
            "count": 0
           },
           {
            "bin_start": 0.4,
            "bin_end": 0.5,
            "count": 0
           }
          ]
         }
        },
        {
         "name": "_deepnote_index_column",
         "dtype": "int64"
        }
       ],
       "rows": [
        {
         "company_permalink": "/organization/0-6-com",
         "company_name": "0-6.com",
         "company_category_list": "Curated Web",
         "company_country_code": "CHN",
         "company_state_code": "22",
         "company_region": "Beijing",
         "company_city": "Beijing",
         "funding_round_permalink": "/funding-round/5727accaeaa57461bd22a9bdd945382d",
         "funded_at": "2008-03-19",
         "funding_round": "venture A",
         "raised_amount_usd": 2000000,
         "investors_round_index": 8,
         "investor_country_round_index": 7,
         "raised_amount_buckets": 5,
         "rounds_index": 4,
         "company_country_round_index": 8,
         "company_country_round_index_pred": 6.960107744941357,
         "permalink": "/organization/0-6-com",
         "name": "0-6.com",
         "homepage_url": "http://www.0-6.com",
         "category_list": "Curated Web",
         "funding_total_usd": "2000000",
         "status": "operating",
         "country_code": "CHN",
         "state_code": "22",
         "region": "Beijing",
         "city": "Beijing",
         "funding_rounds": 1,
         "founded_at": "2007-01-01T00:00:00.000000",
         "first_funding_at": "2008-03-19T00:00:00.000000",
         "last_funding_at": "2008-03-19T00:00:00.000000",
         "time_since_first_investment": 3,
         "time_since_last_investment": 8,
         "company_age": 3,
         "avg_time_between_rounds": 1,
         "Communication_Services_round_index": 0,
         "Consumer_Discretionary_round_index": 0,
         "Consumer_Staples_round_index": 0,
         "Energy_round_index": 0,
         "Financials_round_index": 0,
         "Health_Care_round_index": 0,
         "Industrials_round_index": 0,
         "Information_Technology_round_index": 4,
         "Materials_round_index": 0,
         "Real_Estate_round_index": 0,
         "Utilities_round_index": 0,
         "_deepnote_index_column": 0
        },
        {
         "company_permalink": "/organization/1000-markets",
         "company_name": "1000 Markets",
         "company_category_list": "Art|E-Commerce|Marketplaces",
         "company_country_code": "USA",
         "company_state_code": "WA",
         "company_region": "Seattle",
         "company_city": "Seattle",
         "funding_round_permalink": "/funding-round/ce6749b6441f52ccaf38b6d5578779fd",
         "funded_at": "2009-05-15",
         "funding_round": "seed",
         "raised_amount_usd": 500000,
         "investors_round_index": 2,
         "investor_country_round_index": 2,
         "raised_amount_buckets": 3,
         "rounds_index": 1,
         "company_country_round_index": 3,
         "company_country_round_index_pred": 2.767859207426471,
         "permalink": "/organization/1000-markets",
         "name": "1000 Markets",
         "homepage_url": "http://www.1000markets.com",
         "category_list": "Art|E-Commerce|Marketplaces",
         "funding_total_usd": "500000",
         "status": "acquired",
         "country_code": "USA",
         "state_code": "WA",
         "region": "Seattle",
         "city": "Seattle",
         "funding_rounds": 1,
         "founded_at": "2009-01-01T00:00:00.000000",
         "first_funding_at": "2009-05-15T00:00:00.000000",
         "last_funding_at": "2009-05-15T00:00:00.000000",
         "time_since_first_investment": 2,
         "time_since_last_investment": 7,
         "company_age": 3,
         "avg_time_between_rounds": 1,
         "Communication_Services_round_index": 0,
         "Consumer_Discretionary_round_index": 1,
         "Consumer_Staples_round_index": 0,
         "Energy_round_index": 0,
         "Financials_round_index": 0,
         "Health_Care_round_index": 0,
         "Industrials_round_index": 2,
         "Information_Technology_round_index": 0,
         "Materials_round_index": 0,
         "Real_Estate_round_index": 0,
         "Utilities_round_index": 0,
         "_deepnote_index_column": 1
        },
        {
         "company_permalink": "/organization/1000museums-com",
         "company_name": "1000museums.com",
         "company_category_list": "Curated Web",
         "company_country_code": "USA",
         "company_state_code": "MA",
         "company_region": "MA - Other",
         "company_city": "Lenox",
         "funding_round_permalink": "/funding-round/01c1aa44619ae45a16e3098fc73facfa",
         "funded_at": "2013-04-08",
         "funding_round": "debt_financing",
         "raised_amount_usd": 647879,
         "investors_round_index": 2,
         "investor_country_round_index": 9,
         "raised_amount_buckets": 3,
         "rounds_index": 6,
         "company_country_round_index": 9,
         "company_country_round_index_pred": 8.613706091095253,
         "permalink": "/organization/1000museums-com",
         "name": "1000museums.com",
         "homepage_url": "http://www.1000museums.com",
         "category_list": "Curated Web",
         "funding_total_usd": "6795451",
         "status": "operating",
         "country_code": "USA",
         "state_code": "MA",
         "region": "MA - Other",
         "city": "Lenox",
         "funding_rounds": 9,
         "founded_at": "2008-01-01T00:00:00.000000",
         "first_funding_at": "2009-10-14T00:00:00.000000",
         "last_funding_at": "2015-11-13T00:00:00.000000",
         "time_since_first_investment": 2,
         "time_since_last_investment": 7,
         "company_age": 3,
         "avg_time_between_rounds": 1,
         "Communication_Services_round_index": 0,
         "Consumer_Discretionary_round_index": 0,
         "Consumer_Staples_round_index": 0,
         "Energy_round_index": 0,
         "Financials_round_index": 0,
         "Health_Care_round_index": 0,
         "Industrials_round_index": 0,
         "Information_Technology_round_index": 6,
         "Materials_round_index": 0,
         "Real_Estate_round_index": 0,
         "Utilities_round_index": 0,
         "_deepnote_index_column": 2
        },
        {
         "company_permalink": "/organization/1001-menus",
         "company_name": "ZenChef",
         "company_category_list": "Local Businesses|Restaurants",
         "company_country_code": "FRA",
         "company_state_code": "A8",
         "company_region": "Paris",
         "company_city": "Paris",
         "funding_round_permalink": "/funding-round/645b4cd895450b8e0268027cd7813047",
         "funded_at": "2015-11-04",
         "funding_round": "venture B",
         "raised_amount_usd": 6602694,
         "investors_round_index": 6,
         "investor_country_round_index": 5,
         "raised_amount_buckets": 8,
         "rounds_index": 5,
         "company_country_round_index": 6,
         "company_country_round_index_pred": 5.573614630174819,
         "permalink": "/organization/1001-menus",
         "name": "ZenChef",
         "homepage_url": "http://zenchef.com/en/",
         "category_list": "Local Businesses|Restaurants",
         "funding_total_usd": "10661772.8991108",
         "status": "operating",
         "country_code": "FRA",
         "state_code": "A8",
         "region": "Paris",
         "city": "Paris",
         "funding_rounds": 5,
         "founded_at": "2010-11-20T00:00:00.000000",
         "first_funding_at": "2012-12-15T00:00:00.000000",
         "last_funding_at": "2015-11-04T00:00:00.000000",
         "time_since_first_investment": 2,
         "time_since_last_investment": 7,
         "company_age": 3,
         "avg_time_between_rounds": 1,
         "Communication_Services_round_index": 0,
         "Consumer_Discretionary_round_index": 6,
         "Consumer_Staples_round_index": 0,
         "Energy_round_index": 0,
         "Financials_round_index": 5,
         "Health_Care_round_index": 0,
         "Industrials_round_index": 0,
         "Information_Technology_round_index": 0,
         "Materials_round_index": 0,
         "Real_Estate_round_index": 0,
         "Utilities_round_index": 0,
         "_deepnote_index_column": 3
        },
        {
         "company_permalink": "/organization/1001-menus",
         "company_name": "ZenChef",
         "company_category_list": "Local Businesses|Restaurants",
         "company_country_code": "FRA",
         "company_state_code": "A8",
         "company_region": "Paris",
         "company_city": "Paris",
         "funding_round_permalink": "/funding-round/8025123b90c1ab687f9857ffe18bfd3b",
         "funded_at": "2013-11-13",
         "funding_round": "venture A",
         "raised_amount_usd": 1768455,
         "investors_round_index": 5,
         "investor_country_round_index": 5,
         "raised_amount_buckets": 5,
         "rounds_index": 4,
         "company_country_round_index": 5,
         "company_country_round_index_pred": 5.429269955380333,
         "permalink": "/organization/1001-menus",
         "name": "ZenChef",
         "homepage_url": "http://zenchef.com/en/",
         "category_list": "Local Businesses|Restaurants",
         "funding_total_usd": "10661772.8991108",
         "status": "operating",
         "country_code": "FRA",
         "state_code": "A8",
         "region": "Paris",
         "city": "Paris",
         "funding_rounds": 5,
         "founded_at": "2010-11-20T00:00:00.000000",
         "first_funding_at": "2012-12-15T00:00:00.000000",
         "last_funding_at": "2015-11-04T00:00:00.000000",
         "time_since_first_investment": 2,
         "time_since_last_investment": 7,
         "company_age": 3,
         "avg_time_between_rounds": 1,
         "Communication_Services_round_index": 0,
         "Consumer_Discretionary_round_index": 4,
         "Consumer_Staples_round_index": 0,
         "Energy_round_index": 0,
         "Financials_round_index": 4,
         "Health_Care_round_index": 0,
         "Industrials_round_index": 0,
         "Information_Technology_round_index": 0,
         "Materials_round_index": 0,
         "Real_Estate_round_index": 0,
         "Utilities_round_index": 0,
         "_deepnote_index_column": 4
        }
       ]
      },
      "text/plain": "               company_permalink     company_name  \\\n0          /organization/0-6-com          0-6.com   \n1     /organization/1000-markets     1000 Markets   \n2  /organization/1000museums-com  1000museums.com   \n3       /organization/1001-menus          ZenChef   \n4       /organization/1001-menus          ZenChef   \n\n          company_category_list company_country_code company_state_code  \\\n0                   Curated Web                  CHN                 22   \n1   Art|E-Commerce|Marketplaces                  USA                 WA   \n2                   Curated Web                  USA                 MA   \n3  Local Businesses|Restaurants                  FRA                 A8   \n4  Local Businesses|Restaurants                  FRA                 A8   \n\n  company_region company_city  \\\n0        Beijing      Beijing   \n1        Seattle      Seattle   \n2     MA - Other        Lenox   \n3          Paris        Paris   \n4          Paris        Paris   \n\n                           funding_round_permalink   funded_at  \\\n0  /funding-round/5727accaeaa57461bd22a9bdd945382d  2008-03-19   \n1  /funding-round/ce6749b6441f52ccaf38b6d5578779fd  2009-05-15   \n2  /funding-round/01c1aa44619ae45a16e3098fc73facfa  2013-04-08   \n3  /funding-round/645b4cd895450b8e0268027cd7813047  2015-11-04   \n4  /funding-round/8025123b90c1ab687f9857ffe18bfd3b  2013-11-13   \n\n    funding_round  ...  Consumer_Discretionary_round_index  \\\n0       venture A  ...                                   0   \n1            seed  ...                                   1   \n2  debt_financing  ...                                   0   \n3       venture B  ...                                   6   \n4       venture A  ...                                   4   \n\n   Consumer_Staples_round_index  Energy_round_index  Financials_round_index  \\\n0                             0                   0                       0   \n1                             0                   0                       0   \n2                             0                   0                       0   \n3                             0                   0                       5   \n4                             0                   0                       4   \n\n   Health_Care_round_index  Industrials_round_index  \\\n0                        0                        0   \n1                        0                        2   \n2                        0                        0   \n3                        0                        0   \n4                        0                        0   \n\n   Information_Technology_round_index Materials_round_index  \\\n0                                   4                     0   \n1                                   0                     0   \n2                                   6                     0   \n3                                   0                     0   \n4                                   0                     0   \n\n  Real_Estate_round_index Utilities_round_index  \n0                       0                     0  \n1                       0                     0  \n2                       0                     0  \n3                       0                     0  \n4                       0                     0  \n\n[5 rows x 46 columns]",
      "text/html": "<div>\n<style scoped>\n    .dataframe tbody tr th:only-of-type {\n        vertical-align: middle;\n    }\n\n    .dataframe tbody tr th {\n        vertical-align: top;\n    }\n\n    .dataframe thead th {\n        text-align: right;\n    }\n</style>\n<table border=\"1\" class=\"dataframe\">\n  <thead>\n    <tr style=\"text-align: right;\">\n      <th></th>\n      <th>company_permalink</th>\n      <th>company_name</th>\n      <th>company_category_list</th>\n      <th>company_country_code</th>\n      <th>company_state_code</th>\n      <th>company_region</th>\n      <th>company_city</th>\n      <th>funding_round_permalink</th>\n      <th>funded_at</th>\n      <th>funding_round</th>\n      <th>...</th>\n      <th>Consumer_Discretionary_round_index</th>\n      <th>Consumer_Staples_round_index</th>\n      <th>Energy_round_index</th>\n      <th>Financials_round_index</th>\n      <th>Health_Care_round_index</th>\n      <th>Industrials_round_index</th>\n      <th>Information_Technology_round_index</th>\n      <th>Materials_round_index</th>\n      <th>Real_Estate_round_index</th>\n      <th>Utilities_round_index</th>\n    </tr>\n  </thead>\n  <tbody>\n    <tr>\n      <th>0</th>\n      <td>/organization/0-6-com</td>\n      <td>0-6.com</td>\n      <td>Curated Web</td>\n      <td>CHN</td>\n      <td>22</td>\n      <td>Beijing</td>\n      <td>Beijing</td>\n      <td>/funding-round/5727accaeaa57461bd22a9bdd945382d</td>\n      <td>2008-03-19</td>\n      <td>venture A</td>\n      <td>...</td>\n      <td>0</td>\n      <td>0</td>\n      <td>0</td>\n      <td>0</td>\n      <td>0</td>\n      <td>0</td>\n      <td>4</td>\n      <td>0</td>\n      <td>0</td>\n      <td>0</td>\n    </tr>\n    <tr>\n      <th>1</th>\n      <td>/organization/1000-markets</td>\n      <td>1000 Markets</td>\n      <td>Art|E-Commerce|Marketplaces</td>\n      <td>USA</td>\n      <td>WA</td>\n      <td>Seattle</td>\n      <td>Seattle</td>\n      <td>/funding-round/ce6749b6441f52ccaf38b6d5578779fd</td>\n      <td>2009-05-15</td>\n      <td>seed</td>\n      <td>...</td>\n      <td>1</td>\n      <td>0</td>\n      <td>0</td>\n      <td>0</td>\n      <td>0</td>\n      <td>2</td>\n      <td>0</td>\n      <td>0</td>\n      <td>0</td>\n      <td>0</td>\n    </tr>\n    <tr>\n      <th>2</th>\n      <td>/organization/1000museums-com</td>\n      <td>1000museums.com</td>\n      <td>Curated Web</td>\n      <td>USA</td>\n      <td>MA</td>\n      <td>MA - Other</td>\n      <td>Lenox</td>\n      <td>/funding-round/01c1aa44619ae45a16e3098fc73facfa</td>\n      <td>2013-04-08</td>\n      <td>debt_financing</td>\n      <td>...</td>\n      <td>0</td>\n      <td>0</td>\n      <td>0</td>\n      <td>0</td>\n      <td>0</td>\n      <td>0</td>\n      <td>6</td>\n      <td>0</td>\n      <td>0</td>\n      <td>0</td>\n    </tr>\n    <tr>\n      <th>3</th>\n      <td>/organization/1001-menus</td>\n      <td>ZenChef</td>\n      <td>Local Businesses|Restaurants</td>\n      <td>FRA</td>\n      <td>A8</td>\n      <td>Paris</td>\n      <td>Paris</td>\n      <td>/funding-round/645b4cd895450b8e0268027cd7813047</td>\n      <td>2015-11-04</td>\n      <td>venture B</td>\n      <td>...</td>\n      <td>6</td>\n      <td>0</td>\n      <td>0</td>\n      <td>5</td>\n      <td>0</td>\n      <td>0</td>\n      <td>0</td>\n      <td>0</td>\n      <td>0</td>\n      <td>0</td>\n    </tr>\n    <tr>\n      <th>4</th>\n      <td>/organization/1001-menus</td>\n      <td>ZenChef</td>\n      <td>Local Businesses|Restaurants</td>\n      <td>FRA</td>\n      <td>A8</td>\n      <td>Paris</td>\n      <td>Paris</td>\n      <td>/funding-round/8025123b90c1ab687f9857ffe18bfd3b</td>\n      <td>2013-11-13</td>\n      <td>venture A</td>\n      <td>...</td>\n      <td>4</td>\n      <td>0</td>\n      <td>0</td>\n      <td>4</td>\n      <td>0</td>\n      <td>0</td>\n      <td>0</td>\n      <td>0</td>\n      <td>0</td>\n      <td>0</td>\n    </tr>\n  </tbody>\n</table>\n<p>5 rows × 46 columns</p>\n</div>"
     },
     "metadata": {}
    }
   ],
   "execution_count": null
  },
  {
   "cell_type": "code",
   "metadata": {
    "cell_id": "1110b4f6d6014f14984033ee0a98b936",
    "tags": [],
    "deepnote_to_be_reexecuted": false,
    "source_hash": "533726ef",
    "execution_start": 1651606486144,
    "execution_millis": 90,
    "deepnote_cell_type": "code",
    "deepnote_cell_height": 239.39999389648438
   },
   "source": "# Removing certain funding round types\nprint('Shape Before: ', data_merged_final.shape)\ndata_merged_final = data_merged_final[data_merged_final['funding_round'] != 'debt_financing']\ndata_merged_final = data_merged_final[data_merged_final['funding_round'] != 'grant']\ndata_merged_final = data_merged_final[data_merged_final['funding_round'] != 'convertible_note']\ndata_merged_final = data_merged_final[data_merged_final['funding_round'] != 'non_equity_assistance']\nprint('Shape After: ', data_merged_final.shape)",
   "outputs": [
    {
     "name": "stdout",
     "text": "Shape Before:  (21729, 46)\nShape After:  (20497, 46)\n",
     "output_type": "stream"
    }
   ],
   "execution_count": null
  },
  {
   "cell_type": "markdown",
   "source": "## 10. Modelling experimentation",
   "metadata": {
    "cell_id": "51ee565c08e44d94b36c1af26733097d",
    "tags": [],
    "deepnote_cell_type": "markdown",
    "deepnote_cell_height": 70
   }
  },
  {
   "cell_type": "markdown",
   "source": "First Evaluation - Linear Regression, Naive Bayes, and Support Vector Regression",
   "metadata": {
    "cell_id": "e9eb80ca458a47418410b556dbe90ff9",
    "tags": [],
    "deepnote_cell_type": "markdown",
    "deepnote_cell_height": 52.399993896484375
   }
  },
  {
   "cell_type": "code",
   "metadata": {
    "cell_id": "25f47de8fe0e4b6a9bee5ce706be5977",
    "tags": [],
    "deepnote_to_be_reexecuted": false,
    "source_hash": "8e935742",
    "execution_start": 1651606486227,
    "execution_millis": 53377,
    "deepnote_cell_type": "code",
    "deepnote_cell_height": 603
   },
   "source": "X = data_merged_final[\n    [\"investors_round_index\",\n    \"investor_country_round_index\", \"rounds_index\", \"company_country_round_index\",\n     'time_since_first_investment','time_since_last_investment','company_age','avg_time_between_rounds',\n       'Communication_Services_round_index',\n       'Consumer_Discretionary_round_index', 'Consumer_Staples_round_index',\n       'Energy_round_index', 'Financials_round_index',\n       'Health_Care_round_index', 'Industrials_round_index',\n       'Information_Technology_round_index', 'Materials_round_index',\n       'Real_Estate_round_index', 'Utilities_round_index']\n].copy()\n\nfor column in X.columns:\n    X[column] = X[column].astype(int)\n\ny = data_merged_final[\n    'raised_amount_buckets'\n]\n\nreg = LR().fit(X,y)\nnaive_bayes = CatNB().fit(X,y)\nsvr = SVR().fit(X,y)\n\ny_hat_reg = reg.predict(X)\ny_hat_nb = naive_bayes.predict(X)\ny_hat_svr = svr.predict(X)\n\npickle.dump(reg, open('model objects/regression_predictor_model.pkl', 'wb'))\npickle.dump(naive_bayes, open('model objects/naive_bayes_predictor_model.pkl', 'wb'))\npickle.dump(svr, open('model objects/support_vect_predictor_model.pkl', 'wb'))",
   "outputs": [],
   "execution_count": null
  },
  {
   "cell_type": "code",
   "metadata": {
    "cell_id": "8979398ffdd942f6b0994fe549e2db83",
    "tags": [],
    "deepnote_to_be_reexecuted": false,
    "source_hash": "beff020d",
    "execution_start": 1651606539612,
    "execution_millis": 10,
    "deepnote_cell_type": "code",
    "deepnote_cell_height": 512.7999877929688
   },
   "source": "print('Training evaluation:')\nprint(\n    \"Regr. r2:\",\n    round(r2_score(y, y_hat_reg),2),\n    \"Regr. RMSE:\",\n    round(pow(mean_squared_error(y, y_hat_reg), 0.5),2),\n)\nprint(\n    \"Naive Bayes. r2:\",\n    round(r2_score(y, y_hat_nb),2),\n    \"Naive Bayes RMSE:\",\n    round(pow(mean_squared_error(y, y_hat_nb), 0.5),2),\n)\nprint(\n    \"SVR. r2:\",\n    round(r2_score(y, y_hat_svr),2),\n    \"SVR RMSE:\",\n    round(pow(mean_squared_error(y, y_hat_svr), 0.5),2),\n)\n",
   "outputs": [
    {
     "name": "stdout",
     "text": "Training evaluation:\nRegr. r2: 0.76 Regr. RMSE: 1.33\nNaive Bayes. r2: 0.62 Naive Bayes RMSE: 1.67\nSVR. r2: 0.78 SVR RMSE: 1.27\n",
     "output_type": "stream"
    }
   ],
   "execution_count": null
  },
  {
   "cell_type": "markdown",
   "source": "Second Evaluation - Hyperparameter Tuning using GridSearch",
   "metadata": {
    "cell_id": "73bb56484a00463ab3f31843163e3c4e",
    "tags": [],
    "deepnote_cell_type": "markdown",
    "deepnote_cell_height": 52.399993896484375
   }
  },
  {
   "cell_type": "code",
   "metadata": {
    "cell_id": "c015af95b25e4a919257ffd786ac05d0",
    "tags": [],
    "deepnote_to_be_reexecuted": false,
    "source_hash": "5e534638",
    "execution_start": 1651606539643,
    "execution_millis": 36595,
    "deepnote_cell_type": "code",
    "deepnote_cell_height": 515.7000122070312,
    "deepnote_output_heights": [
     null,
     175
    ]
   },
   "source": "param = {'max_depth' : [5,10,25],\n        'min_samples_split' : [5,10,50],\n        'min_samples_leaf' : [5,10,50],\n        'max_leaf_nodes' : [5000,1000,100],\n        'min_impurity_decrease' : [0.001, 0.01, 0.05],\n        'ccp_alpha' : [0.001,0.01,0.05]} \n\ndec_tree = DTR()\n\ngrids = GridSearchCV(dec_tree,param, scoring= 'neg_root_mean_squared_error', cv = 3, n_jobs = -1, verbose = 2000, pre_dispatch = 4)\n\ngrids.fit(X,np.ravel(y))",
   "outputs": [
    {
     "name": "stdout",
     "text": "Fitting 3 folds for each of 729 candidates, totalling 2187 fits\n",
     "output_type": "stream"
    },
    {
     "output_type": "execute_result",
     "execution_count": 77,
     "data": {
      "text/plain": "GridSearchCV(cv=3, estimator=DecisionTreeRegressor(), n_jobs=-1,\n             param_grid={'ccp_alpha': [0.001, 0.01, 0.05],\n                         'max_depth': [5, 10, 25],\n                         'max_leaf_nodes': [5000, 1000, 100],\n                         'min_impurity_decrease': [0.001, 0.01, 0.05],\n                         'min_samples_leaf': [5, 10, 50],\n                         'min_samples_split': [5, 10, 50]},\n             pre_dispatch=4, scoring='neg_root_mean_squared_error',\n             verbose=2000)"
     },
     "metadata": {}
    }
   ],
   "execution_count": null
  },
  {
   "cell_type": "code",
   "metadata": {
    "cell_id": "76376f35e63947b98c51ff9e3e86b2c1",
    "tags": [],
    "deepnote_to_be_reexecuted": false,
    "source_hash": "766ceaab",
    "execution_start": 1651606576236,
    "execution_millis": 0,
    "owner_user_id": "562fd618-0486-4ebd-8d37-6c6f870e3092",
    "deepnote_cell_type": "code",
    "deepnote_cell_height": 81
   },
   "source": "best_model = grids.best_estimator_",
   "outputs": [],
   "execution_count": null
  },
  {
   "cell_type": "code",
   "metadata": {
    "cell_id": "c982873d56644093957251aed9a41e7d",
    "tags": [],
    "deepnote_to_be_reexecuted": false,
    "source_hash": "d4a0f6ba",
    "execution_start": 1651606576237,
    "execution_millis": 21,
    "deepnote_cell_type": "code",
    "deepnote_cell_height": 81
   },
   "source": "pickle.dump(best_model, open('model objects/decision_tree_model_best.pkl', 'wb'))",
   "outputs": [],
   "execution_count": null
  },
  {
   "cell_type": "markdown",
   "source": "from sklearn.model_selection import GridSearchCV\n\nparam = {'kernel' : ('linear', 'poly', 'rbf', 'sigmoid'),'C' :\n        [1,5,10],'degree' : [3,8],'coef0' : [0.01,10,0.5],'gamma' : ('auto','scale')}\n\nmodelsvr = SVR()\n\ngrids = GridSearchCV(modelsvr,param, cv = 3, n_jobs = -1, verbose = 2)\n\ngrids.fit(X,y)",
   "metadata": {
    "cell_id": "ecbc26404e704872b5ba83a13cf61008",
    "tags": [],
    "deepnote_to_be_reexecuted": false,
    "source_hash": "2469b5eb",
    "execution_start": 1650388658134,
    "execution_millis": 73026774,
    "deepnote_cell_type": "markdown",
    "deepnote_cell_height": 198
   }
  },
  {
   "cell_type": "code",
   "metadata": {
    "cell_id": "8190f21006004c968eb64d7facd6944f",
    "tags": [],
    "deepnote_to_be_reexecuted": false,
    "source_hash": "ece3ade9",
    "execution_start": 1651606576262,
    "execution_millis": 4,
    "deepnote_cell_type": "code",
    "deepnote_cell_height": 272,
    "deepnote_output_heights": [
     175
    ]
   },
   "source": "grids",
   "outputs": [
    {
     "output_type": "execute_result",
     "execution_count": 80,
     "data": {
      "text/plain": "GridSearchCV(cv=3, estimator=DecisionTreeRegressor(), n_jobs=-1,\n             param_grid={'ccp_alpha': [0.001, 0.01, 0.05],\n                         'max_depth': [5, 10, 25],\n                         'max_leaf_nodes': [5000, 1000, 100],\n                         'min_impurity_decrease': [0.001, 0.01, 0.05],\n                         'min_samples_leaf': [5, 10, 50],\n                         'min_samples_split': [5, 10, 50]},\n             pre_dispatch=4, scoring='neg_root_mean_squared_error',\n             verbose=2000)"
     },
     "metadata": {}
    }
   ],
   "execution_count": null
  },
  {
   "cell_type": "code",
   "metadata": {
    "cell_id": "bbe2c1327e004b8b8b2606420e0afa01",
    "tags": [],
    "deepnote_to_be_reexecuted": false,
    "source_hash": "b623e53d",
    "execution_start": 1651606576271,
    "execution_millis": 0,
    "deepnote_cell_type": "code",
    "deepnote_cell_height": 81
   },
   "source": "",
   "outputs": [],
   "execution_count": null
  },
  {
   "cell_type": "markdown",
   "source": "<a style='text-decoration:none;line-height:16px;display:flex;color:#5B5B62;padding:10px;justify-content:end;' href='https://deepnote.com?utm_source=created-in-deepnote-cell&projectId=f906c6b7-4fb3-42a0-9ffa-f1056dea520e' target=\"_blank\">\n<img alt='Created in deepnote.com' style='display:inline;max-height:16px;margin:0px;margin-right:7.5px;' src='data:image/svg+xml;base64,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' > </img>\nCreated in <span style='font-weight:600;margin-left:4px;'>Deepnote</span></a>",
   "metadata": {
    "tags": [],
    "created_in_deepnote_cell": true,
    "deepnote_cell_type": "markdown"
   }
  }
 ],
 "nbformat": 4,
 "nbformat_minor": 2,
 "metadata": {
  "orig_nbformat": 2,
  "deepnote": {
   "is_reactive": false
  },
  "deepnote_notebook_id": "0898d761-322a-4d8d-8405-0900c7df03ff",
  "deepnote_execution_queue": []
 }
}