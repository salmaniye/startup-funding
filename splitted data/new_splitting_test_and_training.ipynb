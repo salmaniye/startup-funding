{
 "cells": [
  {
   "cell_type": "markdown",
   "source": "## Companies Testing and Training Data",
   "metadata": {
    "tags": [],
    "is_collapsed": false,
    "cell_id": "b1814cd3-41d4-4e86-96c2-8ec85702fe5d",
    "deepnote_cell_type": "text-cell-h2"
   }
  },
  {
   "cell_type": "code",
   "metadata": {
    "tags": [],
    "deepnote_to_be_reexecuted": false,
    "source_hash": "3b26500d",
    "execution_start": 1649955865548,
    "execution_millis": 919,
    "cell_id": "00001-4a484b40-e832-498c-aaa1-8fa9270c4f54",
    "deepnote_cell_type": "code",
    "deepnote_cell_height": 225.171875
   },
   "source": "import pandas as pd\n\ncompanies = pd.read_csv('../raw data/companies-20220215-135415.csv')\ntesting = companies.sample(frac = 0.2, random_state= 55)\ntraining = companies.drop(index = testing.index)\n\ntraining.to_csv('companies_training.csv', index = False)\ntesting.to_csv('companies_testing.csv', index = False)\n",
   "execution_count": null,
   "outputs": []
  },
  {
   "cell_type": "markdown",
   "source": "## Investments Testing and Training Data, Funding Round concatenation",
   "metadata": {
    "tags": [],
    "is_collapsed": false,
    "cell_id": "00002-2411f783-0c74-44e8-ab62-f008ae3cc587",
    "deepnote_cell_type": "text-cell-h2"
   }
  },
  {
   "cell_type": "code",
   "metadata": {
    "tags": [],
    "deepnote_to_be_reexecuted": false,
    "source_hash": "421c7c9d",
    "execution_start": 1649955866468,
    "execution_millis": 5784,
    "cell_id": "00003-a85dc68e-1700-4fa9-adfb-c94a6ad155a5",
    "deepnote_cell_type": "code",
    "deepnote_cell_height": 495.171875
   },
   "source": "investments = pd.read_csv('../raw data/newInvestmentsSheet.csv')\n\nfunding_round = []\nfor i in range(len(investments)):\n    x = investments['funding_round_type'][i]\n    x = str(x)\n    y = investments['funding_round_code'][i]\n    y = str(y)\n    if x == 'venture':\n        if y == \"nan\":\n            funding_round.append(x)\n        else:\n            z = x + \" \" + y\n            funding_round.append(z)\n    else:\n        funding_round.append(x)\n\ninvestments['funding_round']=funding_round\n\ninvestments_testing = investments[investments['company_permalink'].isin(testing['permalink'])]\ninvestments_training = investments.drop(index = investments_testing.index)\n\ninvestments_testing.to_csv('investments_testing.csv', index = False)\ninvestments_training.to_csv('investments_training.csv', index = False)",
   "execution_count": null,
   "outputs": []
  },
  {
   "cell_type": "markdown",
   "source": "## Rounds Testing and Training Data, Funding Round concatenation",
   "metadata": {
    "tags": [],
    "is_collapsed": false,
    "cell_id": "00004-cee9942a-7fff-48cb-a044-f4b9fb130c46",
    "deepnote_cell_type": "text-cell-h2"
   }
  },
  {
   "cell_type": "code",
   "metadata": {
    "tags": [],
    "deepnote_to_be_reexecuted": false,
    "source_hash": "cd76646b",
    "execution_start": 1649955872264,
    "execution_millis": 3328,
    "cell_id": "00005-eb0b746b-f730-4af5-9ca0-17ab9048814b",
    "owner_user_id": "e2c73e02-e7b5-4e09-8b5a-2daafbe19c42",
    "deepnote_cell_type": "code",
    "deepnote_cell_height": 495.171875
   },
   "source": "rounds = pd.read_csv('../raw data/rounds-20220215-135417.csv')\n\nfunding_round2 = []\nfor i in range(len(rounds)):\n    x = rounds['funding_round_type'][i]\n    x = str(x)\n    y = rounds['funding_round_code'][i]\n    y = str(y)\n    if x == 'venture':\n        if y == \"nan\":\n            funding_round2.append(x)\n        else:\n            z = x + \" \" + y\n            funding_round2.append(z)\n    else:\n        funding_round2.append(x)\n\nrounds['funding_round']=funding_round2\n\nrounds_testing = rounds[rounds['company_permalink'].isin(testing['permalink'])]\nrounds_training = rounds.drop(index = rounds_testing.index)\n\nrounds_testing.to_csv('rounds_testing.csv', index = False)\nrounds_training.to_csv('rounds_training.csv', index = False)",
   "execution_count": null,
   "outputs": []
  },
  {
   "cell_type": "code",
   "metadata": {
    "cell_id": "ddd3136ba1a74f999db86a8386db67f3",
    "tags": [],
    "deepnote_to_be_reexecuted": false,
    "source_hash": "b623e53d",
    "execution_start": 1649955875592,
    "execution_millis": 1,
    "deepnote_cell_type": "code",
    "deepnote_cell_height": 81.15625
   },
   "source": "",
   "execution_count": null,
   "outputs": []
  },
  {
   "cell_type": "code",
   "metadata": {
    "cell_id": "867a2fd1a9274121a83f60969d571472",
    "tags": [],
    "owner_user_id": "562fd618-0486-4ebd-8d37-6c6f870e3092",
    "deepnote_cell_type": "code",
    "deepnote_cell_height": 66.15625
   },
   "source": "",
   "execution_count": null,
   "outputs": []
  },
  {
   "cell_type": "markdown",
   "source": "<a style='text-decoration:none;line-height:16px;display:flex;color:#5B5B62;padding:10px;justify-content:end;' href='https://deepnote.com?utm_source=created-in-deepnote-cell&projectId=f906c6b7-4fb3-42a0-9ffa-f1056dea520e' target=\"_blank\">\n<img alt='Created in deepnote.com' style='display:inline;max-height:16px;margin:0px;margin-right:7.5px;' src='data:image/svg+xml;base64,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' > </img>\nCreated in <span style='font-weight:600;margin-left:4px;'>Deepnote</span></a>",
   "metadata": {
    "tags": [],
    "created_in_deepnote_cell": true,
    "deepnote_cell_type": "markdown"
   }
  }
 ],
 "nbformat": 4,
 "nbformat_minor": 2,
 "metadata": {
  "orig_nbformat": 2,
  "deepnote": {
   "is_reactive": false
  },
  "deepnote_notebook_id": "e86adef8-c6b4-4fc1-90df-b8ffe33d642e",
  "deepnote_execution_queue": []
 }
}