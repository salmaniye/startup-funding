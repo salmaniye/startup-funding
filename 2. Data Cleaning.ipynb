{
 "cells": [
  {
   "cell_type": "markdown",
   "source": "## 1. Sorting categories into sectors and creating indexes with rounds",
   "metadata": {
    "tags": [],
    "is_collapsed": false,
    "cell_id": "ebb42b22-70d5-4fd0-b240-39357a5dd8ff",
    "deepnote_cell_type": "text-cell-h2"
   }
  },
  {
   "cell_type": "markdown",
   "source": "Previously, there were 858 categories of companies in the main dataset. To reduce the complexity of this data, we manually assigned each category into sectors defined by Global Industry Classification Standard (GICS). This notebook replaces these categories into these sectors",
   "metadata": {
    "tags": [],
    "cell_id": "00001-f2678de5-c3d4-493b-bdb6-a55e53541d51",
    "deepnote_cell_type": "markdown",
    "deepnote_cell_height": 97.171875
   }
  },
  {
   "cell_type": "code",
   "metadata": {
    "tags": [],
    "deepnote_to_be_reexecuted": false,
    "source_hash": "38981dfe",
    "execution_start": 1650810078600,
    "execution_millis": 416,
    "cell_id": "00002-4ed2d3e6-cca4-48d9-a844-2b7da87501c8",
    "deepnote_cell_type": "code",
    "deepnote_cell_height": 387
   },
   "source": "import pandas as pd\nimport numpy as np\nimport ast\nimport json\n\ndef drop_dupes(x):\n    \"\"\"this function removes duplicates\"\"\"\n    return list(dict.fromkeys(x))\n\n# reads the csv from the manually edited categories to sectors\ncategories = pd.read_csv(\"params/company_categories.csv\", header=None)\n\n# creates the dictionary from the csv\nsectors = categories.set_index(0).to_dict()[1]\n\n# reads the rounds_training dataset\nrounds = pd.read_csv(\"splitted data/rounds_training.csv\")\nrounds_testing = pd.read_csv(\"splitted data/rounds_testing.csv\")",
   "execution_count": null,
   "outputs": []
  },
  {
   "cell_type": "code",
   "metadata": {
    "tags": [],
    "deepnote_to_be_reexecuted": false,
    "source_hash": "54bb4ce",
    "execution_start": 1650810079023,
    "execution_millis": 38,
    "cell_id": "00003-f3644f66-73d8-45f3-b3bb-d6c12b486b8b",
    "deepnote_cell_type": "code",
    "deepnote_cell_height": 243
   },
   "source": "# drops NaNs from the category list\nrounds = rounds[rounds['company_category_list'].notna()]\nrounds_testing = rounds_testing[rounds_testing['company_category_list'].notna()]\n# resets the index\nrounds = rounds.reset_index(drop=True)\nrounds_testing = rounds_testing.reset_index(drop=True)\n\n# new category list so it can be split\ncategory_list = rounds['company_category_list']\ncategory_list_testing = rounds_testing['company_category_list']",
   "execution_count": null,
   "outputs": []
  },
  {
   "cell_type": "code",
   "metadata": {
    "tags": [],
    "deepnote_to_be_reexecuted": false,
    "source_hash": "a6645cba",
    "execution_start": 1650810079164,
    "execution_millis": 32,
    "cell_id": "00004-969dfc91-8430-494a-84ac-98b386d2926a",
    "deepnote_cell_type": "code",
    "deepnote_cell_height": 369
   },
   "source": "# splits the data into individual categories in a list of lists\ncategories_list = category_list.tolist()\ncategories = []\nfor i in range(len(categories_list)):\n    if \"|\" in str(categories_list[i]):\n        categories.append(categories_list[i].split('|')) # splits the categories in that row \n    else:\n        categories.append([categories_list[i]]) # makes sure that all the types are consistent, i.e. a list. \n\n# splits the data into individual categories in a list of lists\ncategories_list_testing = category_list_testing.tolist()\ncategories_testing = []\nfor i in range(len(categories_list_testing)):\n    if \"|\" in str(categories_list_testing[i]):\n        categories_testing.append(categories_list_testing[i].split('|')) # splits the categories in that row \n    else:\n        categories_testing.append([categories_list_testing[i]]) # makes sure that all the types are consistent, i.e. a list. ",
   "execution_count": null,
   "outputs": []
  },
  {
   "cell_type": "code",
   "metadata": {
    "tags": [],
    "deepnote_to_be_reexecuted": false,
    "source_hash": "fbbb0ef3",
    "execution_start": 1650810079207,
    "execution_millis": 59,
    "cell_id": "00005-b278ace4-9457-4a5d-8384-b0335d9ba5c9",
    "deepnote_cell_type": "code",
    "deepnote_cell_height": 171
   },
   "source": "# drops the original category list\nrounds.drop(columns='company_category_list',inplace=True)\nrounds_testing.drop(columns='company_category_list',inplace=True)\n# makes a new category list from the split one\nrounds['company_category_list'] = categories\nrounds_testing['company_category_list'] = categories_testing",
   "execution_count": null,
   "outputs": []
  },
  {
   "cell_type": "code",
   "metadata": {
    "tags": [],
    "deepnote_to_be_reexecuted": false,
    "source_hash": "c25dae12",
    "execution_start": 1650810079267,
    "execution_millis": 174,
    "cell_id": "00006-76b36aba-8cb3-47df-807c-46a77e84d0d8",
    "deepnote_cell_type": "code",
    "deepnote_cell_height": 135
   },
   "source": "# changes categories into sectors\ncompany_sector = rounds['company_category_list'].apply(lambda x: [sectors[x[i]] for i in range(len(x))])\ncompany_sector_testing = rounds_testing['company_category_list'].apply(lambda x: [sectors[x[i]] for i in range(len(x))])\n",
   "execution_count": null,
   "outputs": []
  },
  {
   "cell_type": "code",
   "metadata": {
    "tags": [],
    "deepnote_to_be_reexecuted": false,
    "source_hash": "c47a843a",
    "execution_start": 1650810079445,
    "execution_millis": 145,
    "cell_id": "00007-8de58974-240b-4e1d-bad2-9269f7b0392f",
    "deepnote_cell_type": "code",
    "deepnote_cell_height": 117
   },
   "source": "# removes duplicates from the sectors\nno_dupes_company_sector = company_sector.apply(lambda x: drop_dupes(x))\nno_dupes_company_sector_testing = company_sector_testing.apply(lambda x: drop_dupes(x))",
   "execution_count": null,
   "outputs": []
  },
  {
   "cell_type": "code",
   "metadata": {
    "tags": [],
    "deepnote_to_be_reexecuted": false,
    "source_hash": "bced8b96",
    "execution_start": 1650810079598,
    "execution_millis": 5,
    "cell_id": "00008-1dc6c756-ab21-45a9-b97e-00772e784ec3",
    "deepnote_cell_type": "code",
    "deepnote_cell_height": 117
   },
   "source": "# applies back the company sector list to the main dataframe\nrounds['company_sector'] = no_dupes_company_sector\nrounds_testing['company_sector'] = no_dupes_company_sector_testing",
   "execution_count": null,
   "outputs": []
  },
  {
   "cell_type": "code",
   "metadata": {
    "tags": [],
    "deepnote_to_be_reexecuted": false,
    "source_hash": "41f3d451",
    "execution_start": 1650810079609,
    "execution_millis": 665,
    "cell_id": "00009-b9955aa1-838f-409a-8e7b-6bc007277018",
    "deepnote_cell_type": "code",
    "deepnote_cell_height": 405
   },
   "source": "sectors_list = no_dupes_company_sector\nsectors_list_testing = no_dupes_company_sector_testing\n\nfrom sklearn.preprocessing import MultiLabelBinarizer\nimport pickle\n\nmlb = MultiLabelBinarizer()\nmlb_testing = MultiLabelBinarizer()\n\nbinarized_sectors = mlb.fit_transform(sectors_list)\nbinarized_sectors_testing = mlb_testing.fit_transform(sectors_list_testing)\n\nbinarized_sectors_column_names = mlb.classes_\nbinarized_sectors_column_names_testing = mlb_testing.classes_\n\npickle.dump(mlb, open('model objects/sectors_binarizer.pkl', 'wb'))\n\noverall_categories = pd.DataFrame(data=binarized_sectors,columns=binarized_sectors_column_names)\noverall_categories_testing = pd.DataFrame(data=binarized_sectors_testing,columns=binarized_sectors_column_names_testing)",
   "execution_count": null,
   "outputs": []
  },
  {
   "cell_type": "code",
   "metadata": {
    "tags": [],
    "deepnote_to_be_reexecuted": false,
    "source_hash": "eee72882",
    "execution_start": 1650810080314,
    "execution_millis": 38,
    "cell_id": "00010-0df2ef5c-f8d5-4d2b-82df-b077dd13bd8a",
    "deepnote_cell_type": "code",
    "deepnote_cell_height": 99
   },
   "source": "final = pd.concat([rounds, overall_categories], axis=1)\nfinal_testing = pd.concat([rounds_testing, overall_categories_testing], axis=1)",
   "execution_count": null,
   "outputs": []
  },
  {
   "cell_type": "code",
   "metadata": {
    "tags": [],
    "deepnote_to_be_reexecuted": false,
    "source_hash": "4c17d09e",
    "execution_start": 1650810080353,
    "execution_millis": 0,
    "cell_id": "00012-9b42db06-4ccb-46a7-8051-fe1e8006054b",
    "deepnote_cell_type": "code",
    "deepnote_cell_height": 207
   },
   "source": "def parse_tuple(string):\n    try:\n        s = ast.literal_eval(str(string))\n        if type(s) == tuple:\n            return s\n        return\n    except:\n        return",
   "execution_count": null,
   "outputs": []
  },
  {
   "cell_type": "markdown",
   "source": "### 1.1 \"Communication Services\" index",
   "metadata": {
    "tags": [],
    "is_collapsed": false,
    "cell_id": "00013-af70cdc5-4276-46ef-924e-65f94041b058",
    "deepnote_cell_type": "text-cell-h3"
   }
  },
  {
   "cell_type": "code",
   "metadata": {
    "tags": [],
    "deepnote_to_be_reexecuted": false,
    "source_hash": "a2b3d4d0",
    "execution_start": 1650810080355,
    "execution_millis": 55,
    "cell_id": "00014-e3d08758-631e-4e53-a466-00923cb7bfc0",
    "deepnote_cell_type": "code",
    "deepnote_cell_height": 189
   },
   "source": "# creating indexes for each round in each sector\nsector1_temp = final[final['Communication Services']==1]\nCommunication_Services = sector1_temp.groupby(['Communication Services', 'funding_round']).agg({'raised_amount_usd': 'mean'})\nCommunication_Services['raised_amount_usd'] = Communication_Services['raised_amount_usd'].fillna(0)\nCommunication_Services['sector_index'] = pd.qcut(Communication_Services['raised_amount_usd'], q = 10, labels=['1','2','3','4','5','6','7','8','9','10'])\n\nCommunication_Services['sector_index'].to_json('sectors json/sector_rounds_communication_services.json')",
   "execution_count": null,
   "outputs": []
  },
  {
   "cell_type": "markdown",
   "source": "### 1.2. \"Consumer&nbsp;Discretionary\" index",
   "metadata": {
    "tags": [],
    "is_collapsed": false,
    "cell_id": "00015-f3ca5dc8-9852-44ad-b21d-d4a3681933aa",
    "deepnote_cell_type": "text-cell-h3"
   }
  },
  {
   "cell_type": "code",
   "metadata": {
    "tags": [],
    "deepnote_to_be_reexecuted": false,
    "source_hash": "fc278ea9",
    "execution_start": 1650810080413,
    "execution_millis": 15,
    "cell_id": "00016-ac3dd852-a40a-4de9-920e-9c2efd0a7071",
    "deepnote_cell_type": "code",
    "deepnote_cell_height": 189
   },
   "source": "sector2_temp = final[final['Consumer Discretionary']==1]\nConsumer_Discretionary = sector2_temp.groupby(['Consumer Discretionary', 'funding_round']).agg({'raised_amount_usd': 'mean'})\nConsumer_Discretionary['raised_amount_usd'] = Consumer_Discretionary['raised_amount_usd'].fillna(0)\nConsumer_Discretionary['sector_index'] = pd.qcut(Consumer_Discretionary['raised_amount_usd'], q = 10, labels=['1','2','3','4','5','6','7','8','9','10'])\n\nConsumer_Discretionary['sector_index'].to_json('sectors json/sector_rounds_consumer_discretionary.json')\n",
   "execution_count": null,
   "outputs": []
  },
  {
   "cell_type": "markdown",
   "source": "### 1.3. \"Consumer Staples\" index",
   "metadata": {
    "tags": [],
    "is_collapsed": false,
    "cell_id": "00017-a3b4abdc-4a1e-4230-81f6-43c402d46ef8",
    "deepnote_cell_type": "text-cell-h3"
   }
  },
  {
   "cell_type": "code",
   "metadata": {
    "tags": [],
    "deepnote_to_be_reexecuted": false,
    "source_hash": "1fcd1050",
    "execution_start": 1650810080476,
    "execution_millis": 0,
    "cell_id": "00018-aed443a3-abb6-424f-8a5c-077956b0d66a",
    "deepnote_cell_type": "code",
    "deepnote_cell_height": 171
   },
   "source": "sector3_temp = final[final['Consumer Staples']==1]\nConsumer_Staples = sector3_temp.groupby(['Consumer Staples', 'funding_round']).agg({'raised_amount_usd': 'mean'})\nConsumer_Staples['raised_amount_usd'] = Consumer_Staples['raised_amount_usd'].fillna(0)\nConsumer_Staples['sector_index'] = pd.qcut(Consumer_Staples['raised_amount_usd'], q = 10, labels=['1','2','3','4','5','6','7','8','9','10'])\n\nConsumer_Staples['sector_index'].to_json('sectors json/sector_rounds_consumer_staples.json')",
   "execution_count": null,
   "outputs": []
  },
  {
   "cell_type": "markdown",
   "source": "### 1.4. \"Energy\" index",
   "metadata": {
    "tags": [],
    "is_collapsed": false,
    "cell_id": "00019-51a5e5a4-6075-42ce-8230-966c376e713c",
    "deepnote_cell_type": "text-cell-h3"
   }
  },
  {
   "cell_type": "code",
   "metadata": {
    "tags": [],
    "deepnote_to_be_reexecuted": false,
    "source_hash": "db4bd907",
    "execution_start": 1650810080477,
    "execution_millis": 0,
    "cell_id": "00020-d0c3b144-c471-48eb-9d21-b57a01260b2a",
    "deepnote_cell_type": "code",
    "deepnote_cell_height": 171
   },
   "source": "sector4_temp = final[final['Energy']==1]\nEnergy = sector4_temp.groupby(['Energy', 'funding_round']).agg({'raised_amount_usd': 'mean'})\nEnergy['raised_amount_usd'] = Energy['raised_amount_usd'].fillna(0)\nEnergy['sector_index'] = pd.qcut(Energy['raised_amount_usd'], q = 10, labels=['1','2','3','4','5','6','7','8','9','10'])\n\nEnergy['sector_index'].to_json('sectors json/sector_rounds_energy.json')",
   "execution_count": null,
   "outputs": []
  },
  {
   "cell_type": "markdown",
   "source": "### 1.5. \"Financials\" index",
   "metadata": {
    "tags": [],
    "is_collapsed": false,
    "cell_id": "00021-60811bc7-b559-499a-ac51-958e87575b05",
    "deepnote_cell_type": "text-cell-h3"
   }
  },
  {
   "cell_type": "code",
   "metadata": {
    "tags": [],
    "deepnote_to_be_reexecuted": false,
    "source_hash": "1ce96b88",
    "execution_start": 1650810080478,
    "execution_millis": 47,
    "cell_id": "00022-59274be7-ca1f-4c71-bc23-f7a5c6d92310",
    "deepnote_cell_type": "code",
    "deepnote_cell_height": 189
   },
   "source": "sector5_temp = final[final['Financials']==1]\nFinancials = sector5_temp.groupby(['Financials', 'funding_round']).agg({'raised_amount_usd': 'mean'})\nFinancials['raised_amount_usd'] = Financials['raised_amount_usd'].fillna(0)\nFinancials['sector_index'] = pd.qcut(Financials['raised_amount_usd'], q = 10, labels=['1','2','3','4','5','6','7','8','9','10'])\n\nFinancials['sector_index'].to_json('sectors json/sector_rounds_financials.json')\n",
   "execution_count": null,
   "outputs": []
  },
  {
   "cell_type": "markdown",
   "source": "### 1.6. \"Health Care\" index",
   "metadata": {
    "tags": [],
    "is_collapsed": false,
    "cell_id": "00023-6f710404-2bcb-43e4-8245-8ddca9d5b0fb",
    "deepnote_cell_type": "text-cell-h3"
   }
  },
  {
   "cell_type": "code",
   "metadata": {
    "tags": [],
    "deepnote_to_be_reexecuted": false,
    "source_hash": "65773389",
    "execution_start": 1650810080525,
    "execution_millis": 0,
    "cell_id": "00024-1e44bc88-791a-414f-a96c-c5e1df1c660c",
    "deepnote_cell_type": "code",
    "deepnote_cell_height": 171
   },
   "source": "sector6_temp = final[final['Health Care']==1]\nHealth_Care = sector6_temp.groupby(['Health Care', 'funding_round']).agg({'raised_amount_usd': 'mean'})\nHealth_Care['raised_amount_usd'] = Health_Care['raised_amount_usd'].fillna(0)\nHealth_Care['sector_index'] = pd.qcut(Health_Care['raised_amount_usd'], q = 10, labels=['1','2','3','4','5','6','7','8','9','10'])\n\nHealth_Care['sector_index'].to_json('sectors json/sector_rounds_health_care.json')",
   "execution_count": null,
   "outputs": []
  },
  {
   "cell_type": "markdown",
   "source": "### 1.7. \"Industrials\" index",
   "metadata": {
    "tags": [],
    "is_collapsed": false,
    "cell_id": "00025-dda6c72b-ddde-47fe-8f18-a34d6d88f53c",
    "deepnote_cell_type": "text-cell-h3"
   }
  },
  {
   "cell_type": "code",
   "metadata": {
    "tags": [],
    "deepnote_to_be_reexecuted": false,
    "source_hash": "782547e3",
    "execution_start": 1650810080526,
    "execution_millis": 2,
    "cell_id": "00026-8c212a61-3eb9-47da-8691-1aecdd11af24",
    "deepnote_cell_type": "code",
    "deepnote_cell_height": 189
   },
   "source": "sector7_temp = final[final['Industrials']==1]\nIndustrials = sector7_temp.groupby(['Industrials', 'funding_round']).agg({'raised_amount_usd': 'mean'})\nIndustrials['raised_amount_usd'] = Industrials['raised_amount_usd'].fillna(0)\nIndustrials['sector_index'] = pd.qcut(Industrials['raised_amount_usd'], q = 10, labels=['1','2','3','4','5','6','7','8','9','10'])\n\nIndustrials['sector_index'].to_json('sectors json/sector_rounds_industrials.json')\n",
   "execution_count": null,
   "outputs": []
  },
  {
   "cell_type": "markdown",
   "source": "### 1.8. \"Information Technology\" index",
   "metadata": {
    "tags": [],
    "is_collapsed": false,
    "cell_id": "00027-ff3067a1-54fb-49a2-9f4d-dbadb3bc9b3b",
    "deepnote_cell_type": "text-cell-h3"
   }
  },
  {
   "cell_type": "code",
   "metadata": {
    "tags": [],
    "deepnote_to_be_reexecuted": false,
    "source_hash": "664c7246",
    "execution_start": 1650810080529,
    "execution_millis": 31,
    "cell_id": "00028-f1638b75-2be4-4105-8ba2-29debdd6ab2e",
    "deepnote_cell_type": "code",
    "deepnote_cell_height": 171
   },
   "source": "sector8_temp = final[final['Information Technology']==1]\nInformation_Technology = sector8_temp.groupby(['Information Technology', 'funding_round']).agg({'raised_amount_usd': 'mean'})\nInformation_Technology['raised_amount_usd'] = Information_Technology['raised_amount_usd'].fillna(0)\nInformation_Technology['sector_index'] = pd.qcut(Information_Technology['raised_amount_usd'], q = 10, labels=['1','2','3','4','5','6','7','8','9','10'])\n\nInformation_Technology['sector_index'].to_json('sectors json/sector_rounds_information_technology.json')",
   "execution_count": null,
   "outputs": []
  },
  {
   "cell_type": "markdown",
   "source": "### 1.9. \"Materials\" index",
   "metadata": {
    "tags": [],
    "is_collapsed": false,
    "cell_id": "00029-6e06273a-5091-4b64-bcd9-304dad296b90",
    "deepnote_cell_type": "text-cell-h3"
   }
  },
  {
   "cell_type": "code",
   "metadata": {
    "tags": [],
    "deepnote_to_be_reexecuted": false,
    "source_hash": "65ab1f9",
    "execution_start": 1650810080561,
    "execution_millis": 7,
    "cell_id": "00030-d8fef42c-986c-42da-b079-418a022254a6",
    "deepnote_cell_type": "code",
    "deepnote_cell_height": 189
   },
   "source": "sector9_temp = final[final['Materials']==1]\nMaterials = sector9_temp.groupby(['Materials', 'funding_round']).agg({'raised_amount_usd': 'mean'})\nMaterials['raised_amount_usd'] = Materials['raised_amount_usd'].fillna(0)\nMaterials['sector_index'] = pd.qcut(Materials['raised_amount_usd'], q = 10, labels=['1','2','3','4','5','6','7','8','9','10'])\n\nMaterials['sector_index'].to_json('sectors json/sector_rounds_materials.json')\n",
   "execution_count": null,
   "outputs": []
  },
  {
   "cell_type": "markdown",
   "source": "### 1.10. \"Real Estate\" index ",
   "metadata": {
    "tags": [],
    "is_collapsed": false,
    "cell_id": "00031-4d006a18-df78-455c-a1e1-d749dd42a233",
    "deepnote_cell_type": "text-cell-h3"
   }
  },
  {
   "cell_type": "code",
   "metadata": {
    "tags": [],
    "deepnote_to_be_reexecuted": false,
    "source_hash": "147e30a1",
    "execution_start": 1650810080571,
    "execution_millis": 13,
    "cell_id": "00032-db1adf95-bd00-4bb8-aba6-49a26834801d",
    "deepnote_cell_type": "code",
    "deepnote_cell_height": 171
   },
   "source": "sector10_temp = final[final['Real Estate']==1]\nReal_Estate = sector10_temp.groupby(['Real Estate', 'funding_round']).agg({'raised_amount_usd': 'mean'})\nReal_Estate['raised_amount_usd'] = Real_Estate['raised_amount_usd'].fillna(0)\nReal_Estate['sector_index'] = pd.qcut(Real_Estate['raised_amount_usd'], q = 10, labels=['1','2','3','4','5','6','7','8','9','10'])\n\nReal_Estate['sector_index'].to_json('sectors json/sector_rounds_real_estate.json')",
   "execution_count": null,
   "outputs": []
  },
  {
   "cell_type": "markdown",
   "source": "### 1.11. \"Utilities\" index",
   "metadata": {
    "tags": [],
    "is_collapsed": false,
    "cell_id": "00033-fd3caecc-5826-4797-87ab-4bb31e6937b9",
    "deepnote_cell_type": "text-cell-h3"
   }
  },
  {
   "cell_type": "code",
   "metadata": {
    "tags": [],
    "deepnote_to_be_reexecuted": false,
    "source_hash": "d7b12cd7",
    "execution_start": 1650810080588,
    "execution_millis": 12,
    "cell_id": "00034-01581d23-a85f-4007-942e-14ba817c20d3",
    "deepnote_cell_type": "code",
    "deepnote_cell_height": 171
   },
   "source": "sector11_temp = final[final['Utilities']==1]\nUtilities = sector11_temp.groupby(['Utilities', 'funding_round']).agg({'raised_amount_usd': 'mean'})\nUtilities['raised_amount_usd'] = Utilities['raised_amount_usd'].fillna(0)\nUtilities['sector_index'] = pd.qcut(Utilities['raised_amount_usd'], q = 10, labels=['1','2','3','4','5','6','7','8','9','10'])\n\nUtilities['sector_index'].to_json('sectors json/sector_rounds_utilities.json')",
   "execution_count": null,
   "outputs": []
  },
  {
   "cell_type": "markdown",
   "source": "## 2. Creating investor and startup company country name grouping dictionary",
   "metadata": {
    "tags": [],
    "is_collapsed": false,
    "cell_id": "00036-b41287a4-7abc-4ed2-b8f0-eb33841975cc",
    "deepnote_cell_type": "text-cell-h2"
   }
  },
  {
   "cell_type": "markdown",
   "source": "### 2.1. investor_country_name_grouping.json",
   "metadata": {
    "tags": [],
    "is_collapsed": false,
    "cell_id": "00037-05979b0e-edb8-44e6-8b68-3e0596a0f12a",
    "deepnote_cell_type": "text-cell-h3"
   }
  },
  {
   "cell_type": "code",
   "metadata": {
    "tags": [],
    "deepnote_to_be_reexecuted": false,
    "source_hash": "34433199",
    "execution_start": 1650810080603,
    "execution_millis": 634,
    "cell_id": "00038-be991749-8026-4791-8a75-4a711d036c0e",
    "deepnote_cell_type": "code",
    "deepnote_cell_height": 153
   },
   "source": "#investor countries\ndf = pd.read_csv('splitted data/investments_training.csv')\ndf.drop(df.columns.difference(['funding_round','new_raised_amount_usd','investor_country_code']), 1, inplace=True)\n# drop NaNs\ndf.dropna(inplace=True)",
   "execution_count": null,
   "outputs": []
  },
  {
   "cell_type": "code",
   "metadata": {
    "tags": [],
    "deepnote_to_be_reexecuted": false,
    "source_hash": "74dce8a2",
    "execution_start": 1650810081249,
    "execution_millis": 43,
    "cell_id": "00039-e1707590-f79b-4aa6-9bd8-cc4fffe15257",
    "deepnote_cell_type": "code",
    "deepnote_cell_height": 726
   },
   "source": "# Groups investor countries having less observations, renames with OTHER\ncountry_counts = df['investor_country_code'].value_counts().to_frame()\ncountry_counts['cumulative_counts'] = country_counts['investor_country_code'].cumsum()\ncountry_counts['cumulative_percentage'] = country_counts['cumulative_counts'] / country_counts['cumulative_counts'].tail(1).values\ncountry_counts['rn'] = np.arange(1,len(country_counts)+1)\ncountry_counts['rn_percentage'] = country_counts['rn'] / country_counts['rn'].tail(1).values\ncountry_counts.reset_index(inplace = True)\ncountry_counts",
   "execution_count": null,
   "outputs": [
    {
     "output_type": "execute_result",
     "execution_count": 23,
     "data": {
      "application/vnd.deepnote.dataframe.v3+json": {
       "column_count": 6,
       "row_count": 94,
       "columns": [
        {
         "name": "index",
         "dtype": "object",
         "stats": {
          "unique_count": 94,
          "nan_count": 0,
          "categories": [
           {
            "name": "USA",
            "count": 1
           },
           {
            "name": "GBR",
            "count": 1
           },
           {
            "name": "92 others",
            "count": 92
           }
          ]
         }
        },
        {
         "name": "investor_country_code",
         "dtype": "int64",
         "stats": {
          "unique_count": 67,
          "nan_count": 0,
          "min": "1",
          "max": "68050",
          "histogram": [
           {
            "bin_start": 1,
            "bin_end": 6805.9,
            "count": 93
           },
           {
            "bin_start": 6805.9,
            "bin_end": 13610.8,
            "count": 0
           },
           {
            "bin_start": 13610.8,
            "bin_end": 20415.699999999997,
            "count": 0
           },
           {
            "bin_start": 20415.699999999997,
            "bin_end": 27220.6,
            "count": 0
           },
           {
            "bin_start": 27220.6,
            "bin_end": 34025.5,
            "count": 0
           },
           {
            "bin_start": 34025.5,
            "bin_end": 40830.399999999994,
            "count": 0
           },
           {
            "bin_start": 40830.399999999994,
            "bin_end": 47635.299999999996,
            "count": 0
           },
           {
            "bin_start": 47635.299999999996,
            "bin_end": 54440.2,
            "count": 0
           },
           {
            "bin_start": 54440.2,
            "bin_end": 61245.1,
            "count": 0
           },
           {
            "bin_start": 61245.1,
            "bin_end": 68050,
            "count": 1
           }
          ]
         }
        },
        {
         "name": "cumulative_counts",
         "dtype": "int64",
         "stats": {
          "unique_count": 94,
          "nan_count": 0,
          "min": "68050",
          "max": "95648",
          "histogram": [
           {
            "bin_start": 68050,
            "bin_end": 70809.8,
            "count": 1
           },
           {
            "bin_start": 70809.8,
            "bin_end": 73569.6,
            "count": 1
           },
           {
            "bin_start": 73569.6,
            "bin_end": 76329.4,
            "count": 1
           },
           {
            "bin_start": 76329.4,
            "bin_end": 79089.2,
            "count": 1
           },
           {
            "bin_start": 79089.2,
            "bin_end": 81849,
            "count": 2
           },
           {
            "bin_start": 81849,
            "bin_end": 84608.8,
            "count": 2
           },
           {
            "bin_start": 84608.8,
            "bin_end": 87368.6,
            "count": 3
           },
           {
            "bin_start": 87368.6,
            "bin_end": 90128.4,
            "count": 5
           },
           {
            "bin_start": 90128.4,
            "bin_end": 92888.2,
            "count": 7
           },
           {
            "bin_start": 92888.2,
            "bin_end": 95648,
            "count": 71
           }
          ]
         }
        },
        {
         "name": "cumulative_percentage",
         "dtype": "float64",
         "stats": {
          "unique_count": 94,
          "nan_count": 0,
          "min": "0.7114628638340582",
          "max": "1.0",
          "histogram": [
           {
            "bin_start": 0.7114628638340582,
            "bin_end": 0.7403165774506524,
            "count": 1
           },
           {
            "bin_start": 0.7403165774506524,
            "bin_end": 0.7691702910672465,
            "count": 1
           },
           {
            "bin_start": 0.7691702910672465,
            "bin_end": 0.7980240046838407,
            "count": 1
           },
           {
            "bin_start": 0.7980240046838407,
            "bin_end": 0.8268777183004349,
            "count": 1
           },
           {
            "bin_start": 0.8268777183004349,
            "bin_end": 0.855731431917029,
            "count": 2
           },
           {
            "bin_start": 0.855731431917029,
            "bin_end": 0.8845851455336233,
            "count": 2
           },
           {
            "bin_start": 0.8845851455336233,
            "bin_end": 0.9134388591502175,
            "count": 3
           },
           {
            "bin_start": 0.9134388591502175,
            "bin_end": 0.9422925727668117,
            "count": 5
           },
           {
            "bin_start": 0.9422925727668117,
            "bin_end": 0.9711462863834058,
            "count": 7
           },
           {
            "bin_start": 0.9711462863834058,
            "bin_end": 1,
            "count": 71
           }
          ]
         }
        },
        {
         "name": "rn",
         "dtype": "int64",
         "stats": {
          "unique_count": 94,
          "nan_count": 0,
          "min": "1",
          "max": "94",
          "histogram": [
           {
            "bin_start": 1,
            "bin_end": 10.3,
            "count": 10
           },
           {
            "bin_start": 10.3,
            "bin_end": 19.6,
            "count": 9
           },
           {
            "bin_start": 19.6,
            "bin_end": 28.900000000000002,
            "count": 9
           },
           {
            "bin_start": 28.900000000000002,
            "bin_end": 38.2,
            "count": 10
           },
           {
            "bin_start": 38.2,
            "bin_end": 47.5,
            "count": 9
           },
           {
            "bin_start": 47.5,
            "bin_end": 56.800000000000004,
            "count": 9
           },
           {
            "bin_start": 56.800000000000004,
            "bin_end": 66.10000000000001,
            "count": 10
           },
           {
            "bin_start": 66.10000000000001,
            "bin_end": 75.4,
            "count": 9
           },
           {
            "bin_start": 75.4,
            "bin_end": 84.7,
            "count": 9
           },
           {
            "bin_start": 84.7,
            "bin_end": 94,
            "count": 10
           }
          ]
         }
        },
        {
         "name": "rn_percentage",
         "dtype": "float64",
         "stats": {
          "unique_count": 94,
          "nan_count": 0,
          "min": "0.010638297872340425",
          "max": "1.0",
          "histogram": [
           {
            "bin_start": 0.010638297872340425,
            "bin_end": 0.10957446808510639,
            "count": 10
           },
           {
            "bin_start": 0.10957446808510639,
            "bin_end": 0.20851063829787234,
            "count": 9
           },
           {
            "bin_start": 0.20851063829787234,
            "bin_end": 0.3074468085106383,
            "count": 9
           },
           {
            "bin_start": 0.3074468085106383,
            "bin_end": 0.4063829787234043,
            "count": 10
           },
           {
            "bin_start": 0.4063829787234043,
            "bin_end": 0.5053191489361702,
            "count": 9
           },
           {
            "bin_start": 0.5053191489361702,
            "bin_end": 0.6042553191489362,
            "count": 9
           },
           {
            "bin_start": 0.6042553191489362,
            "bin_end": 0.7031914893617021,
            "count": 10
           },
           {
            "bin_start": 0.7031914893617021,
            "bin_end": 0.8021276595744681,
            "count": 9
           },
           {
            "bin_start": 0.8021276595744681,
            "bin_end": 0.9010638297872341,
            "count": 9
           },
           {
            "bin_start": 0.9010638297872341,
            "bin_end": 1,
            "count": 10
           }
          ]
         }
        },
        {
         "name": "_deepnote_index_column",
         "dtype": "int64"
        }
       ],
       "rows": [
        {
         "index": "USA",
         "investor_country_code": 68050,
         "cumulative_counts": 68050,
         "cumulative_percentage": 0.7114628638340582,
         "rn": 1,
         "rn_percentage": 0.010638297872340425,
         "_deepnote_index_column": 0
        },
        {
         "index": "GBR",
         "investor_country_code": 5307,
         "cumulative_counts": 73357,
         "cumulative_percentage": 0.7669475577116093,
         "rn": 2,
         "rn_percentage": 0.02127659574468085,
         "_deepnote_index_column": 1
        },
        {
         "index": "FRA",
         "investor_country_code": 2228,
         "cumulative_counts": 75585,
         "cumulative_percentage": 0.7902413014386083,
         "rn": 3,
         "rn_percentage": 0.031914893617021274,
         "_deepnote_index_column": 2
        },
        {
         "index": "CAN",
         "investor_country_code": 2114,
         "cumulative_counts": 77699,
         "cumulative_percentage": 0.812343174974908,
         "rn": 4,
         "rn_percentage": 0.0425531914893617,
         "_deepnote_index_column": 3
        },
        {
         "index": "DEU",
         "investor_country_code": 1788,
         "cumulative_counts": 79487,
         "cumulative_percentage": 0.8310367179658749,
         "rn": 5,
         "rn_percentage": 0.05319148936170213,
         "_deepnote_index_column": 4
        },
        {
         "index": "ISR",
         "investor_country_code": 1688,
         "cumulative_counts": 81175,
         "cumulative_percentage": 0.8486847607895617,
         "rn": 6,
         "rn_percentage": 0.06382978723404255,
         "_deepnote_index_column": 5
        },
        {
         "index": "CHN",
         "investor_country_code": 1525,
         "cumulative_counts": 82700,
         "cumulative_percentage": 0.8646286383405821,
         "rn": 7,
         "rn_percentage": 0.07446808510638298,
         "_deepnote_index_column": 6
        },
        {
         "index": "ESP",
         "investor_country_code": 1442,
         "cumulative_counts": 84142,
         "cumulative_percentage": 0.8797047507527601,
         "rn": 8,
         "rn_percentage": 0.0851063829787234,
         "_deepnote_index_column": 7
        },
        {
         "index": "CHE",
         "investor_country_code": 1122,
         "cumulative_counts": 85264,
         "cumulative_percentage": 0.891435262629642,
         "rn": 9,
         "rn_percentage": 0.09574468085106383,
         "_deepnote_index_column": 8
        },
        {
         "index": "JPN",
         "investor_country_code": 907,
         "cumulative_counts": 86171,
         "cumulative_percentage": 0.9009179491468718,
         "rn": 10,
         "rn_percentage": 0.10638297872340426,
         "_deepnote_index_column": 9
        }
       ]
      },
      "text/plain": "   index  investor_country_code  cumulative_counts  cumulative_percentage  rn  \\\n0    USA                  68050              68050               0.711463   1   \n1    GBR                   5307              73357               0.766948   2   \n2    FRA                   2228              75585               0.790241   3   \n3    CAN                   2114              77699               0.812343   4   \n4    DEU                   1788              79487               0.831037   5   \n..   ...                    ...                ...                    ...  ..   \n89   TGO                      1              95644               0.999958  90   \n90   BGD                      1              95645               0.999969  91   \n91   GTM                      1              95646               0.999979  92   \n92   KHM                      1              95647               0.999990  93   \n93   VEN                      1              95648               1.000000  94   \n\n    rn_percentage  \n0        0.010638  \n1        0.021277  \n2        0.031915  \n3        0.042553  \n4        0.053191  \n..            ...  \n89       0.957447  \n90       0.968085  \n91       0.978723  \n92       0.989362  \n93       1.000000  \n\n[94 rows x 6 columns]",
      "text/html": "<div>\n<style scoped>\n    .dataframe tbody tr th:only-of-type {\n        vertical-align: middle;\n    }\n\n    .dataframe tbody tr th {\n        vertical-align: top;\n    }\n\n    .dataframe thead th {\n        text-align: right;\n    }\n</style>\n<table border=\"1\" class=\"dataframe\">\n  <thead>\n    <tr style=\"text-align: right;\">\n      <th></th>\n      <th>index</th>\n      <th>investor_country_code</th>\n      <th>cumulative_counts</th>\n      <th>cumulative_percentage</th>\n      <th>rn</th>\n      <th>rn_percentage</th>\n    </tr>\n  </thead>\n  <tbody>\n    <tr>\n      <th>0</th>\n      <td>USA</td>\n      <td>68050</td>\n      <td>68050</td>\n      <td>0.711463</td>\n      <td>1</td>\n      <td>0.010638</td>\n    </tr>\n    <tr>\n      <th>1</th>\n      <td>GBR</td>\n      <td>5307</td>\n      <td>73357</td>\n      <td>0.766948</td>\n      <td>2</td>\n      <td>0.021277</td>\n    </tr>\n    <tr>\n      <th>2</th>\n      <td>FRA</td>\n      <td>2228</td>\n      <td>75585</td>\n      <td>0.790241</td>\n      <td>3</td>\n      <td>0.031915</td>\n    </tr>\n    <tr>\n      <th>3</th>\n      <td>CAN</td>\n      <td>2114</td>\n      <td>77699</td>\n      <td>0.812343</td>\n      <td>4</td>\n      <td>0.042553</td>\n    </tr>\n    <tr>\n      <th>4</th>\n      <td>DEU</td>\n      <td>1788</td>\n      <td>79487</td>\n      <td>0.831037</td>\n      <td>5</td>\n      <td>0.053191</td>\n    </tr>\n    <tr>\n      <th>...</th>\n      <td>...</td>\n      <td>...</td>\n      <td>...</td>\n      <td>...</td>\n      <td>...</td>\n      <td>...</td>\n    </tr>\n    <tr>\n      <th>89</th>\n      <td>TGO</td>\n      <td>1</td>\n      <td>95644</td>\n      <td>0.999958</td>\n      <td>90</td>\n      <td>0.957447</td>\n    </tr>\n    <tr>\n      <th>90</th>\n      <td>BGD</td>\n      <td>1</td>\n      <td>95645</td>\n      <td>0.999969</td>\n      <td>91</td>\n      <td>0.968085</td>\n    </tr>\n    <tr>\n      <th>91</th>\n      <td>GTM</td>\n      <td>1</td>\n      <td>95646</td>\n      <td>0.999979</td>\n      <td>92</td>\n      <td>0.978723</td>\n    </tr>\n    <tr>\n      <th>92</th>\n      <td>KHM</td>\n      <td>1</td>\n      <td>95647</td>\n      <td>0.999990</td>\n      <td>93</td>\n      <td>0.989362</td>\n    </tr>\n    <tr>\n      <th>93</th>\n      <td>VEN</td>\n      <td>1</td>\n      <td>95648</td>\n      <td>1.000000</td>\n      <td>94</td>\n      <td>1.000000</td>\n    </tr>\n  </tbody>\n</table>\n<p>94 rows × 6 columns</p>\n</div>"
     },
     "metadata": {}
    }
   ]
  },
  {
   "cell_type": "code",
   "metadata": {
    "tags": [],
    "deepnote_to_be_reexecuted": false,
    "source_hash": "fc6f1e9b",
    "execution_start": 1650810081293,
    "execution_millis": 976,
    "cell_id": "00040-de4573a5-8b35-42a7-908c-85f8bd6cf55c",
    "deepnote_cell_type": "code",
    "deepnote_cell_height": 414,
    "deepnote_output_heights": [
     21,
     265
    ]
   },
   "source": "country_counts.plot.scatter(x = 'cumulative_percentage', y = 'rn_percentage')",
   "execution_count": null,
   "outputs": [
    {
     "output_type": "execute_result",
     "execution_count": 24,
     "data": {
      "text/plain": "<AxesSubplot:xlabel='cumulative_percentage', ylabel='rn_percentage'>"
     },
     "metadata": {}
    },
    {
     "data": {
      "text/plain": "<Figure size 432x288 with 1 Axes>",
      "image/png": "[encoded data removed]"
     },
     "metadata": {
      "needs_background": "light",
      "image/png": {
       "width": 386,
       "height": 263
      }
     },
     "output_type": "display_data"
    }
   ]
  },
  {
   "cell_type": "code",
   "metadata": {
    "tags": [],
    "deepnote_to_be_reexecuted": false,
    "source_hash": "abdab688",
    "execution_start": 1650810082311,
    "execution_millis": 1,
    "cell_id": "00041-93625de5-6a8e-4396-9694-215adc4fe295",
    "owner_user_id": "e2c73e02-e7b5-4e09-8b5a-2daafbe19c42",
    "deepnote_cell_type": "code",
    "deepnote_cell_height": 189
   },
   "source": "country_counts['investor_country_name_new'] = country_counts.apply(lambda x: x['index'] if x['cumulative_percentage']<0.99 else 'OTHER', axis = 1)\ncountry_counts = country_counts[['index','investor_country_name_new']]\ncountry_counts.index = country_counts['index']\ndel country_counts['index']\ncountry_counts\n\ncountry_counts.to_json('params/investor_country_name_grouping.json')",
   "execution_count": null,
   "outputs": []
  },
  {
   "cell_type": "markdown",
   "source": "### 2.2. startup_country_name_grouping.json",
   "metadata": {
    "tags": [],
    "is_collapsed": false,
    "cell_id": "00042-a19ac270-4cdf-4947-92ec-480fe677fc28",
    "deepnote_cell_type": "text-cell-h3"
   }
  },
  {
   "cell_type": "code",
   "metadata": {
    "tags": [],
    "deepnote_to_be_reexecuted": false,
    "source_hash": "dbccf7ce",
    "execution_start": 1650810082312,
    "execution_millis": 587,
    "cell_id": "00043-a6a73c5b-8e5d-4f17-b6cc-aaf9a2cce1d6",
    "deepnote_cell_type": "code",
    "deepnote_cell_height": 153
   },
   "source": "#startup company countries\ndf = pd.read_csv('splitted data/investments_training.csv')\ndf.drop(df.columns.difference(['funding_round','new_raised_amount_usd','company_country_code']), 1, inplace=True)\n# drop NaNs\ndf.dropna(inplace=True)",
   "execution_count": null,
   "outputs": []
  },
  {
   "cell_type": "code",
   "metadata": {
    "tags": [],
    "deepnote_to_be_reexecuted": false,
    "source_hash": "96bd5500",
    "execution_start": 1650810082918,
    "execution_millis": 393,
    "cell_id": "00044-7b01aebb-d7f3-4192-b8d4-3dea866abcdc",
    "deepnote_cell_type": "code",
    "deepnote_cell_height": 726
   },
   "source": "# Groups startup company countries having less observations, renames with OTHER\ncountry_counts = df['company_country_code'].value_counts().to_frame()\ncountry_counts['cumulative_counts'] = country_counts['company_country_code'].cumsum()\ncountry_counts['cumulative_percentage'] = country_counts['cumulative_counts'] / country_counts['cumulative_counts'].tail(1).values\ncountry_counts['rn'] = np.arange(1,len(country_counts)+1)\ncountry_counts['rn_percentage'] = country_counts['rn'] / country_counts['rn'].tail(1).values\ncountry_counts.reset_index(inplace = True)\ncountry_counts",
   "execution_count": null,
   "outputs": [
    {
     "output_type": "execute_result",
     "execution_count": 27,
     "data": {
      "application/vnd.deepnote.dataframe.v3+json": {
       "column_count": 6,
       "row_count": 113,
       "columns": [
        {
         "name": "index",
         "dtype": "object",
         "stats": {
          "unique_count": 113,
          "nan_count": 0,
          "categories": [
           {
            "name": "USA",
            "count": 1
           },
           {
            "name": "GBR",
            "count": 1
           },
           {
            "name": "111 others",
            "count": 111
           }
          ]
         }
        },
        {
         "name": "company_country_code",
         "dtype": "int64",
         "stats": {
          "unique_count": 69,
          "nan_count": 0,
          "min": "1",
          "max": "81051",
          "histogram": [
           {
            "bin_start": 1,
            "bin_end": 8106,
            "count": 112
           },
           {
            "bin_start": 8106,
            "bin_end": 16211,
            "count": 0
           },
           {
            "bin_start": 16211,
            "bin_end": 24316,
            "count": 0
           },
           {
            "bin_start": 24316,
            "bin_end": 32421,
            "count": 0
           },
           {
            "bin_start": 32421,
            "bin_end": 40526,
            "count": 0
           },
           {
            "bin_start": 40526,
            "bin_end": 48631,
            "count": 0
           },
           {
            "bin_start": 48631,
            "bin_end": 56736,
            "count": 0
           },
           {
            "bin_start": 56736,
            "bin_end": 64841,
            "count": 0
           },
           {
            "bin_start": 64841,
            "bin_end": 72946,
            "count": 0
           },
           {
            "bin_start": 72946,
            "bin_end": 81051,
            "count": 1
           }
          ]
         }
        },
        {
         "name": "cumulative_counts",
         "dtype": "int64",
         "stats": {
          "unique_count": 113,
          "nan_count": 0,
          "min": "81051",
          "max": "111270",
          "histogram": [
           {
            "bin_start": 81051,
            "bin_end": 84072.9,
            "count": 1
           },
           {
            "bin_start": 84072.9,
            "bin_end": 87094.8,
            "count": 0
           },
           {
            "bin_start": 87094.8,
            "bin_end": 90116.7,
            "count": 2
           },
           {
            "bin_start": 90116.7,
            "bin_end": 93138.6,
            "count": 1
           },
           {
            "bin_start": 93138.6,
            "bin_end": 96160.5,
            "count": 1
           },
           {
            "bin_start": 96160.5,
            "bin_end": 99182.4,
            "count": 2
           },
           {
            "bin_start": 99182.4,
            "bin_end": 102204.3,
            "count": 3
           },
           {
            "bin_start": 102204.3,
            "bin_end": 105226.2,
            "count": 6
           },
           {
            "bin_start": 105226.2,
            "bin_end": 108248.1,
            "count": 8
           },
           {
            "bin_start": 108248.1,
            "bin_end": 111270,
            "count": 89
           }
          ]
         }
        },
        {
         "name": "cumulative_percentage",
         "dtype": "float64",
         "stats": {
          "unique_count": 113,
          "nan_count": 0,
          "min": "0.728417363170666",
          "max": "1.0",
          "histogram": [
           {
            "bin_start": 0.728417363170666,
            "bin_end": 0.7555756268535994,
            "count": 1
           },
           {
            "bin_start": 0.7555756268535994,
            "bin_end": 0.7827338905365328,
            "count": 0
           },
           {
            "bin_start": 0.7827338905365328,
            "bin_end": 0.8098921542194661,
            "count": 2
           },
           {
            "bin_start": 0.8098921542194661,
            "bin_end": 0.8370504179023995,
            "count": 1
           },
           {
            "bin_start": 0.8370504179023995,
            "bin_end": 0.8642086815853329,
            "count": 1
           },
           {
            "bin_start": 0.8642086815853329,
            "bin_end": 0.8913669452682664,
            "count": 2
           },
           {
            "bin_start": 0.8913669452682664,
            "bin_end": 0.9185252089511998,
            "count": 3
           },
           {
            "bin_start": 0.9185252089511998,
            "bin_end": 0.9456834726341332,
            "count": 6
           },
           {
            "bin_start": 0.9456834726341332,
            "bin_end": 0.9728417363170666,
            "count": 8
           },
           {
            "bin_start": 0.9728417363170666,
            "bin_end": 1,
            "count": 89
           }
          ]
         }
        },
        {
         "name": "rn",
         "dtype": "int64",
         "stats": {
          "unique_count": 113,
          "nan_count": 0,
          "min": "1",
          "max": "113",
          "histogram": [
           {
            "bin_start": 1,
            "bin_end": 12.2,
            "count": 12
           },
           {
            "bin_start": 12.2,
            "bin_end": 23.4,
            "count": 11
           },
           {
            "bin_start": 23.4,
            "bin_end": 34.599999999999994,
            "count": 11
           },
           {
            "bin_start": 34.599999999999994,
            "bin_end": 45.8,
            "count": 11
           },
           {
            "bin_start": 45.8,
            "bin_end": 57,
            "count": 11
           },
           {
            "bin_start": 57,
            "bin_end": 68.19999999999999,
            "count": 12
           },
           {
            "bin_start": 68.19999999999999,
            "bin_end": 79.39999999999999,
            "count": 11
           },
           {
            "bin_start": 79.39999999999999,
            "bin_end": 90.6,
            "count": 11
           },
           {
            "bin_start": 90.6,
            "bin_end": 101.8,
            "count": 11
           },
           {
            "bin_start": 101.8,
            "bin_end": 113,
            "count": 12
           }
          ]
         }
        },
        {
         "name": "rn_percentage",
         "dtype": "float64",
         "stats": {
          "unique_count": 113,
          "nan_count": 0,
          "min": "0.008849557522123894",
          "max": "1.0",
          "histogram": [
           {
            "bin_start": 0.008849557522123894,
            "bin_end": 0.1079646017699115,
            "count": 12
           },
           {
            "bin_start": 0.1079646017699115,
            "bin_end": 0.20707964601769913,
            "count": 11
           },
           {
            "bin_start": 0.20707964601769913,
            "bin_end": 0.30619469026548674,
            "count": 11
           },
           {
            "bin_start": 0.30619469026548674,
            "bin_end": 0.40530973451327434,
            "count": 11
           },
           {
            "bin_start": 0.40530973451327434,
            "bin_end": 0.504424778761062,
            "count": 11
           },
           {
            "bin_start": 0.504424778761062,
            "bin_end": 0.6035398230088496,
            "count": 12
           },
           {
            "bin_start": 0.6035398230088496,
            "bin_end": 0.7026548672566372,
            "count": 11
           },
           {
            "bin_start": 0.7026548672566372,
            "bin_end": 0.8017699115044248,
            "count": 11
           },
           {
            "bin_start": 0.8017699115044248,
            "bin_end": 0.9008849557522124,
            "count": 11
           },
           {
            "bin_start": 0.9008849557522124,
            "bin_end": 1,
            "count": 12
           }
          ]
         }
        },
        {
         "name": "_deepnote_index_column",
         "dtype": "int64"
        }
       ],
       "rows": [
        {
         "index": "USA",
         "company_country_code": 81051,
         "cumulative_counts": 81051,
         "cumulative_percentage": 0.728417363170666,
         "rn": 1,
         "rn_percentage": 0.008849557522123894,
         "_deepnote_index_column": 0
        },
        {
         "index": "GBR",
         "company_country_code": 6065,
         "cumulative_counts": 87116,
         "cumulative_percentage": 0.7829244180821425,
         "rn": 2,
         "rn_percentage": 0.017699115044247787,
         "_deepnote_index_column": 1
        },
        {
         "index": "CAN",
         "company_country_code": 2851,
         "cumulative_counts": 89967,
         "cumulative_percentage": 0.8085467781073066,
         "rn": 3,
         "rn_percentage": 0.02654867256637168,
         "_deepnote_index_column": 2
        },
        {
         "index": "CHN",
         "company_country_code": 2227,
         "cumulative_counts": 92194,
         "cumulative_percentage": 0.828561157544711,
         "rn": 4,
         "rn_percentage": 0.035398230088495575,
         "_deepnote_index_column": 3
        },
        {
         "index": "FRA",
         "company_country_code": 2006,
         "cumulative_counts": 94200,
         "cumulative_percentage": 0.8465893771906174,
         "rn": 5,
         "rn_percentage": 0.04424778761061947,
         "_deepnote_index_column": 4
        },
        {
         "index": "ISR",
         "company_country_code": 1977,
         "cumulative_counts": 96177,
         "cumulative_percentage": 0.864356969533567,
         "rn": 6,
         "rn_percentage": 0.05309734513274336,
         "_deepnote_index_column": 5
        },
        {
         "index": "IND",
         "company_country_code": 1950,
         "cumulative_counts": 98127,
         "cumulative_percentage": 0.8818819088703155,
         "rn": 7,
         "rn_percentage": 0.061946902654867256,
         "_deepnote_index_column": 6
        },
        {
         "index": "DEU",
         "company_country_code": 1567,
         "cumulative_counts": 99694,
         "cumulative_percentage": 0.895964770378359,
         "rn": 8,
         "rn_percentage": 0.07079646017699115,
         "_deepnote_index_column": 7
        },
        {
         "index": "ESP",
         "company_country_code": 1135,
         "cumulative_counts": 100829,
         "cumulative_percentage": 0.9061651837871844,
         "rn": 9,
         "rn_percentage": 0.07964601769911504,
         "_deepnote_index_column": 8
        },
        {
         "index": "JPN",
         "company_country_code": 695,
         "cumulative_counts": 101524,
         "cumulative_percentage": 0.912411251909769,
         "rn": 10,
         "rn_percentage": 0.08849557522123894,
         "_deepnote_index_column": 9
        }
       ]
      },
      "text/plain": "    index  company_country_code  cumulative_counts  cumulative_percentage  \\\n0     USA                 81051              81051               0.728417   \n1     GBR                  6065              87116               0.782924   \n2     CAN                  2851              89967               0.808547   \n3     CHN                  2227              92194               0.828561   \n4     FRA                  2006              94200               0.846589   \n..    ...                   ...                ...                    ...   \n108   MKD                     1             111266               0.999964   \n109   BHR                     1             111267               0.999973   \n110   TGO                     1             111268               0.999982   \n111   TUN                     1             111269               0.999991   \n112   ZWE                     1             111270               1.000000   \n\n      rn  rn_percentage  \n0      1       0.008850  \n1      2       0.017699  \n2      3       0.026549  \n3      4       0.035398  \n4      5       0.044248  \n..   ...            ...  \n108  109       0.964602  \n109  110       0.973451  \n110  111       0.982301  \n111  112       0.991150  \n112  113       1.000000  \n\n[113 rows x 6 columns]",
      "text/html": "<div>\n<style scoped>\n    .dataframe tbody tr th:only-of-type {\n        vertical-align: middle;\n    }\n\n    .dataframe tbody tr th {\n        vertical-align: top;\n    }\n\n    .dataframe thead th {\n        text-align: right;\n    }\n</style>\n<table border=\"1\" class=\"dataframe\">\n  <thead>\n    <tr style=\"text-align: right;\">\n      <th></th>\n      <th>index</th>\n      <th>company_country_code</th>\n      <th>cumulative_counts</th>\n      <th>cumulative_percentage</th>\n      <th>rn</th>\n      <th>rn_percentage</th>\n    </tr>\n  </thead>\n  <tbody>\n    <tr>\n      <th>0</th>\n      <td>USA</td>\n      <td>81051</td>\n      <td>81051</td>\n      <td>0.728417</td>\n      <td>1</td>\n      <td>0.008850</td>\n    </tr>\n    <tr>\n      <th>1</th>\n      <td>GBR</td>\n      <td>6065</td>\n      <td>87116</td>\n      <td>0.782924</td>\n      <td>2</td>\n      <td>0.017699</td>\n    </tr>\n    <tr>\n      <th>2</th>\n      <td>CAN</td>\n      <td>2851</td>\n      <td>89967</td>\n      <td>0.808547</td>\n      <td>3</td>\n      <td>0.026549</td>\n    </tr>\n    <tr>\n      <th>3</th>\n      <td>CHN</td>\n      <td>2227</td>\n      <td>92194</td>\n      <td>0.828561</td>\n      <td>4</td>\n      <td>0.035398</td>\n    </tr>\n    <tr>\n      <th>4</th>\n      <td>FRA</td>\n      <td>2006</td>\n      <td>94200</td>\n      <td>0.846589</td>\n      <td>5</td>\n      <td>0.044248</td>\n    </tr>\n    <tr>\n      <th>...</th>\n      <td>...</td>\n      <td>...</td>\n      <td>...</td>\n      <td>...</td>\n      <td>...</td>\n      <td>...</td>\n    </tr>\n    <tr>\n      <th>108</th>\n      <td>MKD</td>\n      <td>1</td>\n      <td>111266</td>\n      <td>0.999964</td>\n      <td>109</td>\n      <td>0.964602</td>\n    </tr>\n    <tr>\n      <th>109</th>\n      <td>BHR</td>\n      <td>1</td>\n      <td>111267</td>\n      <td>0.999973</td>\n      <td>110</td>\n      <td>0.973451</td>\n    </tr>\n    <tr>\n      <th>110</th>\n      <td>TGO</td>\n      <td>1</td>\n      <td>111268</td>\n      <td>0.999982</td>\n      <td>111</td>\n      <td>0.982301</td>\n    </tr>\n    <tr>\n      <th>111</th>\n      <td>TUN</td>\n      <td>1</td>\n      <td>111269</td>\n      <td>0.999991</td>\n      <td>112</td>\n      <td>0.991150</td>\n    </tr>\n    <tr>\n      <th>112</th>\n      <td>ZWE</td>\n      <td>1</td>\n      <td>111270</td>\n      <td>1.000000</td>\n      <td>113</td>\n      <td>1.000000</td>\n    </tr>\n  </tbody>\n</table>\n<p>113 rows × 6 columns</p>\n</div>"
     },
     "metadata": {}
    }
   ]
  },
  {
   "cell_type": "code",
   "metadata": {
    "tags": [],
    "deepnote_to_be_reexecuted": false,
    "source_hash": "fc6f1e9b",
    "execution_start": 1650810082991,
    "execution_millis": 329,
    "cell_id": "00045-bbe9f6ee-4aac-4255-9d43-1d5c4df83932",
    "deepnote_cell_type": "code",
    "deepnote_cell_height": 414,
    "deepnote_output_heights": [
     21,
     265
    ]
   },
   "source": "country_counts.plot.scatter(x = 'cumulative_percentage', y = 'rn_percentage')",
   "execution_count": null,
   "outputs": [
    {
     "output_type": "execute_result",
     "execution_count": 28,
     "data": {
      "text/plain": "<AxesSubplot:xlabel='cumulative_percentage', ylabel='rn_percentage'>"
     },
     "metadata": {}
    },
    {
     "data": {
      "text/plain": "<Figure size 432x288 with 1 Axes>",
      "image/png": "[encoded data removed]"
     },
     "metadata": {
      "needs_background": "light",
      "image/png": {
       "width": 386,
       "height": 263
      }
     },
     "output_type": "display_data"
    }
   ]
  },
  {
   "cell_type": "code",
   "metadata": {
    "tags": [],
    "deepnote_to_be_reexecuted": false,
    "source_hash": "4a930919",
    "execution_start": 1650810083208,
    "execution_millis": 0,
    "cell_id": "00046-9b42d57c-8655-4510-bbed-a8d7abfad03b",
    "deepnote_cell_type": "code",
    "deepnote_cell_height": 171
   },
   "source": "country_counts['company_country_name_new'] = country_counts.apply(lambda x: x['index'] if x['cumulative_percentage']<0.99 else 'OTHER', axis = 1)\ncountry_counts = country_counts[['index','company_country_name_new']]\ncountry_counts.index = country_counts['index']\ndel country_counts['index']\ncountry_counts\ncountry_counts.to_json('params/startup_country_name_grouping.json')",
   "execution_count": null,
   "outputs": []
  },
  {
   "cell_type": "markdown",
   "source": "## 3. Creating investors with rounds index",
   "metadata": {
    "tags": [],
    "is_collapsed": false,
    "cell_id": "00047-9fd8b7e2-6fb7-4178-8a90-ca585a098945",
    "deepnote_cell_type": "text-cell-h2"
   }
  },
  {
   "cell_type": "markdown",
   "source": "This feature represents the investors relative to the round type.",
   "metadata": {
    "tags": [],
    "cell_id": "00048-5b176b6c-1481-4c65-8f30-537aa4ef5539",
    "deepnote_cell_type": "markdown",
    "deepnote_cell_height": 52.390625
   }
  },
  {
   "cell_type": "markdown",
   "source": "### 3.1. Investors round index",
   "metadata": {
    "cell_id": "6b309e24fdde42d1bced36b1aa7cac44",
    "tags": [],
    "is_collapsed": false,
    "deepnote_cell_type": "text-cell-h3"
   }
  },
  {
   "cell_type": "code",
   "metadata": {
    "tags": [],
    "deepnote_to_be_reexecuted": false,
    "source_hash": "92631f5a",
    "execution_start": 1650810083208,
    "execution_millis": 564,
    "cell_id": "00049-f2f7c33a-37ed-42b4-89f8-71197a038c64",
    "deepnote_cell_type": "code",
    "deepnote_cell_height": 135
   },
   "source": "investments = pd.read_csv('splitted data/investments_training.csv')\n\ninvestor_name = investments[\"investor_name\"]\ni_n = investor_name.value_counts().to_frame().reset_index()",
   "execution_count": null,
   "outputs": []
  },
  {
   "cell_type": "code",
   "metadata": {
    "tags": [],
    "deepnote_to_be_reexecuted": false,
    "source_hash": "13fa96db",
    "execution_start": 1650810083777,
    "execution_millis": 226,
    "cell_id": "00050-a06f591c-1333-46f9-8172-5656cf666990",
    "deepnote_cell_type": "code",
    "deepnote_cell_height": 135
   },
   "source": "i_n['investor_name_new'] = i_n.apply(lambda x: 'Other' if x['investor_name'] <= 4 else x['index'], axis = 1)\ni_n.drop('investor_name', axis = 1, inplace=True)\ni_n.index = i_n['index']\ndel i_n['index']",
   "execution_count": null,
   "outputs": []
  },
  {
   "cell_type": "code",
   "metadata": {
    "tags": [],
    "deepnote_to_be_reexecuted": false,
    "source_hash": "50667213",
    "execution_start": 1650810084018,
    "execution_millis": 8,
    "cell_id": "00051-db42f993-051e-41e7-8fb5-ee8eae04356c",
    "deepnote_cell_type": "code",
    "deepnote_cell_height": 117
   },
   "source": "i_n['investor_name_new'].to_json('params/investor_name_grouping.json')\ni_n.reset_index(inplace=True)\ni_n.rename({'index':'investor_name'},axis = 1, inplace = True)",
   "execution_count": null,
   "outputs": []
  },
  {
   "cell_type": "code",
   "metadata": {
    "tags": [],
    "deepnote_to_be_reexecuted": false,
    "source_hash": "7ca2434a",
    "execution_start": 1650810084045,
    "execution_millis": 170,
    "cell_id": "00052-f95f69da-8a5c-4602-8352-21bcbb5fcf98",
    "deepnote_cell_type": "code",
    "deepnote_cell_height": 135
   },
   "source": "final_inv_round = investments.merge(i_n, on=['investor_name'])\n\ninput_ = final_inv_round.groupby(['investor_name_new', 'funding_round']).agg({'new_raised_amount_usd': 'mean'})\ninput_['investor_index'] = pd.qcut(input_['new_raised_amount_usd'], q = 10, labels=['1','2','3','4','5','6','7','8','9','10'])",
   "execution_count": null,
   "outputs": []
  },
  {
   "cell_type": "code",
   "metadata": {
    "tags": [],
    "deepnote_to_be_reexecuted": false,
    "source_hash": "ec1c40bf",
    "execution_start": 1650810084220,
    "execution_millis": 96,
    "cell_id": "00053-a8dbeb8a-7528-48ca-a133-380cb9845103",
    "deepnote_cell_type": "code",
    "deepnote_cell_height": 618
   },
   "source": "input_['investor_index'].to_json('params/investors_rounds.json')\ninput_",
   "execution_count": null,
   "outputs": [
    {
     "output_type": "execute_result",
     "execution_count": 34,
     "data": {
      "application/vnd.deepnote.dataframe.v3+json": {
       "column_count": 2,
       "row_count": 20824,
       "columns": [
        {
         "name": "new_raised_amount_usd",
         "dtype": "float64",
         "stats": {
          "unique_count": 11815,
          "nan_count": 1425,
          "min": "0.0",
          "max": "4630000000.0",
          "histogram": [
           {
            "bin_start": 0,
            "bin_end": 463000000,
            "count": 19380
           },
           {
            "bin_start": 463000000,
            "bin_end": 926000000,
            "count": 15
           },
           {
            "bin_start": 926000000,
            "bin_end": 1389000000,
            "count": 2
           },
           {
            "bin_start": 1389000000,
            "bin_end": 1852000000,
            "count": 0
           },
           {
            "bin_start": 1852000000,
            "bin_end": 2315000000,
            "count": 0
           },
           {
            "bin_start": 2315000000,
            "bin_end": 2778000000,
            "count": 0
           },
           {
            "bin_start": 2778000000,
            "bin_end": 3241000000,
            "count": 0
           },
           {
            "bin_start": 3241000000,
            "bin_end": 3704000000,
            "count": 1
           },
           {
            "bin_start": 3704000000,
            "bin_end": 4167000000,
            "count": 0
           },
           {
            "bin_start": 4167000000,
            "bin_end": 4630000000,
            "count": 1
           }
          ]
         }
        },
        {
         "name": "investor_index",
         "dtype": "category",
         "stats": {
          "unique_count": 10,
          "nan_count": 1425,
          "categories": [
           {
            "name": "4",
            "count": 1942
           },
           {
            "name": "9 others",
            "count": 17457
           },
           {
            "name": "Missing",
            "count": 1425
           }
          ]
         }
        },
        {
         "name": "_deepnote_index_column",
         "dtype": "object"
        }
       ],
       "rows": [
        {
         "new_raised_amount_usd": 567857.142857143,
         "investor_index": "3",
         "_deepnote_index_column": "('.406 Ventures', 'seed')"
        },
        {
         "new_raised_amount_usd": 1991666.6666666667,
         "investor_index": "5",
         "_deepnote_index_column": "('.406 Ventures', 'venture')"
        },
        {
         "new_raised_amount_usd": 2815390.4298245613,
         "investor_index": "6",
         "_deepnote_index_column": "('.406 Ventures', 'venture A')"
        },
        {
         "new_raised_amount_usd": 4758874.458874458,
         "investor_index": "8",
         "_deepnote_index_column": "('.406 Ventures', 'venture B')"
        },
        {
         "new_raised_amount_usd": 3026785.714285714,
         "investor_index": "6",
         "_deepnote_index_column": "('.406 Ventures', 'venture C')"
        },
        {
         "new_raised_amount_usd": 4370018.222222222,
         "investor_index": "8",
         "_deepnote_index_column": "('.406 Ventures', 'venture D')"
        },
        {
         "new_raised_amount_usd": 5388095.238095238,
         "investor_index": "8",
         "_deepnote_index_column": "('.406 Ventures', 'venture E')"
        },
        {
         "new_raised_amount_usd": 11208333.333333334,
         "investor_index": "10",
         "_deepnote_index_column": "('.406 Ventures', 'venture F')"
        },
        {
         "new_raised_amount_usd": 45000,
         "investor_index": "1",
         "_deepnote_index_column": "('101 Startups', 'angel')"
        },
        {
         "new_raised_amount_usd": 465232.75,
         "investor_index": "3",
         "_deepnote_index_column": "('101 Startups', 'seed')"
        }
       ]
      },
      "text/plain": "                                    new_raised_amount_usd investor_index\ninvestor_name_new funding_round                                         \n.406 Ventures     seed                       5.678571e+05              3\n                  venture                    1.991667e+06              5\n                  venture A                  2.815390e+06              6\n                  venture B                  4.758874e+06              8\n                  venture C                  3.026786e+06              6\n...                                                   ...            ...\nyet2Ventures      venture E                  1.031320e+07             10\nzPark Capital     angel                      2.333333e+05              2\n                  convertible_note           1.087500e+05              1\n                  seed                       2.195218e+05              2\n                  venture B                  2.444444e+06              6\n\n[20824 rows x 2 columns]",
      "text/html": "<div>\n<style scoped>\n    .dataframe tbody tr th:only-of-type {\n        vertical-align: middle;\n    }\n\n    .dataframe tbody tr th {\n        vertical-align: top;\n    }\n\n    .dataframe thead th {\n        text-align: right;\n    }\n</style>\n<table border=\"1\" class=\"dataframe\">\n  <thead>\n    <tr style=\"text-align: right;\">\n      <th></th>\n      <th></th>\n      <th>new_raised_amount_usd</th>\n      <th>investor_index</th>\n    </tr>\n    <tr>\n      <th>investor_name_new</th>\n      <th>funding_round</th>\n      <th></th>\n      <th></th>\n    </tr>\n  </thead>\n  <tbody>\n    <tr>\n      <th rowspan=\"5\" valign=\"top\">.406 Ventures</th>\n      <th>seed</th>\n      <td>5.678571e+05</td>\n      <td>3</td>\n    </tr>\n    <tr>\n      <th>venture</th>\n      <td>1.991667e+06</td>\n      <td>5</td>\n    </tr>\n    <tr>\n      <th>venture A</th>\n      <td>2.815390e+06</td>\n      <td>6</td>\n    </tr>\n    <tr>\n      <th>venture B</th>\n      <td>4.758874e+06</td>\n      <td>8</td>\n    </tr>\n    <tr>\n      <th>venture C</th>\n      <td>3.026786e+06</td>\n      <td>6</td>\n    </tr>\n    <tr>\n      <th>...</th>\n      <th>...</th>\n      <td>...</td>\n      <td>...</td>\n    </tr>\n    <tr>\n      <th>yet2Ventures</th>\n      <th>venture E</th>\n      <td>1.031320e+07</td>\n      <td>10</td>\n    </tr>\n    <tr>\n      <th rowspan=\"4\" valign=\"top\">zPark Capital</th>\n      <th>angel</th>\n      <td>2.333333e+05</td>\n      <td>2</td>\n    </tr>\n    <tr>\n      <th>convertible_note</th>\n      <td>1.087500e+05</td>\n      <td>1</td>\n    </tr>\n    <tr>\n      <th>seed</th>\n      <td>2.195218e+05</td>\n      <td>2</td>\n    </tr>\n    <tr>\n      <th>venture B</th>\n      <td>2.444444e+06</td>\n      <td>6</td>\n    </tr>\n  </tbody>\n</table>\n<p>20824 rows × 2 columns</p>\n</div>"
     },
     "metadata": {}
    }
   ]
  },
  {
   "cell_type": "markdown",
   "source": "### 3.2. Startup company rounds index",
   "metadata": {
    "cell_id": "937922b4bf724c81882e4e0624f9f64e",
    "tags": [],
    "is_collapsed": false,
    "deepnote_cell_type": "text-cell-h3"
   }
  },
  {
   "cell_type": "code",
   "metadata": {
    "cell_id": "90ea628a6efc4ef4944955310f8eab3c",
    "tags": [],
    "deepnote_to_be_reexecuted": false,
    "source_hash": "fe8387c7",
    "execution_start": 1650810084313,
    "execution_millis": 594,
    "deepnote_cell_type": "code",
    "deepnote_cell_height": 503
   },
   "source": "#read in files\n\npd.options.display.float_format = \"{:,.2f}\".format\n#pd.set_option('display.max_columns', None)\n\ndf = pd.read_csv('splitted data/investments_training.csv')\ndf.head()",
   "execution_count": null,
   "outputs": [
    {
     "output_type": "execute_result",
     "execution_count": 35,
     "data": {
      "application/vnd.deepnote.dataframe.v3+json": {
       "column_count": 21,
       "row_count": 5,
       "columns": [
        {
         "name": "Unnamed: 0",
         "dtype": "int64",
         "stats": {
          "unique_count": 5,
          "nan_count": 0,
          "min": "0",
          "max": "32",
          "histogram": [
           {
            "bin_start": 0,
            "bin_end": 3.2,
            "count": 2
           },
           {
            "bin_start": 3.2,
            "bin_end": 6.4,
            "count": 0
           },
           {
            "bin_start": 6.4,
            "bin_end": 9.600000000000001,
            "count": 0
           },
           {
            "bin_start": 9.600000000000001,
            "bin_end": 12.8,
            "count": 0
           },
           {
            "bin_start": 12.8,
            "bin_end": 16,
            "count": 0
           },
           {
            "bin_start": 16,
            "bin_end": 19.200000000000003,
            "count": 0
           },
           {
            "bin_start": 19.200000000000003,
            "bin_end": 22.400000000000002,
            "count": 0
           },
           {
            "bin_start": 22.400000000000002,
            "bin_end": 25.6,
            "count": 0
           },
           {
            "bin_start": 25.6,
            "bin_end": 28.8,
            "count": 0
           },
           {
            "bin_start": 28.8,
            "bin_end": 32,
            "count": 3
           }
          ]
         }
        },
        {
         "name": "company_permalink",
         "dtype": "object",
         "stats": {
          "unique_count": 4,
          "nan_count": 0,
          "categories": [
           {
            "name": "/organization/1-800-dentist",
            "count": 2
           },
           {
            "name": "/organization/0-6-com",
            "count": 1
           },
           {
            "name": "2 others",
            "count": 2
           }
          ]
         }
        },
        {
         "name": "company_name",
         "dtype": "object",
         "stats": {
          "unique_count": 4,
          "nan_count": 0,
          "categories": [
           {
            "name": "1-800-DENTIST",
            "count": 2
           },
           {
            "name": "0-6.com",
            "count": 1
           },
           {
            "name": "2 others",
            "count": 2
           }
          ]
         }
        },
        {
         "name": "company_category_list",
         "dtype": "object",
         "stats": {
          "unique_count": 4,
          "nan_count": 0,
          "categories": [
           {
            "name": "Health and Wellness",
            "count": 2
           },
           {
            "name": "Curated Web",
            "count": 1
           },
           {
            "name": "2 others",
            "count": 2
           }
          ]
         }
        },
        {
         "name": "company_country_code",
         "dtype": "object",
         "stats": {
          "unique_count": 3,
          "nan_count": 0,
          "categories": [
           {
            "name": "USA",
            "count": 3
           },
           {
            "name": "CHN",
            "count": 1
           },
           {
            "name": "CHL",
            "count": 1
           }
          ]
         }
        },
        {
         "name": "company_state_code",
         "dtype": "object",
         "stats": {
          "unique_count": 4,
          "nan_count": 0,
          "categories": [
           {
            "name": "CA",
            "count": 2
           },
           {
            "name": "22",
            "count": 1
           },
           {
            "name": "2 others",
            "count": 2
           }
          ]
         }
        },
        {
         "name": "company_region",
         "dtype": "object",
         "stats": {
          "unique_count": 4,
          "nan_count": 0,
          "categories": [
           {
            "name": "Los Angeles",
            "count": 2
           },
           {
            "name": "Beijing",
            "count": 1
           },
           {
            "name": "2 others",
            "count": 2
           }
          ]
         }
        },
        {
         "name": "company_city",
         "dtype": "object",
         "stats": {
          "unique_count": 4,
          "nan_count": 0,
          "categories": [
           {
            "name": "Los Angeles",
            "count": 2
           },
           {
            "name": "Beijing",
            "count": 1
           },
           {
            "name": "2 others",
            "count": 2
           }
          ]
         }
        },
        {
         "name": "investor_permalink",
         "dtype": "object",
         "stats": {
          "unique_count": 5,
          "nan_count": 0,
          "categories": [
           {
            "name": "/organization/dt-capital-partners",
            "count": 1
           },
           {
            "name": "/organization/venturecapital-de",
            "count": 1
           },
           {
            "name": "3 others",
            "count": 3
           }
          ]
         }
        },
        {
         "name": "investor_name",
         "dtype": "object",
         "stats": {
          "unique_count": 5,
          "nan_count": 0,
          "categories": [
           {
            "name": "DT Capital Partners",
            "count": 1
           },
           {
            "name": "VCDE Venture Partners",
            "count": 1
           },
           {
            "name": "3 others",
            "count": 3
           }
          ]
         }
        },
        {
         "name": "investor_country_code",
         "dtype": "object",
         "stats": {
          "unique_count": 4,
          "nan_count": 0,
          "categories": [
           {
            "name": "USA",
            "count": 2
           },
           {
            "name": "CHN",
            "count": 1
           },
           {
            "name": "2 others",
            "count": 2
           }
          ]
         }
        },
        {
         "name": "investor_state_code",
         "dtype": "object",
         "stats": {
          "unique_count": 4,
          "nan_count": 0,
          "categories": [
           {
            "name": "MA",
            "count": 2
           },
           {
            "name": "23",
            "count": 1
           },
           {
            "name": "2 others",
            "count": 2
           }
          ]
         }
        },
        {
         "name": "investor_region",
         "dtype": "object",
         "stats": {
          "unique_count": 4,
          "nan_count": 0,
          "categories": [
           {
            "name": "Boston",
            "count": 2
           },
           {
            "name": "Shanghai",
            "count": 1
           },
           {
            "name": "2 others",
            "count": 2
           }
          ]
         }
        },
        {
         "name": "investor_city",
         "dtype": "object",
         "stats": {
          "unique_count": 4,
          "nan_count": 0,
          "categories": [
           {
            "name": "Boston",
            "count": 2
           },
           {
            "name": "Shanghai",
            "count": 1
           },
           {
            "name": "2 others",
            "count": 2
           }
          ]
         }
        },
        {
         "name": "funding_round_permalink",
         "dtype": "object",
         "stats": {
          "unique_count": 4,
          "nan_count": 0,
          "categories": [
           {
            "name": "/funding-round/5274aacc211163fc7c86539ce94bbacc",
            "count": 2
           },
           {
            "name": "/funding-round/5727accaeaa57461bd22a9bdd945382d",
            "count": 1
           },
           {
            "name": "2 others",
            "count": 2
           }
          ]
         }
        },
        {
         "name": "funding_round_type",
         "dtype": "object",
         "stats": {
          "unique_count": 3,
          "nan_count": 0,
          "categories": [
           {
            "name": "venture",
            "count": 2
           },
           {
            "name": "undisclosed",
            "count": 2
           },
           {
            "name": "seed",
            "count": 1
           }
          ]
         }
        },
        {
         "name": "funding_round_code",
         "dtype": "object",
         "stats": {
          "unique_count": 1,
          "nan_count": 4,
          "categories": [
           {
            "name": "A",
            "count": 1
           },
           {
            "name": "Missing",
            "count": 4
           }
          ]
         }
        },
        {
         "name": "funded_at",
         "dtype": "object",
         "stats": {
          "unique_count": 4,
          "nan_count": 0,
          "categories": [
           {
            "name": "2010-08-19",
            "count": 2
           },
           {
            "name": "2008-03-19",
            "count": 1
           },
           {
            "name": "2 others",
            "count": 2
           }
          ]
         }
        },
        {
         "name": "raised_amount_usd",
         "dtype": "float64",
         "stats": {
          "unique_count": 2,
          "nan_count": 3,
          "min": "40000.0",
          "max": "2000000.0",
          "histogram": [
           {
            "bin_start": 40000,
            "bin_end": 236000,
            "count": 1
           },
           {
            "bin_start": 236000,
            "bin_end": 432000,
            "count": 0
           },
           {
            "bin_start": 432000,
            "bin_end": 628000,
            "count": 0
           },
           {
            "bin_start": 628000,
            "bin_end": 824000,
            "count": 0
           },
           {
            "bin_start": 824000,
            "bin_end": 1020000,
            "count": 0
           },
           {
            "bin_start": 1020000,
            "bin_end": 1216000,
            "count": 0
           },
           {
            "bin_start": 1216000,
            "bin_end": 1412000,
            "count": 0
           },
           {
            "bin_start": 1412000,
            "bin_end": 1608000,
            "count": 0
           },
           {
            "bin_start": 1608000,
            "bin_end": 1804000,
            "count": 0
           },
           {
            "bin_start": 1804000,
            "bin_end": 2000000,
            "count": 1
           }
          ]
         }
        },
        {
         "name": "new_raised_amount_usd",
         "dtype": "float64",
         "stats": {
          "unique_count": 2,
          "nan_count": 3,
          "min": "40000.0",
          "max": "2000000.0",
          "histogram": [
           {
            "bin_start": 40000,
            "bin_end": 236000,
            "count": 1
           },
           {
            "bin_start": 236000,
            "bin_end": 432000,
            "count": 0
           },
           {
            "bin_start": 432000,
            "bin_end": 628000,
            "count": 0
           },
           {
            "bin_start": 628000,
            "bin_end": 824000,
            "count": 0
           },
           {
            "bin_start": 824000,
            "bin_end": 1020000,
            "count": 0
           },
           {
            "bin_start": 1020000,
            "bin_end": 1216000,
            "count": 0
           },
           {
            "bin_start": 1216000,
            "bin_end": 1412000,
            "count": 0
           },
           {
            "bin_start": 1412000,
            "bin_end": 1608000,
            "count": 0
           },
           {
            "bin_start": 1608000,
            "bin_end": 1804000,
            "count": 0
           },
           {
            "bin_start": 1804000,
            "bin_end": 2000000,
            "count": 1
           }
          ]
         }
        },
        {
         "name": "funding_round",
         "dtype": "object",
         "stats": {
          "unique_count": 4,
          "nan_count": 0,
          "categories": [
           {
            "name": "undisclosed",
            "count": 2
           },
           {
            "name": "venture A",
            "count": 1
           },
           {
            "name": "2 others",
            "count": 2
           }
          ]
         }
        },
        {
         "name": "_deepnote_index_column",
         "dtype": "int64"
        }
       ],
       "rows": [
        {
         "Unnamed: 0": 0,
         "company_permalink": "/organization/0-6-com",
         "company_name": "0-6.com",
         "company_category_list": "Curated Web",
         "company_country_code": "CHN",
         "company_state_code": "22",
         "company_region": "Beijing",
         "company_city": "Beijing",
         "investor_permalink": "/organization/dt-capital-partners",
         "investor_name": "DT Capital Partners",
         "investor_country_code": "CHN",
         "investor_state_code": "23",
         "investor_region": "Shanghai",
         "investor_city": "Shanghai",
         "funding_round_permalink": "/funding-round/5727accaeaa57461bd22a9bdd945382d",
         "funding_round_type": "venture",
         "funding_round_code": "A",
         "funded_at": "2008-03-19",
         "raised_amount_usd": 2000000,
         "new_raised_amount_usd": 2000000,
         "funding_round": "venture A",
         "_deepnote_index_column": 0
        },
        {
         "Unnamed: 0": 1,
         "company_permalink": "/organization/004-technologies",
         "company_name": "004 Technologies",
         "company_category_list": "Software",
         "company_country_code": "USA",
         "company_state_code": "IL",
         "company_region": "Springfield, Illinois",
         "company_city": "Champaign",
         "investor_permalink": "/organization/venturecapital-de",
         "investor_name": "VCDE Venture Partners",
         "investor_country_code": "DEU",
         "investor_state_code": "5",
         "investor_region": "Frankfurt",
         "investor_city": "Frankfurt",
         "funding_round_permalink": "/funding-round/1278dd4e6a37fa4b7d7e06c21b3c1830",
         "funding_round_type": "venture",
         "funding_round_code": "nan",
         "funded_at": "2014-07-24",
         "raised_amount_usd": "nan",
         "new_raised_amount_usd": "nan",
         "funding_round": "venture",
         "_deepnote_index_column": 1
        },
        {
         "Unnamed: 0": 30,
         "company_permalink": "/organization/1-2-3-listo",
         "company_name": "1,2,3 Listo",
         "company_category_list": "E-Commerce",
         "company_country_code": "CHL",
         "company_state_code": "12",
         "company_region": "Santiago",
         "company_city": "Las Condes",
         "investor_permalink": "/organization/start-up-chile",
         "investor_name": "Start-Up Chile",
         "investor_country_code": "CHL",
         "investor_state_code": "12",
         "investor_region": "Santiago",
         "investor_city": "Santiago",
         "funding_round_permalink": "/funding-round/6de4609e894495105bc791ed64361288",
         "funding_round_type": "seed",
         "funding_round_code": "nan",
         "funded_at": "2013-02-18",
         "raised_amount_usd": 40000,
         "new_raised_amount_usd": 40000,
         "funding_round": "seed",
         "_deepnote_index_column": 2
        },
        {
         "Unnamed: 0": 31,
         "company_permalink": "/organization/1-800-dentist",
         "company_name": "1-800-DENTIST",
         "company_category_list": "Health and Wellness",
         "company_country_code": "USA",
         "company_state_code": "CA",
         "company_region": "Los Angeles",
         "company_city": "Los Angeles",
         "investor_permalink": "/organization/bain-capital-ventures",
         "investor_name": "Bain Capital Ventures",
         "investor_country_code": "USA",
         "investor_state_code": "MA",
         "investor_region": "Boston",
         "investor_city": "Boston",
         "funding_round_permalink": "/funding-round/5274aacc211163fc7c86539ce94bbacc",
         "funding_round_type": "undisclosed",
         "funding_round_code": "nan",
         "funded_at": "2010-08-19",
         "raised_amount_usd": "nan",
         "new_raised_amount_usd": "nan",
         "funding_round": "undisclosed",
         "_deepnote_index_column": 3
        },
        {
         "Unnamed: 0": 32,
         "company_permalink": "/organization/1-800-dentist",
         "company_name": "1-800-DENTIST",
         "company_category_list": "Health and Wellness",
         "company_country_code": "USA",
         "company_state_code": "CA",
         "company_region": "Los Angeles",
         "company_city": "Los Angeles",
         "investor_permalink": "/organization/cue-ball",
         "investor_name": "Cue Ball",
         "investor_country_code": "USA",
         "investor_state_code": "MA",
         "investor_region": "Boston",
         "investor_city": "Boston",
         "funding_round_permalink": "/funding-round/5274aacc211163fc7c86539ce94bbacc",
         "funding_round_type": "undisclosed",
         "funding_round_code": "nan",
         "funded_at": "2010-08-19",
         "raised_amount_usd": "nan",
         "new_raised_amount_usd": "nan",
         "funding_round": "undisclosed",
         "_deepnote_index_column": 4
        }
       ]
      },
      "text/plain": "   Unnamed: 0               company_permalink      company_name  \\\n0           0           /organization/0-6-com           0-6.com   \n1           1  /organization/004-technologies  004 Technologies   \n2          30       /organization/1-2-3-listo       1,2,3 Listo   \n3          31     /organization/1-800-dentist     1-800-DENTIST   \n4          32     /organization/1-800-dentist     1-800-DENTIST   \n\n  company_category_list company_country_code company_state_code  \\\n0           Curated Web                  CHN                 22   \n1              Software                  USA                 IL   \n2            E-Commerce                  CHL                 12   \n3   Health and Wellness                  USA                 CA   \n4   Health and Wellness                  USA                 CA   \n\n          company_region company_city                   investor_permalink  \\\n0                Beijing      Beijing    /organization/dt-capital-partners   \n1  Springfield, Illinois    Champaign      /organization/venturecapital-de   \n2               Santiago   Las Condes         /organization/start-up-chile   \n3            Los Angeles  Los Angeles  /organization/bain-capital-ventures   \n4            Los Angeles  Los Angeles               /organization/cue-ball   \n\n           investor_name  ... investor_state_code investor_region  \\\n0    DT Capital Partners  ...                  23        Shanghai   \n1  VCDE Venture Partners  ...                   5       Frankfurt   \n2         Start-Up Chile  ...                  12        Santiago   \n3  Bain Capital Ventures  ...                  MA          Boston   \n4               Cue Ball  ...                  MA          Boston   \n\n  investor_city                          funding_round_permalink  \\\n0      Shanghai  /funding-round/5727accaeaa57461bd22a9bdd945382d   \n1     Frankfurt  /funding-round/1278dd4e6a37fa4b7d7e06c21b3c1830   \n2      Santiago  /funding-round/6de4609e894495105bc791ed64361288   \n3        Boston  /funding-round/5274aacc211163fc7c86539ce94bbacc   \n4        Boston  /funding-round/5274aacc211163fc7c86539ce94bbacc   \n\n  funding_round_type funding_round_code   funded_at raised_amount_usd  \\\n0            venture                  A  2008-03-19      2,000,000.00   \n1            venture                NaN  2014-07-24               NaN   \n2               seed                NaN  2013-02-18         40,000.00   \n3        undisclosed                NaN  2010-08-19               NaN   \n4        undisclosed                NaN  2010-08-19               NaN   \n\n   new_raised_amount_usd  funding_round  \n0           2,000,000.00      venture A  \n1                    NaN        venture  \n2              40,000.00           seed  \n3                    NaN    undisclosed  \n4                    NaN    undisclosed  \n\n[5 rows x 21 columns]",
      "text/html": "<div>\n<style scoped>\n    .dataframe tbody tr th:only-of-type {\n        vertical-align: middle;\n    }\n\n    .dataframe tbody tr th {\n        vertical-align: top;\n    }\n\n    .dataframe thead th {\n        text-align: right;\n    }\n</style>\n<table border=\"1\" class=\"dataframe\">\n  <thead>\n    <tr style=\"text-align: right;\">\n      <th></th>\n      <th>Unnamed: 0</th>\n      <th>company_permalink</th>\n      <th>company_name</th>\n      <th>company_category_list</th>\n      <th>company_country_code</th>\n      <th>company_state_code</th>\n      <th>company_region</th>\n      <th>company_city</th>\n      <th>investor_permalink</th>\n      <th>investor_name</th>\n      <th>...</th>\n      <th>investor_state_code</th>\n      <th>investor_region</th>\n      <th>investor_city</th>\n      <th>funding_round_permalink</th>\n      <th>funding_round_type</th>\n      <th>funding_round_code</th>\n      <th>funded_at</th>\n      <th>raised_amount_usd</th>\n      <th>new_raised_amount_usd</th>\n      <th>funding_round</th>\n    </tr>\n  </thead>\n  <tbody>\n    <tr>\n      <th>0</th>\n      <td>0</td>\n      <td>/organization/0-6-com</td>\n      <td>0-6.com</td>\n      <td>Curated Web</td>\n      <td>CHN</td>\n      <td>22</td>\n      <td>Beijing</td>\n      <td>Beijing</td>\n      <td>/organization/dt-capital-partners</td>\n      <td>DT Capital Partners</td>\n      <td>...</td>\n      <td>23</td>\n      <td>Shanghai</td>\n      <td>Shanghai</td>\n      <td>/funding-round/5727accaeaa57461bd22a9bdd945382d</td>\n      <td>venture</td>\n      <td>A</td>\n      <td>2008-03-19</td>\n      <td>2,000,000.00</td>\n      <td>2,000,000.00</td>\n      <td>venture A</td>\n    </tr>\n    <tr>\n      <th>1</th>\n      <td>1</td>\n      <td>/organization/004-technologies</td>\n      <td>004 Technologies</td>\n      <td>Software</td>\n      <td>USA</td>\n      <td>IL</td>\n      <td>Springfield, Illinois</td>\n      <td>Champaign</td>\n      <td>/organization/venturecapital-de</td>\n      <td>VCDE Venture Partners</td>\n      <td>...</td>\n      <td>5</td>\n      <td>Frankfurt</td>\n      <td>Frankfurt</td>\n      <td>/funding-round/1278dd4e6a37fa4b7d7e06c21b3c1830</td>\n      <td>venture</td>\n      <td>NaN</td>\n      <td>2014-07-24</td>\n      <td>NaN</td>\n      <td>NaN</td>\n      <td>venture</td>\n    </tr>\n    <tr>\n      <th>2</th>\n      <td>30</td>\n      <td>/organization/1-2-3-listo</td>\n      <td>1,2,3 Listo</td>\n      <td>E-Commerce</td>\n      <td>CHL</td>\n      <td>12</td>\n      <td>Santiago</td>\n      <td>Las Condes</td>\n      <td>/organization/start-up-chile</td>\n      <td>Start-Up Chile</td>\n      <td>...</td>\n      <td>12</td>\n      <td>Santiago</td>\n      <td>Santiago</td>\n      <td>/funding-round/6de4609e894495105bc791ed64361288</td>\n      <td>seed</td>\n      <td>NaN</td>\n      <td>2013-02-18</td>\n      <td>40,000.00</td>\n      <td>40,000.00</td>\n      <td>seed</td>\n    </tr>\n    <tr>\n      <th>3</th>\n      <td>31</td>\n      <td>/organization/1-800-dentist</td>\n      <td>1-800-DENTIST</td>\n      <td>Health and Wellness</td>\n      <td>USA</td>\n      <td>CA</td>\n      <td>Los Angeles</td>\n      <td>Los Angeles</td>\n      <td>/organization/bain-capital-ventures</td>\n      <td>Bain Capital Ventures</td>\n      <td>...</td>\n      <td>MA</td>\n      <td>Boston</td>\n      <td>Boston</td>\n      <td>/funding-round/5274aacc211163fc7c86539ce94bbacc</td>\n      <td>undisclosed</td>\n      <td>NaN</td>\n      <td>2010-08-19</td>\n      <td>NaN</td>\n      <td>NaN</td>\n      <td>undisclosed</td>\n    </tr>\n    <tr>\n      <th>4</th>\n      <td>32</td>\n      <td>/organization/1-800-dentist</td>\n      <td>1-800-DENTIST</td>\n      <td>Health and Wellness</td>\n      <td>USA</td>\n      <td>CA</td>\n      <td>Los Angeles</td>\n      <td>Los Angeles</td>\n      <td>/organization/cue-ball</td>\n      <td>Cue Ball</td>\n      <td>...</td>\n      <td>MA</td>\n      <td>Boston</td>\n      <td>Boston</td>\n      <td>/funding-round/5274aacc211163fc7c86539ce94bbacc</td>\n      <td>undisclosed</td>\n      <td>NaN</td>\n      <td>2010-08-19</td>\n      <td>NaN</td>\n      <td>NaN</td>\n      <td>undisclosed</td>\n    </tr>\n  </tbody>\n</table>\n<p>5 rows × 21 columns</p>\n</div>"
     },
     "metadata": {}
    }
   ]
  },
  {
   "cell_type": "code",
   "metadata": {
    "cell_id": "cbc771af8709432cb7f053901c03be55",
    "tags": [],
    "deepnote_to_be_reexecuted": false,
    "source_hash": "a5172173",
    "execution_start": 1650810084909,
    "execution_millis": 33,
    "deepnote_cell_type": "code",
    "deepnote_cell_height": 449
   },
   "source": "df.drop(df.columns.difference(['funding_round','company_country_code','new_raised_amount_usd']), 1, inplace=True)\n# drop NaNs\ndf.dropna(inplace=True)\ndf.head()",
   "execution_count": null,
   "outputs": [
    {
     "output_type": "execute_result",
     "execution_count": 36,
     "data": {
      "application/vnd.deepnote.dataframe.v3+json": {
       "column_count": 3,
       "row_count": 5,
       "columns": [
        {
         "name": "company_country_code",
         "dtype": "object",
         "stats": {
          "unique_count": 3,
          "nan_count": 0,
          "categories": [
           {
            "name": "USA",
            "count": 3
           },
           {
            "name": "CHN",
            "count": 1
           },
           {
            "name": "CHL",
            "count": 1
           }
          ]
         }
        },
        {
         "name": "new_raised_amount_usd",
         "dtype": "float64",
         "stats": {
          "unique_count": 4,
          "nan_count": 0,
          "min": "40000.0",
          "max": "5000000.0",
          "histogram": [
           {
            "bin_start": 40000,
            "bin_end": 536000,
            "count": 3
           },
           {
            "bin_start": 536000,
            "bin_end": 1032000,
            "count": 0
           },
           {
            "bin_start": 1032000,
            "bin_end": 1528000,
            "count": 0
           },
           {
            "bin_start": 1528000,
            "bin_end": 2024000,
            "count": 1
           },
           {
            "bin_start": 2024000,
            "bin_end": 2520000,
            "count": 0
           },
           {
            "bin_start": 2520000,
            "bin_end": 3016000,
            "count": 0
           },
           {
            "bin_start": 3016000,
            "bin_end": 3512000,
            "count": 0
           },
           {
            "bin_start": 3512000,
            "bin_end": 4008000,
            "count": 0
           },
           {
            "bin_start": 4008000,
            "bin_end": 4504000,
            "count": 0
           },
           {
            "bin_start": 4504000,
            "bin_end": 5000000,
            "count": 1
           }
          ]
         }
        },
        {
         "name": "funding_round",
         "dtype": "object",
         "stats": {
          "unique_count": 3,
          "nan_count": 0,
          "categories": [
           {
            "name": "seed",
            "count": 3
           },
           {
            "name": "venture A",
            "count": 1
           },
           {
            "name": "venture",
            "count": 1
           }
          ]
         }
        },
        {
         "name": "_deepnote_index_column",
         "dtype": "int64"
        }
       ],
       "rows": [
        {
         "company_country_code": "CHN",
         "new_raised_amount_usd": 2000000,
         "funding_round": "venture A",
         "_deepnote_index_column": 0
        },
        {
         "company_country_code": "CHL",
         "new_raised_amount_usd": 40000,
         "funding_round": "seed",
         "_deepnote_index_column": 2
        },
        {
         "company_country_code": "USA",
         "new_raised_amount_usd": 5000000,
         "funding_round": "venture",
         "_deepnote_index_column": 5
        },
        {
         "company_country_code": "USA",
         "new_raised_amount_usd": 40000,
         "funding_round": "seed",
         "_deepnote_index_column": 6
        },
        {
         "company_country_code": "USA",
         "new_raised_amount_usd": 166666.66666666666,
         "funding_round": "seed",
         "_deepnote_index_column": 7
        }
       ]
      },
      "text/plain": "  company_country_code  new_raised_amount_usd funding_round\n0                  CHN           2,000,000.00     venture A\n2                  CHL              40,000.00          seed\n5                  USA           5,000,000.00       venture\n6                  USA              40,000.00          seed\n7                  USA             166,666.67          seed",
      "text/html": "<div>\n<style scoped>\n    .dataframe tbody tr th:only-of-type {\n        vertical-align: middle;\n    }\n\n    .dataframe tbody tr th {\n        vertical-align: top;\n    }\n\n    .dataframe thead th {\n        text-align: right;\n    }\n</style>\n<table border=\"1\" class=\"dataframe\">\n  <thead>\n    <tr style=\"text-align: right;\">\n      <th></th>\n      <th>company_country_code</th>\n      <th>new_raised_amount_usd</th>\n      <th>funding_round</th>\n    </tr>\n  </thead>\n  <tbody>\n    <tr>\n      <th>0</th>\n      <td>CHN</td>\n      <td>2,000,000.00</td>\n      <td>venture A</td>\n    </tr>\n    <tr>\n      <th>2</th>\n      <td>CHL</td>\n      <td>40,000.00</td>\n      <td>seed</td>\n    </tr>\n    <tr>\n      <th>5</th>\n      <td>USA</td>\n      <td>5,000,000.00</td>\n      <td>venture</td>\n    </tr>\n    <tr>\n      <th>6</th>\n      <td>USA</td>\n      <td>40,000.00</td>\n      <td>seed</td>\n    </tr>\n    <tr>\n      <th>7</th>\n      <td>USA</td>\n      <td>166,666.67</td>\n      <td>seed</td>\n    </tr>\n  </tbody>\n</table>\n</div>"
     },
     "metadata": {}
    }
   ]
  },
  {
   "cell_type": "code",
   "metadata": {
    "cell_id": "dd1272d0236248d18c893295cb84535f",
    "tags": [],
    "deepnote_to_be_reexecuted": false,
    "source_hash": "2f717163",
    "execution_start": 1650810084943,
    "execution_millis": 5,
    "deepnote_cell_type": "code",
    "deepnote_cell_height": 780,
    "deepnote_output_heights": [
     611
    ]
   },
   "source": "import json\n\nwith open('params/startup_country_name_grouping.json') as json_file:\n    country_name_dict = json.load(json_file)\ncountry_name_dict['company_country_name_new']",
   "execution_count": null,
   "outputs": [
    {
     "output_type": "execute_result",
     "execution_count": 37,
     "data": {
      "text/plain": "{'USA': 'USA',\n 'GBR': 'GBR',\n 'CAN': 'CAN',\n 'CHN': 'CHN',\n 'FRA': 'FRA',\n 'ISR': 'ISR',\n 'IND': 'IND',\n 'DEU': 'DEU',\n 'ESP': 'ESP',\n 'JPN': 'JPN',\n 'SGP': 'SGP',\n 'SWE': 'SWE',\n 'IRL': 'IRL',\n 'CHE': 'CHE',\n 'NLD': 'NLD',\n 'FIN': 'FIN',\n 'AUS': 'AUS',\n 'RUS': 'RUS',\n 'ITA': 'ITA',\n 'BRA': 'BRA',\n 'KOR': 'KOR',\n 'BEL': 'BEL',\n 'DNK': 'DNK',\n 'CHL': 'CHL',\n 'ARG': 'ARG',\n 'HKG': 'HKG',\n 'TUR': 'TUR',\n 'NOR': 'NOR',\n 'AUT': 'AUT',\n 'MEX': 'MEX',\n 'EST': 'EST',\n 'BGR': 'BGR',\n 'THA': 'THA',\n 'PRT': 'PRT',\n 'POL': 'POL',\n 'NZL': 'NZL',\n 'ARE': 'ARE',\n 'IDN': 'IDN',\n 'PER': 'OTHER',\n 'COL': 'OTHER',\n 'MYS': 'OTHER',\n 'CZE': 'OTHER',\n 'TWN': 'OTHER',\n 'ZAF': 'OTHER',\n 'NGA': 'OTHER',\n 'KEN': 'OTHER',\n 'HUN': 'OTHER',\n 'GRC': 'OTHER',\n 'LVA': 'OTHER',\n 'LUX': 'OTHER',\n 'VNM': 'OTHER',\n 'PHL': 'OTHER',\n 'UKR': 'OTHER',\n 'EGY': 'OTHER',\n 'ISL': 'OTHER',\n 'SVN': 'OTHER',\n 'LTU': 'OTHER',\n 'SRB': 'OTHER',\n 'VEN': 'OTHER',\n 'JOR': 'OTHER',\n 'SVK': 'OTHER',\n 'LBN': 'OTHER',\n 'ROM': 'OTHER',\n 'PAK': 'OTHER',\n 'CYM': 'OTHER',\n 'TAN': 'OTHER',\n 'GHA': 'OTHER',\n 'MAF': 'OTHER',\n 'MUS': 'OTHER',\n 'URY': 'OTHER',\n 'UGA': 'OTHER',\n 'CYP': 'OTHER',\n 'GIB': 'OTHER',\n 'PAN': 'OTHER',\n 'TTO': 'OTHER',\n 'MLT': 'OTHER',\n 'SAU': 'OTHER',\n 'GTM': 'OTHER',\n 'ECU': 'OTHER',\n 'ZMB': 'OTHER',\n 'BGD': 'OTHER',\n 'ARM': 'OTHER',\n 'SLV': 'OTHER',\n 'BAH': 'OTHER',\n 'MNE': 'OTHER',\n 'HRV': 'OTHER',\n 'GEO': 'OTHER',\n 'BWA': 'OTHER',\n 'AZE': 'OTHER',\n 'KNA': 'OTHER',\n 'MAR': 'OTHER',\n 'GRD': 'OTHER',\n 'MMR': 'OTHER',\n 'PRY': 'OTHER',\n 'BMU': 'OTHER',\n 'PRI': 'OTHER',\n 'LKA': 'OTHER',\n 'NPL': 'OTHER',\n 'ALB': 'OTHER',\n 'KAZ': 'OTHER',\n 'GGY': 'OTHER',\n 'BLZ': 'OTHER',\n 'LIE': 'OTHER',\n 'MDA': 'OTHER',\n 'OMN': 'OTHER',\n 'SEN': 'OTHER',\n 'BLM': 'OTHER',\n 'CRI': 'OTHER',\n 'MKD': 'OTHER',\n 'BHR': 'OTHER',\n 'TGO': 'OTHER',\n 'TUN': 'OTHER',\n 'ZWE': 'OTHER'}"
     },
     "metadata": {}
    }
   ]
  },
  {
   "cell_type": "code",
   "metadata": {
    "cell_id": "86479b3bded941589c9abad538cc8963",
    "tags": [],
    "deepnote_to_be_reexecuted": false,
    "source_hash": "452d9e34",
    "execution_start": 1650810084992,
    "execution_millis": 1,
    "deepnote_cell_type": "code",
    "deepnote_cell_height": 81
   },
   "source": "df['startup_company_country_code'] = df['company_country_code'].apply(lambda x: country_name_dict['company_country_name_new'][x])",
   "execution_count": null,
   "outputs": []
  },
  {
   "cell_type": "code",
   "metadata": {
    "cell_id": "1c0137c531d6404eb86ba73e53d73483",
    "tags": [],
    "deepnote_to_be_reexecuted": false,
    "source_hash": "6cfd0cf",
    "execution_start": 1650810084993,
    "execution_millis": 35,
    "deepnote_cell_type": "code",
    "deepnote_cell_height": 618
   },
   "source": "df_grouped = df.groupby(['startup_company_country_code','funding_round']).agg({'new_raised_amount_usd': 'mean'})\ndf_grouped",
   "execution_count": null,
   "outputs": [
    {
     "output_type": "execute_result",
     "execution_count": 39,
     "data": {
      "application/vnd.deepnote.dataframe.v3+json": {
       "column_count": 1,
       "row_count": 475,
       "columns": [
        {
         "name": "new_raised_amount_usd",
         "dtype": "float64",
         "stats": {
          "unique_count": 468,
          "nan_count": 0,
          "min": "80.0",
          "max": "5800000000.0",
          "histogram": [
           {
            "bin_start": 80,
            "bin_end": 580000072,
            "count": 474
           },
           {
            "bin_start": 580000072,
            "bin_end": 1160000064,
            "count": 0
           },
           {
            "bin_start": 1160000064,
            "bin_end": 1740000056,
            "count": 0
           },
           {
            "bin_start": 1740000056,
            "bin_end": 2320000048,
            "count": 0
           },
           {
            "bin_start": 2320000048,
            "bin_end": 2900000040,
            "count": 0
           },
           {
            "bin_start": 2900000040,
            "bin_end": 3480000032,
            "count": 0
           },
           {
            "bin_start": 3480000032,
            "bin_end": 4060000024,
            "count": 0
           },
           {
            "bin_start": 4060000024,
            "bin_end": 4640000016,
            "count": 0
           },
           {
            "bin_start": 4640000016,
            "bin_end": 5220000008,
            "count": 0
           },
           {
            "bin_start": 5220000008,
            "bin_end": 5800000000,
            "count": 1
           }
          ]
         }
        },
        {
         "name": "_deepnote_index_column",
         "dtype": "object"
        }
       ],
       "rows": [
        {
         "new_raised_amount_usd": 93125,
         "_deepnote_index_column": "('ARE', 'angel')"
        },
        {
         "new_raised_amount_usd": 34428,
         "_deepnote_index_column": "('ARE', 'convertible_note')"
        },
        {
         "new_raised_amount_usd": 9670000,
         "_deepnote_index_column": "('ARE', 'grant')"
        },
        {
         "new_raised_amount_usd": 85250000,
         "_deepnote_index_column": "('ARE', 'private_equity')"
        },
        {
         "new_raised_amount_usd": 183980,
         "_deepnote_index_column": "('ARE', 'seed')"
        },
        {
         "new_raised_amount_usd": 7500,
         "_deepnote_index_column": "('ARE', 'undisclosed')"
        },
        {
         "new_raised_amount_usd": 17254166.666666668,
         "_deepnote_index_column": "('ARE', 'venture')"
        },
        {
         "new_raised_amount_usd": 1727181.7272727273,
         "_deepnote_index_column": "('ARE', 'venture A')"
        },
        {
         "new_raised_amount_usd": 5400000,
         "_deepnote_index_column": "('ARE', 'venture B')"
        },
        {
         "new_raised_amount_usd": 18250000,
         "_deepnote_index_column": "('ARE', 'venture C')"
        }
       ]
      },
      "text/plain": "                                               new_raised_amount_usd\nstartup_company_country_code funding_round                          \nARE                          angel                         93,125.00\n                             convertible_note              34,428.00\n                             grant                      9,670,000.00\n                             private_equity            85,250,000.00\n                             seed                         183,980.00\n...                                                              ...\nUSA                          venture D                  7,045,448.38\n                             venture E                 11,316,961.13\n                             venture F                 12,071,648.93\n                             venture G                 18,321,833.72\n                             venture H                  8,708,333.33\n\n[475 rows x 1 columns]",
      "text/html": "<div>\n<style scoped>\n    .dataframe tbody tr th:only-of-type {\n        vertical-align: middle;\n    }\n\n    .dataframe tbody tr th {\n        vertical-align: top;\n    }\n\n    .dataframe thead th {\n        text-align: right;\n    }\n</style>\n<table border=\"1\" class=\"dataframe\">\n  <thead>\n    <tr style=\"text-align: right;\">\n      <th></th>\n      <th></th>\n      <th>new_raised_amount_usd</th>\n    </tr>\n    <tr>\n      <th>startup_company_country_code</th>\n      <th>funding_round</th>\n      <th></th>\n    </tr>\n  </thead>\n  <tbody>\n    <tr>\n      <th rowspan=\"5\" valign=\"top\">ARE</th>\n      <th>angel</th>\n      <td>93,125.00</td>\n    </tr>\n    <tr>\n      <th>convertible_note</th>\n      <td>34,428.00</td>\n    </tr>\n    <tr>\n      <th>grant</th>\n      <td>9,670,000.00</td>\n    </tr>\n    <tr>\n      <th>private_equity</th>\n      <td>85,250,000.00</td>\n    </tr>\n    <tr>\n      <th>seed</th>\n      <td>183,980.00</td>\n    </tr>\n    <tr>\n      <th>...</th>\n      <th>...</th>\n      <td>...</td>\n    </tr>\n    <tr>\n      <th rowspan=\"5\" valign=\"top\">USA</th>\n      <th>venture D</th>\n      <td>7,045,448.38</td>\n    </tr>\n    <tr>\n      <th>venture E</th>\n      <td>11,316,961.13</td>\n    </tr>\n    <tr>\n      <th>venture F</th>\n      <td>12,071,648.93</td>\n    </tr>\n    <tr>\n      <th>venture G</th>\n      <td>18,321,833.72</td>\n    </tr>\n    <tr>\n      <th>venture H</th>\n      <td>8,708,333.33</td>\n    </tr>\n  </tbody>\n</table>\n<p>475 rows × 1 columns</p>\n</div>"
     },
     "metadata": {}
    }
   ]
  },
  {
   "cell_type": "code",
   "metadata": {
    "cell_id": "e823ac52dee5414b8d2b7a72ed8181f0",
    "tags": [],
    "deepnote_to_be_reexecuted": false,
    "source_hash": "5773d11",
    "execution_start": 1650810085026,
    "execution_millis": 5,
    "deepnote_cell_type": "code",
    "deepnote_cell_height": 440,
    "deepnote_output_heights": [
     271
    ]
   },
   "source": "bin_count = 10\nlabels = [str(i) for i in range(1,bin_count+1)]\nout,bins = pd.qcut(df_grouped['new_raised_amount_usd'], bin_count, retbins=True, labels = labels)\nindex = pd.cut(df_grouped['new_raised_amount_usd'], bins = bins, labels = labels, include_lowest = True)\nindex",
   "execution_count": null,
   "outputs": [
    {
     "output_type": "execute_result",
     "execution_count": 40,
     "data": {
      "text/plain": "startup_company_country_code  funding_round   \nARE                           angel                1\n                              convertible_note     1\n                              grant                8\n                              private_equity      10\n                              seed                 2\n                                                  ..\nUSA                           venture D            8\n                              venture E            9\n                              venture F            9\n                              venture G            9\n                              venture H            8\nName: new_raised_amount_usd, Length: 475, dtype: category\nCategories (10, object): ['1' < '2' < '3' < '4' ... '7' < '8' < '9' < '10']"
     },
     "metadata": {}
    }
   ]
  },
  {
   "cell_type": "code",
   "metadata": {
    "cell_id": "b432fce4505c4ff0b53a4651b1f14a35",
    "tags": [],
    "deepnote_to_be_reexecuted": false,
    "source_hash": "99a4b51f",
    "execution_start": 1650810085033,
    "execution_millis": 2,
    "deepnote_cell_type": "code",
    "deepnote_cell_height": 81
   },
   "source": "index.to_json('params/startup_country_round_index.json')",
   "execution_count": null,
   "outputs": []
  },
  {
   "cell_type": "code",
   "metadata": {
    "cell_id": "56b4ad3a7e9449b095881c33a34b4b9a",
    "tags": [],
    "deepnote_to_be_reexecuted": false,
    "source_hash": "3297bf21",
    "execution_start": 1650810085080,
    "execution_millis": 2,
    "deepnote_cell_type": "code",
    "deepnote_cell_height": 579,
    "deepnote_output_heights": [
     482
    ]
   },
   "source": "index[\"USA\"]",
   "execution_count": null,
   "outputs": [
    {
     "output_type": "execute_result",
     "execution_count": 42,
     "data": {
      "text/plain": "funding_round\nangel                     2\nconvertible_note          4\ndebt_financing            9\nequity_crowdfunding       5\ngrant                     7\nnon_equity_assistance     3\npost_ipo_debt            10\npost_ipo_equity          10\nprivate_equity           10\nproduct_crowdfunding      4\nsecondary_market         10\nseed                      3\nundisclosed               8\nventure                   8\nventure A                 5\nventure B                 7\nventure C                 7\nventure D                 8\nventure E                 9\nventure F                 9\nventure G                 9\nventure H                 8\nName: new_raised_amount_usd, dtype: category\nCategories (10, object): ['1' < '2' < '3' < '4' ... '7' < '8' < '9' < '10']"
     },
     "metadata": {}
    }
   ]
  },
  {
   "cell_type": "markdown",
   "source": "## 4. Creating rounds index",
   "metadata": {
    "tags": [],
    "is_collapsed": false,
    "cell_id": "00054-efd2ca1c-23d6-4700-8830-ba1fb068b6fc",
    "deepnote_cell_type": "text-cell-h2"
   }
  },
  {
   "cell_type": "markdown",
   "source": "This feature represents the round type.",
   "metadata": {
    "tags": [],
    "cell_id": "00055-46864bbb-e206-4176-a6d9-3b61fb7c0fb9",
    "deepnote_cell_type": "markdown",
    "deepnote_cell_height": 52.390625
   }
  },
  {
   "cell_type": "code",
   "metadata": {
    "tags": [],
    "deepnote_to_be_reexecuted": false,
    "source_hash": "6751bfb0",
    "execution_start": 1650810085081,
    "execution_millis": 279,
    "cell_id": "00056-f4872dd5-0c0f-4c10-84bb-c2947b37b11c",
    "deepnote_cell_type": "code",
    "deepnote_cell_height": 81
   },
   "source": "rounds = pd.read_csv('splitted data/rounds_training.csv')",
   "execution_count": null,
   "outputs": []
  },
  {
   "cell_type": "code",
   "metadata": {
    "tags": [],
    "deepnote_to_be_reexecuted": false,
    "source_hash": "776f9264",
    "execution_start": 1650810085376,
    "execution_millis": 0,
    "cell_id": "00057-a453a911-067c-4413-b319-207f9e56239d",
    "deepnote_cell_type": "code",
    "deepnote_cell_height": 117
   },
   "source": "fund_type_avg_raised_amount = rounds.groupby('funding_round')\\\n.agg({'raised_amount_usd': 'mean'})\\\n.sort_values(by = 'raised_amount_usd', ascending=False)",
   "execution_count": null,
   "outputs": []
  },
  {
   "cell_type": "code",
   "metadata": {
    "tags": [],
    "deepnote_to_be_reexecuted": false,
    "source_hash": "c7a97c3b",
    "execution_start": 1650810085400,
    "execution_millis": 1,
    "cell_id": "00058-96a86a06-e148-4dee-9aed-2159bbb2f2e9",
    "deepnote_cell_type": "code",
    "deepnote_cell_height": 225
   },
   "source": "def categorizer(data, bin_count, filename):\n    \"\"\"\n        data -> 1D Pandas.DataFrame\n        filename -> json filename <\n    \"\"\"\n    labels = [str(i) for i in range(1,bin_count+1)]\n    out,bins = pd.qcut(data, bin_count, retbins=True, labels = labels)\n    index = pd.cut(data, bins = bins, labels = labels, include_lowest = True)\n    index.to_json(filename)",
   "execution_count": null,
   "outputs": []
  },
  {
   "cell_type": "code",
   "metadata": {
    "tags": [],
    "deepnote_to_be_reexecuted": false,
    "source_hash": "b4428e2b",
    "execution_start": 1650810085401,
    "execution_millis": 624,
    "cell_id": "00059-e42c3ffb-3070-4897-87b1-8351fb952d4d",
    "deepnote_cell_type": "code",
    "deepnote_cell_height": 651,
    "deepnote_output_heights": [
     482
    ]
   },
   "source": "bin_count = 10\nlabels = [str(i) for i in range(1,bin_count+1)]\nout,bins = pd.qcut(fund_type_avg_raised_amount['raised_amount_usd'], bin_count, retbins=True, labels = labels)\nindex = pd.cut(fund_type_avg_raised_amount['raised_amount_usd'], bins = bins, labels = labels, include_lowest = True)\nindex",
   "execution_count": null,
   "outputs": [
    {
     "output_type": "execute_result",
     "execution_count": 46,
     "data": {
      "text/plain": "funding_round\npost_ipo_debt            10\nventure H                10\nsecondary_market         10\npost_ipo_equity           9\nprivate_equity            9\nventure G                 8\nventure F                 8\nventure E                 7\nventure D                 7\nventure C                 6\ndebt_financing            6\nundisclosed               5\nventure B                 5\nventure                   4\nventure A                 4\ngrant                     3\nconvertible_note          3\nproduct_crowdfunding      2\nangel                     2\nseed                      1\nequity_crowdfunding       1\nnon_equity_assistance     1\nName: raised_amount_usd, dtype: category\nCategories (10, object): ['1' < '2' < '3' < '4' ... '7' < '8' < '9' < '10']"
     },
     "metadata": {}
    }
   ]
  },
  {
   "cell_type": "code",
   "metadata": {
    "tags": [],
    "deepnote_to_be_reexecuted": false,
    "source_hash": "760dd38d",
    "execution_start": 1650810085402,
    "execution_millis": 1,
    "cell_id": "00060-fba16e90-2784-42c7-94a9-57b5ac621f84",
    "deepnote_cell_type": "code",
    "deepnote_cell_height": 81
   },
   "source": "index.to_json('params/rounds_index.json')",
   "execution_count": null,
   "outputs": []
  },
  {
   "cell_type": "markdown",
   "source": "## 5. Creating funding amount discretization",
   "metadata": {
    "tags": [],
    "is_collapsed": false,
    "cell_id": "00061-83ce11c6-fa6c-4b65-931d-3cd7ab948eb3",
    "deepnote_cell_type": "text-cell-h2"
   }
  },
  {
   "cell_type": "markdown",
   "source": "Funding amount is a continuous variable that is discretized into a range of 1 to 10.",
   "metadata": {
    "tags": [],
    "cell_id": "00062-e9484727-64b0-4c88-9956-725e8f2e02c6",
    "deepnote_cell_type": "markdown",
    "deepnote_cell_height": 52.390625
   }
  },
  {
   "cell_type": "code",
   "metadata": {
    "tags": [],
    "deepnote_to_be_reexecuted": false,
    "source_hash": "ef95b305",
    "execution_start": 1650810085403,
    "execution_millis": 328,
    "cell_id": "00063-6de62a0c-7d13-4df9-a23e-22cebccdf196",
    "deepnote_cell_type": "code",
    "deepnote_cell_height": 117
   },
   "source": "rounds = pd.read_csv('splitted data/rounds_training.csv')\ny = rounds[rounds['raised_amount_usd'].notnull()]['raised_amount_usd']\ny = y[y > 50000].copy()",
   "execution_count": null,
   "outputs": []
  },
  {
   "cell_type": "code",
   "metadata": {
    "tags": [],
    "deepnote_to_be_reexecuted": false,
    "source_hash": "70971cd6",
    "execution_start": 1650810085733,
    "execution_millis": 299,
    "cell_id": "00064-516108f5-c60d-4d44-96bf-3b641e92a087",
    "deepnote_cell_type": "code",
    "deepnote_cell_height": 420,
    "deepnote_output_heights": [
     251
    ]
   },
   "source": "bin_count = 10\nlabels = [str(i) for i in range(1,bin_count+1)]\nout,bins = pd.qcut(y, bin_count, retbins=True, labels = labels)\nindex = pd.cut(y, bins = bins, labels = labels, include_lowest = True)\nindex",
   "execution_count": null,
   "outputs": [
    {
     "output_type": "execute_result",
     "execution_count": 49,
     "data": {
      "text/plain": "0        8\n1        6\n2        5\n8        5\n9        7\n        ..\n91661    1\n91662    4\n91663    8\n91664    6\n91665    5\nName: raised_amount_usd, Length: 68554, dtype: category\nCategories (10, object): ['1' < '2' < '3' < '4' ... '7' < '8' < '9' < '10']"
     },
     "metadata": {}
    }
   ]
  },
  {
   "cell_type": "code",
   "metadata": {
    "tags": [],
    "deepnote_to_be_reexecuted": false,
    "source_hash": "da80b143",
    "execution_start": 1650810085755,
    "execution_millis": 7,
    "cell_id": "00065-f83593a5-865e-4053-809f-3dd477366bc5",
    "deepnote_cell_type": "code",
    "deepnote_cell_height": 81
   },
   "source": "pd.DataFrame(bins).to_csv('params/funding_amount_discretization.csv', index=False)",
   "execution_count": null,
   "outputs": []
  },
  {
   "cell_type": "markdown",
   "source": "## 6. Creating investor country and rounds index",
   "metadata": {
    "tags": [],
    "is_collapsed": false,
    "cell_id": "00066-06e19e32-2b80-40bd-b89b-a8de3adc9e38",
    "deepnote_cell_type": "text-cell-h2"
   }
  },
  {
   "cell_type": "markdown",
   "source": "This feature represents the country of investors relative to the round type.",
   "metadata": {
    "tags": [],
    "cell_id": "00067-5eb075c8-84b2-4c09-adbd-8505b38a8456",
    "deepnote_cell_type": "markdown",
    "deepnote_cell_height": 52.390625
   }
  },
  {
   "cell_type": "code",
   "metadata": {
    "tags": [],
    "deepnote_to_be_reexecuted": false,
    "source_hash": "61f0a9",
    "execution_start": 1650810085809,
    "execution_millis": 570,
    "cell_id": "00068-d47ebd3d-18d7-4ea6-b545-239271b8adac",
    "deepnote_cell_type": "code",
    "deepnote_cell_height": 135
   },
   "source": "df = pd.read_csv('splitted data/investments_training.csv')\ndf.drop(df.columns.difference(['funding_round','investor_country_code','new_raised_amount_usd']), 1, inplace=True)\n# drop NaNs\ndf.dropna(inplace=True)",
   "execution_count": null,
   "outputs": []
  },
  {
   "cell_type": "code",
   "metadata": {
    "tags": [],
    "deepnote_to_be_reexecuted": false,
    "source_hash": "994ee508",
    "execution_start": 1650810086382,
    "execution_millis": 8,
    "cell_id": "00069-f8de4303-81f6-404a-aefe-0cb459443c6f",
    "deepnote_cell_type": "code",
    "deepnote_cell_height": 780,
    "deepnote_output_heights": [
     611
    ]
   },
   "source": "import json\n\nwith open('params/investor_country_name_grouping.json') as json_file:\n    country_name_dict = json.load(json_file)\ncountry_name_dict['investor_country_name_new']",
   "execution_count": null,
   "outputs": [
    {
     "output_type": "execute_result",
     "execution_count": 52,
     "data": {
      "text/plain": "{'USA': 'USA',\n 'GBR': 'GBR',\n 'FRA': 'FRA',\n 'CAN': 'CAN',\n 'DEU': 'DEU',\n 'ISR': 'ISR',\n 'CHN': 'CHN',\n 'ESP': 'ESP',\n 'CHE': 'CHE',\n 'JPN': 'JPN',\n 'IND': 'IND',\n 'CHL': 'CHL',\n 'HKG': 'HKG',\n 'SWE': 'SWE',\n 'SGP': 'SGP',\n 'IRL': 'IRL',\n 'AUS': 'AUS',\n 'NLD': 'NLD',\n 'DNK': 'DNK',\n 'KOR': 'KOR',\n 'RUS': 'RUS',\n 'ITA': 'ITA',\n 'BEL': 'BEL',\n 'FIN': 'FIN',\n 'BGR': 'BGR',\n 'ARG': 'ARG',\n 'NOR': 'NOR',\n 'LUX': 'LUX',\n 'MEX': 'MEX',\n 'TWN': 'TWN',\n 'EST': 'EST',\n 'BRA': 'BRA',\n 'PRT': 'PRT',\n 'MUS': 'MUS',\n 'POL': 'POL',\n 'TUR': 'TUR',\n 'ARE': 'OTHER',\n 'AUT': 'OTHER',\n 'NZL': 'OTHER',\n 'ZAF': 'OTHER',\n 'MYS': 'OTHER',\n 'CZE': 'OTHER',\n 'GRC': 'OTHER',\n 'CYM': 'OTHER',\n 'THA': 'OTHER',\n 'UKR': 'OTHER',\n 'HUN': 'OTHER',\n 'LVA': 'OTHER',\n 'PHL': 'OTHER',\n 'NGA': 'OTHER',\n 'URY': 'OTHER',\n 'IDN': 'OTHER',\n 'ROM': 'OTHER',\n 'LBN': 'OTHER',\n 'KEN': 'OTHER',\n 'SVK': 'OTHER',\n 'VNM': 'OTHER',\n 'COL': 'OTHER',\n 'SAU': 'OTHER',\n 'LTU': 'OTHER',\n 'PER': 'OTHER',\n 'BMU': 'OTHER',\n 'JEY': 'OTHER',\n 'JOR': 'OTHER',\n 'KWT': 'OTHER',\n 'EGY': 'OTHER',\n 'GHA': 'OTHER',\n 'SVN': 'OTHER',\n 'ISL': 'OTHER',\n 'CYP': 'OTHER',\n 'BHR': 'OTHER',\n 'ARM': 'OTHER',\n 'PAK': 'OTHER',\n 'LKA': 'OTHER',\n 'CRI': 'OTHER',\n 'QAT': 'OTHER',\n 'HRV': 'OTHER',\n 'GEO': 'OTHER',\n 'MLT': 'OTHER',\n 'LIE': 'OTHER',\n 'GIB': 'OTHER',\n 'PSE': 'OTHER',\n 'TTO': 'OTHER',\n 'MMR': 'OTHER',\n 'BLM': 'OTHER',\n 'IRN': 'OTHER',\n 'BAH': 'OTHER',\n 'BLR': 'OTHER',\n 'AZE': 'OTHER',\n 'TGO': 'OTHER',\n 'BGD': 'OTHER',\n 'GTM': 'OTHER',\n 'KHM': 'OTHER',\n 'VEN': 'OTHER'}"
     },
     "metadata": {}
    }
   ]
  },
  {
   "cell_type": "code",
   "metadata": {
    "tags": [],
    "deepnote_to_be_reexecuted": false,
    "source_hash": "d0516a0f",
    "execution_start": 1650810086391,
    "execution_millis": 19,
    "cell_id": "00070-601250a0-2246-4bc8-8195-8027399a4424",
    "deepnote_cell_type": "code",
    "deepnote_cell_height": 81
   },
   "source": "df['investor_country_code'] = df['investor_country_code'].apply(lambda x: country_name_dict['investor_country_name_new'][x])",
   "execution_count": null,
   "outputs": []
  },
  {
   "cell_type": "code",
   "metadata": {
    "tags": [],
    "deepnote_to_be_reexecuted": false,
    "source_hash": "4ee76711",
    "execution_start": 1650810086416,
    "execution_millis": 12,
    "cell_id": "00071-5cd9374e-7fcd-47e7-804a-cb5d737960f6",
    "deepnote_cell_type": "code",
    "deepnote_cell_height": 81
   },
   "source": "df_grouped = df.groupby(['investor_country_code','funding_round']).agg({'new_raised_amount_usd': 'mean'})",
   "execution_count": null,
   "outputs": []
  },
  {
   "cell_type": "code",
   "metadata": {
    "tags": [],
    "deepnote_to_be_reexecuted": false,
    "source_hash": "ec0ca006",
    "execution_start": 1650810086435,
    "execution_millis": 45,
    "cell_id": "00072-73bb8b0c-8848-462d-82fb-9d75bf37c8cc",
    "deepnote_cell_type": "code",
    "deepnote_cell_height": 135
   },
   "source": "bin_count = 10\nlabels = [str(i) for i in range(1,bin_count+1)]\nout,bins = pd.qcut(df_grouped['new_raised_amount_usd'], bin_count, retbins=True, labels = labels)\nindex = pd.cut(df_grouped['new_raised_amount_usd'], bins = bins, labels = labels, include_lowest = True)",
   "execution_count": null,
   "outputs": []
  },
  {
   "cell_type": "code",
   "metadata": {
    "tags": [],
    "deepnote_to_be_reexecuted": false,
    "source_hash": "e0488ae3",
    "execution_start": 1650810086480,
    "execution_millis": 1,
    "cell_id": "00073-f07cadc7-6d0d-4881-9271-8cbd674d773f",
    "deepnote_cell_type": "code",
    "deepnote_cell_height": 81
   },
   "source": "index.to_json('params/investor_country_round_index.json')",
   "execution_count": null,
   "outputs": []
  },
  {
   "cell_type": "markdown",
   "source": "## 7. Creating Time features",
   "metadata": {
    "tags": [],
    "is_collapsed": false,
    "cell_id": "00074-953400c2-7513-4609-8a2d-b8697d0eabcc",
    "deepnote_cell_type": "text-cell-h2"
   }
  },
  {
   "cell_type": "markdown",
   "source": "Time features are the time difference between when the dataset was created (4 December 2015) and the time of when the company was first funded, last funded, and its age.",
   "metadata": {
    "tags": [],
    "cell_id": "00075-26b24eec-277c-4e18-bc44-70686efb2e2f",
    "deepnote_cell_type": "markdown",
    "deepnote_cell_height": 74.78125
   }
  },
  {
   "cell_type": "code",
   "metadata": {
    "tags": [],
    "deepnote_to_be_reexecuted": false,
    "source_hash": "21657ba5",
    "execution_start": 1650810086481,
    "execution_millis": 180,
    "cell_id": "00076-ae8499de-dbc6-48d1-874b-b16661724955",
    "owner_user_id": "562fd618-0486-4ebd-8d37-6c6f870e3092",
    "deepnote_cell_type": "code",
    "deepnote_cell_height": 81
   },
   "source": "company_df = pd.read_csv('splitted data/companies_training.csv')",
   "execution_count": null,
   "outputs": []
  },
  {
   "cell_type": "code",
   "metadata": {
    "tags": [],
    "deepnote_to_be_reexecuted": false,
    "source_hash": "12d0b964",
    "execution_start": 1650810086667,
    "execution_millis": 18,
    "cell_id": "00077-eb0c084e-d802-49a5-b6cc-a5f854bc1d9b",
    "deepnote_cell_type": "code",
    "deepnote_cell_height": 99
   },
   "source": "company_df = company_df[company_df['first_funding_at'].notna()]\ncompany_df = company_df[company_df['founded_at'].notna()]",
   "execution_count": null,
   "outputs": []
  },
  {
   "cell_type": "code",
   "metadata": {
    "tags": [],
    "deepnote_to_be_reexecuted": false,
    "source_hash": "a423b6cf",
    "execution_start": 1650810086740,
    "execution_millis": 0,
    "cell_id": "00078-1e866948-a581-4de4-bf7f-b4cf1dd115a9",
    "deepnote_cell_type": "code",
    "deepnote_cell_height": 117
   },
   "source": "company_df['first_funding_at'] = pd.to_datetime(company_df['first_funding_at'], errors='coerce').dropna()\ncompany_df['last_funding_at'] = pd.to_datetime(company_df['last_funding_at'], errors='coerce').dropna()\ncompany_df['founded_at'] = pd.to_datetime(company_df['founded_at'], errors='coerce').dropna()",
   "execution_count": null,
   "outputs": []
  },
  {
   "cell_type": "code",
   "metadata": {
    "tags": [],
    "deepnote_to_be_reexecuted": false,
    "source_hash": "9bf549d4",
    "execution_start": 1650810086740,
    "execution_millis": 84,
    "cell_id": "00079-472dd708-180f-4762-a598-58fa02e3004d",
    "deepnote_cell_type": "code",
    "deepnote_cell_height": 135
   },
   "source": "current_date = \"2015-12-04\"\ncompany_df['time_since_first_investment'] = (pd.to_datetime(current_date) - company_df['first_funding_at']).astype('timedelta64[D]')\ncompany_df['time_since_last_investment'] = (pd.to_datetime(current_date) - company_df['last_funding_at']).astype('timedelta64[D]')\ncompany_df['company_age'] = (pd.to_datetime(current_date) - company_df['founded_at']).astype('timedelta64[D]')",
   "execution_count": null,
   "outputs": []
  },
  {
   "cell_type": "code",
   "metadata": {
    "tags": [],
    "deepnote_to_be_reexecuted": false,
    "source_hash": "c5b9c6d9",
    "execution_start": 1650810086824,
    "execution_millis": 1,
    "cell_id": "00080-00519d49-98eb-445b-ba56-adaeec2b1c2d",
    "deepnote_cell_type": "code",
    "deepnote_cell_height": 99
   },
   "source": "investment_time_difference = company_df['time_since_first_investment'] - company_df['time_since_last_investment']\ncompany_df['avg_time_between_rounds'] = investment_time_difference/company_df['funding_rounds']",
   "execution_count": null,
   "outputs": []
  },
  {
   "cell_type": "code",
   "metadata": {
    "tags": [],
    "deepnote_to_be_reexecuted": false,
    "source_hash": "c4c2f46a",
    "execution_start": 1650810086826,
    "execution_millis": 64,
    "cell_id": "00081-9dcbfbc6-f686-4f51-8ddf-4dc10099e4a0",
    "deepnote_cell_type": "code",
    "deepnote_cell_height": 518
   },
   "source": "company_df[['permalink','time_since_first_investment','time_since_last_investment','company_age','avg_time_between_rounds']].describe()",
   "execution_count": null,
   "outputs": [
    {
     "output_type": "execute_result",
     "execution_count": 62,
     "data": {
      "application/vnd.deepnote.dataframe.v3+json": {
       "column_count": 4,
       "row_count": 8,
       "columns": [
        {
         "name": "time_since_first_investment",
         "dtype": "float64",
         "stats": {
          "unique_count": 8,
          "nan_count": 0,
          "min": "-1.0",
          "max": "40868.0",
          "histogram": [
           {
            "bin_start": -1,
            "bin_end": 4085.9,
            "count": 6
           },
           {
            "bin_start": 4085.9,
            "bin_end": 8172.8,
            "count": 0
           },
           {
            "bin_start": 8172.8,
            "bin_end": 12259.7,
            "count": 0
           },
           {
            "bin_start": 12259.7,
            "bin_end": 16346.6,
            "count": 0
           },
           {
            "bin_start": 16346.6,
            "bin_end": 20433.5,
            "count": 1
           },
           {
            "bin_start": 20433.5,
            "bin_end": 24520.4,
            "count": 0
           },
           {
            "bin_start": 24520.4,
            "bin_end": 28607.3,
            "count": 0
           },
           {
            "bin_start": 28607.3,
            "bin_end": 32694.2,
            "count": 0
           },
           {
            "bin_start": 32694.2,
            "bin_end": 36781.1,
            "count": 0
           },
           {
            "bin_start": 36781.1,
            "bin_end": 40868,
            "count": 1
           }
          ]
         }
        },
        {
         "name": "time_since_last_investment",
         "dtype": "float64",
         "stats": {
          "unique_count": 8,
          "nan_count": 0,
          "min": "-32655.0",
          "max": "40870.0",
          "histogram": [
           {
            "bin_start": -32655,
            "bin_end": -25302.5,
            "count": 1
           },
           {
            "bin_start": -25302.5,
            "bin_end": -17950,
            "count": 0
           },
           {
            "bin_start": -17950,
            "bin_end": -10597.5,
            "count": 0
           },
           {
            "bin_start": -10597.5,
            "bin_end": -3245,
            "count": 0
           },
           {
            "bin_start": -3245,
            "bin_end": 4107.5,
            "count": 5
           },
           {
            "bin_start": 4107.5,
            "bin_end": 11460,
            "count": 0
           },
           {
            "bin_start": 11460,
            "bin_end": 18812.5,
            "count": 1
           },
           {
            "bin_start": 18812.5,
            "bin_end": 26165,
            "count": 0
           },
           {
            "bin_start": 26165,
            "bin_end": 33517.5,
            "count": 0
           },
           {
            "bin_start": 33517.5,
            "bin_end": 40870,
            "count": 1
           }
          ]
         }
        },
        {
         "name": "company_age",
         "dtype": "float64",
         "stats": {
          "unique_count": 8,
          "nan_count": 0,
          "min": "-32169.0",
          "max": "97491.0",
          "histogram": [
           {
            "bin_start": -32169,
            "bin_end": -19203,
            "count": 1
           },
           {
            "bin_start": -19203,
            "bin_end": -6237,
            "count": 0
           },
           {
            "bin_start": -6237,
            "bin_end": 6729,
            "count": 5
           },
           {
            "bin_start": 6729,
            "bin_end": 19695,
            "count": 0
           },
           {
            "bin_start": 19695,
            "bin_end": 32661,
            "count": 0
           },
           {
            "bin_start": 32661,
            "bin_end": 45627,
            "count": 1
           },
           {
            "bin_start": 45627,
            "bin_end": 58593,
            "count": 0
           },
           {
            "bin_start": 58593,
            "bin_end": 71559,
            "count": 0
           },
           {
            "bin_start": 71559,
            "bin_end": 84525,
            "count": 0
           },
           {
            "bin_start": 84525,
            "bin_end": 97491,
            "count": 1
           }
          ]
         }
        },
        {
         "name": "avg_time_between_rounds",
         "dtype": "float64",
         "stats": {
          "unique_count": 6,
          "nan_count": 0,
          "min": "0.0",
          "max": "40868.0",
          "histogram": [
           {
            "bin_start": 0,
            "bin_end": 4086.8,
            "count": 6
           },
           {
            "bin_start": 4086.8,
            "bin_end": 8173.6,
            "count": 0
           },
           {
            "bin_start": 8173.6,
            "bin_end": 12260.400000000001,
            "count": 1
           },
           {
            "bin_start": 12260.400000000001,
            "bin_end": 16347.2,
            "count": 0
           },
           {
            "bin_start": 16347.2,
            "bin_end": 20434,
            "count": 0
           },
           {
            "bin_start": 20434,
            "bin_end": 24520.800000000003,
            "count": 0
           },
           {
            "bin_start": 24520.800000000003,
            "bin_end": 28607.600000000002,
            "count": 0
           },
           {
            "bin_start": 28607.600000000002,
            "bin_end": 32694.4,
            "count": 0
           },
           {
            "bin_start": 32694.4,
            "bin_end": 36781.200000000004,
            "count": 0
           },
           {
            "bin_start": 36781.200000000004,
            "bin_end": 40868,
            "count": 1
           }
          ]
         }
        },
        {
         "name": "_deepnote_index_column",
         "dtype": "object"
        }
       ],
       "rows": [
        {
         "time_since_first_investment": 40868,
         "time_since_last_investment": 40870,
         "company_age": 40866,
         "avg_time_between_rounds": 40868,
         "_deepnote_index_column": "count"
        },
        {
         "time_since_first_investment": 1531.8857051972204,
         "time_since_last_investment": 1143.6141913383901,
         "company_age": 2901.1581265599766,
         "avg_time_between_rounds": 123.91450197475146,
         "_deepnote_index_column": "mean"
        },
        {
         "time_since_first_investment": 1265.0131374694176,
         "time_since_last_investment": 1146.26842082597,
         "company_age": 3786.8407483999736,
         "avg_time_between_rounds": 225.33379284145857,
         "_deepnote_index_column": "std"
        },
        {
         "time_since_first_investment": -1,
         "time_since_last_investment": -32655,
         "company_age": -32169,
         "avg_time_between_rounds": 0,
         "_deepnote_index_column": "min"
        },
        {
         "time_since_first_investment": 612,
         "time_since_last_investment": 354,
         "company_age": 1067,
         "avg_time_between_rounds": 0,
         "_deepnote_index_column": "25%"
        },
        {
         "time_since_first_investment": 1189,
         "time_since_last_investment": 773,
         "company_age": 1920,
         "avg_time_between_rounds": 0,
         "_deepnote_index_column": "50%"
        },
        {
         "time_since_first_investment": 2153,
         "time_since_last_investment": 1589,
         "company_age": 3624,
         "avg_time_between_rounds": 202,
         "_deepnote_index_column": "75%"
        },
        {
         "time_since_first_investment": 16408,
         "time_since_last_investment": 16408,
         "company_age": 97491,
         "avg_time_between_rounds": 11209.333333333334,
         "_deepnote_index_column": "max"
        }
       ]
      },
      "text/plain": "       time_since_first_investment  time_since_last_investment  company_age  \\\ncount                    40,868.00                   40,870.00    40,866.00   \nmean                      1,531.89                    1,143.61     2,901.16   \nstd                       1,265.01                    1,146.27     3,786.84   \nmin                          -1.00                  -32,655.00   -32,169.00   \n25%                         612.00                      354.00     1,067.00   \n50%                       1,189.00                      773.00     1,920.00   \n75%                       2,153.00                    1,589.00     3,624.00   \nmax                      16,408.00                   16,408.00    97,491.00   \n\n       avg_time_between_rounds  \ncount                40,868.00  \nmean                    123.91  \nstd                     225.33  \nmin                       0.00  \n25%                       0.00  \n50%                       0.00  \n75%                     202.00  \nmax                  11,209.33  ",
      "text/html": "<div>\n<style scoped>\n    .dataframe tbody tr th:only-of-type {\n        vertical-align: middle;\n    }\n\n    .dataframe tbody tr th {\n        vertical-align: top;\n    }\n\n    .dataframe thead th {\n        text-align: right;\n    }\n</style>\n<table border=\"1\" class=\"dataframe\">\n  <thead>\n    <tr style=\"text-align: right;\">\n      <th></th>\n      <th>time_since_first_investment</th>\n      <th>time_since_last_investment</th>\n      <th>company_age</th>\n      <th>avg_time_between_rounds</th>\n    </tr>\n  </thead>\n  <tbody>\n    <tr>\n      <th>count</th>\n      <td>40,868.00</td>\n      <td>40,870.00</td>\n      <td>40,866.00</td>\n      <td>40,868.00</td>\n    </tr>\n    <tr>\n      <th>mean</th>\n      <td>1,531.89</td>\n      <td>1,143.61</td>\n      <td>2,901.16</td>\n      <td>123.91</td>\n    </tr>\n    <tr>\n      <th>std</th>\n      <td>1,265.01</td>\n      <td>1,146.27</td>\n      <td>3,786.84</td>\n      <td>225.33</td>\n    </tr>\n    <tr>\n      <th>min</th>\n      <td>-1.00</td>\n      <td>-32,655.00</td>\n      <td>-32,169.00</td>\n      <td>0.00</td>\n    </tr>\n    <tr>\n      <th>25%</th>\n      <td>612.00</td>\n      <td>354.00</td>\n      <td>1,067.00</td>\n      <td>0.00</td>\n    </tr>\n    <tr>\n      <th>50%</th>\n      <td>1,189.00</td>\n      <td>773.00</td>\n      <td>1,920.00</td>\n      <td>0.00</td>\n    </tr>\n    <tr>\n      <th>75%</th>\n      <td>2,153.00</td>\n      <td>1,589.00</td>\n      <td>3,624.00</td>\n      <td>202.00</td>\n    </tr>\n    <tr>\n      <th>max</th>\n      <td>16,408.00</td>\n      <td>16,408.00</td>\n      <td>97,491.00</td>\n      <td>11,209.33</td>\n    </tr>\n  </tbody>\n</table>\n</div>"
     },
     "metadata": {}
    }
   ]
  },
  {
   "cell_type": "code",
   "metadata": {
    "tags": [],
    "deepnote_to_be_reexecuted": false,
    "source_hash": "ede40c25",
    "execution_start": 1650810086853,
    "execution_millis": 78,
    "cell_id": "00082-cc505cc3-0e81-4662-9fa4-656ed28394b1",
    "deepnote_cell_type": "code",
    "deepnote_cell_height": 590
   },
   "source": "columns = ['time_since_first_investment','time_since_last_investment','company_age','avg_time_between_rounds']\nfor column in columns:\n    company_df[column] = company_df[column].apply(lambda x: 0 if x < 0 else x)\n\ncompany_df[['permalink','time_since_first_investment','time_since_last_investment','company_age','avg_time_between_rounds']].describe()",
   "execution_count": null,
   "outputs": [
    {
     "output_type": "execute_result",
     "execution_count": 63,
     "data": {
      "application/vnd.deepnote.dataframe.v3+json": {
       "column_count": 4,
       "row_count": 8,
       "columns": [
        {
         "name": "time_since_first_investment",
         "dtype": "float64",
         "stats": {
          "unique_count": 8,
          "nan_count": 0,
          "min": "0.0",
          "max": "40868.0",
          "histogram": [
           {
            "bin_start": 0,
            "bin_end": 4086.8,
            "count": 6
           },
           {
            "bin_start": 4086.8,
            "bin_end": 8173.6,
            "count": 0
           },
           {
            "bin_start": 8173.6,
            "bin_end": 12260.400000000001,
            "count": 0
           },
           {
            "bin_start": 12260.400000000001,
            "bin_end": 16347.2,
            "count": 0
           },
           {
            "bin_start": 16347.2,
            "bin_end": 20434,
            "count": 1
           },
           {
            "bin_start": 20434,
            "bin_end": 24520.800000000003,
            "count": 0
           },
           {
            "bin_start": 24520.800000000003,
            "bin_end": 28607.600000000002,
            "count": 0
           },
           {
            "bin_start": 28607.600000000002,
            "bin_end": 32694.4,
            "count": 0
           },
           {
            "bin_start": 32694.4,
            "bin_end": 36781.200000000004,
            "count": 0
           },
           {
            "bin_start": 36781.200000000004,
            "bin_end": 40868,
            "count": 1
           }
          ]
         }
        },
        {
         "name": "time_since_last_investment",
         "dtype": "float64",
         "stats": {
          "unique_count": 8,
          "nan_count": 0,
          "min": "0.0",
          "max": "40870.0",
          "histogram": [
           {
            "bin_start": 0,
            "bin_end": 4087,
            "count": 6
           },
           {
            "bin_start": 4087,
            "bin_end": 8174,
            "count": 0
           },
           {
            "bin_start": 8174,
            "bin_end": 12261,
            "count": 0
           },
           {
            "bin_start": 12261,
            "bin_end": 16348,
            "count": 0
           },
           {
            "bin_start": 16348,
            "bin_end": 20435,
            "count": 1
           },
           {
            "bin_start": 20435,
            "bin_end": 24522,
            "count": 0
           },
           {
            "bin_start": 24522,
            "bin_end": 28609,
            "count": 0
           },
           {
            "bin_start": 28609,
            "bin_end": 32696,
            "count": 0
           },
           {
            "bin_start": 32696,
            "bin_end": 36783,
            "count": 0
           },
           {
            "bin_start": 36783,
            "bin_end": 40870,
            "count": 1
           }
          ]
         }
        },
        {
         "name": "company_age",
         "dtype": "float64",
         "stats": {
          "unique_count": 8,
          "nan_count": 0,
          "min": "0.0",
          "max": "97491.0",
          "histogram": [
           {
            "bin_start": 0,
            "bin_end": 9749.1,
            "count": 6
           },
           {
            "bin_start": 9749.1,
            "bin_end": 19498.2,
            "count": 0
           },
           {
            "bin_start": 19498.2,
            "bin_end": 29247.300000000003,
            "count": 0
           },
           {
            "bin_start": 29247.300000000003,
            "bin_end": 38996.4,
            "count": 0
           },
           {
            "bin_start": 38996.4,
            "bin_end": 48745.5,
            "count": 1
           },
           {
            "bin_start": 48745.5,
            "bin_end": 58494.600000000006,
            "count": 0
           },
           {
            "bin_start": 58494.600000000006,
            "bin_end": 68243.7,
            "count": 0
           },
           {
            "bin_start": 68243.7,
            "bin_end": 77992.8,
            "count": 0
           },
           {
            "bin_start": 77992.8,
            "bin_end": 87741.90000000001,
            "count": 0
           },
           {
            "bin_start": 87741.90000000001,
            "bin_end": 97491,
            "count": 1
           }
          ]
         }
        },
        {
         "name": "avg_time_between_rounds",
         "dtype": "float64",
         "stats": {
          "unique_count": 6,
          "nan_count": 0,
          "min": "0.0",
          "max": "40868.0",
          "histogram": [
           {
            "bin_start": 0,
            "bin_end": 4086.8,
            "count": 6
           },
           {
            "bin_start": 4086.8,
            "bin_end": 8173.6,
            "count": 0
           },
           {
            "bin_start": 8173.6,
            "bin_end": 12260.400000000001,
            "count": 1
           },
           {
            "bin_start": 12260.400000000001,
            "bin_end": 16347.2,
            "count": 0
           },
           {
            "bin_start": 16347.2,
            "bin_end": 20434,
            "count": 0
           },
           {
            "bin_start": 20434,
            "bin_end": 24520.800000000003,
            "count": 0
           },
           {
            "bin_start": 24520.800000000003,
            "bin_end": 28607.600000000002,
            "count": 0
           },
           {
            "bin_start": 28607.600000000002,
            "bin_end": 32694.4,
            "count": 0
           },
           {
            "bin_start": 32694.4,
            "bin_end": 36781.200000000004,
            "count": 0
           },
           {
            "bin_start": 36781.200000000004,
            "bin_end": 40868,
            "count": 1
           }
          ]
         }
        },
        {
         "name": "_deepnote_index_column",
         "dtype": "object"
        }
       ],
       "rows": [
        {
         "time_since_first_investment": 40868,
         "time_since_last_investment": 40870,
         "company_age": 40866,
         "avg_time_between_rounds": 40868,
         "_deepnote_index_column": "count"
        },
        {
         "time_since_first_investment": 1531.8857296662425,
         "time_since_last_investment": 1144.413286028872,
         "company_age": 2902.1802476386238,
         "avg_time_between_rounds": 123.91450197475146,
         "_deepnote_index_column": "mean"
        },
        {
         "time_since_first_investment": 1265.0131078279087,
         "time_since_last_investment": 1134.0242578756988,
         "company_age": 3782.424392055633,
         "avg_time_between_rounds": 225.33379284145857,
         "_deepnote_index_column": "std"
        },
        {
         "time_since_first_investment": 0,
         "time_since_last_investment": 0,
         "company_age": 0,
         "avg_time_between_rounds": 0,
         "_deepnote_index_column": "min"
        },
        {
         "time_since_first_investment": 612,
         "time_since_last_investment": 354,
         "company_age": 1067,
         "avg_time_between_rounds": 0,
         "_deepnote_index_column": "25%"
        },
        {
         "time_since_first_investment": 1189,
         "time_since_last_investment": 773,
         "company_age": 1920,
         "avg_time_between_rounds": 0,
         "_deepnote_index_column": "50%"
        },
        {
         "time_since_first_investment": 2153,
         "time_since_last_investment": 1589,
         "company_age": 3624,
         "avg_time_between_rounds": 202,
         "_deepnote_index_column": "75%"
        },
        {
         "time_since_first_investment": 16408,
         "time_since_last_investment": 16408,
         "company_age": 97491,
         "avg_time_between_rounds": 11209.333333333334,
         "_deepnote_index_column": "max"
        }
       ]
      },
      "text/plain": "       time_since_first_investment  time_since_last_investment  company_age  \\\ncount                    40,868.00                   40,870.00    40,866.00   \nmean                      1,531.89                    1,144.41     2,902.18   \nstd                       1,265.01                    1,134.02     3,782.42   \nmin                           0.00                        0.00         0.00   \n25%                         612.00                      354.00     1,067.00   \n50%                       1,189.00                      773.00     1,920.00   \n75%                       2,153.00                    1,589.00     3,624.00   \nmax                      16,408.00                   16,408.00    97,491.00   \n\n       avg_time_between_rounds  \ncount                40,868.00  \nmean                    123.91  \nstd                     225.33  \nmin                       0.00  \n25%                       0.00  \n50%                       0.00  \n75%                     202.00  \nmax                  11,209.33  ",
      "text/html": "<div>\n<style scoped>\n    .dataframe tbody tr th:only-of-type {\n        vertical-align: middle;\n    }\n\n    .dataframe tbody tr th {\n        vertical-align: top;\n    }\n\n    .dataframe thead th {\n        text-align: right;\n    }\n</style>\n<table border=\"1\" class=\"dataframe\">\n  <thead>\n    <tr style=\"text-align: right;\">\n      <th></th>\n      <th>time_since_first_investment</th>\n      <th>time_since_last_investment</th>\n      <th>company_age</th>\n      <th>avg_time_between_rounds</th>\n    </tr>\n  </thead>\n  <tbody>\n    <tr>\n      <th>count</th>\n      <td>40,868.00</td>\n      <td>40,870.00</td>\n      <td>40,866.00</td>\n      <td>40,868.00</td>\n    </tr>\n    <tr>\n      <th>mean</th>\n      <td>1,531.89</td>\n      <td>1,144.41</td>\n      <td>2,902.18</td>\n      <td>123.91</td>\n    </tr>\n    <tr>\n      <th>std</th>\n      <td>1,265.01</td>\n      <td>1,134.02</td>\n      <td>3,782.42</td>\n      <td>225.33</td>\n    </tr>\n    <tr>\n      <th>min</th>\n      <td>0.00</td>\n      <td>0.00</td>\n      <td>0.00</td>\n      <td>0.00</td>\n    </tr>\n    <tr>\n      <th>25%</th>\n      <td>612.00</td>\n      <td>354.00</td>\n      <td>1,067.00</td>\n      <td>0.00</td>\n    </tr>\n    <tr>\n      <th>50%</th>\n      <td>1,189.00</td>\n      <td>773.00</td>\n      <td>1,920.00</td>\n      <td>0.00</td>\n    </tr>\n    <tr>\n      <th>75%</th>\n      <td>2,153.00</td>\n      <td>1,589.00</td>\n      <td>3,624.00</td>\n      <td>202.00</td>\n    </tr>\n    <tr>\n      <th>max</th>\n      <td>16,408.00</td>\n      <td>16,408.00</td>\n      <td>97,491.00</td>\n      <td>11,209.33</td>\n    </tr>\n  </tbody>\n</table>\n</div>"
     },
     "metadata": {}
    }
   ]
  },
  {
   "cell_type": "code",
   "metadata": {
    "tags": [],
    "deepnote_to_be_reexecuted": false,
    "source_hash": "de85eca0",
    "execution_start": 1650810086906,
    "execution_millis": 9,
    "cell_id": "00083-34204a08-a1b4-4258-b4de-7327fc9fb34d",
    "deepnote_cell_type": "code",
    "deepnote_cell_height": 315
   },
   "source": "time_feat_min_max = pd.DataFrame(columns=['feat', 'min', 'max'])\n\ncolumns = ['time_since_first_investment','time_since_last_investment','company_age','avg_time_between_rounds']\nfor column in columns:\n    min_val = company_df[column].min()\n    max_val = company_df[column].max()\n    d = {'feat' : column,\n         'min'  : min_val,\n         'max'  : max_val\n    }\n    time_feat_min_max = time_feat_min_max.append(d, ignore_index = True)\n\ntime_feat_min_max.set_index('feat', inplace = True)\ntime_feat_min_max.to_csv('params/time_feat_min_max.csv')",
   "execution_count": null,
   "outputs": []
  },
  {
   "cell_type": "code",
   "metadata": {
    "tags": [],
    "deepnote_to_be_reexecuted": false,
    "source_hash": "f70db9d0",
    "execution_start": 1650810086915,
    "execution_millis": 1,
    "cell_id": "00084-117841d9-eda4-4e61-a45d-60865db1ccf9",
    "deepnote_cell_type": "code",
    "deepnote_cell_height": 117
   },
   "source": "subset_df = company_df[company_df['avg_time_between_rounds'] == 0]\n\ncolumn_count = subset_df['avg_time_between_rounds'].count()",
   "execution_count": null,
   "outputs": []
  },
  {
   "cell_type": "code",
   "metadata": {
    "tags": [],
    "deepnote_to_be_reexecuted": false,
    "source_hash": "b623e53d",
    "execution_start": 1650810086952,
    "execution_millis": 0,
    "cell_id": "00086-9d434352-778e-45c0-b484-968318e9dfcf",
    "deepnote_cell_type": "code",
    "deepnote_cell_height": 81
   },
   "source": "",
   "execution_count": null,
   "outputs": []
  },
  {
   "cell_type": "markdown",
   "source": "<a style='text-decoration:none;line-height:16px;display:flex;color:#5B5B62;padding:10px;justify-content:end;' href='https://deepnote.com?utm_source=created-in-deepnote-cell&projectId=f906c6b7-4fb3-42a0-9ffa-f1056dea520e' target=\"_blank\">\n<img alt='Created in deepnote.com' style='display:inline;max-height:16px;margin:0px;margin-right:7.5px;' src='data:image/svg+xml;base64,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' > </img>\nCreated in <span style='font-weight:600;margin-left:4px;'>Deepnote</span></a>",
   "metadata": {
    "tags": [],
    "created_in_deepnote_cell": true,
    "deepnote_cell_type": "markdown"
   }
  }
 ],
 "nbformat": 4,
 "nbformat_minor": 2,
 "metadata": {
  "orig_nbformat": 2,
  "deepnote": {
   "is_reactive": false
  },
  "deepnote_notebook_id": "8b95fa90-bde2-48c8-8104-cd49c6121e6a",
  "deepnote_execution_queue": []
 }
}