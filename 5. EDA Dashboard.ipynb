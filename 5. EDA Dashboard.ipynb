{
 "cells": [
  {
   "cell_type": "code",
   "metadata": {
    "cell_id": "9bcfe7c875504c08b717bb293c142a69",
    "tags": [],
    "deepnote_to_be_reexecuted": false,
    "source_hash": "f5b3977f",
    "execution_start": 1651615481383,
    "execution_millis": 1955,
    "deepnote_cell_type": "code",
    "deepnote_cell_height": 117
   },
   "source": "import numpy as np\nimport matplotlib.pyplot as plt\nfrom matplotlib.pyplot import figure",
   "execution_count": 1,
   "outputs": []
  },
  {
   "cell_type": "code",
   "metadata": {
    "tags": [],
    "deepnote_variable_name": "eda_input",
    "sql_integration_id": "deepnote-dataframe-sql",
    "cell_id": "ad2ca7e7616949e39a911a98bc438622",
    "deepnote_to_be_reexecuted": false,
    "source_hash": "34728e1a",
    "execution_start": 1651615483340,
    "execution_millis": 693,
    "deepnote_sql_source": "SELECT *\nFROM '/work/Final/deepnote_exports/eda_dashboard_input.csv'",
    "owner_user_id": "07feaa92-5a6a-47ea-a80f-ef715a676e48",
    "deepnote_cell_type": "sql",
    "deepnote_cell_height": 658
   },
   "source": "\n\neda_input = _deepnote_execute_sql(\"\"\"SELECT *\nFROM '/work/Final/deepnote_exports/eda_dashboard_input.csv'\n\"\"\", 'SQL_DEEPNOTE_DATAFRAME_SQL')\neda_input",
   "execution_count": 2,
   "outputs": [
    {
     "output_type": "execute_result",
     "execution_count": 2,
     "data": {
      "application/vnd.deepnote.dataframe.v3+json": {
       "column_count": 5,
       "row_count": 6480,
       "columns": [
        {
         "name": "x-axis",
         "dtype": "object",
         "stats": {
          "unique_count": 168,
          "nan_count": 0,
          "categories": [
           {
            "name": "USA",
            "count": 180
           },
           {
            "name": "CHN",
            "count": 120
           },
           {
            "name": "166 others",
            "count": 6180
           }
          ]
         }
        },
        {
         "name": "value",
         "dtype": "float64",
         "stats": {
          "unique_count": 3866,
          "nan_count": 111,
          "min": "0.0",
          "max": "112316473794.0",
          "histogram": [
           {
            "bin_start": 0,
            "bin_end": 11231647379.4,
            "count": 6293
           },
           {
            "bin_start": 11231647379.4,
            "bin_end": 22463294758.8,
            "count": 44
           },
           {
            "bin_start": 22463294758.8,
            "bin_end": 33694942138.199997,
            "count": 16
           },
           {
            "bin_start": 33694942138.199997,
            "bin_end": 44926589517.6,
            "count": 9
           },
           {
            "bin_start": 44926589517.6,
            "bin_end": 56158236897,
            "count": 3
           },
           {
            "bin_start": 56158236897,
            "bin_end": 67389884276.399994,
            "count": 1
           },
           {
            "bin_start": 67389884276.399994,
            "bin_end": 78621531655.8,
            "count": 0
           },
           {
            "bin_start": 78621531655.8,
            "bin_end": 89853179035.2,
            "count": 2
           },
           {
            "bin_start": 89853179035.2,
            "bin_end": 101084826414.59999,
            "count": 0
           },
           {
            "bin_start": 101084826414.59999,
            "bin_end": 112316473794,
            "count": 1
           }
          ]
         }
        },
        {
         "name": "Year",
         "dtype": "int64",
         "stats": {
          "unique_count": 39,
          "nan_count": 0,
          "min": "1960",
          "max": "2015",
          "histogram": [
           {
            "bin_start": 1960,
            "bin_end": 1965.5,
            "count": 6
           },
           {
            "bin_start": 1965.5,
            "bin_end": 1971,
            "count": 0
           },
           {
            "bin_start": 1971,
            "bin_end": 1976.5,
            "count": 9
           },
           {
            "bin_start": 1976.5,
            "bin_end": 1982,
            "count": 33
           },
           {
            "bin_start": 1982,
            "bin_end": 1987.5,
            "count": 90
           },
           {
            "bin_start": 1987.5,
            "bin_end": 1993,
            "count": 93
           },
           {
            "bin_start": 1993,
            "bin_end": 1998.5,
            "count": 312
           },
           {
            "bin_start": 1998.5,
            "bin_end": 2004,
            "count": 1149
           },
           {
            "bin_start": 2004,
            "bin_end": 2009.5,
            "count": 2037
           },
           {
            "bin_start": 2009.5,
            "bin_end": 2015,
            "count": 2751
           }
          ]
         }
        },
        {
         "name": "Transformation",
         "dtype": "object",
         "stats": {
          "unique_count": 3,
          "nan_count": 0,
          "categories": [
           {
            "name": "Sum",
            "count": 2160
           },
           {
            "name": "Count",
            "count": 2160
           },
           {
            "name": "Average",
            "count": 2160
           }
          ]
         }
        },
        {
         "name": "Category",
         "dtype": "object",
         "stats": {
          "unique_count": 4,
          "nan_count": 0,
          "categories": [
           {
            "name": "Company Country",
            "count": 2952
           },
           {
            "name": "Investor Country",
            "count": 1701
           },
           {
            "name": "2 others",
            "count": 1827
           }
          ]
         }
        },
        {
         "name": "_deepnote_index_column",
         "dtype": "int64"
        }
       ],
       "rows": [
        {
         "x-axis": "Consumer Discretionary",
         "value": 250000,
         "Year": 1977,
         "Transformation": "Sum",
         "Category": "Sector",
         "_deepnote_index_column": 0
        },
        {
         "x-axis": "Consumer Staples",
         "value": 250000,
         "Year": 1977,
         "Transformation": "Sum",
         "Category": "Sector",
         "_deepnote_index_column": 1
        },
        {
         "x-axis": "Information Technology",
         "value": 250000,
         "Year": 1977,
         "Transformation": "Sum",
         "Category": "Sector",
         "_deepnote_index_column": 2
        },
        {
         "x-axis": "Information Technology",
         "value": 1000000,
         "Year": 1979,
         "Transformation": "Sum",
         "Category": "Sector",
         "_deepnote_index_column": 3
        },
        {
         "x-axis": "Consumer Discretionary",
         "value": 155000,
         "Year": 1982,
         "Transformation": "Sum",
         "Category": "Sector",
         "_deepnote_index_column": 4
        },
        {
         "x-axis": "Health Care",
         "value": 155000,
         "Year": 1982,
         "Transformation": "Sum",
         "Category": "Sector",
         "_deepnote_index_column": 5
        },
        {
         "x-axis": "Communication Services",
         "value": 100000,
         "Year": 1984,
         "Transformation": "Sum",
         "Category": "Sector",
         "_deepnote_index_column": 6
        },
        {
         "x-axis": "Information Technology",
         "value": 100000,
         "Year": 1984,
         "Transformation": "Sum",
         "Category": "Sector",
         "_deepnote_index_column": 7
        },
        {
         "x-axis": "Industrials",
         "value": 243000,
         "Year": 1985,
         "Transformation": "Sum",
         "Category": "Sector",
         "_deepnote_index_column": 8
        },
        {
         "x-axis": "Information Technology",
         "value": 666000,
         "Year": 1985,
         "Transformation": "Sum",
         "Category": "Sector",
         "_deepnote_index_column": 9
        }
       ]
      },
      "text/plain": "                      x-axis         value  Year Transformation  \\\n0     Consumer Discretionary  2.500000e+05  1977            Sum   \n1           Consumer Staples  2.500000e+05  1977            Sum   \n2     Information Technology  2.500000e+05  1977            Sum   \n3     Information Technology  1.000000e+06  1979            Sum   \n4     Consumer Discretionary  1.550000e+05  1982            Sum   \n...                      ...           ...   ...            ...   \n6475                     RUS  3.636150e+06  2015        Average   \n6476                     SGP  3.181572e+06  2015        Average   \n6477                     SWE  2.661750e+06  2015        Average   \n6478                     TWN  6.319815e+06  2015        Average   \n6479                     USA  4.521062e+06  2015        Average   \n\n              Category  \n0               Sector  \n1               Sector  \n2               Sector  \n3               Sector  \n4               Sector  \n...                ...  \n6475  Investor Country  \n6476  Investor Country  \n6477  Investor Country  \n6478  Investor Country  \n6479  Investor Country  \n\n[6480 rows x 5 columns]",
      "text/html": "<div>\n<style scoped>\n    .dataframe tbody tr th:only-of-type {\n        vertical-align: middle;\n    }\n\n    .dataframe tbody tr th {\n        vertical-align: top;\n    }\n\n    .dataframe thead th {\n        text-align: right;\n    }\n</style>\n<table border=\"1\" class=\"dataframe\">\n  <thead>\n    <tr style=\"text-align: right;\">\n      <th></th>\n      <th>x-axis</th>\n      <th>value</th>\n      <th>Year</th>\n      <th>Transformation</th>\n      <th>Category</th>\n    </tr>\n  </thead>\n  <tbody>\n    <tr>\n      <th>0</th>\n      <td>Consumer Discretionary</td>\n      <td>2.500000e+05</td>\n      <td>1977</td>\n      <td>Sum</td>\n      <td>Sector</td>\n    </tr>\n    <tr>\n      <th>1</th>\n      <td>Consumer Staples</td>\n      <td>2.500000e+05</td>\n      <td>1977</td>\n      <td>Sum</td>\n      <td>Sector</td>\n    </tr>\n    <tr>\n      <th>2</th>\n      <td>Information Technology</td>\n      <td>2.500000e+05</td>\n      <td>1977</td>\n      <td>Sum</td>\n      <td>Sector</td>\n    </tr>\n    <tr>\n      <th>3</th>\n      <td>Information Technology</td>\n      <td>1.000000e+06</td>\n      <td>1979</td>\n      <td>Sum</td>\n      <td>Sector</td>\n    </tr>\n    <tr>\n      <th>4</th>\n      <td>Consumer Discretionary</td>\n      <td>1.550000e+05</td>\n      <td>1982</td>\n      <td>Sum</td>\n      <td>Sector</td>\n    </tr>\n    <tr>\n      <th>...</th>\n      <td>...</td>\n      <td>...</td>\n      <td>...</td>\n      <td>...</td>\n      <td>...</td>\n    </tr>\n    <tr>\n      <th>6475</th>\n      <td>RUS</td>\n      <td>3.636150e+06</td>\n      <td>2015</td>\n      <td>Average</td>\n      <td>Investor Country</td>\n    </tr>\n    <tr>\n      <th>6476</th>\n      <td>SGP</td>\n      <td>3.181572e+06</td>\n      <td>2015</td>\n      <td>Average</td>\n      <td>Investor Country</td>\n    </tr>\n    <tr>\n      <th>6477</th>\n      <td>SWE</td>\n      <td>2.661750e+06</td>\n      <td>2015</td>\n      <td>Average</td>\n      <td>Investor Country</td>\n    </tr>\n    <tr>\n      <th>6478</th>\n      <td>TWN</td>\n      <td>6.319815e+06</td>\n      <td>2015</td>\n      <td>Average</td>\n      <td>Investor Country</td>\n    </tr>\n    <tr>\n      <th>6479</th>\n      <td>USA</td>\n      <td>4.521062e+06</td>\n      <td>2015</td>\n      <td>Average</td>\n      <td>Investor Country</td>\n    </tr>\n  </tbody>\n</table>\n<p>6480 rows × 5 columns</p>\n</div>"
     },
     "metadata": {}
    }
   ]
  },
  {
   "cell_type": "code",
   "metadata": {
    "cell_id": "d8775e0081c14ac69711465aca930ba0",
    "tags": [],
    "deepnote_to_be_reexecuted": false,
    "source_hash": "b34559b7",
    "execution_start": 1651615484041,
    "execution_millis": 18,
    "deepnote_cell_type": "code",
    "deepnote_cell_height": 300
   },
   "source": "transformation = np.unique(eda_input['Transformation'])\ncategory = np.unique(eda_input['Category'])\nyear = np.unique(eda_input['Year'])\n\nprint(transformation)\nprint(category)\nprint(year)",
   "execution_count": 3,
   "outputs": [
    {
     "name": "stdout",
     "text": "['Average' 'Count' 'Sum']\n['Company Country' 'Funding Type' 'Investor Country' 'Sector']\n[1960 1971 1973 1977 1979 1980 1982 1984 1985 1986 1987 1988 1989 1990\n 1991 1992 1993 1994 1995 1996 1997 1998 1999 2000 2001 2002 2003 2004\n 2005 2006 2007 2008 2009 2010 2011 2012 2013 2014 2015]\n",
     "output_type": "stream"
    }
   ]
  },
  {
   "cell_type": "code",
   "metadata": {
    "cell_id": "839adeda1ece4e7f92ed0bcdf9c5af17",
    "deepnote_variable_name": "Category",
    "deepnote_variable_value": "Company Country",
    "deepnote_variable_options": [
     "Company Country",
     "Funding Type",
     "Investor Country",
     "Sector"
    ],
    "deepnote_variable_custom_options": [
     "Option 1",
     "Option 2"
    ],
    "deepnote_variable_selected_variable": "category",
    "deepnote_variable_select_type": "from-variable",
    "deepnote_to_be_reexecuted": false,
    "source_hash": "384d9ef4",
    "execution_start": 1651615484060,
    "execution_millis": 18,
    "deepnote_app_coordinates": {
     "x": 0,
     "y": 4,
     "w": 8,
     "h": 4
    },
    "deepnote_cell_type": "input-select"
   },
   "source": "Category = 'Company Country'",
   "execution_count": 4,
   "outputs": []
  },
  {
   "cell_type": "code",
   "metadata": {
    "cell_id": "449afb694f324afdb758dca01c322a0f",
    "deepnote_variable_name": "Transformation",
    "deepnote_variable_value": "Average",
    "deepnote_variable_options": [
     "Average",
     "Count",
     "Sum"
    ],
    "deepnote_variable_custom_options": [
     "Option 1",
     "Option 2"
    ],
    "deepnote_variable_selected_variable": "transformation",
    "deepnote_variable_select_type": "from-variable",
    "deepnote_to_be_reexecuted": false,
    "source_hash": "737a066e",
    "execution_start": 1651615484086,
    "execution_millis": 0,
    "deepnote_app_coordinates": {
     "x": 0,
     "y": 0,
     "w": 8,
     "h": 4
    },
    "deepnote_cell_type": "input-select"
   },
   "source": "Transformation = 'Average'",
   "execution_count": 5,
   "outputs": []
  },
  {
   "cell_type": "code",
   "metadata": {
    "cell_id": "8d3107c2eb8149ac9f4022dbb6d66626",
    "deepnote_variable_name": "Year",
    "deepnote_variable_value": "2001",
    "deepnote_slider_min_value": 1960,
    "deepnote_slider_max_value": 2015,
    "deepnote_slider_step": 1,
    "deepnote_to_be_reexecuted": false,
    "source_hash": "81280aa7",
    "execution_start": 1651615484094,
    "execution_millis": 21,
    "deepnote_app_coordinates": {
     "x": 8,
     "y": 4,
     "w": 8,
     "h": 4
    },
    "deepnote_cell_type": "input-slider"
   },
   "source": "Year = 2001",
   "execution_count": 6,
   "outputs": []
  },
  {
   "cell_type": "code",
   "metadata": {
    "cell_id": "6e80848b6b0d4f13bff1435ae04b4670",
    "tags": [],
    "deepnote_to_be_reexecuted": false,
    "source_hash": "ea160954",
    "execution_start": 1651615484116,
    "execution_millis": 6,
    "deepnote_cell_type": "code",
    "deepnote_cell_height": 81
   },
   "source": "output = eda_input.loc[(eda_input['Category']== Category) & (eda_input['Transformation']== Transformation) & (eda_input['Year']<= Year)]",
   "execution_count": 7,
   "outputs": []
  },
  {
   "cell_type": "code",
   "metadata": {
    "cell_id": "f735f755c89441e7a7f2c75ac545a1e4",
    "tags": [],
    "deepnote_to_be_reexecuted": false,
    "source_hash": "9b27140c",
    "execution_start": 1651615484122,
    "execution_millis": 939,
    "deepnote_app_coordinates": {
     "x": 0,
     "y": 8,
     "w": 12,
     "h": 21
    },
    "deepnote_app_is_code_hidden": true,
    "deepnote_cell_type": "code",
    "deepnote_cell_height": 534.109375,
    "deepnote_output_heights": [
     383.109375
    ]
   },
   "source": "figure(figsize=(14, 6), dpi=80)\nplt.bar(output[\"x-axis\"], output['value'])\nplt.xticks(rotation=90)\nplt.show()",
   "execution_count": 8,
   "outputs": [
    {
     "data": {
      "text/plain": "<Figure size 1120x480 with 1 Axes>",
      "image/png": "[encoded data removed]"
     },
     "metadata": {
      "needs_background": "light",
      "image/png": {
       "width": 898,
       "height": 422
      }
     },
     "output_type": "display_data"
    }
   ]
  },
  {
   "cell_type": "code",
   "metadata": {
    "cell_id": "72c6ce2d164f4a5689745193ed23dfcb",
    "tags": [],
    "deepnote_to_be_reexecuted": false,
    "source_hash": "b623e53d",
    "execution_start": 1651615485038,
    "execution_millis": 0,
    "deepnote_cell_type": "code",
    "deepnote_cell_height": 81
   },
   "source": "",
   "execution_count": 8,
   "outputs": []
  },
  {
   "cell_type": "code",
   "metadata": {
    "tags": [],
    "deepnote_variable_name": "dashboard_input_data",
    "sql_integration_id": "deepnote-dataframe-sql",
    "cell_id": "6372b90b1d4b4fd7b4bd4c6717afa6d5",
    "deepnote_to_be_reexecuted": false,
    "source_hash": "c5a80c4e",
    "execution_start": 1651615485039,
    "execution_millis": 260,
    "deepnote_sql_source": "SELECT *\nFROM '/work/Final/dashboard_input_data.csv'",
    "deepnote_cell_type": "sql",
    "deepnote_cell_height": 658
   },
   "source": "\n\ndashboard_input_data = _deepnote_execute_sql(\"\"\"SELECT *\nFROM '/work/Final/dashboard_input_data.csv'\n\"\"\", 'SQL_DEEPNOTE_DATAFRAME_SQL')\ndashboard_input_data",
   "execution_count": 9,
   "outputs": [
    {
     "output_type": "execute_result",
     "execution_count": 9,
     "data": {
      "application/vnd.deepnote.dataframe.v3+json": {
       "column_count": 11,
       "row_count": 5180,
       "columns": [
        {
         "name": "funding_round_permalink",
         "dtype": "object",
         "stats": {
          "unique_count": 5180,
          "nan_count": 0,
          "categories": [
           {
            "name": "/funding-round/383a9bd2c04f7038bb543ccef5ba3eae",
            "count": 1
           },
           {
            "name": "/funding-round/3bb2ee4a2d89251a10aaa735b1180e44",
            "count": 1
           },
           {
            "name": "5178 others",
            "count": 5178
           }
          ]
         }
        },
        {
         "name": "interval",
         "dtype": "object",
         "stats": {
          "unique_count": 9,
          "nan_count": 0,
          "categories": [
           {
            "name": "[ 10000000 , 20000000 )",
            "count": 1177
           },
           {
            "name": "[ 6000000 , 10000000 )",
            "count": 963
           },
           {
            "name": "7 others",
            "count": 3040
           }
          ]
         }
        },
        {
         "name": "funding_round",
         "dtype": "object",
         "stats": {
          "unique_count": 15,
          "nan_count": 0,
          "categories": [
           {
            "name": "venture A",
            "count": 1461
           },
           {
            "name": "seed",
            "count": 1337
           },
           {
            "name": "13 others",
            "count": 2382
           }
          ]
         }
        },
        {
         "name": "company_country_code",
         "dtype": "object",
         "stats": {
          "unique_count": 59,
          "nan_count": 0,
          "categories": [
           {
            "name": "USA",
            "count": 3754
           },
           {
            "name": "GBR",
            "count": 243
           },
           {
            "name": "57 others",
            "count": 1183
           }
          ]
         }
        },
        {
         "name": "company_sector",
         "dtype": "object",
         "stats": {
          "unique_count": 352,
          "nan_count": 0,
          "categories": [
           {
            "name": "['Information Technology']",
            "count": 1268
           },
           {
            "name": "['Health Care']",
            "count": 591
           },
           {
            "name": "350 others",
            "count": 3321
           }
          ]
         }
        },
        {
         "name": "time_since_first_investment",
         "dtype": "float64",
         "stats": {
          "unique_count": 1721,
          "nan_count": 0,
          "min": "1.0",
          "max": "259.83",
          "histogram": [
           {
            "bin_start": 1,
            "bin_end": 26.883,
            "count": 866
           },
           {
            "bin_start": 26.883,
            "bin_end": 52.766,
            "count": 1192
           },
           {
            "bin_start": 52.766,
            "bin_end": 78.649,
            "count": 978
           },
           {
            "bin_start": 78.649,
            "bin_end": 104.532,
            "count": 791
           },
           {
            "bin_start": 104.532,
            "bin_end": 130.415,
            "count": 807
           },
           {
            "bin_start": 130.415,
            "bin_end": 156.298,
            "count": 316
           },
           {
            "bin_start": 156.298,
            "bin_end": 182.18099999999998,
            "count": 159
           },
           {
            "bin_start": 182.18099999999998,
            "bin_end": 208.064,
            "count": 62
           },
           {
            "bin_start": 208.064,
            "bin_end": 233.947,
            "count": 6
           },
           {
            "bin_start": 233.947,
            "bin_end": 259.83,
            "count": 3
           }
          ]
         }
        },
        {
         "name": "time_since_last_investment",
         "dtype": "float64",
         "stats": {
          "unique_count": 1494,
          "nan_count": 0,
          "min": "1.0",
          "max": "259.83",
          "histogram": [
           {
            "bin_start": 1,
            "bin_end": 26.883,
            "count": 2969
           },
           {
            "bin_start": 26.883,
            "bin_end": 52.766,
            "count": 988
           },
           {
            "bin_start": 52.766,
            "bin_end": 78.649,
            "count": 544
           },
           {
            "bin_start": 78.649,
            "bin_end": 104.532,
            "count": 377
           },
           {
            "bin_start": 104.532,
            "bin_end": 130.415,
            "count": 188
           },
           {
            "bin_start": 130.415,
            "bin_end": 156.298,
            "count": 77
           },
           {
            "bin_start": 156.298,
            "bin_end": 182.18099999999998,
            "count": 27
           },
           {
            "bin_start": 182.18099999999998,
            "bin_end": 208.064,
            "count": 7
           },
           {
            "bin_start": 208.064,
            "bin_end": 233.947,
            "count": 0
           },
           {
            "bin_start": 233.947,
            "bin_end": 259.83,
            "count": 3
           }
          ]
         }
        },
        {
         "name": "company_age",
         "dtype": "float64",
         "stats": {
          "unique_count": 603,
          "nan_count": 0,
          "min": "2.13",
          "max": "960.87",
          "histogram": [
           {
            "bin_start": 2.13,
            "bin_end": 98.00399999999999,
            "count": 2899
           },
           {
            "bin_start": 98.00399999999999,
            "bin_end": 193.878,
            "count": 1902
           },
           {
            "bin_start": 193.878,
            "bin_end": 289.75199999999995,
            "count": 316
           },
           {
            "bin_start": 289.75199999999995,
            "bin_end": 385.626,
            "count": 47
           },
           {
            "bin_start": 385.626,
            "bin_end": 481.5,
            "count": 9
           },
           {
            "bin_start": 481.5,
            "bin_end": 577.3739999999999,
            "count": 1
           },
           {
            "bin_start": 577.3739999999999,
            "bin_end": 673.2479999999999,
            "count": 3
           },
           {
            "bin_start": 673.2479999999999,
            "bin_end": 769.122,
            "count": 1
           },
           {
            "bin_start": 769.122,
            "bin_end": 864.996,
            "count": 0
           },
           {
            "bin_start": 864.996,
            "bin_end": 960.87,
            "count": 2
           }
          ]
         }
        },
        {
         "name": "avg_time_between_rounds",
         "dtype": "float64",
         "stats": {
          "unique_count": 1306,
          "nan_count": 0,
          "min": "1.0",
          "max": "71.95",
          "histogram": [
           {
            "bin_start": 1,
            "bin_end": 8.095,
            "count": 2487
           },
           {
            "bin_start": 8.095,
            "bin_end": 15.190000000000001,
            "count": 1840
           },
           {
            "bin_start": 15.190000000000001,
            "bin_end": 22.285000000000004,
            "count": 614
           },
           {
            "bin_start": 22.285000000000004,
            "bin_end": 29.380000000000003,
            "count": 149
           },
           {
            "bin_start": 29.380000000000003,
            "bin_end": 36.475,
            "count": 42
           },
           {
            "bin_start": 36.475,
            "bin_end": 43.57000000000001,
            "count": 24
           },
           {
            "bin_start": 43.57000000000001,
            "bin_end": 50.665000000000006,
            "count": 16
           },
           {
            "bin_start": 50.665000000000006,
            "bin_end": 57.760000000000005,
            "count": 5
           },
           {
            "bin_start": 57.760000000000005,
            "bin_end": 64.855,
            "count": 2
           },
           {
            "bin_start": 64.855,
            "bin_end": 71.95,
            "count": 1
           }
          ]
         }
        },
        {
         "name": "investor_country_code",
         "dtype": "object",
         "stats": {
          "unique_count": 456,
          "nan_count": 0,
          "categories": [
           {
            "name": "['USA']",
            "count": 3158
           },
           {
            "name": "['GBR']",
            "count": 139
           },
           {
            "name": "454 others",
            "count": 1883
           }
          ]
         }
        },
        {
         "name": "investor_name",
         "dtype": "object",
         "stats": {
          "unique_count": 4352,
          "nan_count": 0,
          "categories": [
           {
            "name": "['Wayra']",
            "count": 40
           },
           {
            "name": "['Techstars']",
            "count": 23
           },
           {
            "name": "4350 others",
            "count": 5117
           }
          ]
         }
        },
        {
         "name": "_deepnote_index_column",
         "dtype": "int64"
        }
       ],
       "rows": [
        {
         "funding_round_permalink": "/funding-round/383a9bd2c04f7038bb543ccef5ba3eae",
         "interval": "[ 791647 , 1300000 )",
         "funding_round": "seed",
         "company_country_code": "USA",
         "company_sector": "['Information Technology']",
         "time_since_first_investment": 35.5,
         "time_since_last_investment": 1,
         "company_age": 59.93,
         "avg_time_between_rounds": 8.67,
         "investor_country_code": "['USA']",
         "investor_name": "['Nexus Venture Partners']",
         "_deepnote_index_column": 0
        },
        {
         "funding_round_permalink": "/funding-round/3bb2ee4a2d89251a10aaa735b1180e44",
         "interval": "[ 10000000 , 20000000 )",
         "funding_round": "venture B",
         "company_country_code": "USA",
         "company_sector": "['Information Technology']",
         "time_since_first_investment": 35.5,
         "time_since_last_investment": 1,
         "company_age": 59.93,
         "avg_time_between_rounds": 8.67,
         "investor_country_code": "['USA']",
         "investor_name": "['Capital One' 'Nexus Venture Partners' 'Paxion Capital Partners'\n 'Transamerica']",
         "_deepnote_index_column": 1
        },
        {
         "funding_round_permalink": "/funding-round/e1cfcbe1bdf4c70277c5f29a3482f24e",
         "interval": "[ 3791804 , 6000000 )",
         "funding_round": "venture A",
         "company_country_code": "USA",
         "company_sector": "['Information Technology']",
         "time_since_first_investment": 35.5,
         "time_since_last_investment": 1,
         "company_age": 59.93,
         "avg_time_between_rounds": 8.67,
         "investor_country_code": "['USA']",
         "investor_name": "['Nexus Venture Partners' 'Transamerica Ventures' 'Ash Bhardwaj'\n 'Michael Marks' 'Rajesh Ambati' 'Rakesh Mathur']",
         "_deepnote_index_column": 2
        },
        {
         "funding_round_permalink": "/funding-round/03b975068632eba5bfdb937ec8c07a68",
         "interval": "[ 791647 , 1300000 )",
         "funding_round": "seed",
         "company_country_code": "USA",
         "company_sector": "['Information Technology']",
         "time_since_first_investment": 53.27,
         "time_since_last_investment": 22.23,
         "company_age": 52.87,
         "avg_time_between_rounds": 10.34,
         "investor_country_code": "['USA' 'FRA']",
         "investor_name": "['Camp One Ventures' 'Kima Ventures' 'Rick Marini' 'VK Rajaram']",
         "_deepnote_index_column": 3
        },
        {
         "funding_round_permalink": "/funding-round/e82464f22241715dd1a6c77241055ed1",
         "interval": "[ 791647 , 1300000 )",
         "funding_round": "seed",
         "company_country_code": "USA",
         "company_sector": "['Information Technology']",
         "time_since_first_investment": 53.27,
         "time_since_last_investment": 22.23,
         "company_age": 52.87,
         "avg_time_between_rounds": 10.34,
         "investor_country_code": "['USA']",
         "investor_name": "['CRV' 'General Catalyst Partners' 'SV Angel' 'True Ventures'\n 'Gary Vaynerchuk' 'Keith Rabois' 'Michael Dearing' 'Naval Ravikant']",
         "_deepnote_index_column": 4
        },
        {
         "funding_round_permalink": "/funding-round/502bd0e50c27616995e4bdad24605ef8",
         "interval": "[ 2100000 , 3791804 )",
         "funding_round": "venture A",
         "company_country_code": "USA",
         "company_sector": "['Information Technology']",
         "time_since_first_investment": 72.1,
         "time_since_last_investment": 58.4,
         "company_age": 66.07,
         "avg_time_between_rounds": 6.85,
         "investor_country_code": "['USA']",
         "investor_name": "['Felicis Ventures' 'FLOODGATE' 'Founder Collective' 'Greylock Partners'\n 'Signatures Capital' 'Bobby Yazdani' 'Caterina Fake' 'Chris Sacca'\n 'Keith Rabois' 'Paul Buchheit' 'Ron Conway']",
         "_deepnote_index_column": 5
        },
        {
         "funding_round_permalink": "/funding-round/bbbda407fa8638d944ecfdd042230c4b",
         "interval": "[ 10000000 , 20000000 )",
         "funding_round": "venture B",
         "company_country_code": "CHN",
         "company_sector": "['Consumer Discretionary']",
         "time_since_first_investment": 19.5,
         "time_since_last_investment": 19.5,
         "company_age": 50.83,
         "avg_time_between_rounds": 1,
         "investor_country_code": "['CHN']",
         "investor_name": "['Softbank China Venture Capital']",
         "_deepnote_index_column": 6
        },
        {
         "funding_round_permalink": "/funding-round/4ff51088be233a23c013689d680f04e5",
         "interval": "[ 791647 , 1300000 )",
         "funding_round": "seed",
         "company_country_code": "AUS",
         "company_sector": "['Consumer Discretionary', 'Information Technology', 'Communication Services']",
         "time_since_first_investment": 43.73,
         "time_since_last_investment": 29.57,
         "company_age": 46.73,
         "avg_time_between_rounds": 4.72,
         "investor_country_code": "['AUS' 'SGP']",
         "investor_name": "['Adventure Capital' 'SingTel Innov8']",
         "_deepnote_index_column": 7
        },
        {
         "funding_round_permalink": "/funding-round/2dc9ff9c590200195228ce2e153a1423",
         "interval": "[ 6000000 , 10000000 )",
         "funding_round": "venture A",
         "company_country_code": "USA",
         "company_sector": "['Communication Services', 'Information Technology', 'Financials']",
         "time_since_first_investment": 78.23,
         "time_since_last_investment": 56.03,
         "company_age": 71.77,
         "avg_time_between_rounds": 11.1,
         "investor_country_code": "['USA']",
         "investor_name": "['BlueRun Ventures' 'Founders Fund']",
         "_deepnote_index_column": 8
        },
        {
         "funding_round_permalink": "/funding-round/3d40399001b0a2088620030afc533c83",
         "interval": "[ 10000000 , 20000000 )",
         "funding_round": "venture B",
         "company_country_code": "USA",
         "company_sector": "['Communication Services', 'Information Technology', 'Financials']",
         "time_since_first_investment": 78.23,
         "time_since_last_investment": 56.03,
         "company_age": 71.77,
         "avg_time_between_rounds": 11.1,
         "investor_country_code": "['USA']",
         "investor_name": "['BlueRun Ventures' 'Founders Fund' 'SV Angel' 'Mark Kingdon']",
         "_deepnote_index_column": 9
        }
       ]
      },
      "text/plain": "                              funding_round_permalink  \\\n0     /funding-round/383a9bd2c04f7038bb543ccef5ba3eae   \n1     /funding-round/3bb2ee4a2d89251a10aaa735b1180e44   \n2     /funding-round/e1cfcbe1bdf4c70277c5f29a3482f24e   \n3     /funding-round/03b975068632eba5bfdb937ec8c07a68   \n4     /funding-round/e82464f22241715dd1a6c77241055ed1   \n...                                               ...   \n5175  /funding-round/7b34004a3842dff9818cf0d8dad6a65a   \n5176  /funding-round/24e8134882bf6c4dcc385abba0acd5d9   \n5177  /funding-round/c9f5097b3617c7539aa47c8b448163be   \n5178  /funding-round/4c82e18a8e3eab2647719d0fc27ead5f   \n5179  /funding-round/73721fffc980d228f051e87422aa8732   \n\n                     interval funding_round company_country_code  \\\n0        [ 791647 , 1300000 )          seed                  USA   \n1     [ 10000000 , 20000000 )     venture B                  USA   \n2       [ 3791804 , 6000000 )     venture A                  USA   \n3        [ 791647 , 1300000 )          seed                  USA   \n4        [ 791647 , 1300000 )          seed                  USA   \n...                       ...           ...                  ...   \n5175     [ 791647 , 1300000 )     venture A                  USA   \n5176     [ 791647 , 1300000 )          seed                  USA   \n5177     [ 791647 , 1300000 )          seed                  USA   \n5178     [ 791647 , 1300000 )         angel                  GBR   \n5179      [ 184000 , 414705 )          seed                  GBR   \n\n                                         company_sector  \\\n0                            ['Information Technology']   \n1                            ['Information Technology']   \n2                            ['Information Technology']   \n3                            ['Information Technology']   \n4                            ['Information Technology']   \n...                                                 ...   \n5175  ['Information Technology', 'Communication Serv...   \n5176  ['Information Technology', 'Communication Serv...   \n5177  ['Information Technology', 'Communication Serv...   \n5178  ['Information Technology', 'Consumer Discretio...   \n5179  ['Information Technology', 'Consumer Discretio...   \n\n      time_since_first_investment  time_since_last_investment  company_age  \\\n0                           35.50                        1.00        59.93   \n1                           35.50                        1.00        59.93   \n2                           35.50                        1.00        59.93   \n3                           53.27                       22.23        52.87   \n4                           53.27                       22.23        52.87   \n...                           ...                         ...          ...   \n5175                        23.40                        4.47        33.60   \n5176                         8.23                        1.27        35.57   \n5177                         8.23                        1.27        35.57   \n5178                        20.67                        9.40        22.50   \n5179                        20.67                        9.40        22.50   \n\n      avg_time_between_rounds investor_country_code  \\\n0                        8.67               ['USA']   \n1                        8.67               ['USA']   \n2                        8.67               ['USA']   \n3                       10.34         ['USA' 'FRA']   \n4                       10.34               ['USA']   \n...                       ...                   ...   \n5175                     9.47               ['USA']   \n5176                     3.48               ['USA']   \n5177                     3.48               ['USA']   \n5178                     3.76               ['GBR']   \n5179                     3.76               ['USA']   \n\n                                          investor_name  \n0                            ['Nexus Venture Partners']  \n1     ['Capital One' 'Nexus Venture Partners' 'Paxio...  \n2     ['Nexus Venture Partners' 'Transamerica Ventur...  \n3     ['Camp One Ventures' 'Kima Ventures' 'Rick Mar...  \n4     ['CRV' 'General Catalyst Partners' 'SV Angel' ...  \n...                                                 ...  \n5175           ['Capital A Partners' 'Mosley Ventures']  \n5176                                 ['Revel Partners']  \n5177  ['Entrepreneurs Investment Fund' 'Revel Partne...  \n5178                                ['Neon Adventures']  \n5179          ['Technology Strategy Board' 'Techstars']  \n\n[5180 rows x 11 columns]",
      "text/html": "<div>\n<style scoped>\n    .dataframe tbody tr th:only-of-type {\n        vertical-align: middle;\n    }\n\n    .dataframe tbody tr th {\n        vertical-align: top;\n    }\n\n    .dataframe thead th {\n        text-align: right;\n    }\n</style>\n<table border=\"1\" class=\"dataframe\">\n  <thead>\n    <tr style=\"text-align: right;\">\n      <th></th>\n      <th>funding_round_permalink</th>\n      <th>interval</th>\n      <th>funding_round</th>\n      <th>company_country_code</th>\n      <th>company_sector</th>\n      <th>time_since_first_investment</th>\n      <th>time_since_last_investment</th>\n      <th>company_age</th>\n      <th>avg_time_between_rounds</th>\n      <th>investor_country_code</th>\n      <th>investor_name</th>\n    </tr>\n  </thead>\n  <tbody>\n    <tr>\n      <th>0</th>\n      <td>/funding-round/383a9bd2c04f7038bb543ccef5ba3eae</td>\n      <td>[ 791647 , 1300000 )</td>\n      <td>seed</td>\n      <td>USA</td>\n      <td>['Information Technology']</td>\n      <td>35.50</td>\n      <td>1.00</td>\n      <td>59.93</td>\n      <td>8.67</td>\n      <td>['USA']</td>\n      <td>['Nexus Venture Partners']</td>\n    </tr>\n    <tr>\n      <th>1</th>\n      <td>/funding-round/3bb2ee4a2d89251a10aaa735b1180e44</td>\n      <td>[ 10000000 , 20000000 )</td>\n      <td>venture B</td>\n      <td>USA</td>\n      <td>['Information Technology']</td>\n      <td>35.50</td>\n      <td>1.00</td>\n      <td>59.93</td>\n      <td>8.67</td>\n      <td>['USA']</td>\n      <td>['Capital One' 'Nexus Venture Partners' 'Paxio...</td>\n    </tr>\n    <tr>\n      <th>2</th>\n      <td>/funding-round/e1cfcbe1bdf4c70277c5f29a3482f24e</td>\n      <td>[ 3791804 , 6000000 )</td>\n      <td>venture A</td>\n      <td>USA</td>\n      <td>['Information Technology']</td>\n      <td>35.50</td>\n      <td>1.00</td>\n      <td>59.93</td>\n      <td>8.67</td>\n      <td>['USA']</td>\n      <td>['Nexus Venture Partners' 'Transamerica Ventur...</td>\n    </tr>\n    <tr>\n      <th>3</th>\n      <td>/funding-round/03b975068632eba5bfdb937ec8c07a68</td>\n      <td>[ 791647 , 1300000 )</td>\n      <td>seed</td>\n      <td>USA</td>\n      <td>['Information Technology']</td>\n      <td>53.27</td>\n      <td>22.23</td>\n      <td>52.87</td>\n      <td>10.34</td>\n      <td>['USA' 'FRA']</td>\n      <td>['Camp One Ventures' 'Kima Ventures' 'Rick Mar...</td>\n    </tr>\n    <tr>\n      <th>4</th>\n      <td>/funding-round/e82464f22241715dd1a6c77241055ed1</td>\n      <td>[ 791647 , 1300000 )</td>\n      <td>seed</td>\n      <td>USA</td>\n      <td>['Information Technology']</td>\n      <td>53.27</td>\n      <td>22.23</td>\n      <td>52.87</td>\n      <td>10.34</td>\n      <td>['USA']</td>\n      <td>['CRV' 'General Catalyst Partners' 'SV Angel' ...</td>\n    </tr>\n    <tr>\n      <th>...</th>\n      <td>...</td>\n      <td>...</td>\n      <td>...</td>\n      <td>...</td>\n      <td>...</td>\n      <td>...</td>\n      <td>...</td>\n      <td>...</td>\n      <td>...</td>\n      <td>...</td>\n      <td>...</td>\n    </tr>\n    <tr>\n      <th>5175</th>\n      <td>/funding-round/7b34004a3842dff9818cf0d8dad6a65a</td>\n      <td>[ 791647 , 1300000 )</td>\n      <td>venture A</td>\n      <td>USA</td>\n      <td>['Information Technology', 'Communication Serv...</td>\n      <td>23.40</td>\n      <td>4.47</td>\n      <td>33.60</td>\n      <td>9.47</td>\n      <td>['USA']</td>\n      <td>['Capital A Partners' 'Mosley Ventures']</td>\n    </tr>\n    <tr>\n      <th>5176</th>\n      <td>/funding-round/24e8134882bf6c4dcc385abba0acd5d9</td>\n      <td>[ 791647 , 1300000 )</td>\n      <td>seed</td>\n      <td>USA</td>\n      <td>['Information Technology', 'Communication Serv...</td>\n      <td>8.23</td>\n      <td>1.27</td>\n      <td>35.57</td>\n      <td>3.48</td>\n      <td>['USA']</td>\n      <td>['Revel Partners']</td>\n    </tr>\n    <tr>\n      <th>5177</th>\n      <td>/funding-round/c9f5097b3617c7539aa47c8b448163be</td>\n      <td>[ 791647 , 1300000 )</td>\n      <td>seed</td>\n      <td>USA</td>\n      <td>['Information Technology', 'Communication Serv...</td>\n      <td>8.23</td>\n      <td>1.27</td>\n      <td>35.57</td>\n      <td>3.48</td>\n      <td>['USA']</td>\n      <td>['Entrepreneurs Investment Fund' 'Revel Partne...</td>\n    </tr>\n    <tr>\n      <th>5178</th>\n      <td>/funding-round/4c82e18a8e3eab2647719d0fc27ead5f</td>\n      <td>[ 791647 , 1300000 )</td>\n      <td>angel</td>\n      <td>GBR</td>\n      <td>['Information Technology', 'Consumer Discretio...</td>\n      <td>20.67</td>\n      <td>9.40</td>\n      <td>22.50</td>\n      <td>3.76</td>\n      <td>['GBR']</td>\n      <td>['Neon Adventures']</td>\n    </tr>\n    <tr>\n      <th>5179</th>\n      <td>/funding-round/73721fffc980d228f051e87422aa8732</td>\n      <td>[ 184000 , 414705 )</td>\n      <td>seed</td>\n      <td>GBR</td>\n      <td>['Information Technology', 'Consumer Discretio...</td>\n      <td>20.67</td>\n      <td>9.40</td>\n      <td>22.50</td>\n      <td>3.76</td>\n      <td>['USA']</td>\n      <td>['Technology Strategy Board' 'Techstars']</td>\n    </tr>\n  </tbody>\n</table>\n<p>5180 rows × 11 columns</p>\n</div>"
     },
     "metadata": {}
    }
   ]
  },
  {
   "cell_type": "code",
   "metadata": {
    "cell_id": "2bbeb21289f945ea9b7a1db45f13edb6",
    "tags": [],
    "deepnote_to_be_reexecuted": false,
    "source_hash": "20550ddb",
    "execution_start": 1651615485262,
    "execution_millis": 115,
    "deepnote_cell_type": "code",
    "deepnote_cell_height": 618
   },
   "source": "dashboard_input_data = dashboard_input_data.iloc[:50]\ndashboard_input_data",
   "execution_count": 10,
   "outputs": [
    {
     "output_type": "execute_result",
     "execution_count": 10,
     "data": {
      "application/vnd.deepnote.dataframe.v3+json": {
       "column_count": 11,
       "row_count": 50,
       "columns": [
        {
         "name": "funding_round_permalink",
         "dtype": "object",
         "stats": {
          "unique_count": 50,
          "nan_count": 0,
          "categories": [
           {
            "name": "/funding-round/383a9bd2c04f7038bb543ccef5ba3eae",
            "count": 1
           },
           {
            "name": "/funding-round/3bb2ee4a2d89251a10aaa735b1180e44",
            "count": 1
           },
           {
            "name": "48 others",
            "count": 48
           }
          ]
         }
        },
        {
         "name": "interval",
         "dtype": "object",
         "stats": {
          "unique_count": 8,
          "nan_count": 0,
          "categories": [
           {
            "name": "[ 791647 , 1300000 )",
            "count": 12
           },
           {
            "name": "[ 10000000 , 20000000 )",
            "count": 10
           },
           {
            "name": "6 others",
            "count": 28
           }
          ]
         }
        },
        {
         "name": "funding_round",
         "dtype": "object",
         "stats": {
          "unique_count": 6,
          "nan_count": 0,
          "categories": [
           {
            "name": "seed",
            "count": 20
           },
           {
            "name": "venture A",
            "count": 10
           },
           {
            "name": "4 others",
            "count": 20
           }
          ]
         }
        },
        {
         "name": "company_country_code",
         "dtype": "object",
         "stats": {
          "unique_count": 9,
          "nan_count": 0,
          "categories": [
           {
            "name": "USA",
            "count": 31
           },
           {
            "name": "GBR",
            "count": 6
           },
           {
            "name": "7 others",
            "count": 13
           }
          ]
         }
        },
        {
         "name": "company_sector",
         "dtype": "object",
         "stats": {
          "unique_count": 18,
          "nan_count": 0,
          "categories": [
           {
            "name": "['Communication Services', 'Information Technology']",
            "count": 8
           },
           {
            "name": "['Information Technology']",
            "count": 7
           },
           {
            "name": "16 others",
            "count": 35
           }
          ]
         }
        },
        {
         "name": "time_since_first_investment",
         "dtype": "float64",
         "stats": {
          "unique_count": 24,
          "nan_count": 0,
          "min": "6.07",
          "max": "131.0",
          "histogram": [
           {
            "bin_start": 6.07,
            "bin_end": 18.563000000000002,
            "count": 2
           },
           {
            "bin_start": 18.563000000000002,
            "bin_end": 31.056,
            "count": 3
           },
           {
            "bin_start": 31.056,
            "bin_end": 43.549,
            "count": 10
           },
           {
            "bin_start": 43.549,
            "bin_end": 56.042,
            "count": 5
           },
           {
            "bin_start": 56.042,
            "bin_end": 68.535,
            "count": 9
           },
           {
            "bin_start": 68.535,
            "bin_end": 81.02799999999999,
            "count": 5
           },
           {
            "bin_start": 81.02799999999999,
            "bin_end": 93.52100000000002,
            "count": 0
           },
           {
            "bin_start": 93.52100000000002,
            "bin_end": 106.01400000000001,
            "count": 3
           },
           {
            "bin_start": 106.01400000000001,
            "bin_end": 118.507,
            "count": 2
           },
           {
            "bin_start": 118.507,
            "bin_end": 131,
            "count": 11
           }
          ]
         }
        },
        {
         "name": "time_since_last_investment",
         "dtype": "float64",
         "stats": {
          "unique_count": 25,
          "nan_count": 0,
          "min": "1.0",
          "max": "71.0",
          "histogram": [
           {
            "bin_start": 1,
            "bin_end": 8,
            "count": 15
           },
           {
            "bin_start": 8,
            "bin_end": 15,
            "count": 6
           },
           {
            "bin_start": 15,
            "bin_end": 22,
            "count": 9
           },
           {
            "bin_start": 22,
            "bin_end": 29,
            "count": 8
           },
           {
            "bin_start": 29,
            "bin_end": 36,
            "count": 2
           },
           {
            "bin_start": 36,
            "bin_end": 43,
            "count": 2
           },
           {
            "bin_start": 43,
            "bin_end": 50,
            "count": 0
           },
           {
            "bin_start": 50,
            "bin_end": 57,
            "count": 2
           },
           {
            "bin_start": 57,
            "bin_end": 64,
            "count": 1
           },
           {
            "bin_start": 64,
            "bin_end": 71,
            "count": 5
           }
          ]
         }
        },
        {
         "name": "company_age",
         "dtype": "float64",
         "stats": {
          "unique_count": 21,
          "nan_count": 0,
          "min": "33.37",
          "max": "157.33",
          "histogram": [
           {
            "bin_start": 33.37,
            "bin_end": 45.766,
            "count": 2
           },
           {
            "bin_start": 45.766,
            "bin_end": 58.162,
            "count": 11
           },
           {
            "bin_start": 58.162,
            "bin_end": 70.55799999999999,
            "count": 10
           },
           {
            "bin_start": 70.55799999999999,
            "bin_end": 82.95400000000001,
            "count": 4
           },
           {
            "bin_start": 82.95400000000001,
            "bin_end": 95.35,
            "count": 0
           },
           {
            "bin_start": 95.35,
            "bin_end": 107.74600000000001,
            "count": 7
           },
           {
            "bin_start": 107.74600000000001,
            "bin_end": 120.142,
            "count": 6
           },
           {
            "bin_start": 120.142,
            "bin_end": 132.538,
            "count": 2
           },
           {
            "bin_start": 132.538,
            "bin_end": 144.934,
            "count": 5
           },
           {
            "bin_start": 144.934,
            "bin_end": 157.33,
            "count": 3
           }
          ]
         }
        },
        {
         "name": "avg_time_between_rounds",
         "dtype": "float64",
         "stats": {
          "unique_count": 20,
          "nan_count": 0,
          "min": "1.0",
          "max": "30.42",
          "histogram": [
           {
            "bin_start": 1,
            "bin_end": 3.942,
            "count": 7
           },
           {
            "bin_start": 3.942,
            "bin_end": 6.884,
            "count": 7
           },
           {
            "bin_start": 6.884,
            "bin_end": 9.826,
            "count": 11
           },
           {
            "bin_start": 9.826,
            "bin_end": 12.768,
            "count": 8
           },
           {
            "bin_start": 12.768,
            "bin_end": 15.71,
            "count": 13
           },
           {
            "bin_start": 15.71,
            "bin_end": 18.652,
            "count": 3
           },
           {
            "bin_start": 18.652,
            "bin_end": 21.594,
            "count": 0
           },
           {
            "bin_start": 21.594,
            "bin_end": 24.536,
            "count": 0
           },
           {
            "bin_start": 24.536,
            "bin_end": 27.478,
            "count": 0
           },
           {
            "bin_start": 27.478,
            "bin_end": 30.42,
            "count": 1
           }
          ]
         }
        },
        {
         "name": "investor_country_code",
         "dtype": "object",
         "stats": {
          "unique_count": 19,
          "nan_count": 0,
          "categories": [
           {
            "name": "['USA']",
            "count": 26
           },
           {
            "name": "['GBR']",
            "count": 4
           },
           {
            "name": "17 others",
            "count": 20
           }
          ]
         }
        },
        {
         "name": "investor_name",
         "dtype": "object",
         "stats": {
          "unique_count": 47,
          "nan_count": 0,
          "categories": [
           {
            "name": "['Pond Ventures']",
            "count": 2
           },
           {
            "name": "['Draper Fisher Jurvetson (DFJ)' 'Gannett Co., Inc.' 'Sand Hill Capital'\n 'U.S. Venture Partners (USVP)' 'Dan Ehrman' 'Tim Connors']",
            "count": 2
           },
           {
            "name": "45 others",
            "count": 46
           }
          ]
         }
        },
        {
         "name": "_deepnote_index_column",
         "dtype": "int64"
        }
       ],
       "rows": [
        {
         "funding_round_permalink": "/funding-round/383a9bd2c04f7038bb543ccef5ba3eae",
         "interval": "[ 791647 , 1300000 )",
         "funding_round": "seed",
         "company_country_code": "USA",
         "company_sector": "['Information Technology']",
         "time_since_first_investment": 35.5,
         "time_since_last_investment": 1,
         "company_age": 59.93,
         "avg_time_between_rounds": 8.67,
         "investor_country_code": "['USA']",
         "investor_name": "['Nexus Venture Partners']",
         "_deepnote_index_column": 0
        },
        {
         "funding_round_permalink": "/funding-round/3bb2ee4a2d89251a10aaa735b1180e44",
         "interval": "[ 10000000 , 20000000 )",
         "funding_round": "venture B",
         "company_country_code": "USA",
         "company_sector": "['Information Technology']",
         "time_since_first_investment": 35.5,
         "time_since_last_investment": 1,
         "company_age": 59.93,
         "avg_time_between_rounds": 8.67,
         "investor_country_code": "['USA']",
         "investor_name": "['Capital One' 'Nexus Venture Partners' 'Paxion Capital Partners'\n 'Transamerica']",
         "_deepnote_index_column": 1
        },
        {
         "funding_round_permalink": "/funding-round/e1cfcbe1bdf4c70277c5f29a3482f24e",
         "interval": "[ 3791804 , 6000000 )",
         "funding_round": "venture A",
         "company_country_code": "USA",
         "company_sector": "['Information Technology']",
         "time_since_first_investment": 35.5,
         "time_since_last_investment": 1,
         "company_age": 59.93,
         "avg_time_between_rounds": 8.67,
         "investor_country_code": "['USA']",
         "investor_name": "['Nexus Venture Partners' 'Transamerica Ventures' 'Ash Bhardwaj'\n 'Michael Marks' 'Rajesh Ambati' 'Rakesh Mathur']",
         "_deepnote_index_column": 2
        },
        {
         "funding_round_permalink": "/funding-round/03b975068632eba5bfdb937ec8c07a68",
         "interval": "[ 791647 , 1300000 )",
         "funding_round": "seed",
         "company_country_code": "USA",
         "company_sector": "['Information Technology']",
         "time_since_first_investment": 53.27,
         "time_since_last_investment": 22.23,
         "company_age": 52.87,
         "avg_time_between_rounds": 10.34,
         "investor_country_code": "['USA' 'FRA']",
         "investor_name": "['Camp One Ventures' 'Kima Ventures' 'Rick Marini' 'VK Rajaram']",
         "_deepnote_index_column": 3
        },
        {
         "funding_round_permalink": "/funding-round/e82464f22241715dd1a6c77241055ed1",
         "interval": "[ 791647 , 1300000 )",
         "funding_round": "seed",
         "company_country_code": "USA",
         "company_sector": "['Information Technology']",
         "time_since_first_investment": 53.27,
         "time_since_last_investment": 22.23,
         "company_age": 52.87,
         "avg_time_between_rounds": 10.34,
         "investor_country_code": "['USA']",
         "investor_name": "['CRV' 'General Catalyst Partners' 'SV Angel' 'True Ventures'\n 'Gary Vaynerchuk' 'Keith Rabois' 'Michael Dearing' 'Naval Ravikant']",
         "_deepnote_index_column": 4
        },
        {
         "funding_round_permalink": "/funding-round/502bd0e50c27616995e4bdad24605ef8",
         "interval": "[ 2100000 , 3791804 )",
         "funding_round": "venture A",
         "company_country_code": "USA",
         "company_sector": "['Information Technology']",
         "time_since_first_investment": 72.1,
         "time_since_last_investment": 58.4,
         "company_age": 66.07,
         "avg_time_between_rounds": 6.85,
         "investor_country_code": "['USA']",
         "investor_name": "['Felicis Ventures' 'FLOODGATE' 'Founder Collective' 'Greylock Partners'\n 'Signatures Capital' 'Bobby Yazdani' 'Caterina Fake' 'Chris Sacca'\n 'Keith Rabois' 'Paul Buchheit' 'Ron Conway']",
         "_deepnote_index_column": 5
        },
        {
         "funding_round_permalink": "/funding-round/bbbda407fa8638d944ecfdd042230c4b",
         "interval": "[ 10000000 , 20000000 )",
         "funding_round": "venture B",
         "company_country_code": "CHN",
         "company_sector": "['Consumer Discretionary']",
         "time_since_first_investment": 19.5,
         "time_since_last_investment": 19.5,
         "company_age": 50.83,
         "avg_time_between_rounds": 1,
         "investor_country_code": "['CHN']",
         "investor_name": "['Softbank China Venture Capital']",
         "_deepnote_index_column": 6
        },
        {
         "funding_round_permalink": "/funding-round/4ff51088be233a23c013689d680f04e5",
         "interval": "[ 791647 , 1300000 )",
         "funding_round": "seed",
         "company_country_code": "AUS",
         "company_sector": "['Consumer Discretionary', 'Information Technology', 'Communication Services']",
         "time_since_first_investment": 43.73,
         "time_since_last_investment": 29.57,
         "company_age": 46.73,
         "avg_time_between_rounds": 4.72,
         "investor_country_code": "['AUS' 'SGP']",
         "investor_name": "['Adventure Capital' 'SingTel Innov8']",
         "_deepnote_index_column": 7
        },
        {
         "funding_round_permalink": "/funding-round/2dc9ff9c590200195228ce2e153a1423",
         "interval": "[ 6000000 , 10000000 )",
         "funding_round": "venture A",
         "company_country_code": "USA",
         "company_sector": "['Communication Services', 'Information Technology', 'Financials']",
         "time_since_first_investment": 78.23,
         "time_since_last_investment": 56.03,
         "company_age": 71.77,
         "avg_time_between_rounds": 11.1,
         "investor_country_code": "['USA']",
         "investor_name": "['BlueRun Ventures' 'Founders Fund']",
         "_deepnote_index_column": 8
        },
        {
         "funding_round_permalink": "/funding-round/3d40399001b0a2088620030afc533c83",
         "interval": "[ 10000000 , 20000000 )",
         "funding_round": "venture B",
         "company_country_code": "USA",
         "company_sector": "['Communication Services', 'Information Technology', 'Financials']",
         "time_since_first_investment": 78.23,
         "time_since_last_investment": 56.03,
         "company_age": 71.77,
         "avg_time_between_rounds": 11.1,
         "investor_country_code": "['USA']",
         "investor_name": "['BlueRun Ventures' 'Founders Fund' 'SV Angel' 'Mark Kingdon']",
         "_deepnote_index_column": 9
        }
       ]
      },
      "text/plain": "                            funding_round_permalink                 interval  \\\n0   /funding-round/383a9bd2c04f7038bb543ccef5ba3eae     [ 791647 , 1300000 )   \n1   /funding-round/3bb2ee4a2d89251a10aaa735b1180e44  [ 10000000 , 20000000 )   \n2   /funding-round/e1cfcbe1bdf4c70277c5f29a3482f24e    [ 3791804 , 6000000 )   \n3   /funding-round/03b975068632eba5bfdb937ec8c07a68     [ 791647 , 1300000 )   \n4   /funding-round/e82464f22241715dd1a6c77241055ed1     [ 791647 , 1300000 )   \n5   /funding-round/502bd0e50c27616995e4bdad24605ef8    [ 2100000 , 3791804 )   \n6   /funding-round/bbbda407fa8638d944ecfdd042230c4b  [ 10000000 , 20000000 )   \n7   /funding-round/4ff51088be233a23c013689d680f04e5     [ 791647 , 1300000 )   \n8   /funding-round/2dc9ff9c590200195228ce2e153a1423   [ 6000000 , 10000000 )   \n9   /funding-round/3d40399001b0a2088620030afc533c83  [ 10000000 , 20000000 )   \n10  /funding-round/3b07772aa3a6bfa26d5135fa746f94e2      [ 184000 , 414705 )   \n11  /funding-round/0496c258019a924b3a2da1ebaddb1f9d   [ 6000000 , 10000000 )   \n12  /funding-round/61660637eae067a2980ecbc3633ad262  [ 10000000 , 20000000 )   \n13  /funding-round/9926125d82350c78205e31fec25945ce     [ 791647 , 1300000 )   \n14  /funding-round/ed8960119b7366d2107e34774e514522     [ 791647 , 1300000 )   \n15  /funding-round/010be4610c75917ad3a95856c6b6c14e      [ 414705 , 791647 )   \n16  /funding-round/0e687a86ee81e919e381b372ec43da33      [ 414705 , 791647 )   \n17  /funding-round/da810f9fa3df6b969094540665324e67      [ 414705 , 791647 )   \n18  /funding-round/4fdee2e1c3fc2a3313dc81c73457162c    [ 2100000 , 3791804 )   \n19  /funding-round/95e06cec1140125d6c2924c1a58dc751    [ 2100000 , 3791804 )   \n20  /funding-round/b4de43b6a16955f2b2b258dbd33f4967      [ 184000 , 414705 )   \n21  /funding-round/3473e317f5cfbba5af9ed92e2ba24940       [ 20000000 , ... )   \n22  /funding-round/75cc2bfe5037393cb801b3365c52ef79       [ 20000000 , ... )   \n23  /funding-round/97062e0d50c2955cbe40bf8220d87b08       [ 20000000 , ... )   \n24  /funding-round/c27c1b420dfb34677a6ba449524f1c88  [ 10000000 , 20000000 )   \n25  /funding-round/cf66108828b7b22e45bbe02cf8a9fc50       [ 20000000 , ... )   \n26  /funding-round/f261366b4fbf1840ad71b20ea0d9c7ce  [ 10000000 , 20000000 )   \n27  /funding-round/3fce54b03edf36d1a5002b288be8fdeb   [ 6000000 , 10000000 )   \n28  /funding-round/f3c7d2be5057f783a588d1598c06e4a5    [ 2100000 , 3791804 )   \n29  /funding-round/fc41599e5ce6654db9217e05e933e5a4   [ 6000000 , 10000000 )   \n30  /funding-round/ed719ecfd7240b23c3f4650aee650fa6     [ 791647 , 1300000 )   \n31  /funding-round/00dbbc0ec042d30a1ffd62e84c083812       [ 20000000 , ... )   \n32  /funding-round/bf5cd3f9ff0e65fbfba24e731e56981c  [ 10000000 , 20000000 )   \n33  /funding-round/d3e379e2461df51b66a75a4c732b3d06       [ 20000000 , ... )   \n34  /funding-round/465afffbce6402a3fc84b9ffa438dfca      [ 184000 , 414705 )   \n35  /funding-round/48212f931f542fdef78810bc87aef086   [ 6000000 , 10000000 )   \n36  /funding-round/493f78ea0ca33cfac48a57b2351b154b    [ 3791804 , 6000000 )   \n37  /funding-round/7210c966a3849016584fc8027ad3c584      [ 184000 , 414705 )   \n38  /funding-round/227b14ab43e8b9112aa9357d69662e5f     [ 791647 , 1300000 )   \n39  /funding-round/d976a3a9eaed96cbae0bd6c2158e2b35  [ 10000000 , 20000000 )   \n40  /funding-round/dd581bca505c94ccda21dab6a117a3df    [ 3791804 , 6000000 )   \n41  /funding-round/30959bbdf1abe7337856d98be84c5d22  [ 10000000 , 20000000 )   \n42  /funding-round/603f50301d1e1ac7af790d2995f9c97a       [ 20000000 , ... )   \n43  /funding-round/632521040f9dc01fd294156a72bf1cf7   [ 6000000 , 10000000 )   \n44  /funding-round/acf6113885ae9c45d17726e67b68b14f  [ 10000000 , 20000000 )   \n45  /funding-round/b0a49655b0ed50e73250d391ef1a0ab0      [ 184000 , 414705 )   \n46  /funding-round/0288136438e847293e62ef3b369326cc     [ 791647 , 1300000 )   \n47  /funding-round/0465733a4a7a6bd3914ce9e3b11243e8     [ 791647 , 1300000 )   \n48  /funding-round/18ca0663d450efc3ef637f41a906ee31     [ 791647 , 1300000 )   \n49  /funding-round/a5a687f16807b2c83265022b4ab9a520     [ 791647 , 1300000 )   \n\n   funding_round company_country_code  \\\n0           seed                  USA   \n1      venture B                  USA   \n2      venture A                  USA   \n3           seed                  USA   \n4           seed                  USA   \n5      venture A                  USA   \n6      venture B                  CHN   \n7           seed                  AUS   \n8      venture A                  USA   \n9      venture B                  USA   \n10          seed                  USA   \n11     venture A                  CHN   \n12     venture B                  CHN   \n13          seed                  USA   \n14          seed                  USA   \n15          seed                  ITA   \n16          seed                  ITA   \n17          seed                  ITA   \n18     venture A                  USA   \n19     venture A                  USA   \n20          seed                  ISR   \n21     venture C                  USA   \n22     venture D                  USA   \n23     venture C                  USA   \n24     venture B                  USA   \n25     venture E                  USA   \n26     venture A                  USA   \n27     venture B                  SGP   \n28     venture A                  SGP   \n29     venture C                  SGP   \n30          seed                  USA   \n31     venture C                  USA   \n32     venture B                  USA   \n33     venture D                  USA   \n34          seed                  ESP   \n35     venture B                  GBR   \n36     venture A                  GBR   \n37          seed                  RUS   \n38          seed                  USA   \n39     venture B                  USA   \n40     venture A                  USA   \n41     venture D                  USA   \n42     venture E                  USA   \n43     venture C                  USA   \n44     venture D                  USA   \n45          seed                  USA   \n46          seed                  GBR   \n47          seed                  GBR   \n48          seed                  GBR   \n49          seed                  GBR   \n\n                                       company_sector  \\\n0                          ['Information Technology']   \n1                          ['Information Technology']   \n2                          ['Information Technology']   \n3                          ['Information Technology']   \n4                          ['Information Technology']   \n5                          ['Information Technology']   \n6                          ['Consumer Discretionary']   \n7   ['Consumer Discretionary', 'Information Techno...   \n8   ['Communication Services', 'Information Techno...   \n9   ['Communication Services', 'Information Techno...   \n10  ['Communication Services', 'Information Techno...   \n11                                    ['Industrials']   \n12                                     ['Financials']   \n13                                    ['Health Care']   \n14                                    ['Health Care']   \n15  ['Information Technology', 'Consumer Discretio...   \n16  ['Information Technology', 'Consumer Discretio...   \n17  ['Information Technology', 'Consumer Discretio...   \n18  ['Consumer Discretionary', 'Industrials', 'Fin...   \n19  ['Consumer Discretionary', 'Industrials', 'Fin...   \n20          ['Information Technology', 'Industrials']   \n21          ['Health Care', 'Communication Services']   \n22          ['Health Care', 'Communication Services']   \n23          ['Health Care', 'Communication Services']   \n24          ['Health Care', 'Communication Services']   \n25          ['Health Care', 'Communication Services']   \n26          ['Health Care', 'Communication Services']   \n27  ['Industrials', 'Information Technology', 'Fin...   \n28  ['Industrials', 'Information Technology', 'Fin...   \n29  ['Industrials', 'Information Technology', 'Fin...   \n30  ['Information Technology', 'Consumer Discretio...   \n31                                    ['Health Care']   \n32                                    ['Health Care']   \n33                                    ['Health Care']   \n34  ['Information Technology', 'Consumer Discretio...   \n35  ['Information Technology', 'Consumer Discretio...   \n36  ['Information Technology', 'Consumer Discretio...   \n37  ['Information Technology', 'Consumer Discretio...   \n38                         ['Information Technology']   \n39  ['Consumer Discretionary', 'Energy', 'Informat...   \n40  ['Consumer Discretionary', 'Energy', 'Informat...   \n41  ['Communication Services', 'Information Techno...   \n42  ['Communication Services', 'Information Techno...   \n43  ['Communication Services', 'Information Techno...   \n44  ['Communication Services', 'Information Techno...   \n45  ['Information Technology', 'Consumer Discretio...   \n46  ['Communication Services', 'Information Techno...   \n47  ['Communication Services', 'Information Techno...   \n48  ['Communication Services', 'Information Techno...   \n49  ['Communication Services', 'Information Techno...   \n\n    time_since_first_investment  time_since_last_investment  company_age  \\\n0                         35.50                        1.00        59.93   \n1                         35.50                        1.00        59.93   \n2                         35.50                        1.00        59.93   \n3                         53.27                       22.23        52.87   \n4                         53.27                       22.23        52.87   \n5                         72.10                       58.40        66.07   \n6                         19.50                       19.50        50.83   \n7                         43.73                       29.57        46.73   \n8                         78.23                       56.03        71.77   \n9                         78.23                       56.03        71.77   \n10                        67.97                       67.97        72.10   \n11                         6.07                        6.07        59.93   \n12                       120.80                       29.53       132.97   \n13                        33.27                        7.93        33.37   \n14                        33.27                        7.93        33.37   \n15                        37.13                       18.37        47.77   \n16                        37.13                       18.37        47.77   \n17                        37.13                       18.37        47.77   \n18                        75.17                       65.03       100.53   \n19                        75.17                       65.03       100.53   \n20                        26.00                       26.00        72.10   \n21                       122.80                        5.13       117.80   \n22                       122.80                        5.13       117.80   \n23                       122.80                        5.13       117.80   \n24                       122.80                        5.13       117.80   \n25                       122.80                        5.13       117.80   \n26                       122.80                        5.13       117.80   \n27                        59.93                        7.37       157.33   \n28                        59.93                        7.37       157.33   \n29                        59.93                        7.37       157.33   \n30                        13.83                       13.83        65.03   \n31                       103.93                        8.73       106.67   \n32                       103.93                        8.73       106.67   \n33                       103.93                        8.73       106.67   \n34                        48.80                       39.63        48.43   \n35                        34.67                       14.37        96.47   \n36                        34.67                       14.37        96.47   \n37                        59.93                       38.63        56.93   \n38                        44.80                       20.37        47.77   \n39                       113.73                       71.00       120.80   \n40                       113.73                       71.00       120.80   \n41                       131.00                       16.33       136.80   \n42                       131.00                       16.33       136.80   \n43                       131.00                       16.33       136.80   \n44                       131.00                       16.33       136.80   \n45                        27.67                       27.67        47.77   \n46                        57.67                       28.03        69.83   \n47                        57.67                       28.03        69.83   \n48                        57.67                       28.03        69.83   \n49                        57.67                       28.03        69.83   \n\n    avg_time_between_rounds      investor_country_code  \\\n0                      8.67                    ['USA']   \n1                      8.67                    ['USA']   \n2                      8.67                    ['USA']   \n3                     10.34              ['USA' 'FRA']   \n4                     10.34                    ['USA']   \n5                      6.85                    ['USA']   \n6                      1.00                    ['CHN']   \n7                      4.72              ['AUS' 'SGP']   \n8                     11.10                    ['USA']   \n9                     11.10                    ['USA']   \n10                     1.00                    ['USA']   \n11                     1.00                    ['CHN']   \n12                    30.42              ['USA' 'CHN']   \n13                     8.44                    ['USA']   \n14                     8.44              ['USA' 'CAN']   \n15                     6.26                    ['ITA']   \n16                     6.26                    ['ITA']   \n17                     6.26                    ['ITA']   \n18                     5.07                    ['USA']   \n19                     5.07                    ['USA']   \n20                     1.00                    ['FRA']   \n21                    14.71                    ['USA']   \n22                    14.71              ['USA' 'RUS']   \n23                    14.71                    ['USA']   \n24                    14.71                    ['USA']   \n25                    14.71                    ['USA']   \n26                    14.71                    ['USA']   \n27                    17.52                    ['JPN']   \n28                    17.52                    ['SGP']   \n29                    17.52              ['HKG' 'JPN']   \n30                     1.00              ['CHN' 'USA']   \n31                    13.60                    ['USA']   \n32                    13.60                    ['USA']   \n33                    13.60                    ['USA']   \n34                     2.29                    ['ESP']   \n35                    10.15  ['ISR' 'RUS' 'USA' 'GBR']   \n36                    10.15                    ['ISR']   \n37                    10.65                    ['RUS']   \n38                    12.22                    ['USA']   \n39                     7.12                    ['USA']   \n40                     7.12                    ['USA']   \n41                    14.33                    ['USA']   \n42                    14.33              ['USA' 'AUS']   \n43                    14.33                    ['USA']   \n44                    14.33                    ['USA']   \n45                     1.00                    ['USA']   \n46                     7.41                    ['GBR']   \n47                     7.41                    ['GBR']   \n48                     7.41                    ['GBR']   \n49                     7.41                    ['GBR']   \n\n                                        investor_name  \n0                          ['Nexus Venture Partners']  \n1   ['Capital One' 'Nexus Venture Partners' 'Paxio...  \n2   ['Nexus Venture Partners' 'Transamerica Ventur...  \n3   ['Camp One Ventures' 'Kima Ventures' 'Rick Mar...  \n4   ['CRV' 'General Catalyst Partners' 'SV Angel' ...  \n5   ['Felicis Ventures' 'FLOODGATE' 'Founder Colle...  \n6                  ['Softbank China Venture Capital']  \n7              ['Adventure Capital' 'SingTel Innov8']  \n8                ['BlueRun Ventures' 'Founders Fund']  \n9   ['BlueRun Ventures' 'Founders Fund' 'SV Angel'...  \n10                                   ['Y Combinator']  \n11                 ['Baidu' 'United Electronics Co.']  \n12            ['Sequoia Capital' 'Zero2IPO Ventures']  \n13  ['1776 Ventures' 'Ense Group' 'Kensington Part...  \n14  ['1776 Ventures' 'Kensington Capital Partners ...  \n15                                         ['H-FARM']  \n16  ['Club Italia Investimenti' 'United Ventures' ...  \n17  ['H-FARM' 'United Ventures' 'Massimiliano Magr...  \n18  ['AOL Ventures' 'Founder Collective' 'True Ven...  \n19  ['Founder Collective' 'SV Angel' 'True Venture...  \n20                                  ['Kima Ventures']  \n21  ['Google Ventures' 'Johnson & Johnson Developm...  \n22  ['Google Ventures' 'MPM Capital' 'New Enterpri...  \n23      ['Johnson & Johnson Development Corporation']  \n24                           ['Google' 'Sergey Brin']  \n25  ['Casdin Capital' 'Fidelity Management & Resea...  \n26  ['Genentech' 'Google' 'Mohr Davidow Ventures' ...  \n27                            ['GMO VenturePartners']  \n28                         ['Digital Media Partners']  \n29             ['Amun Capital' 'GMO VenturePartners']  \n30  ['Fine Charm Ventures' 'PreAngel' 'Silicon Val...  \n31  ['Kleiner Perkins Caufield & Byers' 'New Enter...  \n32  ['Kleiner Perkins Caufield & Byers' 'New Enter...  \n33  ['Ally Bridge Group' 'Kleiner Perkins Caufield...  \n34                                          ['Wayra']  \n35  ['Cedar Fund' 'Leta Capital' 'Titanium Investm...  \n36                                     ['Cedar Fund']  \n37             ['Papillon ZAO' 'Skolkovo Foundation']  \n38  ['K9 Ventures' 'TEEC Angel Fund' 'Safa Rashtchy']  \n39                                  ['Pond Ventures']  \n40                                  ['Pond Ventures']  \n41  ['Draper Fisher Jurvetson (DFJ)' 'Gannett Co.,...  \n42  ['Draper Fisher Jurvetson (DFJ)' 'Gannet Capit...  \n43  ['Draper Fisher Jurvetson (DFJ)' 'Gannett Co.,...  \n44  ['Draper Fisher Jurvetson (DFJ)' 'Gannett Co.,...  \n45                            ['The Startup Factory']  \n46                             ['Northstar Ventures']  \n47  ['Angel CoFund' 'Rivers Capital Partners'\\n 'T...  \n48                        ['Rivers Capital Partners']  \n49                        ['Rivers Capital Partners']  ",
      "text/html": "<div>\n<style scoped>\n    .dataframe tbody tr th:only-of-type {\n        vertical-align: middle;\n    }\n\n    .dataframe tbody tr th {\n        vertical-align: top;\n    }\n\n    .dataframe thead th {\n        text-align: right;\n    }\n</style>\n<table border=\"1\" class=\"dataframe\">\n  <thead>\n    <tr style=\"text-align: right;\">\n      <th></th>\n      <th>funding_round_permalink</th>\n      <th>interval</th>\n      <th>funding_round</th>\n      <th>company_country_code</th>\n      <th>company_sector</th>\n      <th>time_since_first_investment</th>\n      <th>time_since_last_investment</th>\n      <th>company_age</th>\n      <th>avg_time_between_rounds</th>\n      <th>investor_country_code</th>\n      <th>investor_name</th>\n    </tr>\n  </thead>\n  <tbody>\n    <tr>\n      <th>0</th>\n      <td>/funding-round/383a9bd2c04f7038bb543ccef5ba3eae</td>\n      <td>[ 791647 , 1300000 )</td>\n      <td>seed</td>\n      <td>USA</td>\n      <td>['Information Technology']</td>\n      <td>35.50</td>\n      <td>1.00</td>\n      <td>59.93</td>\n      <td>8.67</td>\n      <td>['USA']</td>\n      <td>['Nexus Venture Partners']</td>\n    </tr>\n    <tr>\n      <th>1</th>\n      <td>/funding-round/3bb2ee4a2d89251a10aaa735b1180e44</td>\n      <td>[ 10000000 , 20000000 )</td>\n      <td>venture B</td>\n      <td>USA</td>\n      <td>['Information Technology']</td>\n      <td>35.50</td>\n      <td>1.00</td>\n      <td>59.93</td>\n      <td>8.67</td>\n      <td>['USA']</td>\n      <td>['Capital One' 'Nexus Venture Partners' 'Paxio...</td>\n    </tr>\n    <tr>\n      <th>2</th>\n      <td>/funding-round/e1cfcbe1bdf4c70277c5f29a3482f24e</td>\n      <td>[ 3791804 , 6000000 )</td>\n      <td>venture A</td>\n      <td>USA</td>\n      <td>['Information Technology']</td>\n      <td>35.50</td>\n      <td>1.00</td>\n      <td>59.93</td>\n      <td>8.67</td>\n      <td>['USA']</td>\n      <td>['Nexus Venture Partners' 'Transamerica Ventur...</td>\n    </tr>\n    <tr>\n      <th>3</th>\n      <td>/funding-round/03b975068632eba5bfdb937ec8c07a68</td>\n      <td>[ 791647 , 1300000 )</td>\n      <td>seed</td>\n      <td>USA</td>\n      <td>['Information Technology']</td>\n      <td>53.27</td>\n      <td>22.23</td>\n      <td>52.87</td>\n      <td>10.34</td>\n      <td>['USA' 'FRA']</td>\n      <td>['Camp One Ventures' 'Kima Ventures' 'Rick Mar...</td>\n    </tr>\n    <tr>\n      <th>4</th>\n      <td>/funding-round/e82464f22241715dd1a6c77241055ed1</td>\n      <td>[ 791647 , 1300000 )</td>\n      <td>seed</td>\n      <td>USA</td>\n      <td>['Information Technology']</td>\n      <td>53.27</td>\n      <td>22.23</td>\n      <td>52.87</td>\n      <td>10.34</td>\n      <td>['USA']</td>\n      <td>['CRV' 'General Catalyst Partners' 'SV Angel' ...</td>\n    </tr>\n    <tr>\n      <th>5</th>\n      <td>/funding-round/502bd0e50c27616995e4bdad24605ef8</td>\n      <td>[ 2100000 , 3791804 )</td>\n      <td>venture A</td>\n      <td>USA</td>\n      <td>['Information Technology']</td>\n      <td>72.10</td>\n      <td>58.40</td>\n      <td>66.07</td>\n      <td>6.85</td>\n      <td>['USA']</td>\n      <td>['Felicis Ventures' 'FLOODGATE' 'Founder Colle...</td>\n    </tr>\n    <tr>\n      <th>6</th>\n      <td>/funding-round/bbbda407fa8638d944ecfdd042230c4b</td>\n      <td>[ 10000000 , 20000000 )</td>\n      <td>venture B</td>\n      <td>CHN</td>\n      <td>['Consumer Discretionary']</td>\n      <td>19.50</td>\n      <td>19.50</td>\n      <td>50.83</td>\n      <td>1.00</td>\n      <td>['CHN']</td>\n      <td>['Softbank China Venture Capital']</td>\n    </tr>\n    <tr>\n      <th>7</th>\n      <td>/funding-round/4ff51088be233a23c013689d680f04e5</td>\n      <td>[ 791647 , 1300000 )</td>\n      <td>seed</td>\n      <td>AUS</td>\n      <td>['Consumer Discretionary', 'Information Techno...</td>\n      <td>43.73</td>\n      <td>29.57</td>\n      <td>46.73</td>\n      <td>4.72</td>\n      <td>['AUS' 'SGP']</td>\n      <td>['Adventure Capital' 'SingTel Innov8']</td>\n    </tr>\n    <tr>\n      <th>8</th>\n      <td>/funding-round/2dc9ff9c590200195228ce2e153a1423</td>\n      <td>[ 6000000 , 10000000 )</td>\n      <td>venture A</td>\n      <td>USA</td>\n      <td>['Communication Services', 'Information Techno...</td>\n      <td>78.23</td>\n      <td>56.03</td>\n      <td>71.77</td>\n      <td>11.10</td>\n      <td>['USA']</td>\n      <td>['BlueRun Ventures' 'Founders Fund']</td>\n    </tr>\n    <tr>\n      <th>9</th>\n      <td>/funding-round/3d40399001b0a2088620030afc533c83</td>\n      <td>[ 10000000 , 20000000 )</td>\n      <td>venture B</td>\n      <td>USA</td>\n      <td>['Communication Services', 'Information Techno...</td>\n      <td>78.23</td>\n      <td>56.03</td>\n      <td>71.77</td>\n      <td>11.10</td>\n      <td>['USA']</td>\n      <td>['BlueRun Ventures' 'Founders Fund' 'SV Angel'...</td>\n    </tr>\n    <tr>\n      <th>10</th>\n      <td>/funding-round/3b07772aa3a6bfa26d5135fa746f94e2</td>\n      <td>[ 184000 , 414705 )</td>\n      <td>seed</td>\n      <td>USA</td>\n      <td>['Communication Services', 'Information Techno...</td>\n      <td>67.97</td>\n      <td>67.97</td>\n      <td>72.10</td>\n      <td>1.00</td>\n      <td>['USA']</td>\n      <td>['Y Combinator']</td>\n    </tr>\n    <tr>\n      <th>11</th>\n      <td>/funding-round/0496c258019a924b3a2da1ebaddb1f9d</td>\n      <td>[ 6000000 , 10000000 )</td>\n      <td>venture A</td>\n      <td>CHN</td>\n      <td>['Industrials']</td>\n      <td>6.07</td>\n      <td>6.07</td>\n      <td>59.93</td>\n      <td>1.00</td>\n      <td>['CHN']</td>\n      <td>['Baidu' 'United Electronics Co.']</td>\n    </tr>\n    <tr>\n      <th>12</th>\n      <td>/funding-round/61660637eae067a2980ecbc3633ad262</td>\n      <td>[ 10000000 , 20000000 )</td>\n      <td>venture B</td>\n      <td>CHN</td>\n      <td>['Financials']</td>\n      <td>120.80</td>\n      <td>29.53</td>\n      <td>132.97</td>\n      <td>30.42</td>\n      <td>['USA' 'CHN']</td>\n      <td>['Sequoia Capital' 'Zero2IPO Ventures']</td>\n    </tr>\n    <tr>\n      <th>13</th>\n      <td>/funding-round/9926125d82350c78205e31fec25945ce</td>\n      <td>[ 791647 , 1300000 )</td>\n      <td>seed</td>\n      <td>USA</td>\n      <td>['Health Care']</td>\n      <td>33.27</td>\n      <td>7.93</td>\n      <td>33.37</td>\n      <td>8.44</td>\n      <td>['USA']</td>\n      <td>['1776 Ventures' 'Ense Group' 'Kensington Part...</td>\n    </tr>\n    <tr>\n      <th>14</th>\n      <td>/funding-round/ed8960119b7366d2107e34774e514522</td>\n      <td>[ 791647 , 1300000 )</td>\n      <td>seed</td>\n      <td>USA</td>\n      <td>['Health Care']</td>\n      <td>33.27</td>\n      <td>7.93</td>\n      <td>33.37</td>\n      <td>8.44</td>\n      <td>['USA' 'CAN']</td>\n      <td>['1776 Ventures' 'Kensington Capital Partners ...</td>\n    </tr>\n    <tr>\n      <th>15</th>\n      <td>/funding-round/010be4610c75917ad3a95856c6b6c14e</td>\n      <td>[ 414705 , 791647 )</td>\n      <td>seed</td>\n      <td>ITA</td>\n      <td>['Information Technology', 'Consumer Discretio...</td>\n      <td>37.13</td>\n      <td>18.37</td>\n      <td>47.77</td>\n      <td>6.26</td>\n      <td>['ITA']</td>\n      <td>['H-FARM']</td>\n    </tr>\n    <tr>\n      <th>16</th>\n      <td>/funding-round/0e687a86ee81e919e381b372ec43da33</td>\n      <td>[ 414705 , 791647 )</td>\n      <td>seed</td>\n      <td>ITA</td>\n      <td>['Information Technology', 'Consumer Discretio...</td>\n      <td>37.13</td>\n      <td>18.37</td>\n      <td>47.77</td>\n      <td>6.26</td>\n      <td>['ITA']</td>\n      <td>['Club Italia Investimenti' 'United Ventures' ...</td>\n    </tr>\n    <tr>\n      <th>17</th>\n      <td>/funding-round/da810f9fa3df6b969094540665324e67</td>\n      <td>[ 414705 , 791647 )</td>\n      <td>seed</td>\n      <td>ITA</td>\n      <td>['Information Technology', 'Consumer Discretio...</td>\n      <td>37.13</td>\n      <td>18.37</td>\n      <td>47.77</td>\n      <td>6.26</td>\n      <td>['ITA']</td>\n      <td>['H-FARM' 'United Ventures' 'Massimiliano Magr...</td>\n    </tr>\n    <tr>\n      <th>18</th>\n      <td>/funding-round/4fdee2e1c3fc2a3313dc81c73457162c</td>\n      <td>[ 2100000 , 3791804 )</td>\n      <td>venture A</td>\n      <td>USA</td>\n      <td>['Consumer Discretionary', 'Industrials', 'Fin...</td>\n      <td>75.17</td>\n      <td>65.03</td>\n      <td>100.53</td>\n      <td>5.07</td>\n      <td>['USA']</td>\n      <td>['AOL Ventures' 'Founder Collective' 'True Ven...</td>\n    </tr>\n    <tr>\n      <th>19</th>\n      <td>/funding-round/95e06cec1140125d6c2924c1a58dc751</td>\n      <td>[ 2100000 , 3791804 )</td>\n      <td>venture A</td>\n      <td>USA</td>\n      <td>['Consumer Discretionary', 'Industrials', 'Fin...</td>\n      <td>75.17</td>\n      <td>65.03</td>\n      <td>100.53</td>\n      <td>5.07</td>\n      <td>['USA']</td>\n      <td>['Founder Collective' 'SV Angel' 'True Venture...</td>\n    </tr>\n    <tr>\n      <th>20</th>\n      <td>/funding-round/b4de43b6a16955f2b2b258dbd33f4967</td>\n      <td>[ 184000 , 414705 )</td>\n      <td>seed</td>\n      <td>ISR</td>\n      <td>['Information Technology', 'Industrials']</td>\n      <td>26.00</td>\n      <td>26.00</td>\n      <td>72.10</td>\n      <td>1.00</td>\n      <td>['FRA']</td>\n      <td>['Kima Ventures']</td>\n    </tr>\n    <tr>\n      <th>21</th>\n      <td>/funding-round/3473e317f5cfbba5af9ed92e2ba24940</td>\n      <td>[ 20000000 , ... )</td>\n      <td>venture C</td>\n      <td>USA</td>\n      <td>['Health Care', 'Communication Services']</td>\n      <td>122.80</td>\n      <td>5.13</td>\n      <td>117.80</td>\n      <td>14.71</td>\n      <td>['USA']</td>\n      <td>['Google Ventures' 'Johnson &amp; Johnson Developm...</td>\n    </tr>\n    <tr>\n      <th>22</th>\n      <td>/funding-round/75cc2bfe5037393cb801b3365c52ef79</td>\n      <td>[ 20000000 , ... )</td>\n      <td>venture D</td>\n      <td>USA</td>\n      <td>['Health Care', 'Communication Services']</td>\n      <td>122.80</td>\n      <td>5.13</td>\n      <td>117.80</td>\n      <td>14.71</td>\n      <td>['USA' 'RUS']</td>\n      <td>['Google Ventures' 'MPM Capital' 'New Enterpri...</td>\n    </tr>\n    <tr>\n      <th>23</th>\n      <td>/funding-round/97062e0d50c2955cbe40bf8220d87b08</td>\n      <td>[ 20000000 , ... )</td>\n      <td>venture C</td>\n      <td>USA</td>\n      <td>['Health Care', 'Communication Services']</td>\n      <td>122.80</td>\n      <td>5.13</td>\n      <td>117.80</td>\n      <td>14.71</td>\n      <td>['USA']</td>\n      <td>['Johnson &amp; Johnson Development Corporation']</td>\n    </tr>\n    <tr>\n      <th>24</th>\n      <td>/funding-round/c27c1b420dfb34677a6ba449524f1c88</td>\n      <td>[ 10000000 , 20000000 )</td>\n      <td>venture B</td>\n      <td>USA</td>\n      <td>['Health Care', 'Communication Services']</td>\n      <td>122.80</td>\n      <td>5.13</td>\n      <td>117.80</td>\n      <td>14.71</td>\n      <td>['USA']</td>\n      <td>['Google' 'Sergey Brin']</td>\n    </tr>\n    <tr>\n      <th>25</th>\n      <td>/funding-round/cf66108828b7b22e45bbe02cf8a9fc50</td>\n      <td>[ 20000000 , ... )</td>\n      <td>venture E</td>\n      <td>USA</td>\n      <td>['Health Care', 'Communication Services']</td>\n      <td>122.80</td>\n      <td>5.13</td>\n      <td>117.80</td>\n      <td>14.71</td>\n      <td>['USA']</td>\n      <td>['Casdin Capital' 'Fidelity Management &amp; Resea...</td>\n    </tr>\n    <tr>\n      <th>26</th>\n      <td>/funding-round/f261366b4fbf1840ad71b20ea0d9c7ce</td>\n      <td>[ 10000000 , 20000000 )</td>\n      <td>venture A</td>\n      <td>USA</td>\n      <td>['Health Care', 'Communication Services']</td>\n      <td>122.80</td>\n      <td>5.13</td>\n      <td>117.80</td>\n      <td>14.71</td>\n      <td>['USA']</td>\n      <td>['Genentech' 'Google' 'Mohr Davidow Ventures' ...</td>\n    </tr>\n    <tr>\n      <th>27</th>\n      <td>/funding-round/3fce54b03edf36d1a5002b288be8fdeb</td>\n      <td>[ 6000000 , 10000000 )</td>\n      <td>venture B</td>\n      <td>SGP</td>\n      <td>['Industrials', 'Information Technology', 'Fin...</td>\n      <td>59.93</td>\n      <td>7.37</td>\n      <td>157.33</td>\n      <td>17.52</td>\n      <td>['JPN']</td>\n      <td>['GMO VenturePartners']</td>\n    </tr>\n    <tr>\n      <th>28</th>\n      <td>/funding-round/f3c7d2be5057f783a588d1598c06e4a5</td>\n      <td>[ 2100000 , 3791804 )</td>\n      <td>venture A</td>\n      <td>SGP</td>\n      <td>['Industrials', 'Information Technology', 'Fin...</td>\n      <td>59.93</td>\n      <td>7.37</td>\n      <td>157.33</td>\n      <td>17.52</td>\n      <td>['SGP']</td>\n      <td>['Digital Media Partners']</td>\n    </tr>\n    <tr>\n      <th>29</th>\n      <td>/funding-round/fc41599e5ce6654db9217e05e933e5a4</td>\n      <td>[ 6000000 , 10000000 )</td>\n      <td>venture C</td>\n      <td>SGP</td>\n      <td>['Industrials', 'Information Technology', 'Fin...</td>\n      <td>59.93</td>\n      <td>7.37</td>\n      <td>157.33</td>\n      <td>17.52</td>\n      <td>['HKG' 'JPN']</td>\n      <td>['Amun Capital' 'GMO VenturePartners']</td>\n    </tr>\n    <tr>\n      <th>30</th>\n      <td>/funding-round/ed719ecfd7240b23c3f4650aee650fa6</td>\n      <td>[ 791647 , 1300000 )</td>\n      <td>seed</td>\n      <td>USA</td>\n      <td>['Information Technology', 'Consumer Discretio...</td>\n      <td>13.83</td>\n      <td>13.83</td>\n      <td>65.03</td>\n      <td>1.00</td>\n      <td>['CHN' 'USA']</td>\n      <td>['Fine Charm Ventures' 'PreAngel' 'Silicon Val...</td>\n    </tr>\n    <tr>\n      <th>31</th>\n      <td>/funding-round/00dbbc0ec042d30a1ffd62e84c083812</td>\n      <td>[ 20000000 , ... )</td>\n      <td>venture C</td>\n      <td>USA</td>\n      <td>['Health Care']</td>\n      <td>103.93</td>\n      <td>8.73</td>\n      <td>106.67</td>\n      <td>13.60</td>\n      <td>['USA']</td>\n      <td>['Kleiner Perkins Caufield &amp; Byers' 'New Enter...</td>\n    </tr>\n    <tr>\n      <th>32</th>\n      <td>/funding-round/bf5cd3f9ff0e65fbfba24e731e56981c</td>\n      <td>[ 10000000 , 20000000 )</td>\n      <td>venture B</td>\n      <td>USA</td>\n      <td>['Health Care']</td>\n      <td>103.93</td>\n      <td>8.73</td>\n      <td>106.67</td>\n      <td>13.60</td>\n      <td>['USA']</td>\n      <td>['Kleiner Perkins Caufield &amp; Byers' 'New Enter...</td>\n    </tr>\n    <tr>\n      <th>33</th>\n      <td>/funding-round/d3e379e2461df51b66a75a4c732b3d06</td>\n      <td>[ 20000000 , ... )</td>\n      <td>venture D</td>\n      <td>USA</td>\n      <td>['Health Care']</td>\n      <td>103.93</td>\n      <td>8.73</td>\n      <td>106.67</td>\n      <td>13.60</td>\n      <td>['USA']</td>\n      <td>['Ally Bridge Group' 'Kleiner Perkins Caufield...</td>\n    </tr>\n    <tr>\n      <th>34</th>\n      <td>/funding-round/465afffbce6402a3fc84b9ffa438dfca</td>\n      <td>[ 184000 , 414705 )</td>\n      <td>seed</td>\n      <td>ESP</td>\n      <td>['Information Technology', 'Consumer Discretio...</td>\n      <td>48.80</td>\n      <td>39.63</td>\n      <td>48.43</td>\n      <td>2.29</td>\n      <td>['ESP']</td>\n      <td>['Wayra']</td>\n    </tr>\n    <tr>\n      <th>35</th>\n      <td>/funding-round/48212f931f542fdef78810bc87aef086</td>\n      <td>[ 6000000 , 10000000 )</td>\n      <td>venture B</td>\n      <td>GBR</td>\n      <td>['Information Technology', 'Consumer Discretio...</td>\n      <td>34.67</td>\n      <td>14.37</td>\n      <td>96.47</td>\n      <td>10.15</td>\n      <td>['ISR' 'RUS' 'USA' 'GBR']</td>\n      <td>['Cedar Fund' 'Leta Capital' 'Titanium Investm...</td>\n    </tr>\n    <tr>\n      <th>36</th>\n      <td>/funding-round/493f78ea0ca33cfac48a57b2351b154b</td>\n      <td>[ 3791804 , 6000000 )</td>\n      <td>venture A</td>\n      <td>GBR</td>\n      <td>['Information Technology', 'Consumer Discretio...</td>\n      <td>34.67</td>\n      <td>14.37</td>\n      <td>96.47</td>\n      <td>10.15</td>\n      <td>['ISR']</td>\n      <td>['Cedar Fund']</td>\n    </tr>\n    <tr>\n      <th>37</th>\n      <td>/funding-round/7210c966a3849016584fc8027ad3c584</td>\n      <td>[ 184000 , 414705 )</td>\n      <td>seed</td>\n      <td>RUS</td>\n      <td>['Information Technology', 'Consumer Discretio...</td>\n      <td>59.93</td>\n      <td>38.63</td>\n      <td>56.93</td>\n      <td>10.65</td>\n      <td>['RUS']</td>\n      <td>['Papillon ZAO' 'Skolkovo Foundation']</td>\n    </tr>\n    <tr>\n      <th>38</th>\n      <td>/funding-round/227b14ab43e8b9112aa9357d69662e5f</td>\n      <td>[ 791647 , 1300000 )</td>\n      <td>seed</td>\n      <td>USA</td>\n      <td>['Information Technology']</td>\n      <td>44.80</td>\n      <td>20.37</td>\n      <td>47.77</td>\n      <td>12.22</td>\n      <td>['USA']</td>\n      <td>['K9 Ventures' 'TEEC Angel Fund' 'Safa Rashtchy']</td>\n    </tr>\n    <tr>\n      <th>39</th>\n      <td>/funding-round/d976a3a9eaed96cbae0bd6c2158e2b35</td>\n      <td>[ 10000000 , 20000000 )</td>\n      <td>venture B</td>\n      <td>USA</td>\n      <td>['Consumer Discretionary', 'Energy', 'Informat...</td>\n      <td>113.73</td>\n      <td>71.00</td>\n      <td>120.80</td>\n      <td>7.12</td>\n      <td>['USA']</td>\n      <td>['Pond Ventures']</td>\n    </tr>\n    <tr>\n      <th>40</th>\n      <td>/funding-round/dd581bca505c94ccda21dab6a117a3df</td>\n      <td>[ 3791804 , 6000000 )</td>\n      <td>venture A</td>\n      <td>USA</td>\n      <td>['Consumer Discretionary', 'Energy', 'Informat...</td>\n      <td>113.73</td>\n      <td>71.00</td>\n      <td>120.80</td>\n      <td>7.12</td>\n      <td>['USA']</td>\n      <td>['Pond Ventures']</td>\n    </tr>\n    <tr>\n      <th>41</th>\n      <td>/funding-round/30959bbdf1abe7337856d98be84c5d22</td>\n      <td>[ 10000000 , 20000000 )</td>\n      <td>venture D</td>\n      <td>USA</td>\n      <td>['Communication Services', 'Information Techno...</td>\n      <td>131.00</td>\n      <td>16.33</td>\n      <td>136.80</td>\n      <td>14.33</td>\n      <td>['USA']</td>\n      <td>['Draper Fisher Jurvetson (DFJ)' 'Gannett Co.,...</td>\n    </tr>\n    <tr>\n      <th>42</th>\n      <td>/funding-round/603f50301d1e1ac7af790d2995f9c97a</td>\n      <td>[ 20000000 , ... )</td>\n      <td>venture E</td>\n      <td>USA</td>\n      <td>['Communication Services', 'Information Techno...</td>\n      <td>131.00</td>\n      <td>16.33</td>\n      <td>136.80</td>\n      <td>14.33</td>\n      <td>['USA' 'AUS']</td>\n      <td>['Draper Fisher Jurvetson (DFJ)' 'Gannet Capit...</td>\n    </tr>\n    <tr>\n      <th>43</th>\n      <td>/funding-round/632521040f9dc01fd294156a72bf1cf7</td>\n      <td>[ 6000000 , 10000000 )</td>\n      <td>venture C</td>\n      <td>USA</td>\n      <td>['Communication Services', 'Information Techno...</td>\n      <td>131.00</td>\n      <td>16.33</td>\n      <td>136.80</td>\n      <td>14.33</td>\n      <td>['USA']</td>\n      <td>['Draper Fisher Jurvetson (DFJ)' 'Gannett Co.,...</td>\n    </tr>\n    <tr>\n      <th>44</th>\n      <td>/funding-round/acf6113885ae9c45d17726e67b68b14f</td>\n      <td>[ 10000000 , 20000000 )</td>\n      <td>venture D</td>\n      <td>USA</td>\n      <td>['Communication Services', 'Information Techno...</td>\n      <td>131.00</td>\n      <td>16.33</td>\n      <td>136.80</td>\n      <td>14.33</td>\n      <td>['USA']</td>\n      <td>['Draper Fisher Jurvetson (DFJ)' 'Gannett Co.,...</td>\n    </tr>\n    <tr>\n      <th>45</th>\n      <td>/funding-round/b0a49655b0ed50e73250d391ef1a0ab0</td>\n      <td>[ 184000 , 414705 )</td>\n      <td>seed</td>\n      <td>USA</td>\n      <td>['Information Technology', 'Consumer Discretio...</td>\n      <td>27.67</td>\n      <td>27.67</td>\n      <td>47.77</td>\n      <td>1.00</td>\n      <td>['USA']</td>\n      <td>['The Startup Factory']</td>\n    </tr>\n    <tr>\n      <th>46</th>\n      <td>/funding-round/0288136438e847293e62ef3b369326cc</td>\n      <td>[ 791647 , 1300000 )</td>\n      <td>seed</td>\n      <td>GBR</td>\n      <td>['Communication Services', 'Information Techno...</td>\n      <td>57.67</td>\n      <td>28.03</td>\n      <td>69.83</td>\n      <td>7.41</td>\n      <td>['GBR']</td>\n      <td>['Northstar Ventures']</td>\n    </tr>\n    <tr>\n      <th>47</th>\n      <td>/funding-round/0465733a4a7a6bd3914ce9e3b11243e8</td>\n      <td>[ 791647 , 1300000 )</td>\n      <td>seed</td>\n      <td>GBR</td>\n      <td>['Communication Services', 'Information Techno...</td>\n      <td>57.67</td>\n      <td>28.03</td>\n      <td>69.83</td>\n      <td>7.41</td>\n      <td>['GBR']</td>\n      <td>['Angel CoFund' 'Rivers Capital Partners'\\n 'T...</td>\n    </tr>\n    <tr>\n      <th>48</th>\n      <td>/funding-round/18ca0663d450efc3ef637f41a906ee31</td>\n      <td>[ 791647 , 1300000 )</td>\n      <td>seed</td>\n      <td>GBR</td>\n      <td>['Communication Services', 'Information Techno...</td>\n      <td>57.67</td>\n      <td>28.03</td>\n      <td>69.83</td>\n      <td>7.41</td>\n      <td>['GBR']</td>\n      <td>['Rivers Capital Partners']</td>\n    </tr>\n    <tr>\n      <th>49</th>\n      <td>/funding-round/a5a687f16807b2c83265022b4ab9a520</td>\n      <td>[ 791647 , 1300000 )</td>\n      <td>seed</td>\n      <td>GBR</td>\n      <td>['Communication Services', 'Information Techno...</td>\n      <td>57.67</td>\n      <td>28.03</td>\n      <td>69.83</td>\n      <td>7.41</td>\n      <td>['GBR']</td>\n      <td>['Rivers Capital Partners']</td>\n    </tr>\n  </tbody>\n</table>\n</div>"
     },
     "metadata": {}
    }
   ]
  },
  {
   "cell_type": "code",
   "metadata": {
    "cell_id": "e071f1880b46485f9459be32c633fe68",
    "tags": [],
    "deepnote_to_be_reexecuted": false,
    "source_hash": "43076a33",
    "execution_start": 1651615485338,
    "execution_millis": 0,
    "deepnote_cell_type": "code",
    "deepnote_cell_height": 225
   },
   "source": "investor_name = np.unique(dashboard_input_data['investor_name'])\ninvestor_location = np.unique(dashboard_input_data['investor_country_code'])\nround_ = np.unique(dashboard_input_data['funding_round'])\ncompany_location = np.unique(dashboard_input_data['company_country_code'])\ncompany_age = np.unique(dashboard_input_data['company_age'])\ntime_first_invest = np.unique(dashboard_input_data['time_since_first_investment'])\ntime_last_invest = np.unique(dashboard_input_data['time_since_last_investment'])\navg_time = np.unique(dashboard_input_data['avg_time_between_rounds'])\nsector = np.unique(dashboard_input_data['company_sector'])",
   "execution_count": 11,
   "outputs": []
  },
  {
   "cell_type": "code",
   "metadata": {
    "cell_id": "389783f6f85d4cf19b203550e99e433f",
    "deepnote_variable_name": "Company_Location",
    "deepnote_variable_value": "USA",
    "deepnote_variable_options": [
     "AUS",
     "CHN",
     "ESP",
     "GBR",
     "ISR",
     "ITA",
     "RUS",
     "SGP",
     "USA"
    ],
    "deepnote_variable_custom_options": [
     "Option 1",
     "Option 2"
    ],
    "deepnote_variable_selected_variable": "company_location",
    "deepnote_variable_select_type": "from-variable",
    "deepnote_to_be_reexecuted": false,
    "source_hash": "fabbda1a",
    "execution_start": 1651615485381,
    "execution_millis": 83161119,
    "deepnote_app_coordinates": {
     "x": 16,
     "y": 0,
     "w": 8,
     "h": 4
    },
    "deepnote_cell_type": "input-select"
   },
   "source": "Company_Location = 'USA'",
   "execution_count": 12,
   "outputs": []
  },
  {
   "cell_type": "code",
   "metadata": {
    "cell_id": "f8dcf05bebaa4240bbc7684ba80b99d5",
    "deepnote_variable_name": "Company_Age",
    "deepnote_variable_value": "59.93",
    "deepnote_variable_options": [
     "33.37",
     "46.73",
     "47.77",
     "48.43",
     "50.83",
     "52.87",
     "56.93",
     "59.93",
     "65.03",
     "66.07",
     "69.83",
     "71.77",
     "72.1",
     "96.47",
     "100.53",
     "106.67",
     "117.8",
     "120.8",
     "132.97",
     "136.8",
     "157.33"
    ],
    "deepnote_variable_custom_options": [
     "Option 1",
     "Option 2"
    ],
    "deepnote_variable_selected_variable": "company_age",
    "deepnote_variable_select_type": "from-variable",
    "deepnote_to_be_reexecuted": false,
    "source_hash": "4ed1da02",
    "execution_start": 1651615485382,
    "execution_millis": 0,
    "deepnote_cell_type": "input-select"
   },
   "source": "Company_Age = '59.93'",
   "execution_count": 13,
   "outputs": []
  },
  {
   "cell_type": "code",
   "metadata": {
    "cell_id": "f81f67f54d9a48f98b263c5a8a8148e1",
    "deepnote_variable_name": "Sector",
    "deepnote_variable_value": "['Information Technology']",
    "deepnote_variable_options": [
     "['Communication Services', 'Information Technology', 'Consumer Discretionary']",
     "['Communication Services', 'Information Technology', 'Financials']",
     "['Communication Services', 'Information Technology']",
     "['Consumer Discretionary', 'Energy', 'Information Technology']",
     "['Consumer Discretionary', 'Industrials', 'Financials']",
     "['Consumer Discretionary', 'Information Technology', 'Communication Services']",
     "['Consumer Discretionary']",
     "['Financials']",
     "['Health Care', 'Communication Services']",
     "['Health Care']",
     "['Industrials', 'Information Technology', 'Financials']",
     "['Industrials']",
     "['Information Technology', 'Consumer Discretionary', 'Communication Services']",
     "['Information Technology', 'Consumer Discretionary', 'Consumer Staples', 'Industrials']",
     "['Information Technology', 'Consumer Discretionary', 'Industrials']",
     "['Information Technology', 'Consumer Discretionary']",
     "['Information Technology', 'Industrials']",
     "['Information Technology']"
    ],
    "deepnote_variable_custom_options": [
     "Option 1",
     "Option 2"
    ],
    "deepnote_variable_selected_variable": "sector",
    "deepnote_variable_select_type": "from-variable",
    "deepnote_to_be_reexecuted": false,
    "source_hash": "14dd906e",
    "execution_start": 1651615485382,
    "execution_millis": 83157919,
    "deepnote_app_coordinates": {
     "x": 16,
     "y": 4,
     "w": 8,
     "h": 4
    },
    "deepnote_cell_type": "input-select"
   },
   "source": "Sector = '[\\'Information Technology\\']'",
   "execution_count": 14,
   "outputs": []
  },
  {
   "cell_type": "code",
   "metadata": {
    "cell_id": "e029fe54ef5f48c980ee9dec08e293c7",
    "deepnote_variable_name": "Round",
    "deepnote_variable_value": "seed",
    "deepnote_variable_options": [
     "seed",
     "venture A",
     "venture B",
     "venture C",
     "venture D",
     "venture E"
    ],
    "deepnote_variable_custom_options": [
     "Option 1",
     "Option 2"
    ],
    "deepnote_variable_selected_variable": "round_",
    "deepnote_variable_select_type": "from-variable",
    "deepnote_to_be_reexecuted": false,
    "source_hash": "c0a76ef8",
    "execution_start": 1651615485383,
    "execution_millis": 83709408,
    "deepnote_app_coordinates": {
     "x": 16,
     "y": 8,
     "w": 8,
     "h": 4
    },
    "deepnote_cell_type": "input-select"
   },
   "source": "Round = 'seed'",
   "execution_count": 15,
   "outputs": []
  },
  {
   "cell_type": "code",
   "metadata": {
    "cell_id": "3659c451937c4f6cb2e7f3bfa180d60c",
    "deepnote_variable_name": "Investor_Name",
    "deepnote_variable_value": "['Nexus Venture Partners']",
    "deepnote_variable_options": [
     "['1776 Ventures' 'Ense Group' 'Kensington Partners']",
     "['1776 Ventures' 'Kensington Capital Partners Limited']",
     "['AOL Ventures' 'Founder Collective' 'True Ventures' 'Brendan McGovern'\n 'David Mahoney' 'James Joaquin' 'Nion McEvoy' 'Scott Heiferman']",
     "['Adventure Capital' 'SingTel Innov8']",
     "['Ally Bridge Group' 'Kleiner Perkins Caufield & Byers'\n 'New Enterprise Associates' 'Rock Springs Capital']",
     "['Amun Capital' 'GMO VenturePartners']",
     "['Angel CoFund' 'Rivers Capital Partners'\n 'Tweed Renaissance Investors Capital']",
     "['Baidu' 'United Electronics Co.']",
     "['BlueRun Ventures' 'Founders Fund' 'SV Angel' 'Mark Kingdon']",
     "['BlueRun Ventures' 'Founders Fund']",
     "['CRV' 'General Catalyst Partners' 'SV Angel' 'True Ventures'\n 'Gary Vaynerchuk' 'Keith Rabois' 'Michael Dearing' 'Naval Ravikant']",
     "['Camp One Ventures' 'Kima Ventures' 'Rick Marini' 'VK Rajaram']",
     "['Capital One' 'Nexus Venture Partners' 'Paxion Capital Partners'\n 'Transamerica']",
     "['Casdin Capital' 'Fidelity Management & Research'\n 'WuXi Healthcare Ventures' 'Xfund']",
     "['Cedar Fund' 'Leta Capital' 'Titanium Investments'\n 'Venrex Investment Management']",
     "['Cedar Fund']",
     "['Club Italia Investimenti' 'United Ventures' 'Massimiliano Magrini']",
     "['Digital Media Partners']",
     "['Draper Fisher Jurvetson (DFJ)' 'Gannet Capital' 'Mezzanin Kapital'\n 'U.S. Venture Partners (USVP)' 'Vulcan Capital']",
     "['Draper Fisher Jurvetson (DFJ)' 'Gannett Co., Inc.'\n 'Mitsui & Co. Global Investment' 'U.S. Venture Partners (USVP)'\n 'Vulcan Capital']",
     "['Draper Fisher Jurvetson (DFJ)' 'Gannett Co., Inc.' 'Sand Hill Capital'\n 'U.S. Venture Partners (USVP)' 'Dan Ehrman' 'Tim Connors']",
     "['Felicis Ventures' 'FLOODGATE' 'Founder Collective' 'Greylock Partners'\n 'Signatures Capital' 'Bobby Yazdani' 'Caterina Fake' 'Chris Sacca'\n 'Keith Rabois' 'Paul Buchheit' 'Ron Conway']",
     "['Fine Charm Ventures' 'PreAngel' 'Silicon Valley Growth Syndicate'\n 'StartX' 'StartX Fund' 'TEEC Angel Fund']",
     "['Founder Collective' 'SV Angel' 'True Ventures' 'Caterina Fake'\n 'David Mahoney' 'James Joaquin' 'Nion McEvoy' 'Scott Heiferman'\n 'Zach Klein']",
     "['GMO VenturePartners']",
     "['Genentech' 'Google' 'Mohr Davidow Ventures' 'New Enterprise Associates'\n 'Stephens Investment Management']",
     "['Google Ventures' 'Johnson & Johnson Development Corporation'\n 'New Enterprise Associates']",
     "['Google Ventures' 'MPM Capital' 'New Enterprise Associates'\n 'Anne Wojcicki' 'Sergey Brin' 'Yuri Milner']",
     "['Google' 'Sergey Brin']",
     "['H-FARM' 'United Ventures' 'Massimiliano Magrini']",
     "['H-FARM']",
     "['Johnson & Johnson Development Corporation']",
     "['K9 Ventures' 'TEEC Angel Fund' 'Safa Rashtchy']",
     "['Kima Ventures']",
     "['Kleiner Perkins Caufield & Byers' 'New Enterprise Associates'\n 'The Column Group']",
     "['Kleiner Perkins Caufield & Byers' 'New Enterprise Associates']",
     "['Nexus Venture Partners' 'Transamerica Ventures' 'Ash Bhardwaj'\n 'Michael Marks' 'Rajesh Ambati' 'Rakesh Mathur']",
     "['Nexus Venture Partners']",
     "['Northstar Ventures']",
     "['Papillon ZAO' 'Skolkovo Foundation']",
     "['Pond Ventures']",
     "['Rivers Capital Partners']",
     "['Sequoia Capital' 'Zero2IPO Ventures']",
     "['Softbank China Venture Capital']",
     "['The Startup Factory']",
     "['Wayra']",
     "['Y Combinator']"
    ],
    "deepnote_variable_custom_options": [
     "Option 1",
     "Option 2"
    ],
    "deepnote_variable_selected_variable": "investor_name",
    "deepnote_variable_select_type": "from-variable",
    "deepnote_to_be_reexecuted": false,
    "source_hash": "7cda2be4",
    "execution_start": 1651615485403,
    "execution_millis": 83166680,
    "deepnote_app_coordinates": {
     "x": 16,
     "y": 12,
     "w": 8,
     "h": 4
    },
    "deepnote_cell_type": "input-select"
   },
   "source": "Investor_Name = '[\\'Nexus Venture Partners\\']'",
   "execution_count": 16,
   "outputs": []
  },
  {
   "cell_type": "code",
   "metadata": {
    "cell_id": "abbea153d1a74391872b70e4609ddf9f",
    "deepnote_variable_name": "Investor_Location",
    "deepnote_variable_value": "['USA']",
    "deepnote_variable_options": [
     "['AUS' 'SGP']",
     "['CHN' 'USA']",
     "['CHN']",
     "['ESP']",
     "['FRA']",
     "['GBR']",
     "['HKG' 'JPN']",
     "['ISR' 'RUS' 'USA' 'GBR']",
     "['ISR']",
     "['ITA']",
     "['JPN']",
     "['RUS']",
     "['SGP']",
     "['USA' 'AUS']",
     "['USA' 'CAN']",
     "['USA' 'CHN']",
     "['USA' 'FRA']",
     "['USA' 'RUS']",
     "['USA']"
    ],
    "deepnote_variable_custom_options": [
     "Option 1",
     "Option 2"
    ],
    "deepnote_variable_selected_variable": "investor_location",
    "deepnote_variable_select_type": "from-variable",
    "deepnote_to_be_reexecuted": false,
    "source_hash": "912998aa",
    "execution_start": 1651615485404,
    "execution_millis": 83153713,
    "deepnote_app_coordinates": {
     "x": 16,
     "y": 16,
     "w": 8,
     "h": 4
    },
    "deepnote_cell_type": "input-select"
   },
   "source": "Investor_Location = '[\\'USA\\']'",
   "execution_count": 17,
   "outputs": []
  },
  {
   "cell_type": "code",
   "metadata": {
    "cell_id": "1b2dce93658140459a65c139f9b96306",
    "deepnote_variable_name": "Time_Since_First_Investment",
    "deepnote_variable_value": "35.5",
    "deepnote_variable_options": [
     "6.07",
     "13.83",
     "19.5",
     "26.0",
     "27.67",
     "33.27",
     "34.67",
     "35.5",
     "37.13",
     "43.73",
     "44.8",
     "48.8",
     "53.27",
     "57.67",
     "59.93",
     "67.97",
     "72.1",
     "75.17",
     "78.23",
     "103.93",
     "113.73",
     "120.8",
     "122.8",
     "131.0"
    ],
    "deepnote_variable_custom_options": [
     "Option 1",
     "Option 2"
    ],
    "deepnote_variable_selected_variable": "time_first_invest",
    "deepnote_variable_select_type": "from-variable",
    "deepnote_to_be_reexecuted": false,
    "source_hash": "6c75bc36",
    "execution_start": 1651615485405,
    "execution_millis": 83095170,
    "deepnote_cell_type": "input-select"
   },
   "source": "Time_Since_First_Investment = '35.5'",
   "execution_count": 18,
   "outputs": []
  },
  {
   "cell_type": "code",
   "metadata": {
    "cell_id": "42fa1dafc16d494cafc26065869b746e",
    "deepnote_variable_name": "Time_Since_Last_Investment",
    "deepnote_variable_value": "1.0",
    "deepnote_variable_options": [
     "1.0",
     "5.13",
     "6.07",
     "7.37",
     "7.93",
     "8.73",
     "13.83",
     "14.37",
     "16.33",
     "18.37",
     "19.5",
     "20.37",
     "22.23",
     "26.0",
     "27.67",
     "28.03",
     "29.53",
     "29.57",
     "38.63",
     "39.63",
     "56.03",
     "58.4",
     "65.03",
     "67.97",
     "71.0"
    ],
    "deepnote_variable_custom_options": [
     "Option 1",
     "Option 2"
    ],
    "deepnote_variable_selected_variable": "time_last_invest",
    "deepnote_variable_select_type": "from-variable",
    "deepnote_to_be_reexecuted": false,
    "source_hash": "60093cb8",
    "execution_start": 1651615485417,
    "execution_millis": 83709419,
    "deepnote_cell_type": "input-select"
   },
   "source": "Time_Since_Last_Investment = '1.0'",
   "execution_count": 19,
   "outputs": []
  },
  {
   "cell_type": "code",
   "metadata": {
    "cell_id": "769bbf9e1e4946ac97da34b6ae41481a",
    "deepnote_variable_name": "Average_Time_Between_Investments",
    "deepnote_variable_value": "8.67",
    "deepnote_variable_options": [
     "1.0",
     "2.29",
     "4.72",
     "5.07",
     "6.26",
     "6.85",
     "7.12",
     "7.41",
     "8.44",
     "8.67",
     "10.15",
     "10.34",
     "10.65",
     "11.1",
     "12.22",
     "13.6",
     "14.33",
     "14.71",
     "17.52",
     "30.42"
    ],
    "deepnote_variable_custom_options": [
     "Option 1",
     "Option 2"
    ],
    "deepnote_variable_selected_variable": "avg_time",
    "deepnote_variable_select_type": "from-variable",
    "deepnote_to_be_reexecuted": false,
    "source_hash": "d3b88109",
    "execution_start": 1651615485418,
    "execution_millis": 0,
    "deepnote_cell_type": "input-select"
   },
   "source": "Average_Time_Between_Investments = '8.67'",
   "execution_count": 20,
   "outputs": []
  },
  {
   "cell_type": "code",
   "metadata": {
    "cell_id": "5196c90f69444bf6990db56bc9a7cbbb",
    "tags": [],
    "deepnote_to_be_reexecuted": false,
    "source_hash": "4cc3f8fd",
    "execution_start": 1651615485429,
    "execution_millis": 6,
    "deepnote_cell_type": "code",
    "deepnote_cell_height": 99
   },
   "source": "output = dashboard_input_data.loc[(dashboard_input_data['company_country_code']== Company_Location) & (dashboard_input_data['company_age']== float(Company_Age)) & (dashboard_input_data['company_sector']== Sector) & (dashboard_input_data['funding_round']== Round) & (dashboard_input_data['investor_name']== Investor_Name) & (dashboard_input_data['investor_country_code']== Investor_Location) & (dashboard_input_data['time_since_first_investment']== float(Time_Since_First_Investment)) & (dashboard_input_data['time_since_last_investment']== float(Time_Since_Last_Investment)) & (dashboard_input_data['avg_time_between_rounds']== float(Average_Time_Between_Investments))]\n",
   "execution_count": 21,
   "outputs": []
  },
  {
   "cell_type": "code",
   "metadata": {
    "cell_id": "a25eab0bcb464f90ba12fb45ef569d92",
    "tags": [],
    "deepnote_to_be_reexecuted": false,
    "source_hash": "ba00e866",
    "execution_start": 1651615485439,
    "execution_millis": 17,
    "deepnote_app_coordinates": {
     "x": 16,
     "y": 20,
     "w": 5,
     "h": 4
    },
    "deepnote_app_is_code_hidden": true,
    "deepnote_cell_type": "code",
    "deepnote_cell_height": 132
   },
   "source": "print(output['interval'])",
   "execution_count": 22,
   "outputs": [
    {
     "name": "stdout",
     "text": "0    [ 791647 , 1300000 )\nName: interval, dtype: object\n",
     "output_type": "stream"
    }
   ]
  },
  {
   "cell_type": "code",
   "metadata": {
    "cell_id": "efe3875d82674a2288b64dc60fc8ad06",
    "tags": [],
    "deepnote_to_be_reexecuted": false,
    "source_hash": "b623e53d",
    "execution_start": 1651615485444,
    "execution_millis": 13,
    "deepnote_cell_type": "code",
    "deepnote_cell_height": 81
   },
   "source": "",
   "execution_count": 22,
   "outputs": []
  },
  {
   "cell_type": "markdown",
   "source": "<a style='text-decoration:none;line-height:16px;display:flex;color:#5B5B62;padding:10px;justify-content:end;' href='https://deepnote.com?utm_source=created-in-deepnote-cell&projectId=f906c6b7-4fb3-42a0-9ffa-f1056dea520e' target=\"_blank\">\n<img alt='Created in deepnote.com' style='display:inline;max-height:16px;margin:0px;margin-right:7.5px;' src='data:image/svg+xml;base64,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' > </img>\nCreated in <span style='font-weight:600;margin-left:4px;'>Deepnote</span></a>",
   "metadata": {
    "tags": [],
    "created_in_deepnote_cell": true,
    "deepnote_cell_type": "markdown"
   }
  }
 ],
 "nbformat": 4,
 "nbformat_minor": 2,
 "metadata": {
  "orig_nbformat": 2,
  "deepnote": {},
  "deepnote_notebook_id": "905bd48b-726a-4685-a761-ca5d46bd8b4b",
  "deepnote_app_layout": "dashboard",
  "deepnote_execution_queue": []
 }
}